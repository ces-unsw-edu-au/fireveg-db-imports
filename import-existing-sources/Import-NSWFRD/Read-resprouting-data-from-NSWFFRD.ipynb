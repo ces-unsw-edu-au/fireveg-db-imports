{
 "cells": [
  {
   "cell_type": "markdown",
   "id": "40cccb9a-0d5d-48d0-8f80-6bc1e64ae04b",
   "metadata": {},
   "source": [
    "# Read Resprouting data from NSWFRD 2014\n",
    "Read the spreadsheet from NSW Flora Fire response database and extract information from resprouting values and references.\n",
    "We will use the _openpyxl_ library in ***python***"
   ]
  },
  {
   "cell_type": "code",
   "execution_count": 1,
   "id": "3f7ca065-903f-494d-87b5-e84071600c82",
   "metadata": {},
   "outputs": [],
   "source": [
    "import openpyxl\n",
    "from pathlib import Path\n",
    "import os\n",
    "import re\n",
    "import copy"
   ]
  },
  {
   "cell_type": "markdown",
   "id": "4961e0e5-2376-4c15-8cd3-d7d676ba9086",
   "metadata": {},
   "source": [
    "We need to define a path to locate the documents relative to the current repository directory"
   ]
  },
  {
   "cell_type": "code",
   "execution_count": 2,
   "id": "bd5cda64-dd79-4c69-b543-2358bdb7de08",
   "metadata": {},
   "outputs": [],
   "source": [
    "repodir = Path(\"../../\") \n",
    "inputdir = repodir / \"data/\""
   ]
  },
  {
   "cell_type": "markdown",
   "id": "8ba10436-c2f9-4ff9-8498-05775a56aca9",
   "metadata": {
    "tags": []
   },
   "source": [
    "## Open the workbook and read main spreadsheet\n",
    "Here we will load the workbook (_wb_):"
   ]
  },
  {
   "cell_type": "code",
   "execution_count": 3,
   "id": "706eef5f-57b6-43bd-8868-458d8222305d",
   "metadata": {},
   "outputs": [],
   "source": [
    "wb = openpyxl.load_workbook(inputdir / \"NSWFFRDv2.1.xlsx\")"
   ]
  },
  {
   "cell_type": "markdown",
   "id": "53a420a2-abf9-40d3-b5a1-f805445a0259",
   "metadata": {},
   "source": [
    "We will use the sheet names to read them. We need access to sheet 'Species data', 'References' and 'VA Groups':"
   ]
  },
  {
   "cell_type": "code",
   "execution_count": 4,
   "id": "e3e0829d-fdcb-4601-a650-e63c0c7b74ee",
   "metadata": {},
   "outputs": [],
   "source": [
    "species_data = wb['SpeciesData']\n",
    "va_groups = wb['VA Groups']\n",
    "references = wb['References']"
   ]
  },
  {
   "cell_type": "markdown",
   "id": "bb321021-9b18-438b-86a4-1d9df77ca1f2",
   "metadata": {},
   "source": [
    "In the case of the resprouting we need to decifer the information in columns _J_ ('Fireresponse'), _BN_ ('NFRR data') and _BO_ ('Additional fire response data').\n",
    "\n",
    "We can use square brackets to refer to a column and then use python indices (starting with _0_ for the top row) to slice it. We use the property _value_ to show their stored content. "
   ]
  },
  {
   "cell_type": "code",
   "execution_count": 5,
   "id": "f493c48d-3a41-449b-ada6-7c633cd3e498",
   "metadata": {},
   "outputs": [
    {
     "name": "stdout",
     "output_type": "stream",
     "text": [
      "NFRR data\n",
      "8CN\n"
     ]
    }
   ],
   "source": [
    "print(species_data['BN'][1].value)\n",
    "print(species_data['BN'][2].value)"
   ]
  },
  {
   "cell_type": "markdown",
   "id": "2d36eb0a-d475-4783-b21f-101d7b0e6778",
   "metadata": {},
   "source": [
    "Alternatively, we can use the function _cell_ to retrieve individual cells. Indices here follow the spreadsheet convention and start with _1_ for the top row. The header is in the second row, the first value is in the third row:"
   ]
  },
  {
   "cell_type": "code",
   "execution_count": 6,
   "id": "6f64de95-fb8a-401b-be03-61cdefefcc32",
   "metadata": {},
   "outputs": [
    {
     "name": "stdout",
     "output_type": "stream",
     "text": [
      "Fireresponse\n",
      "S\n"
     ]
    }
   ],
   "source": [
    "print(species_data.cell(row=2,column=10).value)\n",
    "print(species_data.cell(row=3,column=10).value)"
   ]
  },
  {
   "cell_type": "markdown",
   "id": "ead9b28c-d2ba-429d-a869-98f55a366c84",
   "metadata": {
    "jp-MarkdownHeadingCollapsed": true,
    "tags": []
   },
   "source": [
    "### Example for one species:\n",
    "Let's start checking the columns we need:"
   ]
  },
  {
   "cell_type": "code",
   "execution_count": 7,
   "id": "175fb7be-d526-4e25-9c84-af14876fdd01",
   "metadata": {},
   "outputs": [
    {
     "name": "stdout",
     "output_type": "stream",
     "text": [
      "Current Scientific Name / Fireresponse / Comments on regeneration / NFRR data / Additional fire response data\n"
     ]
    }
   ],
   "source": [
    "sp_col='A'\n",
    "fireresponse_col='J'\n",
    "comment_col='K'\n",
    "NFRR_col='BN'\n",
    "oref_col='BO'\n",
    "\n",
    "print(\"%s / %s / %s / %s / %s\" %\n",
    "(species_data[sp_col][1].value,\n",
    "species_data[fireresponse_col][1].value,\n",
    "species_data[comment_col][1].value,\n",
    "species_data[NFRR_col][1].value,\n",
    "species_data[oref_col][1].value))"
   ]
  },
  {
   "cell_type": "markdown",
   "id": "16b66e9a-916c-4337-ac11-6897261302df",
   "metadata": {
    "tags": []
   },
   "source": [
    "Descriptions of these columns are found in the spreadsheet:\n",
    "> Fire Response: S=seeder, R=resprouter. r=usually killed but sometimes resprouts, s=usually resprouts but sometimes killed; these may indicate a variable response seen by one observer, or a conflict between different observers (see comments column). When an equal number of references list the species as seeder or resprouter, this column reads as 'S/R' and details are given in the comments cloumn. Ideally fire response should be defined by mortality >70%=seeder, mortality <30%=resprouter [Gill & Bradstock, 1992].\n",
    "\n",
    "> Comments on regeneration Notes on conflicting or variable regeneration information. May indicate response to various fire intensity levels; level of mortality seen; a variable fire response seen by one observer within the same species. Some species with distinct recordings for both resprouter and seeder have been listed seperately as 'fire sensitive/tolerant variety'.\n",
    "\n",
    "> NFRR data: Fire response data from CSIRO National Fire Response Register, given in original format (see VA sheet for regeneration codes, Reference sheet for reference codes). Corrections made to these after checking original references in brown text: all brown (eg 5W) =species missed from reference; regen code brown (eg 5W) =corrected regen code; strikethrough (eg 5W) =species not in reference\n",
    "\n",
    "> Additional Fire Response data: Fire response data from other references. See VA Groups sheet for regeneration codes; see References sheet for reference codes"
   ]
  },
  {
   "cell_type": "markdown",
   "id": "c33aeeae-0159-4530-83fc-825aede0d86e",
   "metadata": {},
   "source": [
    "Now select one record:"
   ]
  },
  {
   "cell_type": "code",
   "execution_count": 8,
   "id": "04df0820-c6b2-41f8-b541-c55d023a55fb",
   "metadata": {
    "tags": []
   },
   "outputs": [
    {
     "name": "stdout",
     "output_type": "stream",
     "text": [
      "Abutilon oxycarpum / S / None / 8BD / II-95b\n"
     ]
    }
   ],
   "source": [
    "row_index=3\n",
    "\n",
    "print(\"%s / %s / %s / %s / %s\" %\n",
    "(species_data[sp_col][row_index].value,\n",
    "species_data[fireresponse_col][row_index].value,\n",
    "species_data[comment_col][row_index].value,\n",
    "species_data[NFRR_col][row_index].value,\n",
    "species_data[oref_col][row_index].value))\n"
   ]
  },
  {
   "cell_type": "markdown",
   "id": "96a61304-e104-4e14-a644-6f21321e9ee2",
   "metadata": {},
   "source": [
    "The code '8BD' refers to 'Regeneration category' 8 and the reference code 'BD'. Similarly, 'II-95b' can be decomposed into regeneration categories IIb and reference 95. We will need to create python dictionaries to link this information across the spreadsheets."
   ]
  },
  {
   "cell_type": "markdown",
   "id": "bb2823ab-30b2-456b-8f4f-c388411849e8",
   "metadata": {
    "jp-MarkdownHeadingCollapsed": true,
    "tags": []
   },
   "source": [
    "### Look-up table for VA groups\n",
    "\n",
    "For the VA groups we need colums A, B and C:"
   ]
  },
  {
   "cell_type": "code",
   "execution_count": 9,
   "id": "65ad66dd-8b4a-4ca5-be1a-6530c65c8345",
   "metadata": {},
   "outputs": [],
   "source": [
    "reg_cats=list()\n",
    "for row in range(3,13):\n",
    "    record={\"NFRRcode\":va_groups['A'][row].value,\n",
    "    \"othercode\":va_groups['B'][row].value,\n",
    "     \"category\":va_groups['C'][row].value\n",
    "    }\n",
    "    reg_cats.append(record)"
   ]
  },
  {
   "cell_type": "code",
   "execution_count": 10,
   "id": "ea22a905-28bf-42b0-9098-b0b74f75fee2",
   "metadata": {},
   "outputs": [
    {
     "data": {
      "text/plain": [
       "{'NFRRcode': 1,\n",
       " 'othercode': 'I',\n",
       " 'category': 'Killed by 100% scorch; seed storage on plant'}"
      ]
     },
     "execution_count": 10,
     "metadata": {},
     "output_type": "execute_result"
    }
   ],
   "source": [
    "reg_cats[0]"
   ]
  },
  {
   "cell_type": "markdown",
   "id": "e950bb7d-eb4d-4606-a693-799d8a5d85bf",
   "metadata": {},
   "source": [
    "Now if we need to lookup one value we can use a filter:"
   ]
  },
  {
   "cell_type": "code",
   "execution_count": 11,
   "id": "d22290e8-a064-4f7b-8ab2-38f7018cec62",
   "metadata": {},
   "outputs": [
    {
     "name": "stdout",
     "output_type": "stream",
     "text": [
      "NFRR code of 1 refers to 'Killed by 100% scorch; seed storage on plant'\n"
     ]
    }
   ],
   "source": [
    "qry=1\n",
    "for elem in filter(lambda x: x['NFRRcode'] == qry, reg_cats):\n",
    "    print(\"NFRR code of %s refers to '%s'\" % (qry, elem['category']))"
   ]
  },
  {
   "cell_type": "markdown",
   "id": "45332b63-22e0-419b-a5cc-26585f97ab6f",
   "metadata": {
    "jp-MarkdownHeadingCollapsed": true,
    "tags": []
   },
   "source": [
    "### List of references \n",
    "We do the same for the list of references in spreadsheet 'References'.\n",
    "\n",
    "We will need a function to create code for the references based on the list of authors and date:\n"
   ]
  },
  {
   "cell_type": "code",
   "execution_count": 12,
   "id": "a7f43fbe-54e8-4e5e-952a-3b01ce42476e",
   "metadata": {
    "tags": []
   },
   "outputs": [
    {
     "name": "stdout",
     "output_type": "stream",
     "text": [
      "Neal Enright and Pembe Ata, Grampians and Little Desert N.P.'s, Vic. (unpublished)\n"
     ]
    },
    {
     "data": {
      "text/plain": [
       "'Neal Enright Pembe Ata Grampians Little Desert Vic'"
      ]
     },
     "execution_count": 12,
     "metadata": {},
     "output_type": "execute_result"
    }
   ],
   "source": [
    "r = re.compile(\"[A-Z][a-z]+\")\n",
    "def create_ref_code(x):\n",
    "    if x.__contains__(\"personal communication\"):\n",
    "        y = x[0:x.find(\" personal\")].replace(\",\",\"\")\n",
    "        year = \"pers. comm.\"\n",
    "    elif x.__contains__(\"unpublished\"):\n",
    "        y = x[0:x.find(\"unpublished\")].replace(\",\",\"\")\n",
    "        year = \"unpub.\"\n",
    "    else:\n",
    "        y = x[0:x.find(\")\")].replace(\",\",\"\")\n",
    "        year = ''.join(re.findall(\"\\d+\", y))\n",
    "    z = list(filter(r.match, y.split()))\n",
    "    author = ' '.join(z)\n",
    "    final_code =  \"%s %s\" % (author, year)\n",
    "    if (len(final_code)>50):\n",
    "        final_code=final_code[0:50]\n",
    "    return(final_code)\n",
    "\n",
    "val=references['T'][26].value.replace(\"(1) \",\"\")\n",
    "print(val)\n",
    "create_ref_code(val)"
   ]
  },
  {
   "cell_type": "markdown",
   "id": "aae995fa-36e3-4f6b-be42-2ba33359c756",
   "metadata": {},
   "source": [
    "Now we check references of NFRR (notice that we will substitute number _1_ with capital _I_ in refcode to avoid problems with one reference (see below):"
   ]
  },
  {
   "cell_type": "code",
   "execution_count": 13,
   "id": "dbc7cab5-7358-4a48-98a1-56ef45a33149",
   "metadata": {},
   "outputs": [],
   "source": [
    "NFRR_refs=list()\n",
    "for row in range(1,66):\n",
    "    cite_text = references['T'][row].value.replace(\"(1) \",\"\")\n",
    "    cite_code = create_ref_code(cite_text) \n",
    "    record={\"refcode\": references['S'][row].value.replace(\"1\",\"I\"),\n",
    "            \"refstring\": cite_code,#re.sub(r\", [A-Z\\.]+\",\" \",cite_code),\n",
    "            \"refinfo\": cite_text\n",
    "    }\n",
    "    NFRR_refs.append(record)"
   ]
  },
  {
   "cell_type": "code",
   "execution_count": 14,
   "id": "635c4474-39ee-40a9-8342-94f5143de76a",
   "metadata": {},
   "outputs": [
    {
     "data": {
      "text/plain": [
       "{'refcode': 'SA',\n",
       " 'refstring': 'Carolyn Sandercoe Qld. unpub.',\n",
       " 'refinfo': 'Carolyn Sandercoe, Qld. (unpublished)'}"
      ]
     },
     "execution_count": 14,
     "metadata": {},
     "output_type": "execute_result"
    }
   ],
   "source": [
    "NFRR_refs[56]"
   ]
  },
  {
   "cell_type": "code",
   "execution_count": 15,
   "id": "53649dd8-737e-4c03-862c-9977dd55ec7e",
   "metadata": {},
   "outputs": [
    {
     "data": {
      "text/plain": [
       "'BF'"
      ]
     },
     "execution_count": 15,
     "metadata": {},
     "output_type": "execute_result"
    }
   ],
   "source": [
    "NFRR_refs[6][\"refcode\"]"
   ]
  },
  {
   "cell_type": "code",
   "execution_count": 16,
   "id": "54fa307e-009e-47fb-9707-58e1eecbae1e",
   "metadata": {},
   "outputs": [
    {
     "name": "stdout",
     "output_type": "stream",
     "text": [
      "NFRR reference FOI refers to 'Fox, J.E.D. (1985). Fire in Mulga: Studies at the margins. In: Fire ecology and management of Western Australian ecosystems. (ed: J.R. Ford). Western Australian Institute of Technology, report no. 14.'\n"
     ]
    }
   ],
   "source": [
    "qry=\"FOI\"\n",
    "for elem in filter(lambda x: x['refcode'] == qry, NFRR_refs):\n",
    "    print(\"NFRR reference %s refers to '%s'\" % (qry, elem['refinfo']))"
   ]
  },
  {
   "cell_type": "markdown",
   "id": "9f603c6a-34d9-4fe4-8846-80b72fa5e7f5",
   "metadata": {},
   "source": [
    "We do the same for the additional references column:"
   ]
  },
  {
   "cell_type": "code",
   "execution_count": 17,
   "id": "3082a2e6-b2f1-4cc3-b4c0-075240202abd",
   "metadata": {},
   "outputs": [],
   "source": [
    "other_refs=list()\n",
    "for row in range(1,139):\n",
    "    cite_text = references['D'][row].value\n",
    "    cite_code = create_ref_code(cite_text) \n",
    "    if cite_code == \"Benson 1985\":\n",
    "        cite_code = \"Benson 1985b\"\n",
    "    record={\"refcode\": references['C'][row].value,\n",
    "            \"refstring\": cite_code,\n",
    "            \"refinfo\": cite_text\n",
    "    }\n",
    "    other_refs.append(record)"
   ]
  },
  {
   "cell_type": "code",
   "execution_count": 18,
   "id": "39be1731-9eaf-41bc-9306-2326078f61ad",
   "metadata": {},
   "outputs": [
    {
     "data": {
      "text/plain": [
       "{'refcode': 10,\n",
       " 'refstring': 'Wark White Robertson Marriott 1987',\n",
       " 'refinfo': 'Wark, M.C., White, M.D., Robertson, D.J. and Marriott, P.F. (1987). Regeneration of heath and heath woodland in the north-eastern Otway Ranges following the wildfire of February 1983. Proc.Roy.Soc.Vic. 99, 51-88.'}"
      ]
     },
     "execution_count": 18,
     "metadata": {},
     "output_type": "execute_result"
    }
   ],
   "source": [
    "other_refs[9]"
   ]
  },
  {
   "cell_type": "markdown",
   "id": "a59cdeb8-7294-4091-a01e-63f20234afa5",
   "metadata": {},
   "source": [
    "Check if there are duplicated references:"
   ]
  },
  {
   "cell_type": "code",
   "execution_count": 19,
   "id": "cba06e34-0d1c-4627-8316-b4ae8a29aa22",
   "metadata": {},
   "outputs": [
    {
     "name": "stdout",
     "output_type": "stream",
     "text": [
      "Benwell 1998\n",
      "Molnar Fletcher Parsons 1989\n",
      "Wark White Robertson Marriott 1987\n",
      "Wark 1997\n"
     ]
    }
   ],
   "source": [
    "l1 = list()\n",
    "for r in NFRR_refs: \n",
    "    l1.append(r[\"refstring\"])\n",
    "l2 = list()\n",
    "for r in other_refs: \n",
    "    l2.append(r[\"refstring\"])\n",
    "\n",
    "for i in l1:\n",
    "    if i in l2:\n",
    "        print(i)\n"
   ]
  },
  {
   "cell_type": "code",
   "execution_count": 20,
   "id": "609c3d7f-34e8-4833-8584-8ff9f848d797",
   "metadata": {
    "tags": []
   },
   "outputs": [
    {
     "name": "stdout",
     "output_type": "stream",
     "text": [
      "Reference Benwell 1998 refers to 'Benwell A.S. (1998). Post-fire seedling recruitment in coastal heathland in relation to regeneration strategy and habitat. Aust. J. Bot. 46, 75-101.'\n",
      "Reference Benwell 1998 refers to 'Benwell, A.S. (1998) Post-fire seedling recruitment in coastal heathland in relation to regeneration strategy and habitat. Aust. J. Bot. 46:75-101.  Data compiled by D.Keith (Keith, D.A., McCaw, W.L. & Whelan, R.J. (2002) pp. 199-237 in \"Flammable Australia: The fire regimes and biodiversity of a continent\" Ed. R.A. Bradstock, J.E. Williams & M.A. Gill. Cambridge University Press, Cambridge)'\n"
     ]
    }
   ],
   "source": [
    "qry=\"Benwell 1998\"\n",
    "for elem in filter(lambda x: x['refstring'] == qry, NFRR_refs):\n",
    "    print(\"Reference %s refers to '%s'\" % (qry, elem['refinfo']))\n",
    "for elem in filter(lambda x: x['refstring'] == qry, other_refs):\n",
    "    print(\"Reference %s refers to '%s'\" % (qry, elem['refinfo']))\n",
    "    "
   ]
  },
  {
   "cell_type": "markdown",
   "id": "a042e952-638d-4abf-92fc-41a902b13fb6",
   "metadata": {
    "jp-MarkdownHeadingCollapsed": true,
    "tags": []
   },
   "source": [
    "### Colored and modified fonts\n",
    "\n",
    "Some records include additional information coded in font color or strikethrough of values:\n",
    "\n",
    ">  Corrections made to these after checking original references in brown text: all brown (eg 5W) =species missed from reference; regen code brown (eg 5W) =corrected regen code; strikethrough (eg 5W) =species not in reference\n",
    "\n",
    "With Python we can query cell colors and strikethrough properties of the font to verify if information has been annotated, but not with enough detail to distinguish with part of the value is annotated and which is not. For example:"
   ]
  },
  {
   "cell_type": "code",
   "execution_count": 21,
   "id": "c190b84f-589c-41ac-ab45-10eef22e25c1",
   "metadata": {
    "tags": []
   },
   "outputs": [
    {
     "name": "stdout",
     "output_type": "stream",
     "text": [
      "Cell 23 has colored font\n",
      "Cell 24 has no colored font\n",
      "Cell 67 has colored font\n",
      "Cell 68 has no colored font\n",
      "Cell 71 has no colored font\n",
      "Cell 73 has colored font\n",
      "Cell 73 has strikethrough\n"
     ]
    }
   ],
   "source": [
    "for row in [22,23,66,67,70,72]:\n",
    "    if species_data['BN'][row].font.color == None:\n",
    "        print(\"Cell %s has no colored font\" % (row+1))\n",
    "    else:\n",
    "        print(\"Cell %s has colored font\" % (row+1))\n",
    "    if species_data['BN'][row].font.strike != None:\n",
    "        print(\"Cell %s has strikethrough\" % (row+1))"
   ]
  },
  {
   "cell_type": "markdown",
   "id": "074708de-4bf6-4714-b5a3-bbe0a7d29c20",
   "metadata": {
    "jp-MarkdownHeadingCollapsed": true,
    "tags": []
   },
   "source": [
    "### Back to single species example\n",
    "\n"
   ]
  },
  {
   "cell_type": "code",
   "execution_count": 22,
   "id": "ea53a3bf-2475-41a5-ad5f-a375e93db027",
   "metadata": {},
   "outputs": [],
   "source": [
    "row_index=3\n",
    "\n",
    "spname=species_data[sp_col][row_index].value\n",
    "NFRRval=species_data[NFRR_col][row_index].value\n",
    "otherval=species_data[oref_col][row_index].value"
   ]
  },
  {
   "cell_type": "markdown",
   "id": "61f4386b-b95e-4d4a-935b-26f3eb820ef5",
   "metadata": {},
   "source": [
    "We can now use regular expressions to separate the different pieces of information, for NFRR:"
   ]
  },
  {
   "cell_type": "code",
   "execution_count": 23,
   "id": "0abca445-63b7-4087-87ad-ffa059793c50",
   "metadata": {},
   "outputs": [
    {
     "name": "stdout",
     "output_type": "stream",
     "text": [
      "['8']\n",
      "['BD']\n"
     ]
    }
   ],
   "source": [
    "import re\n",
    "print(re.findall(\"\\d+\", NFRRval))\n",
    "print(re.findall(\"[A-Z]+\", NFRRval))"
   ]
  },
  {
   "cell_type": "markdown",
   "id": "93151415-3691-4fc3-8162-58127649e7c3",
   "metadata": {},
   "source": [
    "Look up the group and references:"
   ]
  },
  {
   "cell_type": "code",
   "execution_count": 24,
   "id": "1980a314-9109-428f-b426-623225926176",
   "metadata": {},
   "outputs": [
    {
     "name": "stdout",
     "output_type": "stream",
     "text": [
      "NFRR code of 8 refers to 'Killed by 100% scorch; seed storage unknown'\n",
      "Reference BD refers to 'Benson, D. and McDougall, L. (1997). Ecology of Sydney plant species part 5: Dicotyledon families Flacourtiaceae to Myrsinaceae. Cunninghamia 5, 330-544.'\n"
     ]
    }
   ],
   "source": [
    "for qry in re.findall(\"\\d+\", NFRRval):\n",
    "    for elem in filter(lambda x: x['NFRRcode'] == int(qry), reg_cats):\n",
    "        print(\"NFRR code of %s refers to '%s'\" % (qry, elem['category']))\n",
    "\n",
    "for qry in re.findall(\"[A-Z]+\", NFRRval):\n",
    "    for elem in filter(lambda x: x['refcode'] == qry, NFRR_refs):\n",
    "        print(\"Reference %s refers to '%s'\" % (qry, elem['refinfo']))\n"
   ]
  },
  {
   "cell_type": "markdown",
   "id": "ac55b557-849d-41b7-9c2f-4739d1a83550",
   "metadata": {},
   "source": [
    "Now we can do the same for the additional references:"
   ]
  },
  {
   "cell_type": "code",
   "execution_count": 25,
   "id": "ef3da7d5-b33e-472f-87a8-5d535e0cb7d9",
   "metadata": {},
   "outputs": [
    {
     "name": "stdout",
     "output_type": "stream",
     "text": [
      "NFRR code of II refers to 'Killed by 100% scorch; seed storage in soil'\n",
      "Reference 95 refers to 'Hunter, J.T. (1998) Vegetation and floristics of the Washpool National Park Western Additions / Hunter, J.T. (2000) Vegetation and floristics of Mt Conobolas State Recreation Area / Hunter, J.T. (2000) Vegetation and floristics of Burnt Down Scrub Nature Reserve. Reports to NSW NPWS. a=personal observation b=personal communication c=referenced source'\n"
     ]
    }
   ],
   "source": [
    "for qry in re.findall(\"[IVX]+\", otherval):\n",
    "    for elem in filter(lambda x: x['othercode'] == qry, reg_cats):\n",
    "        print(\"NFRR code of %s refers to '%s'\" % (qry, elem['category']))\n",
    "\n",
    "for qry in re.findall(\"\\d+\", otherval):\n",
    "    for elem in filter(lambda x: x['refcode'] == int(qry), other_refs):\n",
    "        print(\"Reference %s refers to '%s'\" % (qry, elem['refinfo']))"
   ]
  },
  {
   "cell_type": "markdown",
   "id": "21963fe3-b698-4ebd-ae49-b48f211d0402",
   "metadata": {
    "tags": []
   },
   "source": [
    "### Example with multiple references per species\n",
    "Now let's pick other examples: "
   ]
  },
  {
   "cell_type": "code",
   "execution_count": 26,
   "id": "d252f804-1b0f-4a2c-a8c0-f70cceb04717",
   "metadata": {},
   "outputs": [],
   "source": [
    "row_index=9\n",
    "spname=species_data[sp_col][row_index].value\n",
    "NFRRval=species_data[NFRR_col][row_index].value"
   ]
  },
  {
   "cell_type": "markdown",
   "id": "157ff85c-c03c-44f2-ba57-771564e204f8",
   "metadata": {},
   "source": [
    "For this species the values in the NFRR column are separated by blank spaces, representing different observations, but the ones in the parenthesis are picked up incorrectly as additional group references instead of references:"
   ]
  },
  {
   "cell_type": "code",
   "execution_count": 27,
   "id": "aeec646f-9584-400d-aab7-5c4b496a70f1",
   "metadata": {},
   "outputs": [
    {
     "name": "stdout",
     "output_type": "stream",
     "text": [
      "Acacia aneura\n",
      "8HG 8FO 8FO(1) 9FO(1) 8PL\n",
      "separated as\n",
      "['8', '8', '8', '1', '9', '1', '8']\n",
      "['HG', 'FO', 'FO', 'FO', 'PL']\n"
     ]
    }
   ],
   "source": [
    "print(spname)\n",
    "print(NFRRval)\n",
    "print('separated as')\n",
    "print(re.findall(\"\\d+\", NFRRval))\n",
    "print(re.findall(\"[A-Z]+\", NFRRval))"
   ]
  },
  {
   "cell_type": "markdown",
   "id": "69eec75d-4d52-4a8f-b05a-4b61bd0ad62c",
   "metadata": {},
   "source": [
    "Let's first replace \"FO(1)\" with \"FOI\", and then run the code again:"
   ]
  },
  {
   "cell_type": "code",
   "execution_count": 28,
   "id": "d8261379-e81b-47c6-972e-2bd04b1bf9fa",
   "metadata": {},
   "outputs": [
    {
     "name": "stdout",
     "output_type": "stream",
     "text": [
      "['8', '8', '8', '9', '8']\n",
      "['HG', 'FO', 'FOI', 'FOI', 'PL']\n"
     ]
    }
   ],
   "source": [
    "NFRRval=species_data[NFRR_col][row_index].value.replace('FO(1)','FOI')\n",
    "print(re.findall(\"\\d+\", NFRRval))\n",
    "print(re.findall(\"[A-Z]+\", NFRRval))"
   ]
  },
  {
   "cell_type": "markdown",
   "id": "27fced2a-a90a-4c2a-bf5b-4da0a7a10d34",
   "metadata": {},
   "source": [
    "Now, if we want a list of unique references and VA groups, we can use the function _set_."
   ]
  },
  {
   "cell_type": "code",
   "execution_count": 29,
   "id": "59130df4-075f-412f-b02e-1f4a1fad526d",
   "metadata": {},
   "outputs": [
    {
     "name": "stdout",
     "output_type": "stream",
     "text": [
      "NFRR code of 9 refers to 'Survives 100% scorch; resprout location unknown'\n",
      "NFRR code of 8 refers to 'Killed by 100% scorch; seed storage unknown'\n",
      "Reference FO refers to 'Fox 1980'\n",
      "Reference PL refers to 'Latz 1995'\n",
      "Reference HG refers to 'Hodgkinson Griffin 1982'\n",
      "Reference FOI refers to 'Fox 1985'\n"
     ]
    }
   ],
   "source": [
    "for qry in set(re.findall(\"\\d+\", NFRRval)):\n",
    "    for elem in filter(lambda x: x['NFRRcode'] == int(qry), reg_cats):\n",
    "        print(\"NFRR code of %s refers to '%s'\" % (qry, elem['category']))\n",
    "\n",
    "for qry in set(re.findall(\"[A-Z]+\", NFRRval)):\n",
    "    for elem in filter(lambda x: x['refcode'] == qry, NFRR_refs):\n",
    "        print(\"Reference %s refers to '%s'\" % (qry, elem['refstring']))\n"
   ]
  },
  {
   "cell_type": "markdown",
   "id": "96ed2649-05fd-49a5-89bc-c0f58bbe28b4",
   "metadata": {},
   "source": [
    "Alternative processing each combination of reference and value:"
   ]
  },
  {
   "cell_type": "code",
   "execution_count": 30,
   "id": "83b41e42-325a-4b4d-accc-cb26f42a12ec",
   "metadata": {},
   "outputs": [
    {
     "name": "stdout",
     "output_type": "stream",
     "text": [
      "Reference Hodgkinson, K.C. and Griffin, ... reports 'Killed by 100% scorch; seed storage unknown'\n",
      "Reference Fox, J.E.D. (1980). Effects of... reports 'Killed by 100% scorch; seed storage unknown'\n",
      "Reference Fox, J.E.D. (1985). Fire in Mu... reports 'Killed by 100% scorch; seed storage unknown'\n",
      "Reference Fox, J.E.D. (1985). Fire in Mu... reports 'Survives 100% scorch; resprout location unknown'\n",
      "Reference Latz, P.K. (1995) Bushfires an... reports 'Killed by 100% scorch; seed storage unknown'\n"
     ]
    }
   ],
   "source": [
    "for item in NFRRval.split(\" \"):\n",
    "    qry = re.findall(\"\\d+\", item)[0]\n",
    "    group = list(filter(lambda x: x['NFRRcode'] == int(qry), reg_cats))[0]\n",
    "    qry = re.findall(\"[A-Z]+\", item)[0]\n",
    "    ref = list(filter(lambda x: x['refcode'] == qry, NFRR_refs))[0]\n",
    "    print(\"Reference %s... reports '%s'\" % (ref['refinfo'][:30], group['category']))\n"
   ]
  },
  {
   "cell_type": "markdown",
   "id": "768119eb-e32d-4aec-bdfd-9c698e1a448f",
   "metadata": {},
   "source": [
    "Here we pick a different species with multiple values in the 'additional fire response data' column:"
   ]
  },
  {
   "cell_type": "code",
   "execution_count": 31,
   "id": "848c1066-d597-4073-8fd1-c6464d447cb5",
   "metadata": {},
   "outputs": [],
   "source": [
    "row_index=25\n",
    "spname=species_data[sp_col][row_index].value\n",
    "otherval=species_data[oref_col][row_index].value"
   ]
  },
  {
   "cell_type": "markdown",
   "id": "22aacdb5-4614-4e09-967e-0d3029c2fe98",
   "metadata": {},
   "source": [
    "The values with multiple references are separated by semicolons and blanks, so they are picked up just fine. "
   ]
  },
  {
   "cell_type": "code",
   "execution_count": 32,
   "id": "6dc0c7f5-7ea6-4ba4-85d3-490776816255",
   "metadata": {},
   "outputs": [
    {
     "name": "stdout",
     "output_type": "stream",
     "text": [
      "II-69; II-100; II-134\n",
      "['69', '100', '134']\n",
      "['II', 'II', 'II']\n"
     ]
    }
   ],
   "source": [
    "if otherval is None:\n",
    "    print('No other reference')\n",
    "else:\n",
    "    print(otherval)\n",
    "    print(re.findall(\"\\d+\", otherval))\n",
    "    print(re.findall(\"[A-Z]+\", otherval))"
   ]
  },
  {
   "cell_type": "markdown",
   "id": "4d3fd1ef-f5ca-4557-b646-818b27e2d2b0",
   "metadata": {
    "tags": []
   },
   "source": [
    "## Format records for input in database\n",
    "\n",
    "Using the code above it is possible to:\n",
    "- create records for each original reference and add them to a central \"reference list\" table\n",
    "- take each species (row) from the spreadsheet and add records for a \"resprouting\" table:\n",
    "    - create one record based on the \"Fire response\" value citing NSWFFRDv2.1 as the main source and other references as original source\n",
    "    - create one or more records for each original reference using the \"Regeneration category\" as input value\n",
    "    \n",
    "But first we need to connect to the database from python."
   ]
  },
  {
   "cell_type": "markdown",
   "id": "bea08691-a071-48de-abcd-14620c967f9e",
   "metadata": {},
   "source": [
    "### Connect to database from Python\n",
    "\n",
    "We use the library _psygopg2_ to connect to the database. We first read the database credential from a file with restricted read access:"
   ]
  },
  {
   "cell_type": "code",
   "execution_count": 33,
   "id": "90fed829-7ab9-44d7-abf8-ba2b012aec17",
   "metadata": {},
   "outputs": [],
   "source": [
    "from configparser import ConfigParser\n",
    "import psycopg2\n",
    "from psycopg2.extensions import AsIs\n",
    "\n",
    "filename = repodir / 'secrets' / 'database.ini'\n",
    "section = 'aws-lght-sl'\n",
    "\n",
    "parser = ConfigParser()\n",
    "parser.read(filename)\n",
    "\n",
    "dbparams = {}\n",
    "if parser.has_section(section):\n",
    "    params = parser.items(section)\n",
    "    for param in params:\n",
    "        dbparams[param[0]] = param[1]\n",
    "else:\n",
    "    raise Exception('Section {0} not found in the {1} file'.format(section, filename))"
   ]
  },
  {
   "cell_type": "markdown",
   "id": "a04a1bac-13b8-42b1-8f6c-f3ff824fa0b8",
   "metadata": {},
   "source": [
    "Typically we will connect to the database, run a query and then disconnect:"
   ]
  },
  {
   "cell_type": "raw",
   "id": "1af322ee-e2cb-4189-b8b3-cfa9441e30e2",
   "metadata": {},
   "source": [
    "conn = psycopg2.connect(**dbparams)\n",
    "print('Connected to the database.')\n",
    "\n",
    "qry = \"SELECT * FROM litrev.ref_list LIMIT 1\"\n",
    "cur = conn.cursor()\n",
    "cur.execute(qry)\n",
    "valid = cur.fetchall()\n",
    "cur.close()\n",
    "\n",
    "if conn is not None:\n",
    "    conn.close()\n",
    "    print('Database connection closed.')"
   ]
  },
  {
   "cell_type": "markdown",
   "id": "972a2efe-54fb-4e0b-9e9b-f8d1a5ebd94f",
   "metadata": {},
   "source": [
    "### Add list of references\n",
    "\n",
    "We can create a table for the list of references using this SQL code in our database (for example in _psql_ client):"
   ]
  },
  {
   "cell_type": "raw",
   "id": "6ccc2f3b-7011-4d15-a584-5b51cebfc9e4",
   "metadata": {},
   "source": [
    "CREATE TABLE IF NOT EXISTS litrev.ref_list (\n",
    "    ref_code varchar(50) PRIMARY KEY,\n",
    "    ref_cite text,\n",
    "    alt_code varchar(30)\n",
    ");"
   ]
  },
  {
   "cell_type": "markdown",
   "id": "4b58e7e9-ff92-4a2b-a8ed-766af8e5a1e9",
   "metadata": {},
   "source": [
    "We can then insert values into the database by substituting the corresponding values for the query:"
   ]
  },
  {
   "cell_type": "raw",
   "id": "7ed449c3-55ff-4501-896e-15f74aabe002",
   "metadata": {},
   "source": [
    "INSERT INTO litrev.ref_list(ref_code, ref_cite, alt_code) values(%s,%s,%s) ON CONFLICT DO NOTHING"
   ]
  },
  {
   "cell_type": "markdown",
   "id": "aa65b0f2-ace1-44d8-bc0b-f5b72879706b",
   "metadata": {},
   "source": [
    "For example, for the NSWFFRDv2.1 reference we can use:"
   ]
  },
  {
   "cell_type": "code",
   "execution_count": 34,
   "id": "9cf55768-12ab-42c9-952d-7a291ce307ee",
   "metadata": {},
   "outputs": [
    {
     "name": "stdout",
     "output_type": "stream",
     "text": [
      "Connecting to the PostgreSQL database...\n",
      "total number of lines updated: 0\n",
      "Database connection closed.\n"
     ]
    }
   ],
   "source": [
    "insert_statement = \"INSERT INTO litrev.ref_list(%s) values %s ON CONFLICT DO NOTHING\"\n",
    "record = { \"ref_code\" : \"NSWFFRDv2.1\",\n",
    "          \"ref_cite\" : \n",
    "          \"NSW Flora Fire Response Database. Version 2.1. February 2010 (last update May 2014)\"}\n",
    "\n",
    "print('Connecting to the PostgreSQL database...')\n",
    "conn = psycopg2.connect(**dbparams)\n",
    "\n",
    "cur = conn.cursor()\n",
    "cur.execute(insert_statement, (AsIs(','.join(record.keys())), tuple(record.values())))\n",
    "conn.commit()\n",
    "print(\"total number of lines updated: %s\" % cur.rowcount)\n",
    "cur.close()\n",
    "\n",
    "if conn is not None:\n",
    "    conn.close()\n",
    "    print('Database connection closed.')"
   ]
  },
  {
   "cell_type": "markdown",
   "id": "f340719e-09d8-441e-85cc-568c2a45983b",
   "metadata": {},
   "source": [
    "Now we will add references from the list we read before (_NFRR_refs_). We will use the first 50 letters from the reference description as a _ref_code_ (we will be able to update that later to something more meaningful in the database), and create an _alt_code_ to identify the origin of the reference."
   ]
  },
  {
   "cell_type": "code",
   "execution_count": 35,
   "id": "a1403ff4-2ea0-4c0c-926e-1f4652a76551",
   "metadata": {},
   "outputs": [
    {
     "name": "stdout",
     "output_type": "stream",
     "text": [
      "Connecting to the PostgreSQL database...\n",
      "total number of lines updated: 0\n",
      "Database connection closed.\n"
     ]
    }
   ],
   "source": [
    "print('Connecting to the PostgreSQL database...')\n",
    "conn = psycopg2.connect(**dbparams)\n",
    "\n",
    "cur = conn.cursor()\n",
    "insert_statement = \"INSERT INTO litrev.ref_list(ref_code,ref_cite,alt_code) values (%s,%s,%s) ON CONFLICT DO NOTHING\"\n",
    "affected_rows=0\n",
    "\n",
    "for item in NFRR_refs:\n",
    "    cur.execute(insert_statement,\n",
    "                (item['refstring'],\n",
    "                item['refinfo'],\n",
    "                'NSWFFRD-NFRR-ref-%s' % item['refcode']))\n",
    "    affected_rows = affected_rows+cur.rowcount\n",
    "\n",
    "conn.commit()\n",
    "print(\"total number of lines updated: %s\" % affected_rows)\n",
    "cur.close()\n",
    "\n",
    "\n",
    "if conn is not None:\n",
    "    conn.close()\n",
    "    print('Database connection closed.')"
   ]
  },
  {
   "cell_type": "markdown",
   "id": "f6142d60-02db-4125-a931-43a284e8c598",
   "metadata": {},
   "source": [
    "We can then add the references from the _otherref_ dictionary:"
   ]
  },
  {
   "cell_type": "code",
   "execution_count": 36,
   "id": "0082382a-871d-4730-a4ca-d5e30936b651",
   "metadata": {},
   "outputs": [
    {
     "name": "stdout",
     "output_type": "stream",
     "text": [
      "Connecting to the PostgreSQL database...\n",
      "total number of lines updated: 0\n",
      "Database connection closed.\n"
     ]
    }
   ],
   "source": [
    "print('Connecting to the PostgreSQL database...')\n",
    "conn = psycopg2.connect(**dbparams)\n",
    "\n",
    "cur = conn.cursor()\n",
    "insert_statement = \"INSERT INTO litrev.ref_list(ref_code,ref_cite,alt_code) values (%s,%s,%s) ON CONFLICT DO NOTHING\"\n",
    "affected_rows=0\n",
    "\n",
    "for item in other_refs:\n",
    "    cur.execute(insert_statement,\n",
    "                (item['refstring'],\n",
    "                item['refinfo'],\n",
    "                'NSWFFRD-other-ref-%s' % item['refcode']))\n",
    "    affected_rows = affected_rows+cur.rowcount\n",
    "\n",
    "conn.commit()\n",
    "print(\"total number of lines updated: %s\" % affected_rows)\n",
    "cur.close()\n",
    "\n",
    "\n",
    "if conn is not None:\n",
    "    conn.close()\n",
    "    print('Database connection closed.')"
   ]
  },
  {
   "cell_type": "markdown",
   "id": "2b7d396a-7747-472b-b6a0-08a9af97724c",
   "metadata": {},
   "source": [
    "### Resprouting table in database\n",
    "\n",
    "The structure of the _resprouting_ table still needs to be refined, here is a proposed structure: "
   ]
  },
  {
   "cell_type": "raw",
   "id": "799d5ace-4058-483a-8592-103f0f749633",
   "metadata": {},
   "source": [
    "CREATE TABLE IF NOT EXISTS litrev.resprouting (\n",
    "  record_id SERIAL PRIMARY KEY,\n",
    "  species VARCHAR(255),\n",
    "  species_code VARCHAR(10),\n",
    "  main_source VARCHAR(50) ,\n",
    "  original_sources text[],\n",
    "  norm_value resprouting_types,\n",
    "  method_of_estimation method_vocabulary,\n",
    "  raw_value text[],\n",
    "  original_notes text[],\n",
    "  additional_notes text[],\n",
    "  weight smallint NOT NULL DEFAULT 1,\n",
    "  FOREIGN KEY (main_source) REFERENCES litrev.ref_list (ref_code) ON DELETE CASCADE ON UPDATE CASCADE\n",
    ");"
   ]
  },
  {
   "cell_type": "markdown",
   "id": "b8a15f8a-a8d5-45ca-881a-b7f430e4e106",
   "metadata": {},
   "source": [
    "We will test how to insert some records into this table from the spreadsheet.\n",
    "\n",
    "### Inserting the fire response values of NSWFFRDv2.1\n",
    "\n",
    "We will create one record per species, using \"NSWFFRDv2.1\" as _main reference_, adding the reported references in the _original sources_ column, using a dictionary to translate the original value into the range of accepted values for the column, and including comments in the record.\n",
    "\n",
    "First we will define the columns we need:"
   ]
  },
  {
   "cell_type": "code",
   "execution_count": 37,
   "id": "78ca3327-cf35-4a2f-b4f4-06aa42b8aa01",
   "metadata": {},
   "outputs": [
    {
     "name": "stdout",
     "output_type": "stream",
     "text": [
      "Current Scientific Name / Species Code / Fireresponse / Comments on regeneration/ NFRR data / Additional fire response data\n"
     ]
    }
   ],
   "source": [
    "sp_col='A'\n",
    "code_col='B'\n",
    "fireresponse_col='J'\n",
    "comment_col='K'\n",
    "NFRR_col='BN'\n",
    "oref_col='BO'\n",
    "\n",
    "print(\"%s / %s / %s / %s/ %s / %s\" %\n",
    "(species_data[sp_col][1].value,\n",
    " species_data[code_col][1].value,\n",
    "species_data[fireresponse_col][1].value,\n",
    "species_data[comment_col][1].value,\n",
    "species_data[NFRR_col][1].value,\n",
    "species_data[oref_col][1].value))"
   ]
  },
  {
   "cell_type": "markdown",
   "id": "bcbbb7b6-8dec-4a02-91cc-e444035ea14b",
   "metadata": {},
   "source": [
    "The Fire response variable can be translated using a simple dictionary of terms:"
   ]
  },
  {
   "cell_type": "code",
   "execution_count": 38,
   "id": "adf261cd-aea4-4a15-b8eb-658bf3b858ce",
   "metadata": {},
   "outputs": [],
   "source": [
    "switcher={\n",
    "    \"S\": \"None\",\n",
    "    \"Sr\": \"Few\",\n",
    "    \"S/R\": \"Half\",\n",
    "    \"Rs\": \"Most\",\n",
    "    \"R\": \"All\"\n",
    "}"
   ]
  },
  {
   "cell_type": "markdown",
   "id": "77e44074-4ddf-46ce-8c1a-c0d2ebbda978",
   "metadata": {},
   "source": [
    "We will define a function to read one row and create a record:\n"
   ]
  },
  {
   "cell_type": "code",
   "execution_count": 39,
   "id": "5de11f34-f13f-4e64-b4d8-b827ff5c601f",
   "metadata": {},
   "outputs": [],
   "source": [
    "def read_row_resprouting(sheet,row):\n",
    "    sp_col='A'\n",
    "    code_col='B'\n",
    "    fireresponse_col='J'\n",
    "    comment_col='K'\n",
    "    NFRR_col='BN'\n",
    "    oref_col='BO'\n",
    "\n",
    "    switcher={\n",
    "        \"S\": \"None\",\n",
    "        \"Sr\": \"Few\",\n",
    "        \"S/R\": \"Half\",\n",
    "        \"Rs\": \"Most\",\n",
    "        \"R\": \"All\"\n",
    "    }\n",
    "    \n",
    "    varname=sheet[fireresponse_col][1].value\n",
    "    \n",
    "    spname=sheet[sp_col][row].value\n",
    "    spcode=sheet[code_col][row].value\n",
    "    varvalue=sheet[fireresponse_col][row].value\n",
    "    origcomment=sheet[comment_col][row].value\n",
    "    NFRRraw=sheet[NFRR_col][row].value\n",
    "    otherraw=sheet[oref_col][row].value\n",
    "    \n",
    "    record={\"main_source\":\"NSWFFRDv2.1\", \n",
    "            \"additional_notes\":[\"Values reclassified following rules proposed by D. Keith et al.\",\n",
    "                                \"Automatic extraction with python script\"],\n",
    "            \"raw_value\":[varname], \n",
    "            \"original_sources\":list(), \n",
    "            \"original_notes\":list()}\n",
    "\n",
    "    if varvalue is not None:\n",
    "        record[\"raw_value\"].append(varvalue)\n",
    "        transvalue=switcher.get(varvalue, \"unknown\")\n",
    "        record[\"norm_value\"]=transvalue\n",
    "        if origcomment is not None:\n",
    "            record[\"original_notes\"].append(origcomment)\n",
    "        if spcode is not None:\n",
    "            record[\"species_code\"]=spcode\n",
    "        if spname is not None:\n",
    "            record[\"species\"]=spname\n",
    "        if NFRRraw is not None:\n",
    "            NFRRval=NFRRraw.replace('FO(1)','FOI')\n",
    "            for qry in set(re.findall(\"\\d+\", NFRRval)):\n",
    "                for elem in filter(lambda x: x['NFRRcode'] == int(qry), reg_cats):\n",
    "                    record[\"raw_value\"].append(\"NFRR VA group (%s): %s\" % (qry, elem['category']))\n",
    "            for qry in set(re.findall(\"[A-Z]+\", NFRRval)):\n",
    "                for elem in filter(lambda x: x['refcode'] == qry, NFRR_refs):\n",
    "                    record[\"original_sources\"].append(elem['refstring'])\n",
    "            if sheet[NFRR_col][row].font.color is not None:\n",
    "                record[\"original_notes\"].append(\"NFRR record(s) might have been ammended\")\n",
    "            if sheet[NFRR_col][row].font.strike is not None:\n",
    "                record[\"original_notes\"].append(\"NFRR record(s) might have been discarded\")\n",
    "        if otherraw is not None:\n",
    "            otherval=otherraw\n",
    "            for qry in set(re.findall(\"[IVX]+\", otherval)):\n",
    "                for elem in filter(lambda x: x['othercode'] == qry, reg_cats):\n",
    "                    record[\"raw_value\"].append(\"Other VA group (%s): %s\" % (qry, elem['category']))\n",
    "            for qry in set(re.findall(\"\\d+\", otherval)):\n",
    "                #record[\"original_sources\"].append('NSWFFRD-other-ref-%s' % qry)\n",
    "                for elem in filter(lambda x: x['refcode'] == qry, other_refs):\n",
    "                    record[\"original_sources\"].append(elem['refstring'])\n",
    "        if len(record[\"original_sources\"])==0:\n",
    "            record.pop(\"original_sources\")\n",
    "        if len(record[\"original_notes\"])==0:\n",
    "            record.pop(\"original_notes\")\n",
    "        return(record)\n",
    "    else:\n",
    "        print(\"empty row\")\n",
    "        return(None)"
   ]
  },
  {
   "cell_type": "markdown",
   "id": "4160d864-4a6f-4000-8a29-6a4e3e3da64a",
   "metadata": {},
   "source": [
    "We can combine all information into records using the code discussed above:"
   ]
  },
  {
   "cell_type": "code",
   "execution_count": 40,
   "id": "798ce8ca-e1b2-4eef-87d8-bd5e158ce629",
   "metadata": {},
   "outputs": [
    {
     "data": {
      "text/plain": [
       "{'main_source': 'NSWFFRDv2.1',\n",
       " 'additional_notes': ['Values reclassified following rules proposed by D. Keith et al.',\n",
       "  'Automatic extraction with python script'],\n",
       " 'raw_value': ['Fireresponse',\n",
       "  'S',\n",
       "  'NFRR VA group (2): Killed by 100% scorch; seed storage in soil',\n",
       "  'NFRR VA group (8): Killed by 100% scorch; seed storage unknown',\n",
       "  'Other VA group (VIII): Killed by 100% scorch; seed storage unknown'],\n",
       " 'original_sources': ['Benwell 1998', 'Peter Byrne Beerwah Qld. unpub.'],\n",
       " 'norm_value': 'None',\n",
       " 'species_code': '7060',\n",
       " 'species': 'Acacia baueri subsp. baueri'}"
      ]
     },
     "execution_count": 40,
     "metadata": {},
     "output_type": "execute_result"
    }
   ],
   "source": [
    "read_row_resprouting(species_data,14)"
   ]
  },
  {
   "cell_type": "markdown",
   "id": "f1325b86-b4e8-42bd-be11-81f529e0d8b9",
   "metadata": {},
   "source": [
    "This is an improved version of the function to split the data into a summary value and single entries for each reference:"
   ]
  },
  {
   "cell_type": "code",
   "execution_count": 44,
   "id": "2b1a2658-21a4-4e57-859e-ccd8d9f6fac4",
   "metadata": {},
   "outputs": [],
   "source": [
    "\n",
    "\n",
    "def read_row_resprouting(sheet,row):\n",
    "    sp_col='A'\n",
    "    code_col='B'\n",
    "    fireresponse_col='J'\n",
    "    comment_col='K'\n",
    "    NFRR_col='BN'\n",
    "    oref_col='BO'\n",
    "\n",
    "    switcher={\n",
    "        \"S\": \"None\",\n",
    "        \"Sr\": \"Few\",\n",
    "        \"S/R\": \"Half\",\n",
    "        \"Rs\": \"Most\",\n",
    "        \"R\": \"All\"\n",
    "    }\n",
    "    \n",
    "    varname=sheet[fireresponse_col][1].value\n",
    "    \n",
    "    spname=sheet[sp_col][row].value\n",
    "    spcode=sheet[code_col][row].value\n",
    "    varvalue=sheet[fireresponse_col][row].value\n",
    "    origcomment=sheet[comment_col][row].value\n",
    "    NFRRraw=sheet[NFRR_col][row].value\n",
    "    otherraw=sheet[oref_col][row].value\n",
    "\n",
    "    records=list()\n",
    "    \n",
    "    \n",
    "    record={\"raw_value\":[varname, varvalue], \n",
    "            \"original_sources\":list(), \n",
    "            \"main_source\":\"NSWFFRDv2.1\", \n",
    "            \"additional_notes\":[\"Values reclassified following rules proposed by D. Keith et al.\",\n",
    "                                \"Automatic extraction with python script\"],\n",
    "           \"weight_notes\":[\"python-script import\",\"default of 1\"],\n",
    "           \"weight\":1, \n",
    "            \"original_notes\":list()}\n",
    "\n",
    "    if varvalue is not None:\n",
    "        # we won't record the original or attempt transforming the value\n",
    "        transvalue=switcher.get(varvalue, \"Unknown\")\n",
    "        record[\"norm_value\"]=transvalue\n",
    "        if origcomment is not None:\n",
    "            record[\"original_notes\"].append(origcomment)\n",
    "            record[\"additional_notes\"].append(\"See comments in NSWFFRDv2.1 entry\")\n",
    "        if spcode is not None:\n",
    "            record[\"species_code\"]=spcode\n",
    "        if spname is not None:\n",
    "            record[\"species\"]=spname\n",
    "        newrecord=copy.deepcopy(record)\n",
    "        if len(newrecord[\"original_sources\"])==0:\n",
    "            newrecord.pop(\"original_sources\")\n",
    "        if len(newrecord[\"original_notes\"])==0:\n",
    "            newrecord.pop(\"original_notes\")\n",
    "        newrecord[\"weight\"]=10\n",
    "        newrecord[\"weight_notes\"][1]=\"default of 10 for summary value\"\n",
    "        records.append(newrecord)\n",
    "        if NFRRraw is not None:\n",
    "            NFRRval=NFRRraw.replace('FO(1)','FOI')\n",
    "            NFRRval=NFRRval.strip(\" \")\n",
    "            for item in NFRRval.split(\" \"):\n",
    "                newrecord=copy.deepcopy(record)\n",
    "                newrecord[\"additional_notes\"].append(\"Raw values extracted from notes/comments in NSWFFRDBv2.1\")\n",
    "                newrecord[\"raw_value\"].append(\"Overall value of fireresponse column is %s\" % varvalue)\n",
    "                qry = re.findall(\"\\d+\", item)\n",
    "                if len(qry)==1:\n",
    "                    group = list(filter(lambda x: x['NFRRcode'] == int(qry[0]), reg_cats))\n",
    "                    if len(group)==1:\n",
    "                        newrecord[\"raw_value\"][0]=(\"VA Group %s\" % qry[0])\n",
    "                        newrecord[\"raw_value\"][1]=group[0]['category']\n",
    "                    if qry[0] in ('1','2','3','8'):\n",
    "                        newrecord[\"norm_value\"] = 'None'\n",
    "                    elif qry[0] in ('4','5','6','7','9','11'):\n",
    "                        newrecord[\"norm_value\"] = 'All'\n",
    "                    else:\n",
    "                        newrecord[\"norm_value\"] = 'Unknown'\n",
    "                qry = re.findall(\"[A-Z]+\", item)\n",
    "                if len(qry)==1:\n",
    "                    ref = list(filter(lambda x: x['refcode'] == qry[0], NFRR_refs))\n",
    "                    if len(ref)==1:\n",
    "                        newrecord[\"original_sources\"].append(ref[0]['refstring'])\n",
    "                if species_data[NFRR_col][row].font.color is not None:\n",
    "                    newrecord[\"additional_notes\"].append(\"NFRR record(s) might have been ammended in NSWFFRDv2.1\")\n",
    "                if species_data[NFRR_col][row].font.strike is not None:\n",
    "                    newrecord[\"additional_notes\"].append(\"NFRR record(s) might have been discarded in NSWFFRDv2.1\")\n",
    "                if len(newrecord[\"original_sources\"])==0:\n",
    "                    newrecord.pop(\"original_sources\")\n",
    "                if len(newrecord[\"original_notes\"])==0:\n",
    "                    newrecord.pop(\"original_notes\")\n",
    "                records.append(newrecord)\n",
    "        if otherraw is not None:\n",
    "            otherval=otherraw\n",
    "            for item in otherval.split(\" \"):\n",
    "                newrecord=copy.deepcopy(record)\n",
    "                newrecord[\"additional_notes\"].append(\"Raw values extracted from notes/comments in NSWFFRDBv2.1\")\n",
    "                newrecord[\"raw_value\"].append(\"Overall value of fireresponse column is %s\" % varvalue)\n",
    "                qry = re.findall(\"[IVX]+\", item)\n",
    "                if len(qry)==1:\n",
    "                    group = list(filter(lambda x: x['othercode'] == qry[0], reg_cats))[0]\n",
    "                    newrecord[\"raw_value\"][0]=(\"VA Group %s\" % qry[0])\n",
    "                    newrecord[\"raw_value\"][1]=group['category']\n",
    "                    if qry[0] in ('I','II','III','VIII'):\n",
    "                        newrecord[\"norm_value\"] = 'None'\n",
    "                    elif qry[0] in ('IV','V','VI','VII','IX','XI'):\n",
    "                        newrecord[\"norm_value\"] = 'All'\n",
    "                    else:\n",
    "                        newrecord[\"norm_value\"] = 'Unknown'\n",
    "                qry = re.findall(\"\\d+\", item)\n",
    "                if len(qry)==1:\n",
    "                    ref = list(filter(lambda x: x['refcode'] == int(qry[0]), other_refs))[0]\n",
    "                    newrecord[\"original_sources\"].append(ref['refstring'])\n",
    "                if len(newrecord[\"original_sources\"])==0:\n",
    "                    newrecord.pop(\"original_sources\")\n",
    "                if len(newrecord[\"original_notes\"])==0:\n",
    "                    newrecord.pop(\"original_notes\")\n",
    "                records.append(newrecord)\n",
    "\n",
    "        return(records)\n",
    "    else:\n",
    "        print(\"empty row\")\n",
    "        return(None)"
   ]
  },
  {
   "cell_type": "code",
   "execution_count": 45,
   "id": "fff5a195-6e3a-4e2e-b796-a99becff5021",
   "metadata": {},
   "outputs": [
    {
     "data": {
      "text/plain": [
       "[{'raw_value': ['Fireresponse', 'S'],\n",
       "  'main_source': 'NSWFFRDv2.1',\n",
       "  'additional_notes': ['Values reclassified following rules proposed by D. Keith et al.',\n",
       "   'Automatic extraction with python script'],\n",
       "  'weight_notes': ['python-script import', 'default of 10 for summary value'],\n",
       "  'weight': 10,\n",
       "  'norm_value': 'None',\n",
       "  'species_code': '7060',\n",
       "  'species': 'Acacia baueri subsp. baueri'},\n",
       " {'raw_value': ['VA Group 2',\n",
       "   'Killed by 100% scorch; seed storage in soil',\n",
       "   'Overall value of fireresponse column is S'],\n",
       "  'original_sources': ['Benwell 1998'],\n",
       "  'main_source': 'NSWFFRDv2.1',\n",
       "  'additional_notes': ['Values reclassified following rules proposed by D. Keith et al.',\n",
       "   'Automatic extraction with python script',\n",
       "   'Raw values extracted from notes/comments in NSWFFRDBv2.1'],\n",
       "  'weight_notes': ['python-script import', 'default of 1'],\n",
       "  'weight': 1,\n",
       "  'norm_value': 'None',\n",
       "  'species_code': '7060',\n",
       "  'species': 'Acacia baueri subsp. baueri'},\n",
       " {'raw_value': ['VA Group 8',\n",
       "   'Killed by 100% scorch; seed storage unknown',\n",
       "   'Overall value of fireresponse column is S'],\n",
       "  'original_sources': ['Peter Byrne Beerwah Qld. unpub.'],\n",
       "  'main_source': 'NSWFFRDv2.1',\n",
       "  'additional_notes': ['Values reclassified following rules proposed by D. Keith et al.',\n",
       "   'Automatic extraction with python script',\n",
       "   'Raw values extracted from notes/comments in NSWFFRDBv2.1'],\n",
       "  'weight_notes': ['python-script import', 'default of 1'],\n",
       "  'weight': 1,\n",
       "  'norm_value': 'None',\n",
       "  'species_code': '7060',\n",
       "  'species': 'Acacia baueri subsp. baueri'},\n",
       " {'raw_value': ['VA Group VIII',\n",
       "   'Killed by 100% scorch; seed storage unknown',\n",
       "   'Overall value of fireresponse column is S'],\n",
       "  'original_sources': ['Bell 1998'],\n",
       "  'main_source': 'NSWFFRDv2.1',\n",
       "  'additional_notes': ['Values reclassified following rules proposed by D. Keith et al.',\n",
       "   'Automatic extraction with python script',\n",
       "   'Raw values extracted from notes/comments in NSWFFRDBv2.1'],\n",
       "  'weight_notes': ['python-script import', 'default of 1'],\n",
       "  'weight': 1,\n",
       "  'norm_value': 'None',\n",
       "  'species_code': '7060',\n",
       "  'species': 'Acacia baueri subsp. baueri'}]"
      ]
     },
     "execution_count": 45,
     "metadata": {},
     "output_type": "execute_result"
    }
   ],
   "source": [
    "read_row_resprouting(species_data,14)"
   ]
  },
  {
   "cell_type": "code",
   "execution_count": 49,
   "id": "9f37c9f1-80e6-40b3-9cee-db421e4160d2",
   "metadata": {},
   "outputs": [
    {
     "data": {
      "text/plain": [
       "'S'"
      ]
     },
     "execution_count": 49,
     "metadata": {},
     "output_type": "execute_result"
    }
   ],
   "source": [
    "species_data[fireresponse_col][3].value"
   ]
  },
  {
   "cell_type": "code",
   "execution_count": 54,
   "id": "f2e1ab87-2216-47d6-8683-bd696d7a4907",
   "metadata": {},
   "outputs": [
    {
     "name": "stdout",
     "output_type": "stream",
     "text": [
      "Connecting to the PostgreSQL database...\n",
      "total of 1034 records prepared\n",
      "total number of lines updated: 1034\n",
      "total of 936 records prepared\n",
      "total number of lines updated: 1970\n",
      "total of 890 records prepared\n",
      "total number of lines updated: 2860\n",
      "total of 951 records prepared\n",
      "total number of lines updated: 3811\n",
      "total of 890 records prepared\n",
      "total number of lines updated: 4701\n",
      "total of 885 records prepared\n",
      "total number of lines updated: 5586\n",
      "total of 1071 records prepared\n",
      "total number of lines updated: 6657\n",
      "total of 1156 records prepared\n",
      "total number of lines updated: 7813\n",
      "total of 915 records prepared\n",
      "total number of lines updated: 8728\n",
      "total of 845 records prepared\n",
      "total number of lines updated: 9573\n",
      "total of 806 records prepared\n",
      "total number of lines updated: 10379\n",
      "total of 860 records prepared\n",
      "total number of lines updated: 11239\n",
      "empty row\n",
      "total of 324 records prepared\n",
      "total number of lines updated: 11563\n",
      "Database connection closed.\n"
     ]
    }
   ],
   "source": [
    "row_min = 2\n",
    "row_max = species_data.max_row\n",
    "varname=species_data[fireresponse_col][1].value\n",
    "\n",
    "print('Connecting to the PostgreSQL database...')\n",
    "conn = psycopg2.connect(**dbparams)\n",
    "cur = conn.cursor()\n",
    "affected_rows=0\n",
    "insert_statement = 'insert into litrev.surv1 (%s) values %s ON CONFLICT DO NOTHING'\n",
    "\n",
    "records=list()\n",
    "for row in range(row_min,row_max):\n",
    "    rr = read_row_resprouting(species_data,row)\n",
    "    if rr is not None:\n",
    "        records.extend(rr)\n",
    "    if (((row-row_min) % 250) == 0 and len(records)>10) or (row==(row_max-1)):\n",
    "        print(\"total of %s records prepared\" % len(records)) \n",
    "        for record in records: \n",
    "            cur.execute(insert_statement, (AsIs(','.join(record.keys())), tuple(record.values())))\n",
    "            affected_rows = affected_rows+cur.rowcount\n",
    "        records.clear()\n",
    "        conn.commit()\n",
    "        print(\"total number of lines updated: %s\" % affected_rows)\n",
    "\n",
    "cur.close()\n",
    "if conn is not None:\n",
    "    conn.close()\n",
    "    print('Database connection closed.')     \n"
   ]
  },
  {
   "cell_type": "markdown",
   "id": "5e2b4b60-b1ab-4dd1-b30e-3560653b52a3",
   "metadata": {},
   "source": [
    "This is somehow slow, but it works, and all the records are in the database."
   ]
  },
  {
   "cell_type": "code",
   "execution_count": null,
   "id": "a80b20a8-1bb7-4b56-bc63-9ccc5b035c7b",
   "metadata": {},
   "outputs": [],
   "source": []
  }
 ],
 "metadata": {
  "kernelspec": {
   "display_name": "Python 3 (ipykernel)",
   "language": "python",
   "name": "python3"
  },
  "language_info": {
   "codemirror_mode": {
    "name": "ipython",
    "version": 3
   },
   "file_extension": ".py",
   "mimetype": "text/x-python",
   "name": "python",
   "nbconvert_exporter": "python",
   "pygments_lexer": "ipython3",
   "version": "3.10.2"
  }
 },
 "nbformat": 4,
 "nbformat_minor": 5
}
