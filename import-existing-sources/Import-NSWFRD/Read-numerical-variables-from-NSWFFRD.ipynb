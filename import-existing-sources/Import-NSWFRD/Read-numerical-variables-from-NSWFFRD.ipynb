{
 "cells": [
  {
   "cell_type": "markdown",
   "id": "498f24ce-5ed6-47a3-bd3a-bc06dc859b96",
   "metadata": {
    "tags": []
   },
   "source": [
    "# Read juvenile periods data from NSWFRD 2014\n",
    "Read the spreadsheet from NSW Flora Fire response database and extract information for the time to first flowering after fire (primary and secondary juvenile periods for recruits and resprouters respectively).\n",
    "We will use the _openpyxl_ library in ***python***"
   ]
  },
  {
   "cell_type": "code",
   "execution_count": 1,
   "id": "58c9bacb-b46f-48b7-b7a7-cd82268a6932",
   "metadata": {},
   "outputs": [],
   "source": [
    "import openpyxl\n",
    "from pathlib import Path\n",
    "import os\n",
    "import re\n",
    "import copy"
   ]
  },
  {
   "cell_type": "markdown",
   "id": "da72447c-22d7-4e59-828a-3f1d0359d908",
   "metadata": {},
   "source": [
    "We need to define a path to locate the documents relative to the current repository directory"
   ]
  },
  {
   "cell_type": "code",
   "execution_count": 2,
   "id": "32af50ac-02c7-46ac-ac4c-301c769efe4d",
   "metadata": {},
   "outputs": [],
   "source": [
    "repodir = Path(\"../..\") \n",
    "inputdir = repodir / \"data/\""
   ]
  },
  {
   "cell_type": "markdown",
   "id": "38d3b9e0-1398-44b4-8ee0-175ee9f5dd80",
   "metadata": {},
   "source": [
    "## Open the workbook and read main spreadsheet\n",
    "Here we will load the workbook (_wb_):"
   ]
  },
  {
   "cell_type": "code",
   "execution_count": 3,
   "id": "82329cd1-1941-490d-86da-c528363aa7af",
   "metadata": {},
   "outputs": [],
   "source": [
    "wb = openpyxl.load_workbook(inputdir / \"NSWFFRDv2.1.xlsx\")"
   ]
  },
  {
   "cell_type": "markdown",
   "id": "f5103232-f975-49a0-8ed1-a12db1f21c5c",
   "metadata": {},
   "source": [
    "We will use the sheet names to read them. We need access to sheet 'Species data', 'References' and 'VA Groups':"
   ]
  },
  {
   "cell_type": "code",
   "execution_count": 4,
   "id": "068ce434-6da5-4a2a-83b4-4a71071c4e33",
   "metadata": {},
   "outputs": [],
   "source": [
    "species_data = wb['SpeciesData']\n",
    "va_groups = wb['VA Groups']\n",
    "references = wb['References']\n",
    "column_notes = wb['Notes'] "
   ]
  },
  {
   "cell_type": "markdown",
   "id": "e93b885a-f192-4018-9374-74209f90ea08",
   "metadata": {},
   "source": [
    "In the case of time to first flowering we need to read data from columns _Z_ ('Primary juvenile period'), and _AA_ ('Secondary juvenile period').\n",
    "\n",
    "We can use square brackets to refer to a column and then use python indices (starting with _0_ for the top row) to slice it. We use the property _value_ to show their stored content. "
   ]
  },
  {
   "cell_type": "code",
   "execution_count": 5,
   "id": "04cb146d-c4db-4612-900f-23c9d80a3272",
   "metadata": {},
   "outputs": [
    {
     "name": "stdout",
     "output_type": "stream",
     "text": [
      "Primary juvenile period\n",
      "3\n"
     ]
    }
   ],
   "source": [
    "print(species_data['Z'][1].value)\n",
    "print(species_data['Z'][5].value)"
   ]
  },
  {
   "cell_type": "markdown",
   "id": "31e514e7-1b31-451a-bc00-497a1566fd1e",
   "metadata": {},
   "source": [
    "Alternatively, we can use the function _cell_ to retrieve individual cells. Indices here follow the spreadsheet convention and start with _1_ for the top row. The header is in the second row, the first value is in the third row:"
   ]
  },
  {
   "cell_type": "code",
   "execution_count": 6,
   "id": "f9ac80d3-6c19-4b71-8b82-d8b8e8ab5670",
   "metadata": {},
   "outputs": [
    {
     "name": "stdout",
     "output_type": "stream",
     "text": [
      "Secondary juvenile period\n",
      "3\n"
     ]
    }
   ],
   "source": [
    "print(species_data.cell(row=2,column=27).value)\n",
    "print(species_data.cell(row=14,column=27).value)"
   ]
  },
  {
   "cell_type": "markdown",
   "id": "b80f79f3-48aa-4b70-a7ac-5b77093be79d",
   "metadata": {},
   "source": [
    "### Example for one species:\n",
    "Let's start checking the columns we need:"
   ]
  },
  {
   "cell_type": "code",
   "execution_count": 7,
   "id": "9f6c4276-9144-42a9-b9f1-84613bba9672",
   "metadata": {},
   "outputs": [
    {
     "name": "stdout",
     "output_type": "stream",
     "text": [
      "Current Scientific Name (Species Code) / Secondary juvenile period / Fire tolerance / Life span / Seed-bank longevity \n"
     ]
    }
   ],
   "source": [
    "sp_col='A'\n",
    "spcode_col='B'\n",
    "target_cols = {'repr3':'Z', 'repr3a':'AA', 'grow1':'AD', 'repr4':None, 'surv5':'AE', 'surv6':None, 'surv7':'AF'}\n",
    "\n",
    "print(\"%s (%s) / %s / %s / %s / %s \" %\n",
    "(species_data[sp_col][1].value,\n",
    " species_data[spcode_col][1].value,\n",
    "species_data[target_cols['repr3a']][1].value,\n",
    "species_data[target_cols['grow1']][1].value,\n",
    "species_data[target_cols['surv5']][1].value,\n",
    "species_data[target_cols['surv7']][1].value))"
   ]
  },
  {
   "cell_type": "markdown",
   "id": "49574863-06a1-495b-af17-cea3e3fe61e3",
   "metadata": {
    "tags": []
   },
   "source": [
    "Descriptions of these columns are found in the spreadsheet:"
   ]
  },
  {
   "cell_type": "code",
   "execution_count": 8,
   "id": "06ee994f-9e0a-4f14-9d1e-cdee9ddb1f8b",
   "metadata": {},
   "outputs": [
    {
     "name": "stdout",
     "output_type": "stream",
     "text": [
      " - 26 ) *Primary Juvenile Period*\n",
      "\tPlant age at first flowering. May be a single figure or range of ages, may also be an indication (e.g. >5 implies that at 5 years post-fire flowering had still not been observed). May give the percentage of the population observed to flower at a particular time post-fire\n",
      " - 27 ) *Secondary juvenile period*\n",
      "\tPost-fire age at which flowering first occurs from resprouting material\n",
      " - 31 ) *Life span*\n",
      "\tPlant age at which senescence is expected to occur. In many cases this is a fairly broad range, based on plant life form & structure. May be post-fire age at which a species is no longer found in a community where it was known or assumed to occur in.\n",
      " - 32 ) *Seedbank Longeiveity*\n",
      "\tNumber of years that a stored seed-bank is expected to stay viable.hl= half life value reported\n"
     ]
    }
   ],
   "source": [
    "#26 27 31 32\n",
    "#for k in range(10,50):\n",
    "for k in (26,27,31,32):\n",
    "    print(\" - %s ) *%s*\" % (k,column_notes.cell(row=k,column=2).value))\n",
    "    print(\"\\t%s\" % column_notes.cell(row=k,column=3).value)"
   ]
  },
  {
   "cell_type": "markdown",
   "id": "0cebc689-5fa7-480d-b1de-abee6d3603b0",
   "metadata": {},
   "source": [
    "Now select one record:"
   ]
  },
  {
   "cell_type": "code",
   "execution_count": 9,
   "id": "71ddf16d-d4c7-4f50-9e75-7570ed913fc2",
   "metadata": {
    "tags": []
   },
   "outputs": [
    {
     "name": "stdout",
     "output_type": "stream",
     "text": [
      "Acacia mucronata subsp. longifolia (10058) / 1->4 / None / None / None \n"
     ]
    }
   ],
   "source": [
    "row_index=98\n",
    "\n",
    "print(\"%s (%s) / %s / %s / %s / %s \" %\n",
    "(species_data[sp_col][row_index].value,\n",
    " species_data[spcode_col][row_index].value,\n",
    "species_data[target_cols['repr3a']][row_index].value,\n",
    "species_data[target_cols['grow1']][row_index].value,\n",
    "species_data[target_cols['surv5']][row_index].value,\n",
    "species_data[target_cols['surv7']][row_index].value))"
   ]
  },
  {
   "cell_type": "markdown",
   "id": "ed40847e-daf0-4ab9-840b-06bf8b446cac",
   "metadata": {
    "tags": []
   },
   "source": [
    "#### Dealing with hyperlinks\n",
    "\n",
    "This cell has a hyperlink:"
   ]
  },
  {
   "cell_type": "code",
   "execution_count": 10,
   "id": "b82a128e-cc64-4183-b03a-91b4d72e3254",
   "metadata": {},
   "outputs": [
    {
     "data": {
      "text/plain": [
       "openpyxl.worksheet.hyperlink.Hyperlink"
      ]
     },
     "execution_count": 10,
     "metadata": {},
     "output_type": "execute_result"
    }
   ],
   "source": [
    "type(species_data[target_cols['repr3']][row_index].hyperlink)\n",
    "# same as \n",
    "# type(species_data[secondary_jp_col][row_index].hyperlink)"
   ]
  },
  {
   "cell_type": "markdown",
   "id": "398c9c00-c619-4528-9413-f7ec55d56482",
   "metadata": {},
   "source": [
    "If the cell is a hyperlink it will have a value to \"display\" and will point to a \"location\" within the workbook: "
   ]
  },
  {
   "cell_type": "code",
   "execution_count": 11,
   "id": "a724720f-cf84-47ad-a02e-135094f39709",
   "metadata": {},
   "outputs": [
    {
     "data": {
      "text/plain": [
       "'References!C49'"
      ]
     },
     "execution_count": 11,
     "metadata": {},
     "output_type": "execute_result"
    }
   ],
   "source": [
    "species_data[target_cols['repr3']][row_index].hyperlink.display"
   ]
  },
  {
   "cell_type": "code",
   "execution_count": 12,
   "id": "20a43761-7aec-460f-a52e-1b3312073249",
   "metadata": {},
   "outputs": [
    {
     "name": "stdout",
     "output_type": "stream",
     "text": [
      "References!C49\n"
     ]
    }
   ],
   "source": [
    "# This will fail if there is no hyperlink \n",
    "print(species_data[target_cols['repr3']][row_index].hyperlink.location)"
   ]
  },
  {
   "cell_type": "markdown",
   "id": "4574fc94-2dbf-4acf-958c-3444a9ceba63",
   "metadata": {},
   "source": [
    "Let's see the value of this reference:"
   ]
  },
  {
   "cell_type": "code",
   "execution_count": 13,
   "id": "7b4de60a-6404-45d6-8f32-6cce8fcb64be",
   "metadata": {},
   "outputs": [],
   "source": [
    "hlink = species_data[target_cols['repr3']][row_index].hyperlink.location\n",
    "hlink = hlink.split(\"!\")"
   ]
  },
  {
   "cell_type": "markdown",
   "id": "e2776b91-c5ed-441d-8103-ba63f5e77cff",
   "metadata": {},
   "source": [
    "This gives the name of the target sheet and the corresponding cell. We need to read the cell to its right side (add one to the column number) to get the information we need."
   ]
  },
  {
   "cell_type": "code",
   "execution_count": 14,
   "id": "cf4b6f89-a497-407d-b4ad-3568e16f7394",
   "metadata": {},
   "outputs": [
    {
     "name": "stdout",
     "output_type": "stream",
     "text": [
      "Cell value is :: 48\n",
      "Reference data is :: Wark, M.C. (1997) Regeneration of some forest and gully communities in the Angahook-Lorne State Park (north-eastern Otway Ranges) 1-10 years after the wildfire of February 1983. Proc.Roy.Soc.Vic. 109, 7-36.\n"
     ]
    }
   ],
   "source": [
    "ref = wb[hlink[0]]\n",
    "print(\"Cell value is :: \" + str(ref[hlink[1]].value))\n",
    "nlink = ref.cell(row=ref[hlink[1]].row,column=ref[hlink[1]].col_idx + 1)\n",
    "\n",
    "print(\"Reference data is :: \" + nlink.value) \n"
   ]
  },
  {
   "cell_type": "markdown",
   "id": "7066ac16-92f1-4011-a3df-136bb6b2b1ae",
   "metadata": {},
   "source": [
    "If there is no hyperlink, it will result in NoneType"
   ]
  },
  {
   "cell_type": "code",
   "execution_count": 15,
   "id": "bd9033db-5cbc-43e1-9e10-a737e1f1df69",
   "metadata": {},
   "outputs": [
    {
     "data": {
      "text/plain": [
       "NoneType"
      ]
     },
     "execution_count": 15,
     "metadata": {},
     "output_type": "execute_result"
    }
   ],
   "source": [
    "type(species_data[target_cols['repr3']][row_index-1].hyperlink)"
   ]
  },
  {
   "cell_type": "markdown",
   "id": "89196fa3-e742-4db9-ae3b-39c79a661dea",
   "metadata": {},
   "source": [
    "The secondary juvenile period might point to different sets of references"
   ]
  },
  {
   "cell_type": "code",
   "execution_count": 16,
   "id": "c299a3b9-78c8-448c-abd9-fa3282831b90",
   "metadata": {},
   "outputs": [
    {
     "name": "stdout",
     "output_type": "stream",
     "text": [
      "Cell value is :: 67\n",
      "Reference data is :: Tolhurst, KG & Oswin, DA (1992) Effects of spring and autumn low intensity fire on understorey vegetation in open eucalypt forest in west-central Victoria. In Tolhurts & Flinn (Eds) Ecological inpacts of fuel reduction burning in dry sclerophyll forest. First progress report. Research report 349. Forest Research, Dept Conservation & Environment, Victoria\n"
     ]
    }
   ],
   "source": [
    "hlink = species_data[target_cols['repr3a']][row_index].hyperlink.location\n",
    "hlink = hlink.split(\"!\")\n",
    "ref = wb[hlink[0]]\n",
    "print(\"Cell value is :: \" + str(ref[hlink[1]].value))\n",
    "nlink = ref.cell(row=ref[hlink[1]].row,column=ref[hlink[1]].col_idx + 1)\n",
    "\n",
    "print(\"Reference data is :: \" + nlink.value) "
   ]
  },
  {
   "cell_type": "markdown",
   "id": "dceaea5d-b131-4ae4-8eb4-12722b1a5d58",
   "metadata": {
    "tags": []
   },
   "source": [
    "### List of references \n",
    "We need to prepare list of references from spreadsheet 'References'.\n",
    "\n",
    "There are three sets of references:\n",
    "- the  \"normal\" references in columns C and D (pink)\n",
    "- the  \"Recovery Plan / Regional Forest Agreement Report\" references in columns N, O, and P (blue)\n",
    "- the  \"NFRR\" references in columns S and T (lila)\n",
    "\n",
    "Normal and NFRR references are identified by a simple two-cipher or -letter code and reference description, we will use a function to create a more descriptive reference code for the references based on the list of authors and date.\n",
    "\n",
    "For Recovery plans and Regional Forest Agreement Reports, we will use the species or region as reference code.\n"
   ]
  },
  {
   "cell_type": "code",
   "execution_count": 17,
   "id": "669a58c6-4b82-483e-ac7b-fb7f8b4b7773",
   "metadata": {
    "tags": []
   },
   "outputs": [
    {
     "name": "stdout",
     "output_type": "stream",
     "text": [
      "Asterolasia elegans\n"
     ]
    },
    {
     "data": {
      "text/plain": [
       "'RP Asterolasia elegans'"
      ]
     },
     "execution_count": 17,
     "metadata": {},
     "output_type": "execute_result"
    }
   ],
   "source": [
    "r = re.compile(\"[A-Z][a-z]+\")\n",
    "def create_ref_code(x):\n",
    "    \n",
    "    if x.__contains__(\"personal communication\"):\n",
    "        y = x[0:x.find(\" personal\")].replace(\",\",\"\")\n",
    "        year = \"pers. comm.\"\n",
    "    elif x.__contains__(\"unpublished\"):\n",
    "        y = x[0:x.find(\"unpublished\")].replace(\",\",\"\")\n",
    "        year = \"unpub.\"\n",
    "    else:\n",
    "        y = x[0:x.find(\")\")].replace(\",\",\"\")\n",
    "        year = ''.join(re.findall(\"\\d+\", y))\n",
    "    z = list(filter(r.match, y.split()))\n",
    "    author = ' '.join(z)\n",
    "    final_code =  \"%s %s\" % (author, year)\n",
    "    if (len(final_code)>50):\n",
    "        final_code=final_code[0:50]\n",
    "    return(final_code)\n",
    "\n",
    "def create_ref_code_RP(x):\n",
    "    if x.__contains__(\"^RFA\"):\n",
    "        final_code = x\n",
    "    else:\n",
    "        final_code = \"RP %s\" % x\n",
    "    if (len(final_code)>50):\n",
    "        final_code=final_code[0:50]\n",
    "    return(final_code)\n",
    "\n",
    "\n",
    "val=references['O'][26].value.replace(\"(1) \",\"\")\n",
    "print(val)\n",
    "create_ref_code_RP(val)"
   ]
  },
  {
   "cell_type": "markdown",
   "id": "d9ba9299-008f-4634-a3f8-a2b0734146e6",
   "metadata": {},
   "source": [
    "Now we check references of NFRR (notice that we will substitute number _1_ with capital _I_ in refcode to avoid problems with one reference (see below):"
   ]
  },
  {
   "cell_type": "code",
   "execution_count": 18,
   "id": "16ad5b4c-98a3-4f62-bb34-7601e2c2446d",
   "metadata": {},
   "outputs": [],
   "source": [
    "NFRR_refs=list()\n",
    "for row in range(1,66):\n",
    "    cite_text = references['T'][row].value.replace(\"(1) \",\"\")\n",
    "    cite_code = create_ref_code(cite_text) \n",
    "    record={\"refcode\": references['S'][row].value.replace(\"1\",\"I\"),\n",
    "            \"refstring\": cite_code,#re.sub(r\", [A-Z\\.]+\",\" \",cite_code),\n",
    "            \"refinfo\": cite_text\n",
    "    }\n",
    "    NFRR_refs.append(record)"
   ]
  },
  {
   "cell_type": "code",
   "execution_count": 19,
   "id": "96319c0f-38cb-4d2b-a411-ce0ec3c6327d",
   "metadata": {},
   "outputs": [
    {
     "data": {
      "text/plain": [
       "{'refcode': 'WO',\n",
       " 'refstring': 'Mike Wouters Horsham Vic. unpub.',\n",
       " 'refinfo': 'Mike Wouters, Horsham, Vic. (unpublished)'}"
      ]
     },
     "execution_count": 19,
     "metadata": {},
     "output_type": "execute_result"
    }
   ],
   "source": [
    "NFRR_refs[64]"
   ]
  },
  {
   "cell_type": "code",
   "execution_count": 20,
   "id": "f83d3000-19ac-4b87-a92b-cff757f116d0",
   "metadata": {},
   "outputs": [
    {
     "data": {
      "text/plain": [
       "'BF'"
      ]
     },
     "execution_count": 20,
     "metadata": {},
     "output_type": "execute_result"
    }
   ],
   "source": [
    "NFRR_refs[6][\"refcode\"]"
   ]
  },
  {
   "cell_type": "code",
   "execution_count": 21,
   "id": "87d9a924-48ff-4654-9ec0-29fa8d6ffec3",
   "metadata": {},
   "outputs": [
    {
     "name": "stdout",
     "output_type": "stream",
     "text": [
      "NFRR reference FOI refers to 'Fox, J.E.D. (1985). Fire in Mulga: Studies at the margins. In: Fire ecology and management of Western Australian ecosystems. (ed: J.R. Ford). Western Australian Institute of Technology, report no. 14.'\n"
     ]
    }
   ],
   "source": [
    "qry=\"FOI\"\n",
    "for elem in filter(lambda x: x['refcode'] == qry, NFRR_refs):\n",
    "    print(\"NFRR reference %s refers to '%s'\" % (qry, elem['refinfo']))"
   ]
  },
  {
   "cell_type": "markdown",
   "id": "335f3e7b-4356-4a23-9b36-5c862ebf8e05",
   "metadata": {},
   "source": [
    "We do the same for the \"normal\" references column:"
   ]
  },
  {
   "cell_type": "code",
   "execution_count": 22,
   "id": "8833ee3e-8f13-4531-ad74-357d96bcbb6d",
   "metadata": {},
   "outputs": [],
   "source": [
    "other_refs=list()\n",
    "for row in range(1,139):\n",
    "    cite_text = references['D'][row].value\n",
    "    cite_code = create_ref_code(cite_text) \n",
    "    if cite_code == \"Benson 1985\":\n",
    "        cite_code = \"Benson 1985b\"\n",
    "    record={\"refcode\": references['C'][row].value,\n",
    "            \"refstring\": cite_code,\n",
    "            \"refinfo\": cite_text\n",
    "    }\n",
    "    other_refs.append(record)"
   ]
  },
  {
   "cell_type": "code",
   "execution_count": 23,
   "id": "67350a19-57b7-4e2b-a012-71686bbe89dc",
   "metadata": {},
   "outputs": [
    {
     "data": {
      "text/plain": [
       "{'refcode': 138,\n",
       " 'refstring': 'Kubiak 2009',\n",
       " 'refinfo': 'Kubiak, P.J. (2009). Fire responses of bushland plants after the January 1994 wildfires in northern Sydney'}"
      ]
     },
     "execution_count": 23,
     "metadata": {},
     "output_type": "execute_result"
    }
   ],
   "source": [
    "other_refs[137]"
   ]
  },
  {
   "cell_type": "markdown",
   "id": "db24542a-f390-4246-81c7-33fbaca5fe6e",
   "metadata": {},
   "source": [
    "Now the recovery plan references:"
   ]
  },
  {
   "cell_type": "code",
   "execution_count": 24,
   "id": "5000a06a-1b23-4a0c-9259-337c737ef8cd",
   "metadata": {},
   "outputs": [],
   "source": [
    "rp_refs=list()\n",
    "for row in range(1,46):\n",
    "    cite_code = create_ref_code_RP(references['O'][row].value) \n",
    "    cite_text = \"%s. %s\" % (cite_code, references['P'][row].value)\n",
    "    record={\"refcode\": references['N'][row].value,\n",
    "            \"refstring\": cite_code,\n",
    "            \"refinfo\": cite_text\n",
    "    }\n",
    "    rp_refs.append(record)"
   ]
  },
  {
   "cell_type": "markdown",
   "id": "641f1bb8-2c1b-4487-8665-ebc52206362d",
   "metadata": {},
   "source": [
    "Check if there are duplicated references:"
   ]
  },
  {
   "cell_type": "code",
   "execution_count": 25,
   "id": "0d4301e1-58ee-4e49-abb5-eed08b1b75c6",
   "metadata": {},
   "outputs": [
    {
     "name": "stdout",
     "output_type": "stream",
     "text": [
      "Benwell 1998\n",
      "Molnar Fletcher Parsons 1989\n",
      "Wark White Robertson Marriott 1987\n",
      "Wark 1997\n"
     ]
    }
   ],
   "source": [
    "l1 = list()\n",
    "for r in NFRR_refs: \n",
    "    l1.append(r[\"refstring\"])\n",
    "l2 = list()\n",
    "for r in other_refs: \n",
    "    l2.append(r[\"refstring\"])\n",
    "\n",
    "for i in l1:\n",
    "    if i in l2:\n",
    "        print(i)\n"
   ]
  },
  {
   "cell_type": "code",
   "execution_count": 26,
   "id": "59fddbef-67c6-4e76-ae01-87784c204613",
   "metadata": {
    "tags": []
   },
   "outputs": [
    {
     "name": "stdout",
     "output_type": "stream",
     "text": [
      "Reference Benwell 1998 refers to 'Benwell A.S. (1998). Post-fire seedling recruitment in coastal heathland in relation to regeneration strategy and habitat. Aust. J. Bot. 46, 75-101.'\n",
      "Reference Benwell 1998 refers to 'Benwell, A.S. (1998) Post-fire seedling recruitment in coastal heathland in relation to regeneration strategy and habitat. Aust. J. Bot. 46:75-101.  Data compiled by D.Keith (Keith, D.A., McCaw, W.L. & Whelan, R.J. (2002) pp. 199-237 in \"Flammable Australia: The fire regimes and biodiversity of a continent\" Ed. R.A. Bradstock, J.E. Williams & M.A. Gill. Cambridge University Press, Cambridge)'\n"
     ]
    }
   ],
   "source": [
    "qry=\"Benwell 1998\"\n",
    "for elem in filter(lambda x: x['refstring'] == qry, NFRR_refs):\n",
    "    print(\"Reference %s refers to '%s'\" % (qry, elem['refinfo']))\n",
    "for elem in filter(lambda x: x['refstring'] == qry, other_refs):\n",
    "    print(\"Reference %s refers to '%s'\" % (qry, elem['refinfo']))\n",
    "    "
   ]
  },
  {
   "cell_type": "markdown",
   "id": "55e2b46d-786c-4edc-86ba-88c4a8d7de70",
   "metadata": {},
   "source": [
    "#### Matching references from hyperlinks\n",
    "We will create a function to translate hyperlinks to a reference:"
   ]
  },
  {
   "cell_type": "code",
   "execution_count": 27,
   "id": "ea53a3bf-2475-41a5-ad5f-a375e93db027",
   "metadata": {},
   "outputs": [],
   "source": [
    "def extract_link(target):\n",
    "    p=re.compile('[,;\\s]+')\n",
    "    assert (target.hyperlink is not None),\"Only works when cell has a hyperlink!\"\n",
    "    hlink = target.hyperlink.location\n",
    "    hlink = hlink.split(\"!\")\n",
    "    if (hlink[0] != \"References\"): #\"Expecting hyperlink to 'References' sheet\"\n",
    "        return None\n",
    "    else:\n",
    "        column=hlink[1][0:1]\n",
    "        cell=hlink[1].strip('\\\\')\n",
    "        refcodes=references[cell].value\n",
    "        refinfo=list()\n",
    "        if refcodes is not None:\n",
    "            if isinstance(refcodes,int):\n",
    "                for elem in filter(lambda x: x['refcode'] == refcodes, other_refs):\n",
    "                    refinfo.append(elem['refstring'])\n",
    "            else:\n",
    "                for refcode in p.split(refcodes):\n",
    "                    refcode=refcode.strip(\" \")\n",
    "                    refcode=re.sub(\"[abc]$\",\"\",refcode)\n",
    "                    if refcode.isnumeric():\n",
    "                        for elem in filter(lambda x: x['refcode'] == int(refcode), other_refs):\n",
    "                            refinfo.append(elem['refstring'])\n",
    "                    else:\n",
    "                        for elem in filter(lambda x: x['refcode'] == refcode, rp_refs):\n",
    "                            refinfo.append(elem['refstring'])\n",
    "                        for elem in filter(lambda x: x['refcode'] == refcode, NFRR_refs):\n",
    "                            refinfo.append(elem['refstring'])\n",
    "            return (refcodes,refinfo)\n",
    "        else:\n",
    "            return None\n",
    "\n",
    "            "
   ]
  },
  {
   "cell_type": "markdown",
   "id": "ef806a5d-d1a9-4c49-886b-f4d7b4416784",
   "metadata": {},
   "source": [
    "We can test this function for several rows:"
   ]
  },
  {
   "cell_type": "code",
   "execution_count": 28,
   "id": "0abca445-63b7-4087-87ad-ffa059793c50",
   "metadata": {},
   "outputs": [
    {
     "name": "stdout",
     "output_type": "stream",
     "text": [
      "98 :: [1->4] // ['Tolhurst Oswin 1992']\n",
      "99 :: [None] \n",
      "100 :: [None] \n",
      "128 :: [None] \n",
      "206 :: [None] \n",
      "1422 :: [0.5] // ['Benson McDougall Ecology Sydney Plant Species Cunn']\n",
      "1421 :: [None] \n"
     ]
    }
   ],
   "source": [
    "for row_index in (98,99,100,128,206, 1422,1421):\n",
    "    spname=species_data[sp_col][row_index].value\n",
    "    pjp=species_data[target_cols['repr3a']][row_index]\n",
    "    #sjp=species_data[secondary_jp_col][row_index].value\n",
    "\n",
    "    raw=pjp.value\n",
    "    #val=extract_value(species_data[primary_jp_col][row_index])\n",
    "    if (pjp.hyperlink is not None):\n",
    "        ref=extract_link(pjp)\n",
    "        if ref is not None:\n",
    "            print(\"%s :: [%s] // %s\" % (row_index,raw,ref[1]))\n",
    "        else:\n",
    "            print(\"%s :: [%s] \" % (row_index,raw))            \n",
    "    else:\n",
    "        print(\"%s :: [%s] \" % (row_index,raw))"
   ]
  },
  {
   "cell_type": "markdown",
   "id": "ebc47b9a-51ba-4e28-9d47-f280774766b9",
   "metadata": {},
   "source": [
    "#### Processing strings with and without references\n",
    "The value of the cell might contain one or multiple values, and sometimes references are given in parentheses."
   ]
  },
  {
   "cell_type": "code",
   "execution_count": 29,
   "id": "cbe8be32-0a83-45bf-b01f-c7d6aed4ebec",
   "metadata": {},
   "outputs": [],
   "source": [
    "def extract_value(target,varname):\n",
    "    assert (target.value is not None),\"Only works whith non-empty cells\"\n",
    "    p=re.compile('[,;\\s]+')\n",
    "    val = target.value\n",
    "    note = list()\n",
    "    if target.font.color != None:\n",
    "        note.append('Cell color index %s' % target.font.color.indexed)\n",
    "    if target.font.strike != None:\n",
    "        note.append('Cell text has strikethrough')\n",
    "  \n",
    "    rslts = list()\n",
    "    if isinstance(val,int) or isinstance(val,float):\n",
    "        record={\"raw_value\":[varname,str(val)],\"best\":val,\"main_source\":\"NSWFFRDv2.1\"}\n",
    "        if len(note)>0:\n",
    "            record[\"original_notes\"]=note \n",
    "        rslts.append(record)\n",
    "    else:\n",
    "        for w in val.split('/'):\n",
    "            newnote=copy.deepcopy(note)\n",
    "            w=w.strip(\" \")\n",
    "            record={\"raw_value\":[varname,w],\"main_source\":\"NSWFFRDv2.1\"}\n",
    "            if w.find(\"?\")>0:\n",
    "                newnote.append(\"uncertain\")\n",
    "                w=w.replace(\"?\",\"\")\n",
    "            end=len(w)\n",
    "            if w.find(\"(\")>0:\n",
    "                record[\"original_sources\"]=list()\n",
    "                for refs in re.findall(\"\\(([\\w\\d, ]+)\\)\",w):\n",
    "                    for ref in p.split(refs):\n",
    "                        ref=ref.strip(\" \")\n",
    "                        ref=re.sub(\"[abc]$\",\"\",ref)\n",
    "                        if ref.isnumeric():\n",
    "                            for elem in filter(lambda x: x['refcode'] == int(ref), other_refs):\n",
    "                                record[\"original_sources\"].append(elem['refstring'])\n",
    "                        else:\n",
    "                            for elem in filter(lambda x: x['refcode'] == ref, rp_refs):\n",
    "                                record[\"original_sources\"].append(elem['refstring'])\n",
    "                            for elem in filter(lambda x: x['refcode'] == ref, NFRR_refs):\n",
    "                                record[\"original_sources\"].append(elem['refstring'])\n",
    "                end=w.index(\"(\")\n",
    "            sw=w[0:end].strip(\" \")\n",
    "            if sw.isnumeric():\n",
    "                record[\"best\"]=sw\n",
    "            elif sw.find(\"-\")>0:\n",
    "                val = sw.split(\"-\")\n",
    "                if val[0].isnumeric():\n",
    "                    record[\"lower\"]=val[0]\n",
    "                if val[1].isnumeric():\n",
    "                    record[\"upper\"]=val[1]\n",
    "            elif sw.find(\">\")==0:\n",
    "                val=sw[1:]\n",
    "                if val.isnumeric():\n",
    "                    record[\"lower\"]=val\n",
    "            elif sw.find(\"<\")==0:\n",
    "                val=sw[1:]\n",
    "                if val.isnumeric():\n",
    "                    record[\"upper\"]=val\n",
    "            else:\n",
    "                val=sw    \n",
    "            \n",
    "            if len(newnote)>0:\n",
    "                record[\"original_notes\"]=newnote  \n",
    "            rslts.append(record)\n",
    "    return(rslts)\n"
   ]
  },
  {
   "cell_type": "code",
   "execution_count": 30,
   "id": "94f5c933-e468-4933-9433-adf3056a2cd6",
   "metadata": {},
   "outputs": [
    {
     "name": "stdout",
     "output_type": "stream",
     "text": [
      "98 ::  {'raw_value': ['Primary juvenile period', '3'], 'best': 3, 'main_source': 'NSWFFRDv2.1', 'original_notes': ['Cell color index 12'], 'species': 'Acacia mucronata subsp. longifolia', 'species_code': '10058', 'original_sources': ['Wark 1997']}\n",
      "99 ::  {'raw_value': ['Primary juvenile period', 'c. 3'], 'main_source': 'NSWFFRDv2.1', 'original_notes': ['Cell color index 12'], 'species': 'Acacia murrayana', 'species_code': '3832', 'original_sources': ['Hodgkinson Griffin 1982']}\n",
      "100 ::  {'raw_value': ['Primary juvenile period', '2 (10)'], 'main_source': 'NSWFFRDv2.1', 'original_sources': ['Wark White Robertson Marriott 1987'], 'best': '2', 'species': 'Acacia myrtifolia', 'species_code': '3834'}\n",
      "100 ::  {'raw_value': ['Primary juvenile period', '2.5 (1b)'], 'main_source': 'NSWFFRDv2.1', 'original_sources': ['Benson McDougall Ecology Sydney Plant Species Cunn'], 'species': 'Acacia myrtifolia', 'species_code': '3834'}\n",
      "100 ::  {'raw_value': ['Primary juvenile period', '3 (9, 48)'], 'main_source': 'NSWFFRDv2.1', 'original_sources': ['Keith David pers. comm.', 'Wark 1997'], 'best': '3', 'species': 'Acacia myrtifolia', 'species_code': '3834'}\n",
      "100 ::  {'raw_value': ['Primary juvenile period', '4 (38)'], 'main_source': 'NSWFFRDv2.1', 'original_sources': ['Department Natural Resources Environment '], 'best': '4', 'species': 'Acacia myrtifolia', 'species_code': '3834'}\n",
      "206 ::  {'raw_value': ['Primary juvenile period', '>3'], 'main_source': 'NSWFFRDv2.1', 'lower': '3', 'original_notes': ['Cell color index 12'], 'species': 'Allocasuarina glareicola', 'species_code': '8320', 'original_sources': ['RP Allocasuarina glareicola']}\n",
      "1422 is empty \n",
      "1421 ::  {'raw_value': ['Primary juvenile period', '1 (10, 48)'], 'main_source': 'NSWFFRDv2.1', 'original_sources': ['Wark White Robertson Marriott 1987', 'Wark 1997'], 'best': '1', 'original_notes': ['Cell color index 12'], 'species': 'Goodenia ovata', 'species_code': '3192'}\n",
      "1421 ::  {'raw_value': ['Primary juvenile period', '3 (1, 38)'], 'main_source': 'NSWFFRDv2.1', 'original_sources': ['Benson McDougall Ecology Sydney Plant Species Cunn', 'Department Natural Resources Environment '], 'best': '3', 'original_notes': ['Cell color index 12'], 'species': 'Goodenia ovata', 'species_code': '3192'}\n"
     ]
    }
   ],
   "source": [
    "varname=species_data[target_cols['repr3']][1].value\n",
    "for row_index in (98,99,100,206, 1422,1421):\n",
    "    target=species_data[target_cols['repr3']][row_index]\n",
    "    if (target.hyperlink is not None):\n",
    "        ref=extract_link(target)\n",
    "    else:\n",
    "        ref=None\n",
    "    if (target.value is not None):\n",
    "        spname=species_data[sp_col][row_index].value\n",
    "        spcode=species_data[spcode_col][row_index].value\n",
    "        rec=extract_value(target,varname)\n",
    "        for record in rec:\n",
    "            record[\"main_source\"]=\"NSWFFRDv2.1\"\n",
    "            record[\"species\"]=spname\n",
    "            record[\"species_code\"]=spcode\n",
    "            if 'original_sources' not in record and ref is not None:\n",
    "                record['original_sources'] = ref[1]\n",
    "            print(\"%s ::  %s\" % (row_index,record))\n",
    "           \n",
    "    else:\n",
    "        print(\"%s is empty \" % (row_index))"
   ]
  },
  {
   "cell_type": "markdown",
   "id": "312032bf-a552-4575-8ae6-0395c07851a3",
   "metadata": {},
   "source": [
    "## Format records for input in database\n",
    "\n",
    "Using the code above it is possible to:\n",
    "- create records for each original reference and add them to a central \"reference list\" table\n",
    "- take each species (row) from the spreadsheet and add records for a \"resprouting\" table:\n",
    "    - create one record based on the \"Fire response\" value citing NSWFFRDv2.1 as the main source and other references as original source\n",
    "    - create one or more records for each original reference using the \"Regeneration category\" as input value\n",
    "    \n",
    "But first we need to connect to the database from python."
   ]
  },
  {
   "cell_type": "markdown",
   "id": "da748795-a482-4c53-98d9-4f5f0f2e39e5",
   "metadata": {
    "tags": []
   },
   "source": [
    "### Connect to database from Python\n",
    "\n",
    "We use the library _psygopg2_ to connect to the database. We first read the database credential from a file with restricted read access:"
   ]
  },
  {
   "cell_type": "code",
   "execution_count": 31,
   "id": "90fed829-7ab9-44d7-abf8-ba2b012aec17",
   "metadata": {},
   "outputs": [],
   "source": [
    "from configparser import ConfigParser\n",
    "import psycopg2\n",
    "from psycopg2.extensions import AsIs\n",
    "\n",
    "filename = repodir / 'secrets' / 'database.ini'\n",
    "section = 'aws-lght-sl'\n",
    "\n",
    "parser = ConfigParser()\n",
    "parser.read(filename)\n",
    "\n",
    "dbparams = {}\n",
    "if parser.has_section(section):\n",
    "    params = parser.items(section)\n",
    "    for param in params:\n",
    "        dbparams[param[0]] = param[1]\n",
    "else:\n",
    "    raise Exception('Section {0} not found in the {1} file'.format(section, filename))"
   ]
  },
  {
   "cell_type": "markdown",
   "id": "2c918e48-461d-422c-b628-eff76391e2b8",
   "metadata": {},
   "source": [
    "Typically we will connect to the database, run a query and then disconnect:"
   ]
  },
  {
   "cell_type": "raw",
   "id": "d263693c-fdcf-4149-8643-6aee86978d46",
   "metadata": {},
   "source": [
    "conn = psycopg2.connect(**dbparams)\n",
    "print('Connected to the database.')\n",
    "\n",
    "qry = \"SELECT * FROM litrev.ref_list LIMIT 1\"\n",
    "cur = conn.cursor()\n",
    "cur.execute(qry)\n",
    "valid = cur.fetchall()\n",
    "cur.close()\n",
    "\n",
    "if conn is not None:\n",
    "    conn.close()\n",
    "    print('Database connection closed.')"
   ]
  },
  {
   "cell_type": "markdown",
   "id": "056cf903-607b-4fb4-bcea-d36f7d1c6b96",
   "metadata": {
    "tags": []
   },
   "source": [
    "### Add list of references\n",
    "\n",
    "We can create a table for the list of references using this SQL code in our database (for example in _psql_ client):"
   ]
  },
  {
   "cell_type": "raw",
   "id": "98b9da63-3f90-4cdf-97cf-ce58f80348d3",
   "metadata": {},
   "source": [
    "CREATE TABLE IF NOT EXISTS litrev.ref_list (\n",
    "    ref_code varchar(50) PRIMARY KEY,\n",
    "    ref_cite text,\n",
    "    alt_code varchar(30)\n",
    ");"
   ]
  },
  {
   "cell_type": "markdown",
   "id": "3a58ca33-e9ce-4b56-8f6e-c7b04c311a43",
   "metadata": {},
   "source": [
    "We can then insert values into the database by substituting the corresponding values for the query:"
   ]
  },
  {
   "cell_type": "raw",
   "id": "aaa33822-39aa-4cf0-8575-76d1ca3e3138",
   "metadata": {},
   "source": [
    "INSERT INTO litrev.ref_list(ref_code, ref_cite, alt_code) values(%s,%s,%s) ON CONFLICT DO NOTHING"
   ]
  },
  {
   "cell_type": "markdown",
   "id": "307f7cd5-a274-4821-89b9-9d1fa0706834",
   "metadata": {},
   "source": [
    "For example, for the NSWFFRDv2.1 reference we can use:"
   ]
  },
  {
   "cell_type": "code",
   "execution_count": 32,
   "id": "9cf55768-12ab-42c9-952d-7a291ce307ee",
   "metadata": {},
   "outputs": [
    {
     "name": "stdout",
     "output_type": "stream",
     "text": [
      "Connecting to the PostgreSQL database...\n",
      "total number of lines updated: 0\n",
      "Database connection closed.\n"
     ]
    }
   ],
   "source": [
    "insert_statement = \"INSERT INTO litrev.ref_list(%s) values %s ON CONFLICT DO NOTHING\"\n",
    "record = { \"ref_code\" : \"NSWFFRDv2.1\",\n",
    "          \"ref_cite\" : \n",
    "          \"NSW Flora Fire Response Database. Version 2.1. February 2010 (last update May 2014)\"}\n",
    "\n",
    "print('Connecting to the PostgreSQL database...')\n",
    "conn = psycopg2.connect(**dbparams)\n",
    "\n",
    "cur = conn.cursor()\n",
    "cur.execute(insert_statement, (AsIs(','.join(record.keys())), tuple(record.values())))\n",
    "conn.commit()\n",
    "print(\"total number of lines updated: %s\" % cur.rowcount)\n",
    "cur.close()\n",
    "\n",
    "if conn is not None:\n",
    "    conn.close()\n",
    "    print('Database connection closed.')"
   ]
  },
  {
   "cell_type": "markdown",
   "id": "213039fd-a3b9-4f8d-9329-8bc758921675",
   "metadata": {},
   "source": [
    "Now we will add references from the list we read before (_NFRR_refs_). We will use the first 50 letters from the reference description as a _ref_code_ (we will be able to update that later to something more meaningful in the database), and create an _alt_code_ to identify the origin of the reference."
   ]
  },
  {
   "cell_type": "code",
   "execution_count": 33,
   "id": "a1403ff4-2ea0-4c0c-926e-1f4652a76551",
   "metadata": {},
   "outputs": [
    {
     "name": "stdout",
     "output_type": "stream",
     "text": [
      "Connecting to the PostgreSQL database...\n",
      "total number of lines updated: 0\n",
      "Database connection closed.\n"
     ]
    }
   ],
   "source": [
    "print('Connecting to the PostgreSQL database...')\n",
    "conn = psycopg2.connect(**dbparams)\n",
    "\n",
    "cur = conn.cursor()\n",
    "insert_statement = \"INSERT INTO litrev.ref_list(ref_code,ref_cite,alt_code) values (%s,%s,%s) ON CONFLICT DO NOTHING\"\n",
    "affected_rows=0\n",
    "\n",
    "for item in NFRR_refs:\n",
    "    cur.execute(insert_statement,\n",
    "                (item['refstring'],\n",
    "                item['refinfo'],\n",
    "                'NSWFFRD-NFRR-ref-%s' % item['refcode']))\n",
    "    affected_rows = affected_rows+cur.rowcount\n",
    "\n",
    "conn.commit()\n",
    "print(\"total number of lines updated: %s\" % affected_rows)\n",
    "cur.close()\n",
    "\n",
    "\n",
    "if conn is not None:\n",
    "    conn.close()\n",
    "    print('Database connection closed.')"
   ]
  },
  {
   "cell_type": "markdown",
   "id": "17ee6e94-e46b-4bfc-a9c7-eb8037671256",
   "metadata": {},
   "source": [
    "We can then add the references from the _otherref_ dictionary:"
   ]
  },
  {
   "cell_type": "code",
   "execution_count": 34,
   "id": "0082382a-871d-4730-a4ca-d5e30936b651",
   "metadata": {},
   "outputs": [
    {
     "name": "stdout",
     "output_type": "stream",
     "text": [
      "Connecting to the PostgreSQL database...\n",
      "total number of lines updated: 0\n",
      "Database connection closed.\n"
     ]
    }
   ],
   "source": [
    "print('Connecting to the PostgreSQL database...')\n",
    "conn = psycopg2.connect(**dbparams)\n",
    "\n",
    "cur = conn.cursor()\n",
    "insert_statement = \"INSERT INTO litrev.ref_list(ref_code,ref_cite,alt_code) values (%s,%s,%s) ON CONFLICT DO NOTHING\"\n",
    "affected_rows=0\n",
    "\n",
    "for item in other_refs:\n",
    "    cur.execute(insert_statement,\n",
    "                (item['refstring'],\n",
    "                item['refinfo'],\n",
    "                'NSWFFRD-other-ref-%s' % item['refcode']))\n",
    "    affected_rows = affected_rows+cur.rowcount\n",
    "\n",
    "conn.commit()\n",
    "print(\"total number of lines updated: %s\" % affected_rows)\n",
    "cur.close()\n",
    "\n",
    "\n",
    "if conn is not None:\n",
    "    conn.close()\n",
    "    print('Database connection closed.')"
   ]
  },
  {
   "cell_type": "markdown",
   "id": "463cb313-b5e9-416e-a708-487a0b7cb700",
   "metadata": {},
   "source": [
    "And the references from the Recovery Plans..."
   ]
  },
  {
   "cell_type": "code",
   "execution_count": 35,
   "id": "aa6397e8-50cb-4a0e-8c22-e869b69171ee",
   "metadata": {},
   "outputs": [
    {
     "name": "stdout",
     "output_type": "stream",
     "text": [
      "Connecting to the PostgreSQL database...\n",
      "total number of lines updated: 0\n",
      "Database connection closed.\n"
     ]
    }
   ],
   "source": [
    "print('Connecting to the PostgreSQL database...')\n",
    "conn = psycopg2.connect(**dbparams)\n",
    "\n",
    "cur = conn.cursor()\n",
    "insert_statement = \"INSERT INTO litrev.ref_list(ref_code,ref_cite,alt_code) values (%s,%s,%s) ON CONFLICT DO NOTHING\"\n",
    "affected_rows=0\n",
    "\n",
    "for item in rp_refs:\n",
    "    cur.execute(insert_statement,\n",
    "                (item['refstring'],\n",
    "                item['refinfo'],\n",
    "                'NSWFFRD-RP-ref-%s' % item['refcode']))\n",
    "    affected_rows = affected_rows+cur.rowcount\n",
    "\n",
    "conn.commit()\n",
    "print(\"total number of lines updated: %s\" % affected_rows)\n",
    "cur.close()\n",
    "\n",
    "\n",
    "if conn is not None:\n",
    "    conn.close()\n",
    "    print('Database connection closed.')"
   ]
  },
  {
   "cell_type": "markdown",
   "id": "8562d0d0-0eff-4219-ac79-65ab9b30dd48",
   "metadata": {},
   "source": [
    "### 'First flowering' table in database\n",
    "\n",
    "The structure of the _firstflower_ table still needs to be refined, here is a proposed structure: "
   ]
  },
  {
   "cell_type": "raw",
   "id": "e0d12b3f-0a13-47bd-9b82-3e63bd19af6d",
   "metadata": {},
   "source": [
    "CREATE TABLE IF NOT EXISTS litrev.repr3 (\n",
    "  record_id SERIAL PRIMARY KEY,\n",
    "  species VARCHAR(255),\n",
    "  species_code VARCHAR(10),\n",
    "  main_source VARCHAR(50) ,\n",
    "  original_sources text[],\n",
    "  best int,\n",
    "  lower int,\n",
    "  upper int,\n",
    "  method_of_estimation method_vocabulary,\n",
    "  raw_value text[],\n",
    "  original_notes text[],\n",
    "  additional_notes text[],\n",
    "  weight smallint NOT NULL DEFAULT 1,\n",
    "  CHECK (best >= lower AND best <= upper),\n",
    "  FOREIGN KEY (main_source) REFERENCES litrev.ref_list (ref_code) ON DELETE CASCADE ON UPDATE CASCADE\n",
    ");"
   ]
  },
  {
   "cell_type": "markdown",
   "id": "23bf05de-c6ac-4b0a-8b2d-6ca5c4d06504",
   "metadata": {},
   "source": [
    "We will test how to insert some records into this table from the spreadsheet.\n",
    "\n",
    "### Inserting the 'primary juvenile period' values of NSWFFRDv2.1\n",
    "\n",
    "We will create multiple records per species, using \"NSWFFRDv2.1\" as _main reference_, adding the reported references in the _original sources_ column.\n",
    "\n",
    "First we will define the columns we need:"
   ]
  },
  {
   "cell_type": "code",
   "execution_count": 36,
   "id": "78ca3327-cf35-4a2f-b4f4-06aa42b8aa01",
   "metadata": {},
   "outputs": [
    {
     "name": "stdout",
     "output_type": "stream",
     "text": [
      "Current Scientific Name (Species Code) / Secondary juvenile period / Fire tolerance / Life span / Seed-bank longevity \n"
     ]
    }
   ],
   "source": [
    "sp_col='A'\n",
    "spcode_col='B'\n",
    "target_cols = {'repr3':'Z', 'repr3a':'AA', 'grow1':'AD', 'repr4':None, 'surv5':'AE', 'surv6':None, 'surv7':'AF'}\n",
    "\n",
    "print(\"%s (%s) / %s / %s / %s / %s \" %\n",
    "(species_data[sp_col][1].value,\n",
    " species_data[spcode_col][1].value,\n",
    "species_data[target_cols['repr3a']][1].value,\n",
    "species_data[target_cols['grow1']][1].value,\n",
    "species_data[target_cols['surv5']][1].value,\n",
    "species_data[target_cols['surv7']][1].value))"
   ]
  },
  {
   "cell_type": "markdown",
   "id": "07a68f9d-6188-468a-8c1d-5d3a138dcb80",
   "metadata": {},
   "source": [
    "We will use two functions to read row values and hyperlinks to create one or multiple records from each entry.\n",
    "\n",
    "We wrap all this into a single function call for each row:\n"
   ]
  },
  {
   "cell_type": "code",
   "execution_count": 37,
   "id": "300b8dd3-1a01-4aae-9d13-04273db85b4d",
   "metadata": {},
   "outputs": [],
   "source": [
    "def create_record(spreadsheet,target_col,row_index):\n",
    "    records = list()\n",
    "    target=spreadsheet[target_col][row_index]\n",
    "    if (target.hyperlink is not None):\n",
    "        ref=extract_link(target)\n",
    "    else:\n",
    "        ref=None\n",
    "    if (target.value is not None):\n",
    "        spname=spreadsheet[sp_col][row_index].value\n",
    "        spcode=spreadsheet[spcode_col][row_index].value\n",
    "        varname=spreadsheet[target_col][1].value\n",
    "        rec=extract_value(target,varname)\n",
    "        for record in rec:\n",
    "            record[\"main_source\"]=\"NSWFFRDv2.1\"\n",
    "            record[\"species\"]=spname\n",
    "            record[\"species_code\"]=spcode\n",
    "            record[\"weight\"]=1\n",
    "            record[\"weight_notes\"]=['automatic assignment of weight by python script','default value of 1']\n",
    "            if 'original_sources' not in record and ref is not None:\n",
    "                record['original_sources'] = ref[1]\n",
    "            records.append(record)\n",
    "    return(records)"
   ]
  },
  {
   "cell_type": "code",
   "execution_count": 38,
   "id": "0d7d10c6-130b-4006-82b7-ab09a5579f51",
   "metadata": {},
   "outputs": [
    {
     "data": {
      "text/plain": [
       "[{'raw_value': ['Primary juvenile period', '2 (10)'],\n",
       "  'main_source': 'NSWFFRDv2.1',\n",
       "  'original_sources': ['Wark White Robertson Marriott 1987'],\n",
       "  'best': '2',\n",
       "  'species': 'Acacia myrtifolia',\n",
       "  'species_code': '3834',\n",
       "  'weight': 1,\n",
       "  'weight_notes': ['automatic assignment of weight by python script',\n",
       "   'default value of 1']},\n",
       " {'raw_value': ['Primary juvenile period', '2.5 (1b)'],\n",
       "  'main_source': 'NSWFFRDv2.1',\n",
       "  'original_sources': ['Benson McDougall Ecology Sydney Plant Species Cunn'],\n",
       "  'species': 'Acacia myrtifolia',\n",
       "  'species_code': '3834',\n",
       "  'weight': 1,\n",
       "  'weight_notes': ['automatic assignment of weight by python script',\n",
       "   'default value of 1']},\n",
       " {'raw_value': ['Primary juvenile period', '3 (9, 48)'],\n",
       "  'main_source': 'NSWFFRDv2.1',\n",
       "  'original_sources': ['Keith David pers. comm.', 'Wark 1997'],\n",
       "  'best': '3',\n",
       "  'species': 'Acacia myrtifolia',\n",
       "  'species_code': '3834',\n",
       "  'weight': 1,\n",
       "  'weight_notes': ['automatic assignment of weight by python script',\n",
       "   'default value of 1']},\n",
       " {'raw_value': ['Primary juvenile period', '4 (38)'],\n",
       "  'main_source': 'NSWFFRDv2.1',\n",
       "  'original_sources': ['Department Natural Resources Environment '],\n",
       "  'best': '4',\n",
       "  'species': 'Acacia myrtifolia',\n",
       "  'species_code': '3834',\n",
       "  'weight': 1,\n",
       "  'weight_notes': ['automatic assignment of weight by python script',\n",
       "   'default value of 1']}]"
      ]
     },
     "execution_count": 38,
     "metadata": {},
     "output_type": "execute_result"
    }
   ],
   "source": [
    "x=create_record(species_data,target_cols['repr3'],100)\n",
    "len(x)\n",
    "x"
   ]
  },
  {
   "cell_type": "markdown",
   "id": "e0f93713-bfc4-466d-8099-2e845ebdcfeb",
   "metadata": {},
   "source": [
    "Now we will read through the spreadsheet and prepare records"
   ]
  },
  {
   "cell_type": "code",
   "execution_count": 43,
   "id": "e1115a52-5c84-4358-a51b-991e7bd2da40",
   "metadata": {},
   "outputs": [
    {
     "name": "stdout",
     "output_type": "stream",
     "text": [
      "Connecting to the PostgreSQL database...\n",
      "surv7\n",
      "total of 12 records prepared\n",
      "total number of lines updated: 12\n",
      "total of 14 records prepared\n",
      "total number of lines updated: 26\n",
      "total of 12 records prepared\n",
      "total number of lines updated: 38\n",
      "total of 11 records prepared\n",
      "total number of lines updated: 49\n",
      "total of 18 records prepared\n",
      "total number of lines updated: 67\n",
      "total of 11 records prepared\n",
      "total number of lines updated: 78\n",
      "total of 9 records prepared\n",
      "total number of lines updated: 87\n",
      "Database connection closed.\n"
     ]
    }
   ],
   "source": [
    "row_min = 2\n",
    "row_max = species_data.max_row\n",
    "\n",
    "print('Connecting to the PostgreSQL database...')\n",
    "conn = psycopg2.connect(**dbparams)\n",
    "cur = conn.cursor()\n",
    "affected_rows=0\n",
    "\n",
    "traits = target_cols.keys()\n",
    "to_do = ('surv7',)\n",
    "completed_traits = ( 'repr3', 'repr3a', 'grow1', 'repr4',  'surv6','surv5')\n",
    "for trait in traits:\n",
    "    if target_cols[trait] is None:\n",
    "        continue\n",
    "    if trait in completed_traits:\n",
    "        continue\n",
    "    print(trait)\n",
    "    varname=species_data[target_cols[trait]][1].value\n",
    "    insert_statement = 'insert into litrev.{trait} (%s) values %s ON CONFLICT DO NOTHING'.format(trait=trait)\n",
    "\n",
    "    records=list()\n",
    "    for row in range(row_min,row_max):\n",
    "        rr = create_record(species_data,target_cols[trait],row)\n",
    "        if len(rr) > 0 :\n",
    "            records.extend(rr)\n",
    "        if (((row-row_min) % 250) == 0 and len(records)>10) or (row==(row_max-1)):\n",
    "            print(\"total of %s records prepared\" % len(records)) \n",
    "            for record in records: \n",
    "                #print(cur.mogrify(insert_statement, (AsIs(','.join(record.keys())), tuple(record.values()))))\n",
    "                cur.execute(insert_statement, (AsIs(','.join(record.keys())), tuple(record.values())))\n",
    "                affected_rows = affected_rows+cur.rowcount\n",
    "            records.clear()\n",
    "            conn.commit()\n",
    "            print(\"total number of lines updated: %s\" % affected_rows)\n",
    "\n",
    "cur.close()\n",
    "if conn is not None:\n",
    "    conn.close()\n",
    "    print('Database connection closed.')     \n"
   ]
  },
  {
   "cell_type": "code",
   "execution_count": 40,
   "id": "ded787f7-e902-416e-b973-408053d9ded8",
   "metadata": {},
   "outputs": [
    {
     "data": {
      "text/plain": [
       "'5'"
      ]
     },
     "execution_count": 40,
     "metadata": {},
     "output_type": "execute_result"
    }
   ],
   "source": [
    "str(record['raw_value'][1])"
   ]
  },
  {
   "cell_type": "markdown",
   "id": "018431e8-1658-47e0-bd6f-a2cee67de262",
   "metadata": {},
   "source": [
    "This is somehow slow, but it works, and all the records are in the database."
   ]
  },
  {
   "cell_type": "code",
   "execution_count": null,
   "id": "08224831-1259-4764-97da-52b08451baac",
   "metadata": {},
   "outputs": [],
   "source": []
  }
 ],
 "metadata": {
  "kernelspec": {
   "display_name": "Python 3 (ipykernel)",
   "language": "python",
   "name": "python3"
  },
  "language_info": {
   "codemirror_mode": {
    "name": "ipython",
    "version": 3
   },
   "file_extension": ".py",
   "mimetype": "text/x-python",
   "name": "python",
   "nbconvert_exporter": "python",
   "pygments_lexer": "ipython3",
   "version": "3.10.2"
  }
 },
 "nbformat": 4,
 "nbformat_minor": 5
}
