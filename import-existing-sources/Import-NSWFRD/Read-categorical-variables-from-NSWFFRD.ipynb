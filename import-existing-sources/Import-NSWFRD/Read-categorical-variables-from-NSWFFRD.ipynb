{
 "cells": [
  {
   "cell_type": "markdown",
   "id": "498f24ce-5ed6-47a3-bd3a-bc06dc859b96",
   "metadata": {
    "tags": []
   },
   "source": [
    "# Read categorical data from NSWFFRD 2014 (v2.1)\n",
    "This scripts show how to read the spreadsheet from NSW Flora Fire response database and extract information for several traits, translate the original values into standard values and insert records into the Fireveg response database.\n",
    "\n",
    "## Read data from spreadsheet\n",
    "\n",
    "We will use the _openpyxl_ library in ***python*** to read the spreadsheet document."
   ]
  },
  {
   "cell_type": "code",
   "execution_count": 1,
   "id": "58c9bacb-b46f-48b7-b7a7-cd82268a6932",
   "metadata": {},
   "outputs": [],
   "source": [
    "import openpyxl\n",
    "from pathlib import Path\n",
    "import os\n",
    "import re\n",
    "\n",
    "import copy"
   ]
  },
  {
   "cell_type": "markdown",
   "id": "da72447c-22d7-4e59-828a-3f1d0359d908",
   "metadata": {},
   "source": [
    "We need to define a path to locate the documents relative to the current repository directory"
   ]
  },
  {
   "cell_type": "code",
   "execution_count": 2,
   "id": "32af50ac-02c7-46ac-ac4c-301c769efe4d",
   "metadata": {},
   "outputs": [],
   "source": [
    "repodir = Path(\"../..\") \n",
    "inputdir = repodir / \"data/\""
   ]
  },
  {
   "cell_type": "markdown",
   "id": "38d3b9e0-1398-44b4-8ee0-175ee9f5dd80",
   "metadata": {
    "tags": []
   },
   "source": [
    "### Open the workbook and read spreadsheets\n",
    "Here we will load the workbook (_wb_):"
   ]
  },
  {
   "cell_type": "code",
   "execution_count": 3,
   "id": "82329cd1-1941-490d-86da-c528363aa7af",
   "metadata": {},
   "outputs": [],
   "source": [
    "wb = openpyxl.load_workbook(inputdir / \"NSWFFRDv2.1.xlsx\")"
   ]
  },
  {
   "cell_type": "markdown",
   "id": "f5103232-f975-49a0-8ed1-a12db1f21c5c",
   "metadata": {},
   "source": [
    "We will use the sheet names to read them. We need access to sheet 'Species data' and 'References', we will also check their column notes:"
   ]
  },
  {
   "cell_type": "code",
   "execution_count": 4,
   "id": "068ce434-6da5-4a2a-83b4-4a71071c4e33",
   "metadata": {},
   "outputs": [],
   "source": [
    "species_data = wb['SpeciesData']\n",
    "references = wb['References']\n",
    "column_notes = wb['Notes'] "
   ]
  },
  {
   "cell_type": "markdown",
   "id": "e93b885a-f192-4018-9374-74209f90ea08",
   "metadata": {
    "tags": []
   },
   "source": [
    "### Read cell values\n",
    "We can use square brackets to refer to a column and then use python indices (starting with _0_ for the top row) to slice it. We use the property _value_ to show their stored content. "
   ]
  },
  {
   "cell_type": "code",
   "execution_count": 5,
   "id": "04cb146d-c4db-4612-900f-23c9d80a3272",
   "metadata": {},
   "outputs": [
    {
     "name": "stdout",
     "output_type": "stream",
     "text": [
      "Post-fire flowering\n",
      "flowers well after fire\n"
     ]
    }
   ],
   "source": [
    "print(species_data['X'][1].value)\n",
    "print(species_data['X'][157].value)"
   ]
  },
  {
   "cell_type": "markdown",
   "id": "c820c633-e1a0-45c8-a213-6d152974acb7",
   "metadata": {},
   "source": [
    "Descriptions of these columns are found in the _column_notes_ sheet:"
   ]
  },
  {
   "cell_type": "code",
   "execution_count": 6,
   "id": "1936897a-33ec-447d-bcd0-a9015a8a4bdf",
   "metadata": {},
   "outputs": [
    {
     "name": "stdout",
     "output_type": "stream",
     "text": [
      " - *Establishment*\n",
      "\tSeedling establishment groups of Noble & Slatyer (1980); See VA sheet for details: I=Intolerant, T=Tolerant, R=Requiring\n",
      " - *Post-fire flowering*\n",
      "\texclusive or facultative post-fire flowering observed\n"
     ]
    }
   ],
   "source": [
    "for k in (23,24):\n",
    "    print(\" - *%s*\" %column_notes.cell(row=k,column=2).value)\n",
    "    print(\"\\t%s\" % column_notes.cell(row=k,column=3).value)"
   ]
  },
  {
   "cell_type": "markdown",
   "id": "b80f79f3-48aa-4b70-a7ac-5b77093be79d",
   "metadata": {},
   "source": [
    "We can use this approach to read several columns from one row, let's start checking the columns names in row 1:"
   ]
  },
  {
   "cell_type": "code",
   "execution_count": 7,
   "id": "9f6c4276-9144-42a9-b9f1-84613bba9672",
   "metadata": {},
   "outputs": [
    {
     "name": "stdout",
     "output_type": "stream",
     "text": [
      "Current Scientific Name (Species Code) / Post-fire flowering / Establishment  \n"
     ]
    }
   ],
   "source": [
    "sp_col='A'\n",
    "spcode_col='B'\n",
    "target_cols={'repr2':'X', 'rect2':'W'}\n",
    "\n",
    "target_cols.values()\n",
    "print(\"%s (%s) / %s / %s  \" %\n",
    "(species_data[sp_col][1].value,\n",
    " species_data[spcode_col][1].value,\n",
    "species_data[target_cols['repr2']][1].value,\n",
    "species_data[target_cols['rect2']][1].value))"
   ]
  },
  {
   "cell_type": "markdown",
   "id": "0cebc689-5fa7-480d-b1de-abee6d3603b0",
   "metadata": {},
   "source": [
    "Now select one record:"
   ]
  },
  {
   "cell_type": "code",
   "execution_count": 8,
   "id": "71ddf16d-d4c7-4f50-9e75-7570ed913fc2",
   "metadata": {
    "tags": []
   },
   "outputs": [
    {
     "name": "stdout",
     "output_type": "stream",
     "text": [
      "Acianthus caudatus (4351)  ~ flowers well after fire  / None \n"
     ]
    }
   ],
   "source": [
    "row_index=157\n",
    "\n",
    "print(\"%s (%s)  ~ %s  / %s \" %\n",
    "(species_data[sp_col][row_index].value,\n",
    " species_data[spcode_col][row_index].value,\n",
    " species_data[target_cols['repr2']][row_index].value,\n",
    "species_data[target_cols['rect2']][row_index].value))\n"
   ]
  },
  {
   "cell_type": "markdown",
   "id": "ed40847e-daf0-4ab9-840b-06bf8b446cac",
   "metadata": {
    "tags": []
   },
   "source": [
    "#### Dealing with hyperlinks\n",
    "\n",
    "This cell has a hyperlink:"
   ]
  },
  {
   "cell_type": "code",
   "execution_count": 9,
   "id": "b82a128e-cc64-4183-b03a-91b4d72e3254",
   "metadata": {},
   "outputs": [
    {
     "data": {
      "text/plain": [
       "openpyxl.worksheet.hyperlink.Hyperlink"
      ]
     },
     "execution_count": 9,
     "metadata": {},
     "output_type": "execute_result"
    }
   ],
   "source": [
    "type(species_data[target_cols['repr2']][row_index].hyperlink)"
   ]
  },
  {
   "cell_type": "markdown",
   "id": "398c9c00-c619-4528-9413-f7ec55d56482",
   "metadata": {},
   "source": [
    "If the cell is a hyperlink it will have a value to \"display\" and will point to a \"location\" within the workbook: "
   ]
  },
  {
   "cell_type": "code",
   "execution_count": 10,
   "id": "a724720f-cf84-47ad-a02e-135094f39709",
   "metadata": {},
   "outputs": [
    {
     "data": {
      "text/plain": [
       "'References!C22'"
      ]
     },
     "execution_count": 10,
     "metadata": {},
     "output_type": "execute_result"
    }
   ],
   "source": [
    "species_data[target_cols['repr2']][row_index].hyperlink.display"
   ]
  },
  {
   "cell_type": "code",
   "execution_count": 11,
   "id": "20a43761-7aec-460f-a52e-1b3312073249",
   "metadata": {},
   "outputs": [
    {
     "name": "stdout",
     "output_type": "stream",
     "text": [
      "References!C22\n"
     ]
    }
   ],
   "source": [
    "# This will fail if there is no hyperlink \n",
    "print(species_data[target_cols['repr2']][row_index].hyperlink.location)"
   ]
  },
  {
   "cell_type": "markdown",
   "id": "4574fc94-2dbf-4acf-958c-3444a9ceba63",
   "metadata": {},
   "source": [
    "Let's see the value of this reference:"
   ]
  },
  {
   "cell_type": "code",
   "execution_count": 12,
   "id": "7b4de60a-6404-45d6-8f32-6cce8fcb64be",
   "metadata": {},
   "outputs": [],
   "source": [
    "hlink = species_data[target_cols['repr2']][row_index].hyperlink.location\n",
    "hlink = hlink.split(\"!\")"
   ]
  },
  {
   "cell_type": "markdown",
   "id": "e2776b91-c5ed-441d-8103-ba63f5e77cff",
   "metadata": {},
   "source": [
    "This gives the name of the target sheet and the corresponding cell. We need to read the cell to its right side (add one to the column number) to get the information we need."
   ]
  },
  {
   "cell_type": "code",
   "execution_count": 13,
   "id": "cf4b6f89-a497-407d-b4ad-3568e16f7394",
   "metadata": {},
   "outputs": [
    {
     "name": "stdout",
     "output_type": "stream",
     "text": [
      "Cell value is :: 21\n",
      "Reference data is :: Bishop T. (1996) Field Guide to the Orchids of NSW and Victoria\n"
     ]
    }
   ],
   "source": [
    "ref = wb[hlink[0]]\n",
    "print(\"Cell value is :: \" + str(ref[hlink[1]].value))\n",
    "nlink = ref.cell(row=ref[hlink[1]].row,column=ref[hlink[1]].col_idx + 1)\n",
    "\n",
    "print(\"Reference data is :: \" + nlink.value) \n"
   ]
  },
  {
   "cell_type": "markdown",
   "id": "7066ac16-92f1-4011-a3df-136bb6b2b1ae",
   "metadata": {},
   "source": [
    "If there is no hyperlink, it will result in NoneType"
   ]
  },
  {
   "cell_type": "code",
   "execution_count": 14,
   "id": "bd9033db-5cbc-43e1-9e10-a737e1f1df69",
   "metadata": {},
   "outputs": [
    {
     "data": {
      "text/plain": [
       "NoneType"
      ]
     },
     "execution_count": 14,
     "metadata": {},
     "output_type": "execute_result"
    }
   ],
   "source": [
    "type(species_data[target_cols['repr2']][row_index-1].hyperlink)"
   ]
  },
  {
   "cell_type": "markdown",
   "id": "dceaea5d-b131-4ae4-8eb4-12722b1a5d58",
   "metadata": {
    "tags": []
   },
   "source": [
    "### Create list(s) of references \n",
    "We need to prepare list of references from spreadsheet 'References'.\n",
    "\n",
    "There are three sets of references:\n",
    "- the  \"normal\" references in columns C and D (pink)\n",
    "- the  \"Recovery Plan / Regional Forest Agreement Report\" references in columns N, O, and P (blue)\n",
    "- the  \"NFRR\" references in columns S and T (lila)\n",
    "\n",
    "Normal and NFRR references are identified by a simple two-cipher or -letter code and reference description, we will use a function to create a more descriptive reference code for the references based on the list of authors and date.\n",
    "\n",
    "For Recovery plans and Regional Forest Agreement Reports, we will use the species or region as reference code.\n"
   ]
  },
  {
   "cell_type": "code",
   "execution_count": 15,
   "id": "669a58c6-4b82-483e-ac7b-fb7f8b4b7773",
   "metadata": {
    "tags": []
   },
   "outputs": [
    {
     "name": "stdout",
     "output_type": "stream",
     "text": [
      "Asterolasia elegans\n"
     ]
    },
    {
     "data": {
      "text/plain": [
       "'RP Asterolasia elegans'"
      ]
     },
     "execution_count": 15,
     "metadata": {},
     "output_type": "execute_result"
    }
   ],
   "source": [
    "\n",
    "r = re.compile(\"[A-Z][a-z]+\")\n",
    "def create_ref_code(x):\n",
    "    \n",
    "    if x.__contains__(\"personal communication\"):\n",
    "        y = x[0:x.find(\" personal\")].replace(\",\",\"\")\n",
    "        year = \"pers. comm.\"\n",
    "    elif x.__contains__(\"unpublished\"):\n",
    "        y = x[0:x.find(\"unpublished\")].replace(\",\",\"\")\n",
    "        year = \"unpub.\"\n",
    "    else:\n",
    "        y = x[0:x.find(\")\")].replace(\",\",\"\")\n",
    "        year = ''.join(re.findall(\"\\d+\", y))\n",
    "    z = list(filter(r.match, y.split()))\n",
    "    author = ' '.join(z)\n",
    "    final_code =  \"%s %s\" % (author, year)\n",
    "    if (len(final_code)>50):\n",
    "        final_code=final_code[0:50]\n",
    "    return(final_code)\n",
    "\n",
    "def create_ref_code_RP(x):\n",
    "    if x.__contains__(\"^RFA\"):\n",
    "        final_code = x\n",
    "    else:\n",
    "        final_code = \"RP %s\" % x\n",
    "    if (len(final_code)>50):\n",
    "        final_code=final_code[0:50]\n",
    "    return(final_code)\n",
    "\n",
    "\n",
    "val=references['O'][26].value.replace(\"(1) \",\"\")\n",
    "print(val)\n",
    "create_ref_code_RP(val)"
   ]
  },
  {
   "cell_type": "markdown",
   "id": "d9ba9299-008f-4634-a3f8-a2b0734146e6",
   "metadata": {},
   "source": [
    "Now we check references of NFRR (notice that we will substitute number _1_ with capital _I_ in _refcode_ to avoid problems with one reference (see below):"
   ]
  },
  {
   "cell_type": "code",
   "execution_count": 16,
   "id": "16ad5b4c-98a3-4f62-bb34-7601e2c2446d",
   "metadata": {},
   "outputs": [],
   "source": [
    "NFRR_refs=list()\n",
    "for row in range(1,66):\n",
    "    cite_text = references['T'][row].value.replace(\"(1) \",\"\")\n",
    "    cite_code = create_ref_code(cite_text) \n",
    "    record={\"refcode\": references['S'][row].value.replace(\"1\",\"I\"),\n",
    "            \"refstring\": cite_code,#re.sub(r\", [A-Z\\.]+\",\" \",cite_code),\n",
    "            \"refinfo\": cite_text\n",
    "    }\n",
    "    NFRR_refs.append(record)"
   ]
  },
  {
   "cell_type": "code",
   "execution_count": 17,
   "id": "96319c0f-38cb-4d2b-a411-ce0ec3c6327d",
   "metadata": {},
   "outputs": [
    {
     "data": {
      "text/plain": [
       "{'refcode': 'SA',\n",
       " 'refstring': 'Carolyn Sandercoe Qld. unpub.',\n",
       " 'refinfo': 'Carolyn Sandercoe, Qld. (unpublished)'}"
      ]
     },
     "execution_count": 17,
     "metadata": {},
     "output_type": "execute_result"
    }
   ],
   "source": [
    "NFRR_refs[56]"
   ]
  },
  {
   "cell_type": "code",
   "execution_count": 18,
   "id": "f83d3000-19ac-4b87-a92b-cff757f116d0",
   "metadata": {},
   "outputs": [
    {
     "data": {
      "text/plain": [
       "'BF'"
      ]
     },
     "execution_count": 18,
     "metadata": {},
     "output_type": "execute_result"
    }
   ],
   "source": [
    "NFRR_refs[6][\"refcode\"]"
   ]
  },
  {
   "cell_type": "code",
   "execution_count": 19,
   "id": "87d9a924-48ff-4654-9ec0-29fa8d6ffec3",
   "metadata": {},
   "outputs": [
    {
     "name": "stdout",
     "output_type": "stream",
     "text": [
      "NFRR reference FOI refers to 'Fox, J.E.D. (1985). Fire in Mulga: Studies at the margins. In: Fire ecology and management of Western Australian ecosystems. (ed: J.R. Ford). Western Australian Institute of Technology, report no. 14.'\n"
     ]
    }
   ],
   "source": [
    "qry=\"FOI\"\n",
    "for elem in filter(lambda x: x['refcode'] == qry, NFRR_refs):\n",
    "    print(\"NFRR reference %s refers to '%s'\" % (qry, elem['refinfo']))"
   ]
  },
  {
   "cell_type": "markdown",
   "id": "335f3e7b-4356-4a23-9b36-5c862ebf8e05",
   "metadata": {},
   "source": [
    "We do the same for the \"normal\" references column:"
   ]
  },
  {
   "cell_type": "code",
   "execution_count": 20,
   "id": "8833ee3e-8f13-4531-ad74-357d96bcbb6d",
   "metadata": {},
   "outputs": [],
   "source": [
    "other_refs=list()\n",
    "for row in range(1,139):\n",
    "    cite_text = references['D'][row].value\n",
    "    cite_code = create_ref_code(cite_text) \n",
    "    if cite_code == \"Benson 1985\":\n",
    "        cite_code = \"Benson 1985b\"\n",
    "    record={\"refcode\": references['C'][row].value,\n",
    "            \"refstring\": cite_code,\n",
    "            \"refinfo\": cite_text\n",
    "    }\n",
    "    other_refs.append(record)"
   ]
  },
  {
   "cell_type": "code",
   "execution_count": 21,
   "id": "67350a19-57b7-4e2b-a012-71686bbe89dc",
   "metadata": {},
   "outputs": [
    {
     "data": {
      "text/plain": [
       "{'refcode': 10,\n",
       " 'refstring': 'Wark White Robertson Marriott 1987',\n",
       " 'refinfo': 'Wark, M.C., White, M.D., Robertson, D.J. and Marriott, P.F. (1987). Regeneration of heath and heath woodland in the north-eastern Otway Ranges following the wildfire of February 1983. Proc.Roy.Soc.Vic. 99, 51-88.'}"
      ]
     },
     "execution_count": 21,
     "metadata": {},
     "output_type": "execute_result"
    }
   ],
   "source": [
    "other_refs[9]"
   ]
  },
  {
   "cell_type": "markdown",
   "id": "db24542a-f390-4246-81c7-33fbaca5fe6e",
   "metadata": {},
   "source": [
    "Now the recovery plan references:"
   ]
  },
  {
   "cell_type": "code",
   "execution_count": 22,
   "id": "5000a06a-1b23-4a0c-9259-337c737ef8cd",
   "metadata": {},
   "outputs": [],
   "source": [
    "rp_refs=list()\n",
    "for row in range(1,46):\n",
    "    cite_code = create_ref_code_RP(references['O'][row].value) \n",
    "    cite_text = \"%s. %s\" % (cite_code, references['P'][row].value)\n",
    "    record={\"refcode\": references['N'][row].value,\n",
    "            \"refstring\": cite_code,\n",
    "            \"refinfo\": cite_text\n",
    "    }\n",
    "    rp_refs.append(record)"
   ]
  },
  {
   "cell_type": "markdown",
   "id": "641f1bb8-2c1b-4487-8665-ebc52206362d",
   "metadata": {},
   "source": [
    "Check if there are duplicated references:"
   ]
  },
  {
   "cell_type": "code",
   "execution_count": 23,
   "id": "0d4301e1-58ee-4e49-abb5-eed08b1b75c6",
   "metadata": {},
   "outputs": [
    {
     "name": "stdout",
     "output_type": "stream",
     "text": [
      "Benwell 1998\n",
      "Molnar Fletcher Parsons 1989\n",
      "Wark White Robertson Marriott 1987\n",
      "Wark 1997\n"
     ]
    }
   ],
   "source": [
    "l1 = list()\n",
    "for r in NFRR_refs: \n",
    "    l1.append(r[\"refstring\"])\n",
    "l2 = list()\n",
    "for r in other_refs: \n",
    "    l2.append(r[\"refstring\"])\n",
    "\n",
    "for i in l1:\n",
    "    if i in l2:\n",
    "        print(i)\n"
   ]
  },
  {
   "cell_type": "code",
   "execution_count": 24,
   "id": "59fddbef-67c6-4e76-ae01-87784c204613",
   "metadata": {
    "tags": []
   },
   "outputs": [
    {
     "name": "stdout",
     "output_type": "stream",
     "text": [
      "Reference Benwell 1998 refers to 'Benwell A.S. (1998). Post-fire seedling recruitment in coastal heathland in relation to regeneration strategy and habitat. Aust. J. Bot. 46, 75-101.'\n",
      "Reference Benwell 1998 refers to 'Benwell, A.S. (1998) Post-fire seedling recruitment in coastal heathland in relation to regeneration strategy and habitat. Aust. J. Bot. 46:75-101.  Data compiled by D.Keith (Keith, D.A., McCaw, W.L. & Whelan, R.J. (2002) pp. 199-237 in \"Flammable Australia: The fire regimes and biodiversity of a continent\" Ed. R.A. Bradstock, J.E. Williams & M.A. Gill. Cambridge University Press, Cambridge)'\n"
     ]
    }
   ],
   "source": [
    "qry=\"Benwell 1998\"\n",
    "for elem in filter(lambda x: x['refstring'] == qry, NFRR_refs):\n",
    "    print(\"Reference %s refers to '%s'\" % (qry, elem['refinfo']))\n",
    "for elem in filter(lambda x: x['refstring'] == qry, other_refs):\n",
    "    print(\"Reference %s refers to '%s'\" % (qry, elem['refinfo']))\n",
    "    "
   ]
  },
  {
   "cell_type": "markdown",
   "id": "55e2b46d-786c-4edc-86ba-88c4a8d7de70",
   "metadata": {
    "tags": []
   },
   "source": [
    "### Matching references from hyperlinks\n",
    "We will create a function to translate hyperlinks to a reference:"
   ]
  },
  {
   "cell_type": "code",
   "execution_count": 25,
   "id": "ea53a3bf-2475-41a5-ad5f-a375e93db027",
   "metadata": {},
   "outputs": [],
   "source": [
    "def extract_link(target):\n",
    "    p=re.compile('[,;\\s]+')\n",
    "    assert (target.hyperlink is not None),\"Only works when cell has a hyperlink!\"\n",
    "    hlink = target.hyperlink.location\n",
    "    hlink = hlink.split(\"!\")\n",
    "    if (hlink[0] != \"References\"): #\"Expecting hyperlink to 'References' sheet\"\n",
    "        return None\n",
    "    else:\n",
    "        column=hlink[1][0:1]\n",
    "        cell=hlink[1]\n",
    "        refcodes=references[hlink[1]].value\n",
    "        refinfo=list()\n",
    "        if refcodes is not None:\n",
    "            if isinstance(refcodes,int):\n",
    "                for elem in filter(lambda x: x['refcode'] == refcodes, other_refs):\n",
    "                    refinfo.append(elem['refstring'])\n",
    "            else:\n",
    "                for refcode in p.split(refcodes):\n",
    "                    refcode=refcode.strip(\" \")\n",
    "                    refcode=re.sub(\"[abc]$\",\"\",refcode)\n",
    "                    if refcode.isnumeric():\n",
    "                        for elem in filter(lambda x: x['refcode'] == int(refcode), other_refs):\n",
    "                            refinfo.append(elem['refstring'])\n",
    "                    else:\n",
    "                        for elem in filter(lambda x: x['refcode'] == refcode, rp_refs):\n",
    "                            refinfo.append(elem['refstring'])\n",
    "                        for elem in filter(lambda x: x['refcode'] == refcode, NFRR_refs):\n",
    "                            refinfo.append(elem['refstring'])\n",
    "            return (refcodes,refinfo)\n",
    "        else:\n",
    "            return None\n",
    "\n",
    "            "
   ]
  },
  {
   "cell_type": "markdown",
   "id": "ef806a5d-d1a9-4c49-886b-f4d7b4416784",
   "metadata": {},
   "source": [
    "We can test this function for several rows:"
   ]
  },
  {
   "cell_type": "code",
   "execution_count": 26,
   "id": "0abca445-63b7-4087-87ad-ffa059793c50",
   "metadata": {},
   "outputs": [
    {
     "name": "stdout",
     "output_type": "stream",
     "text": [
      "157 :: [flowers well after fire] // ['Bishop 1996']\n",
      "162 :: [flowering 1 year post-fire] // ['Knox Clarke 2004']\n",
      "233 :: [facultative] // ['Keith David pers. comm.']\n"
     ]
    }
   ],
   "source": [
    "for row_index in (157,162,233):\n",
    "    spname=species_data[sp_col][row_index].value\n",
    "    pjp=species_data[target_cols['repr2']][row_index]\n",
    " \n",
    "    raw=pjp.value\n",
    "    if (pjp.hyperlink is not None):\n",
    "        ref=extract_link(pjp)\n",
    "        if ref is not None:\n",
    "            print(\"%s :: [%s] // %s\" % (row_index,raw,ref[1]))\n",
    "        else:\n",
    "            print(\"%s :: [%s] \" % (row_index,raw))            \n",
    "    else:\n",
    "        print(\"%s :: [%s] \" % (row_index,raw))"
   ]
  },
  {
   "cell_type": "markdown",
   "id": "edf2f72f-b976-4ef0-8090-b88cb2a57d66",
   "metadata": {},
   "source": [
    "### Colored and modified fonts\n",
    "\n",
    "Some records include additional information coded in font color or strikethrough of values. With Python we can query cell colors and strikethrough properties of the font to verify if information has been annotated, but not with enough detail to distinguish with part of the value is annotated and which is not. For example:"
   ]
  },
  {
   "cell_type": "code",
   "execution_count": 27,
   "id": "fe7ada42-c5a3-49b4-96cb-33941fd4e4ed",
   "metadata": {},
   "outputs": [
    {
     "name": "stdout",
     "output_type": "stream",
     "text": [
      "Cell 23 has colored font\n",
      "60\n",
      "Cell 24 has no colored font\n",
      "Cell 67 has colored font\n",
      "60\n",
      "Cell 68 has no colored font\n",
      "Cell 71 has no colored font\n",
      "Cell 73 has colored font\n",
      "60\n",
      "Cell 73 has strikethrough\n"
     ]
    }
   ],
   "source": [
    "for row in [22,23,66,67,70,72]:\n",
    "    if species_data['BN'][row].font.color == None:\n",
    "        print(\"Cell %s has no colored font\" % (row+1))\n",
    "    else:\n",
    "        print(\"Cell %s has colored font\" % (row+1))\n",
    "        print(species_data['BN'][row].font.color.indexed)\n",
    "    if species_data['BN'][row].font.strike != None:\n",
    "        print(\"Cell %s has strikethrough\" % (row+1))"
   ]
  },
  {
   "cell_type": "markdown",
   "id": "ebc47b9a-51ba-4e28-9d47-f280774766b9",
   "metadata": {},
   "source": [
    "### Processing strings with and without references\n",
    "Cell values in the target columns might includes values in mixed formats, sometimes numbers and sometimes text, sometimes different observations are recorded for each species using delimiters and citing references in text, e.g.: \n",
    "> value1 (ref a) / value2 (ref b)\n",
    " \n",
    "In such cases we want to split the values into different records and keep the values as 'raw value' and document the references cited. If the value in the cell matches our predefined values (e.g. Exclusive, Facultative, Negligible for post-fire flowering), we will fill a 'norm_value' with the corresponding category, if no match is found we will keep it empty for later processing.\n",
    "\n",
    "In exceptional cases a reference is given in the text: \"(12)\" refers to reference 12.\n",
    "\n",
    "We will define a _switcher_ function to transform raw values into normalised values:"
   ]
  },
  {
   "cell_type": "code",
   "execution_count": 28,
   "id": "ba96f46e-3ed0-4069-a11c-3c040458028b",
   "metadata": {},
   "outputs": [
    {
     "data": {
      "text/plain": [
       "True"
      ]
     },
     "execution_count": 28,
     "metadata": {},
     "output_type": "execute_result"
    }
   ],
   "source": [
    "switcher={\n",
    "    \"repr2\":{\n",
    "        \"facultative\": \"Facultative\",\n",
    "        \"yes\": \"Facultative\",\n",
    "        \"yes?\": \"Facultative\",\n",
    "        \"most profuse after fire\": \"Facultative\",\n",
    "        \"exclusive\": \"Exclusive\",\n",
    "        \"exclusive?\": \"Exclusive\",\n",
    "        \"negligible\": \"Negligible\"\n",
    "    },\n",
    "    \"rect2\":{\n",
    "        \"I\":\"Intolerant\",\n",
    "        \"T\":\"Tolerant\",\n",
    "        \"R\":\"Requiring\",\n",
    "        \"T R\":\"Tolerant-Requiring\",\n",
    "        \"I T\":\"Intolerant-Tolerant\",\n",
    "        \"T I\":\"Intolerant-Tolerant\"\n",
    "    },\n",
    "    \"germ1\":{\n",
    "        'canopy': 'Canopy',\n",
    "        \n",
    "        'persistent soil': 'Soil-persistent', \n",
    "        'persistent': 'Soil-persistent', \n",
    "        'peristent': 'Soil-persistent', \n",
    "        'soil': 'Soil-persistent', \n",
    "        \n",
    "        'transient': 'Transient', \n",
    "        'none':'Transient', \n",
    "        'shed at maturity': 'Transient', \n",
    "        'viviparous':'Transient', \n",
    "        'canopy / released at maturity':'Transient', \n",
    "        'canopy / regularly without fire':'Transient', \n",
    "        'canopy - transient':'Transient', \n",
    "        'transient': 'Transient', \n",
    "        \n",
    "        'serotinous canopy': 'Canopy',\n",
    "        'non-canopy': 'Non-canopy',\n",
    "        'not canopy': 'Non-canopy',\n",
    "        \n",
    "        'other': 'Other'\n",
    "    },\n",
    "     \"surv4\":{\n",
    "        'epicormic': 'Epicormic', \n",
    "        'stem buds': 'Epicormic', \n",
    "        'apical': 'Apical', \n",
    "        'lignotuber': 'Lignotuber',\n",
    "        'root stock': 'Lignotuber',\n",
    "        'rootstock': 'Lignotuber',\n",
    "        'basal': 'Basal',\n",
    "        'basal buds': 'Basal',\n",
    "        'coppice': 'Basal',\n",
    "        'tuber': 'Tuber',\n",
    "        'taproot': 'Tuber',\n",
    "        'tap root': 'Tuber',\n",
    "        'tussock': 'Tussock',\n",
    "        'rhizome': 'Long rhizome or root sucker',\n",
    "        'rootucker': 'Long rhizome or root sucker',\n",
    "        'rootuckers': 'Long rhizome or root sucker',\n",
    "        'rootsuckers': 'Long rhizome or root sucker',\n",
    "        'root buds': 'Long rhizome or root sucker',\n",
    "        'root sucker': 'Long rhizome or root sucker',\n",
    "        'root suckers': 'Long rhizome or root sucker',\n",
    "        'rhizome': 'Short rhizome',\n",
    "        'stolon': 'Stolon',\n",
    "        'stolons': 'Stolon'\n",
    "    }\n",
    "}\n",
    "isinstance(switcher[\"germ1\"],dict)"
   ]
  },
  {
   "cell_type": "markdown",
   "id": "8737d866-bc34-4c83-9e48-ddc8260ce464",
   "metadata": {},
   "source": [
    "And we will define a function to extract values from a target cell:"
   ]
  },
  {
   "cell_type": "code",
   "execution_count": 29,
   "id": "cbe8be32-0a83-45bf-b01f-c7d6aed4ebec",
   "metadata": {},
   "outputs": [],
   "source": [
    "def extract_value(target, switcher, varname, splitstring=\"&|;|,| or | and \"):\n",
    "    assert (target.value is not None),\"Only works whith non-empty cells\"\n",
    "    assert isinstance(switcher,dict),\"Switcher argument must be a dictionary\"\n",
    "    assert isinstance(varname,str),\"Variable name argument must be a string\"\n",
    "    p=re.compile('[,;\\s]+')\n",
    "    val = target.value\n",
    "    rslts = list()\n",
    "    note = list()\n",
    "    if target.font.color != None:\n",
    "        note.append('Cell color index %s' % target.font.color.indexed)\n",
    "    if target.font.strike != None:\n",
    "        note.append('Cell text has strikethrough')\n",
    "    if isinstance(val,int) or isinstance(val,float):\n",
    "        record={\"raw_value\":[varname,str(val)]}\n",
    "        if len(note)>0:\n",
    "            record[\"original_notes\"]=note                \n",
    "        rslts.append(record)\n",
    "    else:\n",
    "        for w in val.split('/'):\n",
    "            transvalue=None\n",
    "            oref=list()\n",
    "            method=None\n",
    "            w=w.strip(\" \")\n",
    "            start=0\n",
    "            end=len(w)\n",
    "            if w.find(\"(\")>0:\n",
    "                for refs in re.findall(\"\\(([\\w\\d, ]+)\\)\",w):\n",
    "                    for ref in p.split(refs):\n",
    "                        ref=ref.strip(\" \")\n",
    "                        ref=re.sub(\"[abc]$\",\"\",ref)\n",
    "                        if ref.isnumeric():\n",
    "                            for elem in filter(lambda x: x['refcode'] == int(ref), other_refs):\n",
    "                                oref.append(elem['refstring'])\n",
    "                        else:\n",
    "                            for elem in filter(lambda x: x['refcode'] == ref, rp_refs):\n",
    "                                oref.append(elem['refstring'])\n",
    "                            for elem in filter(lambda x: x['refcode'] == ref, NFRR_refs):\n",
    "                                oref.append(elem['refstring'])\n",
    "                end=w.index(\"(\")\n",
    "            if w.find(\"a-\")==0:\n",
    "                method='Inferred from plant morphology'\n",
    "                start=2\n",
    "            if w.find(\"?\")>0:\n",
    "                note.append(\"uncertain\")\n",
    "                \n",
    "                \n",
    "            sw=w[start:end].strip(\" \").replace(\"?\",\"\")\n",
    "            \n",
    "            for sv in re.split(splitstring,sw):\n",
    "                newnote=copy.deepcopy(note)\n",
    "                sv=sv.strip(\" \")\n",
    "                transvalue=switcher.get(sv, None)\n",
    "                record={\"raw_value\":[varname,w],\"main_source\":\"NSWFFRDv2.1\"}\n",
    "                if sw != w:\n",
    "                    record[\"raw_value\"].extend(['->',sw])\n",
    "                    newnote.append(\"original record split into multiple entries, prob. different sources\")\n",
    "                if sv != sw:\n",
    "                    record[\"raw_value\"].extend(['->',sv])\n",
    "                    newnote.append(\"original record split into multiple entries separated by and/or\")\n",
    "                if transvalue is not None:\n",
    "                    record[\"norm_value\"]=transvalue\n",
    "                if method is not None:\n",
    "                    newnote.append(method)\n",
    "                    #record[\"method_of_estimation\"]=method\n",
    "                if len(oref)>0:\n",
    "                    record[\"original_sources\"]=oref                \n",
    "                if len(newnote)>0:\n",
    "                    record[\"original_notes\"]=newnote                \n",
    "                rslts.append(record)\n",
    "    return(rslts)"
   ]
  },
  {
   "cell_type": "code",
   "execution_count": 30,
   "id": "94f5c933-e468-4933-9433-adf3056a2cd6",
   "metadata": {},
   "outputs": [
    {
     "name": "stdout",
     "output_type": "stream",
     "text": [
      "157 ::  {'raw_value': ['Post-fire flowering', 'flowers well after fire'], 'main_source': 'NSWFFRDv2.1', 'original_notes': ['Cell color index 12'], 'species': 'Acianthus caudatus', 'species_code': '4351', 'original_sources': ['Bishop 1996']}\n",
      "162 ::  {'raw_value': ['Post-fire flowering', 'flowering 1 year post-fire'], 'main_source': 'NSWFFRDv2.1', 'species': 'Aciphylla simplicifolia', 'species_code': '1091', 'original_sources': ['Knox Clarke 2004']}\n",
      "233 ::  {'raw_value': ['Post-fire flowering', 'facultative'], 'main_source': 'NSWFFRDv2.1', 'norm_value': 'Facultative', 'original_notes': ['Cell color index 12'], 'species': 'Amperea xiphoclada var. xiphoclada', 'species_code': '9713', 'original_sources': ['Keith David pers. comm.']}\n"
     ]
    }
   ],
   "source": [
    "target_col=target_cols[\"repr2\"]\n",
    "\n",
    "varname=species_data[target_col][1].value\n",
    "\n",
    "for row_index in (157,162,233):\n",
    "    pjp=species_data[target_col][row_index]\n",
    "    if (pjp.hyperlink is not None):\n",
    "        ref=extract_link(pjp)\n",
    "    else:\n",
    "        ref=None\n",
    "    if (pjp.value is not None):\n",
    "        spname=species_data[sp_col][row_index].value\n",
    "        spcode=species_data[spcode_col][row_index].value\n",
    "        rec=extract_value(pjp,switcher[\"repr2\"],varname)\n",
    "        for record in rec:\n",
    "            record[\"species\"]=spname\n",
    "            record[\"species_code\"]=spcode\n",
    "            if 'original_sources' not in record and ref is not None:\n",
    "                record['original_sources'] = ref[1]\n",
    "            print(\"%s ::  %s\" % (row_index,record))\n",
    "           \n",
    "    else:\n",
    "        print(\"%s is empty \" % (row_index))"
   ]
  },
  {
   "cell_type": "markdown",
   "id": "95377701-75ba-4382-a370-6bb7f116ec6c",
   "metadata": {},
   "source": [
    "We can wrap this in one single function call:"
   ]
  },
  {
   "cell_type": "code",
   "execution_count": 31,
   "id": "e8a6c7a4-5c83-4c8a-9ce1-f5115e5df97a",
   "metadata": {},
   "outputs": [],
   "source": [
    "def create_record(spreadsheet,target_col,row_index,switcher,**kwarg):\n",
    "    target=spreadsheet[target_col][row_index]\n",
    "    varname=spreadsheet[target_col][1].value\n",
    "    if (target.value is not None):\n",
    "        records=list()\n",
    "        if (target.hyperlink is not None):\n",
    "            ref=extract_link(target)\n",
    "        else:\n",
    "            ref=None\n",
    "        if (target.value is not None):\n",
    "            spname=species_data[sp_col][row_index].value\n",
    "            spcode=species_data[spcode_col][row_index].value\n",
    "            rec=extract_value(target,switcher,varname,**kwarg)\n",
    "            for record in rec:\n",
    "                record[\"species\"]=spname\n",
    "                record[\"species_code\"]=spcode\n",
    "                if 'original_sources' not in record and ref is not None:\n",
    "                    record['original_sources'] = ref[1]\n",
    "                records.append(record)\n",
    "        return(records)\n"
   ]
  },
  {
   "cell_type": "markdown",
   "id": "67e3e56d-ee42-4391-8f98-79ccf32a2457",
   "metadata": {},
   "source": [
    "Now we will get one or many records per cell with a simple function call:"
   ]
  },
  {
   "cell_type": "code",
   "execution_count": 32,
   "id": "cd736288-e8af-4dff-a03a-649ba0132f92",
   "metadata": {},
   "outputs": [
    {
     "name": "stdout",
     "output_type": "stream",
     "text": [
      "[{'raw_value': ['Establishment', 'I (R35)', '->', 'I'], 'main_source': 'NSWFFRDv2.1', 'norm_value': 'Intolerant', 'original_sources': ['RP RFA NSW - Eden'], 'original_notes': ['original record split into multiple entries, prob. different sources'], 'species': 'Acacia constablei', 'species_code': '3747'}, {'raw_value': ['Establishment', 'even aged stands indicate post fire recruitment; though some recruitment in absence of fire (R15)', '->', 'even aged stands indicate post fire recruitment; though some recruitment in absence of fire', '->', 'even aged stands indicate post fire recruitment'], 'main_source': 'NSWFFRDv2.1', 'original_sources': ['RP Threatened Flora of Rocky Outcrops in South Eas'], 'original_notes': ['original record split into multiple entries, prob. different sources', 'original record split into multiple entries separated by and/or'], 'species': 'Acacia constablei', 'species_code': '3747'}, {'raw_value': ['Establishment', 'even aged stands indicate post fire recruitment; though some recruitment in absence of fire (R15)', '->', 'even aged stands indicate post fire recruitment; though some recruitment in absence of fire', '->', 'though some recruitment in absence of fire'], 'main_source': 'NSWFFRDv2.1', 'original_sources': ['RP Threatened Flora of Rocky Outcrops in South Eas'], 'original_notes': ['original record split into multiple entries, prob. different sources', 'original record split into multiple entries separated by and/or'], 'species': 'Acacia constablei', 'species_code': '3747'}]\n",
      "[{'raw_value': ['Establishment', 'I'], 'main_source': 'NSWFFRDv2.1', 'norm_value': 'Intolerant', 'species': 'Acacia quadrilateralis', 'species_code': '3863'}]\n",
      "[{'raw_value': ['Establishment', 'T'], 'main_source': 'NSWFFRDv2.1', 'norm_value': 'Tolerant', 'original_notes': ['Cell color index 12'], 'species': 'Acrophyllum australe', 'species_code': '2265', 'original_sources': ['RP Acrophyllum australe']}]\n"
     ]
    }
   ],
   "source": [
    "target_col=target_cols[\"rect2\"]\n",
    "for row_index in (36,122,167):\n",
    "    rr = create_record(species_data,target_col,row_index,switcher[\"rect2\"])\n",
    "    print(rr)"
   ]
  },
  {
   "cell_type": "markdown",
   "id": "312032bf-a552-4575-8ae6-0395c07851a3",
   "metadata": {
    "tags": []
   },
   "source": [
    "## Format records for input in database\n",
    "\n",
    "Using the code above it is possible to take each species (row) from the spreadsheet and add records for the trait tables in the database. \n",
    "\n",
    "First we need to connect to the database from python."
   ]
  },
  {
   "cell_type": "markdown",
   "id": "da748795-a482-4c53-98d9-4f5f0f2e39e5",
   "metadata": {
    "tags": []
   },
   "source": [
    "### Connect to database from Python\n",
    "\n",
    "We use the library _psygopg2_ to connect to the database. We first read the database credential from a file with restricted read access:"
   ]
  },
  {
   "cell_type": "code",
   "execution_count": 33,
   "id": "90fed829-7ab9-44d7-abf8-ba2b012aec17",
   "metadata": {},
   "outputs": [],
   "source": [
    "from configparser import ConfigParser\n",
    "import psycopg2\n",
    "from psycopg2.extensions import AsIs\n",
    "\n",
    "filename = repodir / 'secrets' / 'database.ini'\n",
    "section = 'aws-lght-sl'\n",
    "\n",
    "parser = ConfigParser()\n",
    "parser.read(filename)\n",
    "\n",
    "dbparams = {}\n",
    "if parser.has_section(section):\n",
    "    params = parser.items(section)\n",
    "    for param in params:\n",
    "        dbparams[param[0]] = param[1]\n",
    "else:\n",
    "    raise Exception('Section {0} not found in the {1} file'.format(section, filename))"
   ]
  },
  {
   "cell_type": "markdown",
   "id": "2c918e48-461d-422c-b628-eff76391e2b8",
   "metadata": {},
   "source": [
    "Typically we will connect to the database, run a query and then disconnect:"
   ]
  },
  {
   "cell_type": "raw",
   "id": "d263693c-fdcf-4149-8643-6aee86978d46",
   "metadata": {},
   "source": [
    "conn = psycopg2.connect(**dbparams)\n",
    "print('Connected to the database.')\n",
    "\n",
    "qry = \"SELECT * FROM litrev.ref_list LIMIT 1\"\n",
    "cur = conn.cursor()\n",
    "cur.execute(qry)\n",
    "valid = cur.fetchall()\n",
    "cur.close()\n",
    "\n",
    "if conn is not None:\n",
    "    conn.close()\n",
    "    print('Database connection closed.')"
   ]
  },
  {
   "cell_type": "markdown",
   "id": "056cf903-607b-4fb4-bcea-d36f7d1c6b96",
   "metadata": {
    "tags": []
   },
   "source": [
    "### Add list of references\n",
    "\n",
    "We have already added all references in previous imports."
   ]
  },
  {
   "cell_type": "markdown",
   "id": "23bf05de-c6ac-4b0a-8b2d-6ca5c4d06504",
   "metadata": {},
   "source": [
    "### Inserting records from NSWFFRDv2.1\n",
    "\n",
    "We will create one record per species, using \"NSWFFRDv2.1\" as _main reference_, adding the reported references in the _original sources_ column."
   ]
  },
  {
   "cell_type": "markdown",
   "id": "07a68f9d-6188-468a-8c1d-5d3a138dcb80",
   "metadata": {},
   "source": [
    "We will use the functions declared above to read row values and hyperlinks to create one or multiple records from each entry."
   ]
  },
  {
   "cell_type": "code",
   "execution_count": 34,
   "id": "0d7d10c6-130b-4006-82b7-ab09a5579f51",
   "metadata": {},
   "outputs": [
    {
     "data": {
      "text/plain": [
       "True"
      ]
     },
     "execution_count": 34,
     "metadata": {},
     "output_type": "execute_result"
    }
   ],
   "source": [
    "x=create_record(species_data,target_cols[\"rect2\"],4,switcher[\"rect2\"])\n",
    "x is None\n",
    "#x"
   ]
  },
  {
   "cell_type": "markdown",
   "id": "e0f93713-bfc4-466d-8099-2e845ebdcfeb",
   "metadata": {},
   "source": [
    "Now we will read through the spreadsheet and prepare records"
   ]
  },
  {
   "cell_type": "code",
   "execution_count": 35,
   "id": "e1115a52-5c84-4358-a51b-991e7bd2da40",
   "metadata": {},
   "outputs": [
    {
     "name": "stdout",
     "output_type": "stream",
     "text": [
      "Connecting to the PostgreSQL database...\n",
      "total of 193 records prepared\n",
      "total number of lines updated: 193\n",
      "total of 132 records prepared\n",
      "total number of lines updated: 325\n",
      "total of 104 records prepared\n",
      "total number of lines updated: 429\n",
      "total of 134 records prepared\n",
      "total number of lines updated: 563\n",
      "total of 165 records prepared\n",
      "total number of lines updated: 728\n",
      "total of 132 records prepared\n",
      "total number of lines updated: 860\n",
      "total of 132 records prepared\n",
      "total number of lines updated: 992\n",
      "total of 141 records prepared\n",
      "total number of lines updated: 1133\n",
      "total of 124 records prepared\n",
      "total number of lines updated: 1257\n",
      "total of 108 records prepared\n",
      "total number of lines updated: 1365\n",
      "total of 109 records prepared\n",
      "total number of lines updated: 1474\n",
      "total of 118 records prepared\n",
      "total number of lines updated: 1592\n",
      "total of 43 records prepared\n",
      "total number of lines updated: 1635\n",
      "skip trait repr2\n",
      "skip trait rect2\n",
      "skip trait surv4\n",
      "Database connection closed.\n"
     ]
    }
   ],
   "source": [
    "row_min = 2\n",
    "row_max = species_data.max_row\n",
    "\n",
    "print('Connecting to the PostgreSQL database...')\n",
    "conn = psycopg2.connect(**dbparams)\n",
    "cur = conn.cursor()\n",
    "affected_rows=0\n",
    "\n",
    "target_cols={'germ1':'M', 'repr2':'X', 'rect2':'W', 'surv4':'L'}\n",
    "\n",
    "ready=('rect2', 'germ1', 'repr2','surv4')\n",
    "\n",
    "for trait in target_cols.keys():\n",
    "    if trait in ready: \n",
    "        print (\"skip trait %s\" % trait)\n",
    "        continue\n",
    "\n",
    "    if trait in ('surv4','germ1'):\n",
    "        mysplitstring=\"&|;|,| or | and \"\n",
    "    else:\n",
    "        mysplitstring=\"DO NOT SPLIT SENTENCE\"\n",
    "    \n",
    "    insert_statement = 'insert into litrev.%s (%%s) values %%s ON CONFLICT DO NOTHING' % trait\n",
    "    records=list()\n",
    "    for row in range(row_min,row_max):\n",
    "        rr = create_record(species_data,target_cols[trait],row,switcher[trait],splitstring=mysplitstring)\n",
    "        if rr is not None :\n",
    "            records.extend(rr)\n",
    "        if (((row-row_min) % 250) == 0 and len(records)>10) or (row==(row_max-1)):\n",
    "            print(\"total of %s records prepared\" % len(records)) \n",
    "            for record in records: \n",
    "                cur.execute(insert_statement, (AsIs(','.join(record.keys())), tuple(record.values())))\n",
    "                affected_rows = affected_rows+cur.rowcount\n",
    "            records.clear()\n",
    "            conn.commit()\n",
    "            print(\"total number of lines updated: %s\" % affected_rows)\n",
    "\n",
    "cur.close()\n",
    "if conn is not None:\n",
    "    conn.close()\n",
    "    print('Database connection closed.')     \n"
   ]
  },
  {
   "cell_type": "markdown",
   "id": "018431e8-1658-47e0-bd6f-a2cee67de262",
   "metadata": {},
   "source": [
    "This is somehow slow, but it works, and all the records are in the database."
   ]
  },
  {
   "cell_type": "code",
   "execution_count": 36,
   "id": "cf46b078-3429-4d9b-af41-71a4bc0ee2b4",
   "metadata": {},
   "outputs": [
    {
     "data": {
      "text/plain": [
       "dict_values([['Seed storage', 'persistent soil'], 'NSWFFRDv2.1', 'Soil-persistent', 'Zornia dyctiocarpa var. dyctiocarpa', '8691'])"
      ]
     },
     "execution_count": 36,
     "metadata": {},
     "output_type": "execute_result"
    }
   ],
   "source": [
    "record.values()"
   ]
  },
  {
   "cell_type": "code",
   "execution_count": null,
   "id": "447eb505-4c31-400d-94cc-f4c2fa8d8944",
   "metadata": {},
   "outputs": [],
   "source": []
  }
 ],
 "metadata": {
  "kernelspec": {
   "display_name": "Python 3 (ipykernel)",
   "language": "python",
   "name": "python3"
  },
  "language_info": {
   "codemirror_mode": {
    "name": "ipython",
    "version": 3
   },
   "file_extension": ".py",
   "mimetype": "text/x-python",
   "name": "python",
   "nbconvert_exporter": "python",
   "pygments_lexer": "ipython3",
   "version": "3.10.2"
  }
 },
 "nbformat": 4,
 "nbformat_minor": 5
}
