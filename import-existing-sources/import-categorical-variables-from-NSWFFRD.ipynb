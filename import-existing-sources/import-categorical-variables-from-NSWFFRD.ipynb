{
 "cells": [
  {
   "cell_type": "markdown",
   "id": "7848bf80-969f-453e-a4a5-f6dd3ab712cf",
   "metadata": {},
   "source": [
    "# Fireveg DB imports -- categorical data from NSWFFRD 2014 (v2.1)\n",
    "\n",
    "Author: [José R. Ferrer-Paris](https://github.com/jrfep)\n",
    "\n",
    "Date: July 2024\n",
    "\n",
    "This Jupyter Notebook includes [Python](https://www.python.org) code to populate one of the fire ecology traits for plants in the Fireveg database. \n",
    "\n",
    "This code show how to read the spreadsheet from **NSW Flora Fire response database** and extract information for several traits, translate the original values into standard values and insert records into the Fireveg response database.\n",
    "\n",
    "\n",
    "**Please note:**\n",
    "<div class=\"alert alert-warning\">\n",
    "    This repository contains code that is intended for internal project management and is documented for the sake of reproducibility.<br/>\n",
    "    🛂 Only users contributing directly to the project have access to the credentials for data download/upload. \n",
    "</div>"
   ]
  },
  {
   "cell_type": "markdown",
   "id": "498f24ce-5ed6-47a3-bd3a-bc06dc859b96",
   "metadata": {
    "tags": []
   },
   "source": [
    "## Set-up \n",
    "\n",
    "### Load libraries\n"
   ]
  },
  {
   "cell_type": "code",
   "execution_count": 1,
   "id": "58c9bacb-b46f-48b7-b7a7-cd82268a6932",
   "metadata": {},
   "outputs": [],
   "source": [
    "import openpyxl\n",
    "from pathlib import Path\n",
    "import os, sys\n",
    "import re\n",
    "import copy\n",
    "import psycopg2\n",
    "\n",
    "# Pyprojroot for easier handling of working directory\n",
    "import pyprojroot"
   ]
  },
  {
   "cell_type": "markdown",
   "id": "69812a80-854b-4877-9952-1c954e97aaea",
   "metadata": {},
   "source": [
    "### Define paths for input and output"
   ]
  },
  {
   "cell_type": "markdown",
   "id": "da72447c-22d7-4e59-828a-3f1d0359d908",
   "metadata": {},
   "source": [
    "Define project directory using the `pyprojroot` functions, and add this to the execution path."
   ]
  },
  {
   "cell_type": "code",
   "execution_count": 2,
   "id": "32af50ac-02c7-46ac-ac4c-301c769efe4d",
   "metadata": {},
   "outputs": [],
   "source": [
    "repodir = pyprojroot.find_root(pyprojroot.has_dir(\".git\"))\n",
    "sys.path.append(str(repodir))"
   ]
  },
  {
   "cell_type": "markdown",
   "id": "6dbaf0bb-6098-4332-821f-80668719c69f",
   "metadata": {},
   "source": [
    "Path to the folder with the downloaded data:"
   ]
  },
  {
   "cell_type": "code",
   "execution_count": 3,
   "id": "1a796637-1d28-468b-9ca7-015ea932c6fa",
   "metadata": {},
   "outputs": [],
   "source": [
    "inputdir = repodir / \"data\" "
   ]
  },
  {
   "cell_type": "markdown",
   "id": "9148d47b-3e4a-4598-a6a9-062a07ce54e6",
   "metadata": {},
   "source": [
    "### Load own functions\n",
    "Load functions from `lib` folder, we will use a function to read db credentials, one for executing database queries and three functions for extracting data from the reference description string"
   ]
  },
  {
   "cell_type": "code",
   "execution_count": 4,
   "id": "3e892a53-ab14-4c2c-b5cd-92533e80f3c8",
   "metadata": {},
   "outputs": [],
   "source": [
    "from lib.parseparams import read_dbparams\n",
    "from lib.firevegdb import dbquery, batch_upsert\n",
    "import lib.nswfireflora_util as nswff"
   ]
  },
  {
   "cell_type": "markdown",
   "id": "1b93b6e4-811f-4f45-87eb-86cc00429f0a",
   "metadata": {},
   "source": [
    "### Database credentials\n",
    "\n",
    "🤫 We use a folder named \"secrets\" to keep the credentials for connection to different services (database credentials, API keys, etc). This checked this folder in our `.gitignore` so that its content are not tracked by git and not exposed. Future users need to copy the contents of this folder manually.\n",
    "\n",
    "We read database credentials stored in a `database.ini` file using our own `read_dbparams` function."
   ]
  },
  {
   "cell_type": "code",
   "execution_count": 5,
   "id": "daa0f78d-1d15-43bd-a4bb-6d5cedafa67d",
   "metadata": {},
   "outputs": [],
   "source": [
    "dbparams = read_dbparams(repodir / 'secrets' / 'database.ini', \n",
    "                         section='fireveg-db-v1.1')"
   ]
  },
  {
   "cell_type": "markdown",
   "id": "38d3b9e0-1398-44b4-8ee0-175ee9f5dd80",
   "metadata": {
    "tags": []
   },
   "source": [
    "## Open the workbook and read spreadsheets\n",
    "We will use the _openpyxl_ library to read the spreadsheet document.\n",
    "Here we will load the workbook (_wb_):"
   ]
  },
  {
   "cell_type": "code",
   "execution_count": 6,
   "id": "82329cd1-1941-490d-86da-c528363aa7af",
   "metadata": {},
   "outputs": [],
   "source": [
    "wb = openpyxl.load_workbook(inputdir / \"NSWFFRDv2.1.xlsx\")"
   ]
  },
  {
   "cell_type": "markdown",
   "id": "f5103232-f975-49a0-8ed1-a12db1f21c5c",
   "metadata": {},
   "source": [
    "We will use the sheet names to read them. We need access to sheet 'Species data' and 'References', we will also check their column notes:"
   ]
  },
  {
   "cell_type": "code",
   "execution_count": 7,
   "id": "068ce434-6da5-4a2a-83b4-4a71071c4e33",
   "metadata": {},
   "outputs": [],
   "source": [
    "species_data = wb['SpeciesData']\n",
    "references = wb['References']\n",
    "column_notes = wb['Notes'] "
   ]
  },
  {
   "cell_type": "markdown",
   "id": "e93b885a-f192-4018-9374-74209f90ea08",
   "metadata": {
    "tags": []
   },
   "source": [
    "### Read cell values\n",
    "We can use square brackets to refer to a column and then use python indices (starting with _0_ for the top row) to slice it. We use the property _value_ to show their stored content. "
   ]
  },
  {
   "cell_type": "code",
   "execution_count": 8,
   "id": "04cb146d-c4db-4612-900f-23c9d80a3272",
   "metadata": {},
   "outputs": [
    {
     "name": "stdout",
     "output_type": "stream",
     "text": [
      "Post-fire flowering\n",
      "flowers well after fire\n"
     ]
    }
   ],
   "source": [
    "print(species_data['X'][1].value)\n",
    "print(species_data['X'][157].value)"
   ]
  },
  {
   "cell_type": "markdown",
   "id": "c820c633-e1a0-45c8-a213-6d152974acb7",
   "metadata": {},
   "source": [
    "Descriptions of these columns are found in the _column_notes_ sheet:"
   ]
  },
  {
   "cell_type": "code",
   "execution_count": 9,
   "id": "1936897a-33ec-447d-bcd0-a9015a8a4bdf",
   "metadata": {},
   "outputs": [
    {
     "name": "stdout",
     "output_type": "stream",
     "text": [
      " - *Establishment*\n",
      "\tSeedling establishment groups of Noble & Slatyer (1980); See VA sheet for details: I=Intolerant, T=Tolerant, R=Requiring\n",
      " - *Post-fire flowering*\n",
      "\texclusive or facultative post-fire flowering observed\n"
     ]
    }
   ],
   "source": [
    "for k in (23,24):\n",
    "    print(\" - *%s*\" %column_notes.cell(row=k,column=2).value)\n",
    "    print(\"\\t%s\" % column_notes.cell(row=k,column=3).value)"
   ]
  },
  {
   "cell_type": "markdown",
   "id": "b80f79f3-48aa-4b70-a7ac-5b77093be79d",
   "metadata": {},
   "source": [
    "We can use this approach to read several columns from one row, let's start checking the columns names in row 1:"
   ]
  },
  {
   "cell_type": "code",
   "execution_count": 10,
   "id": "9f6c4276-9144-42a9-b9f1-84613bba9672",
   "metadata": {},
   "outputs": [
    {
     "name": "stdout",
     "output_type": "stream",
     "text": [
      "Current Scientific Name (Species Code) / Post-fire flowering / Establishment  \n"
     ]
    }
   ],
   "source": [
    "sp_col='A'\n",
    "spcode_col='B'\n",
    "target_cols={'repr2':'X', 'rect2':'W'}\n",
    "\n",
    "target_cols.values()\n",
    "print(\"%s (%s) / %s / %s  \" %\n",
    "(species_data[sp_col][1].value,\n",
    " species_data[spcode_col][1].value,\n",
    "species_data[target_cols['repr2']][1].value,\n",
    "species_data[target_cols['rect2']][1].value))"
   ]
  },
  {
   "cell_type": "markdown",
   "id": "0cebc689-5fa7-480d-b1de-abee6d3603b0",
   "metadata": {},
   "source": [
    "Now select one record:"
   ]
  },
  {
   "cell_type": "code",
   "execution_count": 11,
   "id": "71ddf16d-d4c7-4f50-9e75-7570ed913fc2",
   "metadata": {
    "tags": []
   },
   "outputs": [
    {
     "name": "stdout",
     "output_type": "stream",
     "text": [
      "Acianthus caudatus (4351)  ~ flowers well after fire  / None \n"
     ]
    }
   ],
   "source": [
    "row_index=157\n",
    "\n",
    "print(\"%s (%s)  ~ %s  / %s \" %\n",
    "(species_data[sp_col][row_index].value,\n",
    " species_data[spcode_col][row_index].value,\n",
    " species_data[target_cols['repr2']][row_index].value,\n",
    "species_data[target_cols['rect2']][row_index].value))\n"
   ]
  },
  {
   "cell_type": "markdown",
   "id": "ed40847e-daf0-4ab9-840b-06bf8b446cac",
   "metadata": {
    "tags": []
   },
   "source": [
    "#### Dealing with hyperlinks\n",
    "\n",
    "This cell has a hyperlink:"
   ]
  },
  {
   "cell_type": "code",
   "execution_count": 12,
   "id": "b82a128e-cc64-4183-b03a-91b4d72e3254",
   "metadata": {},
   "outputs": [
    {
     "data": {
      "text/plain": [
       "openpyxl.worksheet.hyperlink.Hyperlink"
      ]
     },
     "execution_count": 12,
     "metadata": {},
     "output_type": "execute_result"
    }
   ],
   "source": [
    "type(species_data[target_cols['repr2']][row_index].hyperlink)"
   ]
  },
  {
   "cell_type": "markdown",
   "id": "398c9c00-c619-4528-9413-f7ec55d56482",
   "metadata": {},
   "source": [
    "If the cell is a hyperlink it will have a value to \"display\" and will point to a \"location\" within the workbook: "
   ]
  },
  {
   "cell_type": "code",
   "execution_count": 13,
   "id": "a724720f-cf84-47ad-a02e-135094f39709",
   "metadata": {},
   "outputs": [
    {
     "data": {
      "text/plain": [
       "'References!C22'"
      ]
     },
     "execution_count": 13,
     "metadata": {},
     "output_type": "execute_result"
    }
   ],
   "source": [
    "species_data[target_cols['repr2']][row_index].hyperlink.display"
   ]
  },
  {
   "cell_type": "code",
   "execution_count": 14,
   "id": "20a43761-7aec-460f-a52e-1b3312073249",
   "metadata": {},
   "outputs": [
    {
     "name": "stdout",
     "output_type": "stream",
     "text": [
      "References!C22\n"
     ]
    }
   ],
   "source": [
    "# This will fail if there is no hyperlink \n",
    "print(species_data[target_cols['repr2']][row_index].hyperlink.location)"
   ]
  },
  {
   "cell_type": "markdown",
   "id": "4574fc94-2dbf-4acf-958c-3444a9ceba63",
   "metadata": {},
   "source": [
    "Let's see the value of this reference:"
   ]
  },
  {
   "cell_type": "code",
   "execution_count": 15,
   "id": "7b4de60a-6404-45d6-8f32-6cce8fcb64be",
   "metadata": {},
   "outputs": [],
   "source": [
    "hlink = species_data[target_cols['repr2']][row_index].hyperlink.location\n",
    "hlink = hlink.split(\"!\")"
   ]
  },
  {
   "cell_type": "markdown",
   "id": "e2776b91-c5ed-441d-8103-ba63f5e77cff",
   "metadata": {},
   "source": [
    "This gives the name of the target sheet and the corresponding cell. We need to read the cell to its right side (add one to the column number) to get the information we need."
   ]
  },
  {
   "cell_type": "code",
   "execution_count": 16,
   "id": "cf4b6f89-a497-407d-b4ad-3568e16f7394",
   "metadata": {},
   "outputs": [
    {
     "name": "stdout",
     "output_type": "stream",
     "text": [
      "Cell value is :: 21\n",
      "Reference data is :: Bishop T. (1996) Field Guide to the Orchids of NSW and Victoria\n"
     ]
    }
   ],
   "source": [
    "ref = wb[hlink[0]]\n",
    "print(\"Cell value is :: \" + str(ref[hlink[1]].value))\n",
    "nlink = ref.cell(row=ref[hlink[1]].row,column=ref[hlink[1]].col_idx + 1)\n",
    "\n",
    "print(\"Reference data is :: \" + nlink.value) \n"
   ]
  },
  {
   "cell_type": "markdown",
   "id": "7066ac16-92f1-4011-a3df-136bb6b2b1ae",
   "metadata": {},
   "source": [
    "If there is no hyperlink, it will result in NoneType"
   ]
  },
  {
   "cell_type": "code",
   "execution_count": 17,
   "id": "bd9033db-5cbc-43e1-9e10-a737e1f1df69",
   "metadata": {},
   "outputs": [
    {
     "data": {
      "text/plain": [
       "NoneType"
      ]
     },
     "execution_count": 17,
     "metadata": {},
     "output_type": "execute_result"
    }
   ],
   "source": [
    "type(species_data[target_cols['repr2']][row_index-1].hyperlink)"
   ]
  },
  {
   "cell_type": "markdown",
   "id": "dceaea5d-b131-4ae4-8eb4-12722b1a5d58",
   "metadata": {
    "tags": []
   },
   "source": [
    "### Create list(s) of references \n",
    "We need to prepare list of references from spreadsheet 'References'.\n",
    "\n",
    "There are three sets of references:\n",
    "- the  \"normal\" references in columns C and D (pink)\n",
    "- the  \"Recovery Plan / Regional Forest Agreement Report\" references in columns N, O, and P (blue)\n",
    "- the  \"NFRR\" references in columns S and T (lila)\n",
    "\n",
    "Normal and NFRR references are identified by a simple two-cipher or -letter code and reference description, we will use a function to create a more descriptive reference code for the references based on the list of authors and date.\n",
    "\n",
    "For Recovery plans and Regional Forest Agreement Reports, we will use the species or region as reference code.\n"
   ]
  },
  {
   "cell_type": "code",
   "execution_count": 18,
   "id": "669a58c6-4b82-483e-ac7b-fb7f8b4b7773",
   "metadata": {
    "tags": []
   },
   "outputs": [
    {
     "name": "stdout",
     "output_type": "stream",
     "text": [
      "Asterolasia elegans\n"
     ]
    },
    {
     "data": {
      "text/plain": [
       "'RP Asterolasia elegans'"
      ]
     },
     "execution_count": 18,
     "metadata": {},
     "output_type": "execute_result"
    }
   ],
   "source": [
    "val=references['O'][26].value.replace(\"(1) \",\"\")\n",
    "print(val)\n",
    "nswff.create_ref_code_RP(val)"
   ]
  },
  {
   "cell_type": "markdown",
   "id": "d9ba9299-008f-4634-a3f8-a2b0734146e6",
   "metadata": {},
   "source": [
    "Now we check references of NFRR (notice that we will substitute number _1_ with capital _I_ in _refcode_ to avoid problems with one reference (see below):"
   ]
  },
  {
   "cell_type": "code",
   "execution_count": 19,
   "id": "16ad5b4c-98a3-4f62-bb34-7601e2c2446d",
   "metadata": {},
   "outputs": [],
   "source": [
    "NFRR_refs=list()\n",
    "for row in range(1,66):\n",
    "    cite_text = references['T'][row].value.replace(\"(1) \",\"\")\n",
    "    cite_code = nswff.create_ref_code(cite_text) \n",
    "    record={\"refcode\": references['S'][row].value.replace(\"1\",\"I\"),\n",
    "            \"refstring\": cite_code,#re.sub(r\", [A-Z\\.]+\",\" \",cite_code),\n",
    "            \"refinfo\": cite_text\n",
    "    }\n",
    "    NFRR_refs.append(record)"
   ]
  },
  {
   "cell_type": "code",
   "execution_count": 20,
   "id": "96319c0f-38cb-4d2b-a411-ce0ec3c6327d",
   "metadata": {},
   "outputs": [
    {
     "data": {
      "text/plain": [
       "{'refcode': 'SA',\n",
       " 'refstring': 'Carolyn Sandercoe Qld. unpub.',\n",
       " 'refinfo': 'Carolyn Sandercoe, Qld. (unpublished)'}"
      ]
     },
     "execution_count": 20,
     "metadata": {},
     "output_type": "execute_result"
    }
   ],
   "source": [
    "NFRR_refs[56]"
   ]
  },
  {
   "cell_type": "code",
   "execution_count": 21,
   "id": "f83d3000-19ac-4b87-a92b-cff757f116d0",
   "metadata": {},
   "outputs": [
    {
     "data": {
      "text/plain": [
       "'BF'"
      ]
     },
     "execution_count": 21,
     "metadata": {},
     "output_type": "execute_result"
    }
   ],
   "source": [
    "NFRR_refs[6][\"refcode\"]"
   ]
  },
  {
   "cell_type": "code",
   "execution_count": 22,
   "id": "87d9a924-48ff-4654-9ec0-29fa8d6ffec3",
   "metadata": {},
   "outputs": [
    {
     "name": "stdout",
     "output_type": "stream",
     "text": [
      "NFRR reference FOI refers to 'Fox, J.E.D. (1985). Fire in Mulga: Studies at the margins. In: Fire ecology and management of Western Australian ecosystems. (ed: J.R. Ford). Western Australian Institute of Technology, report no. 14.'\n"
     ]
    }
   ],
   "source": [
    "qry=\"FOI\"\n",
    "for elem in filter(lambda x: x['refcode'] == qry, NFRR_refs):\n",
    "    print(\"NFRR reference %s refers to '%s'\" % (qry, elem['refinfo']))"
   ]
  },
  {
   "cell_type": "markdown",
   "id": "335f3e7b-4356-4a23-9b36-5c862ebf8e05",
   "metadata": {},
   "source": [
    "We do the same for the \"normal\" references column:"
   ]
  },
  {
   "cell_type": "code",
   "execution_count": 23,
   "id": "8833ee3e-8f13-4531-ad74-357d96bcbb6d",
   "metadata": {},
   "outputs": [],
   "source": [
    "other_refs=list()\n",
    "for row in range(1,139):\n",
    "    cite_text = references['D'][row].value\n",
    "    cite_code = nswff.create_ref_code(cite_text) \n",
    "    if cite_code == \"Benson 1985\":\n",
    "        cite_code = \"Benson 1985b\"\n",
    "    record={\"refcode\": references['C'][row].value,\n",
    "            \"refstring\": cite_code,\n",
    "            \"refinfo\": cite_text\n",
    "    }\n",
    "    other_refs.append(record)"
   ]
  },
  {
   "cell_type": "code",
   "execution_count": 24,
   "id": "67350a19-57b7-4e2b-a012-71686bbe89dc",
   "metadata": {},
   "outputs": [
    {
     "data": {
      "text/plain": [
       "{'refcode': 10,\n",
       " 'refstring': 'Wark White Robertson Marriott 1987',\n",
       " 'refinfo': 'Wark, M.C., White, M.D., Robertson, D.J. and Marriott, P.F. (1987). Regeneration of heath and heath woodland in the north-eastern Otway Ranges following the wildfire of February 1983. Proc.Roy.Soc.Vic. 99, 51-88.'}"
      ]
     },
     "execution_count": 24,
     "metadata": {},
     "output_type": "execute_result"
    }
   ],
   "source": [
    "other_refs[9]"
   ]
  },
  {
   "cell_type": "markdown",
   "id": "db24542a-f390-4246-81c7-33fbaca5fe6e",
   "metadata": {},
   "source": [
    "Now the recovery plan references:"
   ]
  },
  {
   "cell_type": "code",
   "execution_count": 25,
   "id": "5000a06a-1b23-4a0c-9259-337c737ef8cd",
   "metadata": {},
   "outputs": [],
   "source": [
    "rp_refs=list()\n",
    "for row in range(1,46):\n",
    "    cite_code = nswff.create_ref_code_RP(references['O'][row].value) \n",
    "    cite_text = \"%s. %s\" % (cite_code, references['P'][row].value)\n",
    "    record={\"refcode\": references['N'][row].value,\n",
    "            \"refstring\": cite_code,\n",
    "            \"refinfo\": cite_text\n",
    "    }\n",
    "    rp_refs.append(record)"
   ]
  },
  {
   "cell_type": "markdown",
   "id": "641f1bb8-2c1b-4487-8665-ebc52206362d",
   "metadata": {},
   "source": [
    "Check if there are duplicated references:"
   ]
  },
  {
   "cell_type": "code",
   "execution_count": 26,
   "id": "0d4301e1-58ee-4e49-abb5-eed08b1b75c6",
   "metadata": {},
   "outputs": [
    {
     "name": "stdout",
     "output_type": "stream",
     "text": [
      "Benwell 1998\n",
      "Molnar Fletcher Parsons 1989\n",
      "Wark White Robertson Marriott 1987\n",
      "Wark 1997\n"
     ]
    }
   ],
   "source": [
    "l1 = list()\n",
    "for r in NFRR_refs: \n",
    "    l1.append(r[\"refstring\"])\n",
    "l2 = list()\n",
    "for r in other_refs: \n",
    "    l2.append(r[\"refstring\"])\n",
    "\n",
    "for i in l1:\n",
    "    if i in l2:\n",
    "        print(i)\n"
   ]
  },
  {
   "cell_type": "code",
   "execution_count": 27,
   "id": "59fddbef-67c6-4e76-ae01-87784c204613",
   "metadata": {
    "tags": []
   },
   "outputs": [
    {
     "name": "stdout",
     "output_type": "stream",
     "text": [
      "Reference Benwell 1998 refers to 'Benwell A.S. (1998). Post-fire seedling recruitment in coastal heathland in relation to regeneration strategy and habitat. Aust. J. Bot. 46, 75-101.'\n",
      "Reference Benwell 1998 refers to 'Benwell, A.S. (1998) Post-fire seedling recruitment in coastal heathland in relation to regeneration strategy and habitat. Aust. J. Bot. 46:75-101.  Data compiled by D.Keith (Keith, D.A., McCaw, W.L. & Whelan, R.J. (2002) pp. 199-237 in \"Flammable Australia: The fire regimes and biodiversity of a continent\" Ed. R.A. Bradstock, J.E. Williams & M.A. Gill. Cambridge University Press, Cambridge)'\n"
     ]
    }
   ],
   "source": [
    "qry=\"Benwell 1998\"\n",
    "for elem in filter(lambda x: x['refstring'] == qry, NFRR_refs):\n",
    "    print(\"Reference %s refers to '%s'\" % (qry, elem['refinfo']))\n",
    "for elem in filter(lambda x: x['refstring'] == qry, other_refs):\n",
    "    print(\"Reference %s refers to '%s'\" % (qry, elem['refinfo']))\n",
    "    "
   ]
  },
  {
   "cell_type": "markdown",
   "id": "55e2b46d-786c-4edc-86ba-88c4a8d7de70",
   "metadata": {
    "tags": []
   },
   "source": [
    "### Matching references from hyperlinks\n",
    "We created a function to translate hyperlinks to a reference."
   ]
  },
  {
   "cell_type": "markdown",
   "id": "ef806a5d-d1a9-4c49-886b-f4d7b4416784",
   "metadata": {},
   "source": [
    "We can test this function for several rows:"
   ]
  },
  {
   "cell_type": "code",
   "execution_count": 28,
   "id": "0abca445-63b7-4087-87ad-ffa059793c50",
   "metadata": {},
   "outputs": [
    {
     "name": "stdout",
     "output_type": "stream",
     "text": [
      "157 :: [flowers well after fire] // ['Bishop 1996']\n",
      "162 :: [flowering 1 year post-fire] // ['Knox Clarke 2004']\n",
      "233 :: [facultative] // ['Keith David pers. comm.']\n"
     ]
    }
   ],
   "source": [
    "for row_index in (157,162,233):\n",
    "    spname=species_data[sp_col][row_index].value\n",
    "    pjp=species_data[target_cols['repr2']][row_index]\n",
    " \n",
    "    raw=pjp.value\n",
    "    if (pjp.hyperlink is not None):\n",
    "        ref=nswff.extract_link(pjp,references,other_refs, rp_refs, NFRR_refs)\n",
    "        if ref is not None:\n",
    "            print(\"%s :: [%s] // %s\" % (row_index,raw,ref[1]))\n",
    "        else:\n",
    "            print(\"%s :: [%s] \" % (row_index,raw))            \n",
    "    else:\n",
    "        print(\"%s :: [%s] \" % (row_index,raw))"
   ]
  },
  {
   "cell_type": "markdown",
   "id": "edf2f72f-b976-4ef0-8090-b88cb2a57d66",
   "metadata": {},
   "source": [
    "### Colored and modified fonts\n",
    "\n",
    "Some records include additional information coded in font color or strikethrough of values. With Python we can query cell colors and strikethrough properties of the font to verify if information has been annotated, but not with enough detail to distinguish with part of the value is annotated and which is not. For example:"
   ]
  },
  {
   "cell_type": "code",
   "execution_count": 29,
   "id": "fe7ada42-c5a3-49b4-96cb-33941fd4e4ed",
   "metadata": {},
   "outputs": [
    {
     "name": "stdout",
     "output_type": "stream",
     "text": [
      "Cell 23 has colored font\n",
      "60\n",
      "Cell 24 has no colored font\n",
      "Cell 67 has colored font\n",
      "60\n",
      "Cell 68 has no colored font\n",
      "Cell 71 has no colored font\n",
      "Cell 73 has colored font\n",
      "60\n",
      "Cell 73 has strikethrough\n"
     ]
    }
   ],
   "source": [
    "for row in [22,23,66,67,70,72]:\n",
    "    if species_data['BN'][row].font.color == None:\n",
    "        print(\"Cell %s has no colored font\" % (row+1))\n",
    "    else:\n",
    "        print(\"Cell %s has colored font\" % (row+1))\n",
    "        print(species_data['BN'][row].font.color.indexed)\n",
    "    if species_data['BN'][row].font.strike != None:\n",
    "        print(\"Cell %s has strikethrough\" % (row+1))"
   ]
  },
  {
   "cell_type": "markdown",
   "id": "ebc47b9a-51ba-4e28-9d47-f280774766b9",
   "metadata": {},
   "source": [
    "### Processing strings with and without references\n",
    "Cell values in the target columns might includes values in mixed formats, sometimes numbers and sometimes text, sometimes different observations are recorded for each species using delimiters and citing references in text, e.g.: \n",
    "> value1 (ref a) / value2 (ref b)\n",
    " \n",
    "In such cases we want to split the values into different records and keep the values as 'raw value' and document the references cited. If the value in the cell matches our predefined values (e.g. Exclusive, Facultative, Negligible for post-fire flowering), we will fill a 'norm_value' with the corresponding category, if no match is found we will keep it empty for later processing.\n",
    "\n",
    "In exceptional cases a reference is given in the text: \"(12)\" refers to reference 12.\n",
    "\n",
    "We will define a _switcher_ function to transform raw values into normalised values:"
   ]
  },
  {
   "cell_type": "code",
   "execution_count": 30,
   "id": "ba96f46e-3ed0-4069-a11c-3c040458028b",
   "metadata": {},
   "outputs": [
    {
     "data": {
      "text/plain": [
       "True"
      ]
     },
     "execution_count": 30,
     "metadata": {},
     "output_type": "execute_result"
    }
   ],
   "source": [
    "switcher={\n",
    "    \"repr2\":{\n",
    "        \"facultative\": \"Facultative\",\n",
    "        \"yes\": \"Facultative\",\n",
    "        \"yes?\": \"Facultative\",\n",
    "        \"most profuse after fire\": \"Facultative\",\n",
    "        \"exclusive\": \"Exclusive\",\n",
    "        \"exclusive?\": \"Exclusive\",\n",
    "        \"negligible\": \"Negligible\"\n",
    "    },\n",
    "    \"rect2\":{\n",
    "        \"I\":\"Intolerant\",\n",
    "        \"T\":\"Tolerant\",\n",
    "        \"R\":\"Requiring\",\n",
    "        \"T R\":\"Tolerant-Requiring\",\n",
    "        \"I T\":\"Intolerant-Tolerant\",\n",
    "        \"T I\":\"Intolerant-Tolerant\"\n",
    "    },\n",
    "    \"germ1\":{\n",
    "        'canopy': 'Canopy',\n",
    "        \n",
    "        'persistent soil': 'Soil-persistent', \n",
    "        'persistent': 'Soil-persistent', \n",
    "        'peristent': 'Soil-persistent', \n",
    "        'soil': 'Soil-persistent', \n",
    "        \n",
    "        'transient': 'Transient', \n",
    "        'none':'Transient', \n",
    "        'shed at maturity': 'Transient', \n",
    "        'viviparous':'Transient', \n",
    "        'canopy / released at maturity':'Transient', \n",
    "        'canopy / regularly without fire':'Transient', \n",
    "        'canopy - transient':'Transient', \n",
    "        'transient': 'Transient', \n",
    "        \n",
    "        'serotinous canopy': 'Canopy',\n",
    "        'non-canopy': 'Non-canopy',\n",
    "        'not canopy': 'Non-canopy',\n",
    "        \n",
    "        'other': 'Other'\n",
    "    },\n",
    "     \"surv4\":{\n",
    "        'epicormic': 'Epicormic', \n",
    "        'stem buds': 'Epicormic', \n",
    "        'apical': 'Apical', \n",
    "        'lignotuber': 'Lignotuber',\n",
    "        'root stock': 'Lignotuber',\n",
    "        'rootstock': 'Lignotuber',\n",
    "        'basal': 'Basal',\n",
    "        'basal buds': 'Basal',\n",
    "        'coppice': 'Basal',\n",
    "        'tuber': 'Tuber',\n",
    "        'taproot': 'Tuber',\n",
    "        'tap root': 'Tuber',\n",
    "        'tussock': 'Tussock',\n",
    "        'rhizome': 'Long rhizome or root sucker',\n",
    "        'rootucker': 'Long rhizome or root sucker',\n",
    "        'rootuckers': 'Long rhizome or root sucker',\n",
    "        'rootsuckers': 'Long rhizome or root sucker',\n",
    "        'root buds': 'Long rhizome or root sucker',\n",
    "        'root sucker': 'Long rhizome or root sucker',\n",
    "        'root suckers': 'Long rhizome or root sucker',\n",
    "        'rhizome': 'Short rhizome',\n",
    "        'stolon': 'Stolon',\n",
    "        'stolons': 'Stolon'\n",
    "    }\n",
    "}\n",
    "isinstance(switcher[\"germ1\"],dict)"
   ]
  },
  {
   "cell_type": "markdown",
   "id": "8737d866-bc34-4c83-9e48-ddc8260ce464",
   "metadata": {},
   "source": [
    "And we defined a function to extract values from a target cell:"
   ]
  },
  {
   "cell_type": "code",
   "execution_count": 31,
   "id": "94f5c933-e468-4933-9433-adf3056a2cd6",
   "metadata": {},
   "outputs": [
    {
     "name": "stdout",
     "output_type": "stream",
     "text": [
      "157 ::  {'raw_value': ['Post-fire flowering', 'flowers well after fire'], 'main_source': 'NSWFFRDv2.1', 'original_notes': ['Cell color index 12'], 'species': 'Acianthus caudatus', 'species_code': '4351', 'original_sources': ['Bishop 1996']}\n",
      "162 ::  {'raw_value': ['Post-fire flowering', 'flowering 1 year post-fire'], 'main_source': 'NSWFFRDv2.1', 'species': 'Aciphylla simplicifolia', 'species_code': '1091', 'original_sources': ['Knox Clarke 2004']}\n",
      "233 ::  {'raw_value': ['Post-fire flowering', 'facultative'], 'main_source': 'NSWFFRDv2.1', 'norm_value': 'Facultative', 'original_notes': ['Cell color index 12'], 'species': 'Amperea xiphoclada var. xiphoclada', 'species_code': '9713', 'original_sources': ['Keith David pers. comm.']}\n"
     ]
    }
   ],
   "source": [
    "target_col=target_cols[\"repr2\"]\n",
    "\n",
    "varname=species_data[target_col][1].value\n",
    "\n",
    "for row_index in (157,162,233):\n",
    "    pjp=species_data[target_col][row_index]\n",
    "    if (pjp.hyperlink is not None):\n",
    "        ref=nswff.extract_link(pjp,references,other_refs,rp_refs,NFRR_refs)\n",
    "    else:\n",
    "        ref=None\n",
    "    if (pjp.value is not None):\n",
    "        spname=species_data[sp_col][row_index].value\n",
    "        spcode=species_data[spcode_col][row_index].value\n",
    "        rec=nswff.extract_value(pjp,switcher[\"repr2\"],varname,\n",
    "                               references,other_refs,rp_refs,NFRR_refs)\n",
    "        for record in rec:\n",
    "            record[\"species\"]=spname\n",
    "            record[\"species_code\"]=spcode\n",
    "            if 'original_sources' not in record and ref is not None:\n",
    "                record['original_sources'] = ref[1]\n",
    "            print(\"%s ::  %s\" % (row_index,record))\n",
    "           \n",
    "    else:\n",
    "        print(\"%s is empty \" % (row_index))"
   ]
  },
  {
   "cell_type": "markdown",
   "id": "95377701-75ba-4382-a370-6bb7f116ec6c",
   "metadata": {},
   "source": [
    "We wrap this in one single function call so that we can get one or many records per cell with a simple function call:"
   ]
  },
  {
   "cell_type": "code",
   "execution_count": 32,
   "id": "cd736288-e8af-4dff-a03a-649ba0132f92",
   "metadata": {},
   "outputs": [
    {
     "name": "stdout",
     "output_type": "stream",
     "text": [
      "[{'raw_value': ['Establishment', 'I (R35)', '->', 'I'], 'main_source': 'NSWFFRDv2.1', 'norm_value': 'Intolerant', 'original_sources': ['RP RFA NSW - Eden'], 'original_notes': ['original record split into multiple entries, prob. different sources'], 'species': 'Acacia constablei', 'species_code': '3747'}, {'raw_value': ['Establishment', 'even aged stands indicate post fire recruitment; though some recruitment in absence of fire (R15)', '->', 'even aged stands indicate post fire recruitment; though some recruitment in absence of fire', '->', 'even aged stands indicate post fire recruitment'], 'main_source': 'NSWFFRDv2.1', 'original_sources': ['RP Threatened Flora of Rocky Outcrops in South Eas'], 'original_notes': ['original record split into multiple entries, prob. different sources', 'original record split into multiple entries separated by and/or'], 'species': 'Acacia constablei', 'species_code': '3747'}, {'raw_value': ['Establishment', 'even aged stands indicate post fire recruitment; though some recruitment in absence of fire (R15)', '->', 'even aged stands indicate post fire recruitment; though some recruitment in absence of fire', '->', 'though some recruitment in absence of fire'], 'main_source': 'NSWFFRDv2.1', 'original_sources': ['RP Threatened Flora of Rocky Outcrops in South Eas'], 'original_notes': ['original record split into multiple entries, prob. different sources', 'original record split into multiple entries separated by and/or'], 'species': 'Acacia constablei', 'species_code': '3747'}]\n",
      "[{'raw_value': ['Establishment', 'I'], 'main_source': 'NSWFFRDv2.1', 'norm_value': 'Intolerant', 'species': 'Acacia quadrilateralis', 'species_code': '3863'}]\n",
      "[{'raw_value': ['Establishment', 'T'], 'main_source': 'NSWFFRDv2.1', 'norm_value': 'Tolerant', 'original_notes': ['Cell color index 12'], 'species': 'Acrophyllum australe', 'species_code': '2265', 'original_sources': ['RP Acrophyllum australe']}]\n"
     ]
    }
   ],
   "source": [
    "target_col=target_cols[\"rect2\"]\n",
    "for row_index in (36,122,167):\n",
    "    rr = nswff.create_record(species_data,\n",
    "                             target_col,\n",
    "                             row_index,\n",
    "                             switcher[\"rect2\"],\n",
    "                             references,\n",
    "                             other_refs,\n",
    "                             rp_refs,\n",
    "                             NFRR_refs\n",
    "                            )\n",
    "    print(rr)"
   ]
  },
  {
   "cell_type": "markdown",
   "id": "312032bf-a552-4575-8ae6-0395c07851a3",
   "metadata": {
    "tags": []
   },
   "source": [
    "## Format records for input in database\n",
    "\n",
    "Using the code above it is possible to take each species (row) from the spreadsheet and add records for the trait tables in the database. \n",
    "\n",
    "First we need to connect to the database from python."
   ]
  },
  {
   "cell_type": "markdown",
   "id": "da748795-a482-4c53-98d9-4f5f0f2e39e5",
   "metadata": {
    "tags": []
   },
   "source": [
    "### Connect to database from Python\n",
    "\n",
    "We use the library _psygopg2_ to connect to the database. We first read the database credential from a file with restricted read access:"
   ]
  },
  {
   "cell_type": "code",
   "execution_count": null,
   "id": "90fed829-7ab9-44d7-abf8-ba2b012aec17",
   "metadata": {},
   "outputs": [],
   "source": [
    "from configparser import ConfigParser\n",
    "import psycopg2\n",
    "from psycopg2.extensions import AsIs\n",
    "\n",
    "filename = repodir / 'secrets' / 'database.ini'\n",
    "section = 'aws-lght-sl'\n",
    "\n",
    "parser = ConfigParser()\n",
    "parser.read(filename)\n",
    "\n",
    "dbparams = {}\n",
    "if parser.has_section(section):\n",
    "    params = parser.items(section)\n",
    "    for param in params:\n",
    "        dbparams[param[0]] = param[1]\n",
    "else:\n",
    "    raise Exception('Section {0} not found in the {1} file'.format(section, filename))"
   ]
  },
  {
   "cell_type": "markdown",
   "id": "2c918e48-461d-422c-b628-eff76391e2b8",
   "metadata": {},
   "source": [
    "Typically we will connect to the database, run a query and then disconnect:"
   ]
  },
  {
   "cell_type": "raw",
   "id": "d263693c-fdcf-4149-8643-6aee86978d46",
   "metadata": {},
   "source": [
    "conn = psycopg2.connect(**dbparams)\n",
    "print('Connected to the database.')\n",
    "\n",
    "qry = \"SELECT * FROM litrev.ref_list LIMIT 1\"\n",
    "cur = conn.cursor()\n",
    "cur.execute(qry)\n",
    "valid = cur.fetchall()\n",
    "cur.close()\n",
    "\n",
    "if conn is not None:\n",
    "    conn.close()\n",
    "    print('Database connection closed.')"
   ]
  },
  {
   "cell_type": "markdown",
   "id": "056cf903-607b-4fb4-bcea-d36f7d1c6b96",
   "metadata": {
    "tags": []
   },
   "source": [
    "### Add list of references\n",
    "\n",
    "We have already added all references in previous imports."
   ]
  },
  {
   "cell_type": "markdown",
   "id": "23bf05de-c6ac-4b0a-8b2d-6ca5c4d06504",
   "metadata": {},
   "source": [
    "### Inserting records from NSWFFRDv2.1\n",
    "\n",
    "We will create one record per species, using \"NSWFFRDv2.1\" as _main reference_, adding the reported references in the _original sources_ column."
   ]
  },
  {
   "cell_type": "markdown",
   "id": "07a68f9d-6188-468a-8c1d-5d3a138dcb80",
   "metadata": {},
   "source": [
    "We will use the functions declared above to read row values and hyperlinks to create one or multiple records from each entry."
   ]
  },
  {
   "cell_type": "code",
   "execution_count": null,
   "id": "0d7d10c6-130b-4006-82b7-ab09a5579f51",
   "metadata": {},
   "outputs": [],
   "source": [
    "x=create_record(species_data,target_cols[\"rect2\"],4,switcher[\"rect2\"])\n",
    "x is None\n",
    "#x"
   ]
  },
  {
   "cell_type": "markdown",
   "id": "e0f93713-bfc4-466d-8099-2e845ebdcfeb",
   "metadata": {},
   "source": [
    "Now we will read through the spreadsheet and prepare records"
   ]
  },
  {
   "cell_type": "code",
   "execution_count": null,
   "id": "e1115a52-5c84-4358-a51b-991e7bd2da40",
   "metadata": {},
   "outputs": [],
   "source": [
    "row_min = 2\n",
    "row_max = species_data.max_row\n",
    "\n",
    "print('Connecting to the PostgreSQL database...')\n",
    "conn = psycopg2.connect(**dbparams)\n",
    "cur = conn.cursor()\n",
    "affected_rows=0\n",
    "\n",
    "target_cols={'germ1':'M', 'repr2':'X', 'rect2':'W', 'surv4':'L'}\n",
    "\n",
    "ready=('rect2', 'germ1', 'repr2','surv4')\n",
    "\n",
    "for trait in target_cols.keys():\n",
    "    if trait in ready: \n",
    "        print (\"skip trait %s\" % trait)\n",
    "        continue\n",
    "\n",
    "    if trait in ('surv4','germ1'):\n",
    "        mysplitstring=\"&|;|,| or | and \"\n",
    "    else:\n",
    "        mysplitstring=\"DO NOT SPLIT SENTENCE\"\n",
    "    \n",
    "    insert_statement = 'insert into litrev.%s (%%s) values %%s ON CONFLICT DO NOTHING' % trait\n",
    "    records=list()\n",
    "    for row in range(row_min,row_max):\n",
    "        rr = create_record(species_data,target_cols[trait],row,switcher[trait],splitstring=mysplitstring)\n",
    "        if rr is not None :\n",
    "            records.extend(rr)\n",
    "        if (((row-row_min) % 250) == 0 and len(records)>10) or (row==(row_max-1)):\n",
    "            print(\"total of %s records prepared\" % len(records)) \n",
    "            for record in records: \n",
    "                cur.execute(insert_statement, (AsIs(','.join(record.keys())), tuple(record.values())))\n",
    "                affected_rows = affected_rows+cur.rowcount\n",
    "            records.clear()\n",
    "            conn.commit()\n",
    "            print(\"total number of lines updated: %s\" % affected_rows)\n",
    "\n",
    "cur.close()\n",
    "if conn is not None:\n",
    "    conn.close()\n",
    "    print('Database connection closed.')     \n"
   ]
  },
  {
   "cell_type": "markdown",
   "id": "018431e8-1658-47e0-bd6f-a2cee67de262",
   "metadata": {},
   "source": [
    "This is somehow slow, but it works, and all the records are in the database."
   ]
  },
  {
   "cell_type": "code",
   "execution_count": null,
   "id": "cf46b078-3429-4d9b-af41-71a4bc0ee2b4",
   "metadata": {},
   "outputs": [],
   "source": [
    "record.values()"
   ]
  },
  {
   "cell_type": "code",
   "execution_count": null,
   "id": "447eb505-4c31-400d-94cc-f4c2fa8d8944",
   "metadata": {},
   "outputs": [],
   "source": []
  }
 ],
 "metadata": {
  "kernelspec": {
   "display_name": "Python 3 (ipykernel)",
   "language": "python",
   "name": "python3"
  },
  "language_info": {
   "codemirror_mode": {
    "name": "ipython",
    "version": 3
   },
   "file_extension": ".py",
   "mimetype": "text/x-python",
   "name": "python",
   "nbconvert_exporter": "python",
   "pygments_lexer": "ipython3",
   "version": "3.11.3"
  }
 },
 "nbformat": 4,
 "nbformat_minor": 5
}
