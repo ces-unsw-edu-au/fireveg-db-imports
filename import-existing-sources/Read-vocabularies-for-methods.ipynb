{
 "cells": [
  {
   "cell_type": "code",
   "execution_count": 46,
   "id": "814b54e4-8d99-4c0a-bca4-419000aa57b7",
   "metadata": {},
   "outputs": [
    {
     "data": {
      "text/plain": [
       "['vis-survey-datasheet-6000.PowerQuery.20210708.xlsx',\n",
       " 'blue_table_files.zip',\n",
       " '.DS_Store',\n",
       " 'austraits',\n",
       " 'doi_10.5061_dryad.76hdr7sw2__v10.zip',\n",
       " 'NSWFFRDv2.1.xlsx',\n",
       " 'blue_table_sites.csv',\n",
       " 'blue_table_refs.bib',\n",
       " 'READ_ME.xlsx',\n",
       " 'trait-method-vocabulary+DK.xlsx',\n",
       " 'blue_table.csv',\n",
       " '~$trait-method-vocabulary+DK.xlsx',\n",
       " 'Appendix_S2.csv',\n",
       " 'field-form',\n",
       " 'fireveg-trait-input-spreadsheet.xlsx',\n",
       " 'input-form']"
      ]
     },
     "execution_count": 46,
     "metadata": {},
     "output_type": "execute_result"
    }
   ],
   "source": [
    "from pathlib import Path\n",
    "import os\n",
    "\n",
    "# work with xlsx workbooks\n",
    "import openpyxl\n",
    "repodir = Path(\"../../\") \n",
    "inputdir = repodir / \"data\" \n",
    "os.listdir(inputdir)"
   ]
  },
  {
   "cell_type": "code",
   "execution_count": 75,
   "id": "9d99f812-a583-438d-99a3-88a11212a9b8",
   "metadata": {},
   "outputs": [
    {
     "data": {
      "text/plain": [
       "[<Worksheet \"Sheet1\">]"
      ]
     },
     "execution_count": 75,
     "metadata": {},
     "output_type": "execute_result"
    }
   ],
   "source": [
    "inputfile = inputdir / 'trait-method-vocabulary+DK.xlsx'\n",
    "\n",
    "wb = openpyxl.load_workbook(inputfile,data_only=True)\n",
    "wb.worksheets"
   ]
  },
  {
   "cell_type": "code",
   "execution_count": 76,
   "id": "1d81c4d7-c919-4045-9a33-04f02cdee3d1",
   "metadata": {},
   "outputs": [],
   "source": [
    "ws = wb.active"
   ]
  },
  {
   "cell_type": "code",
   "execution_count": 77,
   "id": "eb3c1a99-ec3f-499a-b235-303406b9f8e9",
   "metadata": {},
   "outputs": [
    {
     "name": "stdout",
     "output_type": "stream",
     "text": [
      "Direct field observation or measure (unknown sample size)\n",
      "Direct observation (small sample)\n",
      "Direct observation (large sample)\n",
      "Estimated by extrapolation from observed values\n",
      "Trait evidence, but start date uncertain\n",
      "Inferred form other trait\n",
      "Inferred from partial data\n",
      "Inferred from plant / organ / growth stage morphology\n",
      "Inferred from related taxa\n",
      "Manipulative experiment\n",
      "No evidence of trait expression by specified age\n",
      "Qualitative estimate\n",
      "Unspecified methods\n"
     ]
    }
   ],
   "source": [
    "col = ws[\"A5:A17\"]\n",
    "for item in col:\n",
    "    print(item[0].value)"
   ]
  },
  {
   "cell_type": "code",
   "execution_count": 78,
   "id": "7ecef380-9d0f-47f7-93dc-1a72821cba5e",
   "metadata": {},
   "outputs": [],
   "source": [
    "comments = dict()\n",
    "for j in range(3,14):\n",
    "    trait=ws.cell(row=4,column=j).value\n",
    "    comments[trait] = dict()\n",
    "    for k in range(5,18):\n",
    "        specific = ws.cell(row=k,column=j).value\n",
    "        if specific not in (\"NA\",\"na\",\"\"):\n",
    "            generic = ws.cell(row=k,column=2).value\n",
    "            key=ws.cell(row=k,column=1).value\n",
    "            comments[trait][key] = \"{}. {}.\".format(generic,specific)\n"
   ]
  },
  {
   "cell_type": "code",
   "execution_count": 79,
   "id": "a28b955e-5836-495f-979d-f6a32520a2be",
   "metadata": {},
   "outputs": [
    {
     "data": {
      "text/plain": [
       "dict_keys(['surv1', 'surv2', 'surv3', 'grow1', 'grow2', 'repr3', 'repr3a', 'repr4', 'germ8', 'rect3', 'disp1'])"
      ]
     },
     "execution_count": 79,
     "metadata": {},
     "output_type": "execute_result"
    }
   ],
   "source": [
    "comments.keys()"
   ]
  },
  {
   "cell_type": "code",
   "execution_count": 85,
   "id": "cbc453c9-0ef4-4af9-b01c-c224f14b7f0e",
   "metadata": {},
   "outputs": [
    {
     "data": {
      "text/plain": [
       "dict_keys(['Direct field observation or measure (unknown sample size)', 'Direct observation (small sample)', 'Direct observation (large sample)', 'Inferred from plant / organ / growth stage morphology', 'Manipulative experiment', 'Unspecified methods'])"
      ]
     },
     "execution_count": 85,
     "metadata": {},
     "output_type": "execute_result"
    }
   ],
   "source": [
    "comments['disp1'].keys()"
   ]
  },
  {
   "cell_type": "code",
   "execution_count": 88,
   "id": "44c25310-034d-46a7-9030-d623b651b0d1",
   "metadata": {},
   "outputs": [
    {
     "data": {
      "text/plain": [
       "{'Direct field observation or measure (unknown sample size)': 'Estimates based on data observed or measured in the field (unknown number of individuals observed). Direct field observation or empirical measurement of dispersal events.',\n",
       " 'Direct observation (small sample)': 'Estimates based on data observed or measured in the field based on fewer than 10 individuals. Direct field observation or empirical measurement of dispersal events.',\n",
       " 'Direct observation (large sample)': 'Estimates based on data observed or measured in the field based on 10 or more individuals observed). Direct field observation or empirical measurement of dispersal events.',\n",
       " 'Inferred from plant / organ / growth stage morphology': 'Inference based on relevant morphological structures or traits. Inferred qualitatively from morphological features in definitions of dispersal categories.',\n",
       " 'Manipulative experiment': 'Manipulative experiment. Based on experimantal exposure to one or more dispersal vectors.',\n",
       " 'Unspecified methods': 'Methods unclear or undocumented. Methods unclear or undocumented.'}"
      ]
     },
     "execution_count": 88,
     "metadata": {},
     "output_type": "execute_result"
    }
   ],
   "source": [
    "comments['disp1']"
   ]
  },
  {
   "cell_type": "code",
   "execution_count": null,
   "id": "7e28ce59-3f71-4607-939f-246b5cd78583",
   "metadata": {},
   "outputs": [],
   "source": []
  }
 ],
 "metadata": {
  "kernelspec": {
   "display_name": "Python 3 (ipykernel)",
   "language": "python",
   "name": "python3"
  },
  "language_info": {
   "codemirror_mode": {
    "name": "ipython",
    "version": 3
   },
   "file_extension": ".py",
   "mimetype": "text/x-python",
   "name": "python",
   "nbconvert_exporter": "python",
   "pygments_lexer": "ipython3",
   "version": "3.10.9"
  }
 },
 "nbformat": 4,
 "nbformat_minor": 5
}
