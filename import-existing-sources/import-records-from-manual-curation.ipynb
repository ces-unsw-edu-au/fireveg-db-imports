{
 "cells": [
  {
   "cell_type": "markdown",
   "id": "b3d8f0b0-cd62-4316-844c-42463399419c",
   "metadata": {},
   "source": [
    "# Fireveg DB imports -- import entries from manual curation\n",
    "\n",
    "Author: [José R. Ferrer-Paris](https://github.com/jrfep) and Renee Woodward\n",
    "\n",
    "Date: July 2024, updated 19 August 2024\n",
    "\n",
    "This Jupyter Notebook includes [Python](https://www.python.org) code to populate fire ecology traits for plants in the Fireveg database.\n",
    "\n",
    "This code show how to read a spreadsheet with records created or edited manually from one of our contributors.\n",
    "\n",
    "**Please note:**\n",
    "<div class=\"alert alert-warning\">\n",
    "    This repository contains code that is intended for internal project management and is documented for the sake of reproducibility.<br/>\n",
    "    🛂 Only users contributing directly to the project have access to the credentials for data download/upload. \n",
    "</div>"
   ]
  },
  {
   "cell_type": "markdown",
   "id": "ef89aefb-c60e-48dc-a866-466ea94bc4d6",
   "metadata": {},
   "source": [
    "## Set-up\n",
    "### Load modules"
   ]
  },
  {
   "cell_type": "code",
   "execution_count": 5,
   "id": "24b04aad-20f9-414c-9fcf-b1363284d33e",
   "metadata": {},
   "outputs": [],
   "source": [
    "import openpyxl\n",
    "from pathlib import Path\n",
    "import os, sys\n",
    "from datetime import datetime\n",
    "from configparser import ConfigParser\n",
    "import psycopg2\n",
    "from psycopg2.extras import DictCursor\n",
    "from psycopg2.extensions import AsIs\n",
    "import pandas as pd\n",
    "import numpy as np\n",
    "\n",
    "# Pyprojroot for easier handling of working directory\n",
    "import pyprojroot"
   ]
  },
  {
   "cell_type": "markdown",
   "id": "7ba8a211-ef56-4733-ad60-3dbee5405f27",
   "metadata": {},
   "source": [
    "### Define paths for input and output"
   ]
  },
  {
   "cell_type": "markdown",
   "id": "a19b7600-a633-450e-8ef3-da281e32619a",
   "metadata": {},
   "source": [
    "Define project directory using the `pyprojroot` functions, and add this to the execution path."
   ]
  },
  {
   "cell_type": "code",
   "execution_count": 6,
   "id": "06085651-c74c-46c7-b755-5b51ec2f3d75",
   "metadata": {},
   "outputs": [],
   "source": [
    "repodir = pyprojroot.find_root(pyprojroot.has_dir(\".git\"))\n",
    "sys.path.append(str(repodir))"
   ]
  },
  {
   "cell_type": "markdown",
   "id": "5505e925-c605-445e-9c9d-8b76a24ed2d5",
   "metadata": {},
   "source": [
    "Path to the folder with the form for input of records:"
   ]
  },
  {
   "cell_type": "code",
   "execution_count": 7,
   "id": "d1e7d09e-ad3a-4050-a467-810a159ee984",
   "metadata": {},
   "outputs": [],
   "source": [
    "inputdir = repodir / \"data\" / \"input-form\""
   ]
  },
  {
   "cell_type": "code",
   "execution_count": 10,
   "id": "b4998f5e-054d-4afd-8e59-eb33a2c89a6b",
   "metadata": {},
   "outputs": [
    {
     "data": {
      "text/plain": [
       "['Species traits_Blue table_RFW_ 20220505.xlsx',\n",
       " 'fireveg-trait-input-model.xlsx']"
      ]
     },
     "execution_count": 10,
     "metadata": {},
     "output_type": "execute_result"
    }
   ],
   "source": [
    "os.listdir(inputdir)"
   ]
  },
  {
   "cell_type": "markdown",
   "id": "e27ddf42-6a73-457f-8348-85af02246150",
   "metadata": {},
   "source": [
    "### Load own functions\n",
    "Load functions from `lib` folder, we will use a function to read db credentials and one for executing insert/update queries in the database."
   ]
  },
  {
   "cell_type": "code",
   "execution_count": 16,
   "id": "933e1f2a-6f9d-4498-8e90-26130d8857e7",
   "metadata": {},
   "outputs": [],
   "source": [
    "from lib.parseparams import read_dbparams\n",
    "from lib.firevegdb import dbquery, batch_upsert\n"
   ]
  },
  {
   "cell_type": "markdown",
   "id": "05357e64-a652-494b-9c9c-4fefe51d9d4d",
   "metadata": {},
   "source": [
    "### Database credentials\n",
    "\n",
    "🤫 We use a folder named \"secrets\" to keep the credentials for connection to different services (database credentials, API keys, etc). This checked this folder in our `.gitignore` so that its content are not tracked by git and not exposed. Future users need to copy the contents of this folder manually.\n",
    "\n",
    "We read database credentials stored in a `database.ini` file using our own `read_dbparams` function."
   ]
  },
  {
   "cell_type": "code",
   "execution_count": 9,
   "id": "89bff3be-b88f-4c4b-a12a-b0510b5fab54",
   "metadata": {},
   "outputs": [],
   "source": [
    "dbparams = read_dbparams(repodir / 'secrets' / 'database.ini', \n",
    "                         section='fireveg-db-v1.1')"
   ]
  },
  {
   "cell_type": "markdown",
   "id": "577b410b-df85-4414-bd26-ee71f565756b",
   "metadata": {
    "tags": []
   },
   "source": [
    "## Read data entry form with pandas"
   ]
  },
  {
   "cell_type": "code",
   "execution_count": 11,
   "id": "d75d4277-c68d-41e5-9bc7-f104f9e33625",
   "metadata": {},
   "outputs": [],
   "source": [
    "newdata = pd.read_excel(inputdir / 'Species traits_Blue table_RFW_ 20220505.xlsx', sheet_name='Data entry')\n",
    "contributor = pd.read_excel(inputdir / 'Species traits_Blue table_RFW_ 20220505.xlsx', sheet_name='Contributor')"
   ]
  },
  {
   "cell_type": "code",
   "execution_count": 12,
   "id": "9f88721f-2c6f-4837-bec6-207c82490d09",
   "metadata": {},
   "outputs": [
    {
     "data": {
      "text/plain": [
       "3"
      ]
     },
     "execution_count": 12,
     "metadata": {},
     "output_type": "execute_result"
    }
   ],
   "source": [
    "contributor.shape[0]"
   ]
  },
  {
   "cell_type": "code",
   "execution_count": 13,
   "id": "e890db11-8342-46fe-95b4-8a15010525c5",
   "metadata": {},
   "outputs": [
    {
     "data": {
      "text/html": [
       "<div>\n",
       "<style scoped>\n",
       "    .dataframe tbody tr th:only-of-type {\n",
       "        vertical-align: middle;\n",
       "    }\n",
       "\n",
       "    .dataframe tbody tr th {\n",
       "        vertical-align: top;\n",
       "    }\n",
       "\n",
       "    .dataframe thead th {\n",
       "        text-align: right;\n",
       "    }\n",
       "</style>\n",
       "<table border=\"1\" class=\"dataframe\">\n",
       "  <thead>\n",
       "    <tr style=\"text-align: right;\">\n",
       "      <th></th>\n",
       "      <th>Main source</th>\n",
       "      <th>Original sources</th>\n",
       "      <th>Original species name</th>\n",
       "      <th>Species code</th>\n",
       "      <th>Species name</th>\n",
       "      <th>Trait code</th>\n",
       "      <th>Trait name</th>\n",
       "      <th>Trait type</th>\n",
       "      <th>Raw value</th>\n",
       "      <th>Norm value</th>\n",
       "      <th>Best</th>\n",
       "      <th>Lower</th>\n",
       "      <th>Upper</th>\n",
       "      <th>Method of estimation</th>\n",
       "      <th>Notes</th>\n",
       "    </tr>\n",
       "  </thead>\n",
       "  <tbody>\n",
       "    <tr>\n",
       "      <th>0</th>\n",
       "      <td>NSWFFRDv2.1</td>\n",
       "      <td>Auld 1987</td>\n",
       "      <td>Acacia suaveolens</td>\n",
       "      <td>3881</td>\n",
       "      <td>Acacia suaveolens</td>\n",
       "      <td>surv6</td>\n",
       "      <td>Seedbank half-life</td>\n",
       "      <td>numerical</td>\n",
       "      <td>hl 10.7 y</td>\n",
       "      <td>NaN</td>\n",
       "      <td>10.7</td>\n",
       "      <td>NaN</td>\n",
       "      <td>NaN</td>\n",
       "      <td>NaN</td>\n",
       "      <td>No vocabularies for MoE</td>\n",
       "    </tr>\n",
       "    <tr>\n",
       "      <th>1</th>\n",
       "      <td>NSWFFRDv2.1</td>\n",
       "      <td>Auld Keith Bradstock 2000</td>\n",
       "      <td>Conospermum taxifolium</td>\n",
       "      <td>5352</td>\n",
       "      <td>Conospermum taxifolium</td>\n",
       "      <td>surv6</td>\n",
       "      <td>Seedbank half-life</td>\n",
       "      <td>numerical</td>\n",
       "      <td>hl 2</td>\n",
       "      <td>NaN</td>\n",
       "      <td>2.0</td>\n",
       "      <td>NaN</td>\n",
       "      <td>NaN</td>\n",
       "      <td>NaN</td>\n",
       "      <td>No vocabularies for MoE</td>\n",
       "    </tr>\n",
       "    <tr>\n",
       "      <th>2</th>\n",
       "      <td>NSWFFRDv2.1</td>\n",
       "      <td>Auld Scott 1997</td>\n",
       "      <td>Darwinia biflora</td>\n",
       "      <td>4024</td>\n",
       "      <td>Darwinia biflora</td>\n",
       "      <td>surv6</td>\n",
       "      <td>Seedbank half-life</td>\n",
       "      <td>numerical</td>\n",
       "      <td>hl 0.9</td>\n",
       "      <td>NaN</td>\n",
       "      <td>0.9</td>\n",
       "      <td>NaN</td>\n",
       "      <td>NaN</td>\n",
       "      <td>NaN</td>\n",
       "      <td>No vocabularies for MoE</td>\n",
       "    </tr>\n",
       "    <tr>\n",
       "      <th>3</th>\n",
       "      <td>NSWFFRDv2.1</td>\n",
       "      <td>Auld Scott 1997</td>\n",
       "      <td>Grevillea caleyi</td>\n",
       "      <td>5365</td>\n",
       "      <td>Grevillea caleyi</td>\n",
       "      <td>surv6</td>\n",
       "      <td>Seedbank half-life</td>\n",
       "      <td>numerical</td>\n",
       "      <td>hl 7.6</td>\n",
       "      <td>NaN</td>\n",
       "      <td>7.6</td>\n",
       "      <td>NaN</td>\n",
       "      <td>NaN</td>\n",
       "      <td>NaN</td>\n",
       "      <td>No vocabularies for MoE</td>\n",
       "    </tr>\n",
       "    <tr>\n",
       "      <th>4</th>\n",
       "      <td>NSWFFRDv2.1</td>\n",
       "      <td>Auld Keith Bradstock 2000</td>\n",
       "      <td>Grevillea linearifolia</td>\n",
       "      <td>5381</td>\n",
       "      <td>Grevillea linearifolia</td>\n",
       "      <td>surv6</td>\n",
       "      <td>Seedbank half-life</td>\n",
       "      <td>numerical</td>\n",
       "      <td>hl 9-10</td>\n",
       "      <td>NaN</td>\n",
       "      <td>NaN</td>\n",
       "      <td>9.0</td>\n",
       "      <td>10.0</td>\n",
       "      <td>NaN</td>\n",
       "      <td>No vocabularies for MoE</td>\n",
       "    </tr>\n",
       "  </tbody>\n",
       "</table>\n",
       "</div>"
      ],
      "text/plain": [
       "   Main source           Original sources   Original species name   \n",
       "0  NSWFFRDv2.1                  Auld 1987       Acacia suaveolens  \\\n",
       "1  NSWFFRDv2.1  Auld Keith Bradstock 2000  Conospermum taxifolium   \n",
       "2  NSWFFRDv2.1            Auld Scott 1997        Darwinia biflora   \n",
       "3  NSWFFRDv2.1            Auld Scott 1997        Grevillea caleyi   \n",
       "4  NSWFFRDv2.1  Auld Keith Bradstock 2000  Grevillea linearifolia   \n",
       "\n",
       "   Species code            Species name Trait code          Trait name   \n",
       "0          3881       Acacia suaveolens      surv6  Seedbank half-life  \\\n",
       "1          5352  Conospermum taxifolium      surv6  Seedbank half-life   \n",
       "2          4024        Darwinia biflora      surv6  Seedbank half-life   \n",
       "3          5365        Grevillea caleyi      surv6  Seedbank half-life   \n",
       "4          5381  Grevillea linearifolia      surv6  Seedbank half-life   \n",
       "\n",
       "  Trait type  Raw value  Norm value  Best  Lower  Upper Method of estimation   \n",
       "0  numerical  hl 10.7 y         NaN  10.7    NaN    NaN                  NaN  \\\n",
       "1  numerical       hl 2         NaN   2.0    NaN    NaN                  NaN   \n",
       "2  numerical     hl 0.9         NaN   0.9    NaN    NaN                  NaN   \n",
       "3  numerical     hl 7.6         NaN   7.6    NaN    NaN                  NaN   \n",
       "4  numerical    hl 9-10         NaN   NaN    9.0   10.0                  NaN   \n",
       "\n",
       "                     Notes  \n",
       "0  No vocabularies for MoE  \n",
       "1  No vocabularies for MoE  \n",
       "2  No vocabularies for MoE  \n",
       "3  No vocabularies for MoE  \n",
       "4  No vocabularies for MoE  "
      ]
     },
     "execution_count": 13,
     "metadata": {},
     "output_type": "execute_result"
    }
   ],
   "source": [
    "newdata.head()"
   ]
  },
  {
   "cell_type": "markdown",
   "id": "de6d222b-b1cd-4764-b86b-59275d6303cd",
   "metadata": {},
   "source": [
    "Read information from each row and create records for importing into the database:"
   ]
  },
  {
   "cell_type": "code",
   "execution_count": 14,
   "id": "a2f967a8-8847-4db0-9414-676281c6c048",
   "metadata": {},
   "outputs": [],
   "source": [
    "records=dict()\n",
    "for row in newdata.to_dict(orient='records'):\n",
    "    trait = row['Trait code']\n",
    "    if trait not in records.keys():\n",
    "        records[trait]=list()\n",
    "    ttype = row['Trait type']\n",
    "    record=dict()\n",
    "    notes=list()\n",
    "    if contributor.shape[0]>0:\n",
    "        contribdata = [x for x in contributor['Your response'].values.tolist() if pd.isnull(x) == False]\n",
    "        notes.append('Data entry by')\n",
    "        notes.extend(contribdata)\n",
    "    \n",
    "    record['species']=row['Species name']\n",
    "    if row['Species name']!=row['Original species name']:\n",
    "        notes.append('Original species name')\n",
    "        notes.append(record['Original species name'])\n",
    "    if not pd.isnull(row['Notes']):\n",
    "        notes.append(row['Notes'])\n",
    "    for k in ('Main source','Species code',):\n",
    "        if not pd.isnull(row[k]):\n",
    "            record[k.lower().replace(' ','_')] = row[k]\n",
    "    for k in ('Original sources','Raw value'):\n",
    "        if not pd.isnull(row[k]):\n",
    "            record[k.lower().replace(' ','_')] = [row[k]]\n",
    "    if ttype == 'numerical':\n",
    "        for k in ('Best','Lower', 'Upper'):\n",
    "            if not pd.isnull(row[k]):\n",
    "                record[k.lower()] = row[k]\n",
    "    elif ttype == 'categorical':\n",
    "        for k in ('Norm value',):\n",
    "            if not pd.isnull(row[k]):\n",
    "                record[k.lower().replace(' ','_')] = row[k]\n",
    "    if len(notes)>0:\n",
    "        record['original_notes']=notes\n",
    "    records[trait].append(record)\n"
   ]
  },
  {
   "cell_type": "code",
   "execution_count": 15,
   "id": "aca3b9a0-3460-435a-ade1-527580c1e02d",
   "metadata": {},
   "outputs": [
    {
     "name": "stdout",
     "output_type": "stream",
     "text": [
      "dict_keys(['surv6', 'repr3', 'repr4', 'surv1', 'surv5', 'repr3a'])\n"
     ]
    },
    {
     "data": {
      "text/plain": [
       "[{'species': 'Acacia melanoxylon',\n",
       "  'main_source': 'NSWFFRDv2.1',\n",
       "  'species_code': 3824,\n",
       "  'original_sources': ['Wark 1997'],\n",
       "  'raw_value': ['Secondary juvenile period ->3<10'],\n",
       "  'lower': 3.0,\n",
       "  'upper': 10.0,\n",
       "  'original_notes': ['Data entry by', 'Renee Woodward']},\n",
       " {'species': 'Lambertia formosa',\n",
       "  'main_source': 'NSWFFRDv2.1',\n",
       "  'species_code': 5440,\n",
       "  'original_sources': ['Pyke 1983'],\n",
       "  'raw_value': ['Secondary juvenile period -peak flowering at 2-3 y post-fire'],\n",
       "  'best': 2.0,\n",
       "  'upper': 3.0,\n",
       "  'original_notes': ['Data entry by', 'Renee Woodward']}]"
      ]
     },
     "execution_count": 15,
     "metadata": {},
     "output_type": "execute_result"
    }
   ],
   "source": [
    "print(records.keys())\n",
    "\n",
    "records['repr3a']"
   ]
  },
  {
   "cell_type": "code",
   "execution_count": 18,
   "id": "e4f59d8d-9f48-4d26-8445-ca609fb58ec0",
   "metadata": {},
   "outputs": [
    {
     "name": "stdout",
     "output_type": "stream",
     "text": [
      "Table litrev.surv6 with 0 records\n",
      "Table litrev.repr3 with 838 records\n",
      "Table litrev.repr4 with 0 records\n",
      "Table litrev.surv1 with 41459 records\n",
      "Table litrev.surv5 with 1262 records\n",
      "Table litrev.repr3a with 662 records\n"
     ]
    }
   ],
   "source": [
    "for traitname in records.keys():\n",
    "    qrystr=\"\"\"SELECT count(*) \n",
    "    FROM litrev.{};\"\"\".format(traitname)\n",
    "    res = dbquery(qrystr, dbparams)\n",
    "    nrecords=list(res[0])[0]\n",
    "    print(\"Table litrev.{} with {} records\".format(traitname,nrecords))"
   ]
  },
  {
   "cell_type": "code",
   "execution_count": 19,
   "id": "26168ad9-cf3f-4815-913d-25d872c136fe",
   "metadata": {},
   "outputs": [
    {
     "name": "stdout",
     "output_type": "stream",
     "text": [
      "Connecting to the PostgreSQL database...\n",
      "7 rows updated\n",
      "Database connection closed.\n",
      "Connecting to the PostgreSQL database...\n",
      "98 rows updated\n",
      "Database connection closed.\n",
      "Connecting to the PostgreSQL database...\n",
      "23 rows updated\n",
      "Database connection closed.\n",
      "Connecting to the PostgreSQL database...\n",
      "2 rows updated\n",
      "Database connection closed.\n",
      "Connecting to the PostgreSQL database...\n",
      "1 rows updated\n",
      "Database connection closed.\n",
      "Connecting to the PostgreSQL database...\n",
      "2 rows updated\n",
      "Database connection closed.\n"
     ]
    }
   ],
   "source": [
    "for traitname in records.keys():\n",
    "    batch_upsert(dbparams, \n",
    "                 table='litrev.'+traitname,\n",
    "                 records=records[traitname], \n",
    "                 keycol=['ref_code',], \n",
    "                 idx=None,\n",
    "                execute = True)"
   ]
  },
  {
   "cell_type": "code",
   "execution_count": 20,
   "id": "76d09771-1ca1-4b56-9e7f-86e92d6e49b4",
   "metadata": {},
   "outputs": [
    {
     "name": "stdout",
     "output_type": "stream",
     "text": [
      "Table litrev.surv6 with 7 records\n",
      "Table litrev.repr3 with 936 records\n",
      "Table litrev.repr4 with 23 records\n",
      "Table litrev.surv1 with 41461 records\n",
      "Table litrev.surv5 with 1263 records\n",
      "Table litrev.repr3a with 664 records\n"
     ]
    }
   ],
   "source": [
    "for traitname in records.keys():\n",
    "    qrystr=\"\"\"SELECT count(*) \n",
    "    FROM litrev.{};\"\"\".format(traitname)\n",
    "    res = dbquery(qrystr, dbparams)\n",
    "    nrecords=list(res[0])[0]\n",
    "    print(\"Table litrev.{} with {} records\".format(traitname,nrecords))"
   ]
  },
  {
   "cell_type": "markdown",
   "id": "88c48454-b731-48b7-ab5f-9bcab5f3e64a",
   "metadata": {},
   "source": [
    "## That is it for now!\n",
    "\n",
    "✅ Job done! 😎👌🔥\n",
    "\n",
    "You can:\n",
    "- go [back home](../Instructions-and-workflow.ipynb),\n",
    "- continue navigating the repo on [GitHub](https://github.com/ces-unsw-edu-au/fireveg-db-exports)\n",
    "- continue exploring the repo on [OSF](https://osf.io/h96q2/).\n",
    "- visit the database at <http://fireecologyplants.net>"
   ]
  },
  {
   "cell_type": "code",
   "execution_count": null,
   "id": "bead8eb1-a977-4f9a-9a4b-03ac2acd7294",
   "metadata": {},
   "outputs": [],
   "source": []
  }
 ],
 "metadata": {
  "kernelspec": {
   "display_name": "Python 3 (ipykernel)",
   "language": "python",
   "name": "python3"
  },
  "language_info": {
   "codemirror_mode": {
    "name": "ipython",
    "version": 3
   },
   "file_extension": ".py",
   "mimetype": "text/x-python",
   "name": "python",
   "nbconvert_exporter": "python",
   "pygments_lexer": "ipython3",
   "version": "3.11.3"
  }
 },
 "nbformat": 4,
 "nbformat_minor": 5
}
