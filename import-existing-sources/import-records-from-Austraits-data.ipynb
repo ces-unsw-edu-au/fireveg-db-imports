{
 "cells": [
  {
   "cell_type": "markdown",
   "id": "1abe190c-b253-4ac9-a5ec-537d8acda294",
   "metadata": {},
   "source": [
    "# Fireveg DB imports -- import trait data from Austraits\n",
    "\n",
    "Author: [José R. Ferrer-Paris](https://github.com/jrfep)\n",
    "\n",
    "Date: July 2024, updated 19 August 2024\n",
    "\n",
    "This Jupyter Notebook includes [Python](https://www.python.org) code to populate fire ecology traits for plants in the Fireveg database. \n",
    "\n",
    "We will download data from [AusTraits](https://austraits.org/) and add entries to the database for several traits and for each species.\n",
    "\n",
    "**Please note:**\n",
    "<div class=\"alert alert-warning\">\n",
    "    This repository contains code that is intended for internal project management and is documented for the sake of reproducibility.<br/>\n",
    "    🛂 Only users contributing directly to the project have access to the credentials for data download/upload. \n",
    "</div>"
   ]
  },
  {
   "cell_type": "markdown",
   "id": "bac9cd7e-9237-4761-bcdf-d472a18b28b0",
   "metadata": {},
   "source": [
    "## Set-up\n",
    "### Load modules\n",
    "\n",
    "We are using Python for this. Start your session and load the packages."
   ]
  },
  {
   "cell_type": "code",
   "execution_count": 1,
   "id": "45172fe8-924a-467b-abd1-f0446bf2bd7f",
   "metadata": {},
   "outputs": [],
   "source": [
    "# work with paths in operating system\n",
    "from pathlib import Path\n",
    "import os, sys\n",
    "\n",
    "import json\n",
    "import urllib\n",
    "from zipfile import ZipFile\n",
    "import pandas as pd\n",
    "import numpy as np\n",
    "from pybtex.database.input import bibtex\n",
    "import yaml\n",
    "import psycopg2\n",
    "\n",
    "# Pyprojroot for easier handling of working directory\n",
    "import pyprojroot"
   ]
  },
  {
   "cell_type": "markdown",
   "id": "311bec20-8dbf-42f6-b527-2bf7a3680046",
   "metadata": {},
   "source": [
    "### Define paths for input and output"
   ]
  },
  {
   "cell_type": "markdown",
   "id": "99a93a1e-1506-4771-b15b-56856c39fc43",
   "metadata": {},
   "source": [
    "Define project directory using the `pyprojroot` functions, and add this to the execution path."
   ]
  },
  {
   "cell_type": "code",
   "execution_count": 2,
   "id": "5280a294-1590-4dd9-b0b8-af65ade35c6f",
   "metadata": {},
   "outputs": [],
   "source": [
    "repodir = pyprojroot.find_root(pyprojroot.has_dir(\".git\"))\n",
    "sys.path.append(str(repodir))"
   ]
  },
  {
   "cell_type": "markdown",
   "id": "569ac79d-f75e-4a9f-a3f2-5f3a9bdc8448",
   "metadata": {},
   "source": [
    "Path to the folder with the downloaded data:"
   ]
  },
  {
   "cell_type": "code",
   "execution_count": 3,
   "id": "0d2e4c42-a60d-4e68-9e0b-e8d3ffbdae38",
   "metadata": {},
   "outputs": [],
   "source": [
    "inputdir = repodir / \"data\" "
   ]
  },
  {
   "cell_type": "markdown",
   "id": "5eade419-8824-4df0-b6a4-6a925b71c067",
   "metadata": {},
   "source": [
    "### Load own functions\n",
    "Load functions from `lib` folder, we will use a function to read db credentials, one for executing database queries and three functions for extracting data from the reference description string"
   ]
  },
  {
   "cell_type": "code",
   "execution_count": 4,
   "id": "140a9596-2a96-4cdd-9e28-de50a9c9390c",
   "metadata": {},
   "outputs": [],
   "source": [
    "from lib.parseparams import read_dbparams\n",
    "from lib.firevegdb import dbquery, batch_upsert\n",
    "import lib.austraits_util as aust"
   ]
  },
  {
   "cell_type": "markdown",
   "id": "84346bf5-2a24-48b8-86d3-e27ca14f5191",
   "metadata": {},
   "source": [
    "### Database credentials\n",
    "\n",
    "🤫 We use a folder named \"secrets\" to keep the credentials for connection to different services (database credentials, API keys, etc). This checked this folder in our `.gitignore` so that its content are not tracked by git and not exposed. Future users need to copy the contents of this folder manually.\n",
    "\n",
    "We read database credentials stored in a `database.ini` file using our own `read_dbparams` function."
   ]
  },
  {
   "cell_type": "code",
   "execution_count": 5,
   "id": "2b34f80b-85a9-4766-943e-70bb0941eb06",
   "metadata": {},
   "outputs": [],
   "source": [
    "dbparams = read_dbparams(repodir / 'secrets' / 'database.ini', \n",
    "                         section='fireveg-db-v1.1')"
   ]
  },
  {
   "cell_type": "markdown",
   "id": "2f7f52e4-f260-44be-8356-6d0c27ae1500",
   "metadata": {},
   "source": [
    "## Read data"
   ]
  },
  {
   "cell_type": "markdown",
   "id": "e71d9b6b-22a8-4690-ade7-52dde54cb040",
   "metadata": {},
   "source": [
    "### Read reference taxonomic data\n",
    "\n",
    "We will also read the updated species data from BioNET:"
   ]
  },
  {
   "cell_type": "code",
   "execution_count": 6,
   "id": "41a912b1-8255-46ac-a858-ae193c84599f",
   "metadata": {},
   "outputs": [],
   "source": [
    "BIONET = pd.read_excel(inputdir / \"vis-survey-datasheet-6000.PowerQuery.20210708.xlsx\")"
   ]
  },
  {
   "cell_type": "markdown",
   "id": "2f0d6bdc-8804-4957-8d06-7cb471880c08",
   "metadata": {
    "tags": []
   },
   "source": [
    "### Read _austraits_ data \n",
    "We downloadrf the file from the [Zenodo repository](https://zenodo.org/record/5112001) using the API url and saving this under the data folder. We used the version 3.0.2 before, let's try version 6.0.0"
   ]
  },
  {
   "cell_type": "markdown",
   "id": "ae314f71-bcd8-4329-a1dc-44b856983aed",
   "metadata": {},
   "source": [
    "We will read from the zipfile the data that we need:"
   ]
  },
  {
   "cell_type": "code",
   "execution_count": 7,
   "id": "f976345c-58be-4127-bb69-a73002e9ef7a",
   "metadata": {
    "tags": []
   },
   "outputs": [
    {
     "data": {
      "text/plain": [
       "['austraits-6.0.0/',\n",
       " 'austraits-6.0.0/schema.yml',\n",
       " 'austraits-6.0.0/taxa.csv',\n",
       " 'austraits-6.0.0/methods.csv',\n",
       " 'austraits-6.0.0/definitions.yml',\n",
       " 'austraits-6.0.0/build_info.md',\n",
       " 'austraits-6.0.0/contributors.csv',\n",
       " 'austraits-6.0.0/contexts.csv',\n",
       " 'austraits-6.0.0/excluded_data.csv',\n",
       " 'austraits-6.0.0/locations.csv',\n",
       " 'austraits-6.0.0/traits.csv',\n",
       " 'austraits-6.0.0/taxonomic_updates.csv',\n",
       " 'austraits-6.0.0/metadata.yml',\n",
       " 'austraits-6.0.0/sources.bib']"
      ]
     },
     "execution_count": 7,
     "metadata": {},
     "output_type": "execute_result"
    }
   ],
   "source": [
    "zfobj = ZipFile(inputdir / \"austraits\" / \"austraits-6.0.0.zip\" ) \n",
    "zfobj.namelist()"
   ]
  },
  {
   "cell_type": "markdown",
   "id": "2832145e-d5ad-480d-8c30-3fbccca0f552",
   "metadata": {},
   "source": [
    "We will need to read the files with the definitions (in _yaml_ format), the sources or references (in _bibtex_ format) and the traits and taxonomic data (in _csv_ format)"
   ]
  },
  {
   "cell_type": "code",
   "execution_count": 8,
   "id": "b234d7c4-b3f0-421c-ad1c-871a65032fec",
   "metadata": {
    "tags": []
   },
   "outputs": [],
   "source": [
    "with zfobj.open('austraits-6.0.0/definitions.yml') as file:\n",
    "    try:\n",
    "        ATdefinitions = yaml.safe_load(file)   \n",
    "    except yaml.YAMLError as exc:\n",
    "        print(exc)"
   ]
  },
  {
   "cell_type": "markdown",
   "id": "5c56e359-3eb2-44f0-a889-8d5fb32a6039",
   "metadata": {},
   "source": [
    "Here we parse the bibliography file, and check functions to extract reference info and reference label."
   ]
  },
  {
   "cell_type": "code",
   "execution_count": 9,
   "id": "9fc3264e-2c9b-4bc2-9d88-ab57d27c7613",
   "metadata": {
    "tags": []
   },
   "outputs": [],
   "source": [
    "parser = bibtex.Parser()\n",
    "ATrefs = parser.parse_bytes(zfobj.open('austraits-6.0.0/sources.bib').read())"
   ]
  },
  {
   "cell_type": "markdown",
   "id": "40d14607-1ad3-421c-95a4-3868298dd23c",
   "metadata": {},
   "source": [
    "Now the trait and taxonomic data"
   ]
  },
  {
   "cell_type": "code",
   "execution_count": 10,
   "id": "640c5187-c969-42d7-a33e-b5a138226f42",
   "metadata": {},
   "outputs": [],
   "source": [
    "ATtraits = pd.read_csv(zfobj.open('austraits-6.0.0/traits.csv'),\n",
    "                       low_memory=False,\n",
    "                    encoding=\"ISO-8859-1\")"
   ]
  },
  {
   "cell_type": "markdown",
   "id": "104af46d-8e88-4ae5-9a4e-245f5779e98f",
   "metadata": {},
   "source": [
    "## Import fire response data"
   ]
  },
  {
   "cell_type": "markdown",
   "id": "278dc9d8-5bd3-435d-87bc-cd25e39e99d0",
   "metadata": {},
   "source": [
    "The Austrait variable used to be called 'fire_response' in version 3.0.2, and is now called 'resprouting_capacity' in version 6.0.0 "
   ]
  },
  {
   "cell_type": "code",
   "execution_count": 11,
   "id": "9c78fd4c-3571-4a99-bbd9-243c184b3d03",
   "metadata": {},
   "outputs": [],
   "source": [
    "\n",
    "fireveg_defs={\n",
    "    'germ1':[{\n",
    "        'austrait_name': 'seedbank_location',\n",
    "        'matched_values': {\n",
    "            \"soil_seedbank\": \"Soil-persistent\",\n",
    "            'canopy_seedbank': 'Canopy',\n",
    "            \"canopy_seedbank_absent soil_seedbank\": \"Soil-persistent\",\n",
    "            \"canopy_seedbank_absent\": \"Non-canopy\",\n",
    "            \"canopy_seedbank soil_seedbank_absent\": \"Canopy\",\n",
    "            \"none\": None,\n",
    "            \"soil_seedbank_absent\": \"Transient\",\n",
    "            \"canopy_seedbank_absent soil_seedbank_absent\": \"Non-canopy\",\n",
    "            \"canopy_seedbank soil_seedbank\": \"Transient\"\n",
    "        }\n",
    "    },],\n",
    "    'repr2':[{\n",
    "        'austrait_name': 'post_fire_flowering',\n",
    "        'matched_values':{\n",
    "            \"fire_dependent_flowering\": \"Exclusive\",\n",
    "            'fire_enhanced_flowering': 'Facultative',\n",
    "            \"fire_independent_flowering\": \"Negligible\",\n",
    "            \"fire_suppressed_flowering\": \"Negligible\",\n",
    "            \"fire_dependent_flowering fire_independent_flowering\": \"Facultative\",\n",
    "            \"fire_dependent_flowering fire_enhanced_flowering\": \"Facultative\",\n",
    "            \"fire_enhanced_flowering fire_suppressed_flowering\": \"Facultative\"\n",
    "        }\n",
    "    },],\n",
    "    'surv1':[{\n",
    "        'austrait_name': 'resprouting_capacity',\n",
    "        'matched_values':{\n",
    "            \"fire_killed\": \"None\",\n",
    "            'fire_killed resprouts': 'Half',\n",
    "            \"resprouts\": \"All\",\n",
    "            \"partial_resprouting\": \"Half\",\n",
    "            \"fire_killed partial_resprouting\": \"Half\",\n",
    "            \"partial_resprouting resprouts\": \"Half\",\n",
    "            \"fire_killed partial_resprouting resprouts\": \"Half\"\n",
    "        }\n",
    "    },],\n",
    "    'disp1':[\n",
    "        {\n",
    "            'austrait_name': 'dispersal_appendage',\n",
    "            'matched_values':{\n",
    "                \"aril\": \"ant\",\n",
    "                \"awns\": \"animal-cohesion\",\n",
    "                \"awn_bristle\": \"animal-cohesion\",\n",
    "                \"barbs\": \"animal-cohesion\",\n",
    "                \"beak\": \"animal-cohesion\",\n",
    "                \"berry\": \"animal-ingestion\",\n",
    "                \"caruncle\": \"animal-cohesion\",\n",
    "                \"curved_awn\": \"animal-cohesion\",\n",
    "                \"drupe\": \"animal-ingestion\",\n",
    "                \"elaiosome\": \"ant\",\n",
    "                \"glumes\": \"wind-hairs\",\n",
    "                \"plumose\": \"wind-hairs\",\n",
    "                \"pseudo-wing\": \"wind-wing\",\n",
    "                \"receptacle\": \"wind-wing\",\n",
    "                \"seed_airsac\": \"wind-wing\",\n",
    "                \"seed_unilaterally_winged\": \"wind-wing\",\n",
    "                \"seed_wing_obsolete\": \"wind-wing\",\n",
    "                \"winged_fruit\": \"wind-wing\",\n",
    "                \"wings\": \"wind-wing\",\n",
    "                \"wings_small\": \"wind-wing\",\n",
    "                \"floating seed\": \"water\"}\n",
    "        },\n",
    "        {\n",
    "            'austrait_name': 'dispersers',\n",
    "            'matched_values':{\n",
    "                \"ants\": \"ant\", \n",
    "                \"bats\": \"animal-unspec.\", \n",
    "                \"birds\": \"animal-unspec.\", \n",
    "                \"cassowary\": \"animal-unspec.\", \n",
    "                \"flying\": \"animal-unspec.\", \n",
    "                \"flying_foxes\": \"animal-unspec.\", \n",
    "                \"mammals\": \"animal-unspec.\", \n",
    "                \"non-flying\": \"animal-unspec.\", \n",
    "                \"rodents\": \"animal-unspec.\", \n",
    "                \"vertebrate\": \"animal-unspec.\",\n",
    "                \"vertebrates\": \"animal-unspec.\", \n",
    "                \"invertebrates\": \"animal-unspec.\", \n",
    "                \"wind\": \"wind-unspec.\", \n",
    "                \"water\": \"water\", \n",
    "                }\n",
    "        },\n",
    "        {\n",
    "            'austrait_name': 'dispersal_syndrome',\n",
    "            'matched_values':{\n",
    "                \"adhesion\": \"animal-cohesion\",\n",
    "                \"anemochory\": \"wind-unspec.\",\n",
    "                \"animal_vector\": \"animal-unspec.\", \n",
    "                \"aril\": \"ant\",\n",
    "                \"ballistic\": \"ballistic\", \n",
    "                \"bird\": \"animal-unspec.\", \n",
    "                \"dispersal_rare\": \"passive\",\n",
    "                \"dyszoochory\": \"animal-ingestion\",\n",
    "                \"elaiosome\": \"ant\",\n",
    "                \"endozoochory\": \"animal-ingestion\",\n",
    "                \"endozoochory_mammal\": \"animal-ingestion\",\n",
    "                \"endozoochory_bird\": \"animal-ingestion\",\n",
    "                \"exozoochory\": \"animal-cohesion\",\n",
    "                \"epizoochory\": \"animal-cohesion\",\n",
    "                \"exozoochory_mammal\": \"animal-cohesion\",\n",
    "                \"exozoochory_bird\": \"animal-cohesion\",\n",
    "                \"gravity\":\"passive\",\n",
    "                \"hydrochory\":\"water\",\n",
    "                \"insect\": \"ant\",\n",
    "                \"invertebrate_insect\": \"ant\", \n",
    "                \"mammal\": \"animal-unspec.\", \n",
    "                \"myrmecochory\": \"ant\", \n",
    "                \"nautohydrochory\": \"water\", \n",
    "                \"ombrohydrochory\": \"water\",\n",
    "                \"synzoochory\": \"animal-unspec.\",  \n",
    "                \"unassisted\": \"passive\",\n",
    "                \"vertebrate\": \"animal-unspec.\", \n",
    "                \"water\": \"water\",\n",
    "                \"wind\": \"wind-unspec.\", \n",
    "                \"zoochory\": \"animal-unspec.\",\n",
    "            }\n",
    "        },\n",
    "    ],\n",
    "    'germ8':[\n",
    "        {\n",
    "            'austrait_name': 'seed_dormancy_class',\n",
    "            'matched_values':{\n",
    "                \"non_dormant\": \"ND\",\n",
    "                'physiological_dormancy': \"PD\",\n",
    "                'morphophysiological_dormancy': 'MPD', \n",
    "                'physical_dormancy': 'PY'\n",
    "            }\n",
    "        },]\n",
    "}\n"
   ]
  },
  {
   "cell_type": "code",
   "execution_count": 12,
   "id": "17ce52f7-a356-4346-a08a-00a851aebf1d",
   "metadata": {},
   "outputs": [
    {
     "data": {
      "text/plain": [
       "3"
      ]
     },
     "execution_count": 12,
     "metadata": {},
     "output_type": "execute_result"
    }
   ],
   "source": [
    "len(fireveg_defs['disp1'])"
   ]
  },
  {
   "cell_type": "markdown",
   "id": "f8a237c6-4fc9-4036-b5e9-fe9d147a166f",
   "metadata": {},
   "source": [
    "First upload a reference record for the Austraits data"
   ]
  },
  {
   "cell_type": "code",
   "execution_count": 13,
   "id": "2f0613a2-fafb-40fd-8b86-0d9ca553039b",
   "metadata": {},
   "outputs": [
    {
     "name": "stdout",
     "output_type": "stream",
     "text": [
      "Connecting to the PostgreSQL database...\n",
      "0 rows updated\n",
      "Database connection closed.\n"
     ]
    }
   ],
   "source": [
    "austraits = [{'ref_code': 'austraits-6.0.0',\n",
    "             'alt_code': 'austraits-6.0.0',\n",
    "             'ref_cite': 'Falster, D., Gallagher, R., Wenk, E., & Sauquet, H. (2024). AusTraits: a curated plant trait database for the Australian flora [Data set]. In Scientific Data (v6.0.0, Vol. 8, p. 254). Zenodo. https://doi.org/10.5281/zenodo.11188867'\n",
    "            },]\n",
    "\n",
    "batch_upsert(dbparams, \n",
    "             table='litrev.ref_list',\n",
    "             records=austraits, \n",
    "             keycol=['ref_code',], \n",
    "             idx=None,\n",
    "            execute = True)"
   ]
  },
  {
   "cell_type": "markdown",
   "id": "a3fee495-4be1-4bec-a415-878e5a9c3200",
   "metadata": {},
   "source": [
    "Now we will split the large data dataframe into smaller dataframes contained in a list."
   ]
  },
  {
   "cell_type": "code",
   "execution_count": 14,
   "id": "922964ff-cdd0-4bf3-8185-99aafbed6beb",
   "metadata": {},
   "outputs": [],
   "source": [
    "ATtraits.fillna(\"nan\",inplace=True)\n",
    "qrystr=\"\"\"\n",
    "SELECT count(*) \n",
    "FROM litrev.{} \n",
    "WHERE main_source = 'austraits-6.0.0';\n",
    "\"\"\"\n",
    "connstr='Connecting to the PostgreSQL database to update trait %s from %s'"
   ]
  },
  {
   "cell_type": "markdown",
   "id": "445beb63-f50c-449f-9c94-fcf43ff7dde7",
   "metadata": {},
   "source": [
    "For each one of these data frames, we will extract a list of references and a list of records, and then upload all this information into the database."
   ]
  },
  {
   "cell_type": "code",
   "execution_count": 15,
   "id": "4d2def60-1760-42d1-9cd6-cf197d2ce3d5",
   "metadata": {},
   "outputs": [
    {
     "name": "stdout",
     "output_type": "stream",
     "text": [
      "Connecting to the PostgreSQL database to update trait germ1 from seedbank_location\n",
      "0 rows updated\n",
      "500 rows updated\n",
      "0 rows updated\n",
      "500 rows updated\n",
      "0 rows updated\n",
      "500 rows updated\n",
      "0 rows updated\n",
      "500 rows updated\n",
      "0 rows updated\n",
      "500 rows updated\n",
      "0 rows updated\n",
      "500 rows updated\n",
      "0 rows updated\n",
      "500 rows updated\n",
      "0 rows updated\n",
      "500 rows updated\n",
      "0 rows updated\n",
      "164 rows updated\n",
      "Database connection closed.\n",
      "Connecting to the PostgreSQL database to update trait repr2 from post_fire_flowering\n",
      "0 rows updated\n",
      "431 rows updated\n",
      "Database connection closed.\n",
      "Connecting to the PostgreSQL database to update trait surv1 from resprouting_capacity\n",
      "0 rows updated\n",
      "500 rows updated\n",
      "0 rows updated\n",
      "500 rows updated\n",
      "0 rows updated\n",
      "500 rows updated\n",
      "0 rows updated\n",
      "500 rows updated\n",
      "0 rows updated\n",
      "500 rows updated\n",
      "0 rows updated\n",
      "500 rows updated\n",
      "0 rows updated\n",
      "500 rows updated\n",
      "0 rows updated\n",
      "500 rows updated\n",
      "0 rows updated\n",
      "500 rows updated\n",
      "0 rows updated\n",
      "500 rows updated\n",
      "0 rows updated\n",
      "500 rows updated\n",
      "0 rows updated\n",
      "500 rows updated\n",
      "0 rows updated\n",
      "500 rows updated\n",
      "0 rows updated\n",
      "500 rows updated\n",
      "0 rows updated\n",
      "500 rows updated\n",
      "0 rows updated\n",
      "500 rows updated\n",
      "0 rows updated\n",
      "500 rows updated\n",
      "0 rows updated\n",
      "500 rows updated\n",
      "0 rows updated\n",
      "500 rows updated\n",
      "0 rows updated\n",
      "500 rows updated\n",
      "0 rows updated\n",
      "500 rows updated\n",
      "0 rows updated\n",
      "500 rows updated\n",
      "0 rows updated\n",
      "500 rows updated\n",
      "0 rows updated\n",
      "500 rows updated\n",
      "0 rows updated\n",
      "500 rows updated\n",
      "0 rows updated\n",
      "500 rows updated\n",
      "0 rows updated\n",
      "500 rows updated\n",
      "0 rows updated\n",
      "500 rows updated\n",
      "0 rows updated\n",
      "500 rows updated\n",
      "0 rows updated\n",
      "500 rows updated\n",
      "0 rows updated\n",
      "500 rows updated\n",
      "0 rows updated\n",
      "500 rows updated\n",
      "0 rows updated\n",
      "500 rows updated\n",
      "0 rows updated\n",
      "500 rows updated\n",
      "0 rows updated\n",
      "500 rows updated\n",
      "0 rows updated\n",
      "500 rows updated\n",
      "0 rows updated\n",
      "500 rows updated\n",
      "0 rows updated\n",
      "500 rows updated\n",
      "0 rows updated\n",
      "500 rows updated\n",
      "0 rows updated\n",
      "500 rows updated\n",
      "0 rows updated\n",
      "500 rows updated\n",
      "0 rows updated\n",
      "500 rows updated\n",
      "0 rows updated\n",
      "500 rows updated\n",
      "0 rows updated\n",
      "500 rows updated\n",
      "0 rows updated\n",
      "500 rows updated\n",
      "0 rows updated\n",
      "500 rows updated\n",
      "0 rows updated\n",
      "500 rows updated\n",
      "0 rows updated\n",
      "500 rows updated\n",
      "0 rows updated\n",
      "500 rows updated\n",
      "0 rows updated\n",
      "500 rows updated\n",
      "0 rows updated\n",
      "500 rows updated\n",
      "0 rows updated\n",
      "500 rows updated\n",
      "0 rows updated\n",
      "500 rows updated\n",
      "0 rows updated\n",
      "500 rows updated\n",
      "0 rows updated\n",
      "500 rows updated\n",
      "0 rows updated\n",
      "500 rows updated\n",
      "0 rows updated\n",
      "500 rows updated\n",
      "0 rows updated\n",
      "500 rows updated\n",
      "0 rows updated\n",
      "500 rows updated\n",
      "0 rows updated\n",
      "396 rows updated\n",
      "Database connection closed.\n",
      "Connecting to the PostgreSQL database to update trait disp1 from dispersal_appendage\n",
      "0 rows updated\n",
      "500 rows updated\n",
      "0 rows updated\n",
      "500 rows updated\n",
      "0 rows updated\n",
      "500 rows updated\n",
      "0 rows updated\n",
      "500 rows updated\n",
      "0 rows updated\n",
      "500 rows updated\n",
      "0 rows updated\n",
      "500 rows updated\n",
      "0 rows updated\n",
      "417 rows updated\n",
      "Database connection closed.\n",
      "Connecting to the PostgreSQL database to update trait disp1 from dispersers\n",
      "0 rows updated\n",
      "500 rows updated\n",
      "0 rows updated\n",
      "500 rows updated\n",
      "0 rows updated\n",
      "500 rows updated\n",
      "0 rows updated\n",
      "500 rows updated\n",
      "0 rows updated\n",
      "500 rows updated\n",
      "0 rows updated\n",
      "500 rows updated\n",
      "0 rows updated\n",
      "500 rows updated\n",
      "0 rows updated\n",
      "500 rows updated\n",
      "0 rows updated\n",
      "500 rows updated\n",
      "0 rows updated\n",
      "500 rows updated\n",
      "0 rows updated\n",
      "500 rows updated\n",
      "0 rows updated\n",
      "500 rows updated\n",
      "0 rows updated\n",
      "500 rows updated\n",
      "0 rows updated\n",
      "500 rows updated\n",
      "0 rows updated\n",
      "500 rows updated\n",
      "0 rows updated\n",
      "500 rows updated\n",
      "0 rows updated\n",
      "500 rows updated\n",
      "0 rows updated\n",
      "500 rows updated\n",
      "0 rows updated\n",
      "500 rows updated\n",
      "0 rows updated\n",
      "500 rows updated\n",
      "0 rows updated\n",
      "500 rows updated\n",
      "0 rows updated\n",
      "500 rows updated\n",
      "0 rows updated\n",
      "500 rows updated\n",
      "0 rows updated\n",
      "500 rows updated\n",
      "0 rows updated\n",
      "500 rows updated\n",
      "0 rows updated\n",
      "500 rows updated\n",
      "0 rows updated\n",
      "500 rows updated\n",
      "0 rows updated\n",
      "152 rows updated\n",
      "Database connection closed.\n",
      "Connecting to the PostgreSQL database to update trait disp1 from dispersal_syndrome\n",
      "0 rows updated\n",
      "500 rows updated\n",
      "0 rows updated\n",
      "500 rows updated\n",
      "0 rows updated\n",
      "500 rows updated\n",
      "0 rows updated\n",
      "500 rows updated\n",
      "0 rows updated\n",
      "500 rows updated\n",
      "0 rows updated\n",
      "500 rows updated\n",
      "0 rows updated\n",
      "500 rows updated\n",
      "0 rows updated\n",
      "500 rows updated\n",
      "0 rows updated\n",
      "500 rows updated\n",
      "0 rows updated\n",
      "500 rows updated\n",
      "0 rows updated\n",
      "500 rows updated\n",
      "0 rows updated\n",
      "500 rows updated\n",
      "0 rows updated\n",
      "500 rows updated\n",
      "0 rows updated\n",
      "500 rows updated\n",
      "0 rows updated\n",
      "500 rows updated\n",
      "0 rows updated\n",
      "500 rows updated\n",
      "0 rows updated\n",
      "500 rows updated\n",
      "0 rows updated\n",
      "500 rows updated\n",
      "0 rows updated\n",
      "500 rows updated\n",
      "0 rows updated\n",
      "500 rows updated\n",
      "0 rows updated\n",
      "500 rows updated\n",
      "0 rows updated\n",
      "500 rows updated\n",
      "0 rows updated\n",
      "500 rows updated\n",
      "0 rows updated\n",
      "500 rows updated\n",
      "0 rows updated\n",
      "500 rows updated\n",
      "0 rows updated\n",
      "500 rows updated\n",
      "0 rows updated\n",
      "500 rows updated\n",
      "0 rows updated\n",
      "500 rows updated\n",
      "0 rows updated\n",
      "500 rows updated\n",
      "0 rows updated\n",
      "500 rows updated\n",
      "0 rows updated\n",
      "500 rows updated\n",
      "0 rows updated\n",
      "500 rows updated\n",
      "0 rows updated\n",
      "500 rows updated\n",
      "0 rows updated\n",
      "500 rows updated\n",
      "0 rows updated\n",
      "500 rows updated\n",
      "0 rows updated\n",
      "22 rows updated\n",
      "Database connection closed.\n",
      "Connecting to the PostgreSQL database to update trait germ8 from seed_dormancy_class\n",
      "0 rows updated\n",
      "500 rows updated\n",
      "0 rows updated\n",
      "500 rows updated\n",
      "0 rows updated\n",
      "500 rows updated\n",
      "0 rows updated\n",
      "500 rows updated\n",
      "0 rows updated\n",
      "500 rows updated\n",
      "0 rows updated\n",
      "500 rows updated\n",
      "0 rows updated\n",
      "500 rows updated\n",
      "0 rows updated\n",
      "500 rows updated\n",
      "0 rows updated\n",
      "171 rows updated\n",
      "Database connection closed.\n"
     ]
    }
   ],
   "source": [
    "for trait, austvals in fireveg_defs.items():\n",
    "    for vals in austvals: \n",
    "        ss = (ATtraits['trait_name']==vals['austrait_name'])\n",
    "        df = ATtraits[ss]\n",
    "        n = 500  #chunk row size\n",
    "        list_df = [df[i:i+n] for i in range(0,df.shape[0],n)]\n",
    "    \n",
    "        db_conn = psycopg2.connect(**dbparams)\n",
    "        print(connstr % (trait,vals['austrait_name']))\n",
    "        qry = qrystr.format(trait)\n",
    "        res = dbquery(qry, dbparams, useconn=db_conn)\n",
    "        nrecords=list(res[0])[0]\n",
    "        if int(nrecords)>=df.shape[0]:\n",
    "            print(\"Already %s records in the database, will skip this.\" % nrecords)\n",
    "        else:\n",
    "            for target in list_df:    \n",
    "                reflist=list()\n",
    "                records=list()\n",
    "                refrecords=list()\n",
    "                for idx, row in target.iterrows():\n",
    "                    record=aust.create_record(row, ATrefs, vals['matched_values'], BIONET)\n",
    "                    refids=[row['dataset_id'],]\n",
    "                    if row['source_id'] != \"nan\":\n",
    "                        srcids = [x.strip() for x in row['source_id'].split(',')]\n",
    "                        refids.extend(srcids)\n",
    "                    for refid in refids:       \n",
    "                        if refid not in reflist:\n",
    "                            reflist.append(refid)\n",
    "                    records.append(record)\n",
    "                for refid in reflist:\n",
    "                    if refid in list(ATrefs.entries.keys()):\n",
    "                        refrecords.append({'ref_code': aust.extract_reflabel(ATrefs,refid),\n",
    "                                 'alt_code': refid,\n",
    "                                 'ref_cite': aust.extract_refinfo(ATrefs, refid)})\n",
    "                batch_upsert(dbparams, \n",
    "                         table='litrev.ref_list',\n",
    "                         records=refrecords, \n",
    "                         keycol=['ref_code',], \n",
    "                         idx=None,\n",
    "                         execute = True, \n",
    "                         useconn=db_conn)\n",
    "                batch_upsert(dbparams, \n",
    "                         table=\"litrev.\"+trait,\n",
    "                         records=records, \n",
    "                         keycol=['ref_code',], \n",
    "                         idx=None,\n",
    "                         execute = True, \n",
    "                         useconn=db_conn)    \n",
    "        db_conn.close()\n",
    "        print('Database connection closed.')"
   ]
  },
  {
   "cell_type": "markdown",
   "id": "2a8bdf35-1372-4e36-bd45-e09fb4accb14",
   "metadata": {},
   "source": [
    "Let's check the number of references and trait records in the database:"
   ]
  },
  {
   "cell_type": "code",
   "execution_count": 16,
   "id": "85657947-df4b-476d-ae34-3966c4602a4c",
   "metadata": {},
   "outputs": [
    {
     "data": {
      "text/plain": [
       "[[347]]"
      ]
     },
     "execution_count": 16,
     "metadata": {},
     "output_type": "execute_result"
    }
   ],
   "source": [
    "dbquery(\"select count(*) from litrev.ref_list\", dbparams)"
   ]
  },
  {
   "cell_type": "code",
   "execution_count": 17,
   "id": "ae96545c-def3-454a-a529-f79e8ea4ca60",
   "metadata": {},
   "outputs": [
    {
     "name": "stdout",
     "output_type": "stream",
     "text": [
      "Table litrev.germ1 with 4164 records\n",
      "Table litrev.repr2 with 431 records\n",
      "Table litrev.surv1 with 29896 records\n",
      "Table litrev.disp1 with 34591 records\n",
      "Table litrev.germ8 with 4171 records\n"
     ]
    }
   ],
   "source": [
    "for trait in fireveg_defs.keys():\n",
    "    qrystr=\"\"\"SELECT count(*) \n",
    "    FROM litrev.{} \n",
    "    WHERE main_source = 'austraits-6.0.0';\"\"\".format(trait)\n",
    "    res = dbquery(qrystr, dbparams)\n",
    "    nrecords=list(res[0])[0]\n",
    "    print(\"Table litrev.{} with {} records\".format(trait,nrecords))\n"
   ]
  },
  {
   "cell_type": "code",
   "execution_count": null,
   "id": "e505faeb-1acd-4281-bf4c-255de98405f8",
   "metadata": {},
   "outputs": [],
   "source": []
  },
  {
   "cell_type": "code",
   "execution_count": null,
   "id": "0f5cff93-d3fa-4b5f-8d1b-8505b6f890b3",
   "metadata": {},
   "outputs": [],
   "source": []
  },
  {
   "cell_type": "markdown",
   "id": "f5f09f0c-82fc-4383-9427-6ffe52565446",
   "metadata": {},
   "source": [
    "## That is it for now!\n",
    "\n",
    "✅ Job done! 😎👌🔥\n",
    "\n",
    "You can:\n",
    "- go [back home](../Instructions-and-workflow.ipynb),\n",
    "- continue navigating the repo on [GitHub](https://github.com/ces-unsw-edu-au/fireveg-db-exports)\n",
    "- continue exploring the repo on [OSF](https://osf.io/h96q2/).\n",
    "- visit the database at <http://fireecologyplants.net>"
   ]
  },
  {
   "cell_type": "markdown",
   "id": "fa7da809-1b3a-43ac-a07d-13df23de4b52",
   "metadata": {},
   "source": [
    "## References\n",
    "\n",
    "> Falster, Gallagher et al (2021) AusTraits, a curated plant trait database for the Australian flora. Scientific Data 8: 254, <https://doi.org/10.1038/s41597-021-01006-6>"
   ]
  },
  {
   "cell_type": "code",
   "execution_count": null,
   "id": "6dc57aad-9fd0-4150-ad42-cfb8cc8c88c9",
   "metadata": {},
   "outputs": [],
   "source": []
  }
 ],
 "metadata": {
  "kernelspec": {
   "display_name": "Python 3 (ipykernel)",
   "language": "python",
   "name": "python3"
  },
  "language_info": {
   "codemirror_mode": {
    "name": "ipython",
    "version": 3
   },
   "file_extension": ".py",
   "mimetype": "text/x-python",
   "name": "python",
   "nbconvert_exporter": "python",
   "pygments_lexer": "ipython3",
   "version": "3.11.3"
  }
 },
 "nbformat": 4,
 "nbformat_minor": 5
}
