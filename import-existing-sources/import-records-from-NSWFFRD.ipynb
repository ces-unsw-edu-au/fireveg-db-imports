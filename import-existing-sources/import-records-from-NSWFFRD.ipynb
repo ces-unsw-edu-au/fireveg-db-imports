{
 "cells": [
  {
   "cell_type": "markdown",
   "id": "7848bf80-969f-453e-a4a5-f6dd3ab712cf",
   "metadata": {},
   "source": [
    "# Fireveg DB imports -- categorical data from NSWFFRD 2014 (v2.1)\n",
    "\n",
    "Author: [José R. Ferrer-Paris](https://github.com/jrfep)\n",
    "\n",
    "Date: July 2024, updated 19 August 2024\n",
    "\n",
    "This Jupyter Notebook includes [Python](https://www.python.org) code to populate one of the fire ecology traits for plants in the Fireveg database. \n",
    "\n",
    "This code show how to read the spreadsheet from **NSW Flora Fire response database** and extract information for several traits, translate the original values into standard values and insert records into the Fireveg response database.\n",
    "\n",
    "\n",
    "**Please note:**\n",
    "<div class=\"alert alert-warning\">\n",
    "    This repository contains code that is intended for internal project management and is documented for the sake of reproducibility.<br/>\n",
    "    🛂 Only users contributing directly to the project have access to the credentials for data download/upload. \n",
    "</div>"
   ]
  },
  {
   "cell_type": "markdown",
   "id": "498f24ce-5ed6-47a3-bd3a-bc06dc859b96",
   "metadata": {
    "tags": []
   },
   "source": [
    "## Set-up \n",
    "\n",
    "### Load libraries\n"
   ]
  },
  {
   "cell_type": "code",
   "execution_count": 1,
   "id": "58c9bacb-b46f-48b7-b7a7-cd82268a6932",
   "metadata": {},
   "outputs": [],
   "source": [
    "import openpyxl\n",
    "from pathlib import Path\n",
    "import os, sys\n",
    "import re\n",
    "import copy\n",
    "import psycopg2\n",
    "\n",
    "# Pyprojroot for easier handling of working directory\n",
    "import pyprojroot"
   ]
  },
  {
   "cell_type": "markdown",
   "id": "69812a80-854b-4877-9952-1c954e97aaea",
   "metadata": {},
   "source": [
    "### Define paths for input and output"
   ]
  },
  {
   "cell_type": "markdown",
   "id": "da72447c-22d7-4e59-828a-3f1d0359d908",
   "metadata": {},
   "source": [
    "Define project directory using the `pyprojroot` functions, and add this to the execution path."
   ]
  },
  {
   "cell_type": "code",
   "execution_count": 2,
   "id": "32af50ac-02c7-46ac-ac4c-301c769efe4d",
   "metadata": {},
   "outputs": [],
   "source": [
    "repodir = pyprojroot.find_root(pyprojroot.has_dir(\".git\"))\n",
    "sys.path.append(str(repodir))"
   ]
  },
  {
   "cell_type": "markdown",
   "id": "6dbaf0bb-6098-4332-821f-80668719c69f",
   "metadata": {},
   "source": [
    "Path to the folder with the downloaded data:"
   ]
  },
  {
   "cell_type": "code",
   "execution_count": 3,
   "id": "1a796637-1d28-468b-9ca7-015ea932c6fa",
   "metadata": {},
   "outputs": [],
   "source": [
    "inputdir = repodir / \"data\" "
   ]
  },
  {
   "cell_type": "markdown",
   "id": "9148d47b-3e4a-4598-a6a9-062a07ce54e6",
   "metadata": {},
   "source": [
    "### Load own functions\n",
    "Load functions from `lib` folder, we will use a function to read db credentials, one for executing database queries and three functions for extracting data from the reference description string"
   ]
  },
  {
   "cell_type": "code",
   "execution_count": 4,
   "id": "3e892a53-ab14-4c2c-b5cd-92533e80f3c8",
   "metadata": {},
   "outputs": [],
   "source": [
    "from lib.parseparams import read_dbparams\n",
    "from lib.firevegdb import dbquery, batch_upsert\n",
    "import lib.nswfireflora_util as nswff"
   ]
  },
  {
   "cell_type": "markdown",
   "id": "1b93b6e4-811f-4f45-87eb-86cc00429f0a",
   "metadata": {},
   "source": [
    "### Database credentials\n",
    "\n",
    "🤫 We use a folder named \"secrets\" to keep the credentials for connection to different services (database credentials, API keys, etc). This checked this folder in our `.gitignore` so that its content are not tracked by git and not exposed. Future users need to copy the contents of this folder manually.\n",
    "\n",
    "We read database credentials stored in a `database.ini` file using our own `read_dbparams` function."
   ]
  },
  {
   "cell_type": "code",
   "execution_count": 5,
   "id": "daa0f78d-1d15-43bd-a4bb-6d5cedafa67d",
   "metadata": {},
   "outputs": [],
   "source": [
    "dbparams = read_dbparams(repodir / 'secrets' / 'database.ini', \n",
    "                         section='fireveg-db-v1.1')"
   ]
  },
  {
   "cell_type": "markdown",
   "id": "38d3b9e0-1398-44b4-8ee0-175ee9f5dd80",
   "metadata": {
    "tags": []
   },
   "source": [
    "## Open the workbook and read spreadsheets\n",
    "We will use the _openpyxl_ library to read the spreadsheet document.\n",
    "Here we will load the workbook (_wb_):"
   ]
  },
  {
   "cell_type": "code",
   "execution_count": 6,
   "id": "82329cd1-1941-490d-86da-c528363aa7af",
   "metadata": {},
   "outputs": [],
   "source": [
    "wb = openpyxl.load_workbook(inputdir / \"NSWFFRDv2.1.xlsx\")"
   ]
  },
  {
   "cell_type": "markdown",
   "id": "f5103232-f975-49a0-8ed1-a12db1f21c5c",
   "metadata": {},
   "source": [
    "We will use the sheet names to read them. We need access to sheet 'Species data' and 'References', we will also check their column notes:"
   ]
  },
  {
   "cell_type": "code",
   "execution_count": 7,
   "id": "068ce434-6da5-4a2a-83b4-4a71071c4e33",
   "metadata": {},
   "outputs": [],
   "source": [
    "species_data = wb['SpeciesData']\n",
    "references = wb['References']\n",
    "column_notes = wb['Notes'] "
   ]
  },
  {
   "cell_type": "code",
   "execution_count": 8,
   "id": "9f6c4276-9144-42a9-b9f1-84613bba9672",
   "metadata": {},
   "outputs": [],
   "source": [
    "sp_col='A'\n",
    "spcode_col='B'\n"
   ]
  },
  {
   "cell_type": "markdown",
   "id": "dceaea5d-b131-4ae4-8eb4-12722b1a5d58",
   "metadata": {
    "tags": []
   },
   "source": [
    "### Create list(s) of references \n",
    "We need to prepare list of references from spreadsheet 'References'.\n",
    "\n",
    "There are three sets of references:\n",
    "- the  \"normal\" references in columns C and D (pink)\n",
    "- the  \"Recovery Plan / Regional Forest Agreement Report\" references in columns N, O, and P (blue)\n",
    "- the  \"NFRR\" references in columns S and T (lila)\n",
    "\n",
    "Normal and NFRR references are identified by a simple two-cipher or -letter code and reference description, we will use a function to create a more descriptive reference code for the references based on the list of authors and date.\n",
    "\n",
    "For Recovery plans and Regional Forest Agreement Reports, we will use the species or region as reference code.\n"
   ]
  },
  {
   "cell_type": "code",
   "execution_count": 9,
   "id": "16ad5b4c-98a3-4f62-bb34-7601e2c2446d",
   "metadata": {},
   "outputs": [],
   "source": [
    "NFRR_refs=list()\n",
    "for row in range(1,66):\n",
    "    cite_text = references['T'][row].value.replace(\"(1) \",\"\")\n",
    "    cite_code = nswff.create_ref_code(cite_text) \n",
    "    record={\"refcode\": references['S'][row].value.replace(\"1\",\"I\"),\n",
    "            \"refstring\": cite_code,#re.sub(r\", [A-Z\\.]+\",\" \",cite_code),\n",
    "            \"refinfo\": cite_text\n",
    "    }\n",
    "    NFRR_refs.append(record)"
   ]
  },
  {
   "cell_type": "code",
   "execution_count": 10,
   "id": "8833ee3e-8f13-4531-ad74-357d96bcbb6d",
   "metadata": {},
   "outputs": [],
   "source": [
    "other_refs=list()\n",
    "for row in range(1,139):\n",
    "    cite_text = references['D'][row].value\n",
    "    cite_code = nswff.create_ref_code(cite_text) \n",
    "    if cite_code == \"Benson 1985\":\n",
    "        cite_code = \"Benson 1985b\"\n",
    "    record={\"refcode\": references['C'][row].value,\n",
    "            \"refstring\": cite_code,\n",
    "            \"refinfo\": cite_text\n",
    "    }\n",
    "    other_refs.append(record)"
   ]
  },
  {
   "cell_type": "code",
   "execution_count": 11,
   "id": "5000a06a-1b23-4a0c-9259-337c737ef8cd",
   "metadata": {},
   "outputs": [],
   "source": [
    "rp_refs=list()\n",
    "for row in range(1,46):\n",
    "    cite_code = nswff.create_ref_code_RP(references['O'][row].value) \n",
    "    cite_text = \"%s. %s\" % (cite_code, references['P'][row].value)\n",
    "    record={\"refcode\": references['N'][row].value,\n",
    "            \"refstring\": cite_code,\n",
    "            \"refinfo\": cite_text\n",
    "    }\n",
    "    rp_refs.append(record)"
   ]
  },
  {
   "cell_type": "markdown",
   "id": "312032bf-a552-4575-8ae6-0395c07851a3",
   "metadata": {
    "tags": []
   },
   "source": [
    "## Format records for input in database\n",
    "\n",
    "We will use custom functions to take each species (row) from the spreadsheet and add records for the trait tables in the database. \n"
   ]
  },
  {
   "cell_type": "markdown",
   "id": "ea53553d-361f-4f75-8fd9-102edb7ba66a",
   "metadata": {
    "tags": []
   },
   "source": [
    "### Add list of references\n",
    "\n",
    "First upload a record for the main source, the NSWFFRDv2.1 reference:"
   ]
  },
  {
   "cell_type": "code",
   "execution_count": 12,
   "id": "2fc23940-9066-40ca-b06b-37b17c8e7fe9",
   "metadata": {},
   "outputs": [
    {
     "name": "stdout",
     "output_type": "stream",
     "text": [
      "Connecting to the PostgreSQL database...\n",
      "0 rows updated\n",
      "Database connection closed.\n"
     ]
    }
   ],
   "source": [
    "main_ref = [{'ref_code': \"NSWFFRDv2.1\",\n",
    "             'ref_cite': \"NSW Flora Fire Response Database. Version 2.1. February 2010 (last update May 2014)\"\n",
    "            },]\n",
    "\n",
    "batch_upsert(dbparams, \n",
    "             table='litrev.ref_list',\n",
    "             records=main_ref, \n",
    "             keycol=['ref_code',], \n",
    "             idx=None,\n",
    "            execute = True)"
   ]
  },
  {
   "cell_type": "markdown",
   "id": "b08f38c6-bbbb-482e-8aa0-7da797eefc3f",
   "metadata": {},
   "source": [
    "Now we will add references from the list we read before (`NFRR_refs`, `other_refs` and `rp_refs`). We will use the first 50 letters from the reference description as a `ref_code` (we will be able to update that later to something more meaningful in the database), and create an `alt_code` to identify the origin of the reference."
   ]
  },
  {
   "cell_type": "code",
   "execution_count": 13,
   "id": "fbda59d8-dd6b-44b4-b50f-c4290aeb1780",
   "metadata": {},
   "outputs": [],
   "source": [
    "reflist = list()\n",
    "for item in NFRR_refs:\n",
    "    ref={\n",
    "        'ref_code': item['refstring'],\n",
    "        'ref_cite': item['refinfo'],\n",
    "        'alt_code':'NSWFFRD-NFRR-ref-%s' % item['refcode']}\n",
    "    reflist.append(ref)\n",
    "for item in other_refs:\n",
    "    ref={\n",
    "        'ref_code': item['refstring'],\n",
    "        'ref_cite': item['refinfo'],\n",
    "        'alt_code':'NSWFFRD-other-ref-%s' % item['refcode']}\n",
    "    reflist.append(ref)\n",
    "for item in rp_refs:\n",
    "    ref={\n",
    "        'ref_code': item['refstring'],\n",
    "        'ref_cite': item['refinfo'],\n",
    "        'alt_code':'NSWFFRD-RP-ref-%s' % item['refcode']}\n",
    "    reflist.append(ref)"
   ]
  },
  {
   "cell_type": "code",
   "execution_count": 14,
   "id": "19f70850-fbd6-409f-8271-e0c8febbecab",
   "metadata": {},
   "outputs": [
    {
     "data": {
      "text/plain": [
       "248"
      ]
     },
     "execution_count": 14,
     "metadata": {},
     "output_type": "execute_result"
    }
   ],
   "source": [
    "len(reflist)"
   ]
  },
  {
   "cell_type": "code",
   "execution_count": 15,
   "id": "ecb1b354-ebf3-4b4f-b157-fd88364310fb",
   "metadata": {},
   "outputs": [
    {
     "name": "stdout",
     "output_type": "stream",
     "text": [
      "Connecting to the PostgreSQL database...\n",
      "0 rows updated\n",
      "Database connection closed.\n"
     ]
    }
   ],
   "source": [
    "batch_upsert(dbparams, \n",
    "             table='litrev.ref_list',\n",
    "             records=reflist, \n",
    "             keycol=['ref_code',], \n",
    "             idx=None,\n",
    "            execute = True)"
   ]
  },
  {
   "cell_type": "markdown",
   "id": "23bf05de-c6ac-4b0a-8b2d-6ca5c4d06504",
   "metadata": {},
   "source": [
    "### Importing categorical traits from NSWFFRDv2.1\n",
    "\n",
    "We will create one record per species, using \"NSWFFRDv2.1\" as _main reference_, adding the reported references in the _original sources_ column."
   ]
  },
  {
   "cell_type": "markdown",
   "id": "07a68f9d-6188-468a-8c1d-5d3a138dcb80",
   "metadata": {},
   "source": [
    "We will use the functions declared above to read row values and hyperlinks to create one or multiple records from each entry."
   ]
  },
  {
   "cell_type": "code",
   "execution_count": 16,
   "id": "7fcad15c-378c-41bf-ba8b-d1f1d2a81b85",
   "metadata": {},
   "outputs": [],
   "source": [
    "switcher={\n",
    "    \"repr2\":{\n",
    "        \"facultative\": \"Facultative\",\n",
    "        \"yes\": \"Facultative\",\n",
    "        \"yes?\": \"Facultative\",\n",
    "        \"most profuse after fire\": \"Facultative\",\n",
    "        \"exclusive\": \"Exclusive\",\n",
    "        \"exclusive?\": \"Exclusive\",\n",
    "        \"negligible\": \"Negligible\"\n",
    "    },\n",
    "    \"rect2\":{\n",
    "        \"I\":\"Intolerant\",\n",
    "        \"T\":\"Tolerant\",\n",
    "        \"R\":\"Requiring\",\n",
    "        \"T R\":\"Tolerant-Requiring\",\n",
    "        \"I T\":\"Intolerant-Tolerant\",\n",
    "        \"T I\":\"Intolerant-Tolerant\"\n",
    "    },\n",
    "    \"germ1\":{\n",
    "        'canopy': 'Canopy',\n",
    "        \n",
    "        'persistent soil': 'Soil-persistent', \n",
    "        'persistent': 'Soil-persistent', \n",
    "        'peristent': 'Soil-persistent', \n",
    "        'soil': 'Soil-persistent', \n",
    "        \n",
    "        'transient': 'Transient', \n",
    "        'none':'Transient', \n",
    "        'shed at maturity': 'Transient', \n",
    "        'viviparous':'Transient', \n",
    "        'canopy / released at maturity':'Transient', \n",
    "        'canopy / regularly without fire':'Transient', \n",
    "        'canopy - transient':'Transient', \n",
    "        'transient': 'Transient', \n",
    "        \n",
    "        'serotinous canopy': 'Canopy',\n",
    "        'non-canopy': 'Non-canopy',\n",
    "        'not canopy': 'Non-canopy',\n",
    "        \n",
    "        'other': 'Other'\n",
    "    },\n",
    "     \"surv4\":{\n",
    "        'epicormic': 'Epicormic', \n",
    "        'stem buds': 'Epicormic', \n",
    "        'apical': 'Apical', \n",
    "        'lignotuber': 'Lignotuber',\n",
    "        'root stock': 'Lignotuber',\n",
    "        'rootstock': 'Lignotuber',\n",
    "        'basal': 'Basal',\n",
    "        'basal buds': 'Basal',\n",
    "        'coppice': 'Basal',\n",
    "        'tuber': 'Tuber',\n",
    "        'taproot': 'Tuber',\n",
    "        'tap root': 'Tuber',\n",
    "        'tussock': 'Tussock',\n",
    "        'rhizome': 'Long rhizome or root sucker',\n",
    "        'rootucker': 'Long rhizome or root sucker',\n",
    "        'rootuckers': 'Long rhizome or root sucker',\n",
    "        'rootsuckers': 'Long rhizome or root sucker',\n",
    "        'root buds': 'Long rhizome or root sucker',\n",
    "        'root sucker': 'Long rhizome or root sucker',\n",
    "        'root suckers': 'Long rhizome or root sucker',\n",
    "        'rhizome': 'Short rhizome',\n",
    "        'stolon': 'Stolon',\n",
    "        'stolons': 'Stolon'\n",
    "    }\n",
    "}"
   ]
  },
  {
   "cell_type": "markdown",
   "id": "e0f93713-bfc4-466d-8099-2e845ebdcfeb",
   "metadata": {},
   "source": [
    "Now we will read through the spreadsheet and prepare records"
   ]
  },
  {
   "cell_type": "code",
   "execution_count": 17,
   "id": "e1115a52-5c84-4358-a51b-991e7bd2da40",
   "metadata": {},
   "outputs": [
    {
     "name": "stdout",
     "output_type": "stream",
     "text": [
      "Connecting to the PostgreSQL database to update values for germ1\n",
      "total of 193 records prepared\n",
      "193 rows updated\n",
      "total of 132 records prepared\n",
      "132 rows updated\n",
      "total of 104 records prepared\n",
      "104 rows updated\n",
      "total of 134 records prepared\n",
      "134 rows updated\n",
      "total of 165 records prepared\n",
      "165 rows updated\n",
      "total of 132 records prepared\n",
      "132 rows updated\n",
      "total of 132 records prepared\n",
      "132 rows updated\n",
      "total of 141 records prepared\n",
      "141 rows updated\n",
      "total of 124 records prepared\n",
      "124 rows updated\n",
      "total of 108 records prepared\n",
      "108 rows updated\n",
      "total of 109 records prepared\n",
      "109 rows updated\n",
      "total of 118 records prepared\n",
      "118 rows updated\n",
      "total of 43 records prepared\n",
      "43 rows updated\n",
      "Database connection closed.\n",
      "Connecting to the PostgreSQL database to update values for repr2\n",
      "total of 15 records prepared\n",
      "15 rows updated\n",
      "total of 13 records prepared\n",
      "13 rows updated\n",
      "total of 13 records prepared\n",
      "13 rows updated\n",
      "total of 17 records prepared\n",
      "17 rows updated\n",
      "total of 25 records prepared\n",
      "25 rows updated\n",
      "total of 20 records prepared\n",
      "20 rows updated\n",
      "total of 27 records prepared\n",
      "27 rows updated\n",
      "total of 10 records prepared\n",
      "10 rows updated\n",
      "Database connection closed.\n",
      "Connecting to the PostgreSQL database to update values for rect2\n",
      "total of 97 records prepared\n",
      "97 rows updated\n",
      "total of 98 records prepared\n",
      "98 rows updated\n",
      "total of 82 records prepared\n",
      "82 rows updated\n",
      "total of 80 records prepared\n",
      "80 rows updated\n",
      "total of 97 records prepared\n",
      "97 rows updated\n",
      "total of 85 records prepared\n",
      "85 rows updated\n",
      "total of 98 records prepared\n",
      "98 rows updated\n",
      "total of 85 records prepared\n",
      "85 rows updated\n",
      "total of 88 records prepared\n",
      "88 rows updated\n",
      "total of 88 records prepared\n",
      "88 rows updated\n",
      "total of 73 records prepared\n",
      "73 rows updated\n",
      "total of 77 records prepared\n",
      "77 rows updated\n",
      "total of 40 records prepared\n",
      "40 rows updated\n",
      "Database connection closed.\n",
      "Connecting to the PostgreSQL database to update values for surv4\n",
      "total of 114 records prepared\n",
      "114 rows updated\n",
      "total of 115 records prepared\n",
      "115 rows updated\n",
      "total of 106 records prepared\n",
      "106 rows updated\n",
      "total of 109 records prepared\n",
      "109 rows updated\n",
      "total of 192 records prepared\n",
      "192 rows updated\n",
      "total of 126 records prepared\n",
      "126 rows updated\n",
      "total of 113 records prepared\n",
      "113 rows updated\n",
      "total of 149 records prepared\n",
      "149 rows updated\n",
      "total of 99 records prepared\n",
      "99 rows updated\n",
      "total of 97 records prepared\n",
      "97 rows updated\n",
      "total of 68 records prepared\n",
      "68 rows updated\n",
      "total of 89 records prepared\n",
      "89 rows updated\n",
      "total of 34 records prepared\n",
      "34 rows updated\n",
      "Database connection closed.\n"
     ]
    }
   ],
   "source": [
    "row_min = 2\n",
    "row_max = species_data.max_row\n",
    "## row_max = 10\n",
    "\n",
    "target_cols={'germ1':'M', 'repr2':'X', 'rect2':'W', 'surv4':'L'}\n",
    "\n",
    "for trait in target_cols.keys():\n",
    "    if trait in ('surv4','germ1'):\n",
    "        mysplitstring=\"&|;|,| or | and \"\n",
    "    else:\n",
    "        mysplitstring=\"DO NOT SPLIT SENTENCE\"\n",
    "    \n",
    "    print('Connecting to the PostgreSQL database to update values for %s' % trait)\n",
    "    db_conn = psycopg2.connect(**dbparams)\n",
    "    records=list()\n",
    "    for row in range(row_min,row_max):\n",
    "        rr = nswff.create_record(species_data,\n",
    "                                 target_cols[trait],\n",
    "                                 row,\n",
    "                                 switcher[trait],\n",
    "                                 references, other_refs, rp_refs, NFRR_refs,\n",
    "                                 splitstring=mysplitstring)\n",
    "        if rr is not None :\n",
    "            records.extend(rr)\n",
    "        if (((row-row_min) % 250) == 0 and len(records)>10) or (row==(row_max-1)):\n",
    "            print(\"total of %s records prepared\" % len(records)) \n",
    "            \n",
    "            batch_upsert(dbparams, \n",
    "                 table='litrev.'+trait,\n",
    "                 records=records, \n",
    "                 keycol=['ref_code',], \n",
    "                 idx=None,\n",
    "                execute = True, \n",
    "                useconn=db_conn)\n",
    "            \n",
    "            records.clear()\n",
    "    if db_conn is not None:\n",
    "        db_conn.close()\n",
    "        print('Database connection closed.') \n"
   ]
  },
  {
   "cell_type": "code",
   "execution_count": 18,
   "id": "1cc5c74e-4491-48ff-a265-c7cf7f1e32d7",
   "metadata": {},
   "outputs": [
    {
     "name": "stdout",
     "output_type": "stream",
     "text": [
      "Connecting to the PostgreSQL database...\n"
     ]
    }
   ],
   "source": [
    "print('Connecting to the PostgreSQL database...')\n",
    "db_conn = psycopg2.connect(**dbparams)"
   ]
  },
  {
   "cell_type": "markdown",
   "id": "018431e8-1658-47e0-bd6f-a2cee67de262",
   "metadata": {},
   "source": [
    "This is somehow slow, but it works, and all the records are in the database.\n"
   ]
  },
  {
   "cell_type": "markdown",
   "id": "5312ab23-16d4-4c44-b2be-59763b4b0f3b",
   "metadata": {},
   "source": [
    "#### Special case for `Fire response`\n",
    "\n",
    "For `surv1` (Resprouting - full canopy scorch), we use a custom function that add more details to the records."
   ]
  },
  {
   "cell_type": "code",
   "execution_count": 19,
   "id": "8dc054bb-d74b-40ec-8f54-ff43f17c2e67",
   "metadata": {},
   "outputs": [],
   "source": [
    "va_groups = wb['VA Groups']\n",
    "reg_cats=list()\n",
    "for row in range(3,13):\n",
    "    record={\"NFRRcode\":va_groups['A'][row].value,\n",
    "    \"othercode\":va_groups['B'][row].value,\n",
    "     \"category\":va_groups['C'][row].value\n",
    "    }\n",
    "    reg_cats.append(record)"
   ]
  },
  {
   "cell_type": "code",
   "execution_count": 20,
   "id": "1591cbe1-4124-4658-91fe-ffdd3d171158",
   "metadata": {},
   "outputs": [
    {
     "name": "stdout",
     "output_type": "stream",
     "text": [
      "Connecting to the PostgreSQL database to update values for surv1\n",
      "total of 1034 records prepared\n",
      "1034 rows updated\n",
      "total of 936 records prepared\n",
      "936 rows updated\n",
      "total of 890 records prepared\n",
      "890 rows updated\n",
      "total of 951 records prepared\n",
      "951 rows updated\n",
      "total of 890 records prepared\n",
      "890 rows updated\n",
      "total of 885 records prepared\n",
      "885 rows updated\n",
      "total of 1071 records prepared\n",
      "1071 rows updated\n",
      "total of 1156 records prepared\n",
      "1156 rows updated\n",
      "total of 915 records prepared\n",
      "915 rows updated\n",
      "total of 845 records prepared\n",
      "845 rows updated\n",
      "total of 806 records prepared\n",
      "806 rows updated\n",
      "total of 860 records prepared\n",
      "860 rows updated\n",
      "empty row\n",
      "total of 324 records prepared\n",
      "324 rows updated\n",
      "Database connection closed.\n"
     ]
    }
   ],
   "source": [
    "row_min = 2\n",
    "row_max = species_data.max_row\n",
    "##row_max = 20\n",
    "\n",
    "print('Connecting to the PostgreSQL database to update values for surv1' )\n",
    "db_conn = psycopg2.connect(**dbparams)\n",
    "\n",
    "records=list()\n",
    "for row in range(row_min,row_max):\n",
    "    rr = nswff.read_rows_resprouting(species_data,row, reg_cats, NFRR_refs, other_refs)\n",
    "    if rr is not None :\n",
    "        records.extend(rr)\n",
    "    if (((row-row_min) % 250) == 0 and len(records)>10) or (row==(row_max-1)):\n",
    "        print(\"total of %s records prepared\" % len(records))            \n",
    "        batch_upsert(dbparams, \n",
    "             table='litrev.surv1',\n",
    "             records=records, \n",
    "             keycol=['ref_code',], \n",
    "             idx=None,\n",
    "            execute = True, \n",
    "            useconn=db_conn)\n",
    "        \n",
    "        records.clear()\n",
    "if db_conn is not None:\n",
    "    db_conn.close()\n",
    "    print('Database connection closed.') \n",
    "\n"
   ]
  },
  {
   "cell_type": "markdown",
   "id": "b041dd1e-4121-41ee-9fdb-5262ebee280a",
   "metadata": {},
   "source": [
    "### Importing numeric traits\n",
    "Read the spreadsheet from NSW Flora Fire response database and extract information for the time to first flowering after fire (primary and secondary juvenile periods for recruits and resprouters respectively)"
   ]
  },
  {
   "cell_type": "markdown",
   "id": "ef8f6077-6f49-4853-82a8-2d612de3384b",
   "metadata": {},
   "source": [
    "In the case of time to first flowering we need to read data from columns _Z_ ('Primary juvenile period'), and _AA_ ('Secondary juvenile period').\n",
    "\n",
    "We can use square brackets to refer to a column and then use python indices (starting with _0_ for the top row) to slice it. We use the property _value_ to show their stored content. "
   ]
  },
  {
   "cell_type": "code",
   "execution_count": 21,
   "id": "fa31e272-4b49-4bf7-9c70-6c09ac80b4bb",
   "metadata": {},
   "outputs": [
    {
     "name": "stdout",
     "output_type": "stream",
     "text": [
      "Current Scientific Name (Species Code) / Secondary juvenile period / Fire tolerance / Life span / Seed-bank longevity \n"
     ]
    }
   ],
   "source": [
    "sp_col='A'\n",
    "spcode_col='B'\n",
    "target_cols = {'repr3':'Z', \n",
    "               'repr3a':'AA', \n",
    "               'grow1':'AD', \n",
    "               'repr4':None, # Data entry by Renee Woodward\n",
    "               'surv5':'AE', \n",
    "               'surv6':None, # Data entry by Renee Woodward\n",
    "               'surv7':'AF'}\n",
    "\n",
    "print(\"%s (%s) / %s / %s / %s / %s \" %\n",
    "(species_data[sp_col][1].value,\n",
    " species_data[spcode_col][1].value,\n",
    "species_data[target_cols['repr3a']][1].value,\n",
    "species_data[target_cols['grow1']][1].value,\n",
    "species_data[target_cols['surv5']][1].value,\n",
    "species_data[target_cols['surv7']][1].value))"
   ]
  },
  {
   "cell_type": "code",
   "execution_count": 22,
   "id": "9eecb321-9c7e-4808-a0fe-22c284bfaae3",
   "metadata": {},
   "outputs": [
    {
     "name": "stdout",
     "output_type": "stream",
     "text": [
      "repr3\n",
      "Connecting to the PostgreSQL database to update values for repr3\n",
      "total of 76 records prepared\n",
      "76 rows updated\n",
      "total of 64 records prepared\n",
      "64 rows updated\n",
      "total of 74 records prepared\n",
      "74 rows updated\n",
      "total of 69 records prepared\n",
      "69 rows updated\n",
      "total of 50 records prepared\n",
      "50 rows updated\n",
      "total of 56 records prepared\n",
      "56 rows updated\n",
      "total of 86 records prepared\n",
      "86 rows updated\n",
      "total of 61 records prepared\n",
      "61 rows updated\n",
      "total of 87 records prepared\n",
      "87 rows updated\n",
      "total of 66 records prepared\n",
      "66 rows updated\n",
      "total of 66 records prepared\n",
      "66 rows updated\n",
      "total of 56 records prepared\n",
      "56 rows updated\n",
      "total of 27 records prepared\n",
      "27 rows updated\n",
      "Database connection closed.\n",
      "repr3a\n",
      "Connecting to the PostgreSQL database to update values for repr3a\n",
      "total of 34 records prepared\n",
      "34 rows updated\n",
      "total of 66 records prepared\n",
      "66 rows updated\n",
      "total of 62 records prepared\n",
      "62 rows updated\n",
      "total of 54 records prepared\n",
      "54 rows updated\n",
      "total of 46 records prepared\n",
      "46 rows updated\n",
      "total of 43 records prepared\n",
      "43 rows updated\n",
      "total of 56 records prepared\n",
      "56 rows updated\n",
      "total of 73 records prepared\n",
      "73 rows updated\n",
      "total of 37 records prepared\n",
      "37 rows updated\n",
      "total of 52 records prepared\n",
      "52 rows updated\n",
      "total of 61 records prepared\n",
      "61 rows updated\n",
      "total of 58 records prepared\n",
      "58 rows updated\n",
      "total of 20 records prepared\n",
      "20 rows updated\n",
      "Database connection closed.\n",
      "grow1\n",
      "Connecting to the PostgreSQL database to update values for grow1\n",
      "total of 22 records prepared\n",
      "22 rows updated\n",
      "total of 11 records prepared\n",
      "11 rows updated\n",
      "total of 0 records prepared\n",
      "0 rows updated\n",
      "Database connection closed.\n",
      "surv5\n",
      "Connecting to the PostgreSQL database to update values for surv5\n",
      "total of 101 records prepared\n",
      "101 rows updated\n",
      "total of 105 records prepared\n",
      "105 rows updated\n",
      "total of 113 records prepared\n",
      "113 rows updated\n",
      "total of 94 records prepared\n",
      "94 rows updated\n",
      "total of 114 records prepared\n",
      "114 rows updated\n",
      "total of 95 records prepared\n",
      "95 rows updated\n",
      "total of 94 records prepared\n",
      "94 rows updated\n",
      "total of 110 records prepared\n",
      "110 rows updated\n",
      "total of 88 records prepared\n",
      "88 rows updated\n",
      "total of 100 records prepared\n",
      "100 rows updated\n",
      "total of 99 records prepared\n",
      "99 rows updated\n",
      "total of 108 records prepared\n",
      "108 rows updated\n",
      "total of 41 records prepared\n",
      "41 rows updated\n",
      "Database connection closed.\n",
      "surv7\n",
      "Connecting to the PostgreSQL database to update values for surv7\n",
      "total of 12 records prepared\n",
      "12 rows updated\n",
      "total of 14 records prepared\n",
      "14 rows updated\n",
      "total of 12 records prepared\n",
      "12 rows updated\n",
      "total of 11 records prepared\n",
      "11 rows updated\n",
      "total of 18 records prepared\n",
      "18 rows updated\n",
      "total of 11 records prepared\n",
      "11 rows updated\n",
      "total of 9 records prepared\n",
      "9 rows updated\n",
      "Database connection closed.\n"
     ]
    }
   ],
   "source": [
    "row_min = 2\n",
    "row_max = species_data.max_row\n",
    "##row_max = 20\n",
    "\n",
    "traits = target_cols.keys()\n",
    "for trait in traits:\n",
    "    if target_cols[trait] is None:\n",
    "        continue\n",
    "    print(trait)\n",
    "    varname=species_data[target_cols[trait]][1].value\n",
    "    print('Connecting to the PostgreSQL database to update values for %s' % trait)\n",
    "    db_conn = psycopg2.connect(**dbparams)\n",
    "    \n",
    "    records=list()\n",
    "    for row in range(row_min,row_max):\n",
    "        rr = nswff.create_numeric_record(species_data,target_cols[trait],row,\n",
    "                                  references, other_refs, rp_refs, NFRR_refs)\n",
    "        if len(rr) > 0 :\n",
    "            records.extend(rr)\n",
    "        if (((row-row_min) % 250) == 0 and len(records)>10) or (row==(row_max-1)):\n",
    "            print(\"total of %s records prepared\" % len(records)) \n",
    "            batch_upsert(dbparams, \n",
    "                 table='litrev.'+trait,\n",
    "                 records=records, \n",
    "                 keycol=['ref_code',], \n",
    "                 idx=None,\n",
    "                execute = True, \n",
    "                useconn=db_conn)\n",
    "            records.clear()\n",
    "    if db_conn is not None:\n",
    "        db_conn.close()\n",
    "        print('Database connection closed.')\n"
   ]
  },
  {
   "cell_type": "markdown",
   "id": "30e45954-21be-4fc4-abe5-0244b651c070",
   "metadata": {},
   "source": [
    "## That is it for now!\n",
    "\n",
    "✅ Job done! 😎👌🔥\n",
    "\n",
    "You can:\n",
    "- go [back home](../Instructions-and-workflow.ipynb),\n",
    "- continue navigating the repo on [GitHub](https://github.com/ces-unsw-edu-au/fireveg-db-exports)\n",
    "- continue exploring the repo on [OSF](https://osf.io/h96q2/).\n",
    "- visit the database at <http://fireecologyplants.net>"
   ]
  }
 ],
 "metadata": {
  "kernelspec": {
   "display_name": "Python 3 (ipykernel)",
   "language": "python",
   "name": "python3"
  },
  "language_info": {
   "codemirror_mode": {
    "name": "ipython",
    "version": 3
   },
   "file_extension": ".py",
   "mimetype": "text/x-python",
   "name": "python",
   "nbconvert_exporter": "python",
   "pygments_lexer": "ipython3",
   "version": "3.11.3"
  }
 },
 "nbformat": 4,
 "nbformat_minor": 5
}
