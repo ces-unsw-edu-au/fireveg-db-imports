{
 "cells": [
  {
   "cell_type": "code",
   "execution_count": 3,
   "id": "87064fd7-03d2-41b7-b59b-e1544e5c6ea2",
   "metadata": {},
   "outputs": [],
   "source": [
    "import openpyxl\n",
    "from pathlib import Path\n",
    "import os\n",
    "repodir = Path(\"../\") \n",
    "inputdir = repodir / \"data/\"\n"
   ]
  },
  {
   "cell_type": "code",
   "execution_count": 4,
   "id": "1c96a3bf-9db1-43a9-b3a9-6ffb6b02227d",
   "metadata": {},
   "outputs": [],
   "source": [
    "from configparser import ConfigParser\n",
    "import psycopg2\n",
    "\n",
    "filename = repodir / 'secrets' / 'database.ini'\n",
    "section = 'aws-lght-sl'\n",
    "\n",
    "# create a parser\n",
    "parser = ConfigParser()\n",
    "# read config file\n",
    "parser.read(filename)\n",
    "\n",
    "# get section, default to postgresql\n",
    "db = {}\n",
    "if parser.has_section(section):\n",
    "    params = parser.items(section)\n",
    "    for param in params:\n",
    "        db[param[0]] = param[1]\n",
    "else:\n",
    "    raise Exception('Section {0} not found in the {1} file'.format(section, filename))\n",
    "\n",
    "params = db"
   ]
  },
  {
   "cell_type": "code",
   "execution_count": 4,
   "id": "ef5afcea-c064-4541-8520-3f0c0ecdf00a",
   "metadata": {},
   "outputs": [],
   "source": [
    "inputfile=inputdir / \"vis-survey-datasheet-6000.PowerQuery.20210708.xlsx\"\n",
    "# using data_only=True to get the calculated cell values\n",
    "wb = openpyxl.load_workbook(inputfile,data_only=True)"
   ]
  },
  {
   "cell_type": "code",
   "execution_count": 8,
   "id": "807b54c8-0c58-4856-b132-65cdb8d50e2f",
   "metadata": {},
   "outputs": [],
   "source": [
    "ws = wb['BioNet OData']"
   ]
  },
  {
   "cell_type": "code",
   "execution_count": 9,
   "id": "2f861b76-db12-4b8b-8b18-584e89299b7c",
   "metadata": {},
   "outputs": [
    {
     "data": {
      "text/plain": [
       "'speciesID'"
      ]
     },
     "execution_count": 9,
     "metadata": {},
     "output_type": "execute_result"
    }
   ],
   "source": [
    "ws['A1'].value"
   ]
  },
  {
   "cell_type": "code",
   "execution_count": 11,
   "id": "5df73905-aa67-44fd-8889-5f6cabd3a2f0",
   "metadata": {},
   "outputs": [
    {
     "name": "stdout",
     "output_type": "stream",
     "text": [
      "speciesID\n",
      "taxonRank\n",
      "classID\n",
      "class\n",
      "orderID\n",
      "order\n",
      "familyID\n",
      "family\n",
      "sortOrder\n",
      "genusID\n",
      "genus\n",
      "parentSpeciesID\n",
      "specificEpithet\n",
      "infraspecificEpithet\n",
      "scientificNameAuthorship\n",
      "scientificNameID\n",
      "speciesCode_Synonym\n",
      "scientificName\n",
      "scientificNameHTML\n",
      "vernacularName\n",
      "otherVernacularNames\n",
      "taxonID\n",
      "currentScientificNameCode\n",
      "currentScientificName\n",
      "currentVernacularName\n",
      "isCurrent\n",
      "generalTypeID\n",
      "generalType\n",
      "establishmentMeans\n",
      "primaryGrowthForm\n",
      "primaryGrowthFormGroup\n",
      "secondaryGrowthForms\n",
      "secondaryGrowthFormGroups\n",
      "stateConservation\n",
      "protectedInNSW\n",
      "sensitivityClass\n",
      "TSProfileID\n",
      "countryConservation\n",
      "highThreatWeed\n",
      "widelyCultivatedNativeSpecies\n",
      "CAMBA\n",
      "JAMBA\n",
      "ROKAMBA\n"
     ]
    }
   ],
   "source": [
    "row_count = ws.max_row\n",
    "column_count = ws.max_column\n",
    "for j in range(1, column_count + 1):\n",
    "    print(ws.cell(row=1, column=j).value)\n"
   ]
  },
  {
   "cell_type": "code",
   "execution_count": 58,
   "id": "984923ba-4432-41ad-ba84-bc6aae53816b",
   "metadata": {
    "tags": []
   },
   "outputs": [],
   "source": [
    "values=list()\n",
    "for x in ws:\n",
    "    z=tuple(y.value for y in tuple(x))\n",
    "    if z[1]=='speciesID':\n",
    "        colnames=z\n",
    "    else:\n",
    "        values.append(z)\n"
   ]
  },
  {
   "cell_type": "code",
   "execution_count": 63,
   "id": "90891aa8-1cb9-46ff-9d6d-1fcb040afda6",
   "metadata": {},
   "outputs": [
    {
     "data": {
      "text/plain": [
       "(2362,\n",
       " 'Species',\n",
       " 38,\n",
       " 'Flora',\n",
       " 137,\n",
       " 'Flora',\n",
       " 157,\n",
       " 'Apiaceae',\n",
       " 6046,\n",
       " 1944,\n",
       " 'Apium',\n",
       " 2362,\n",
       " 'prostratum',\n",
       " None,\n",
       " 'Labill. ex Vent.',\n",
       " 2362,\n",
       " '1104',\n",
       " 'Apium prostratum',\n",
       " '<em>Apium prostratum</em>',\n",
       " 'Sea Celery',\n",
       " None,\n",
       " 2362,\n",
       " '1104',\n",
       " 'Apium prostratum',\n",
       " 'Sea Celery',\n",
       " 'true',\n",
       " None,\n",
       " None,\n",
       " 'Alive in NSW, Native',\n",
       " 'Forb',\n",
       " 'Forb (FG)',\n",
       " None,\n",
       " None,\n",
       " 'Not Listed',\n",
       " 'false',\n",
       " 'Not Sensitive',\n",
       " None,\n",
       " 'Not Listed',\n",
       " None,\n",
       " None,\n",
       " 'false',\n",
       " 'false',\n",
       " 'false')"
      ]
     },
     "execution_count": 63,
     "metadata": {},
     "output_type": "execute_result"
    }
   ],
   "source": [
    "values[5]"
   ]
  },
  {
   "cell_type": "code",
   "execution_count": 65,
   "id": "8c635620-5450-4a10-a636-175361faebe1",
   "metadata": {},
   "outputs": [
    {
     "data": {
      "text/plain": [
       "'speciesID,taxonRank,classID,class,orderID,order,familyID,family,sortOrder,genusID,genus,parentSpeciesID,specificEpithet,infraspecificEpithet,scientificNameAuthorship,scientificNameID,speciesCode_Synonym,scientificName,scientificNameHTML,vernacularName,otherVernacularNames,taxonID,currentScientificNameCode,currentScientificName,currentVernacularName,isCurrent,generalTypeID,generalType,establishmentMeans,primaryGrowthForm,primaryGrowthFormGroup,secondaryGrowthForms,secondaryGrowthFormGroups,stateConservation,protectedInNSW,sensitivityClass,TSProfileID,countryConservation,highThreatWeed,widelyCultivatedNativeSpecies,CAMBA,JAMBA,ROKAMBA'"
      ]
     },
     "execution_count": 65,
     "metadata": {},
     "output_type": "execute_result"
    }
   ],
   "source": [
    "cols = ','.join(list(colnames))\n",
    "cols"
   ]
  },
  {
   "cell_type": "code",
   "execution_count": null,
   "id": "19454df7-6961-40c7-b71c-b2d9ab6334fe",
   "metadata": {},
   "outputs": [],
   "source": []
  }
 ],
 "metadata": {
  "kernelspec": {
   "display_name": "Python 3 (ipykernel)",
   "language": "python",
   "name": "python3"
  },
  "language_info": {
   "codemirror_mode": {
    "name": "ipython",
    "version": 3
   },
   "file_extension": ".py",
   "mimetype": "text/x-python",
   "name": "python",
   "nbconvert_exporter": "python",
   "pygments_lexer": "ipython3",
   "version": "3.10.9"
  }
 },
 "nbformat": 4,
 "nbformat_minor": 5
}
