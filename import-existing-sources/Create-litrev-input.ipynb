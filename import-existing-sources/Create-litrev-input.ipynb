{
 "cells": [
  {
   "cell_type": "markdown",
   "id": "e6851d2c-cc1c-4c8e-87eb-fe3c2d5093c5",
   "metadata": {},
   "source": [
    "# Creating data input spreadsheets\n",
    "\n",
    "We want to create a workbook with:\n",
    "\n",
    "- Instructions (extended)\n",
    "- Data contributor details\n",
    "- Updated trait codes and descriptions\n",
    "- Updated vocabularies\n",
    "- Updated species list and references\n",
    "- Data entry table\n"
   ]
  },
  {
   "cell_type": "markdown",
   "id": "cc3a9035-3034-4cd4-a428-2773a8493b10",
   "metadata": {
    "tags": []
   },
   "source": [
    "## Setup\n",
    "\n",
    "### Import modules"
   ]
  },
  {
   "cell_type": "code",
   "execution_count": 1,
   "id": "d74d909b-21c7-4427-bd72-a48db44c46a9",
   "metadata": {},
   "outputs": [],
   "source": [
    "# work with paths in operating system\n",
    "from pathlib import Path\n",
    "import os\n",
    "\n",
    "# work with xlsx workbooks\n",
    "import openpyxl\n",
    "from openpyxl import Workbook\n",
    "from openpyxl.worksheet.table import Table, TableStyleInfo\n",
    "from openpyxl.styles import Alignment, PatternFill, Border, Font # Side, Alignment, Protection,\n",
    "from openpyxl.formatting import Rule\n",
    "from openpyxl.styles.differential import DifferentialStyle\n",
    "from openpyxl.worksheet.datavalidation import DataValidation\n",
    "\n",
    "# For database connection\n",
    "import psycopg2\n",
    "from psycopg2.extras import DictCursor\n"
   ]
  },
  {
   "cell_type": "markdown",
   "id": "39084e38-ef0d-4dcb-a780-3db145667fd8",
   "metadata": {},
   "source": [
    "### Define paths for input and output"
   ]
  },
  {
   "cell_type": "code",
   "execution_count": 3,
   "id": "241e56aa-46a6-4292-8ffd-9ef434709974",
   "metadata": {},
   "outputs": [],
   "source": [
    "repodir = Path(\"../../\") \n",
    "inputdir = repodir / \"data\" / \"input-form\"\n",
    "#os.listdir(inputdir)"
   ]
  },
  {
   "cell_type": "markdown",
   "id": "e0e4a6d0-04e3-4c6a-98c5-ffcf389c430b",
   "metadata": {},
   "source": [
    "### Database connection\n",
    "\n",
    "Function to parse connection parameters from a file"
   ]
  },
  {
   "cell_type": "code",
   "execution_count": 4,
   "id": "f9c6996e-9865-45ac-8854-de65a809f3f2",
   "metadata": {},
   "outputs": [],
   "source": [
    "from lib.fireveg import read_dbparams\n"
   ]
  },
  {
   "cell_type": "markdown",
   "id": "aca585a3-c7b1-4d6d-a2e1-775bc27202b2",
   "metadata": {},
   "source": [
    "Reading the default parameters for this session:"
   ]
  },
  {
   "cell_type": "code",
   "execution_count": 5,
   "id": "94690718-6946-448c-a5f1-3ce0cc256f29",
   "metadata": {},
   "outputs": [],
   "source": [
    "filename = repodir / 'secrets' / 'database.ini'\n",
    "dbparams=read_dbparams(filename,section='aws-lght-sl')"
   ]
  },
  {
   "cell_type": "code",
   "execution_count": 6,
   "id": "d118e471-3508-4017-84d8-e6e80102b5a4",
   "metadata": {},
   "outputs": [
    {
     "name": "stdout",
     "output_type": "stream",
     "text": [
      "Connecting to the PostgreSQL database...\n"
     ]
    }
   ],
   "source": [
    "if \"conn\" not in globals() or conn.closed!=0:\n",
    "    print('Connecting to the PostgreSQL database...')\n",
    "    conn = psycopg2.connect(**dbparams)\n",
    "if \"cur\" not in globals() or cur.closed:\n",
    "    cur = conn.cursor(cursor_factory=DictCursor)"
   ]
  },
  {
   "cell_type": "markdown",
   "id": "ba297e89-7bf8-4791-ab04-8d5fc15b8369",
   "metadata": {
    "tags": []
   },
   "source": [
    "## Create workbook"
   ]
  },
  {
   "cell_type": "markdown",
   "id": "8cb2a42e-8a08-43f7-b645-cd53df4acece",
   "metadata": {},
   "source": [
    "### Styles\n",
    "Define styles to be used across the workbook"
   ]
  },
  {
   "cell_type": "code",
   "execution_count": 6,
   "id": "40b634bb-1852-49cb-af86-1a16d5a036e1",
   "metadata": {},
   "outputs": [],
   "source": [
    "cent_align=Alignment(horizontal='center', vertical='center', wrap_text=False)\n",
    "wrap_align=Alignment(horizontal='left', vertical='top', wrap_text=True)\n",
    "\n",
    "sheet_colors = {\"instructions\": \"1072BA\" , \"entry\": \"10BA72\", \"default\":\"505050\"}\n",
    "\n",
    "table_style={\"Instructions\":TableStyleInfo(name=\"TableStyleMedium9\", showFirstColumn=True, showLastColumn=False, \n",
    "                                           showRowStripes=True, showColumnStripes=False),\n",
    "             \"Contributor\": TableStyleInfo(name=\"TableStyleMedium18\", showFirstColumn=True,\n",
    "                       showLastColumn=False, showRowStripes=False, showColumnStripes=False),\n",
    "             \"Lists\": TableStyleInfo(name=\"TableStyleMedium14\", showFirstColumn=True,\n",
    "                       showLastColumn=False, showRowStripes=False, showColumnStripes=False),\n",
    "             \"Info\":  TableStyleInfo(name=\"TableStyleMedium14\", showFirstColumn=True,\n",
    "                       showLastColumn=False, showRowStripes=False, showColumnStripes=False),\n",
    "             \"Vocabularies\": TableStyleInfo(name=\"TableStyleMedium14\", showFirstColumn=True,\n",
    "                       showLastColumn=False, showRowStripes=False, showColumnStripes=False),\n",
    "             \"Entry\": TableStyleInfo(name=\"TableStyleMedium18\", showFirstColumn=False,\n",
    "                       showLastColumn=False, showRowStripes=False, showColumnStripes=False)\n",
    "\n",
    "             }\n",
    "\n",
    "\n"
   ]
  },
  {
   "cell_type": "markdown",
   "id": "7a777079-5fce-4d29-830d-f8bb3c0dd7fb",
   "metadata": {
    "tags": []
   },
   "source": [
    "### Initialise workbook"
   ]
  },
  {
   "cell_type": "code",
   "execution_count": 7,
   "id": "9f07a89e-49d4-4cb5-b0d0-7451ec86a1f9",
   "metadata": {},
   "outputs": [],
   "source": [
    "wb = Workbook()"
   ]
  },
  {
   "cell_type": "markdown",
   "id": "8b173672-5d7a-4aa1-ae5b-2cd67746fc49",
   "metadata": {
    "tags": []
   },
   "source": [
    "### Add sheets\n",
    "\n",
    "Add worksheets in order, specify column dimentsions as needed and establish the tab color for each sheet."
   ]
  },
  {
   "cell_type": "markdown",
   "id": "e6e12432-3701-44b9-872f-97fd6ea70e8c",
   "metadata": {},
   "source": [
    "##### Instructions"
   ]
  },
  {
   "cell_type": "code",
   "execution_count": 8,
   "id": "8311167f-8f2a-4048-88e6-acef88ecd833",
   "metadata": {},
   "outputs": [],
   "source": [
    "ws = wb.active\n",
    "ws.title = \"Instructions\"\n",
    "ws.column_dimensions[\"B\"].width = 90\n",
    "ws.column_dimensions[\"C\"].width = 40\n",
    "ws.sheet_properties.tabColor = sheet_colors[\"instructions\"]\n"
   ]
  },
  {
   "cell_type": "markdown",
   "id": "65be0692-0683-4965-b7aa-fa3dd6c8e23f",
   "metadata": {},
   "source": [
    "#### Contributor"
   ]
  },
  {
   "cell_type": "code",
   "execution_count": 9,
   "id": "ee2b79da-4244-4f07-be71-bb6db710dfa0",
   "metadata": {},
   "outputs": [],
   "source": [
    "ws = wb.create_sheet(\"Contributor\")\n",
    "ws.column_dimensions[\"A\"].width = 30\n",
    "ws.column_dimensions[\"B\"].width = 60\n",
    "ws.sheet_properties.tabColor = sheet_colors[\"entry\"]"
   ]
  },
  {
   "cell_type": "markdown",
   "id": "1007528b-6932-4a5c-96f2-d2587c146d94",
   "metadata": {},
   "source": [
    "#### Data Entry"
   ]
  },
  {
   "cell_type": "code",
   "execution_count": 10,
   "id": "d418d149-ecba-4a7a-89d2-19899f7432a1",
   "metadata": {},
   "outputs": [],
   "source": [
    "ws = wb.create_sheet(\"Data entry\")\n",
    "ws.sheet_properties.tabColor = sheet_colors[\"entry\"]\n",
    "\n",
    "for col in (\"A\",\"B\",\"C\",\"E\",\"G\",\"I\",\"N\",\"O\"):\n",
    "    ws.column_dimensions[col].width = 25\n",
    "for col in (\"D\",\"F\",\"H\",\"J\",\"K\",\"L\",\"M\"):\n",
    "    ws.column_dimensions[col].width = 12"
   ]
  },
  {
   "cell_type": "markdown",
   "id": "d77573d6-e925-4283-8c09-3a9b35b77f56",
   "metadata": {},
   "source": [
    "#### Species lists"
   ]
  },
  {
   "cell_type": "code",
   "execution_count": 11,
   "id": "55501a6f-9656-4556-97f9-c381a8846883",
   "metadata": {},
   "outputs": [],
   "source": [
    "ws = wb.create_sheet(\"Species list\")\n",
    "ws.column_dimensions[\"A\"].width = 90\n",
    "ws.sheet_properties.tabColor = sheet_colors[\"default\"]"
   ]
  },
  {
   "cell_type": "markdown",
   "id": "5a83ccab-acfc-49aa-bb88-a7e95f8f7319",
   "metadata": {},
   "source": [
    "#### References"
   ]
  },
  {
   "cell_type": "code",
   "execution_count": 12,
   "id": "a06d73d8-6e54-4bbd-8e2d-20b140ad8b95",
   "metadata": {},
   "outputs": [],
   "source": [
    "ws = wb.create_sheet(\"References\")\n",
    "\n",
    "ws.column_dimensions[\"A\"].width = 30\n",
    "ws.column_dimensions[\"B\"].width = 60\n",
    "\n",
    "ws.sheet_properties.tabColor = sheet_colors[\"default\"]"
   ]
  },
  {
   "cell_type": "markdown",
   "id": "85aa4352-8621-4570-b7bc-58ba8a1f80b5",
   "metadata": {},
   "source": [
    "#### Trait descriptions"
   ]
  },
  {
   "cell_type": "code",
   "execution_count": 13,
   "id": "56bac42d-441d-419e-8be4-a7d287b15760",
   "metadata": {},
   "outputs": [],
   "source": [
    "ws = wb.create_sheet(\"Trait description\")\n",
    "ws.column_dimensions[\"A\"].width = 12\n",
    "ws.column_dimensions[\"B\"].width = 30\n",
    "ws.column_dimensions[\"C\"].width = 70\n",
    "ws.sheet_properties.tabColor = sheet_colors[\"default\"]"
   ]
  },
  {
   "cell_type": "markdown",
   "id": "22f2e419-5c5f-451b-8f7d-d58fa88236f9",
   "metadata": {},
   "source": [
    "#### Vocabularies"
   ]
  },
  {
   "cell_type": "code",
   "execution_count": 14,
   "id": "21bccae0-5725-4e59-be3c-fce0d4fee8dc",
   "metadata": {},
   "outputs": [],
   "source": [
    "ws = wb.create_sheet(\"Vocabularies\")\n",
    "ws.column_dimensions[\"A\"].width = 30\n",
    "ws.column_dimensions[\"B\"].width = 60\n",
    "ws.sheet_properties.tabColor = sheet_colors[\"default\"]"
   ]
  },
  {
   "cell_type": "markdown",
   "id": "2b077bf8-ee9d-41d0-bbde-032bc0623fd6",
   "metadata": {
    "tags": []
   },
   "source": [
    "### Add content to sheets\n",
    "\n",
    "For each sheet we will add the tables and content as required.\n",
    "#### Instructions"
   ]
  },
  {
   "cell_type": "code",
   "execution_count": 15,
   "id": "fc749c39-736d-4600-86ba-e728a4d4157e",
   "metadata": {
    "tags": []
   },
   "outputs": [],
   "source": [
    "instructions = [\n",
    "\"\"\"\n",
    "Fill in your name and affilation in the \"Contributor\" tab, so that we can keep track of your contributions. Optionally fill in contact information for queries regarding your contribution.\n",
    "\"\"\",\n",
    "\"\"\"\n",
    "Go to sheet \"Data Entry\" and fill one (or more) record(s) for each combination of reference + species + trait. Use \"Insert > Table Rows Above/Below\" to ensure new records have same format and validation options.\n",
    "\"\"\",\n",
    "\"\"\"\n",
    "For each record, select references (main source and original sources columns) from the drop down list. If reference is not found, go to list of reference and add it to the table (use \"Insert > Table Rows Above/Below\" to add record to the list of references)\n",
    "\"\"\",\n",
    "\"\"\"\n",
    "For each record, type in species name as given by main source in \"original_species_name\" column. A XLOOKUP function will look for a match in the species code table (list_spcode) and populate columns species_code and species_name, but this can be overridden with a manual entry if needed.\tGo to list of species\n",
    "\"\"\",\n",
    "\"\"\"\n",
    "Select a trait from the drop down menu. A XLOOKUP function will look at the trait code table and populate columns for trait name and trait type (categorical or numerical). The choice will determine the list of values for the \"norm_value\" column\n",
    "\"\"\",\n",
    "\"\"\"\n",
    "Add raw value as given by original source, might include values, units and short explanatory text about observation or measurement\n",
    "\"\"\",\n",
    "\"\"\"\n",
    "For numeric trait values (e.g. age in years) we use a triplet of integer values (columns best, lower and upper) to describe a fuzzy number. Fill out any needed numbers and leave other columns blank. If in doubt leave all columns blank. Examples a raw value of \"5 (3-7)\" would be best:5, lower:3 upper:7; a value of \">5\" would be lower:5, best:blank, upper:blank; etc. This column is colored red if the selected trait is not numerical.\n",
    "\n",
    "For categorical variables, use values from drop-down list. The list will update when a categorical trait is selected and will be colored red if the selected trait is not categorical. If raw value does not match any of the options, leave blank. Values not in the dropdown list will not be imported in the database, but you can add a comment in the \"notes\" column.\n",
    "\"\"\",\n",
    "\"\"\" \n",
    "Fill method of estimation from drop down list.\n",
    "\"\"\",\n",
    "\"\"\"\n",
    "Add any notes, observations or comments in column \"notes\". Please avoid using colors or any other formatting, nor add comment on particular cells, rather write all comments as text in the \"notes\" column.\n",
    "\"\"\"]"
   ]
  },
  {
   "cell_type": "code",
   "execution_count": 16,
   "id": "08544673-e65e-481e-9071-7eefd58ec036",
   "metadata": {},
   "outputs": [
    {
     "data": {
      "text/plain": [
       "'\\n    Fill in your name and affilation in the \"Contributor\" tab, so that we can keep track of your contributions. Optionally fill in contact information for queries regarding your contribution.\\n    '"
      ]
     },
     "execution_count": 16,
     "metadata": {},
     "output_type": "execute_result"
    }
   ],
   "source": [
    "instructions[0]"
   ]
  },
  {
   "cell_type": "code",
   "execution_count": 17,
   "id": "684fe90c-76e6-4e6b-9e61-da0053ef514f",
   "metadata": {},
   "outputs": [],
   "source": [
    "links = [(\"#Contributor!A1\",\"Go to 'Contributor' table\"),\n",
    "         (\"#'Data entry'!A1\",\"Go to 'Data Entry' table\"),\n",
    "         (\"#'References'!A1\",\"Go to 'References' table\"),\n",
    "         (\"#'Species list'!A1\",\"Go to 'Species list' table\"),\n",
    "         (\"#'Trait description'!A1\",\"Go to 'Trait description' table\"),\n",
    "         None,\n",
    "         (\"#'Vocabularies'!A1\",\"Go to 'Vocabularies' table\"),\n",
    "         None,None,None,None,None,None,None]\n",
    "\n"
   ]
  },
  {
   "cell_type": "code",
   "execution_count": 18,
   "id": "d0d237d0-44ff-46dd-b04a-92c47765f4c7",
   "metadata": {},
   "outputs": [],
   "source": [
    "ws = wb[\"Instructions\"]\n",
    "ws.append([\"Step\", \"Instructions\",\"Links\"])\n",
    "#ws.merge_cells(start_row=1, start_column=2, end_row=1, end_column=6)\n",
    "for k in range(len(instructions)):\n",
    "    ws.cell(k+2,1).value=k+1\n",
    "    ws.cell(k+2,1).alignment=cent_align\n",
    "    ws.cell(k+2,2).value=instructions[k]\n",
    "    #ws.merge_cells(start_row=k+2, start_column=2, end_row=k+2, end_column=6)\n",
    "    ws.cell(k+2,2).alignment=wrap_align\n",
    "    if links[k] is not None:\n",
    "        cell=ws.cell(k+2,3)\n",
    "        cell.value=links[k][1]\n",
    "        cell.hyperlink=links[k][0]\n",
    "        #'=HYPERLINK(\"{}\", \"{}\")'.format(links[k][0], links[k][1])\n",
    "        cell.style = \"Hyperlink\"\n",
    "\n"
   ]
  },
  {
   "cell_type": "markdown",
   "id": "0c2922df-29e3-45ce-8241-adc322c8c677",
   "metadata": {},
   "source": [
    "Create table with a default style with striped rows and banded columns"
   ]
  },
  {
   "cell_type": "code",
   "execution_count": 19,
   "id": "4c3d43ed-29f4-4b0e-8a7d-6ee6d1b7dc0b",
   "metadata": {},
   "outputs": [],
   "source": [
    "tab = Table(displayName=\"Instructions\", ref=\"A1:C{}\".format(len(instructions)+1))\n",
    "tab.tableStyleInfo = table_style[\"Instructions\"]"
   ]
  },
  {
   "cell_type": "markdown",
   "id": "946c8e26-8b80-49d3-95c8-3157edd49714",
   "metadata": {},
   "source": [
    "Table must be added using ws.add_table() method to avoid duplicate names.\n",
    "Using this method ensures table name is unque through out defined names and all other table name. "
   ]
  },
  {
   "cell_type": "code",
   "execution_count": 20,
   "id": "17effb06-9b17-464a-a89b-3c57d4799cc0",
   "metadata": {},
   "outputs": [],
   "source": [
    "ws.add_table(tab)\n"
   ]
  },
  {
   "cell_type": "markdown",
   "id": "1f29ccbd-2829-48af-bb82-522a8c8c4142",
   "metadata": {
    "tags": []
   },
   "source": [
    "#### Contributor\n",
    "Whoever is transcribing the data, should leave their name and affiliation and contact information for any query arising from data import."
   ]
  },
  {
   "cell_type": "code",
   "execution_count": 21,
   "id": "077fd404-6a0b-475d-a157-87da01876d08",
   "metadata": {},
   "outputs": [],
   "source": [
    "ws = wb[\"Contributor\"]\n",
    "\n",
    "data = [\n",
    "    ['Name', \"\"\" Your name \"\"\"],\n",
    "    ['Affiliation', \"\"\" Your institution \"\"\"],\n",
    "    ['Contact', \"\"\" e-mail or phone \"\"\"],\n",
    "    \n",
    "]\n",
    "\n",
    "ws.append([\"Field\", \"Your response\"])\n",
    "\n",
    "for row in data:\n",
    "    ws.append(row)\n",
    "    \n",
    "tab = Table(displayName=\"Contributor\", ref=\"A1:B4\")\n",
    "tab.tableStyleInfo = table_style[\"Contributor\"]\n",
    "ws.add_table(tab)\n",
    "\n"
   ]
  },
  {
   "cell_type": "markdown",
   "id": "dcb5ddaa-897c-4813-8551-07b404f08603",
   "metadata": {
    "tags": []
   },
   "source": [
    "#### Species List"
   ]
  },
  {
   "cell_type": "code",
   "execution_count": 22,
   "id": "d6b32b74-0f20-402e-93b2-6d68f0d1c68f",
   "metadata": {},
   "outputs": [],
   "source": [
    "#cur = conn.cursor(cursor_factory=DictCursor)\n",
    "cur.execute('SELECT \"scientificName\",\"speciesCode_Synonym\" FROM species.caps;') \n",
    "species = cur.fetchall()\n",
    "\n"
   ]
  },
  {
   "cell_type": "code",
   "execution_count": 23,
   "id": "31500f5c-8322-4fb3-bb3d-6d4c79de9f33",
   "metadata": {},
   "outputs": [],
   "source": [
    "ws = wb[\"Species list\"]\n",
    "ws.append([\"Scientific Name\",\"Code\"])\n",
    "\n",
    "for row in species:\n",
    "    ws.append(row)\n",
    "    \n",
    "tab = Table(displayName=\"SpeciesList\", ref=\"A1:B{}\".format(ws.max_row))\n",
    "\n",
    "tab.tableStyleInfo = table_style[\"Lists\"]\n",
    "ws.add_table(tab)\n"
   ]
  },
  {
   "cell_type": "markdown",
   "id": "1534450d-e9ae-4b7e-8a22-a76e0a9fe537",
   "metadata": {
    "tags": []
   },
   "source": [
    "\n",
    "#### References"
   ]
  },
  {
   "cell_type": "code",
   "execution_count": 24,
   "id": "5c67bf29-143a-4e9a-bdd1-1cbe0b4f0c3b",
   "metadata": {},
   "outputs": [],
   "source": [
    "\n",
    "cur.execute(\"SELECT ref_code,ref_cite FROM litrev.ref_list\") \n",
    "references = cur.fetchall()\n",
    "\n"
   ]
  },
  {
   "cell_type": "code",
   "execution_count": 25,
   "id": "0ce23c14-d48f-4d5d-b6a1-3654edc34c83",
   "metadata": {},
   "outputs": [],
   "source": [
    "ws = wb[\"References\"]\n",
    "ws.append([\"Code\", \"Full reference\"])\n",
    "\n",
    "for row in references:\n",
    "    ws.append(row)\n",
    "  "
   ]
  },
  {
   "cell_type": "code",
   "execution_count": 26,
   "id": "a7acf154-ce6f-4c5e-93b7-bd33e1d78b66",
   "metadata": {},
   "outputs": [],
   "source": [
    "#ws.max_row\n",
    "for k in range(2,ws.max_row+1):\n",
    "    ws.cell(k,2).alignment=wrap_align\n",
    "    \n",
    "tab = Table(displayName=\"References\", ref=\"A1:B{}\".format(ws.max_row))\n"
   ]
  },
  {
   "cell_type": "code",
   "execution_count": 27,
   "id": "65c00065-3c8a-4b9b-9bff-409e87838a83",
   "metadata": {},
   "outputs": [],
   "source": [
    "\n",
    "tab.tableStyleInfo = table_style[\"Lists\"]\n",
    "ws.add_table(tab)\n"
   ]
  },
  {
   "cell_type": "markdown",
   "id": "ec2928ce-c6b0-4994-a0ba-d747be1036f5",
   "metadata": {
    "tags": []
   },
   "source": [
    "#### Trait descriptions"
   ]
  },
  {
   "cell_type": "code",
   "execution_count": 28,
   "id": "daf94586-38da-4411-8e68-36d0efe03ba5",
   "metadata": {},
   "outputs": [],
   "source": [
    "cur.execute(\"SELECT code,name,description,value_type,life_stage,life_history_process,priority FROM litrev.trait_info ORDER BY code\")\n",
    "trait_info = cur.fetchall()\n"
   ]
  },
  {
   "cell_type": "code",
   "execution_count": 29,
   "id": "6b82b8c3-3475-46ce-8c2a-d33d55afb42c",
   "metadata": {},
   "outputs": [
    {
     "name": "stdout",
     "output_type": "stream",
     "text": [
      "germ1\n",
      "Seedbank Type\n",
      "\n",
      "categorical\n",
      "Seed\n",
      "Germination\n",
      "2nd tranche\n"
     ]
    }
   ],
   "source": [
    "for k in trait_info[1].values():\n",
    "    print(k)"
   ]
  },
  {
   "cell_type": "code",
   "execution_count": 30,
   "id": "68e88e4a-09a2-4d91-9d14-58bec9fe4e99",
   "metadata": {},
   "outputs": [],
   "source": [
    "ws = wb[\"Trait description\"]\n",
    "ws.append([\"Trait Code\", \"Trait Name\", \"Description\", \"Type\", \"Life stage\", \"Life history process\", \"Priority\"])\n",
    "\n",
    "for row in trait_info:\n",
    "    ws.append(row)\n",
    "    \n",
    "#ws.max_row\n",
    "for k in range(2,ws.max_row+1):\n",
    "    ws.cell(k,3).alignment=wrap_align\n",
    "    \n",
    "tab = Table(displayName=\"TraitInformation\", ref=\"A1:G{}\".format(ws.max_row))\n",
    "\n",
    "tab.tableStyleInfo = table_style[\"Info\"]\n",
    "ws.add_table(tab)\n"
   ]
  },
  {
   "cell_type": "markdown",
   "id": "c511628b-89b2-4e41-bd12-06456aa18cdb",
   "metadata": {
    "tags": []
   },
   "source": [
    "#### Vocabularies"
   ]
  },
  {
   "cell_type": "code",
   "execution_count": 31,
   "id": "05b3912a-5f37-4df5-8b8b-a7f0a4ef6dfa",
   "metadata": {},
   "outputs": [],
   "source": [
    "cur.execute(\"SELECT code,category_vocabulary,method_vocabulary FROM litrev.trait_info WHERE category_vocabulary IS NOT NULL ORDER BY code\")\n",
    "trait_vocabs = cur.fetchall()\n"
   ]
  },
  {
   "cell_type": "code",
   "execution_count": 32,
   "id": "7b3353a4-65f0-40a3-aaba-443290a4b0d9",
   "metadata": {},
   "outputs": [
    {
     "data": {
      "text/plain": [
       "[['repr2', 'postfire_response', None],\n",
       " ['surv1', 'resprouting_vocabulary', None]]"
      ]
     },
     "execution_count": 32,
     "metadata": {},
     "output_type": "execute_result"
    }
   ],
   "source": [
    "trait_vocabs"
   ]
  },
  {
   "cell_type": "code",
   "execution_count": 33,
   "id": "e935e82e-0b76-42c1-ac35-087700c59e3f",
   "metadata": {},
   "outputs": [
    {
     "name": "stdout",
     "output_type": "stream",
     "text": [
      "['repr2', 'postfire_response', None]\n",
      "['surv1', 'resprouting_vocabulary', None]\n"
     ]
    }
   ],
   "source": [
    "ws = wb[\"Vocabularies\"]\n",
    "\n",
    "k=1\n",
    "\n",
    "for record in trait_vocabs:\n",
    "    print(record)\n",
    "    ws.cell(row=k,column=1,value=\"Lookup table for trait %s\" % record['code'])\n",
    "    k=k+1\n",
    "    tab_first_row=k\n",
    "    ws.cell(row=k,column=1,value=\"Valid values\")\n",
    "    ws.cell(row=k,column=2,value=\"Description\")\n",
    "\n",
    "    # we can add json-like comments to the vocabulary in postgres, and then read them as a dictionary\n",
    "    cur.execute(\"SELECT pg_catalog.obj_description(t.oid, 'pg_type')::json from pg_type t where typname = %s;\",(record['category_vocabulary'],))\n",
    "    vocabs = cur.fetchone()\n",
    "    vocab=vocabs[0]\n",
    "    for key in vocab.keys():\n",
    "        k=k+1\n",
    "        ws.cell(row=k,column=1,value=key)\n",
    "        ws.cell(row=k,column=2,value=vocab[key])\n",
    "        ws.cell(row=k,column=2).alignment=wrap_align\n",
    "\n",
    "    tab_last_row=k\n",
    "    \n",
    "    tab = Table(displayName=\"lookup_%s\" % record['code'], ref=\"A{}:B{}\".format(tab_first_row,tab_last_row))\n",
    "\n",
    "    tab.tableStyleInfo = table_style[\"Vocabularies\"]\n",
    "    ws.add_table(tab)\n",
    "    k=k+2\n"
   ]
  },
  {
   "cell_type": "markdown",
   "id": "53717878-fe41-4bb9-b586-8275e50266cf",
   "metadata": {},
   "source": [
    "#### Data entry"
   ]
  },
  {
   "cell_type": "code",
   "execution_count": 34,
   "id": "f626d9c0-ea4e-4457-a892-c4b496c0b73c",
   "metadata": {},
   "outputs": [],
   "source": [
    "ws = wb[\"Data entry\"]\n",
    "hdr=[\"Main source\", \"Original sources\", \"Original species name\", \"Species code\", \"Species name\", \n",
    "           \"Trait code\", \"Trait name\",\"Trait type\",\"Raw value\", \"Norm value\", \n",
    "           \"Best\", \"Lower\", \"Upper\", \"Method of estimation\",\"Notes\"]\n",
    "ws.append(hdr)\n"
   ]
  },
  {
   "cell_type": "markdown",
   "id": "685774cf-7e51-4918-9ed8-e5e0f276cd7d",
   "metadata": {},
   "source": [
    "##### Data validation\n"
   ]
  },
  {
   "cell_type": "code",
   "execution_count": 35,
   "id": "338e2f56-6909-40e4-8136-61b46987635e",
   "metadata": {},
   "outputs": [],
   "source": [
    "dv_ref = DataValidation(type=\"list\",\n",
    "                    formula1=\"\"\"=INDIRECT(\"References[Code]\")\"\"\",\n",
    "                    allow_blank=True)\n",
    "\n",
    "dv_fuzzy = DataValidation(type=\"decimal\",\n",
    "                    operator=\"greaterThanOrEqual\",\n",
    "                    formula1=0)\n",
    "\n",
    "dv_trait = DataValidation(type=\"list\",\n",
    "                    formula1=\"\"\"=INDIRECT(\"TraitInformation[Trait Code]\")\"\"\")\n",
    "\n",
    "dv_vvalue = DataValidation(type=\"list\",\n",
    "                    formula1=\"\"\"=INDIRECT(CONCATENATE(\"lookup_\",$F2,\"[Valid values]\"))\"\"\")\n",
    "\n",
    "# custom error message\n",
    "dv_ref.error ='Your entry is not in the list'\n",
    "dv_ref.errorTitle = 'Invalid Entry'\n",
    "dv_trait.error ='Your entry is not in the list'\n",
    "dv_trait.errorTitle = 'Invalid Entry'\n",
    "\n",
    "# custom prompt message\n",
    "dv_ref.prompt = 'Please select from the list of references'\n",
    "dv_ref.promptTitle = 'List Selection'\n",
    "dv_vvalue.prompt = \"\"\"For categorical traits, please select trait first and then select one value from the dropdown list, otherwise leave blank.\n",
    "For quantitative traits, leave blank and fill Best/Lower/Upper columns.\"\"\"\n",
    "dv_vvalue.promptTitle = 'Accepted values for trait'\n",
    "\n",
    "# add validation ranges\n",
    "dv_ref.add(\"A2:A21\")\n",
    "dv_trait.add(\"F2:F21\")\n",
    "dv_fuzzy.add(\"K2:M21\")\n",
    "dv_vvalue.add(\"J2:J21\")\n",
    "\n",
    "## add to sheet\n",
    "ws.add_data_validation(dv_vvalue)\n",
    "ws.add_data_validation(dv_ref)\n",
    "ws.add_data_validation(dv_trait)\n",
    "ws.add_data_validation(dv_fuzzy)"
   ]
  },
  {
   "cell_type": "markdown",
   "id": "8ea02daf-7911-43ad-a565-0c7ea7f79465",
   "metadata": {},
   "source": [
    "##### Lookup functions"
   ]
  },
  {
   "cell_type": "code",
   "execution_count": 36,
   "id": "69214788-1713-4dd5-828a-2fcfd9b2db61",
   "metadata": {},
   "outputs": [],
   "source": [
    "for row in range(2,22):\n",
    "    cell=ws.cell(row=row,column=7)\n",
    "    # problem: using XLOOKUP adds a @ at the beginning of the formula\n",
    "    #r\"\"\"=XLOOKUP(F2,INDIRECT(\"TraitInformation[Trait Code]\"),INDIRECT(\"TraitInformation[Trait Name]\"),\"No match\")\"\"\"\n",
    "    cell.value=\"\"\"=VLOOKUP($F{}, INDIRECT(\"TraitInformation\"), 2, FALSE)\"\"\".format(cell.row)\n",
    "    #r\"\"\"=XLOOKUP(F2,INDIRECT(\"TraitInformation[Trait Code]\"),INDIRECT(\"TraitInformation[Type]\"),\"No match\")\"\"\"\n",
    "    cell=ws.cell(row=row,column=8)\n",
    "    cell.value=\"\"\"=VLOOKUP($F{}, INDIRECT(\"TraitInformation\"), 4, FALSE)\"\"\".format(cell.row)\n",
    "    cell=ws.cell(row=row,column=4)\n",
    "    cell.value=\"\"\"=VLOOKUP($C{}, INDIRECT(\"SpeciesList\"), 2, FALSE)\"\"\".format(cell.row)\n",
    "    cell=ws.cell(row=row,column=5)\n",
    "    cell.value=\"\"\"=VLOOKUP($C{}, INDIRECT(\"SpeciesList\"), 1, FALSE)\"\"\".format(cell.row)\n",
    "    #=XLOOKUP(C31,INDIRECT(\"list_spcode[species_name]\"),INDIRECT(\"list_spcode[species_code]\"),\"No match\")"
   ]
  },
  {
   "cell_type": "markdown",
   "id": "f4f5a79a-e79b-4ade-9bfc-7c9e9effc940",
   "metadata": {},
   "source": [
    "##### Conditional formatting"
   ]
  },
  {
   "cell_type": "code",
   "execution_count": 37,
   "id": "d990ac3a-e7d8-4c93-b3f6-24c18b5b3698",
   "metadata": {},
   "outputs": [],
   "source": [
    "red_fill = PatternFill(bgColor=\"FFC7CE\")\n",
    "dxf = DifferentialStyle(fill=red_fill)\n",
    "r = Rule(type=\"expression\", dxf=dxf, stopIfTrue=True)\n",
    "r.formula = ['$H2=\"categorical\"']\n",
    "ws.conditional_formatting.add(\"K2:M21\", r)\n",
    "\n",
    "r2 = Rule(type=\"expression\", dxf=dxf, stopIfTrue=True)\n",
    "r2.formula = ['$H2=\"numerical\"']\n",
    "ws.conditional_formatting.add(\"J2:J21\", r2)"
   ]
  },
  {
   "cell_type": "markdown",
   "id": "65e9f00c-7244-4285-8857-c12339698ca3",
   "metadata": {},
   "source": [
    "##### Add Table"
   ]
  },
  {
   "cell_type": "code",
   "execution_count": 38,
   "id": "64d15166-09ca-465d-a093-6aa6486a8d9f",
   "metadata": {},
   "outputs": [],
   "source": [
    "cell=ws.cell(row=21,column=len(hdr))\n",
    "\n",
    "tab = Table(displayName=\"DataEntry\", ref=\"A1:{}21\".format(cell.column_letter))\n",
    "tab.tableStyleInfo = table_style[\"Entry\"]\n",
    "ws.add_table(tab)\n"
   ]
  },
  {
   "cell_type": "markdown",
   "id": "f4eec9a9-ef91-480d-bc4e-919f69fe9aea",
   "metadata": {},
   "source": [
    "### Finalise workbook"
   ]
  },
  {
   "cell_type": "code",
   "execution_count": 39,
   "id": "b6e8f472-5999-433d-83b1-d77380bf095b",
   "metadata": {},
   "outputs": [],
   "source": [
    "wb.save(inputdir / \"fireveg-trait-input-model.xlsx\")"
   ]
  },
  {
   "cell_type": "code",
   "execution_count": 72,
   "id": "1083c553-8c65-44d9-8ecb-7d2354092983",
   "metadata": {},
   "outputs": [
    {
     "name": "stdout",
     "output_type": "stream",
     "text": [
      "Database connection closed.\n"
     ]
    }
   ],
   "source": [
    "cur.close()\n",
    "        \n",
    "if conn is not None:\n",
    "    conn.close()\n",
    "    print('Database connection closed.')"
   ]
  },
  {
   "cell_type": "code",
   "execution_count": null,
   "id": "0c3f009d-90b8-4503-93ec-97b47b1d7588",
   "metadata": {},
   "outputs": [],
   "source": []
  }
 ],
 "metadata": {
  "kernelspec": {
   "display_name": "Python 3 (ipykernel)",
   "language": "python",
   "name": "python3"
  },
  "language_info": {
   "codemirror_mode": {
    "name": "ipython",
    "version": 3
   },
   "file_extension": ".py",
   "mimetype": "text/x-python",
   "name": "python",
   "nbconvert_exporter": "python",
   "pygments_lexer": "ipython3",
   "version": "3.11.3"
  }
 },
 "nbformat": 4,
 "nbformat_minor": 5
}
