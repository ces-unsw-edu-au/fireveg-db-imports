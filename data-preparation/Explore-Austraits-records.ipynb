{
 "cells": [
  {
   "cell_type": "markdown",
   "id": "80189a36-db58-4cf3-8c16-b6d302c6c352",
   "metadata": {
    "tags": []
   },
   "source": [
    "# Fireveg DB - download and explore Austrait data\n",
    "\n",
    "Author: [José R. Ferrer-Paris](https://github.com/jrfep) \n",
    "\n",
    "Date: July 2024\n",
    "\n",
    "This Jupyter Notebook includes [Python](https://www.python.org) code to download and explore data from [AusTraits](https://austraits.org/).\n",
    "\n",
    "> Falster, Gallagher et al (2021) AusTraits, a curated plant trait database for the Australian flora. Scientific Data 8: 254, <https://doi.org/10.1038/s41597-021-01006-6>"
   ]
  },
  {
   "cell_type": "markdown",
   "id": "b6d6ee52-968a-4d6d-b9f4-1fa090db91ed",
   "metadata": {},
   "source": [
    "## Set-up\n",
    "\n",
    "### Import modules\n",
    "\n",
    "Let's start loading the libraries"
   ]
  },
  {
   "cell_type": "code",
   "execution_count": 1,
   "id": "45172fe8-924a-467b-abd1-f0446bf2bd7f",
   "metadata": {},
   "outputs": [],
   "source": [
    "from pathlib import Path\n",
    "import os\n",
    "import sys\n",
    "import json\n",
    "import urllib\n",
    "from zipfile import ZipFile\n",
    "import pandas as pd\n",
    "import numpy as np\n",
    "from pybtex.database.input import bibtex\n",
    "import yaml\n",
    "# Pyprojroot for easier handling of working directory\n",
    "import pyprojroot"
   ]
  },
  {
   "cell_type": "markdown",
   "id": "d7922a07-d469-45ab-8b7c-f65c41998677",
   "metadata": {},
   "source": [
    "### Define paths for input and output"
   ]
  },
  {
   "cell_type": "markdown",
   "id": "54897a46-6e46-4179-a4e9-49c8e457e3f3",
   "metadata": {},
   "source": [
    "Define project directory using the `pyprojroot` functions, and add this to the execution path."
   ]
  },
  {
   "cell_type": "code",
   "execution_count": 2,
   "id": "c5fcded4-1ff5-4553-a3e1-db14a3c4babb",
   "metadata": {},
   "outputs": [],
   "source": [
    "repodir = pyprojroot.find_root(pyprojroot.has_dir(\".git\"))\n",
    "sys.path.append(str(repodir))"
   ]
  },
  {
   "cell_type": "markdown",
   "id": "801650b8-3cd9-48e7-a1b8-2e4a6034315e",
   "metadata": {},
   "source": [
    "Path to the folder to downloaded data:"
   ]
  },
  {
   "cell_type": "code",
   "execution_count": 3,
   "id": "dd8d76cc-a6b0-4f08-9a1d-ffbea2fcf9df",
   "metadata": {},
   "outputs": [],
   "source": [
    "outputdir = repodir / \"data/austraits/\"\n",
    "\n",
    "if not os.path.isdir(outputdir):\n",
    "    os.makedirs(outputdir)"
   ]
  },
  {
   "cell_type": "markdown",
   "id": "bacd9a6b-b1e4-4187-9d93-58a7f2e1af5e",
   "metadata": {},
   "source": [
    "### Load own functions\n",
    "\n",
    "Load functions from lib folder, we will use a function to read db credentials, one for executing database queries and three functions for extracting data from the reference description string"
   ]
  },
  {
   "cell_type": "code",
   "execution_count": 4,
   "id": "0a202af4-9bb8-431d-8a8d-d032c08f7450",
   "metadata": {},
   "outputs": [],
   "source": [
    "import lib.austraits_util as aust"
   ]
  },
  {
   "cell_type": "markdown",
   "id": "2f0d6bdc-8804-4957-8d06-7cb471880c08",
   "metadata": {
    "tags": []
   },
   "source": [
    "## Download _austraits_ data \n",
    "We will download the file from the [Zenodo repository](https://zenodo.org/record/5112001) using the API url and saving this under the data folder."
   ]
  },
  {
   "cell_type": "code",
   "execution_count": 5,
   "id": "da8629f6-8d31-4e0e-a10d-3744564bcfe5",
   "metadata": {},
   "outputs": [],
   "source": [
    "dataset_parent = \"https://zenodo.org/api/records/3568417\" # parent record\n",
    "dataset = \"https://zenodo.org/api/records/5112001\" # older version: 3.0.2\n"
   ]
  },
  {
   "cell_type": "markdown",
   "id": "709cd58c-5858-488c-835c-5768bc5a5282",
   "metadata": {},
   "source": [
    "We use urllib to open the url and read the data (if successfully connected!)"
   ]
  },
  {
   "cell_type": "code",
   "execution_count": 6,
   "id": "1e842292-3338-4622-b00d-00a129ba3fd6",
   "metadata": {},
   "outputs": [],
   "source": [
    "def getResponse(url):\n",
    "    operUrl = urllib.request.urlopen(url)\n",
    "    if(operUrl.getcode()==200):\n",
    "       data = operUrl.read()\n",
    "    else:\n",
    "       print(\"Error receiving data\", operUrl.getcode())\n",
    "    return data\n",
    "zrecord = getResponse(dataset)"
   ]
  },
  {
   "cell_type": "markdown",
   "id": "ca7623b1-4c8c-4755-9ad7-d0ceacbade18",
   "metadata": {},
   "source": [
    "Response data is in json format, need to parse it:"
   ]
  },
  {
   "cell_type": "code",
   "execution_count": 7,
   "id": "53ad7588-3ad0-4504-91f8-e9cdb051f668",
   "metadata": {},
   "outputs": [],
   "source": [
    "jsonData = json.loads(zrecord)"
   ]
  },
  {
   "cell_type": "code",
   "execution_count": 8,
   "id": "8e6ebc2e-5eda-463e-94b3-12decaa49f58",
   "metadata": {
    "tags": []
   },
   "outputs": [
    {
     "data": {
      "text/plain": [
       "dict_keys(['created', 'modified', 'id', 'conceptrecid', 'doi', 'conceptdoi', 'doi_url', 'metadata', 'title', 'links', 'updated', 'recid', 'revision', 'files', 'owners', 'status', 'stats', 'state', 'submitted'])"
      ]
     },
     "execution_count": 8,
     "metadata": {},
     "output_type": "execute_result"
    }
   ],
   "source": [
    "jsonData.keys()"
   ]
  },
  {
   "cell_type": "markdown",
   "id": "2ac5f36e-22e8-46fa-97e6-e3c5bcad4415",
   "metadata": {},
   "source": [
    "The json data includes a list of files:"
   ]
  },
  {
   "cell_type": "code",
   "execution_count": 9,
   "id": "eec45135-167d-45d3-a3af-15c9f7b49683",
   "metadata": {},
   "outputs": [
    {
     "name": "stdout",
     "output_type": "stream",
     "text": [
      "dictionary.html\n",
      "austraits-3.0.2.zip\n",
      "readme.txt\n",
      "NEWS.md\n",
      "austraits-3.0.2.rds\n"
     ]
    }
   ],
   "source": [
    "for files in jsonData['files']:\n",
    "    print(files['key'])\n"
   ]
  },
  {
   "cell_type": "markdown",
   "id": "d498b54e-58b2-4ba5-938a-bbd2561e71d2",
   "metadata": {},
   "source": [
    "We want to download the zip file with the csv_files"
   ]
  },
  {
   "cell_type": "code",
   "execution_count": 10,
   "id": "2335093e-61e3-4144-9667-8134dc72aa18",
   "metadata": {},
   "outputs": [
    {
     "name": "stdout",
     "output_type": "stream",
     "text": [
      "File exists\n"
     ]
    }
   ],
   "source": [
    "outputfile = outputdir / jsonData['files'][1]['key']\n",
    "\n",
    "if os.path.isfile(outputfile):\n",
    "    print('File exists')\n",
    "else:\n",
    "    resp = getResponse(jsonData['files'][1]['links']['self'])\n",
    "    output = open(outputfile,'wb')\n",
    "    output.write(resp)\n",
    "    output.close()"
   ]
  },
  {
   "cell_type": "markdown",
   "id": "6367e75a-0156-4b59-afc2-c1bac91894c5",
   "metadata": {},
   "source": [
    "## Explore data from one version of Austraits"
   ]
  },
  {
   "cell_type": "markdown",
   "id": "fe64cfef-e2e0-4dd1-bf39-b48c949ec244",
   "metadata": {},
   "source": [
    "What versions are available in our local folder?"
   ]
  },
  {
   "cell_type": "code",
   "execution_count": 11,
   "id": "12581008-d5fb-449d-a23d-96c312f2e2a3",
   "metadata": {},
   "outputs": [
    {
     "data": {
      "text/plain": [
       "['austraits-6.0.0.zip', 'austraits-3.0.2.zip']"
      ]
     },
     "execution_count": 11,
     "metadata": {},
     "output_type": "execute_result"
    }
   ],
   "source": [
    "os.listdir(outputdir)"
   ]
  },
  {
   "cell_type": "markdown",
   "id": "ae314f71-bcd8-4329-a1dc-44b856983aed",
   "metadata": {},
   "source": [
    "We used the version 3.0.2 before, let's try version 6.0.0.\n",
    "We will read from one of these zipfiles the data that we need:"
   ]
  },
  {
   "cell_type": "code",
   "execution_count": 12,
   "id": "5b262ca6-7b6a-4355-b678-87b939979ec9",
   "metadata": {},
   "outputs": [
    {
     "data": {
      "text/plain": [
       "['austraits-6.0.0/',\n",
       " 'austraits-6.0.0/schema.yml',\n",
       " 'austraits-6.0.0/taxa.csv',\n",
       " 'austraits-6.0.0/methods.csv',\n",
       " 'austraits-6.0.0/definitions.yml',\n",
       " 'austraits-6.0.0/build_info.md',\n",
       " 'austraits-6.0.0/contributors.csv',\n",
       " 'austraits-6.0.0/contexts.csv',\n",
       " 'austraits-6.0.0/excluded_data.csv',\n",
       " 'austraits-6.0.0/locations.csv',\n",
       " 'austraits-6.0.0/traits.csv',\n",
       " 'austraits-6.0.0/taxonomic_updates.csv',\n",
       " 'austraits-6.0.0/metadata.yml',\n",
       " 'austraits-6.0.0/sources.bib']"
      ]
     },
     "execution_count": 12,
     "metadata": {},
     "output_type": "execute_result"
    }
   ],
   "source": [
    "austversion='austraits-6.0.0'\n",
    "zfobj = ZipFile(outputdir / (austversion+\".zip\") ) \n",
    "zfobj.namelist()"
   ]
  },
  {
   "cell_type": "markdown",
   "id": "5e5efea6-0f8f-4112-a370-a16e686e7b3b",
   "metadata": {},
   "source": [
    "We will need to read the files with the definitions (in _yaml_ format), the sources or references (in _bibtex_ format) and the traits and taxonomic data (in _csv_ format)"
   ]
  },
  {
   "cell_type": "markdown",
   "id": "544660cb-548c-4129-9ed6-8a4c62d2fa3c",
   "metadata": {},
   "source": [
    "#### Read dictionary in yml format\n"
   ]
  },
  {
   "cell_type": "code",
   "execution_count": 13,
   "id": "8c525606-d89f-4632-9d84-9496d49e1cd0",
   "metadata": {},
   "outputs": [],
   "source": [
    "with zfobj.open(austversion+'/definitions.yml') as file:\n",
    "    try:\n",
    "        ATdefinitions = yaml.safe_load(file)   \n",
    "    except yaml.YAMLError as exc:\n",
    "        print(exc)"
   ]
  },
  {
   "cell_type": "code",
   "execution_count": 14,
   "id": "72f7ed2e-3b88-46d6-b447-972c905dc697",
   "metadata": {},
   "outputs": [
    {
     "data": {
      "text/plain": [
       "dict_keys(['label', 'description', 'comments', 'type', 'allowed_values_levels', 'entity_URI'])"
      ]
     },
     "execution_count": 14,
     "metadata": {},
     "output_type": "execute_result"
    }
   ],
   "source": [
    "ATdefinitions['resprouting_capacity'].keys()"
   ]
  },
  {
   "cell_type": "markdown",
   "id": "bf6b2e57-2b10-44a4-8953-6ae886c42bbb",
   "metadata": {},
   "source": [
    "#### Read references in bibtex format"
   ]
  },
  {
   "cell_type": "markdown",
   "id": "891707e0-0b65-48cf-8d74-5f83966a8c16",
   "metadata": {},
   "source": [
    "Here we parse the bibliography file, and check functions to extract reference info and reference label."
   ]
  },
  {
   "cell_type": "code",
   "execution_count": 15,
   "id": "4f249a1d-4b9b-4209-9e2a-335649ef2ac8",
   "metadata": {},
   "outputs": [],
   "source": [
    "parser = bibtex.Parser()\n",
    "ATrefs = parser.parse_bytes(zfobj.open(austversion+'/sources.bib').read())"
   ]
  },
  {
   "cell_type": "code",
   "execution_count": 16,
   "id": "bdc80684-eeac-4f72-96d3-570698f72d93",
   "metadata": {},
   "outputs": [
    {
     "name": "stdout",
     "output_type": "stream",
     "text": [
      "Kenny, Belinda; Orscheg, Corinna; Tasker, Elizabeth; Gill, Malcolm A.; Bradstock, Ross (2014) {NSW Flora Fire Response Database, v2.1}\n",
      "Kenny Orscheg Tasker Gill Bradstock 2014\n"
     ]
    }
   ],
   "source": [
    "print(aust.extract_refinfo(ATrefs,'NSWFRD_2014'))\n",
    "print(aust.extract_reflabel(ATrefs,'NSWFRD_2014'))"
   ]
  },
  {
   "cell_type": "markdown",
   "id": "19f093fb-09ba-43d5-92ea-f6c305165693",
   "metadata": {},
   "source": [
    "#### Read traits in CSV format"
   ]
  },
  {
   "cell_type": "code",
   "execution_count": 17,
   "id": "61f71822-b22d-4e38-80c6-1a005a4e949f",
   "metadata": {},
   "outputs": [],
   "source": [
    "ATtraits = pd.read_csv(zfobj.open(austversion+'/traits.csv'),\n",
    "                       low_memory=False,\n",
    "                    encoding=\"ISO-8859-1\")\n",
    "#                      encoding='cp1252')"
   ]
  },
  {
   "cell_type": "markdown",
   "id": "8fcbfbed-cffa-42a7-9223-9f5d1e699af3",
   "metadata": {},
   "source": [
    "#### Taxon information\n",
    "Read from the `taxa.csv` file and query the APNI record in json format."
   ]
  },
  {
   "cell_type": "code",
   "execution_count": 18,
   "id": "9b84fb8d-e84d-4f4f-924f-fbb71b0b3637",
   "metadata": {},
   "outputs": [],
   "source": [
    "ATtaxa = pd.read_csv(zfobj.open( austversion+'/taxa.csv'))"
   ]
  },
  {
   "cell_type": "markdown",
   "id": "82fba18e-6c6f-47cf-9568-ec71fd45f003",
   "metadata": {},
   "source": [
    "Check information from one species"
   ]
  },
  {
   "cell_type": "markdown",
   "id": "ec063f8d-e075-40a4-bb56-b5361e508eba",
   "metadata": {},
   "source": [
    "## Explore fire response traits from Austraits"
   ]
  },
  {
   "cell_type": "code",
   "execution_count": 19,
   "id": "e6d1000c-bbed-429f-95c0-83bd0ca2b0d6",
   "metadata": {},
   "outputs": [
    {
     "data": {
      "text/plain": [
       "497"
      ]
     },
     "execution_count": 19,
     "metadata": {},
     "output_type": "execute_result"
    }
   ],
   "source": [
    "alltraits = ATtraits['trait_name'].unique()\n",
    "len(alltraits)"
   ]
  },
  {
   "cell_type": "code",
   "execution_count": 20,
   "id": "ae101fc5-4d6a-4276-ac6c-4b43ffcb2892",
   "metadata": {},
   "outputs": [
    {
     "name": "stdout",
     "output_type": "stream",
     "text": [
      "seed_dormancy_class\n"
     ]
    }
   ],
   "source": [
    "for item in alltraits:\n",
    "    y = item.find(\"dorm\")\n",
    "    if y>-1:\n",
    "        print(item)"
   ]
  },
  {
   "cell_type": "code",
   "execution_count": 21,
   "id": "bdf37b04-9edd-4b36-9aa7-3cbc63236432",
   "metadata": {},
   "outputs": [],
   "source": [
    "### Dormancy type"
   ]
  },
  {
   "cell_type": "code",
   "execution_count": 22,
   "id": "7d634061-eb8c-4e44-9cdb-4755f8386a37",
   "metadata": {},
   "outputs": [
    {
     "data": {
      "text/markdown": [
       "**Description**: Physical [PATO:0002079], physiological [NCIT:C16990], and morphological [PATO:0000051] mechanisms [NCIT:C25343] that inhibit mature [PATO:0001701] seeds [PO:0009010] from germinating [GO:0009845].;Mechanisms that inhibit mature seeds from germinating and the environmental or experimental cues that allow a seed to break dormancy and germinate.\n",
       "\n",
       "**Records in Austraits**: 4171.\n",
       "\n",
       "**Allowed values**:"
      ],
      "text/plain": [
       "<IPython.core.display.Markdown object>"
      ]
     },
     "metadata": {},
     "output_type": "display_data"
    },
    {
     "data": {
      "text/markdown": [
       "*morphological_dormancy*:\n",
       "Seeds exhibit morphological dormancy, generally because an underdeveloped embryo needs to grow.\n"
      ],
      "text/plain": [
       "<IPython.core.display.Markdown object>"
      ]
     },
     "metadata": {},
     "output_type": "display_data"
    },
    {
     "data": {
      "text/markdown": [
       "*morphophysiological_dormancy*:\n",
       "Seeds exhibit morphophysiological dormancy, with both morphological and physiological dormancy mechanisms that must be overcome.\n"
      ],
      "text/plain": [
       "<IPython.core.display.Markdown object>"
      ]
     },
     "metadata": {},
     "output_type": "display_data"
    },
    {
     "data": {
      "text/markdown": [
       "*non_dormant*:\n",
       "Seeds are non-dormant.\n"
      ],
      "text/plain": [
       "<IPython.core.display.Markdown object>"
      ]
     },
     "metadata": {},
     "output_type": "display_data"
    },
    {
     "data": {
      "text/markdown": [
       "*physical_dormancy*:\n",
       "Seeds exhibit physical dormancy, due to one or more water-impermeable layers in the seed coat.\n"
      ],
      "text/plain": [
       "<IPython.core.display.Markdown object>"
      ]
     },
     "metadata": {},
     "output_type": "display_data"
    },
    {
     "data": {
      "text/markdown": [
       "*physiological_dormancy*:\n",
       "Seeds exhibit physiological dormancy, whereby chemical changes are required within the seed to break dormancy, including temperature stratification and after-ripening.\n"
      ],
      "text/plain": [
       "<IPython.core.display.Markdown object>"
      ]
     },
     "metadata": {},
     "output_type": "display_data"
    },
    {
     "data": {
      "text/markdown": [
       "Frequency of values in this version of Austraits:\n"
      ],
      "text/plain": [
       "<IPython.core.display.Markdown object>"
      ]
     },
     "metadata": {},
     "output_type": "display_data"
    },
    {
     "name": "stdout",
     "output_type": "stream",
     "text": [
      "value\n",
      "physical_dormancy                     1409\n",
      "physiological_dormancy                1347\n",
      "non_dormant                            956\n",
      "morphophysiological_dormancy           456\n",
      "non_dormant physiological_dormancy       3\n",
      "Name: count, dtype: int64\n"
     ]
    }
   ],
   "source": [
    "aust.trait_summary(ATdefinitions, ATtraits, 'seed_dormancy_class')"
   ]
  },
  {
   "cell_type": "code",
   "execution_count": 23,
   "id": "0a6e8309-fc00-4e1c-b15a-a5a88838c316",
   "metadata": {},
   "outputs": [],
   "source": [
    "### Dispersers"
   ]
  },
  {
   "cell_type": "code",
   "execution_count": 24,
   "id": "26c7cd36-7e49-4f20-89ac-4c00cc18da15",
   "metadata": {},
   "outputs": [
    {
     "data": {
      "text/markdown": [
       "**Description**: The taxa [NCIT:C40098] (biotic vectors) and abiotic mechanisms [NCIT:C25343] that disperse [OMIT: 0027297] seeds [PO:0009010] and fruit [PO:0009001] away from a parent plant.;Dominant diaspore dispersal agents, including both biotic agents (specific taxa) or abiotic mechanisms responsible for dispersing seeds (or other dispersal units) away from the parent plant.\n",
       "\n",
       "**Records in Austraits**: 13652.\n",
       "\n",
       "**Allowed values**:"
      ],
      "text/plain": [
       "<IPython.core.display.Markdown object>"
      ]
     },
     "metadata": {},
     "output_type": "display_data"
    },
    {
     "data": {
      "text/markdown": [
       "*abiotic*:\n",
       "Fruits are dispersed by unspecified abiotic mechanisms.\n"
      ],
      "text/plain": [
       "<IPython.core.display.Markdown object>"
      ]
     },
     "metadata": {},
     "output_type": "display_data"
    },
    {
     "data": {
      "text/markdown": [
       "*animals*:\n",
       "Animals are an important fruit dispersal agent.\n"
      ],
      "text/plain": [
       "<IPython.core.display.Markdown object>"
      ]
     },
     "metadata": {},
     "output_type": "display_data"
    },
    {
     "data": {
      "text/markdown": [
       "*ants*:\n",
       "Ants are an important fruit dispersal agent.\n"
      ],
      "text/plain": [
       "<IPython.core.display.Markdown object>"
      ]
     },
     "metadata": {},
     "output_type": "display_data"
    },
    {
     "data": {
      "text/markdown": [
       "*bats*:\n",
       "Bats are an important fruit dispersal agent.\n"
      ],
      "text/plain": [
       "<IPython.core.display.Markdown object>"
      ]
     },
     "metadata": {},
     "output_type": "display_data"
    },
    {
     "data": {
      "text/markdown": [
       "*birds*:\n",
       "Birds are an important fruit dispersal agent.\n"
      ],
      "text/plain": [
       "<IPython.core.display.Markdown object>"
      ]
     },
     "metadata": {},
     "output_type": "display_data"
    },
    {
     "data": {
      "text/markdown": [
       "*cassowaries*:\n",
       "Cassowaries, in contrast to smaller flying birds, are an important fruit dispersal agent.\n"
      ],
      "text/plain": [
       "<IPython.core.display.Markdown object>"
      ]
     },
     "metadata": {},
     "output_type": "display_data"
    },
    {
     "data": {
      "text/markdown": [
       "*fish*:\n",
       "Fish are an important fruit dispersal agent.\n"
      ],
      "text/plain": [
       "<IPython.core.display.Markdown object>"
      ]
     },
     "metadata": {},
     "output_type": "display_data"
    },
    {
     "data": {
      "text/markdown": [
       "*floods*:\n",
       "Floods are an important fruit dispersal agent.\n"
      ],
      "text/plain": [
       "<IPython.core.display.Markdown object>"
      ]
     },
     "metadata": {},
     "output_type": "display_data"
    },
    {
     "data": {
      "text/markdown": [
       "*flying_foxes*:\n",
       "Flying foxes are an important fruit dispersal agent.\n"
      ],
      "text/plain": [
       "<IPython.core.display.Markdown object>"
      ]
     },
     "metadata": {},
     "output_type": "display_data"
    },
    {
     "data": {
      "text/markdown": [
       "*flying_vertebrates*:\n",
       "Flying birds and bats are important fruit dispersal agents.\n"
      ],
      "text/plain": [
       "<IPython.core.display.Markdown object>"
      ]
     },
     "metadata": {},
     "output_type": "display_data"
    },
    {
     "data": {
      "text/markdown": [
       "*garden_refuse*:\n",
       "Fruit are dispersed through garden refuse.\n"
      ],
      "text/plain": [
       "<IPython.core.display.Markdown object>"
      ]
     },
     "metadata": {},
     "output_type": "display_data"
    },
    {
     "data": {
      "text/markdown": [
       "*indigenous_people*:\n",
       "Indigenous people disperse the fruit through traditional practices.\n"
      ],
      "text/plain": [
       "<IPython.core.display.Markdown object>"
      ]
     },
     "metadata": {},
     "output_type": "display_data"
    },
    {
     "data": {
      "text/markdown": [
       "*insects*:\n",
       "Insects are an important fruit dispersal agent.\n"
      ],
      "text/plain": [
       "<IPython.core.display.Markdown object>"
      ]
     },
     "metadata": {},
     "output_type": "display_data"
    },
    {
     "data": {
      "text/markdown": [
       "*invertebrates*:\n",
       "Invertebrates are an important fruit dispersal agent.\n"
      ],
      "text/plain": [
       "<IPython.core.display.Markdown object>"
      ]
     },
     "metadata": {},
     "output_type": "display_data"
    },
    {
     "data": {
      "text/markdown": [
       "*mammals*:\n",
       "Mammals are an important fruit dispersal agent.\n"
      ],
      "text/plain": [
       "<IPython.core.display.Markdown object>"
      ]
     },
     "metadata": {},
     "output_type": "display_data"
    },
    {
     "data": {
      "text/markdown": [
       "*mammals_domestic*:\n",
       "Domesticated ammals are an important fruit dispersal agent.\n"
      ],
      "text/plain": [
       "<IPython.core.display.Markdown object>"
      ]
     },
     "metadata": {},
     "output_type": "display_data"
    },
    {
     "data": {
      "text/markdown": [
       "*non-flying_vertebrates*:\n",
       "Mammals and non-flying birds (i.e. cassowary, emu) are important fruit dispersal agents.\n"
      ],
      "text/plain": [
       "<IPython.core.display.Markdown object>"
      ]
     },
     "metadata": {},
     "output_type": "display_data"
    },
    {
     "data": {
      "text/markdown": [
       "*passive*:\n",
       "There is no special dispersal agent.\n"
      ],
      "text/plain": [
       "<IPython.core.display.Markdown object>"
      ]
     },
     "metadata": {},
     "output_type": "display_data"
    },
    {
     "data": {
      "text/markdown": [
       "*rain*:\n",
       "Rain is an important fruit dispersal agent; the diaspore is propelled by action of rain on plant structure or the wetting of the plant structure by rain or dew.\n"
      ],
      "text/plain": [
       "<IPython.core.display.Markdown object>"
      ]
     },
     "metadata": {},
     "output_type": "display_data"
    },
    {
     "data": {
      "text/markdown": [
       "*rodents*:\n",
       "Rodents are an important fruit dispersal agent.\n"
      ],
      "text/plain": [
       "<IPython.core.display.Markdown object>"
      ]
     },
     "metadata": {},
     "output_type": "display_data"
    },
    {
     "data": {
      "text/markdown": [
       "*vehicles*:\n",
       "Vehicles are an important dispersal agent, such as through mud on tyres.\n"
      ],
      "text/plain": [
       "<IPython.core.display.Markdown object>"
      ]
     },
     "metadata": {},
     "output_type": "display_data"
    },
    {
     "data": {
      "text/markdown": [
       "*vertebrates*:\n",
       "Vertebrates are an important fruit dispersal agent.\n"
      ],
      "text/plain": [
       "<IPython.core.display.Markdown object>"
      ]
     },
     "metadata": {},
     "output_type": "display_data"
    },
    {
     "data": {
      "text/markdown": [
       "*water*:\n",
       "Water is an important fruit dispersal agent.\n"
      ],
      "text/plain": [
       "<IPython.core.display.Markdown object>"
      ]
     },
     "metadata": {},
     "output_type": "display_data"
    },
    {
     "data": {
      "text/markdown": [
       "*water_currents*:\n",
       "Water currents are an important fruit dispersal agent; the diaspore may be either floating or submerged in fresh/saltwater currents.\n"
      ],
      "text/plain": [
       "<IPython.core.display.Markdown object>"
      ]
     },
     "metadata": {},
     "output_type": "display_data"
    },
    {
     "data": {
      "text/markdown": [
       "*wind*:\n",
       "Wind is an important fruit dispersal agent.\n"
      ],
      "text/plain": [
       "<IPython.core.display.Markdown object>"
      ]
     },
     "metadata": {},
     "output_type": "display_data"
    },
    {
     "data": {
      "text/markdown": [
       "Frequency of values in this version of Austraits:\n"
      ],
      "text/plain": [
       "<IPython.core.display.Markdown object>"
      ]
     },
     "metadata": {},
     "output_type": "display_data"
    },
    {
     "name": "stdout",
     "output_type": "stream",
     "text": [
      "value\n",
      "wind                                      4109\n",
      "invertebrates                             2502\n",
      "birds                                     1959\n",
      "mammals                                   1008\n",
      "vertebrates                                564\n",
      "                                          ... \n",
      "vertebrates water wind                       1\n",
      "garden_refuse                                1\n",
      "abiotic animals birds vertebrates wind       1\n",
      "birds passive water                          1\n",
      "mammals water                                1\n",
      "Name: count, Length: 75, dtype: int64\n"
     ]
    }
   ],
   "source": [
    "aust.trait_summary(ATdefinitions, ATtraits, 'dispersers')"
   ]
  },
  {
   "cell_type": "code",
   "execution_count": 25,
   "id": "861f7fbf-ab98-4d4b-ab2a-cd64acebcfe7",
   "metadata": {},
   "outputs": [],
   "source": [
    "### Dispersal appendage"
   ]
  },
  {
   "cell_type": "code",
   "execution_count": 26,
   "id": "a6e10fad-48c0-483a-a768-e069f73d233b",
   "metadata": {},
   "outputs": [
    {
     "data": {
      "text/markdown": [
       "**Description**: A seed morphology trait [TO:0002629] which indicates external [NCIT:C44280] appendages [NCIT:C61460] on the seed [PO:0009010] or the seed's dispersal [OMIT: 0027297] structures [PATO:0000141] whose presumed function [NCIT:C25518] is to facilitate seed dispersal [EnvThes:21042].;External appendages of the dispersule presumed to facilitate seed dispersal away from the parent plant.\n",
       "\n",
       "**Records in Austraits**: 3417.\n",
       "\n",
       "**Allowed values**:"
      ],
      "text/plain": [
       "<IPython.core.display.Markdown object>"
      ]
     },
     "metadata": {},
     "output_type": "display_data"
    },
    {
     "data": {
      "text/markdown": [
       "*aril*:\n",
       "Fleshy outgrowth of a seed, that often attracts animals like birds or ants.\n"
      ],
      "text/plain": [
       "<IPython.core.display.Markdown object>"
      ]
     },
     "metadata": {},
     "output_type": "display_data"
    },
    {
     "data": {
      "text/markdown": [
       "*bracts_and_glumes*:\n",
       "When the bracts below the inflorescence are persistent and functional as dispersal appendages. This includes persistent glumes, the modified membranous bracts in the family Poaceae that surround the spikelet of a grass.\n"
      ],
      "text/plain": [
       "<IPython.core.display.Markdown object>"
      ]
     },
     "metadata": {},
     "output_type": "display_data"
    },
    {
     "data": {
      "text/markdown": [
       "*bristles*:\n",
       "Bristle-like projections. Trait value includes awns, which are slender, bristle-like projections in some grasses.\n"
      ],
      "text/plain": [
       "<IPython.core.display.Markdown object>"
      ]
     },
     "metadata": {},
     "output_type": "display_data"
    },
    {
     "data": {
      "text/markdown": [
       "*elaiosome*:\n",
       "Fleshy (often fatty) appendage on seeds that attracts ants.\n"
      ],
      "text/plain": [
       "<IPython.core.display.Markdown object>"
      ]
     },
     "metadata": {},
     "output_type": "display_data"
    },
    {
     "data": {
      "text/markdown": [
       "*fleshy_reward*:\n",
       "Broad term that includes a suite of appendages that provides a fleshy reward to attract dispersers; highest level of resolution available for some studies.\n"
      ],
      "text/plain": [
       "<IPython.core.display.Markdown object>"
      ]
     },
     "metadata": {},
     "output_type": "display_data"
    },
    {
     "data": {
      "text/markdown": [
       "*floating_seed*:\n",
       "Seed that is dispersed by floating on water.\n"
      ],
      "text/plain": [
       "<IPython.core.display.Markdown object>"
      ]
     },
     "metadata": {},
     "output_type": "display_data"
    },
    {
     "data": {
      "text/markdown": [
       "*floral_parts*:\n",
       "When some plant floral parts (the petals, sepals, or style) are persistent and aid in seed and fruit dispersal. This is a broad term not explicitly suggesting a dispersal mechanism.\n"
      ],
      "text/plain": [
       "<IPython.core.display.Markdown object>"
      ]
     },
     "metadata": {},
     "output_type": "display_data"
    },
    {
     "data": {
      "text/markdown": [
       "*flotation_scales*:\n",
       "Scales enhancing flotation, thereby assisting with dispersal.\n"
      ],
      "text/plain": [
       "<IPython.core.display.Markdown object>"
      ]
     },
     "metadata": {},
     "output_type": "display_data"
    },
    {
     "data": {
      "text/markdown": [
       "*hairs*:\n",
       "Modified hairs that aid in seed dispersal.\n"
      ],
      "text/plain": [
       "<IPython.core.display.Markdown object>"
      ]
     },
     "metadata": {},
     "output_type": "display_data"
    },
    {
     "data": {
      "text/markdown": [
       "*hooks*:\n",
       "A rear-facing point, as in a fish hook that aids in seed and fruit dispersal.\n"
      ],
      "text/plain": [
       "<IPython.core.display.Markdown object>"
      ]
     },
     "metadata": {},
     "output_type": "display_data"
    },
    {
     "data": {
      "text/markdown": [
       "*inflated_parts*:\n",
       "When some part of the seed, fruit, or associated tissues is inflated, aiding in seed or fruit dispersal.\n"
      ],
      "text/plain": [
       "<IPython.core.display.Markdown object>"
      ]
     },
     "metadata": {},
     "output_type": "display_data"
    },
    {
     "data": {
      "text/markdown": [
       "*none*:\n",
       "When a fruit and associated tissues lack any dispersal appendages. Includes exarillate and taxa with explicitly deciduous pappus.\n"
      ],
      "text/plain": [
       "<IPython.core.display.Markdown object>"
      ]
     },
     "metadata": {},
     "output_type": "display_data"
    },
    {
     "data": {
      "text/markdown": [
       "*pappus*:\n",
       "The calyx in Asteraceae that has been modified into bristles, hairs, scales or awns that are attached to the apex of the fruit. Taxa assigned this trait value have a persistent pappus that aids in dispersal, often, but not exclusively through wind dispersal. The pappus can also assist with flotation.\n"
      ],
      "text/plain": [
       "<IPython.core.display.Markdown object>"
      ]
     },
     "metadata": {},
     "output_type": "display_data"
    },
    {
     "data": {
      "text/markdown": [
       "*plumose*:\n",
       "Fruit, seed, style, or other floral component that is plumose and assists with dispersal.\n"
      ],
      "text/plain": [
       "<IPython.core.display.Markdown object>"
      ]
     },
     "metadata": {},
     "output_type": "display_data"
    },
    {
     "data": {
      "text/markdown": [
       "*receptacle*:\n",
       "Fleshy receptacle that aids in dispersal.\n"
      ],
      "text/plain": [
       "<IPython.core.display.Markdown object>"
      ]
     },
     "metadata": {},
     "output_type": "display_data"
    },
    {
     "data": {
      "text/markdown": [
       "*sarcotesta*:\n",
       "Fleshy seed coat that aids in dispersal.\n"
      ],
      "text/plain": [
       "<IPython.core.display.Markdown object>"
      ]
     },
     "metadata": {},
     "output_type": "display_data"
    },
    {
     "data": {
      "text/markdown": [
       "*spines*:\n",
       "Spines that aid in dispersal.\n"
      ],
      "text/plain": [
       "<IPython.core.display.Markdown object>"
      ]
     },
     "metadata": {},
     "output_type": "display_data"
    },
    {
     "data": {
      "text/markdown": [
       "*tumbleweed*:\n",
       "Plant growth form, whereby the aboveground plant component detaches from the roots and is readily rolled by wind across the ground, aiding in dispersal.\n"
      ],
      "text/plain": [
       "<IPython.core.display.Markdown object>"
      ]
     },
     "metadata": {},
     "output_type": "display_data"
    },
    {
     "data": {
      "text/markdown": [
       "*wing_or_plume*:\n",
       "Broad term that includes a suite of appendages that aid in wind dispersal; highest level of resolution available for some studies.\n"
      ],
      "text/plain": [
       "<IPython.core.display.Markdown object>"
      ]
     },
     "metadata": {},
     "output_type": "display_data"
    },
    {
     "data": {
      "text/markdown": [
       "*wings*:\n",
       "Referring to wing-like seed extensions that aid in wind dispersal.\n"
      ],
      "text/plain": [
       "<IPython.core.display.Markdown object>"
      ]
     },
     "metadata": {},
     "output_type": "display_data"
    },
    {
     "data": {
      "text/markdown": [
       "Frequency of values in this version of Austraits:\n"
      ],
      "text/plain": [
       "<IPython.core.display.Markdown object>"
      ]
     },
     "metadata": {},
     "output_type": "display_data"
    },
    {
     "name": "stdout",
     "output_type": "stream",
     "text": [
      "value\n",
      "none                       1427\n",
      "aril                        968\n",
      "wings                       250\n",
      "elaiosome                   208\n",
      "pappus                      186\n",
      "bristles                     93\n",
      "fleshy_reward                58\n",
      "hooks                        40\n",
      "wing_or_plume                39\n",
      "sarcotesta                   27\n",
      "hairs                        24\n",
      "plumose                      24\n",
      "floral_parts                 15\n",
      "spines                       10\n",
      "inflated_parts               10\n",
      "floating_seed                10\n",
      "bracts_and_glumes             9\n",
      "receptacle                    8\n",
      "bristles hairs                3\n",
      "hairs spines                  2\n",
      "flotation_scales              2\n",
      "bracts_and_glumes hairs       1\n",
      "hairs hooks                   1\n",
      "bristles floral_parts         1\n",
      "tumbleweed                    1\n",
      "Name: count, dtype: int64\n"
     ]
    }
   ],
   "source": [
    "aust.trait_summary(ATdefinitions, ATtraits, 'dispersal_appendage')"
   ]
  },
  {
   "cell_type": "code",
   "execution_count": 27,
   "id": "ea7529e6-c290-4c19-a80d-fa8145cdc21c",
   "metadata": {},
   "outputs": [],
   "source": [
    "### Dispersal syndrome"
   ]
  },
  {
   "cell_type": "code",
   "execution_count": 28,
   "id": "91ba62b3-1dd7-426b-856d-35c20a4586f0",
   "metadata": {},
   "outputs": [
    {
     "data": {
      "text/markdown": [
       "**Description**: A classification [NCIT:C25161] based on a taxon's [NCIT:C40098] seed morphology traits [TO:0000184] or fruit morphology traits [TO:0002629] that indicates the taxa (biotic vectors) or abiotic mechanisms [NCIT:C25343] that most likely disperse [OMIT: 0027297] seeds [PO:0009010] and fruit [PO:0009001] away from the parent plant.;Plant dispersal syndromes are generally assigned to species based on suites of diaspore characteristics associated with specific mechanisms of dispersal. Trait values are mostly given as the formal dispersal syndromes ending in 'chory', a suffix meaning 'a specified method of plant dispersal'.\n",
       "\n",
       "**Records in Austraits**: 17522.\n",
       "\n",
       "**Allowed values**:"
      ],
      "text/plain": [
       "<IPython.core.display.Markdown object>"
      ]
     },
     "metadata": {},
     "output_type": "display_data"
    },
    {
     "data": {
      "text/markdown": [
       "*anemochory*:\n",
       "Diaspore is dispersed by wind. (Synonyms, wind)\n"
      ],
      "text/plain": [
       "<IPython.core.display.Markdown object>"
      ]
     },
     "metadata": {},
     "output_type": "display_data"
    },
    {
     "data": {
      "text/markdown": [
       "*anthrochory*:\n",
       "Diaspore is dispersed by humans, either intentionally or unintentionally.\n"
      ],
      "text/plain": [
       "<IPython.core.display.Markdown object>"
      ]
     },
     "metadata": {},
     "output_type": "display_data"
    },
    {
     "data": {
      "text/markdown": [
       "*atelochory*:\n",
       "Diaspore dispersal is prevented. (Synonyms, antitelochory)\n"
      ],
      "text/plain": [
       "<IPython.core.display.Markdown object>"
      ]
     },
     "metadata": {},
     "output_type": "display_data"
    },
    {
     "data": {
      "text/markdown": [
       "*autochory*:\n",
       "Diaspore is dispersed by methods originating from the parent plant or diaspore.\n"
      ],
      "text/plain": [
       "<IPython.core.display.Markdown object>"
      ]
     },
     "metadata": {},
     "output_type": "display_data"
    },
    {
     "data": {
      "text/markdown": [
       "*ballistic*:\n",
       "Seeds are launched away from the plant by explosion as soon as the seed capsule opens.\n"
      ],
      "text/plain": [
       "<IPython.core.display.Markdown object>"
      ]
     },
     "metadata": {},
     "output_type": "display_data"
    },
    {
     "data": {
      "text/markdown": [
       "*barochory*:\n",
       "Diaspores are dispersed without assistance. (Synonyms, gravity, mobile, unassisted, passive)\n"
      ],
      "text/plain": [
       "<IPython.core.display.Markdown object>"
      ]
     },
     "metadata": {},
     "output_type": "display_data"
    },
    {
     "data": {
      "text/markdown": [
       "*chamaechory*:\n",
       "Diaspore is dispersed by being rolled along ground surface by wind.\n"
      ],
      "text/plain": [
       "<IPython.core.display.Markdown object>"
      ]
     },
     "metadata": {},
     "output_type": "display_data"
    },
    {
     "data": {
      "text/markdown": [
       "*endozoochory*:\n",
       "Diaspore is ingested by animals, either intentionally or accidentally, then transported before being deposited. (Synonyms, ingestion)\n"
      ],
      "text/plain": [
       "<IPython.core.display.Markdown object>"
      ]
     },
     "metadata": {},
     "output_type": "display_data"
    },
    {
     "data": {
      "text/markdown": [
       "*epizoochory*:\n",
       "Diaspore is dispersed by accidentally attaching itself to the outside of an animal vector. (Synonyms, ectozoochory, exozoochory)\n"
      ],
      "text/plain": [
       "<IPython.core.display.Markdown object>"
      ]
     },
     "metadata": {},
     "output_type": "display_data"
    },
    {
     "data": {
      "text/markdown": [
       "*hydrochory*:\n",
       "Diaspore is dispersed on the surface of water. (Synonyms, water)\n"
      ],
      "text/plain": [
       "<IPython.core.display.Markdown object>"
      ]
     },
     "metadata": {},
     "output_type": "display_data"
    },
    {
     "data": {
      "text/markdown": [
       "*myrmecochory*:\n",
       "Diaspores have elaiosomes (specialised nutritious appendages) that make them attractive for capture, transport and use by ants or related insects.\n"
      ],
      "text/plain": [
       "<IPython.core.display.Markdown object>"
      ]
     },
     "metadata": {},
     "output_type": "display_data"
    },
    {
     "data": {
      "text/markdown": [
       "*undefined*:\n",
       "Dispersal mechanism unknown. (Synonyms, unknown)\n"
      ],
      "text/plain": [
       "<IPython.core.display.Markdown object>"
      ]
     },
     "metadata": {},
     "output_type": "display_data"
    },
    {
     "data": {
      "text/markdown": [
       "*zoochory*:\n",
       "Diaspore is dispersed by animals, by an undescribed mechanism.\n"
      ],
      "text/plain": [
       "<IPython.core.display.Markdown object>"
      ]
     },
     "metadata": {},
     "output_type": "display_data"
    },
    {
     "data": {
      "text/markdown": [
       "Frequency of values in this version of Austraits:\n"
      ],
      "text/plain": [
       "<IPython.core.display.Markdown object>"
      ]
     },
     "metadata": {},
     "output_type": "display_data"
    },
    {
     "name": "stdout",
     "output_type": "stream",
     "text": [
      "value\n",
      "anemochory                                      5210\n",
      "zoochory                                        3335\n",
      "barochory                                       2256\n",
      "epizoochory                                     2154\n",
      "endozoochory                                    1531\n",
      "myrmecochory                                     760\n",
      "hydrochory                                       534\n",
      "barochory myrmecochory                           408\n",
      "undefined                                        182\n",
      "barochory endozoochory myrmecochory              174\n",
      "anemochory barochory                             173\n",
      "ballistic                                        125\n",
      "barochory zoochory                               104\n",
      "ballistic myrmecochory                            94\n",
      "anemochory hydrochory                             41\n",
      "anemochory hydrochory zoochory                    35\n",
      "barochory myrmecochory zoochory                   34\n",
      "epizoochory myrmecochory                          29\n",
      "anemochory ballistic                              25\n",
      "epizoochory zoochory                              24\n",
      "anemochory epizoochory                            23\n",
      "anemochory epizoochory zoochory                   19\n",
      "hydrochory myrmecochory                           15\n",
      "barochory hydrochory                              15\n",
      "epizoochory hydrochory                            15\n",
      "epizoochory hydrochory zoochory                   14\n",
      "myrmecochory zoochory                             14\n",
      "anemochory endozoochory zoochory                  14\n",
      "anemochory barochory myrmecochory zoochory        14\n",
      "endozoochory hydrochory zoochory                  13\n",
      "anemochory epizoochory hydrochory zoochory        13\n",
      "endozoochory zoochory                             11\n",
      "endozoochory myrmecochory                         10\n",
      "anemochory epizoochory hydrochory                  9\n",
      "anemochory barochory endozoochory zoochory         8\n",
      "anemochory myrmecochory                            7\n",
      "hydrochory zoochory                                7\n",
      "ballistic myrmecochory zoochory                    7\n",
      "endozoochory epizoochory hydrochory zoochory       6\n",
      "anemochory myrmecochory zoochory                   6\n",
      "hydrochory myrmecochory zoochory                   6\n",
      "anemochory ballistic barochory                     5\n",
      "barochory endozoochory                             5\n",
      "autochory                                          4\n",
      "ballistic barochory                                4\n",
      "barochory epizoochory                              4\n",
      "anemochory barochory epizoochory zoochory          3\n",
      "ballistic zoochory                                 3\n",
      "anthrochory                                        3\n",
      "endozoochory epizoochory                           3\n",
      "ballistic endozoochory myrmecochory zoochory       2\n",
      "ballistic barochory myrmecochory                   2\n",
      "barochory endozoochory myrmecochory zoochory       2\n",
      "anemochory zoochory                                2\n",
      "ballistic barochory endozoochory                   2\n",
      "barochory hydrochory zoochory                      1\n",
      "atelochory                                         1\n",
      "endozoochory hydrochory                            1\n",
      "anemochory anthrochory hydrochory zoochory         1\n",
      "Name: count, dtype: int64\n"
     ]
    }
   ],
   "source": [
    "aust.trait_summary(ATdefinitions, ATtraits, 'dispersal_syndrome')"
   ]
  },
  {
   "cell_type": "markdown",
   "id": "d4b2ca80-fd55-427a-9a30-a33b967f4653",
   "metadata": {
    "jp-MarkdownHeadingCollapsed": true
   },
   "source": [
    "### Resprouting capacity"
   ]
  },
  {
   "cell_type": "markdown",
   "id": "1cea1452-b879-47af-b02c-59d81c0bcc77",
   "metadata": {},
   "source": [
    "The Austrait variable used to be called 'fire_response' in version 3.0.2, and is now called 'resprouting_capacity' in version 6.0.0 "
   ]
  },
  {
   "cell_type": "code",
   "execution_count": 29,
   "id": "ad6e8ca9-a88a-48f7-bb35-e04e739d5895",
   "metadata": {},
   "outputs": [
    {
     "data": {
      "text/markdown": [
       "**Description**: A fire response trait which indicates whether mature [PATO:0001701] plants [PO:0000003] from a taxon [NCIT:C40098] or population [PCO:0000001] are killed or have vegetative meristematic tissue [PO:0006079] (buds [PO:0000055]) that resprout [Cerrado:fire#PlantResprout] following a fire [ENVO:01000786] that causes 100% leaf scorch, with fire severity index [EnvThes:22120] an important contextual variable.;Trait indicating whether mature individuals of a taxon are killed, resprout, or have a mixed survival response when exposed to fire that causes 100% leaf scorch.  Species where at least 70% of plants resprout are designated `resprouters`, while those where fewer than 30% of plants resprout are designated as `fire killed`. Species with an intermediate response have a mixed fire response, and are coded as `fire_killed resprouts`.\n",
       "\n",
       "**Records in Austraits**: 29896.\n",
       "\n",
       "**Allowed values**:"
      ],
      "text/plain": [
       "<IPython.core.display.Markdown object>"
      ]
     },
     "metadata": {},
     "output_type": "display_data"
    },
    {
     "data": {
      "text/markdown": [
       "*fire_killed*:\n",
       "Fewer than 30% of plants resprout following a fire with 100% leaf scorch. (Synonyms, fire-sensitive)\n"
      ],
      "text/plain": [
       "<IPython.core.display.Markdown object>"
      ]
     },
     "metadata": {},
     "output_type": "display_data"
    },
    {
     "data": {
      "text/markdown": [
       "*partial_resprouting*:\n",
       "Between 30-70% of plants resprout following a fire with 100% leaf scorch.\n"
      ],
      "text/plain": [
       "<IPython.core.display.Markdown object>"
      ]
     },
     "metadata": {},
     "output_type": "display_data"
    },
    {
     "data": {
      "text/markdown": [
       "*resprouts*:\n",
       "More than 70% of plants resprout following a fire with 100% leaf scorch.\n"
      ],
      "text/plain": [
       "<IPython.core.display.Markdown object>"
      ]
     },
     "metadata": {},
     "output_type": "display_data"
    },
    {
     "data": {
      "text/markdown": [
       "Frequency of values in this version of Austraits:\n"
      ],
      "text/plain": [
       "<IPython.core.display.Markdown object>"
      ]
     },
     "metadata": {},
     "output_type": "display_data"
    },
    {
     "name": "stdout",
     "output_type": "stream",
     "text": [
      "value\n",
      "resprouts                                    16951\n",
      "fire_killed                                  11132\n",
      "partial_resprouting                           1500\n",
      "fire_killed resprouts                          233\n",
      "fire_killed partial_resprouting                 47\n",
      "partial_resprouting resprouts                   30\n",
      "fire_killed partial_resprouting resprouts        3\n",
      "Name: count, dtype: int64\n"
     ]
    }
   ],
   "source": [
    "aust.trait_summary(ATdefinitions, ATtraits, 'resprouting_capacity')"
   ]
  },
  {
   "cell_type": "markdown",
   "id": "808f1e1d-bdec-44a5-81d4-2fc4dd07d5e1",
   "metadata": {},
   "source": [
    "We used these rules to transform values from Austraits (v3.0.2) into the resprouting vocabulary"
   ]
  },
  {
   "cell_type": "code",
   "execution_count": 30,
   "id": "e5d74188-af36-42d1-90eb-f2101ad99279",
   "metadata": {},
   "outputs": [],
   "source": [
    "switcher={\n",
    "        \"fire_killed\": \"None\",\n",
    "        'not_fire_killed_does_not_resprout': \"None\",\n",
    "        'fire_not_relevant': 'Unknown', \n",
    "        'fire_killed resprouts': 'Half',\n",
    "        'unknown': 'Unknown',\n",
    "        \"resprouts\": \"All\"\n",
    "    }"
   ]
  },
  {
   "cell_type": "markdown",
   "id": "0580ff24-c53f-4ea7-becd-01f954286d37",
   "metadata": {},
   "source": [
    "We are using these rules to transform values from Austraits (v6.0.0) into the resprouting vocabulary"
   ]
  },
  {
   "cell_type": "code",
   "execution_count": 31,
   "id": "662c0928-7fa7-488f-a5b2-718eff665d36",
   "metadata": {},
   "outputs": [],
   "source": [
    "switcher={\n",
    "        \"fire_killed\": \"None\",\n",
    "        'fire_killed resprouts': 'Half',\n",
    "        \"resprouts\": \"All\",\n",
    "        \"partial_resprouting\": \"Half\",\n",
    "        \"fire_killed partial_resprouting\": \"Half\",\n",
    "        \"partial_resprouting resprouts\": \"Half\",\n",
    "        \"fire_killed partial_resprouting resprouts\": \"Half\"\n",
    "    }"
   ]
  },
  {
   "cell_type": "markdown",
   "id": "3ff4414b-03bc-4a56-af68-f2d19ea26cf5",
   "metadata": {},
   "source": [
    "Some examples of the records for this trait:"
   ]
  },
  {
   "cell_type": "code",
   "execution_count": 32,
   "id": "14183914-6ec4-4520-ad7b-322162005ad1",
   "metadata": {},
   "outputs": [
    {
     "data": {
      "text/html": [
       "<div>\n",
       "<style scoped>\n",
       "    .dataframe tbody tr th:only-of-type {\n",
       "        vertical-align: middle;\n",
       "    }\n",
       "\n",
       "    .dataframe tbody tr th {\n",
       "        vertical-align: top;\n",
       "    }\n",
       "\n",
       "    .dataframe thead th {\n",
       "        text-align: right;\n",
       "    }\n",
       "</style>\n",
       "<table border=\"1\" class=\"dataframe\">\n",
       "  <thead>\n",
       "    <tr style=\"text-align: right;\">\n",
       "      <th></th>\n",
       "      <th>dataset_id</th>\n",
       "      <th>taxon_name</th>\n",
       "      <th>observation_id</th>\n",
       "      <th>trait_name</th>\n",
       "      <th>value</th>\n",
       "      <th>unit</th>\n",
       "      <th>entity_type</th>\n",
       "      <th>value_type</th>\n",
       "      <th>basis_of_value</th>\n",
       "      <th>replicates</th>\n",
       "      <th>...</th>\n",
       "      <th>source_id</th>\n",
       "      <th>location_id</th>\n",
       "      <th>entity_context_id</th>\n",
       "      <th>plot_context_id</th>\n",
       "      <th>treatment_context_id</th>\n",
       "      <th>collection_date</th>\n",
       "      <th>measurement_remarks</th>\n",
       "      <th>method_id</th>\n",
       "      <th>method_context_id</th>\n",
       "      <th>original_name</th>\n",
       "    </tr>\n",
       "  </thead>\n",
       "  <tbody>\n",
       "    <tr>\n",
       "      <th>256311</th>\n",
       "      <td>Auld_2000</td>\n",
       "      <td>Anisopogon avenaceus</td>\n",
       "      <td>1</td>\n",
       "      <td>resprouting_capacity</td>\n",
       "      <td>resprouts</td>\n",
       "      <td>NaN</td>\n",
       "      <td>population</td>\n",
       "      <td>mode</td>\n",
       "      <td>expert_score</td>\n",
       "      <td>NaN</td>\n",
       "      <td>...</td>\n",
       "      <td>NaN</td>\n",
       "      <td>6.0</td>\n",
       "      <td>NaN</td>\n",
       "      <td>NaN</td>\n",
       "      <td>NaN</td>\n",
       "      <td>1990/1992</td>\n",
       "      <td>NaN</td>\n",
       "      <td>1.0</td>\n",
       "      <td>NaN</td>\n",
       "      <td>Anisopogon avenaceus</td>\n",
       "    </tr>\n",
       "    <tr>\n",
       "      <th>256314</th>\n",
       "      <td>Auld_2000</td>\n",
       "      <td>Asterolasia elegans</td>\n",
       "      <td>2</td>\n",
       "      <td>resprouting_capacity</td>\n",
       "      <td>fire_killed</td>\n",
       "      <td>NaN</td>\n",
       "      <td>population</td>\n",
       "      <td>mode</td>\n",
       "      <td>expert_score</td>\n",
       "      <td>NaN</td>\n",
       "      <td>...</td>\n",
       "      <td>NaN</td>\n",
       "      <td>7.0</td>\n",
       "      <td>NaN</td>\n",
       "      <td>NaN</td>\n",
       "      <td>NaN</td>\n",
       "      <td>1990/1992</td>\n",
       "      <td>NaN</td>\n",
       "      <td>1.0</td>\n",
       "      <td>NaN</td>\n",
       "      <td>Asterolasia elegans</td>\n",
       "    </tr>\n",
       "    <tr>\n",
       "      <th>256318</th>\n",
       "      <td>Auld_2000</td>\n",
       "      <td>Comesperma ericinum</td>\n",
       "      <td>3</td>\n",
       "      <td>resprouting_capacity</td>\n",
       "      <td>fire_killed</td>\n",
       "      <td>NaN</td>\n",
       "      <td>population</td>\n",
       "      <td>mode</td>\n",
       "      <td>expert_score</td>\n",
       "      <td>NaN</td>\n",
       "      <td>...</td>\n",
       "      <td>NaN</td>\n",
       "      <td>5.0</td>\n",
       "      <td>NaN</td>\n",
       "      <td>NaN</td>\n",
       "      <td>NaN</td>\n",
       "      <td>1990/1992</td>\n",
       "      <td>NaN</td>\n",
       "      <td>1.0</td>\n",
       "      <td>NaN</td>\n",
       "      <td>Comesperma ericinum</td>\n",
       "    </tr>\n",
       "    <tr>\n",
       "      <th>256322</th>\n",
       "      <td>Auld_2000</td>\n",
       "      <td>Conospermum taxifolium</td>\n",
       "      <td>4</td>\n",
       "      <td>resprouting_capacity</td>\n",
       "      <td>fire_killed</td>\n",
       "      <td>NaN</td>\n",
       "      <td>population</td>\n",
       "      <td>mode</td>\n",
       "      <td>expert_score</td>\n",
       "      <td>NaN</td>\n",
       "      <td>...</td>\n",
       "      <td>NaN</td>\n",
       "      <td>6.0</td>\n",
       "      <td>NaN</td>\n",
       "      <td>NaN</td>\n",
       "      <td>NaN</td>\n",
       "      <td>1990/1992</td>\n",
       "      <td>NaN</td>\n",
       "      <td>1.0</td>\n",
       "      <td>NaN</td>\n",
       "      <td>Conospermum taxifolium</td>\n",
       "    </tr>\n",
       "    <tr>\n",
       "      <th>256326</th>\n",
       "      <td>Auld_2000</td>\n",
       "      <td>Darwinia biflora</td>\n",
       "      <td>5</td>\n",
       "      <td>resprouting_capacity</td>\n",
       "      <td>fire_killed</td>\n",
       "      <td>NaN</td>\n",
       "      <td>population</td>\n",
       "      <td>mode</td>\n",
       "      <td>expert_score</td>\n",
       "      <td>NaN</td>\n",
       "      <td>...</td>\n",
       "      <td>NaN</td>\n",
       "      <td>1.0</td>\n",
       "      <td>NaN</td>\n",
       "      <td>NaN</td>\n",
       "      <td>NaN</td>\n",
       "      <td>1990/1992</td>\n",
       "      <td>NaN</td>\n",
       "      <td>1.0</td>\n",
       "      <td>NaN</td>\n",
       "      <td>Darwinia biflora</td>\n",
       "    </tr>\n",
       "  </tbody>\n",
       "</table>\n",
       "<p>5 rows × 26 columns</p>\n",
       "</div>"
      ],
      "text/plain": [
       "       dataset_id              taxon_name  observation_id   \n",
       "256311  Auld_2000    Anisopogon avenaceus               1  \\\n",
       "256314  Auld_2000     Asterolasia elegans               2   \n",
       "256318  Auld_2000     Comesperma ericinum               3   \n",
       "256322  Auld_2000  Conospermum taxifolium               4   \n",
       "256326  Auld_2000        Darwinia biflora               5   \n",
       "\n",
       "                  trait_name        value unit entity_type value_type   \n",
       "256311  resprouting_capacity    resprouts  NaN  population       mode  \\\n",
       "256314  resprouting_capacity  fire_killed  NaN  population       mode   \n",
       "256318  resprouting_capacity  fire_killed  NaN  population       mode   \n",
       "256322  resprouting_capacity  fire_killed  NaN  population       mode   \n",
       "256326  resprouting_capacity  fire_killed  NaN  population       mode   \n",
       "\n",
       "       basis_of_value replicates  ... source_id location_id entity_context_id   \n",
       "256311   expert_score        NaN  ...       NaN         6.0               NaN  \\\n",
       "256314   expert_score        NaN  ...       NaN         7.0               NaN   \n",
       "256318   expert_score        NaN  ...       NaN         5.0               NaN   \n",
       "256322   expert_score        NaN  ...       NaN         6.0               NaN   \n",
       "256326   expert_score        NaN  ...       NaN         1.0               NaN   \n",
       "\n",
       "        plot_context_id  treatment_context_id  collection_date   \n",
       "256311              NaN                   NaN        1990/1992  \\\n",
       "256314              NaN                   NaN        1990/1992   \n",
       "256318              NaN                   NaN        1990/1992   \n",
       "256322              NaN                   NaN        1990/1992   \n",
       "256326              NaN                   NaN        1990/1992   \n",
       "\n",
       "       measurement_remarks  method_id  method_context_id   \n",
       "256311                 NaN        1.0                NaN  \\\n",
       "256314                 NaN        1.0                NaN   \n",
       "256318                 NaN        1.0                NaN   \n",
       "256322                 NaN        1.0                NaN   \n",
       "256326                 NaN        1.0                NaN   \n",
       "\n",
       "                 original_name  \n",
       "256311    Anisopogon avenaceus  \n",
       "256314     Asterolasia elegans  \n",
       "256318     Comesperma ericinum  \n",
       "256322  Conospermum taxifolium  \n",
       "256326        Darwinia biflora  \n",
       "\n",
       "[5 rows x 26 columns]"
      ]
     },
     "execution_count": 32,
     "metadata": {},
     "output_type": "execute_result"
    }
   ],
   "source": [
    "ss = (ATtraits['trait_name']=='resprouting_capacity')\n",
    "target = ATtraits[ss].head()\n",
    "target"
   ]
  },
  {
   "cell_type": "markdown",
   "id": "74ad6284-f746-45ea-b37e-5a65de1d871f",
   "metadata": {},
   "source": [
    "This is how one record looks like:"
   ]
  },
  {
   "cell_type": "code",
   "execution_count": 33,
   "id": "ab3c57de-4007-490b-b79d-d6504e4a8aac",
   "metadata": {},
   "outputs": [
    {
     "data": {
      "text/plain": [
       "dataset_id                           Auld_2000\n",
       "taxon_name                 Asterolasia elegans\n",
       "observation_id                               2\n",
       "trait_name                resprouting_capacity\n",
       "value                              fire_killed\n",
       "unit                                       NaN\n",
       "entity_type                         population\n",
       "value_type                                mode\n",
       "basis_of_value                    expert_score\n",
       "replicates                                 NaN\n",
       "basis_of_record               field_experiment\n",
       "life_stage                               adult\n",
       "population_id                               04\n",
       "individual_id                              NaN\n",
       "repeat_measurements_id                     NaN\n",
       "temporal_context_id                        NaN\n",
       "source_id                                  NaN\n",
       "location_id                                7.0\n",
       "entity_context_id                          NaN\n",
       "plot_context_id                            NaN\n",
       "treatment_context_id                       NaN\n",
       "collection_date                      1990/1992\n",
       "measurement_remarks                        NaN\n",
       "method_id                                  1.0\n",
       "method_context_id                          NaN\n",
       "original_name              Asterolasia elegans\n",
       "Name: 256314, dtype: object"
      ]
     },
     "execution_count": 33,
     "metadata": {},
     "output_type": "execute_result"
    }
   ],
   "source": [
    "target.iloc[1]"
   ]
  },
  {
   "cell_type": "markdown",
   "id": "40177ae5-d540-48f8-985d-a76bf7dcaebb",
   "metadata": {},
   "source": [
    "And we can transform this into a record for the fireveg database using a custom function:"
   ]
  },
  {
   "cell_type": "code",
   "execution_count": 34,
   "id": "3ce056a5-5993-4370-9bf5-891dc8562d21",
   "metadata": {},
   "outputs": [
    {
     "data": {
      "text/plain": [
       "{'main_source': 'austraits-6.0.0',\n",
       " 'additional_notes': ['Values reclassified by JRFP',\n",
       "  'Automatic extraction with python script'],\n",
       " 'raw_value': ['resprouting_capacity', 'resprouts', 'mode'],\n",
       " 'original_notes': ['observation_id', '1', 'location id:', '6.0'],\n",
       " 'original_sources': ['Auld Keith Bradstock 2000'],\n",
       " 'species': 'Anisopogon avenaceus',\n",
       " 'species_code': '4749',\n",
       " 'weight': 1,\n",
       " 'weight_notes': ['python-script import', 'default of 1'],\n",
       " 'norm_value': 'All'}"
      ]
     },
     "execution_count": 34,
     "metadata": {},
     "output_type": "execute_result"
    }
   ],
   "source": [
    "BIONET = pd.read_excel(repodir/ \"data\" / \"vis-survey-datasheet-6000.PowerQuery.20210708.xlsx\")\n",
    "target.fillna(\"nan\",inplace=True)\n",
    "reflist=list()\n",
    "records=list()\n",
    "for idx, row in target.iterrows():\n",
    "    record=aust.create_record(row, ATrefs, vocab=switcher, taxlist=BIONET)\n",
    "    refid=row['dataset_id']\n",
    "    if refid not in reflist:\n",
    "        reflist.append(refid)\n",
    "    refid=row['source_id']\n",
    "    if refid not in reflist:\n",
    "        reflist.append(refid)\n",
    "    records.append(record)\n",
    "records[0]"
   ]
  },
  {
   "cell_type": "markdown",
   "id": "1a616d04-221d-4427-9795-218f4a864b54",
   "metadata": {},
   "source": [
    "### Post fire flowering"
   ]
  },
  {
   "cell_type": "code",
   "execution_count": 35,
   "id": "15699fce-b589-48f3-be1a-d3f98554999c",
   "metadata": {},
   "outputs": [
    {
     "data": {
      "text/markdown": [
       "**Description**: A fire response trait which is a taxon's [NCIT:C40098] flowering [PO:0007016] response [NCIT:C25755] to fire [ENVO:01000786], indicating if the magnitude [NCIT_C49158] of flowers [PO:0009046] increases, decreases or remains unchanged following a fire.;Indication of whether the magnitude of flowers produced by a taxon increases, decreases or remains unchanged following a fire.\n",
       "\n",
       "**Records in Austraits**: 431.\n",
       "\n",
       "**Allowed values**:"
      ],
      "text/plain": [
       "<IPython.core.display.Markdown object>"
      ]
     },
     "metadata": {},
     "output_type": "display_data"
    },
    {
     "data": {
      "text/markdown": [
       "*fire_dependent_flowering*:\n",
       "Plants predominantly flower after a fire, usually within the first 1-4 growing seasons following the fire.\n"
      ],
      "text/plain": [
       "<IPython.core.display.Markdown object>"
      ]
     },
     "metadata": {},
     "output_type": "display_data"
    },
    {
     "data": {
      "text/markdown": [
       "*fire_enhanced_flowering*:\n",
       "Flowering is enhanced after a fire, with plants flowering more prolifically for the first 1-4 growing seasons following the fire.\n"
      ],
      "text/plain": [
       "<IPython.core.display.Markdown object>"
      ]
     },
     "metadata": {},
     "output_type": "display_data"
    },
    {
     "data": {
      "text/markdown": [
       "*fire_independent_flowering*:\n",
       "Flowering is independent of fire, with the magnitude of flowers produced by plants unchanged following a fire.\n"
      ],
      "text/plain": [
       "<IPython.core.display.Markdown object>"
      ]
     },
     "metadata": {},
     "output_type": "display_data"
    },
    {
     "data": {
      "text/markdown": [
       "*fire_suppressed_flowering*:\n",
       "Flowering is suppressed or absent after a fire, with plants producing fewer flowers for at least the first 1-4 growing seasons following the fire.\n"
      ],
      "text/plain": [
       "<IPython.core.display.Markdown object>"
      ]
     },
     "metadata": {},
     "output_type": "display_data"
    },
    {
     "data": {
      "text/markdown": [
       "Frequency of values in this version of Austraits:\n"
      ],
      "text/plain": [
       "<IPython.core.display.Markdown object>"
      ]
     },
     "metadata": {},
     "output_type": "display_data"
    },
    {
     "name": "stdout",
     "output_type": "stream",
     "text": [
      "value\n",
      "fire_enhanced_flowering                                314\n",
      "fire_independent_flowering                              68\n",
      "fire_dependent_flowering                                40\n",
      "fire_suppressed_flowering                                6\n",
      "fire_dependent_flowering fire_independent_flowering      1\n",
      "fire_dependent_flowering fire_enhanced_flowering         1\n",
      "fire_enhanced_flowering fire_suppressed_flowering        1\n",
      "Name: count, dtype: int64\n"
     ]
    }
   ],
   "source": [
    "aust.trait_summary(ATdefinitions, ATtraits, 'post_fire_flowering')"
   ]
  },
  {
   "cell_type": "markdown",
   "id": "45bb1e43-2a99-41de-9b32-0a1088d7753e",
   "metadata": {
    "jp-MarkdownHeadingCollapsed": true
   },
   "source": [
    "### Seedbank location"
   ]
  },
  {
   "cell_type": "code",
   "execution_count": 36,
   "id": "58ed836d-278e-41ff-84b8-b58532047a53",
   "metadata": {},
   "outputs": [
    {
     "data": {
      "text/markdown": [
       "**Description**: The location [NCIT:C25341] of a plant's [PO:0000003] seedbank [MESH:D000068098], indicating locations where mature [PATO:0001701] seeds [PO:0009010] are stored and remain viable [PATO:0000169] until germination [GO:0009845].;Location of a plant's seedbank, the location where mature seeds are stored and viable until germinating.\n",
       "\n",
       "**Records in Austraits**: 4164.\n",
       "\n",
       "**Allowed values**:"
      ],
      "text/plain": [
       "<IPython.core.display.Markdown object>"
      ]
     },
     "metadata": {},
     "output_type": "display_data"
    },
    {
     "data": {
      "text/markdown": [
       "*canopy_seedbank*:\n",
       "Seeds stored in the canopy, usually still within a woody cone.\n"
      ],
      "text/plain": [
       "<IPython.core.display.Markdown object>"
      ]
     },
     "metadata": {},
     "output_type": "display_data"
    },
    {
     "data": {
      "text/markdown": [
       "*canopy_seedbank_absent*:\n",
       "Seed explicitly not stored in the canopy.\n"
      ],
      "text/plain": [
       "<IPython.core.display.Markdown object>"
      ]
     },
     "metadata": {},
     "output_type": "display_data"
    },
    {
     "data": {
      "text/markdown": [
       "*none*:\n",
       "Seeds are not stored.\n"
      ],
      "text/plain": [
       "<IPython.core.display.Markdown object>"
      ]
     },
     "metadata": {},
     "output_type": "display_data"
    },
    {
     "data": {
      "text/markdown": [
       "*seedbank*:\n",
       "A seedbank exists, but its locations is not specified.\n"
      ],
      "text/plain": [
       "<IPython.core.display.Markdown object>"
      ]
     },
     "metadata": {},
     "output_type": "display_data"
    },
    {
     "data": {
      "text/markdown": [
       "*soil_seedbank*:\n",
       "Seeds stored in the soil.\n"
      ],
      "text/plain": [
       "<IPython.core.display.Markdown object>"
      ]
     },
     "metadata": {},
     "output_type": "display_data"
    },
    {
     "data": {
      "text/markdown": [
       "*soil_seedbank_absent*:\n",
       "Seed explicitly not stored in the soil.\n"
      ],
      "text/plain": [
       "<IPython.core.display.Markdown object>"
      ]
     },
     "metadata": {},
     "output_type": "display_data"
    },
    {
     "data": {
      "text/markdown": [
       "Frequency of values in this version of Austraits:\n"
      ],
      "text/plain": [
       "<IPython.core.display.Markdown object>"
      ]
     },
     "metadata": {},
     "output_type": "display_data"
    },
    {
     "name": "stdout",
     "output_type": "stream",
     "text": [
      "value\n",
      "soil_seedbank                                  2525\n",
      "canopy_seedbank                                 696\n",
      "canopy_seedbank_absent soil_seedbank            369\n",
      "canopy_seedbank_absent                          210\n",
      "canopy_seedbank soil_seedbank_absent            175\n",
      "none                                            109\n",
      "soil_seedbank_absent                             53\n",
      "canopy_seedbank_absent soil_seedbank_absent      22\n",
      "canopy_seedbank soil_seedbank                     5\n",
      "Name: count, dtype: int64\n"
     ]
    }
   ],
   "source": [
    "aust.trait_summary(ATdefinitions, ATtraits, 'seedbank_location')"
   ]
  },
  {
   "cell_type": "markdown",
   "id": "6cd574cc-ae7f-4edc-9f14-b722fa782eaa",
   "metadata": {
    "jp-MarkdownHeadingCollapsed": true
   },
   "source": [
    "## Explore traits per taxon name"
   ]
  },
  {
   "cell_type": "markdown",
   "id": "7e7ca58c-0bd7-48b0-894e-ceabf2a853d3",
   "metadata": {},
   "source": [
    "Example of how to query information for a single species."
   ]
  },
  {
   "cell_type": "code",
   "execution_count": 37,
   "id": "04ee160a-f311-4863-b28f-33da75ace80e",
   "metadata": {},
   "outputs": [
    {
     "data": {
      "text/html": [
       "<div>\n",
       "<style scoped>\n",
       "    .dataframe tbody tr th:only-of-type {\n",
       "        vertical-align: middle;\n",
       "    }\n",
       "\n",
       "    .dataframe tbody tr th {\n",
       "        vertical-align: top;\n",
       "    }\n",
       "\n",
       "    .dataframe thead th {\n",
       "        text-align: right;\n",
       "    }\n",
       "</style>\n",
       "<table border=\"1\" class=\"dataframe\">\n",
       "  <thead>\n",
       "    <tr style=\"text-align: right;\">\n",
       "      <th></th>\n",
       "      <th>taxon_name</th>\n",
       "      <th>taxon_rank</th>\n",
       "      <th>taxonomic_status</th>\n",
       "      <th>taxonomic_dataset</th>\n",
       "      <th>taxon_name_alternatives</th>\n",
       "      <th>genus</th>\n",
       "      <th>family</th>\n",
       "      <th>binomial</th>\n",
       "      <th>trinomial</th>\n",
       "      <th>taxon_distribution</th>\n",
       "      <th>establishment_means</th>\n",
       "      <th>scientific_name</th>\n",
       "      <th>taxon_id</th>\n",
       "      <th>taxon_id_genus</th>\n",
       "      <th>taxon_id_family</th>\n",
       "      <th>scientific_name_id</th>\n",
       "    </tr>\n",
       "  </thead>\n",
       "  <tbody>\n",
       "    <tr>\n",
       "      <th>1836</th>\n",
       "      <td>Actinotus helianthi</td>\n",
       "      <td>species</td>\n",
       "      <td>accepted</td>\n",
       "      <td>APC</td>\n",
       "      <td>NaN</td>\n",
       "      <td>Actinotus</td>\n",
       "      <td>Apiaceae</td>\n",
       "      <td>Actinotus helianthi</td>\n",
       "      <td>NaN</td>\n",
       "      <td>Qld, NSW, Vic (naturalised)</td>\n",
       "      <td>native and naturalised</td>\n",
       "      <td>Actinotus helianthi Labill.</td>\n",
       "      <td>https://id.biodiversity.org.au/node/apni/2895645</td>\n",
       "      <td>https://id.biodiversity.org.au/taxon/apni/5173...</td>\n",
       "      <td>https://id.biodiversity.org.au/taxon/apni/5173...</td>\n",
       "      <td>https://id.biodiversity.org.au/name/apni/75081</td>\n",
       "    </tr>\n",
       "  </tbody>\n",
       "</table>\n",
       "</div>"
      ],
      "text/plain": [
       "               taxon_name taxon_rank taxonomic_status taxonomic_dataset   \n",
       "1836  Actinotus helianthi    species         accepted               APC  \\\n",
       "\n",
       "     taxon_name_alternatives      genus    family             binomial   \n",
       "1836                     NaN  Actinotus  Apiaceae  Actinotus helianthi  \\\n",
       "\n",
       "     trinomial           taxon_distribution     establishment_means   \n",
       "1836       NaN  Qld, NSW, Vic (naturalised)  native and naturalised  \\\n",
       "\n",
       "                  scientific_name   \n",
       "1836  Actinotus helianthi Labill.  \\\n",
       "\n",
       "                                              taxon_id   \n",
       "1836  https://id.biodiversity.org.au/node/apni/2895645  \\\n",
       "\n",
       "                                         taxon_id_genus   \n",
       "1836  https://id.biodiversity.org.au/taxon/apni/5173...  \\\n",
       "\n",
       "                                        taxon_id_family   \n",
       "1836  https://id.biodiversity.org.au/taxon/apni/5173...  \\\n",
       "\n",
       "                                  scientific_name_id  \n",
       "1836  https://id.biodiversity.org.au/name/apni/75081  "
      ]
     },
     "execution_count": 37,
     "metadata": {},
     "output_type": "execute_result"
    }
   ],
   "source": [
    "target = ATtaxa[ATtaxa['taxon_name'] == \"Actinotus helianthi\"] \n",
    "target"
   ]
  },
  {
   "cell_type": "code",
   "execution_count": 38,
   "id": "03859cd5-88c4-42b8-ae8e-771c1d1d8054",
   "metadata": {},
   "outputs": [
    {
     "data": {
      "text/plain": [
       "'https://id.biodiversity.org.au/name/apni/75081.json'"
      ]
     },
     "execution_count": 38,
     "metadata": {},
     "output_type": "execute_result"
    }
   ],
   "source": [
    "qry = target['scientific_name_id'].values[0]+\".json\"\n",
    "qry\n",
    "#apniData=json.loads(qry) # error?"
   ]
  },
  {
   "cell_type": "code",
   "execution_count": 39,
   "id": "fc0d3523-60e9-40b0-b388-3ea544c58e5a",
   "metadata": {
    "tags": []
   },
   "outputs": [
    {
     "data": {
      "text/plain": [
       "dict_keys(['class', '_links', 'audit', 'fullName', 'fullNameHtml', 'nameElement', 'simpleName', 'sortName', 'rank', 'verbatimRank', 'type', 'status', 'tags', 'family', 'parent', 'basionym', 'secondParent', 'instances', 'author', 'baseAuthor', 'exAuthor', 'exBaseAuthor', 'sanctioningAuthor', 'primaryInstance'])"
      ]
     },
     "execution_count": 39,
     "metadata": {},
     "output_type": "execute_result"
    }
   ],
   "source": [
    "apniData = json.loads(getResponse(qry))\n",
    "apniData.keys()"
   ]
  },
  {
   "cell_type": "code",
   "execution_count": 40,
   "id": "cc02f95c-b4ce-455d-87a6-380bb3e3928c",
   "metadata": {},
   "outputs": [
    {
     "data": {
      "text/html": [
       "<div>\n",
       "<style scoped>\n",
       "    .dataframe tbody tr th:only-of-type {\n",
       "        vertical-align: middle;\n",
       "    }\n",
       "\n",
       "    .dataframe tbody tr th {\n",
       "        vertical-align: top;\n",
       "    }\n",
       "\n",
       "    .dataframe thead th {\n",
       "        text-align: right;\n",
       "    }\n",
       "</style>\n",
       "<table border=\"1\" class=\"dataframe\">\n",
       "  <thead>\n",
       "    <tr style=\"text-align: right;\">\n",
       "      <th></th>\n",
       "      <th>3</th>\n",
       "    </tr>\n",
       "  </thead>\n",
       "  <tbody>\n",
       "    <tr>\n",
       "      <th>speciesID</th>\n",
       "      <td>2361</td>\n",
       "    </tr>\n",
       "    <tr>\n",
       "      <th>taxonRank</th>\n",
       "      <td>Species</td>\n",
       "    </tr>\n",
       "    <tr>\n",
       "      <th>classID</th>\n",
       "      <td>38</td>\n",
       "    </tr>\n",
       "    <tr>\n",
       "      <th>class</th>\n",
       "      <td>Flora</td>\n",
       "    </tr>\n",
       "    <tr>\n",
       "      <th>orderID</th>\n",
       "      <td>137</td>\n",
       "    </tr>\n",
       "    <tr>\n",
       "      <th>order</th>\n",
       "      <td>Flora</td>\n",
       "    </tr>\n",
       "    <tr>\n",
       "      <th>familyID</th>\n",
       "      <td>157</td>\n",
       "    </tr>\n",
       "    <tr>\n",
       "      <th>family</th>\n",
       "      <td>Apiaceae</td>\n",
       "    </tr>\n",
       "    <tr>\n",
       "      <th>sortOrder</th>\n",
       "      <td>6031</td>\n",
       "    </tr>\n",
       "    <tr>\n",
       "      <th>genusID</th>\n",
       "      <td>1823.0</td>\n",
       "    </tr>\n",
       "    <tr>\n",
       "      <th>genus</th>\n",
       "      <td>Actinotus</td>\n",
       "    </tr>\n",
       "    <tr>\n",
       "      <th>parentSpeciesID</th>\n",
       "      <td>2361.0</td>\n",
       "    </tr>\n",
       "    <tr>\n",
       "      <th>specificEpithet</th>\n",
       "      <td>helianthi</td>\n",
       "    </tr>\n",
       "    <tr>\n",
       "      <th>infraspecificEpithet</th>\n",
       "      <td>NaN</td>\n",
       "    </tr>\n",
       "    <tr>\n",
       "      <th>scientificNameAuthorship</th>\n",
       "      <td>Labill.</td>\n",
       "    </tr>\n",
       "    <tr>\n",
       "      <th>scientificNameID</th>\n",
       "      <td>2361</td>\n",
       "    </tr>\n",
       "    <tr>\n",
       "      <th>speciesCode_Synonym</th>\n",
       "      <td>1094</td>\n",
       "    </tr>\n",
       "    <tr>\n",
       "      <th>scientificName</th>\n",
       "      <td>Actinotus helianthi</td>\n",
       "    </tr>\n",
       "    <tr>\n",
       "      <th>scientificNameHTML</th>\n",
       "      <td>&lt;em&gt;Actinotus helianthi&lt;/em&gt;</td>\n",
       "    </tr>\n",
       "    <tr>\n",
       "      <th>vernacularName</th>\n",
       "      <td>Flannel Flower</td>\n",
       "    </tr>\n",
       "    <tr>\n",
       "      <th>otherVernacularNames</th>\n",
       "      <td>NaN</td>\n",
       "    </tr>\n",
       "    <tr>\n",
       "      <th>taxonID</th>\n",
       "      <td>2361</td>\n",
       "    </tr>\n",
       "    <tr>\n",
       "      <th>currentScientificNameCode</th>\n",
       "      <td>1094</td>\n",
       "    </tr>\n",
       "    <tr>\n",
       "      <th>currentScientificName</th>\n",
       "      <td>Actinotus helianthi</td>\n",
       "    </tr>\n",
       "    <tr>\n",
       "      <th>currentVernacularName</th>\n",
       "      <td>Flannel Flower</td>\n",
       "    </tr>\n",
       "    <tr>\n",
       "      <th>isCurrent</th>\n",
       "      <td>True</td>\n",
       "    </tr>\n",
       "    <tr>\n",
       "      <th>generalTypeID</th>\n",
       "      <td>NaN</td>\n",
       "    </tr>\n",
       "    <tr>\n",
       "      <th>generalType</th>\n",
       "      <td>NaN</td>\n",
       "    </tr>\n",
       "    <tr>\n",
       "      <th>establishmentMeans</th>\n",
       "      <td>Alive in NSW, Native</td>\n",
       "    </tr>\n",
       "    <tr>\n",
       "      <th>primaryGrowthForm</th>\n",
       "      <td>Forb</td>\n",
       "    </tr>\n",
       "    <tr>\n",
       "      <th>primaryGrowthFormGroup</th>\n",
       "      <td>Forb (FG)</td>\n",
       "    </tr>\n",
       "    <tr>\n",
       "      <th>secondaryGrowthForms</th>\n",
       "      <td>NaN</td>\n",
       "    </tr>\n",
       "    <tr>\n",
       "      <th>secondaryGrowthFormGroups</th>\n",
       "      <td>NaN</td>\n",
       "    </tr>\n",
       "    <tr>\n",
       "      <th>stateConservation</th>\n",
       "      <td>Not Listed</td>\n",
       "    </tr>\n",
       "    <tr>\n",
       "      <th>protectedInNSW</th>\n",
       "      <td>True</td>\n",
       "    </tr>\n",
       "    <tr>\n",
       "      <th>sensitivityClass</th>\n",
       "      <td>Not Sensitive</td>\n",
       "    </tr>\n",
       "    <tr>\n",
       "      <th>TSProfileID</th>\n",
       "      <td>NaN</td>\n",
       "    </tr>\n",
       "    <tr>\n",
       "      <th>countryConservation</th>\n",
       "      <td>Not Listed</td>\n",
       "    </tr>\n",
       "    <tr>\n",
       "      <th>highThreatWeed</th>\n",
       "      <td>NaN</td>\n",
       "    </tr>\n",
       "    <tr>\n",
       "      <th>widelyCultivatedNativeSpecies</th>\n",
       "      <td>NaN</td>\n",
       "    </tr>\n",
       "    <tr>\n",
       "      <th>CAMBA</th>\n",
       "      <td>False</td>\n",
       "    </tr>\n",
       "    <tr>\n",
       "      <th>JAMBA</th>\n",
       "      <td>False</td>\n",
       "    </tr>\n",
       "    <tr>\n",
       "      <th>ROKAMBA</th>\n",
       "      <td>False</td>\n",
       "    </tr>\n",
       "  </tbody>\n",
       "</table>\n",
       "</div>"
      ],
      "text/plain": [
       "                                                          3\n",
       "speciesID                                              2361\n",
       "taxonRank                                           Species\n",
       "classID                                                  38\n",
       "class                                                 Flora\n",
       "orderID                                                 137\n",
       "order                                                 Flora\n",
       "familyID                                                157\n",
       "family                                             Apiaceae\n",
       "sortOrder                                              6031\n",
       "genusID                                              1823.0\n",
       "genus                                             Actinotus\n",
       "parentSpeciesID                                      2361.0\n",
       "specificEpithet                                   helianthi\n",
       "infraspecificEpithet                                    NaN\n",
       "scientificNameAuthorship                            Labill.\n",
       "scientificNameID                                       2361\n",
       "speciesCode_Synonym                                    1094\n",
       "scientificName                          Actinotus helianthi\n",
       "scientificNameHTML             <em>Actinotus helianthi</em>\n",
       "vernacularName                               Flannel Flower\n",
       "otherVernacularNames                                    NaN\n",
       "taxonID                                                2361\n",
       "currentScientificNameCode                              1094\n",
       "currentScientificName                   Actinotus helianthi\n",
       "currentVernacularName                        Flannel Flower\n",
       "isCurrent                                              True\n",
       "generalTypeID                                           NaN\n",
       "generalType                                             NaN\n",
       "establishmentMeans                     Alive in NSW, Native\n",
       "primaryGrowthForm                                      Forb\n",
       "primaryGrowthFormGroup                            Forb (FG)\n",
       "secondaryGrowthForms                                    NaN\n",
       "secondaryGrowthFormGroups                               NaN\n",
       "stateConservation                                Not Listed\n",
       "protectedInNSW                                         True\n",
       "sensitivityClass                              Not Sensitive\n",
       "TSProfileID                                             NaN\n",
       "countryConservation                              Not Listed\n",
       "highThreatWeed                                          NaN\n",
       "widelyCultivatedNativeSpecies                           NaN\n",
       "CAMBA                                                 False\n",
       "JAMBA                                                 False\n",
       "ROKAMBA                                               False"
      ]
     },
     "execution_count": 40,
     "metadata": {},
     "output_type": "execute_result"
    }
   ],
   "source": [
    "spp_info = BIONET[BIONET['scientificName'] == \"Actinotus helianthi\"] \n",
    "spp_info.transpose()"
   ]
  },
  {
   "cell_type": "code",
   "execution_count": 41,
   "id": "b4bc8ca2-6405-4eac-95a5-51862c198a1e",
   "metadata": {},
   "outputs": [
    {
     "data": {
      "text/html": [
       "<div>\n",
       "<style scoped>\n",
       "    .dataframe tbody tr th:only-of-type {\n",
       "        vertical-align: middle;\n",
       "    }\n",
       "\n",
       "    .dataframe tbody tr th {\n",
       "        vertical-align: top;\n",
       "    }\n",
       "\n",
       "    .dataframe thead th {\n",
       "        text-align: right;\n",
       "    }\n",
       "</style>\n",
       "<table border=\"1\" class=\"dataframe\">\n",
       "  <thead>\n",
       "    <tr style=\"text-align: right;\">\n",
       "      <th></th>\n",
       "      <th>dataset_id</th>\n",
       "      <th>taxon_name</th>\n",
       "      <th>observation_id</th>\n",
       "      <th>trait_name</th>\n",
       "      <th>value</th>\n",
       "      <th>unit</th>\n",
       "      <th>entity_type</th>\n",
       "      <th>value_type</th>\n",
       "      <th>basis_of_value</th>\n",
       "      <th>replicates</th>\n",
       "      <th>...</th>\n",
       "      <th>source_id</th>\n",
       "      <th>location_id</th>\n",
       "      <th>entity_context_id</th>\n",
       "      <th>plot_context_id</th>\n",
       "      <th>treatment_context_id</th>\n",
       "      <th>collection_date</th>\n",
       "      <th>measurement_remarks</th>\n",
       "      <th>method_id</th>\n",
       "      <th>method_context_id</th>\n",
       "      <th>original_name</th>\n",
       "    </tr>\n",
       "  </thead>\n",
       "  <tbody>\n",
       "    <tr>\n",
       "      <th>476878</th>\n",
       "      <td>Falster_2005_2</td>\n",
       "      <td>Actinotus helianthi</td>\n",
       "      <td>5</td>\n",
       "      <td>resprouting_capacity</td>\n",
       "      <td>fire_killed</td>\n",
       "      <td>NaN</td>\n",
       "      <td>population</td>\n",
       "      <td>mode</td>\n",
       "      <td>expert_score</td>\n",
       "      <td>NaN</td>\n",
       "      <td>...</td>\n",
       "      <td>NaN</td>\n",
       "      <td>1.0</td>\n",
       "      <td>NaN</td>\n",
       "      <td>NaN</td>\n",
       "      <td>NaN</td>\n",
       "      <td>2002-09/2002-09</td>\n",
       "      <td>NaN</td>\n",
       "      <td>1.0</td>\n",
       "      <td>NaN</td>\n",
       "      <td>Actinotus helianthi</td>\n",
       "    </tr>\n",
       "    <tr>\n",
       "      <th>628072</th>\n",
       "      <td>Kubiak_2009</td>\n",
       "      <td>Actinotus helianthi</td>\n",
       "      <td>88</td>\n",
       "      <td>resprouting_capacity</td>\n",
       "      <td>fire_killed</td>\n",
       "      <td>NaN</td>\n",
       "      <td>population</td>\n",
       "      <td>mode</td>\n",
       "      <td>expert_score</td>\n",
       "      <td>NaN</td>\n",
       "      <td>...</td>\n",
       "      <td>NaN</td>\n",
       "      <td>2.0</td>\n",
       "      <td>8.0</td>\n",
       "      <td>NaN</td>\n",
       "      <td>NaN</td>\n",
       "      <td>1994/1999</td>\n",
       "      <td>NaN</td>\n",
       "      <td>1.0</td>\n",
       "      <td>NaN</td>\n",
       "      <td>Actinotus helianthi</td>\n",
       "    </tr>\n",
       "    <tr>\n",
       "      <th>628073</th>\n",
       "      <td>Kubiak_2009</td>\n",
       "      <td>Actinotus helianthi</td>\n",
       "      <td>89</td>\n",
       "      <td>resprouting_capacity</td>\n",
       "      <td>fire_killed</td>\n",
       "      <td>NaN</td>\n",
       "      <td>population</td>\n",
       "      <td>mode</td>\n",
       "      <td>expert_score</td>\n",
       "      <td>NaN</td>\n",
       "      <td>...</td>\n",
       "      <td>NaN</td>\n",
       "      <td>3.0</td>\n",
       "      <td>8.0</td>\n",
       "      <td>NaN</td>\n",
       "      <td>NaN</td>\n",
       "      <td>1994/1999</td>\n",
       "      <td>NaN</td>\n",
       "      <td>1.0</td>\n",
       "      <td>NaN</td>\n",
       "      <td>Actinotus helianthi</td>\n",
       "    </tr>\n",
       "    <tr>\n",
       "      <th>872818</th>\n",
       "      <td>NSWFRD_2014</td>\n",
       "      <td>Actinotus helianthi</td>\n",
       "      <td>334</td>\n",
       "      <td>resprouting_capacity</td>\n",
       "      <td>fire_killed</td>\n",
       "      <td>NaN</td>\n",
       "      <td>species</td>\n",
       "      <td>mode</td>\n",
       "      <td>expert_score</td>\n",
       "      <td>NaN</td>\n",
       "      <td>...</td>\n",
       "      <td>NaN</td>\n",
       "      <td>NaN</td>\n",
       "      <td>NaN</td>\n",
       "      <td>NaN</td>\n",
       "      <td>NaN</td>\n",
       "      <td>2002/2014</td>\n",
       "      <td>NaN</td>\n",
       "      <td>1.0</td>\n",
       "      <td>NaN</td>\n",
       "      <td>Actinotus helianthi</td>\n",
       "    </tr>\n",
       "    <tr>\n",
       "      <th>872819</th>\n",
       "      <td>NSWFRD_2014</td>\n",
       "      <td>Actinotus helianthi</td>\n",
       "      <td>334</td>\n",
       "      <td>seedbank_location</td>\n",
       "      <td>soil_seedbank</td>\n",
       "      <td>NaN</td>\n",
       "      <td>species</td>\n",
       "      <td>mode</td>\n",
       "      <td>expert_score</td>\n",
       "      <td>NaN</td>\n",
       "      <td>...</td>\n",
       "      <td>NaN</td>\n",
       "      <td>NaN</td>\n",
       "      <td>NaN</td>\n",
       "      <td>NaN</td>\n",
       "      <td>NaN</td>\n",
       "      <td>2002/2014</td>\n",
       "      <td>NaN</td>\n",
       "      <td>1.0</td>\n",
       "      <td>NaN</td>\n",
       "      <td>Actinotus helianthi</td>\n",
       "    </tr>\n",
       "  </tbody>\n",
       "</table>\n",
       "<p>5 rows × 26 columns</p>\n",
       "</div>"
      ],
      "text/plain": [
       "            dataset_id           taxon_name  observation_id   \n",
       "476878  Falster_2005_2  Actinotus helianthi               5  \\\n",
       "628072     Kubiak_2009  Actinotus helianthi              88   \n",
       "628073     Kubiak_2009  Actinotus helianthi              89   \n",
       "872818     NSWFRD_2014  Actinotus helianthi             334   \n",
       "872819     NSWFRD_2014  Actinotus helianthi             334   \n",
       "\n",
       "                  trait_name          value unit entity_type value_type   \n",
       "476878  resprouting_capacity    fire_killed  NaN  population       mode  \\\n",
       "628072  resprouting_capacity    fire_killed  NaN  population       mode   \n",
       "628073  resprouting_capacity    fire_killed  NaN  population       mode   \n",
       "872818  resprouting_capacity    fire_killed  NaN     species       mode   \n",
       "872819     seedbank_location  soil_seedbank  NaN     species       mode   \n",
       "\n",
       "       basis_of_value replicates  ... source_id location_id entity_context_id   \n",
       "476878   expert_score        NaN  ...       NaN         1.0               NaN  \\\n",
       "628072   expert_score        NaN  ...       NaN         2.0               8.0   \n",
       "628073   expert_score        NaN  ...       NaN         3.0               8.0   \n",
       "872818   expert_score        NaN  ...       NaN         NaN               NaN   \n",
       "872819   expert_score        NaN  ...       NaN         NaN               NaN   \n",
       "\n",
       "        plot_context_id  treatment_context_id  collection_date   \n",
       "476878              NaN                   NaN  2002-09/2002-09  \\\n",
       "628072              NaN                   NaN        1994/1999   \n",
       "628073              NaN                   NaN        1994/1999   \n",
       "872818              NaN                   NaN        2002/2014   \n",
       "872819              NaN                   NaN        2002/2014   \n",
       "\n",
       "       measurement_remarks  method_id  method_context_id        original_name  \n",
       "476878                 NaN        1.0                NaN  Actinotus helianthi  \n",
       "628072                 NaN        1.0                NaN  Actinotus helianthi  \n",
       "628073                 NaN        1.0                NaN  Actinotus helianthi  \n",
       "872818                 NaN        1.0                NaN  Actinotus helianthi  \n",
       "872819                 NaN        1.0                NaN  Actinotus helianthi  \n",
       "\n",
       "[5 rows x 26 columns]"
      ]
     },
     "execution_count": 41,
     "metadata": {},
     "output_type": "execute_result"
    }
   ],
   "source": [
    "sppname='Actinotus helianthi'\n",
    "traits=('resprouting_capacity','post_fire_flowering','seedbank_location')\n",
    "\n",
    "ss = (ATtraits['taxon_name']==sppname) & (ATtraits['trait_name'].isin(traits))\n",
    "ATtraits[ss]"
   ]
  },
  {
   "cell_type": "markdown",
   "id": "38141a1d-2130-4861-bcac-524bbbad50d9",
   "metadata": {},
   "source": [
    "## That is it for now!\n",
    "\n",
    "✅ Job done! 😎👌🔥\n",
    "\n",
    "You can:\n",
    "- go [back home](../Instructions-and-workflow.ipynb),\n",
    "- continue navigating the repo on [GitHub](https://github.com/ces-unsw-edu-au/fireveg-db-exports)\n",
    "- continue exploring the repo on [OSF](https://osf.io/h96q2/).\n",
    "- visit the database at <http://fireecologyplants.net>"
   ]
  },
  {
   "cell_type": "code",
   "execution_count": null,
   "id": "e581c8c2-86ff-4caf-89f9-5e129ed93470",
   "metadata": {},
   "outputs": [],
   "source": []
  },
  {
   "cell_type": "code",
   "execution_count": null,
   "id": "166adaf7-eebe-4f6e-b9f3-37db10de1eda",
   "metadata": {},
   "outputs": [],
   "source": []
  }
 ],
 "metadata": {
  "kernelspec": {
   "display_name": "Python 3 (ipykernel)",
   "language": "python",
   "name": "python3"
  },
  "language_info": {
   "codemirror_mode": {
    "name": "ipython",
    "version": 3
   },
   "file_extension": ".py",
   "mimetype": "text/x-python",
   "name": "python",
   "nbconvert_exporter": "python",
   "pygments_lexer": "ipython3",
   "version": "3.11.3"
  }
 },
 "nbformat": 4,
 "nbformat_minor": 5
}
