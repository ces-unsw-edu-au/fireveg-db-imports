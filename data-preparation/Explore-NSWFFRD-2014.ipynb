{
 "cells": [
  {
   "cell_type": "markdown",
   "id": "1f33e7d7-10fe-4e18-b101-48237c9ff3d0",
   "metadata": {
    "tags": []
   },
   "source": [
    "# Fireveg DB - download and explore NSWFFRD 2014 data\n",
    "\n",
    "Author: [José R. Ferrer-Paris](https://github.com/jrfep) \n",
    "\n",
    "Date: July 2024\n",
    "\n",
    "This Jupyter Notebook includes [Python](https://www.python.org) code to download and explore the spreadsheet from NSW Flora Fire response database and extract hyperlinks that point to references. We will use the `openpyxl` library to work with the workbook."
   ]
  },
  {
   "cell_type": "markdown",
   "id": "1096ea6b-5f3a-4751-a3fd-d40a1bb4a215",
   "metadata": {},
   "source": [
    "## Set-up\n",
    "\n",
    "### Load libraries"
   ]
  },
  {
   "cell_type": "code",
   "execution_count": 1,
   "id": "a3fd791e-e2dc-45ac-a30f-13151fda78fc",
   "metadata": {},
   "outputs": [],
   "source": [
    "import openpyxl\n",
    "from pathlib import Path\n",
    "import os,sys\n",
    "\n",
    "# Pyprojroot for easier handling of working directory\n",
    "import pyprojroot"
   ]
  },
  {
   "cell_type": "markdown",
   "id": "85843b9a-c8e7-4538-8219-54f6ae9d22d3",
   "metadata": {},
   "source": [
    "### Define paths for input and output"
   ]
  },
  {
   "cell_type": "markdown",
   "id": "8b61de8f-5d4a-4650-a194-aa0023ddb7c7",
   "metadata": {},
   "source": [
    "Define project directory using the `pyprojroot` functions, and add this to the execution path."
   ]
  },
  {
   "cell_type": "code",
   "execution_count": 2,
   "id": "fb528688-3ba2-4bea-9d34-c3710c3eadb7",
   "metadata": {},
   "outputs": [],
   "source": [
    "repodir = pyprojroot.find_root(pyprojroot.has_dir(\".git\"))\n",
    "sys.path.append(str(repodir))"
   ]
  },
  {
   "cell_type": "code",
   "execution_count": 3,
   "id": "2ba0ded9-4c21-44d0-ba1d-47b2a8ad17c6",
   "metadata": {},
   "outputs": [],
   "source": [
    "inputdir = repodir / \"data/\""
   ]
  },
  {
   "cell_type": "markdown",
   "id": "818862a3-bb55-45c0-9e1d-6ee6110f635a",
   "metadata": {},
   "source": [
    "### Load own functions\n",
    "Load functions from `lib` folder, we will use a function to read db credentials, one for executing database queries and three functions for extracting data from the reference description string"
   ]
  },
  {
   "cell_type": "code",
   "execution_count": 4,
   "id": "7e486fd7-8205-458e-8a4c-bfdc06f97e32",
   "metadata": {},
   "outputs": [],
   "source": [
    "import lib.nswfireflora_util as nswff"
   ]
  },
  {
   "cell_type": "markdown",
   "id": "f41ab0fc-1763-449e-8b6f-9f23fb770997",
   "metadata": {
    "tags": []
   },
   "source": [
    "## Open the workbook and read main spreadsheet\n",
    "Here we will load the workbook:"
   ]
  },
  {
   "cell_type": "code",
   "execution_count": 5,
   "id": "7e18ad42-70fb-4e33-a932-8e2970195853",
   "metadata": {},
   "outputs": [],
   "source": [
    "wb = openpyxl.load_workbook(inputdir / \"NSWFFRDv2.1.xlsx\")"
   ]
  },
  {
   "cell_type": "markdown",
   "id": "4705adca-d7d6-4ab9-ae90-444261f8eab8",
   "metadata": {},
   "source": [
    "List all worksheets:"
   ]
  },
  {
   "cell_type": "code",
   "execution_count": 6,
   "id": "eab2c9ff-3dbc-4a1e-a7ee-c013086f9af0",
   "metadata": {},
   "outputs": [
    {
     "name": "stdout",
     "output_type": "stream",
     "text": [
      "<Worksheet \"Read Me\">\n",
      "<Worksheet \"SpeciesData\">\n",
      "<Worksheet \"References\">\n",
      "<Worksheet \"Notes\">\n",
      "<Worksheet \"VA Groups\">\n"
     ]
    }
   ],
   "source": [
    "for k in wb.worksheets:\n",
    "    print(k)"
   ]
  },
  {
   "cell_type": "markdown",
   "id": "9276d2e8-f9ef-476f-a498-1c6ef0d47b7a",
   "metadata": {},
   "source": [
    "Use the sheet name to read data"
   ]
  },
  {
   "cell_type": "markdown",
   "id": "a9cf1b54-3e34-4b78-84ac-382bf389a428",
   "metadata": {},
   "source": [
    "### Read Me"
   ]
  },
  {
   "cell_type": "code",
   "execution_count": 7,
   "id": "22af95ab-2940-4f4d-99f5-e668b60d33b0",
   "metadata": {},
   "outputs": [],
   "source": [
    "readme = wb['Read Me']"
   ]
  },
  {
   "cell_type": "code",
   "execution_count": 8,
   "id": "b7f2b28a-16c6-4c12-83fa-075f5105eec1",
   "metadata": {},
   "outputs": [
    {
     "name": "stdout",
     "output_type": "stream",
     "text": [
      "NSW Flora Fire Response Database\n",
      "Version 2.1\n",
      "February 2010 (last update May 2014)\n",
      "Please read NSW Flora Fire Response Database.doc\n",
      "Refer to 'Notes' sheet for explanations of data type and format used in 'SpeciesData' sheet.\n"
     ]
    }
   ],
   "source": [
    "for cell in ['A1','A2','A3','A6','A7',]:\n",
    "    print(readme[cell].value)"
   ]
  },
  {
   "cell_type": "markdown",
   "id": "ba89df79-9490-4043-a13c-6319c5152531",
   "metadata": {},
   "source": [
    "### Species data"
   ]
  },
  {
   "cell_type": "code",
   "execution_count": 9,
   "id": "727e8680-22a9-4e90-9f22-a88344ad48b8",
   "metadata": {},
   "outputs": [],
   "source": [
    "species_data = wb['SpeciesData']"
   ]
  },
  {
   "cell_type": "markdown",
   "id": "ef290d3c-722b-4288-b830-7fcd63f828ea",
   "metadata": {},
   "source": [
    "Let's look at all the values in the second column (Species code)"
   ]
  },
  {
   "cell_type": "code",
   "execution_count": 10,
   "id": "8714cab3-fb33-42ae-b005-fb0be90351a3",
   "metadata": {},
   "outputs": [
    {
     "data": {
      "text/plain": [
       "'Species Code'"
      ]
     },
     "execution_count": 10,
     "metadata": {},
     "output_type": "execute_result"
    }
   ],
   "source": [
    "species_data['B2'].value"
   ]
  },
  {
   "cell_type": "code",
   "execution_count": 76,
   "id": "ace5ddd1-2c6c-48df-990b-f3398c149f6f",
   "metadata": {},
   "outputs": [
    {
     "data": {
      "text/plain": [
       "'Primary juvenile period'"
      ]
     },
     "execution_count": 76,
     "metadata": {},
     "output_type": "execute_result"
    }
   ],
   "source": [
    "species_data['Z2'].value"
   ]
  },
  {
   "cell_type": "markdown",
   "id": "26860dd9-19cb-4ab4-b66a-b4f9c3fa12f8",
   "metadata": {},
   "source": [
    "We want to count the number of unique values:"
   ]
  },
  {
   "cell_type": "code",
   "execution_count": 11,
   "id": "3d3ac97a-cbfb-4f09-9339-ae49bd95e0f5",
   "metadata": {},
   "outputs": [
    {
     "name": "stdout",
     "output_type": "stream",
     "text": [
      "3000\n"
     ]
    }
   ],
   "source": [
    "row_count = species_data.max_row\n",
    "column_count = species_data.max_column\n",
    "j=2\n",
    "unique_list = list()\n",
    "unique_items = 0\n",
    "for i in range(1, row_count + 1):\n",
    "    item = species_data.cell(row=i, column=j).value\n",
    "    if item not in unique_list and item is not None:\n",
    "        unique_list.append(item)\n",
    "        unique_items += 1\n",
    "print(unique_items)"
   ]
  },
  {
   "cell_type": "markdown",
   "id": "9fcb2c48-df7f-4cb2-9051-13125439eccd",
   "metadata": {},
   "source": [
    "Which columns include information on traits? this will print out the names in the second row...:"
   ]
  },
  {
   "cell_type": "code",
   "execution_count": 12,
   "id": "a6c95894-0ec0-47c0-b947-b2016d34557c",
   "metadata": {
    "tags": []
   },
   "outputs": [
    {
     "name": "stdout",
     "output_type": "stream",
     "text": [
      "Current Scientific Name\n",
      "Species Code\n",
      "Legal Status\n",
      "Exotic\n",
      "2010 Update\n",
      "Notes on Name / Synonym as used in source reference\n",
      "Family\n",
      "Group\n",
      "Life form\n",
      "Fireresponse\n",
      "Comments on regeneration\n",
      "Resprout location\n",
      "Seed storage\n",
      "Seed dispersal mechanism\n",
      "Seed dispersal distance\n",
      "Seed weight / size\n",
      "Seed viability\n",
      "Dormancy\n",
      "Germination cue\n",
      "Fecundity\n",
      "Seed predation\n",
      "Post-fire recruitment\n",
      "Establishment\n",
      "Post-fire flowering\n",
      "Flowering time\n",
      "Primary juvenile period\n",
      "Secondary juvenile period\n",
      "Seed set\n",
      "Seed-bank developed\n",
      "Fire tolerance\n",
      "Life span\n",
      "Seed-bank longevity\n",
      "\"Maturity\" (from source)\n",
      "\"Extinction\" (from source)\n",
      "\"Rec. min fire interval\" (from source)\n",
      "\"Rec. max fire interval\" (from source)\n",
      "NC\n",
      "CC\n",
      "SC\n",
      "NT\n",
      "CT\n",
      "ST\n",
      "NWS\n",
      "CWS\n",
      "SWS\n",
      "NWP\n",
      "SWP\n",
      "NFWP\n",
      "SFWP\n",
      "Distribution: extra NSW\n",
      "Vegetation\n",
      "Rainforest\n",
      "Wet Sclerophyll Forest (Shrubby)\n",
      "Wet Sclerophyll Forest (Grassy)\n",
      "Grassy Woodland\n",
      "Grassland\n",
      "Dry Sclerophyll Forest (Shrub/Grass)\n",
      "Dry Sclerophyll Forest (Shrubby)\n",
      "Heathland\n",
      "Alpine Complex\n",
      "Freshwater Wetland\n",
      "Forested Wetlands\n",
      "Saline Wetland\n",
      "Semi-arid Woodland\n",
      "Arid & Semi-arid Shrubland\n",
      "NFRR data\n",
      "Additional fire response data\n",
      "Other data\n",
      "VA group\n",
      "Sensitivity: frequent\n",
      "Sensitivity: infrequent\n",
      "Minimum maturity\n",
      "Maximum maturity\n",
      "Lifespan > than\n",
      "Lifespan < than\n",
      "Lifespan + seed-bank\n",
      "VA Data\n",
      "Establishment Data\n",
      "Maturity Data\n",
      "Lifespan Data\n",
      "Lifespan 2 Data\n",
      "Seedbank Data\n",
      "None\n",
      "None\n",
      "None\n",
      "None\n",
      "None\n",
      "None\n",
      "None\n",
      "None\n",
      "None\n",
      "None\n",
      "None\n",
      "None\n",
      "None\n",
      "None\n",
      "None\n",
      "None\n",
      "None\n",
      "None\n",
      "None\n",
      "None\n",
      "None\n",
      "None\n",
      "None\n",
      "None\n",
      "None\n",
      "None\n",
      "None\n",
      "None\n",
      "None\n",
      "None\n",
      "None\n",
      "None\n",
      "None\n",
      "None\n",
      "None\n",
      "None\n",
      "None\n",
      "None\n",
      "None\n",
      "None\n",
      "None\n",
      "None\n",
      "None\n",
      "None\n",
      "None\n",
      "None\n",
      "None\n",
      "None\n",
      "None\n",
      "None\n",
      "None\n",
      "None\n",
      "None\n",
      "None\n",
      "None\n",
      "None\n",
      "None\n",
      "None\n",
      "None\n",
      "None\n",
      "None\n",
      "None\n",
      "None\n",
      "None\n",
      "None\n",
      "None\n",
      "None\n",
      "None\n",
      "None\n",
      "None\n",
      "None\n"
     ]
    }
   ],
   "source": [
    "for j in range(1, column_count + 1):\n",
    "    print(species_data.cell(row=2, column=j).value)\n"
   ]
  },
  {
   "cell_type": "code",
   "execution_count": 13,
   "id": "a7a7929f-f0f9-4c60-ab85-8e47c0d81b97",
   "metadata": {},
   "outputs": [
    {
     "data": {
      "text/plain": [
       "'Life span'"
      ]
     },
     "execution_count": 13,
     "metadata": {},
     "output_type": "execute_result"
    }
   ],
   "source": [
    "species_data.cell(row=2, column=31).value"
   ]
  },
  {
   "cell_type": "markdown",
   "id": "6ee54482-2128-42f4-a526-34f439675765",
   "metadata": {},
   "source": [
    "#### Read cell values\n",
    "We can use square brackets to refer to a column and then use python indices (starting with _0_ for the top row) to slice it. We use the property _value_ to show their stored content. "
   ]
  },
  {
   "cell_type": "code",
   "execution_count": 14,
   "id": "81b738e8-36fc-414b-a956-a97b1c842470",
   "metadata": {},
   "outputs": [
    {
     "name": "stdout",
     "output_type": "stream",
     "text": [
      "Post-fire flowering\n",
      "flowers well after fire\n"
     ]
    }
   ],
   "source": [
    "print(species_data['X'][1].value)\n",
    "print(species_data['X'][157].value)"
   ]
  },
  {
   "cell_type": "markdown",
   "id": "364fa603-94be-45ba-b8f9-dd179d1e0530",
   "metadata": {},
   "source": [
    "Descriptions of these columns are found in the column_notes sheet:"
   ]
  },
  {
   "cell_type": "code",
   "execution_count": 15,
   "id": "5a28a3d0-96c6-43fd-9506-6d799530e265",
   "metadata": {},
   "outputs": [
    {
     "name": "stdout",
     "output_type": "stream",
     "text": [
      " - *Establishment*\n",
      "\tSeedling establishment groups of Noble & Slatyer (1980); See VA sheet for details: I=Intolerant, T=Tolerant, R=Requiring\n",
      " - *Post-fire flowering*\n",
      "\texclusive or facultative post-fire flowering observed\n"
     ]
    }
   ],
   "source": [
    "column_notes = wb['Notes'] \n",
    "for k in (23,24):\n",
    "    print(\" - *%s*\" %column_notes.cell(row=k,column=2).value)\n",
    "    print(\"\\t%s\" % column_notes.cell(row=k,column=3).value)"
   ]
  },
  {
   "cell_type": "code",
   "execution_count": 16,
   "id": "b4ca941f-4460-45bb-a39c-157729f8c04b",
   "metadata": {},
   "outputs": [
    {
     "name": "stdout",
     "output_type": "stream",
     "text": [
      " - 26 ) *Primary Juvenile Period*\n",
      "\tPlant age at first flowering. May be a single figure or range of ages, may also be an indication (e.g. >5 implies that at 5 years post-fire flowering had still not been observed). May give the percentage of the population observed to flower at a particular time post-fire\n",
      " - 27 ) *Secondary juvenile period*\n",
      "\tPost-fire age at which flowering first occurs from resprouting material\n",
      " - 31 ) *Life span*\n",
      "\tPlant age at which senescence is expected to occur. In many cases this is a fairly broad range, based on plant life form & structure. May be post-fire age at which a species is no longer found in a community where it was known or assumed to occur in.\n",
      " - 32 ) *Seedbank Longeiveity*\n",
      "\tNumber of years that a stored seed-bank is expected to stay viable.hl= half life value reported\n"
     ]
    }
   ],
   "source": [
    "#26 27 31 32\n",
    "#for k in range(10,50):\n",
    "for k in (26,27,31,32):\n",
    "    print(\" - %s ) *%s*\" % (k,column_notes.cell(row=k,column=2).value))\n",
    "    print(\"\\t%s\" % column_notes.cell(row=k,column=3).value)"
   ]
  },
  {
   "cell_type": "markdown",
   "id": "6202de09-896b-49fe-b88a-7eb37780d7e4",
   "metadata": {},
   "source": [
    "We can use this approach to read several columns from one row, let's start checking the columns names in row 1:"
   ]
  },
  {
   "cell_type": "code",
   "execution_count": 17,
   "id": "30b2e484-c32a-49b7-95c5-b69b6cf1c7f7",
   "metadata": {},
   "outputs": [
    {
     "name": "stdout",
     "output_type": "stream",
     "text": [
      "Current Scientific Name (Species Code) / Post-fire flowering / Establishment  \n"
     ]
    }
   ],
   "source": [
    "sp_col='A'\n",
    "spcode_col='B'\n",
    "target_cols={'repr2':'X', 'rect2':'W'}\n",
    "\n",
    "target_cols.values()\n",
    "print(\"%s (%s) / %s / %s  \" %\n",
    "(species_data[sp_col][1].value,\n",
    " species_data[spcode_col][1].value,\n",
    "species_data[target_cols['repr2']][1].value,\n",
    "species_data[target_cols['rect2']][1].value))"
   ]
  },
  {
   "cell_type": "markdown",
   "id": "e48fc952-e65d-418a-a6d6-c07fcc16a6b6",
   "metadata": {},
   "source": [
    "Now select one record:"
   ]
  },
  {
   "cell_type": "code",
   "execution_count": 18,
   "id": "865c8cb9-ad43-450a-b430-9afd6d43d808",
   "metadata": {},
   "outputs": [
    {
     "name": "stdout",
     "output_type": "stream",
     "text": [
      "Acianthus caudatus (4351)  ~ flowers well after fire  / None \n"
     ]
    }
   ],
   "source": [
    "row_index=157\n",
    "\n",
    "print(\"%s (%s)  ~ %s  / %s \" %\n",
    "(species_data[sp_col][row_index].value,\n",
    " species_data[spcode_col][row_index].value,\n",
    " species_data[target_cols['repr2']][row_index].value,\n",
    "species_data[target_cols['rect2']][row_index].value))"
   ]
  },
  {
   "cell_type": "markdown",
   "id": "bd676f0c-b144-49df-a203-243dac99c536",
   "metadata": {
    "tags": []
   },
   "source": [
    "## Dealing with hyperlinks\n",
    "\n",
    "The cell Q6 has a hyperlink. We can use cell rows and columns or cell name:"
   ]
  },
  {
   "cell_type": "code",
   "execution_count": 19,
   "id": "b82a128e-cc64-4183-b03a-91b4d72e3254",
   "metadata": {},
   "outputs": [
    {
     "data": {
      "text/plain": [
       "openpyxl.worksheet.hyperlink.Hyperlink"
      ]
     },
     "execution_count": 19,
     "metadata": {},
     "output_type": "execute_result"
    }
   ],
   "source": [
    "type(species_data.cell(row=6, column=17).hyperlink)\n",
    "# same as \n",
    "type(species_data['Q6'].hyperlink)"
   ]
  },
  {
   "cell_type": "markdown",
   "id": "e0ebe87d-c875-4647-bff3-6eb06182b9b4",
   "metadata": {},
   "source": [
    "If the cell is a hyperlink it will have a value to \"display\" and will point to a \"location\" within the workbook: "
   ]
  },
  {
   "cell_type": "code",
   "execution_count": 20,
   "id": "a724720f-cf84-47ad-a02e-135094f39709",
   "metadata": {},
   "outputs": [
    {
     "data": {
      "text/plain": [
       "'viability average-very good'"
      ]
     },
     "execution_count": 20,
     "metadata": {},
     "output_type": "execute_result"
    }
   ],
   "source": [
    "species_data.cell(row=6, column=17).hyperlink.display"
   ]
  },
  {
   "cell_type": "code",
   "execution_count": 21,
   "id": "20a43761-7aec-460f-a52e-1b3312073249",
   "metadata": {},
   "outputs": [
    {
     "name": "stdout",
     "output_type": "stream",
     "text": [
      "References!C94\n"
     ]
    }
   ],
   "source": [
    "# This will fail if there is no hyperlink \n",
    "print(species_data.cell(row=6, column=17).hyperlink.location)"
   ]
  },
  {
   "cell_type": "markdown",
   "id": "669dc28d-72a0-415f-839f-4e1477a4698c",
   "metadata": {},
   "source": [
    "Let's see the value of this reference:"
   ]
  },
  {
   "cell_type": "code",
   "execution_count": 22,
   "id": "7b4de60a-6404-45d6-8f32-6cce8fcb64be",
   "metadata": {},
   "outputs": [],
   "source": [
    "hlink = species_data.cell(row=6, column=17).hyperlink.location\n",
    "hlink = hlink.split(\"!\")"
   ]
  },
  {
   "cell_type": "markdown",
   "id": "4f679f23-9866-40b7-97ea-64e1f3900c89",
   "metadata": {},
   "source": [
    "This gives the name of the target sheet and the corresponding cell. We need to read the cell to its right side (add one to the column number) to get the information we need."
   ]
  },
  {
   "cell_type": "code",
   "execution_count": 23,
   "id": "cf4b6f89-a497-407d-b4ad-3568e16f7394",
   "metadata": {},
   "outputs": [
    {
     "name": "stdout",
     "output_type": "stream",
     "text": [
      "Cell value is :: 93\n",
      "Reference data is :: Mortlock, W. & Lloyd, MV (Eds) (2001) Floradata - A guide to collection, storage and propogation of Australian native plant seed. AUsttralian Centre for Mining Environmental Research, Brisbane; Australian National Botanic Gardens, CSIRO Forestry and Forest Products and Greening Australia Limited, Canberra. Searchable Database February 2001. a=survey data, b=test data\n"
     ]
    }
   ],
   "source": [
    "ref = wb[hlink[0]]\n",
    "print(\"Cell value is :: \" + str(ref[hlink[1]].value))\n",
    "nlink = ref.cell(row=ref[hlink[1]].row,column=ref[hlink[1]].col_idx + 1)\n",
    "\n",
    "print(\"Reference data is :: \" + nlink.value) \n"
   ]
  },
  {
   "cell_type": "markdown",
   "id": "fd96fdf3-a98d-4ea9-8562-a798276b369c",
   "metadata": {},
   "source": [
    "If there is no hyperlink, it will result in NoneType"
   ]
  },
  {
   "cell_type": "code",
   "execution_count": 24,
   "id": "bd9033db-5cbc-43e1-9e10-a737e1f1df69",
   "metadata": {},
   "outputs": [
    {
     "data": {
      "text/plain": [
       "NoneType"
      ]
     },
     "execution_count": 24,
     "metadata": {},
     "output_type": "execute_result"
    }
   ],
   "source": [
    "type(species_data.cell(row=5, column=17).hyperlink)"
   ]
  },
  {
   "cell_type": "code",
   "execution_count": 25,
   "id": "c299a3b9-78c8-448c-abd9-fa3282831b90",
   "metadata": {},
   "outputs": [
    {
     "data": {
      "text/plain": [
       "openpyxl.cell.cell.Cell"
      ]
     },
     "execution_count": 25,
     "metadata": {},
     "output_type": "execute_result"
    }
   ],
   "source": [
    "type(species_data.cell(row=5, column=17))\n"
   ]
  },
  {
   "cell_type": "code",
   "execution_count": 26,
   "id": "ede1db73-0203-4f4c-bbd6-2d0ddd0a6e1e",
   "metadata": {},
   "outputs": [
    {
     "data": {
      "text/plain": [
       "<Cell 'SpeciesData'.Q5>"
      ]
     },
     "execution_count": 26,
     "metadata": {},
     "output_type": "execute_result"
    }
   ],
   "source": [
    "species_data.cell(row=5, column=17)\n"
   ]
  },
  {
   "cell_type": "markdown",
   "id": "a25158f7-7a1c-4caf-a03b-6eac5a58d26e",
   "metadata": {},
   "source": [
    "## Read data from a column\n",
    "For a selected variable (column), we can query data for the list of species.\n"
   ]
  },
  {
   "cell_type": "code",
   "execution_count": 27,
   "id": "14543ea1-9955-4854-bc7d-00ba278e009d",
   "metadata": {},
   "outputs": [
    {
     "data": {
      "text/plain": [
       "<Cell 'SpeciesData'.Q6>"
      ]
     },
     "execution_count": 27,
     "metadata": {},
     "output_type": "execute_result"
    }
   ],
   "source": [
    "species_data['Q6']"
   ]
  },
  {
   "cell_type": "code",
   "execution_count": 28,
   "id": "4a3b418f-7b69-46ff-85da-5aaedd172408",
   "metadata": {},
   "outputs": [
    {
     "data": {
      "text/plain": [
       "'Life span'"
      ]
     },
     "execution_count": 28,
     "metadata": {},
     "output_type": "execute_result"
    }
   ],
   "source": [
    "species_data.cell(row=2, column=31).value"
   ]
  },
  {
   "cell_type": "code",
   "execution_count": null,
   "id": "275ab8ee-0986-4b0e-8afa-45172b9b53a9",
   "metadata": {},
   "outputs": [],
   "source": []
  },
  {
   "cell_type": "code",
   "execution_count": 29,
   "id": "ac5bde94-7ca3-40f6-bbba-9629bb5ffd0a",
   "metadata": {},
   "outputs": [],
   "source": [
    "species_data.cell(row=16, column=31).value"
   ]
  },
  {
   "cell_type": "markdown",
   "id": "df532592-0213-458e-b7e4-0e3ffaecb65f",
   "metadata": {},
   "source": [
    "Example loop for querying values from one variable for all species in a range of cells:"
   ]
  },
  {
   "cell_type": "code",
   "execution_count": 30,
   "id": "65c45b50-b43a-4891-a866-dccd00e8ca9b",
   "metadata": {},
   "outputs": [
    {
     "name": "stdout",
     "output_type": "stream",
     "text": [
      "Life span\n",
      "3710: Acacia baileyana / 20-30 / References!C2\n",
      "3716: Acacia binervata / 20 \n",
      "3717: Acacia binervia / 50-100 / References!C2\n",
      "8601: Acacia bulgaensis / c. 20-40 \n",
      "3747: Acacia constablei / short? / References!N16\n"
     ]
    }
   ],
   "source": [
    "i=3\n",
    "j=31\n",
    "varname=species_data.cell(row=2, column=j).value\n",
    "print(varname)\n",
    "for i in range(13,40):\n",
    "    spname=species_data.cell(row=i, column=1).value\n",
    "    spcode=species_data.cell(row=i, column=2).value\n",
    "    varvalue=species_data.cell(row=i, column=j).value\n",
    "    varref=species_data.cell(row=i, column=j).hyperlink\n",
    "    if varvalue is not None:\n",
    "        if varref is not None:\n",
    "            print(\"%s: %s / %s / %s\" % (spcode,spname,varvalue, varref.location))\n",
    "        else:\n",
    "            print(\"%s: %s / %s \" % (spcode,spname,varvalue))\n"
   ]
  },
  {
   "cell_type": "code",
   "execution_count": null,
   "id": "3f603672-ddcb-4182-a66f-1f766682cba0",
   "metadata": {},
   "outputs": [],
   "source": []
  },
  {
   "cell_type": "markdown",
   "id": "ff9afa2a-f92a-4478-b8e6-85050f848dfd",
   "metadata": {},
   "source": [
    "## Read data for a row\n",
    "We can now do the same for a single species (row) and query values of each variable in a range. For example:"
   ]
  },
  {
   "cell_type": "code",
   "execution_count": 31,
   "id": "9bfd520b-2402-4c03-b886-98c6ac9cc1cb",
   "metadata": {},
   "outputs": [
    {
     "name": "stdout",
     "output_type": "stream",
     "text": [
      "3716: Acacia binervata\n",
      "7: Family / Fabaceae: Mimosoideae \n",
      "8: Group / D \n",
      "9: Life form / T \n",
      "10: Fireresponse / Sr \n",
      "11: Comments on regeneration / Resprouting form in northern tablelands (134) \n",
      "12: Resprout location / basal buds \n",
      "13: Seed storage / persistent soil \n",
      "14: Seed dispersal mechanism / a-ant / References!C56\n",
      "18: Dormancy / hard seed coat \n",
      "19: Germination cue / heat / References!C94\n",
      "22: Post-fire recruitment / prolific / References!C106\n",
      "23: Establishment / I / References!A94\n",
      "25: Flowering time / Aug-Nov \n",
      "26: Primary juvenile period / 5 / References!C36\n",
      "27: Secondary juvenile period / References!C36 / References!C36\n",
      "28: Seed set / 6 / References!C36\n",
      "29: Seed-bank developed / 10 / References!C36\n"
     ]
    }
   ],
   "source": [
    "# for j in 17\n",
    "i=18\n",
    "spname=species_data.cell(row=i, column=1).value\n",
    "spcode=species_data.cell(row=i, column=2).value\n",
    "print(\"%s: %s\" %(spcode,spname))\n",
    "    \n",
    "for j in range(3,30):\n",
    "    varname=species_data.cell(row=2, column=j).value\n",
    "    varvalue=species_data.cell(row=i, column=j).value\n",
    "    varref=species_data.cell(row=i, column=j).hyperlink\n",
    "    if varvalue is not None:\n",
    "        if varref is not None:\n",
    "            print(\"%s: %s / %s / %s\" % (j,varname,varvalue, varref.location))\n",
    "        else:\n",
    "            print(\"%s: %s / %s \" % (j,varname,varvalue))\n"
   ]
  },
  {
   "cell_type": "markdown",
   "id": "315db78f-2858-4cfd-9c5f-7f2607e19e67",
   "metadata": {},
   "source": [
    "## Search for a species code\n",
    "Here we try to locate the species code and then return the values for that row:"
   ]
  },
  {
   "cell_type": "code",
   "execution_count": 32,
   "id": "0afbec67-bd06-4621-802c-71fae884ac16",
   "metadata": {},
   "outputs": [
    {
     "name": "stdout",
     "output_type": "stream",
     "text": [
      "Found header with name: Eryngium vesiculosum at row: 1123 and column: 1. In cell <Cell 'SpeciesData'.A1123>\n"
     ]
    }
   ],
   "source": [
    "for cell in species_data['A']:\n",
    "    if(cell.value is not None): #We need to check that the cell is not empty.\n",
    "        if 'Eryngium vesiculosum' in cell.value: #Check if the value of the cell contains the text 'Table'\n",
    "            print('Found header with name: {} at row: {} and column: {}. In cell {}'.format(cell.value,cell.row,cell.column,cell))"
   ]
  },
  {
   "cell_type": "code",
   "execution_count": 33,
   "id": "fa6d0e49-ef01-40bb-8724-f263e6d8dbce",
   "metadata": {},
   "outputs": [
    {
     "name": "stdout",
     "output_type": "stream",
     "text": [
      "1117: Eryngium vesiculosum\n",
      "7: Family / Apiaceae \n",
      "8: Group / D \n",
      "9: Life form / H \n",
      "10: Fireresponse / R \n",
      "25: Flowering time / Dec-Mar \n",
      "27: Secondary juvenile period / <1 / References!C80\n",
      "31: Life span / short / References!C2\n",
      "37: NC / - \n",
      "38: CC / - \n",
      "39: SC / - \n",
      "40: NT / 1 \n",
      "41: CT / 1 \n",
      "42: ST / 1 \n",
      "43: NWS / 1 \n",
      "44: CWS / - \n",
      "45: SWS / 1 \n",
      "46: NWP / - \n",
      "47: SWP / - \n",
      "48: NFWP / - \n",
      "49: SFWP / - \n"
     ]
    }
   ],
   "source": [
    "# for j in 17\n",
    "i=1123\n",
    "spname=species_data.cell(row=i, column=1).value\n",
    "spcode=species_data.cell(row=i, column=2).value\n",
    "print(\"%s: %s\" %(spcode,spname))\n",
    "    \n",
    "for j in range(3,50):\n",
    "    varname=species_data.cell(row=2, column=j).value\n",
    "    varvalue=species_data.cell(row=i, column=j).value\n",
    "    varref=species_data.cell(row=i, column=j).hyperlink\n",
    "    if varvalue is not None:\n",
    "        if varref is not None:\n",
    "            print(\"%s: %s / %s / %s\" % (j,varname,varvalue, varref.location))\n",
    "        else:\n",
    "            print(\"%s: %s / %s \" % (j,varname,varvalue))\n"
   ]
  },
  {
   "cell_type": "markdown",
   "id": "ad354b48-0fc4-467c-9f6d-333c22cc97be",
   "metadata": {},
   "source": [
    "### Create list(s) of references \n",
    "We need to prepare list of references from spreadsheet 'References'.\n",
    "\n",
    "There are three sets of references:\n",
    "- the  \"normal\" references in columns C and D (pink)\n",
    "- the  \"Recovery Plan / Regional Forest Agreement Report\" references in columns N, O, and P (blue)\n",
    "- the  \"NFRR\" references in columns S and T (lila)\n",
    "\n",
    "Normal and NFRR references are identified by a simple two-cipher or -letter code and reference description, we will use a function to create a more descriptive reference code for the references based on the list of authors and date.\n",
    "\n",
    "For Recovery plans and Regional Forest Agreement Reports, we will use the species or region as reference code.\n"
   ]
  },
  {
   "cell_type": "code",
   "execution_count": 34,
   "id": "7f83f92b-1f7f-4951-abfe-c9033997b7f5",
   "metadata": {},
   "outputs": [
    {
     "name": "stdout",
     "output_type": "stream",
     "text": [
      "Asterolasia elegans\n"
     ]
    },
    {
     "data": {
      "text/plain": [
       "'RP Asterolasia elegans'"
      ]
     },
     "execution_count": 34,
     "metadata": {},
     "output_type": "execute_result"
    }
   ],
   "source": [
    "references = wb['References']\n",
    "\n",
    "val=references['O'][26].value.replace(\"(1) \",\"\")\n",
    "print(val)\n",
    "nswff.create_ref_code_RP(val)"
   ]
  },
  {
   "cell_type": "markdown",
   "id": "ec9f157d-47a8-46da-b66b-d32ff2494a07",
   "metadata": {},
   "source": [
    "Now we check references of NFRR (notice that we will substitute number _1_ with capital _I_ in _refcode_ to avoid problems with one reference (see below):"
   ]
  },
  {
   "cell_type": "code",
   "execution_count": 35,
   "id": "784816ef-037e-4c41-82e3-a6079f911850",
   "metadata": {},
   "outputs": [],
   "source": [
    "NFRR_refs=list()\n",
    "for row in range(1,66):\n",
    "    cite_text = references['T'][row].value.replace(\"(1) \",\"\")\n",
    "    cite_code = nswff.create_ref_code(cite_text) \n",
    "    record={\"refcode\": references['S'][row].value.replace(\"1\",\"I\"),\n",
    "            \"refstring\": cite_code,#re.sub(r\", [A-Z\\.]+\",\" \",cite_code),\n",
    "            \"refinfo\": cite_text\n",
    "    }\n",
    "    NFRR_refs.append(record)"
   ]
  },
  {
   "cell_type": "code",
   "execution_count": 36,
   "id": "72839954-85e0-4f03-b3b0-06c8a2061bde",
   "metadata": {},
   "outputs": [
    {
     "data": {
      "text/plain": [
       "{'refcode': 'SA',\n",
       " 'refstring': 'Carolyn Sandercoe Qld. unpub.',\n",
       " 'refinfo': 'Carolyn Sandercoe, Qld. (unpublished)'}"
      ]
     },
     "execution_count": 36,
     "metadata": {},
     "output_type": "execute_result"
    }
   ],
   "source": [
    "NFRR_refs[56]"
   ]
  },
  {
   "cell_type": "code",
   "execution_count": 37,
   "id": "cbfa70a3-0154-4967-9151-4a04f6b531d7",
   "metadata": {},
   "outputs": [
    {
     "data": {
      "text/plain": [
       "'BF'"
      ]
     },
     "execution_count": 37,
     "metadata": {},
     "output_type": "execute_result"
    }
   ],
   "source": [
    "NFRR_refs[6][\"refcode\"]"
   ]
  },
  {
   "cell_type": "code",
   "execution_count": 38,
   "id": "c714dbc9-aa8d-4097-b5cc-9e5a818cef19",
   "metadata": {},
   "outputs": [
    {
     "name": "stdout",
     "output_type": "stream",
     "text": [
      "NFRR reference FOI refers to 'Fox, J.E.D. (1985). Fire in Mulga: Studies at the margins. In: Fire ecology and management of Western Australian ecosystems. (ed: J.R. Ford). Western Australian Institute of Technology, report no. 14.'\n"
     ]
    }
   ],
   "source": [
    "qry=\"FOI\"\n",
    "for elem in filter(lambda x: x['refcode'] == qry, NFRR_refs):\n",
    "    print(\"NFRR reference %s refers to '%s'\" % (qry, elem['refinfo']))"
   ]
  },
  {
   "cell_type": "markdown",
   "id": "71f2e798-f637-4dea-a7fa-52ae8c281381",
   "metadata": {},
   "source": [
    "We do the same for the \"normal\" references column:"
   ]
  },
  {
   "cell_type": "code",
   "execution_count": 39,
   "id": "4cb153fe-d2d8-42d6-ad2f-97c96d9e43f7",
   "metadata": {},
   "outputs": [],
   "source": [
    "other_refs=list()\n",
    "for row in range(1,139):\n",
    "    cite_text = references['D'][row].value\n",
    "    cite_code = nswff.create_ref_code(cite_text) \n",
    "    if cite_code == \"Benson 1985\":\n",
    "        cite_code = \"Benson 1985b\"\n",
    "    record={\"refcode\": references['C'][row].value,\n",
    "            \"refstring\": cite_code,\n",
    "            \"refinfo\": cite_text\n",
    "    }\n",
    "    other_refs.append(record)"
   ]
  },
  {
   "cell_type": "code",
   "execution_count": 40,
   "id": "7b79a9ff-e6ae-459b-b023-180d6daf3c66",
   "metadata": {},
   "outputs": [
    {
     "data": {
      "text/plain": [
       "{'refcode': 10,\n",
       " 'refstring': 'Wark White Robertson Marriott 1987',\n",
       " 'refinfo': 'Wark, M.C., White, M.D., Robertson, D.J. and Marriott, P.F. (1987). Regeneration of heath and heath woodland in the north-eastern Otway Ranges following the wildfire of February 1983. Proc.Roy.Soc.Vic. 99, 51-88.'}"
      ]
     },
     "execution_count": 40,
     "metadata": {},
     "output_type": "execute_result"
    }
   ],
   "source": [
    "other_refs[9]"
   ]
  },
  {
   "cell_type": "markdown",
   "id": "06e42f87-8c26-485e-be94-1fa456e64ed3",
   "metadata": {},
   "source": [
    "Now the recovery plan references:"
   ]
  },
  {
   "cell_type": "code",
   "execution_count": 41,
   "id": "f312b93b-134b-47be-ac84-acf48e0793c1",
   "metadata": {},
   "outputs": [],
   "source": [
    "rp_refs=list()\n",
    "for row in range(1,46):\n",
    "    cite_code = nswff.create_ref_code_RP(references['O'][row].value) \n",
    "    cite_text = \"%s. %s\" % (cite_code, references['P'][row].value)\n",
    "    record={\"refcode\": references['N'][row].value,\n",
    "            \"refstring\": cite_code,\n",
    "            \"refinfo\": cite_text\n",
    "    }\n",
    "    rp_refs.append(record)"
   ]
  },
  {
   "cell_type": "markdown",
   "id": "b7c82c16-e3c6-4440-897b-34bdb1201fa6",
   "metadata": {},
   "source": [
    "Check if there are duplicated references:"
   ]
  },
  {
   "cell_type": "code",
   "execution_count": 42,
   "id": "361948a2-d4c8-4db4-aa3e-b656ad010ab3",
   "metadata": {},
   "outputs": [
    {
     "name": "stdout",
     "output_type": "stream",
     "text": [
      "Benwell 1998\n",
      "Molnar Fletcher Parsons 1989\n",
      "Wark White Robertson Marriott 1987\n",
      "Wark 1997\n"
     ]
    }
   ],
   "source": [
    "l1 = list()\n",
    "for r in NFRR_refs: \n",
    "    l1.append(r[\"refstring\"])\n",
    "l2 = list()\n",
    "for r in other_refs: \n",
    "    l2.append(r[\"refstring\"])\n",
    "\n",
    "for i in l1:\n",
    "    if i in l2:\n",
    "        print(i)\n"
   ]
  },
  {
   "cell_type": "code",
   "execution_count": 43,
   "id": "2bc52f0b-4b84-485e-b00c-ace9c0bcd1ec",
   "metadata": {},
   "outputs": [
    {
     "name": "stdout",
     "output_type": "stream",
     "text": [
      "Reference Benwell 1998 refers to 'Benwell A.S. (1998). Post-fire seedling recruitment in coastal heathland in relation to regeneration strategy and habitat. Aust. J. Bot. 46, 75-101.'\n",
      "Reference Benwell 1998 refers to 'Benwell, A.S. (1998) Post-fire seedling recruitment in coastal heathland in relation to regeneration strategy and habitat. Aust. J. Bot. 46:75-101.  Data compiled by D.Keith (Keith, D.A., McCaw, W.L. & Whelan, R.J. (2002) pp. 199-237 in \"Flammable Australia: The fire regimes and biodiversity of a continent\" Ed. R.A. Bradstock, J.E. Williams & M.A. Gill. Cambridge University Press, Cambridge)'\n"
     ]
    }
   ],
   "source": [
    "qry=\"Benwell 1998\"\n",
    "for elem in filter(lambda x: x['refstring'] == qry, NFRR_refs):\n",
    "    print(\"Reference %s refers to '%s'\" % (qry, elem['refinfo']))\n",
    "for elem in filter(lambda x: x['refstring'] == qry, other_refs):\n",
    "    print(\"Reference %s refers to '%s'\" % (qry, elem['refinfo']))\n",
    "    "
   ]
  },
  {
   "cell_type": "markdown",
   "id": "06f5395c-c019-4d05-becd-fff6f053cd86",
   "metadata": {},
   "source": [
    "### Matching references from hyperlinks\n",
    "We created a function to translate hyperlinks to a reference.\n",
    "We can test this function for several rows:"
   ]
  },
  {
   "cell_type": "code",
   "execution_count": 44,
   "id": "01c2b921-d508-4400-a590-3ab2607c2c7b",
   "metadata": {},
   "outputs": [
    {
     "name": "stdout",
     "output_type": "stream",
     "text": [
      "157 :: [flowers well after fire] // ['Bishop 1996']\n",
      "162 :: [flowering 1 year post-fire] // ['Knox Clarke 2004']\n",
      "233 :: [facultative] // ['Keith David pers. comm.']\n"
     ]
    }
   ],
   "source": [
    "for row_index in (157,162,233):\n",
    "    spname=species_data[sp_col][row_index].value\n",
    "    pjp=species_data[target_cols['repr2']][row_index]\n",
    " \n",
    "    raw=pjp.value\n",
    "    if (pjp.hyperlink is not None):\n",
    "        ref=nswff.extract_link(pjp,references,other_refs, rp_refs, NFRR_refs)\n",
    "        if ref is not None:\n",
    "            print(\"%s :: [%s] // %s\" % (row_index,raw,ref[1]))\n",
    "        else:\n",
    "            print(\"%s :: [%s] \" % (row_index,raw))            \n",
    "    else:\n",
    "        print(\"%s :: [%s] \" % (row_index,raw))"
   ]
  },
  {
   "cell_type": "markdown",
   "id": "932eb882-8ec0-4408-9489-4881501bc922",
   "metadata": {},
   "source": [
    "Note: \n",
    "We had to modify the function to deal with one malformed hyperlink referring to use this to fix error with one hyperlink `C84\\\\` at `SpeciesData.AE2080`"
   ]
  },
  {
   "cell_type": "markdown",
   "id": "afee0113-d0c1-4673-bbb5-8a73c53c545d",
   "metadata": {},
   "source": [
    "### Colored and modified fonts\n",
    "\n",
    "Some records include additional information coded in font color or strikethrough of values. With Python we can query cell colors and strikethrough properties of the font to verify if information has been annotated, but not with enough detail to distinguish with part of the value is annotated and which is not. For example:"
   ]
  },
  {
   "cell_type": "code",
   "execution_count": 45,
   "id": "a1396a97-5373-407e-8cb1-c22f98719bf2",
   "metadata": {},
   "outputs": [
    {
     "name": "stdout",
     "output_type": "stream",
     "text": [
      "Cell 23 has colored font\n",
      "60\n",
      "Cell 24 has no colored font\n",
      "Cell 67 has colored font\n",
      "60\n",
      "Cell 68 has no colored font\n",
      "Cell 71 has no colored font\n",
      "Cell 73 has colored font\n",
      "60\n",
      "Cell 73 has strikethrough\n"
     ]
    }
   ],
   "source": [
    "for row in [22,23,66,67,70,72]:\n",
    "    if species_data['BN'][row].font.color == None:\n",
    "        print(\"Cell %s has no colored font\" % (row+1))\n",
    "    else:\n",
    "        print(\"Cell %s has colored font\" % (row+1))\n",
    "        print(species_data['BN'][row].font.color.indexed)\n",
    "    if species_data['BN'][row].font.strike != None:\n",
    "        print(\"Cell %s has strikethrough\" % (row+1))"
   ]
  },
  {
   "cell_type": "markdown",
   "id": "5b154eea-07aa-42e5-ae56-6be644a07803",
   "metadata": {},
   "source": [
    "### Processing strings with and without references\n",
    "Cell values in the target columns might includes values in mixed formats, sometimes numbers and sometimes text, sometimes different observations are recorded for each species using delimiters and citing references in text, e.g.: \n",
    "> value1 (ref a) / value2 (ref b)\n",
    " \n",
    "In such cases we want to split the values into different records and keep the values as 'raw value' and document the references cited. If the value in the cell matches our predefined values (e.g. Exclusive, Facultative, Negligible for post-fire flowering), we will fill a 'norm_value' with the corresponding category, if no match is found we will keep it empty for later processing.\n",
    "\n",
    "In exceptional cases a reference is given in the text: \"(12)\" refers to reference 12.\n",
    "\n",
    "We will define a _switcher_ function to transform raw values into normalised values:"
   ]
  },
  {
   "cell_type": "code",
   "execution_count": 46,
   "id": "4b0d9442-e512-4dfe-8082-667e91f24672",
   "metadata": {},
   "outputs": [
    {
     "data": {
      "text/plain": [
       "True"
      ]
     },
     "execution_count": 46,
     "metadata": {},
     "output_type": "execute_result"
    }
   ],
   "source": [
    "switcher={\n",
    "    \"repr2\":{\n",
    "        \"facultative\": \"Facultative\",\n",
    "        \"yes\": \"Facultative\",\n",
    "        \"yes?\": \"Facultative\",\n",
    "        \"most profuse after fire\": \"Facultative\",\n",
    "        \"exclusive\": \"Exclusive\",\n",
    "        \"exclusive?\": \"Exclusive\",\n",
    "        \"negligible\": \"Negligible\"\n",
    "    },\n",
    "    \"rect2\":{\n",
    "        \"I\":\"Intolerant\",\n",
    "        \"T\":\"Tolerant\",\n",
    "        \"R\":\"Requiring\",\n",
    "        \"T R\":\"Tolerant-Requiring\",\n",
    "        \"I T\":\"Intolerant-Tolerant\",\n",
    "        \"T I\":\"Intolerant-Tolerant\"\n",
    "    },\n",
    "    \"germ1\":{\n",
    "        'canopy': 'Canopy',\n",
    "        \n",
    "        'persistent soil': 'Soil-persistent', \n",
    "        'persistent': 'Soil-persistent', \n",
    "        'peristent': 'Soil-persistent', \n",
    "        'soil': 'Soil-persistent', \n",
    "        \n",
    "        'transient': 'Transient', \n",
    "        'none':'Transient', \n",
    "        'shed at maturity': 'Transient', \n",
    "        'viviparous':'Transient', \n",
    "        'canopy / released at maturity':'Transient', \n",
    "        'canopy / regularly without fire':'Transient', \n",
    "        'canopy - transient':'Transient', \n",
    "        'transient': 'Transient', \n",
    "        \n",
    "        'serotinous canopy': 'Canopy',\n",
    "        'non-canopy': 'Non-canopy',\n",
    "        'not canopy': 'Non-canopy',\n",
    "        \n",
    "        'other': 'Other'\n",
    "    },\n",
    "     \"surv4\":{\n",
    "        'epicormic': 'Epicormic', \n",
    "        'stem buds': 'Epicormic', \n",
    "        'apical': 'Apical', \n",
    "        'lignotuber': 'Lignotuber',\n",
    "        'root stock': 'Lignotuber',\n",
    "        'rootstock': 'Lignotuber',\n",
    "        'basal': 'Basal',\n",
    "        'basal buds': 'Basal',\n",
    "        'coppice': 'Basal',\n",
    "        'tuber': 'Tuber',\n",
    "        'taproot': 'Tuber',\n",
    "        'tap root': 'Tuber',\n",
    "        'tussock': 'Tussock',\n",
    "        'rhizome': 'Long rhizome or root sucker',\n",
    "        'rootucker': 'Long rhizome or root sucker',\n",
    "        'rootuckers': 'Long rhizome or root sucker',\n",
    "        'rootsuckers': 'Long rhizome or root sucker',\n",
    "        'root buds': 'Long rhizome or root sucker',\n",
    "        'root sucker': 'Long rhizome or root sucker',\n",
    "        'root suckers': 'Long rhizome or root sucker',\n",
    "        'rhizome': 'Short rhizome',\n",
    "        'stolon': 'Stolon',\n",
    "        'stolons': 'Stolon'\n",
    "    }\n",
    "}\n",
    "isinstance(switcher[\"germ1\"],dict)"
   ]
  },
  {
   "cell_type": "markdown",
   "id": "99391b9f-6844-4022-a8f7-20005a4e5ff0",
   "metadata": {},
   "source": [
    "And we defined a function to extract values from a target cell:"
   ]
  },
  {
   "cell_type": "code",
   "execution_count": 47,
   "id": "820233e2-2d7f-40d3-a905-619be47d513b",
   "metadata": {},
   "outputs": [
    {
     "name": "stdout",
     "output_type": "stream",
     "text": [
      "157 ::  {'raw_value': ['Post-fire flowering', 'flowers well after fire'], 'main_source': 'NSWFFRDv2.1', 'original_notes': ['Cell color index 12'], 'species': 'Acianthus caudatus', 'species_code': '4351', 'original_sources': ['Bishop 1996']}\n",
      "162 ::  {'raw_value': ['Post-fire flowering', 'flowering 1 year post-fire'], 'main_source': 'NSWFFRDv2.1', 'species': 'Aciphylla simplicifolia', 'species_code': '1091', 'original_sources': ['Knox Clarke 2004']}\n",
      "233 ::  {'raw_value': ['Post-fire flowering', 'facultative'], 'main_source': 'NSWFFRDv2.1', 'norm_value': 'Facultative', 'original_notes': ['Cell color index 12'], 'species': 'Amperea xiphoclada var. xiphoclada', 'species_code': '9713', 'original_sources': ['Keith David pers. comm.']}\n"
     ]
    }
   ],
   "source": [
    "target_col=target_cols[\"repr2\"]\n",
    "\n",
    "varname=species_data[target_col][1].value\n",
    "\n",
    "for row_index in (157,162,233):\n",
    "    pjp=species_data[target_col][row_index]\n",
    "    if (pjp.hyperlink is not None):\n",
    "        ref=nswff.extract_link(pjp,references,other_refs,rp_refs,NFRR_refs)\n",
    "    else:\n",
    "        ref=None\n",
    "    if (pjp.value is not None):\n",
    "        spname=species_data[sp_col][row_index].value\n",
    "        spcode=species_data[spcode_col][row_index].value\n",
    "        rec=nswff.extract_value(pjp,switcher[\"repr2\"],varname,\n",
    "                               references,other_refs,rp_refs,NFRR_refs)\n",
    "        for record in rec:\n",
    "            record[\"species\"]=spname\n",
    "            record[\"species_code\"]=spcode\n",
    "            if 'original_sources' not in record and ref is not None:\n",
    "                record['original_sources'] = ref[1]\n",
    "            print(\"%s ::  %s\" % (row_index,record))\n",
    "           \n",
    "    else:\n",
    "        print(\"%s is empty \" % (row_index))"
   ]
  },
  {
   "cell_type": "markdown",
   "id": "634429bc-4730-4a63-8717-82fae2615c8a",
   "metadata": {},
   "source": [
    "We wrap this in one single function call so that we can get one or many records per cell with a simple function call:"
   ]
  },
  {
   "cell_type": "code",
   "execution_count": 48,
   "id": "22efff74-a4e3-4f8b-88b3-2909f4755fe1",
   "metadata": {},
   "outputs": [
    {
     "name": "stdout",
     "output_type": "stream",
     "text": [
      "[{'raw_value': ['Establishment', 'I (R35)', '->', 'I'], 'main_source': 'NSWFFRDv2.1', 'norm_value': 'Intolerant', 'original_sources': ['RP RFA NSW - Eden'], 'original_notes': ['original record split into multiple entries, prob. different sources'], 'species': 'Acacia constablei', 'species_code': '3747'}, {'raw_value': ['Establishment', 'even aged stands indicate post fire recruitment; though some recruitment in absence of fire (R15)', '->', 'even aged stands indicate post fire recruitment; though some recruitment in absence of fire', '->', 'even aged stands indicate post fire recruitment'], 'main_source': 'NSWFFRDv2.1', 'original_sources': ['RP Threatened Flora of Rocky Outcrops in South Eas'], 'original_notes': ['original record split into multiple entries, prob. different sources', 'original record split into multiple entries separated by and/or'], 'species': 'Acacia constablei', 'species_code': '3747'}, {'raw_value': ['Establishment', 'even aged stands indicate post fire recruitment; though some recruitment in absence of fire (R15)', '->', 'even aged stands indicate post fire recruitment; though some recruitment in absence of fire', '->', 'though some recruitment in absence of fire'], 'main_source': 'NSWFFRDv2.1', 'original_sources': ['RP Threatened Flora of Rocky Outcrops in South Eas'], 'original_notes': ['original record split into multiple entries, prob. different sources', 'original record split into multiple entries separated by and/or'], 'species': 'Acacia constablei', 'species_code': '3747'}]\n",
      "[{'raw_value': ['Establishment', 'I'], 'main_source': 'NSWFFRDv2.1', 'norm_value': 'Intolerant', 'species': 'Acacia quadrilateralis', 'species_code': '3863'}]\n",
      "[{'raw_value': ['Establishment', 'T'], 'main_source': 'NSWFFRDv2.1', 'norm_value': 'Tolerant', 'original_notes': ['Cell color index 12'], 'species': 'Acrophyllum australe', 'species_code': '2265', 'original_sources': ['RP Acrophyllum australe']}]\n"
     ]
    }
   ],
   "source": [
    "target_col=target_cols[\"rect2\"]\n",
    "for row_index in (36,122,167):\n",
    "    rr = nswff.create_record(species_data,\n",
    "                             target_col,\n",
    "                             row_index,\n",
    "                             switcher[\"rect2\"],\n",
    "                             references,\n",
    "                             other_refs,\n",
    "                             rp_refs,\n",
    "                             NFRR_refs\n",
    "                            )\n",
    "    print(rr)"
   ]
  },
  {
   "cell_type": "markdown",
   "id": "a9bcf504-4f6f-4262-a1c1-98cd53726c70",
   "metadata": {},
   "source": [
    "### Numeric traits\n",
    "Read the spreadsheet from NSW Flora Fire response database and extract information for the time to first flowering after fire (primary and secondary juvenile periods for recruits and resprouters respectively)"
   ]
  },
  {
   "cell_type": "code",
   "execution_count": 49,
   "id": "ba3e23ae-3173-43a1-a4b9-f1610248407b",
   "metadata": {},
   "outputs": [
    {
     "name": "stdout",
     "output_type": "stream",
     "text": [
      "Current Scientific Name (Species Code) / Secondary juvenile period / Fire tolerance / Life span / Seed-bank longevity \n"
     ]
    }
   ],
   "source": [
    "sp_col='A'\n",
    "spcode_col='B'\n",
    "target_cols = {'repr3':'Z', \n",
    "               'repr3a':'AA', \n",
    "               'grow1':'AD', \n",
    "               'repr4':None, \n",
    "               'surv5':'AE', \n",
    "               'surv6':None, \n",
    "               'surv7':'AF'}\n",
    "\n",
    "print(\"%s (%s) / %s / %s / %s / %s \" %\n",
    "(species_data[sp_col][1].value,\n",
    " species_data[spcode_col][1].value,\n",
    "species_data[target_cols['repr3a']][1].value,\n",
    "species_data[target_cols['grow1']][1].value,\n",
    "species_data[target_cols['surv5']][1].value,\n",
    "species_data[target_cols['surv7']][1].value))"
   ]
  },
  {
   "cell_type": "code",
   "execution_count": 50,
   "id": "67113944-9c5a-4b4e-8089-4ee402dff56f",
   "metadata": {},
   "outputs": [
    {
     "data": {
      "text/plain": [
       "[{'raw_value': ['Primary juvenile period', '2 (10)'],\n",
       "  'main_source': 'NSWFFRDv2.1',\n",
       "  'original_sources': ['Wark White Robertson Marriott 1987'],\n",
       "  'best': '2',\n",
       "  'species': 'Acacia myrtifolia',\n",
       "  'species_code': '3834',\n",
       "  'weight': 1,\n",
       "  'weight_notes': ['automatic assignment of weight by python script',\n",
       "   'default value of 1']},\n",
       " {'raw_value': ['Primary juvenile period', '2.5 (1b)'],\n",
       "  'main_source': 'NSWFFRDv2.1',\n",
       "  'original_sources': ['Benson McDougall Ecology Sydney Plant Species Cunn'],\n",
       "  'species': 'Acacia myrtifolia',\n",
       "  'species_code': '3834',\n",
       "  'weight': 1,\n",
       "  'weight_notes': ['automatic assignment of weight by python script',\n",
       "   'default value of 1']},\n",
       " {'raw_value': ['Primary juvenile period', '3 (9, 48)'],\n",
       "  'main_source': 'NSWFFRDv2.1',\n",
       "  'original_sources': ['Keith David pers. comm.', 'Wark 1997'],\n",
       "  'best': '3',\n",
       "  'species': 'Acacia myrtifolia',\n",
       "  'species_code': '3834',\n",
       "  'weight': 1,\n",
       "  'weight_notes': ['automatic assignment of weight by python script',\n",
       "   'default value of 1']},\n",
       " {'raw_value': ['Primary juvenile period', '4 (38)'],\n",
       "  'main_source': 'NSWFFRDv2.1',\n",
       "  'original_sources': ['Department Natural Resources Environment '],\n",
       "  'best': '4',\n",
       "  'species': 'Acacia myrtifolia',\n",
       "  'species_code': '3834',\n",
       "  'weight': 1,\n",
       "  'weight_notes': ['automatic assignment of weight by python script',\n",
       "   'default value of 1']}]"
      ]
     },
     "execution_count": 50,
     "metadata": {},
     "output_type": "execute_result"
    }
   ],
   "source": [
    "x=nswff.create_numeric_record(species_data,target_cols['repr3'],100,\n",
    "                             references, other_refs, rp_refs, NFRR_refs)\n",
    "len(x)\n",
    "x"
   ]
  },
  {
   "cell_type": "code",
   "execution_count": 51,
   "id": "614fa419-c5e3-470c-8d61-d21601208ad0",
   "metadata": {},
   "outputs": [
    {
     "name": "stdout",
     "output_type": "stream",
     "text": [
      "98 ::  {'raw_value': ['Primary juvenile period', '3'], 'best': 3, 'main_source': 'NSWFFRDv2.1', 'original_notes': ['Cell color index 12'], 'species': 'Acacia mucronata subsp. longifolia', 'species_code': '10058', 'original_sources': ['Wark 1997']}\n",
      "99 ::  {'raw_value': ['Primary juvenile period', 'c. 3'], 'main_source': 'NSWFFRDv2.1', 'original_notes': ['Cell color index 12'], 'species': 'Acacia murrayana', 'species_code': '3832', 'original_sources': ['Hodgkinson Griffin 1982']}\n",
      "100 ::  {'raw_value': ['Primary juvenile period', '2 (10)'], 'main_source': 'NSWFFRDv2.1', 'original_sources': ['Wark White Robertson Marriott 1987'], 'best': '2', 'species': 'Acacia myrtifolia', 'species_code': '3834'}\n",
      "100 ::  {'raw_value': ['Primary juvenile period', '2.5 (1b)'], 'main_source': 'NSWFFRDv2.1', 'original_sources': ['Benson McDougall Ecology Sydney Plant Species Cunn'], 'species': 'Acacia myrtifolia', 'species_code': '3834'}\n",
      "100 ::  {'raw_value': ['Primary juvenile period', '3 (9, 48)'], 'main_source': 'NSWFFRDv2.1', 'original_sources': ['Keith David pers. comm.', 'Wark 1997'], 'best': '3', 'species': 'Acacia myrtifolia', 'species_code': '3834'}\n",
      "100 ::  {'raw_value': ['Primary juvenile period', '4 (38)'], 'main_source': 'NSWFFRDv2.1', 'original_sources': ['Department Natural Resources Environment '], 'best': '4', 'species': 'Acacia myrtifolia', 'species_code': '3834'}\n",
      "206 ::  {'raw_value': ['Primary juvenile period', '>3'], 'main_source': 'NSWFFRDv2.1', 'lower': '3', 'original_notes': ['Cell color index 12'], 'species': 'Allocasuarina glareicola', 'species_code': '8320', 'original_sources': ['RP Allocasuarina glareicola']}\n",
      "1422 is empty \n",
      "1421 ::  {'raw_value': ['Primary juvenile period', '1 (10, 48)'], 'main_source': 'NSWFFRDv2.1', 'original_sources': ['Wark White Robertson Marriott 1987', 'Wark 1997'], 'best': '1', 'original_notes': ['Cell color index 12'], 'species': 'Goodenia ovata', 'species_code': '3192'}\n",
      "1421 ::  {'raw_value': ['Primary juvenile period', '3 (1, 38)'], 'main_source': 'NSWFFRDv2.1', 'original_sources': ['Benson McDougall Ecology Sydney Plant Species Cunn', 'Department Natural Resources Environment '], 'best': '3', 'original_notes': ['Cell color index 12'], 'species': 'Goodenia ovata', 'species_code': '3192'}\n"
     ]
    }
   ],
   "source": [
    "varname=species_data[target_cols['repr3']][1].value\n",
    "for row_index in (98,99,100,206, 1422,1421):\n",
    "    target=species_data[target_cols['repr3']][row_index]\n",
    "    if (target.hyperlink is not None):\n",
    "        ref=nswff.extract_link(target,references,other_refs,rp_refs,NFRR_refs)\n",
    "    else:\n",
    "        ref=None\n",
    "    if (target.value is not None):\n",
    "        spname=species_data[sp_col][row_index].value\n",
    "        spcode=species_data[spcode_col][row_index].value\n",
    "        rec=nswff.extract_numeric_value(target,varname,\n",
    "                                  references,other_refs,rp_refs,NFRR_refs)\n",
    "        for record in rec:\n",
    "            record[\"main_source\"]=\"NSWFFRDv2.1\"\n",
    "            record[\"species\"]=spname\n",
    "            record[\"species_code\"]=spcode\n",
    "            if 'original_sources' not in record and ref is not None:\n",
    "                record['original_sources'] = ref[1]\n",
    "            print(\"%s ::  %s\" % (row_index,record))\n",
    "           \n",
    "    else:\n",
    "        print(\"%s is empty \" % (row_index))"
   ]
  },
  {
   "cell_type": "markdown",
   "id": "05712b7f-54b4-4219-9680-cf2a7bc9d986",
   "metadata": {},
   "source": [
    "## Resprouting\n",
    "This column has more complexity than other columns in the spreadsheet.\n",
    "In the case of the resprouting we need to decifer the information in columns _J_ ('Fireresponse'), _BN_ ('NFRR data') and _BO_ ('Additional fire response data').\n",
    "\n",
    "We can use square brackets to refer to a column and then use python indices (starting with _0_ for the top row) to slice it. We use the property _value_ to show their stored content. "
   ]
  },
  {
   "cell_type": "code",
   "execution_count": 52,
   "id": "27babf3e-ea38-43e0-b19c-ae79c93a2135",
   "metadata": {},
   "outputs": [
    {
     "name": "stdout",
     "output_type": "stream",
     "text": [
      "NFRR data\n",
      "8CN\n"
     ]
    }
   ],
   "source": [
    "print(species_data['BN'][1].value)\n",
    "print(species_data['BN'][2].value)"
   ]
  },
  {
   "cell_type": "markdown",
   "id": "5df55f3a-0f74-4957-8b25-3b604f71c213",
   "metadata": {},
   "source": [
    "Alternatively, we can use the function _cell_ to retrieve individual cells. Indices here follow the spreadsheet convention and start with _1_ for the top row. The header is in the second row, the first value is in the third row:"
   ]
  },
  {
   "cell_type": "code",
   "execution_count": 53,
   "id": "a072cda8-40d8-4443-aca5-27b296b9026a",
   "metadata": {},
   "outputs": [
    {
     "name": "stdout",
     "output_type": "stream",
     "text": [
      "Fireresponse\n",
      "S\n"
     ]
    }
   ],
   "source": [
    "print(species_data.cell(row=2,column=10).value)\n",
    "print(species_data.cell(row=3,column=10).value)"
   ]
  },
  {
   "cell_type": "markdown",
   "id": "9f41252b-ee0e-4c46-9498-aba161760041",
   "metadata": {},
   "source": [
    "### Example for one species:\n",
    "Let's start checking the columns we need:"
   ]
  },
  {
   "cell_type": "code",
   "execution_count": 54,
   "id": "d5b53986-3715-4015-a882-a2386078a4e6",
   "metadata": {},
   "outputs": [
    {
     "name": "stdout",
     "output_type": "stream",
     "text": [
      "Current Scientific Name / Fireresponse / Comments on regeneration / NFRR data / Additional fire response data\n"
     ]
    }
   ],
   "source": [
    "sp_col='A'\n",
    "fireresponse_col='J'\n",
    "comment_col='K'\n",
    "NFRR_col='BN'\n",
    "oref_col='BO'\n",
    "\n",
    "print(\"%s / %s / %s / %s / %s\" %\n",
    "(species_data[sp_col][1].value,\n",
    "species_data[fireresponse_col][1].value,\n",
    "species_data[comment_col][1].value,\n",
    "species_data[NFRR_col][1].value,\n",
    "species_data[oref_col][1].value))"
   ]
  },
  {
   "cell_type": "markdown",
   "id": "09ad44f5-ffde-4b76-a4f1-2fc03b597478",
   "metadata": {},
   "source": [
    "Descriptions of these columns are found in the spreadsheet:\n",
    "> Fire Response: S=seeder, R=resprouter. r=usually killed but sometimes resprouts, s=usually resprouts but sometimes killed; these may indicate a variable response seen by one observer, or a conflict between different observers (see comments column). When an equal number of references list the species as seeder or resprouter, this column reads as 'S/R' and details are given in the comments cloumn. Ideally fire response should be defined by mortality >70%=seeder, mortality <30%=resprouter [Gill & Bradstock, 1992].\n",
    "\n",
    "> Comments on regeneration Notes on conflicting or variable regeneration information. May indicate response to various fire intensity levels; level of mortality seen; a variable fire response seen by one observer within the same species. Some species with distinct recordings for both resprouter and seeder have been listed seperately as 'fire sensitive/tolerant variety'.\n",
    "\n",
    "> NFRR data: Fire response data from CSIRO National Fire Response Register, given in original format (see VA sheet for regeneration codes, Reference sheet for reference codes). Corrections made to these after checking original references in brown text: all brown (eg 5W) =species missed from reference; regen code brown (eg 5W) =corrected regen code; strikethrough (eg 5W) =species not in reference\n",
    "\n",
    "> Additional Fire Response data: Fire response data from other references. See VA Groups sheet for regeneration codes; see References sheet for reference codes"
   ]
  },
  {
   "cell_type": "markdown",
   "id": "6d6139c3-ac8c-4045-9362-58083d6ba068",
   "metadata": {},
   "source": [
    "Now select one record"
   ]
  },
  {
   "cell_type": "code",
   "execution_count": 55,
   "id": "5e796fb5-e410-425b-ba65-18ecfb7c91a8",
   "metadata": {},
   "outputs": [
    {
     "name": "stdout",
     "output_type": "stream",
     "text": [
      "Abutilon oxycarpum / S / None / 8BD / II-95b\n"
     ]
    }
   ],
   "source": [
    "row_index=3\n",
    "\n",
    "print(\"%s / %s / %s / %s / %s\" %\n",
    "(species_data[sp_col][row_index].value,\n",
    "species_data[fireresponse_col][row_index].value,\n",
    "species_data[comment_col][row_index].value,\n",
    "species_data[NFRR_col][row_index].value,\n",
    "species_data[oref_col][row_index].value))"
   ]
  },
  {
   "cell_type": "markdown",
   "id": "63241f7c-4929-445b-8f70-ae61b75e3a89",
   "metadata": {},
   "source": [
    "The code '8BD' refers to 'Regeneration category' 8 and the reference code 'BD'. Similarly, 'II-95b' can be decomposed into regeneration categories IIb and reference 95. We will need to create python dictionaries to link this information across the spreadsheets."
   ]
  },
  {
   "cell_type": "markdown",
   "id": "1ca87f19-23fe-4cf7-8ccf-511834d8775b",
   "metadata": {},
   "source": [
    "### Look-up table for VA groups\n",
    "\n",
    "For the VA groups we need colums A, B and C:"
   ]
  },
  {
   "cell_type": "code",
   "execution_count": 56,
   "id": "970c2a57-f8ea-4a11-8f10-d538ed517a2e",
   "metadata": {},
   "outputs": [],
   "source": [
    "va_groups = wb['VA Groups']\n",
    "reg_cats=list()\n",
    "for row in range(3,13):\n",
    "    record={\"NFRRcode\":va_groups['A'][row].value,\n",
    "    \"othercode\":va_groups['B'][row].value,\n",
    "     \"category\":va_groups['C'][row].value\n",
    "    }\n",
    "    reg_cats.append(record)"
   ]
  },
  {
   "cell_type": "code",
   "execution_count": 57,
   "id": "715ab18a-093f-43be-b3f7-2e1d3f299773",
   "metadata": {},
   "outputs": [
    {
     "data": {
      "text/plain": [
       "{'NFRRcode': 1,\n",
       " 'othercode': 'I',\n",
       " 'category': 'Killed by 100% scorch; seed storage on plant'}"
      ]
     },
     "execution_count": 57,
     "metadata": {},
     "output_type": "execute_result"
    }
   ],
   "source": [
    "reg_cats[0]"
   ]
  },
  {
   "cell_type": "markdown",
   "id": "c4f50003-0b15-463d-994d-029b7d31b488",
   "metadata": {},
   "source": [
    "Now if we need to lookup one value we can use a filter:"
   ]
  },
  {
   "cell_type": "code",
   "execution_count": 58,
   "id": "9df1e35b-2903-4b1b-acdd-4240ae9d6c65",
   "metadata": {},
   "outputs": [
    {
     "name": "stdout",
     "output_type": "stream",
     "text": [
      "NFRR code of 1 refers to 'Killed by 100% scorch; seed storage on plant'\n"
     ]
    }
   ],
   "source": [
    "qry=1\n",
    "for elem in filter(lambda x: x['NFRRcode'] == qry, reg_cats):\n",
    "    print(\"NFRR code of %s refers to '%s'\" % (qry, elem['category']))"
   ]
  },
  {
   "cell_type": "code",
   "execution_count": 59,
   "id": "3a1d0618-636b-4c4a-af05-4efaa6a5ec93",
   "metadata": {},
   "outputs": [],
   "source": [
    "row_index=3\n",
    "\n",
    "spname=species_data[sp_col][row_index].value\n",
    "NFRRval=species_data[NFRR_col][row_index].value\n",
    "otherval=species_data[oref_col][row_index].value"
   ]
  },
  {
   "cell_type": "markdown",
   "id": "c927a654-99c1-48dd-8493-36e067b64572",
   "metadata": {},
   "source": [
    "We can now use regular expressions to separate the different pieces of information, for NFRR:\n"
   ]
  },
  {
   "cell_type": "code",
   "execution_count": 60,
   "id": "d0f9b46c-83ca-4721-88d9-e002ae072958",
   "metadata": {},
   "outputs": [
    {
     "name": "stdout",
     "output_type": "stream",
     "text": [
      "['8']\n",
      "['BD']\n"
     ]
    }
   ],
   "source": [
    "import re\n",
    "print(re.findall(\"\\d+\", NFRRval))\n",
    "print(re.findall(\"[A-Z]+\", NFRRval))"
   ]
  },
  {
   "cell_type": "markdown",
   "id": "1998cd7a-2603-436a-bb3b-5080c5ede540",
   "metadata": {},
   "source": [
    "Look up the group and references:"
   ]
  },
  {
   "cell_type": "code",
   "execution_count": 61,
   "id": "3158c25f-3e06-46b8-bb0c-3587746152ee",
   "metadata": {},
   "outputs": [
    {
     "name": "stdout",
     "output_type": "stream",
     "text": [
      "NFRR code of 8 refers to 'Killed by 100% scorch; seed storage unknown'\n",
      "Reference BD refers to 'Benson, D. and McDougall, L. (1997). Ecology of Sydney plant species part 5: Dicotyledon families Flacourtiaceae to Myrsinaceae. Cunninghamia 5, 330-544.'\n"
     ]
    }
   ],
   "source": [
    "for qry in re.findall(\"\\d+\", NFRRval):\n",
    "    for elem in filter(lambda x: x['NFRRcode'] == int(qry), reg_cats):\n",
    "        print(\"NFRR code of %s refers to '%s'\" % (qry, elem['category']))\n",
    "\n",
    "for qry in re.findall(\"[A-Z]+\", NFRRval):\n",
    "    for elem in filter(lambda x: x['refcode'] == qry, NFRR_refs):\n",
    "        print(\"Reference %s refers to '%s'\" % (qry, elem['refinfo']))"
   ]
  },
  {
   "cell_type": "markdown",
   "id": "8af82d9d-23b0-4373-8737-6070896a60dd",
   "metadata": {},
   "source": [
    "Now we can do the same for the additional references:"
   ]
  },
  {
   "cell_type": "code",
   "execution_count": 62,
   "id": "576eb30a-fbdd-405a-8b6b-3aee9235ab27",
   "metadata": {},
   "outputs": [
    {
     "name": "stdout",
     "output_type": "stream",
     "text": [
      "NFRR code of II refers to 'Killed by 100% scorch; seed storage in soil'\n",
      "Reference 95 refers to 'Hunter, J.T. (1998) Vegetation and floristics of the Washpool National Park Western Additions / Hunter, J.T. (2000) Vegetation and floristics of Mt Conobolas State Recreation Area / Hunter, J.T. (2000) Vegetation and floristics of Burnt Down Scrub Nature Reserve. Reports to NSW NPWS. a=personal observation b=personal communication c=referenced source'\n"
     ]
    }
   ],
   "source": [
    "for qry in re.findall(\"[IVX]+\", otherval):\n",
    "    for elem in filter(lambda x: x['othercode'] == qry, reg_cats):\n",
    "        print(\"NFRR code of %s refers to '%s'\" % (qry, elem['category']))\n",
    "\n",
    "for qry in re.findall(\"\\d+\", otherval):\n",
    "    for elem in filter(lambda x: x['refcode'] == int(qry), other_refs):\n",
    "        print(\"Reference %s refers to '%s'\" % (qry, elem['refinfo']))"
   ]
  },
  {
   "cell_type": "markdown",
   "id": "0cf568d1-65eb-45c4-a22e-a78ebb168a0e",
   "metadata": {},
   "source": [
    "### Example with multiple references per species\n",
    "Now let's pick other examples: "
   ]
  },
  {
   "cell_type": "code",
   "execution_count": 63,
   "id": "953abe7e-1ec5-4242-b225-0e6ea78a3ae2",
   "metadata": {},
   "outputs": [],
   "source": [
    "row_index=9\n",
    "spname=species_data[sp_col][row_index].value\n",
    "NFRRval=species_data[NFRR_col][row_index].value"
   ]
  },
  {
   "cell_type": "markdown",
   "id": "9d8bf81f-c5b2-4bd4-9a90-30b11b770875",
   "metadata": {},
   "source": [
    "For this species the values in the NFRR column are separated by blank spaces, representing different observations, but the ones in the parenthesis are picked up incorrectly as additional group references instead of references:"
   ]
  },
  {
   "cell_type": "code",
   "execution_count": 64,
   "id": "5c61b7d2-a0d4-4eb5-99d9-3954dd872471",
   "metadata": {},
   "outputs": [
    {
     "name": "stdout",
     "output_type": "stream",
     "text": [
      "Acacia aneura\n",
      "8HG 8FO 8FO(1) 9FO(1) 8PL\n",
      "separated as\n",
      "['8', '8', '8', '1', '9', '1', '8']\n",
      "['HG', 'FO', 'FO', 'FO', 'PL']\n"
     ]
    }
   ],
   "source": [
    "print(spname)\n",
    "print(NFRRval)\n",
    "print('separated as')\n",
    "print(re.findall(\"\\d+\", NFRRval))\n",
    "print(re.findall(\"[A-Z]+\", NFRRval))"
   ]
  },
  {
   "cell_type": "markdown",
   "id": "8f341ac3-0ca4-4090-81be-6a180ccaec88",
   "metadata": {},
   "source": [
    "Let's first replace \"FO(1)\" with \"FOI\", and then run the code again:"
   ]
  },
  {
   "cell_type": "code",
   "execution_count": 65,
   "id": "612f5388-b475-4fc7-a1e9-4218838e6bb3",
   "metadata": {},
   "outputs": [
    {
     "name": "stdout",
     "output_type": "stream",
     "text": [
      "['8', '8', '8', '9', '8']\n",
      "['HG', 'FO', 'FOI', 'FOI', 'PL']\n"
     ]
    }
   ],
   "source": [
    "NFRRval=species_data[NFRR_col][row_index].value.replace('FO(1)','FOI')\n",
    "print(re.findall(\"\\d+\", NFRRval))\n",
    "print(re.findall(\"[A-Z]+\", NFRRval))"
   ]
  },
  {
   "cell_type": "markdown",
   "id": "6320172e-33f0-4823-a703-de1c4c9d1b8a",
   "metadata": {},
   "source": [
    "Now, if we want a list of unique references and VA groups, we can use the function _set_."
   ]
  },
  {
   "cell_type": "code",
   "execution_count": 66,
   "id": "5ebed904-d049-4bcb-8d5b-32fd3b5127b1",
   "metadata": {},
   "outputs": [
    {
     "name": "stdout",
     "output_type": "stream",
     "text": [
      "NFRR code of 9 refers to 'Survives 100% scorch; resprout location unknown'\n",
      "NFRR code of 8 refers to 'Killed by 100% scorch; seed storage unknown'\n",
      "Reference FOI refers to 'Fox 1985'\n",
      "Reference PL refers to 'Latz 1995'\n",
      "Reference HG refers to 'Hodgkinson Griffin 1982'\n",
      "Reference FO refers to 'Fox 1980'\n"
     ]
    }
   ],
   "source": [
    "for qry in set(re.findall(\"\\d+\", NFRRval)):\n",
    "    for elem in filter(lambda x: x['NFRRcode'] == int(qry), reg_cats):\n",
    "        print(\"NFRR code of %s refers to '%s'\" % (qry, elem['category']))\n",
    "\n",
    "for qry in set(re.findall(\"[A-Z]+\", NFRRval)):\n",
    "    for elem in filter(lambda x: x['refcode'] == qry, NFRR_refs):\n",
    "        print(\"Reference %s refers to '%s'\" % (qry, elem['refstring']))"
   ]
  },
  {
   "cell_type": "markdown",
   "id": "f5feb942-d69f-4da0-a915-b6ace8007d7d",
   "metadata": {},
   "source": [
    "Alternative processing each combination of reference and value:"
   ]
  },
  {
   "cell_type": "code",
   "execution_count": 67,
   "id": "798fa6da-25a8-4579-a1b3-3a9d5baaf8cb",
   "metadata": {},
   "outputs": [
    {
     "name": "stdout",
     "output_type": "stream",
     "text": [
      "Reference Hodgkinson, K.C. and Griffin, ... reports 'Killed by 100% scorch; seed storage unknown'\n",
      "Reference Fox, J.E.D. (1980). Effects of... reports 'Killed by 100% scorch; seed storage unknown'\n",
      "Reference Fox, J.E.D. (1985). Fire in Mu... reports 'Killed by 100% scorch; seed storage unknown'\n",
      "Reference Fox, J.E.D. (1985). Fire in Mu... reports 'Survives 100% scorch; resprout location unknown'\n",
      "Reference Latz, P.K. (1995) Bushfires an... reports 'Killed by 100% scorch; seed storage unknown'\n"
     ]
    }
   ],
   "source": [
    "for item in NFRRval.split(\" \"):\n",
    "    qry = re.findall(\"\\d+\", item)[0]\n",
    "    group = list(filter(lambda x: x['NFRRcode'] == int(qry), reg_cats))[0]\n",
    "    qry = re.findall(\"[A-Z]+\", item)[0]\n",
    "    ref = list(filter(lambda x: x['refcode'] == qry, NFRR_refs))[0]\n",
    "    print(\"Reference %s... reports '%s'\" % (ref['refinfo'][:30], group['category']))"
   ]
  },
  {
   "cell_type": "markdown",
   "id": "168e6a4e-cd37-4a2a-842a-8b6ebae86317",
   "metadata": {},
   "source": [
    "Here we pick a different species with multiple values in the 'additional fire response data' column:"
   ]
  },
  {
   "cell_type": "code",
   "execution_count": 68,
   "id": "ff8c4644-4c0f-4287-8678-e9059f02e4dd",
   "metadata": {},
   "outputs": [],
   "source": [
    "row_index=25\n",
    "spname=species_data[sp_col][row_index].value\n",
    "otherval=species_data[oref_col][row_index].value"
   ]
  },
  {
   "cell_type": "markdown",
   "id": "bea37d37-64ea-486d-8126-a5a802d59c8f",
   "metadata": {},
   "source": [
    "The values with multiple references are separated by semicolons and blanks, so they are picked up just fine. "
   ]
  },
  {
   "cell_type": "code",
   "execution_count": 69,
   "id": "c1985fd9-49dd-4544-af19-0bc2492112cb",
   "metadata": {},
   "outputs": [
    {
     "name": "stdout",
     "output_type": "stream",
     "text": [
      "II-69; II-100; II-134\n",
      "['69', '100', '134']\n",
      "['II', 'II', 'II']\n"
     ]
    }
   ],
   "source": [
    "if otherval is None:\n",
    "    print('No other reference')\n",
    "else:\n",
    "    print(otherval)\n",
    "    print(re.findall(\"\\d+\", otherval))\n",
    "    print(re.findall(\"[A-Z]+\", otherval))"
   ]
  },
  {
   "cell_type": "markdown",
   "id": "ca272860-853d-453b-ba55-a598b9076d62",
   "metadata": {},
   "source": [
    "## Format records for input in database\n",
    "\n",
    "Using the code above it is possible to:\n",
    "- create records for each original reference and add them to a central \"reference list\" table\n",
    "- take each species (row) from the spreadsheet and add records for a \"resprouting\" table:\n",
    "    - create one record based on the \"Fire response\" value citing NSWFFRDv2.1 as the main source and other references as original source\n",
    "    - create one or more records for each original reference using the \"Regeneration category\" as input value\n",
    "    \n",
    "We will create one record per species, using \"NSWFFRDv2.1\" as _main reference_, adding the reported references in the _original sources_ column, using a dictionary to translate the original value into the range of accepted values for the column, and including comments in the record.\n",
    "\n",
    "First we will define the columns we need:"
   ]
  },
  {
   "cell_type": "code",
   "execution_count": 70,
   "id": "41cca830-ad2d-41ca-8bc3-ba0d8f7aa614",
   "metadata": {},
   "outputs": [
    {
     "name": "stdout",
     "output_type": "stream",
     "text": [
      "Current Scientific Name / Species Code / Fireresponse / Comments on regeneration/ NFRR data / Additional fire response data\n"
     ]
    }
   ],
   "source": [
    "sp_col='A'\n",
    "code_col='B'\n",
    "fireresponse_col='J'\n",
    "comment_col='K'\n",
    "NFRR_col='BN'\n",
    "oref_col='BO'\n",
    "\n",
    "print(\"%s / %s / %s / %s/ %s / %s\" %\n",
    "(species_data[sp_col][1].value,\n",
    " species_data[code_col][1].value,\n",
    "species_data[fireresponse_col][1].value,\n",
    "species_data[comment_col][1].value,\n",
    "species_data[NFRR_col][1].value,\n",
    "species_data[oref_col][1].value))"
   ]
  },
  {
   "cell_type": "markdown",
   "id": "1617c2ef-c963-47cb-ab26-8aa56844b36b",
   "metadata": {},
   "source": [
    "We will define a function to read one row and create a record:\n"
   ]
  },
  {
   "cell_type": "code",
   "execution_count": 71,
   "id": "8f6f3ff7-4138-4c09-97d5-b4c0ab412d24",
   "metadata": {},
   "outputs": [],
   "source": [
    "def read_row_resprouting(sheet,row):\n",
    "    sp_col='A'\n",
    "    code_col='B'\n",
    "    fireresponse_col='J'\n",
    "    comment_col='K'\n",
    "    NFRR_col='BN'\n",
    "    oref_col='BO'\n",
    "\n",
    "    switcher={\n",
    "        \"S\": \"None\",\n",
    "        \"Sr\": \"Few\",\n",
    "        \"S/R\": \"Half\",\n",
    "        \"Rs\": \"Most\",\n",
    "        \"R\": \"All\"\n",
    "    }\n",
    "    \n",
    "    varname=sheet[fireresponse_col][1].value\n",
    "    \n",
    "    spname=sheet[sp_col][row].value\n",
    "    spcode=sheet[code_col][row].value\n",
    "    varvalue=sheet[fireresponse_col][row].value\n",
    "    origcomment=sheet[comment_col][row].value\n",
    "    NFRRraw=sheet[NFRR_col][row].value\n",
    "    otherraw=sheet[oref_col][row].value\n",
    "    \n",
    "    record={\"main_source\":\"NSWFFRDv2.1\", \n",
    "            \"additional_notes\":[\"Values reclassified following rules proposed by D. Keith et al.\",\n",
    "                                \"Automatic extraction with python script\"],\n",
    "            \"raw_value\":[varname], \n",
    "            \"original_sources\":list(), \n",
    "            \"original_notes\":list()}\n",
    "\n",
    "    if varvalue is not None:\n",
    "        record[\"raw_value\"].append(varvalue)\n",
    "        transvalue=switcher.get(varvalue, \"unknown\")\n",
    "        record[\"norm_value\"]=transvalue\n",
    "        if origcomment is not None:\n",
    "            record[\"original_notes\"].append(origcomment)\n",
    "        if spcode is not None:\n",
    "            record[\"species_code\"]=spcode\n",
    "        if spname is not None:\n",
    "            record[\"species\"]=spname\n",
    "        if NFRRraw is not None:\n",
    "            NFRRval=NFRRraw.replace('FO(1)','FOI')\n",
    "            for qry in set(re.findall(\"\\d+\", NFRRval)):\n",
    "                for elem in filter(lambda x: x['NFRRcode'] == int(qry), reg_cats):\n",
    "                    record[\"raw_value\"].append(\"NFRR VA group (%s): %s\" % (qry, elem['category']))\n",
    "            for qry in set(re.findall(\"[A-Z]+\", NFRRval)):\n",
    "                for elem in filter(lambda x: x['refcode'] == qry, NFRR_refs):\n",
    "                    record[\"original_sources\"].append(elem['refstring'])\n",
    "            if sheet[NFRR_col][row].font.color is not None:\n",
    "                record[\"original_notes\"].append(\"NFRR record(s) might have been ammended\")\n",
    "            if sheet[NFRR_col][row].font.strike is not None:\n",
    "                record[\"original_notes\"].append(\"NFRR record(s) might have been discarded\")\n",
    "        if otherraw is not None:\n",
    "            otherval=otherraw\n",
    "            for qry in set(re.findall(\"[IVX]+\", otherval)):\n",
    "                for elem in filter(lambda x: x['othercode'] == qry, reg_cats):\n",
    "                    record[\"raw_value\"].append(\"Other VA group (%s): %s\" % (qry, elem['category']))\n",
    "            for qry in set(re.findall(\"\\d+\", otherval)):\n",
    "                #record[\"original_sources\"].append('NSWFFRD-other-ref-%s' % qry)\n",
    "                for elem in filter(lambda x: x['refcode'] == qry, other_refs):\n",
    "                    record[\"original_sources\"].append(elem['refstring'])\n",
    "        if len(record[\"original_sources\"])==0:\n",
    "            record.pop(\"original_sources\")\n",
    "        if len(record[\"original_notes\"])==0:\n",
    "            record.pop(\"original_notes\")\n",
    "        return(record)\n",
    "    else:\n",
    "        print(\"empty row\")\n",
    "        return(None)"
   ]
  },
  {
   "cell_type": "markdown",
   "id": "597fbf74-5c97-4442-b4d1-3daccdebfb5e",
   "metadata": {},
   "source": [
    "This is an improved version of the function to split the data into a summary value and single entries for each reference:"
   ]
  },
  {
   "cell_type": "code",
   "execution_count": null,
   "id": "5d6bda0e-a386-40f1-9c17-a647526570d0",
   "metadata": {},
   "outputs": [],
   "source": [
    "\n"
   ]
  },
  {
   "cell_type": "markdown",
   "id": "4a4c0271-0899-4683-9ba3-b9c75713f295",
   "metadata": {},
   "source": [
    "We can combine all information into records using the code discussed above:"
   ]
  },
  {
   "cell_type": "code",
   "execution_count": 72,
   "id": "9b84487b-2bb0-44e4-918f-0dd611c66f56",
   "metadata": {},
   "outputs": [
    {
     "data": {
      "text/plain": [
       "{'main_source': 'NSWFFRDv2.1',\n",
       " 'additional_notes': ['Values reclassified following rules proposed by D. Keith et al.',\n",
       "  'Automatic extraction with python script'],\n",
       " 'raw_value': ['Fireresponse',\n",
       "  'S',\n",
       "  'NFRR VA group (2): Killed by 100% scorch; seed storage in soil',\n",
       "  'NFRR VA group (8): Killed by 100% scorch; seed storage unknown',\n",
       "  'Other VA group (VIII): Killed by 100% scorch; seed storage unknown'],\n",
       " 'original_sources': ['Peter Byrne Beerwah Qld. unpub.', 'Benwell 1998'],\n",
       " 'norm_value': 'None',\n",
       " 'species_code': '7060',\n",
       " 'species': 'Acacia baueri subsp. baueri'}"
      ]
     },
     "execution_count": 72,
     "metadata": {},
     "output_type": "execute_result"
    }
   ],
   "source": [
    "read_row_resprouting(species_data,14)"
   ]
  },
  {
   "cell_type": "code",
   "execution_count": 73,
   "id": "95e99542-04fa-428d-9a7b-ca1527785952",
   "metadata": {},
   "outputs": [
    {
     "data": {
      "text/plain": [
       "[{'raw_value': ['Fireresponse', 'S'],\n",
       "  'main_source': 'NSWFFRDv2.1',\n",
       "  'additional_notes': ['Values reclassified following rules proposed by D. Keith et al.',\n",
       "   'Automatic extraction with python script'],\n",
       "  'weight_notes': ['python-script import', 'default of 10 for summary value'],\n",
       "  'weight': 10,\n",
       "  'norm_value': 'None',\n",
       "  'species_code': '7060',\n",
       "  'species': 'Acacia baueri subsp. baueri'},\n",
       " {'raw_value': ['VA Group 2',\n",
       "   'Killed by 100% scorch; seed storage in soil',\n",
       "   'Overall value of fireresponse column is S'],\n",
       "  'original_sources': ['Benwell 1998'],\n",
       "  'main_source': 'NSWFFRDv2.1',\n",
       "  'additional_notes': ['Values reclassified following rules proposed by D. Keith et al.',\n",
       "   'Automatic extraction with python script',\n",
       "   'Raw values extracted from notes/comments in NSWFFRDBv2.1'],\n",
       "  'weight_notes': ['python-script import', 'default of 1'],\n",
       "  'weight': 1,\n",
       "  'norm_value': 'None',\n",
       "  'species_code': '7060',\n",
       "  'species': 'Acacia baueri subsp. baueri'},\n",
       " {'raw_value': ['VA Group 8',\n",
       "   'Killed by 100% scorch; seed storage unknown',\n",
       "   'Overall value of fireresponse column is S'],\n",
       "  'original_sources': ['Peter Byrne Beerwah Qld. unpub.'],\n",
       "  'main_source': 'NSWFFRDv2.1',\n",
       "  'additional_notes': ['Values reclassified following rules proposed by D. Keith et al.',\n",
       "   'Automatic extraction with python script',\n",
       "   'Raw values extracted from notes/comments in NSWFFRDBv2.1'],\n",
       "  'weight_notes': ['python-script import', 'default of 1'],\n",
       "  'weight': 1,\n",
       "  'norm_value': 'None',\n",
       "  'species_code': '7060',\n",
       "  'species': 'Acacia baueri subsp. baueri'},\n",
       " {'raw_value': ['VA Group VIII',\n",
       "   'Killed by 100% scorch; seed storage unknown',\n",
       "   'Overall value of fireresponse column is S'],\n",
       "  'original_sources': ['Bell 1998'],\n",
       "  'main_source': 'NSWFFRDv2.1',\n",
       "  'additional_notes': ['Values reclassified following rules proposed by D. Keith et al.',\n",
       "   'Automatic extraction with python script',\n",
       "   'Raw values extracted from notes/comments in NSWFFRDBv2.1'],\n",
       "  'weight_notes': ['python-script import', 'default of 1'],\n",
       "  'weight': 1,\n",
       "  'norm_value': 'None',\n",
       "  'species_code': '7060',\n",
       "  'species': 'Acacia baueri subsp. baueri'}]"
      ]
     },
     "execution_count": 73,
     "metadata": {},
     "output_type": "execute_result"
    }
   ],
   "source": [
    "nswff.read_rows_resprouting(species_data,14, reg_cats, NFRR_refs, other_refs)"
   ]
  },
  {
   "cell_type": "code",
   "execution_count": 74,
   "id": "22880ec6-29c1-4275-b7a1-abeffb4ac2a7",
   "metadata": {},
   "outputs": [
    {
     "data": {
      "text/plain": [
       "'S'"
      ]
     },
     "execution_count": 74,
     "metadata": {},
     "output_type": "execute_result"
    }
   ],
   "source": [
    "species_data[fireresponse_col][3].value"
   ]
  },
  {
   "cell_type": "markdown",
   "id": "94de188f-1aba-4317-b01e-bb96fcd1ac46",
   "metadata": {},
   "source": [
    "## That is it for now!\n",
    "\n",
    "✅ Job done! 😎👌🔥\n",
    "\n",
    "You can:\n",
    "- go [back home](../Instructions-and-workflow.ipynb),\n",
    "- continue navigating the repo on [GitHub](https://github.com/ces-unsw-edu-au/fireveg-db-exports)\n",
    "- continue exploring the repo on [OSF](https://osf.io/h96q2/).\n",
    "- visit the database at <http://fireecologyplants.net>"
   ]
  }
 ],
 "metadata": {
  "kernelspec": {
   "display_name": "Python 3 (ipykernel)",
   "language": "python",
   "name": "python3"
  },
  "language_info": {
   "codemirror_mode": {
    "name": "ipython",
    "version": 3
   },
   "file_extension": ".py",
   "mimetype": "text/x-python",
   "name": "python",
   "nbconvert_exporter": "python",
   "pygments_lexer": "ipython3",
   "version": "3.11.3"
  }
 },
 "nbformat": 4,
 "nbformat_minor": 5
}
