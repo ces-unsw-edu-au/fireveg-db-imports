{
 "cells": [
  {
   "cell_type": "markdown",
   "id": "c106e552-518a-42da-b175-d0d940c803cf",
   "metadata": {},
   "source": [
    "# Fireveg DB imports -- define vocabularies\n",
    "\n",
    "Author: [José R. Ferrer-Paris](https://github.com/jrfep)\n",
    "\n",
    "Date: December 2024, updated 4 February 2025\n",
    "\n",
    "This Jupyter Notebook includes [Python](https://www.python.org) code to create/refine a vocabulary file for the Fireveg database. \n",
    "\n",
    "**Please note:**\n",
    "<div class=\"alert alert-warning\">\n",
    "    This repository contains code that is intended for internal project management and is documented for the sake of reproducibility.<br/>\n",
    "    🛂 Only users contributing directly to the project have access to the credentials for data download/upload. \n",
    "</div>"
   ]
  },
  {
   "cell_type": "markdown",
   "id": "fd458726-10bd-4488-a68f-42c5c770de93",
   "metadata": {},
   "source": [
    "## Set-up\n",
    "### Load modules\n",
    "\n",
    "We are using Python for this. Start your session and load the packages."
   ]
  },
  {
   "cell_type": "code",
   "execution_count": 48,
   "id": "a556dd40-0589-4dcb-a92e-2b955b7ff3b5",
   "metadata": {},
   "outputs": [],
   "source": [
    "# work with paths in operating system\n",
    "from pathlib import Path\n",
    "import os, sys\n",
    "\n",
    "#import json\n",
    "#import urllib\n",
    "#from zipfile import ZipFile\n",
    "import pandas as pd\n",
    "#import numpy as np\n",
    "#from pybtex.database.input import bibtex\n",
    "import yaml\n",
    "import psycopg2\n",
    "\n",
    "# Pyprojroot for easier handling of working directory\n",
    "import pyprojroot"
   ]
  },
  {
   "cell_type": "markdown",
   "id": "eed9ffc9-9c6f-413e-bc07-112f18b18b3f",
   "metadata": {},
   "source": [
    "### Define paths for input and output"
   ]
  },
  {
   "cell_type": "markdown",
   "id": "9b34905a-c59f-478d-9d15-1ec9d6c582b7",
   "metadata": {},
   "source": [
    "Define project directory using the `pyprojroot` functions, and add this to the execution path."
   ]
  },
  {
   "cell_type": "code",
   "execution_count": 2,
   "id": "aec07bd6-80fb-4a03-82fd-5f98d0b5d424",
   "metadata": {},
   "outputs": [],
   "source": [
    "repodir = pyprojroot.find_root(pyprojroot.has_dir(\".git\"))\n",
    "sys.path.append(str(repodir))"
   ]
  },
  {
   "cell_type": "markdown",
   "id": "ee25a073-7b15-4df0-8cf5-06a435e4fba3",
   "metadata": {},
   "source": [
    "Path to the folder with the downloaded data:"
   ]
  },
  {
   "cell_type": "code",
   "execution_count": 3,
   "id": "23d93cfb-c820-4d37-b5e1-c72e91ea13af",
   "metadata": {},
   "outputs": [],
   "source": [
    "inputdir = repodir / \"data\" "
   ]
  },
  {
   "cell_type": "markdown",
   "id": "8b557446-c4ef-43a2-8474-d8cce11c4bfe",
   "metadata": {},
   "source": [
    "### Load own functions\n",
    "Load functions from `lib` folder, we will use a function to read db credentials, one for executing database queries and three functions for extracting data from the reference description string"
   ]
  },
  {
   "cell_type": "code",
   "execution_count": 4,
   "id": "78b0c0e3-a073-426a-a5c2-3c82544cb640",
   "metadata": {},
   "outputs": [],
   "source": [
    "from lib.parseparams import read_dbparams\n",
    "from lib.firevegdb import dbquery, batch_upsert\n",
    "import lib.austraits_util as aust"
   ]
  },
  {
   "cell_type": "markdown",
   "id": "e5b31225-3888-4ddf-ae5b-d6a1a2fb1c1b",
   "metadata": {},
   "source": [
    "### Database credentials\n",
    "\n",
    "🤫 We use a folder named \"secrets\" to keep the credentials for connection to different services (database credentials, API keys, etc). This checked this folder in our `.gitignore` so that its content are not tracked by git and not exposed. Future users need to copy the contents of this folder manually.\n",
    "\n",
    "We read database credentials stored in a `database.ini` file using our own `read_dbparams` function."
   ]
  },
  {
   "cell_type": "code",
   "execution_count": 5,
   "id": "cb1a9967-280c-427c-befd-83dbd4acf862",
   "metadata": {},
   "outputs": [],
   "source": [
    "dbparams = read_dbparams(repodir / 'secrets' / 'database.ini', \n",
    "                         section='fireveg-db-v1.1')"
   ]
  },
  {
   "cell_type": "markdown",
   "id": "f8fbd215-ef79-4653-8c08-28051fa82253",
   "metadata": {},
   "source": [
    "## Read data from database"
   ]
  },
  {
   "cell_type": "code",
   "execution_count": 6,
   "id": "f8e43157-8e13-4076-994f-2b27c6eaaea5",
   "metadata": {},
   "outputs": [],
   "source": [
    "qry = \"\"\"\n",
    "SELECT code, name, description, value_type, life_stage,\n",
    "    life_history_process, priority, category_vocabulary, method_vocabulary \n",
    "FROM litrev.trait_info \n",
    "ORDER BY code\n",
    "\"\"\"\n",
    "trait_info = dbquery(qry, dbparams)"
   ]
  },
  {
   "cell_type": "code",
   "execution_count": 8,
   "id": "f2c9e2ec-5bb5-40f9-aefb-32576d49183f",
   "metadata": {},
   "outputs": [],
   "source": [
    "traitnames=dict()\n",
    "traitvocabs=dict()\n",
    "methodvocabs=dict()\n",
    "qrycat=\"SELECT pg_catalog.obj_description(t.oid, 'pg_type')::json from pg_type t where typname = '%s';\"\n",
    "qrynum=\"\"\"\n",
    "SELECT (\n",
    "    SELECT pg_catalog.col_description(c.oid, cols.ordinal_position::int) \n",
    "    FROM pg_catalog.pg_class c \n",
    "    WHERE c.oid     = (\n",
    "        SELECT CONCAT(cols.table_schema,'.',cols.table_name)::regclass::oid) \n",
    "        AND c.relname = cols.table_name)::json  as column_comment \n",
    "        FROM information_schema.columns cols \n",
    "        WHERE cols.table_catalog = 'dbfireveg' \n",
    "        AND cols.table_schema  = 'litrev' \n",
    "        AND cols.table_name    = '%s' \n",
    "        AND cols.column_name    = 'best';  \"\"\"\n",
    "        \n",
    "for k in trait_info:\n",
    "    traitnames[k[0]]={'name':k[1],'type':k[3],'method':k[\"method_vocabulary\"] is not None}\n",
    "    if k[3] == 'categorical':\n",
    "        qrystr = qrycat % (k[\"category_vocabulary\"],)\n",
    "    else:\n",
    "        qrystr = qrynum % (k[0],)\n",
    "    res = dbquery(qrystr, dbparams)\n",
    "    if (len(res)==1):\n",
    "        traitvocabs[k[0]] = res[0]\n",
    "    if k[\"method_vocabulary\"] is not None:\n",
    "        qrystr = qrycat % (k[\"method_vocabulary\"],)\n",
    "        methodvocabs[k[0]] = dbquery(qrystr, dbparams)"
   ]
  },
  {
   "cell_type": "markdown",
   "id": "1f468696-d3a4-4ee1-8aa1-25be6d10d9b1",
   "metadata": {},
   "source": [
    "## Create a dictionary of definitions"
   ]
  },
  {
   "cell_type": "code",
   "execution_count": 40,
   "id": "9b12862a-56aa-4f31-8f13-9a23fef73b0c",
   "metadata": {},
   "outputs": [],
   "source": [
    "trait_definitions = dict()\n",
    "\n",
    "for trait in trait_info:\n",
    "    code = trait['code']\n",
    "    trait_definitions[code] = { \n",
    "        'label': trait['name'], \n",
    "        'description': trait['description'], \n",
    "        'life_stage': trait['life_stage'], \n",
    "        'life_history_process': trait['life_history_process'], \n",
    "        'type': trait['value_type'], \n",
    "        }\n",
    "    if code in traitvocabs.keys():\n",
    "        trait_definitions[code]['allowed_values_levels'] = traitvocabs[code][0]\n",
    "    if code in ['surv1', 'surv6', 'surv5', 'grow1', 'repr3', 'repr3a', 'repr4']:\n",
    "        trait_definitions[code]['units'] = 'years'\n",
    "        trait_definitions[code]['allowed_values_min'] = 0.1\n",
    "    if code in methodvocabs.keys():\n",
    "        trait_definitions[code]['allowed_methods_levels'] = methodvocabs[code][0][0]\n"
   ]
  },
  {
   "cell_type": "code",
   "execution_count": 41,
   "id": "00afaced-e227-4ad5-bb9d-4631ac3b3ae4",
   "metadata": {},
   "outputs": [
    {
     "data": {
      "text/plain": [
       "{'label': 'Maturation age',\n",
       " 'description': 'The time taken for 50% of individuals in a cohort [even aged recruits] to produce their first viable seed',\n",
       " 'life_stage': 'Standing plant',\n",
       " 'life_history_process': 'Reproduction',\n",
       " 'type': 'numerical',\n",
       " 'units': 'years',\n",
       " 'allowed_values_min': 0.1,\n",
       " 'allowed_methods_levels': {'Direct field observation or measure (unknown sample size)': 'Estimates based on data observed or measured in the field (unknown number of individuals observed). Time series data for seedbank accumulation.',\n",
       "  'Direct observation (small sample)': 'Estimates based on data observed or measured in the field based on fewer than 10 individuals. Time series measurements of flowering in relation to cohort age.',\n",
       "  'Direct observation (large sample)': 'Estimates based on data observed or measured in the field based on 10 or more individuals observed). Time series measurements of flowering in relation to cohort age.',\n",
       "  'Estimated by extrapolation from observed values': 'Estimated by extrapolation from (time series) of observed values. Time series of flowering observations requiring extrapolation to estimate an age at which survival would be at least 50%.',\n",
       "  'Trait evidence, but start date uncertain': 'Evidence of trait expression, but age of first expression uncertain. reproductive structures observed, but uncertain whether they were also produced earlier during post-fire regeneration.',\n",
       "  'Inferred form other trait': 'Inferred from values of a different, but related trait. Inferred from first flower production - Derived from some function of Age at first flowering (e.g. 2x, 3x). Justification of assumption required.',\n",
       "  'Inferred from partial data': 'Inferred from incomplete or indirect information. None.',\n",
       "  'No evidence of trait expression by specified age': 'No evidence of trait expression by specified age. reproductive/regenerative structures not yet observed since last fire.',\n",
       "  'Unspecified methods': 'Methods unclear or undocumented.'}}"
      ]
     },
     "execution_count": 41,
     "metadata": {},
     "output_type": "execute_result"
    }
   ],
   "source": [
    "trait_definitions['repr4']\n"
   ]
  },
  {
   "cell_type": "markdown",
   "id": "1daeb1df-1f81-42cd-8e34-e1e13c3db1f3",
   "metadata": {},
   "source": [
    "Write this dictionary into a `yaml` file:"
   ]
  },
  {
   "cell_type": "code",
   "execution_count": 42,
   "id": "c1d38e37-1396-4301-b7d3-bfa9e5be9ef1",
   "metadata": {},
   "outputs": [],
   "source": [
    "with open(repodir / 'trait-definitions.yml', 'w') as yaml_file:\n",
    "    yaml.dump(trait_definitions, yaml_file, default_flow_style=False, sort_keys=False)"
   ]
  },
  {
   "cell_type": "markdown",
   "id": "d6a6b189-14cd-4c94-8a92-743eeca1d46f",
   "metadata": {},
   "source": [
    "## Read in definitions from YAML\n",
    "This file was created manually, let's parse it and check it is well formed:\n"
   ]
  },
  {
   "cell_type": "code",
   "execution_count": 43,
   "id": "eed74bd1-bbb7-46b3-8543-1ca1d4c9c727",
   "metadata": {},
   "outputs": [],
   "source": [
    "with open(repodir / 'fieldvisits-definitions.yml', 'r') as file:\n",
    "    field_visits_definitions = yaml.safe_load(file)"
   ]
  },
  {
   "cell_type": "code",
   "execution_count": 45,
   "id": "1223fde3-4972-496e-b16f-20950077ec6f",
   "metadata": {},
   "outputs": [
    {
     "data": {
      "text/plain": [
       "dict_keys(['observerID', 'field_site', 'surveys', 'field_visit', 'fire_history', 'field_samples', 'quadrat_samples', 'field_visit_veg_description', 'field_visit_vegetation_estimates', 'field_visit_vegetation_raw_values'])"
      ]
     },
     "execution_count": 45,
     "metadata": {},
     "output_type": "execute_result"
    }
   ],
   "source": [
    "field_visits_definitions.keys()"
   ]
  },
  {
   "cell_type": "code",
   "execution_count": 46,
   "id": "2ebb4fbf-2d14-4062-8059-ab7fba54089f",
   "metadata": {},
   "outputs": [
    {
     "data": {
      "text/plain": [
       "{'label': 'Fire history table',\n",
       " 'description': 'Table with one record for each recorded fire events. Each fire event is recorded per field site. One field site can have multiple fire events. Large fires affecting multiple sites are recorded here multiple times, once for each field site, but can be grouped by fire name if needed.',\n",
       " 'attributes': {'site_label': 'ID for a field site, references the Field site table',\n",
       "  'fire_name': 'Name given to the fire, specially for large fire events affecting multiple sites',\n",
       "  'fire_date': 'Approximate description of the date of the fire in a text format, can be a year, a range of dates or a full date string.',\n",
       "  'earliest_date': 'Earliest possible date inferred from fire_date, in a formatted date string.',\n",
       "  'latest_date': 'Latest possible date inferred from fire_date, in a formatted date string.',\n",
       "  'how_inferred': 'How fire date was inferred or approximated, either from existing records or from evidence in situ.',\n",
       "  'cause_of_ignition': 'Probable or known case of ignition, for example: lightning, arson, prescribed fire',\n",
       "  'notes': 'Additional notes related to the fire event.'}}"
      ]
     },
     "execution_count": 46,
     "metadata": {},
     "output_type": "execute_result"
    }
   ],
   "source": [
    "field_visits_definitions['fire_history']"
   ]
  },
  {
   "cell_type": "code",
   "execution_count": 52,
   "id": "4ccb6abe-0737-43bd-b1d6-54bf915429bd",
   "metadata": {},
   "outputs": [],
   "source": [
    "\n",
    "df = pd.DataFrame(field_visits_definitions)\n",
    "df = df.fillna(' ').T\n",
    "df.to_html(repodir / 'fieldvisits-definitions.html')"
   ]
  },
  {
   "cell_type": "markdown",
   "id": "91228639-a4dc-4de6-8cfc-9b33d9001d87",
   "metadata": {},
   "source": [
    "## That is it for now!\n",
    "\n",
    "✅ Job done! 😎👌🔥\n",
    "\n",
    "You can:\n",
    "- go [back home](../Instructions-and-workflow.ipynb),\n",
    "- continue navigating the repo on [GitHub](https://github.com/ces-unsw-edu-au/fireveg-db-exports)\n",
    "- continue exploring the repo on [OSF](https://osf.io/h96q2/).\n",
    "- visit the database at <http://fireecologyplants.net>"
   ]
  }
 ],
 "metadata": {
  "kernelspec": {
   "display_name": "Python 3 (ipykernel)",
   "language": "python",
   "name": "python3"
  },
  "language_info": {
   "codemirror_mode": {
    "name": "ipython",
    "version": 3
   },
   "file_extension": ".py",
   "mimetype": "text/x-python",
   "name": "python",
   "nbconvert_exporter": "python",
   "pygments_lexer": "ipython3",
   "version": "3.11.3"
  }
 },
 "nbformat": 4,
 "nbformat_minor": 5
}
