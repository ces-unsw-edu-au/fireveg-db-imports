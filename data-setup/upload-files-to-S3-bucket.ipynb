{
 "cells": [
  {
   "cell_type": "markdown",
   "id": "603139c9-5693-4db5-a3ae-7734e2375e1a",
   "metadata": {},
   "source": [
    "# Fireveg DB\n",
    "\n",
    "This notebook was created by José R. Ferrer-Paris and updated on 2 Aug 2024.\n",
    "\n",
    "## Cloud storage with a AWS S3 bucket"
   ]
  },
  {
   "cell_type": "markdown",
   "id": "dc0b1f99-378e-4208-9e60-3cecf9874d6a",
   "metadata": {},
   "source": [
    "We are using aws s3 buckets for cloud storage of input and output files. Here we set up a connection with the s3 client, query the list of objects in the bucket and download data into our data folder."
   ]
  },
  {
   "cell_type": "markdown",
   "id": "465dc7d7-0381-4464-b944-84602d94c70a",
   "metadata": {},
   "source": [
    "See examples here:\n",
    "- http://datasciencedirectory.com/how-to-connect-to-aws-s3-buckets-with-python/\n",
    "- https://dev.to/aws-builders/how-to-list-contents-of-s3-bucket-using-boto3-python-47mm\n",
    "- https://towardsdatascience.com/how-to-upload-and-download-files-from-aws-s3-using-python-2022-4c9b787b15f2\n",
    "- https://boto3.amazonaws.com/v1/documentation/api/latest/guide/s3-example-download-file.html"
   ]
  },
  {
   "cell_type": "markdown",
   "id": "29f22ee8-703c-45ea-ac47-59c80585282d",
   "metadata": {},
   "source": [
    "## Set up"
   ]
  },
  {
   "cell_type": "markdown",
   "id": "de033dfc-1956-4523-a6c0-ab39d08f9049",
   "metadata": {},
   "source": [
    "First we import some external libraries"
   ]
  },
  {
   "cell_type": "code",
   "execution_count": 12,
   "id": "36dffb42-eba4-4ab4-b005-226e6f5bed5b",
   "metadata": {},
   "outputs": [],
   "source": [
    "from pathlib import Path\n",
    "import os\n",
    "import boto3\n",
    "import pyprojroot"
   ]
  },
  {
   "cell_type": "markdown",
   "id": "bd4067da-8337-4d41-8fc3-e8f4c52c0816",
   "metadata": {},
   "source": [
    "Now we import function from our local `lib` folder:"
   ]
  },
  {
   "cell_type": "code",
   "execution_count": 13,
   "id": "43a71206-fb73-4d6a-93bd-2814113f6b00",
   "metadata": {},
   "outputs": [],
   "source": [
    "from lib.parseparams import read_s3params"
   ]
  },
  {
   "cell_type": "markdown",
   "id": "3ee3680f-2d73-4441-ad0a-901e375f9473",
   "metadata": {},
   "source": [
    "We find the root of the repository folder:"
   ]
  },
  {
   "cell_type": "code",
   "execution_count": 14,
   "id": "82f867c8-5776-44bf-8c7b-3a3e662d7eb8",
   "metadata": {},
   "outputs": [],
   "source": [
    "repodir = pyprojroot.find_root(pyprojroot.has_dir(\".git\"))"
   ]
  },
  {
   "cell_type": "markdown",
   "id": "df9ff566-db5f-4f80-901f-afe39c609f2b",
   "metadata": {},
   "source": [
    "We parse connection parameters from a text file:"
   ]
  },
  {
   "cell_type": "code",
   "execution_count": 15,
   "id": "2c760199-ea0d-4370-99aa-d79e47070f08",
   "metadata": {},
   "outputs": [],
   "source": [
    "filename = repodir / 'secrets' / 's3info'\n",
    "s3params = read_s3params(filename)"
   ]
  },
  {
   "cell_type": "markdown",
   "id": "e8e306d7-1453-470e-b290-6a91fe350acc",
   "metadata": {},
   "source": [
    "Start a connection to S3 using the connection parameters: "
   ]
  },
  {
   "cell_type": "code",
   "execution_count": 16,
   "id": "1ba2de40-88b9-4151-8d50-165846a658c2",
   "metadata": {},
   "outputs": [],
   "source": [
    "s3=boto3.client('s3', s3params['region'],\n",
    "                        aws_access_key_id=s3params['key'],\n",
    "                  aws_secret_access_key=s3params['secret'])"
   ]
  },
  {
   "cell_type": "markdown",
   "id": "61a4686f-0553-4c19-a65c-28457374e1a9",
   "metadata": {},
   "source": [
    "## Step 1: download from bucket"
   ]
  },
  {
   "cell_type": "markdown",
   "id": "1926d12d-2d38-41b3-bfbf-4922eee18ca4",
   "metadata": {},
   "source": [
    "If we already have content in the bucket, this will show a list of all documents in the selected bucket.\n",
    "Our bucket is called `fireveg-db`:"
   ]
  },
  {
   "cell_type": "code",
   "execution_count": 19,
   "id": "dbf55fbf-c8dc-4cc1-9092-9fb63c92ae19",
   "metadata": {},
   "outputs": [
    {
     "name": "stdout",
     "output_type": "stream",
     "text": [
      "input-field-form/Fire response quadrat survey Newnes Nov2020_DK_revised IDs+AllNovData.xlsm\n",
      "input-field-form/PlantFireTraitData_2011-2018_Import.xlsx\n",
      "input-field-form/PlantFireTraitData_2011-2018_Import_AdditionalSiteInfo.xlsx\n",
      "input-field-form/RobertsonRF_data_bionet2.xlsx\n",
      "input-field-form/SthnNSWRF_data_bionet2.xlsx\n",
      "input-field-form/UNSWFireVegResponse_UplandBasalt_AlexThomsen+DK.xlsx\n",
      "input-field-form/UNSW_VegFireResponse_AlpineBogs_reformat_Sep2021.xlsx\n",
      "input-field-form/UNSW_VegFireResponse_DataEntry_Yatteyattah all +DK +Milton.xlsx\n",
      "input-field-form/UNSW_VegFireResponse_DataEntry_Yatteyattah all +DK +Milton_revisedfields_Mar2022.xlsx\n",
      "input-field-form/UNSW_VegFireResponse_KNP AlpAsh.xlsx\n",
      "input-field-form/UNSW_VegFireResponse_KNP AlpAsh_firehistupdate.xlsx\n",
      "input-field-form/UNSW_VegFireResponse_RMK_reformat_Sep2021a.xlsx\n",
      "output-report/fireveg-field-report-model.xlsx\n",
      "output-report/fireveg-trait-records-curation.xlsx\n",
      "output-report/fireveg-trait-records-model.xlsx\n",
      "output-report/fireveg-trait-report-model.xlsx\n"
     ]
    }
   ],
   "source": [
    "objects = s3.list_objects_v2(Bucket = 'fireveg-db')\n",
    "\n",
    "for obj in objects['Contents']:\n",
    "    print(obj['Key'])"
   ]
  },
  {
   "cell_type": "markdown",
   "id": "bf688778-c68f-46ce-91d2-4bc45429fbe7",
   "metadata": {},
   "source": [
    "But we only want to download the input field forms into the data folder"
   ]
  },
  {
   "cell_type": "markdown",
   "id": "1a0854e1-68cd-478d-832c-45609ce61985",
   "metadata": {},
   "source": [
    "<div class=\"alert alert-warning\">\n",
    "In terra I need to use `str(filename)` but in Auyantepui we just used `filename` as last argument of s3.download_file\n",
    "</div>"
   ]
  },
  {
   "cell_type": "code",
   "execution_count": 20,
   "id": "e1773b66-477a-4633-865b-0619d2428df1",
   "metadata": {},
   "outputs": [
    {
     "name": "stdout",
     "output_type": "stream",
     "text": [
      "file  Fire response quadrat survey Newnes Nov2020_DK_revised IDs+AllNovData.xlsm already present\n",
      "download file  PlantFireTraitData_2011-2018_Import.xlsx\n",
      "download file  PlantFireTraitData_2011-2018_Import_AdditionalSiteInfo.xlsx\n",
      "file  RobertsonRF_data_bionet2.xlsx already present\n",
      "file  SthnNSWRF_data_bionet2.xlsx already present\n",
      "file  UNSWFireVegResponse_UplandBasalt_AlexThomsen+DK.xlsx already present\n",
      "file  UNSW_VegFireResponse_AlpineBogs_reformat_Sep2021.xlsx already present\n",
      "file  UNSW_VegFireResponse_DataEntry_Yatteyattah all +DK +Milton.xlsx already present\n",
      "file  UNSW_VegFireResponse_DataEntry_Yatteyattah all +DK +Milton_revisedfields_Mar2022.xlsx already present\n",
      "file  UNSW_VegFireResponse_KNP AlpAsh.xlsx already present\n",
      "file  UNSW_VegFireResponse_KNP AlpAsh_firehistupdate.xlsx already present\n",
      "file  UNSW_VegFireResponse_RMK_reformat_Sep2021a.xlsx already present\n"
     ]
    }
   ],
   "source": [
    "for obj in objects['Contents']:\n",
    "    okey = obj['Key'].split(\"/\")\n",
    "    if okey[0] == 'input-field-form':\n",
    "        filename = repodir / \"data\" / okey[0] / okey[1]\n",
    "        if (os.path.isfile(filename)):\n",
    "            print(\"file \", okey[1],\"already present\")\n",
    "        else:\n",
    "            print(\"download file \", okey[1])\n",
    "            s3.download_file('fireveg-db', obj['Key'], str(filename ))"
   ]
  },
  {
   "cell_type": "markdown",
   "id": "1785bf44-a52e-467a-96c7-fccf88e3a051",
   "metadata": {},
   "source": [
    "## Step 2: upload to bucket"
   ]
  },
  {
   "cell_type": "markdown",
   "id": "0406c4a0-5cb1-4b22-ab00-9b25ab13f2a5",
   "metadata": {},
   "source": [
    "These are the steps to upload from our local folder to the s3 bucket."
   ]
  },
  {
   "cell_type": "code",
   "execution_count": 17,
   "id": "9dac853e-bd48-4dfe-9ee7-3de5d695f96c",
   "metadata": {},
   "outputs": [
    {
     "name": "stdout",
     "output_type": "stream",
     "text": [
      "PlantFireTraitData_2011-2018_Import_AdditionalSiteInfo.xlsx\n",
      "PlantFireTraitData_2011-2018_Import.xlsx\n"
     ]
    }
   ],
   "source": [
    "inputdir = repodir / \"data\" / \"field-form\"\n",
    "\n",
    "for fp in inputdir.glob('*.xls[mx]'):\n",
    "    targetname=os.path.basename(fp)\n",
    "    if not targetname.startswith('~'):\n",
    "        print(targetname)\n",
    "        with open(fp, \"rb\") as f:\n",
    "            s3.upload_fileobj(f, 'fireveg-db', 'input-field-form/' + targetname)\n",
    "\n",
    "\n"
   ]
  },
  {
   "cell_type": "code",
   "execution_count": 9,
   "id": "7df871cd-4f01-4d30-b398-c6fb0bd5be60",
   "metadata": {},
   "outputs": [
    {
     "data": {
      "text/plain": [
       "['output-report',\n",
       " '.DS_Store',\n",
       " 'input-field-form',\n",
       " 'field-form',\n",
       " '.ipynb_checkpoints']"
      ]
     },
     "execution_count": 9,
     "metadata": {},
     "output_type": "execute_result"
    }
   ],
   "source": [
    "inputdir = repodir / \"data\" \n",
    "os.listdir(inputdir)"
   ]
  },
  {
   "cell_type": "markdown",
   "id": "c4313404",
   "metadata": {},
   "source": [
    "Example upload of reports to a folder in a bucket:"
   ]
  },
  {
   "cell_type": "code",
   "execution_count": null,
   "id": "c2b61b8e-63c9-4c67-988d-078a7c2b533a",
   "metadata": {},
   "outputs": [],
   "source": [
    "inputdir = repodir / \"data\" / \"output-report\"\n",
    "#targetfile = 'fireveg-trait-report-model.xlsx'\n",
    "targetfile = 'fireveg-trait-records-model.xlsx'\n",
    "#targetfile = 'fireveg-field-report-model.xlsx'\n",
    "targetfile = 'fireveg-trait-records-curation.xlsx'"
   ]
  },
  {
   "cell_type": "code",
   "execution_count": null,
   "id": "fd3bbbf5-0539-421e-8c57-a2f811dc2b73",
   "metadata": {},
   "outputs": [],
   "source": [
    "with open(inputdir / targetfile, \"rb\") as f:\n",
    "  s3.upload_fileobj(f, 'fireveg-db', 'output-report/' + targetfile)"
   ]
  },
  {
   "cell_type": "markdown",
   "id": "5acb8bf8-20c7-4fe0-bc92-b7decd04cef7",
   "metadata": {},
   "source": [
    "Upload all original field forms to a input folder"
   ]
  }
 ],
 "metadata": {
  "kernelspec": {
   "display_name": "Python 3 (ipykernel)",
   "language": "python",
   "name": "python3"
  },
  "language_info": {
   "codemirror_mode": {
    "name": "ipython",
    "version": 3
   },
   "file_extension": ".py",
   "mimetype": "text/x-python",
   "name": "python",
   "nbconvert_exporter": "python",
   "pygments_lexer": "ipython3",
   "version": "3.11.3"
  }
 },
 "nbformat": 4,
 "nbformat_minor": 5
}
