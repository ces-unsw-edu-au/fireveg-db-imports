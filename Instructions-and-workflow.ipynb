{
 "cells": [
  {
   "cell_type": "markdown",
   "id": "c9fb5d5b-0442-473e-ae15-ebc4e987e4ec",
   "metadata": {},
   "source": [
    "# Fireveg DB imports -- Instructions and workflow for this repository\n",
    "\n",
    "Author: [José R. Ferrer-Paris](https://github.com/jrfep)\n",
    "\n",
    "Date: July 2024\n",
    "\n",
    "This repository includes [Python](https://www.python.org) and [R](https://www.r-project.org/) code to populate and manage the Fireveg database. This Jupyter Notebook contains instructions on how we set up our instance of Jupyter Lab and on how to navigate this repository.\n",
    "\n",
    "**Please note:**\n",
    "<div class=\"alert alert-warning\">\n",
    "    This repository contains code that is intended for internal project management and is documented for the sake of reproducibility.<br/>\n",
    "    🛂 Only users contributing directly to the project have access to the credentials for data download/upload. \n",
    "</div>"
   ]
  },
  {
   "cell_type": "markdown",
   "id": "9b2be093-5ffb-46e5-82bb-0648f8426efb",
   "metadata": {},
   "source": [
    "## Repository structure\n",
    "\n",
    "All the script are saved as Jupyter Notebooks and include documentation and comments on each step. Items with a green checkmark (✅) have been updated for version 1.1 (August 2024). Some items in this list are still work in progress (⌛), and others are just old or outdated, and will be deleted soon (🦕). \n"
   ]
  },
  {
   "cell_type": "markdown",
   "id": "3d683177-c64e-4320-82a5-53758270679b",
   "metadata": {},
   "source": [
    "### Shared scripts in `lib` folder"
   ]
  },
  {
   "cell_type": "markdown",
   "id": "f40aa55f-b174-4a7a-8da8-16b0ae27b218",
   "metadata": {},
   "source": [
    "Folder [lib/](/lib/) include several functions written as [python](https://www.python.org/) modules. ⌛\n",
    "\n",
    "I am in the process of moving shared functions to a module in folder `lib` to ensure consistency in the use of the functions, more generalised and customizable functions, and also streamline the documentation of steps in the notebooks."
   ]
  },
  {
   "cell_type": "markdown",
   "id": "7c322160-bf35-45b1-98b6-240ad17da35c",
   "metadata": {},
   "source": [
    "### Credentials"
   ]
  },
  {
   "cell_type": "markdown",
   "id": "b10e3bc2-9e27-4220-8d04-95a8dd805410",
   "metadata": {},
   "source": [
    "🤫 We use a folder named `secrets` to keep the credentials for connection to different services (database credentials, API keys, etc). We checked this folder in our `.gitignore` so that its content are not tracked by git and not exposed. Future users need to copy the contents of this folder manually.\n",
    "\n",
    "Once we copied the credentials to the secrets folder, we can use this to connect to the database using psql\n",
    "```sh\n",
    "eval $(grep -A4  aws-lght-sl secrets/database.ini | tail +2)\n",
    "psql -h $host -d $database -U $user\n",
    "```"
   ]
  },
  {
   "cell_type": "markdown",
   "id": "a87daf73-0340-4964-8f73-85515c1bb19d",
   "metadata": {},
   "source": [
    "### Data preparation"
   ]
  },
  {
   "cell_type": "markdown",
   "id": "7022a742-571f-409b-b8d1-c4288adae868",
   "metadata": {},
   "source": [
    "To run the code in this repository we need to first prepare a local copy of the data we need. We use another untracked directory (`data`) to hold local copies of the input data.\n",
    "\n",
    "Scripts for data preparation are documented in folder `data-preparation`:\n",
    "- [Download files from S3 bucket](data-preparation/upload-files-to-S3-bucket.ipynb) ✅\n",
    "- [Download and explore Austraits record from Zenodo](data-preparation/Explore-Austraits-records.ipynb) ✅\n",
    "- [Explore NSWFFRD 2014 data](data-preparation/Explore-NSWFFRD-2014.ipynb) ✅"
   ]
  },
  {
   "cell_type": "markdown",
   "id": "9f4de222-5a06-4365-ba37-8eb104903aa3",
   "metadata": {},
   "source": [
    "### Import taxonomy"
   ]
  },
  {
   "cell_type": "markdown",
   "id": "3fb64728-7a35-4823-99fa-b03bec07ee0e",
   "metadata": {},
   "source": [
    "We are using the latest version (as of 19 August 2024) of the BioNet species names. \n",
    "\n",
    "A script for importing the data into a database table is documented in folder 'import-taxonomy':\n",
    "- [Import BioNet species names](import-taxonomy/import-BioNet-species-names.ipynb)✅"
   ]
  },
  {
   "cell_type": "markdown",
   "id": "5e395506-b993-460d-ac0a-46643eb63d9f",
   "metadata": {},
   "source": [
    "### Import from existing sources"
   ]
  },
  {
   "cell_type": "markdown",
   "id": "9b94f03b-1868-4941-8600-515875fce413",
   "metadata": {},
   "source": [
    "One data stream focuses on existing data sources for plant species traits related to their fire ecology.\n",
    "\n",
    "The folder `import-existing-sources` includes the following notebooks:\n",
    "\n",
    "- [Import records from Austraits data](import-existing-sources/import-records-from-Austraits-data.ipynb) ✅\n",
    "- [Import records from the NSW Fire Flora database (2014)](import-existing-sources/import-records-from-NSWFFRD.ipynb) ✅\n",
    "- [Import manually curated records](import-existing-sources/import-records-from-manual-curation.ipynb) ✅\n",
    "- [Create a form for manual entry and curation of records](import-existing-sources/create-form-for-manual-entry-and-curation.ipynb) ✅\n",
    "\n",
    "\n",
    "These scripts were created to import existing data. \n",
    "`NSWFRD` refers to the New South Wales Flora Fire Response Database and is a static spreadsheet. We are using the most recent available version (v2.1). \n",
    "`austraits` refers to the austraits project and is an active repository. Scripts were tested with version 3.0.2 from 2021 and version 6.0.0 from 2024. We expect to adapt the code as new versions become available. \n"
   ]
  },
  {
   "cell_type": "markdown",
   "id": "db8f5f63-42b3-414f-b0b5-e1411f37df21",
   "metadata": {},
   "source": [
    "### Import from field forms "
   ]
  },
  {
   "cell_type": "markdown",
   "id": "ad596dd9-6010-44a5-877e-09d111bdf877",
   "metadata": {},
   "source": [
    "Scripts to import field data from spreadsheets. Spreadsheets or Workbooks in XLSX format provided by Prof. David Keith, [FAA](https://www.science.org.au/profile/david-keith), but created by different observers. Scripts were adapted to import spreadsheets as given, with minimum editing of original files. \n",
    "\n",
    "Contents of folder `Field-forms`: ⌛"
   ]
  },
  {
   "cell_type": "markdown",
   "id": "e2bf4c05-202a-4789-a209-50b3908ad5b6",
   "metadata": {},
   "source": [
    "- [Import survey, sites and visits information](import-field-forms/00-Import-sites-and-visits.ipynb) ✅\n",
    "- [Import fire history](import-field-forms/01-Import-fire-history.ipynb)✅\n",
    "- [Import quadrat samples](import-field-forms/02-Import-quadrat-samples.ipynb)✅\n",
    "- [Import data from Mallee Woodlands](import-field-forms/10-Malle-Woodlands-import.pynb)⌛\n",
    "- [Update species codes](import-field-forms/20-update-species-codes.ipynb)⌛\n",
    "- [Update traits (seedbank type and resprout organs](import-field-forms/21-update-seedbank-resproutorgan.ipynb)⌛\n",
    "- [Declare functions](import-field-forms/99-import-functions-sandbox.ipynb)🦕\n",
    "- [Import fire intensity](import-field-forms/Import-fire-intensity.ipynb)🦕\n",
    "- [Import veg. structure](import-field-forms/Import-veg-structure.ipynb)🦕"
   ]
  },
  {
   "cell_type": "markdown",
   "id": "a9eda153-15a0-47a4-ac0a-58e17d2d4053",
   "metadata": {},
   "source": [
    "## How to use Jupyter Lab\n",
    "\n",
    "I use Jupyter Lab to organise and document all the code in notebooks.  \n",
    "\n",
    "These are the steps I followed to configure a Jupyter Lab environment. This is a simple collection of note, not an exhaustive how to.\n"
   ]
  },
  {
   "cell_type": "markdown",
   "id": "a687a655-5ff2-401a-9f93-2df399080992",
   "metadata": {},
   "source": [
    "### Create and activate python environment\n",
    "\n",
    "#### with venv\n",
    "\n",
    "This is my preferred method after some frustrations with conda.\n"
   ]
  },
  {
   "cell_type": "raw",
   "id": "f073f09c-cb6c-42a8-8f2c-5beca521f955",
   "metadata": {},
   "source": [
    "# Run this in a shell or terminal (bash or zsh):\n",
    "conda deactivate\n",
    "mkdir -p $HOME/venv\n",
    "/usr/local/bin/python3 -m venv $HOME/venv/jptr\n",
    "source $HOME/venv/jptr/bin/activate"
   ]
  },
  {
   "cell_type": "markdown",
   "id": "c1586f0d-4eea-4eb2-ba03-65f328cc2de3",
   "metadata": {},
   "source": [
    "Check python version with `python --version`\n",
    "\n",
    "Update and install modules with:"
   ]
  },
  {
   "cell_type": "raw",
   "id": "70261ca9-88fa-4a07-9ae3-0c495110a6e9",
   "metadata": {},
   "source": [
    "pip install --upgrade pip\n",
    "pip3 install jupyterlab"
   ]
  },
  {
   "cell_type": "markdown",
   "id": "93a997b5-30fa-4e61-8d92-b02e63fc4ef3",
   "metadata": {},
   "source": [
    "#### Alternative with Conda\n",
    "\n",
    "Of course, you can still use Conda **instead** of venv.\n",
    "\n",
    "I followed these steps to a) create a new environment with conda, and b) install the appropriate Python modules and R packages."
   ]
  },
  {
   "cell_type": "raw",
   "id": "a9b3483d-342d-4929-80de-a7991be9d4ee",
   "metadata": {},
   "source": [
    "# Run this in a shell or terminal (bash or zsh):\n",
    "conda create --name jptr\n",
    "conda activate jptr\n",
    "conda install -c conda-forge r-rpostgresql r-readxl devtools\n",
    "conda install -c conda-forge jupyterlab"
   ]
  },
  {
   "cell_type": "markdown",
   "id": "9b90c3e2-acfd-4666-8d97-ac69ac967aac",
   "metadata": {},
   "source": [
    "### Installing python libraries\n",
    "Using the `venv` environment, it is easier to install packages with `pip`:"
   ]
  },
  {
   "cell_type": "raw",
   "id": "b1cac398-616c-45dd-9c10-9c64ac419912",
   "metadata": {},
   "source": [
    "pip install openpyxl pandas\n",
    "pip install pyprojroot\n",
    "# connection to aws s3\n",
    "pip install boto3\n",
    "# for iNat observations\n",
    "pip install pyinaturalist\n",
    "pip install pillow\n",
    "pip install ipyplot"
   ]
  },
  {
   "cell_type": "markdown",
   "id": "5c376fcb-eabe-4698-9c9a-354170f8beab",
   "metadata": {},
   "source": [
    "### Connecting to postgresql\n",
    "\n",
    "To connect to postgresql database we need to have a client in the local computer. \n",
    "\n",
    "For postgresql connection on mac, use: https://postgresapp.com, download and then "
   ]
  },
  {
   "cell_type": "raw",
   "id": "d12bdd45-3354-42d3-a008-5cae572dcacb",
   "metadata": {},
   "source": [
    "sudo mkdir -p /etc/paths.d &&\n",
    "echo /Applications/Postgres.app/Contents/Versions/latest/bin | sudo tee /etc/paths.d/postgresapp"
   ]
  },
  {
   "cell_type": "markdown",
   "id": "b51128d8-2ec0-442b-ba44-693797457285",
   "metadata": {},
   "source": [
    "Restart the terminal, then:"
   ]
  },
  {
   "cell_type": "raw",
   "id": "8527a20c-2987-4546-9eb1-71c1047fab7e",
   "metadata": {},
   "source": [
    "source $HOME/venv/jptr/bin/activate\n",
    "pip install psycopg2"
   ]
  },
  {
   "cell_type": "markdown",
   "id": "7f0036d1-4001-4989-af78-e5ed4f073780",
   "metadata": {},
   "source": [
    "### Adding the R kernel\n",
    "Activate the right R kernel for Jupyter lab with:"
   ]
  },
  {
   "cell_type": "raw",
   "id": "e0f6f0aa-22c3-4583-9b19-29ec216406a4",
   "metadata": {},
   "source": [
    "# Run this in an R session\n",
    "install.packages('IRkernel')\n",
    "IRkernel::installspec()"
   ]
  },
  {
   "cell_type": "markdown",
   "id": "da8cdf0f-80ee-4aa5-8faf-022940b08fed",
   "metadata": {},
   "source": [
    "### Loading own functions\n",
    "If we want to have shared functions in different workbooks, one options is to start the jupyter lab interface with pythonpath. Something like this:"
   ]
  },
  {
   "cell_type": "raw",
   "id": "52a740d3-5c8e-4ed9-bebd-5d570948da16",
   "metadata": {},
   "source": [
    "cd $REPODIR\n",
    "# Then activate the environment with \n",
    "source $HOME/venv/jptr/bin/activate\n",
    "# or with Conda: \n",
    "# conda activate jptr\n",
    "# and set the path:\n",
    "env PYTHONPATH=$REPODIR jupyter-lab"
   ]
  },
  {
   "cell_type": "markdown",
   "id": "76c862f2-92cc-4385-bdbb-df98d21d1e2a",
   "metadata": {},
   "source": [
    "Alternatively, we can update the path in one of the cells of the notebook, something like this:"
   ]
  },
  {
   "cell_type": "code",
   "execution_count": 1,
   "id": "c970314e-eaee-4f3a-81b6-b8d3c851443a",
   "metadata": {},
   "outputs": [],
   "source": [
    "import pyprojroot\n",
    "import sys\n",
    "repodir = pyprojroot.find_root(pyprojroot.has_dir(\".git\"))\n",
    "sys.path.append(str(repodir))"
   ]
  },
  {
   "cell_type": "markdown",
   "id": "e59630d4-58e7-472f-9078-d56e86446533",
   "metadata": {},
   "source": [
    "### Version control with Jupyter\n",
    "\n",
    "There are some problems associated with version control of jupyter notebooks when copies of the notebook are edited in different sessions concurrently.\n",
    "\n",
    "Look at some recommendations here:\n",
    "<https://nextjournal.com/schmudde/how-to-version-control-jupyter>\n"
   ]
  },
  {
   "cell_type": "markdown",
   "id": "948336b7-9c9c-4c0a-8119-f8510ad9ec0d",
   "metadata": {},
   "source": [
    "## This is the end...\n",
    "\n",
    "... Of this short document.\n",
    "\n",
    "You are welcome to continue exploring the [links above](#Repository-structure), or:\n",
    "- continue navigating the repo on [GitHub](https://github.com/ces-unsw-edu-au/fireveg-db-exports)\n",
    "- continue exploring the repo on [OSF](https://osf.io/h96q2/).\n",
    "- visit the database at <http://fireecologyplants.net>"
   ]
  },
  {
   "cell_type": "code",
   "execution_count": null,
   "id": "1ce9dc9c-26f7-403a-8ed4-fac58a8439a8",
   "metadata": {},
   "outputs": [],
   "source": []
  }
 ],
 "metadata": {
  "kernelspec": {
   "display_name": "Python 3 (ipykernel)",
   "language": "python",
   "name": "python3"
  },
  "language_info": {
   "codemirror_mode": {
    "name": "ipython",
    "version": 3
   },
   "file_extension": ".py",
   "mimetype": "text/x-python",
   "name": "python",
   "nbconvert_exporter": "python",
   "pygments_lexer": "ipython3",
   "version": "3.11.3"
  }
 },
 "nbformat": 4,
 "nbformat_minor": 5
}
