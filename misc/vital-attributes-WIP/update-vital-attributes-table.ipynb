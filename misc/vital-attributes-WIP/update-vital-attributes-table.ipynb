{
 "cells": [
  {
   "cell_type": "code",
   "execution_count": 1,
   "id": "e6c3f8fa-51c7-4513-ab72-8397678f33a9",
   "metadata": {},
   "outputs": [],
   "source": [
    "from pathlib import Path\n",
    "import os\n",
    "from configparser import ConfigParser\n",
    "import psycopg2\n",
    "from psycopg2.extensions import AsIs\n",
    "\n",
    "repodir = Path(\"../../\") \n",
    "filename = repodir / 'secrets' / 'database.ini'\n",
    "section = 'aws-lght-sl'\n",
    "\n",
    "parser = ConfigParser()\n",
    "parser.read(filename)\n",
    "\n",
    "dbparams = {}\n",
    "if parser.has_section(section):\n",
    "    params = parser.items(section)\n",
    "    for param in params:\n",
    "        dbparams[param[0]] = param[1]\n",
    "else:\n",
    "    raise Exception('Section {0} not found in the {1} file'.format(section, filename))"
   ]
  },
  {
   "cell_type": "markdown",
   "id": "0fa9bf4b-bd92-43c9-8356-325dbddf12ad",
   "metadata": {},
   "source": [
    "# Populate VA groups table"
   ]
  },
  {
   "cell_type": "code",
   "execution_count": 2,
   "id": "4f06f7db-2c5d-438a-9d0e-94727bf439e1",
   "metadata": {},
   "outputs": [
    {
     "name": "stdout",
     "output_type": "stream",
     "text": [
      "Connecting to the PostgreSQL database...\n",
      "15732 rows updated\n",
      "Database connection closed.\n"
     ]
    }
   ],
   "source": [
    "print('Connecting to the PostgreSQL database...')\n",
    "conn = psycopg2.connect(**dbparams)\n",
    "cur = conn.cursor()\n",
    "affected_rows=0\n",
    "\n",
    "qry = \"\"\"\n",
    "INSERT INTO vag.va_groups(species,species_code,comments)\n",
    "SELECT \"scientificName\", \"speciesID\",\n",
    "    '{\"Match by speciesID\",\"Import species names from BioNET\"}' \n",
    "FROM species.caps\n",
    "ON CONFLICT DO NOTHING;\n",
    "\"\"\"\n",
    "cur.execute(qry)\n",
    "affected_rows = affected_rows+cur.rowcount\n",
    "print(\"%s rows updated\" % affected_rows)\n",
    "conn.commit()\n",
    "cur.close()\n",
    "\n",
    "if conn is not None:\n",
    "    conn.close()\n",
    "    print('Database connection closed.')     \n"
   ]
  },
  {
   "cell_type": "markdown",
   "id": "fd9ad767-a72a-4f2b-abac-7b751198c784",
   "metadata": {
    "tags": []
   },
   "source": [
    "# Establishment"
   ]
  },
  {
   "cell_type": "code",
   "execution_count": 3,
   "id": "44dc4b17-01b5-489e-aa8b-57ab659e7f86",
   "metadata": {},
   "outputs": [
    {
     "name": "stdout",
     "output_type": "stream",
     "text": [
      "Connecting to the PostgreSQL database...\n",
      "1026 rows updated\n",
      "634 rows updated\n",
      "318 rows updated\n",
      "34 rows updated\n",
      "3 rows updated\n",
      "0 rows updated\n"
     ]
    }
   ],
   "source": [
    "print('Connecting to the PostgreSQL database...')\n",
    "conn = psycopg2.connect(**dbparams)\n",
    "cur = conn.cursor()\n",
    "\n",
    "qry=\"\"\"\n",
    "CREATE TEMP TABLE va_estab (species,spid,species_code,n,rect2) AS (\n",
    "SELECT species,\"speciesID\",species_code,\n",
    "COUNT(DISTINCT r2.record_id),\n",
    "array_agg(r2.norm_value) \n",
    "FROM litrev.rect2 r2\n",
    "LEFT JOIN species.caps \n",
    "  ON \"speciesCode_Synonym\"=r2.species_code \n",
    "WHERE species_code IS NOT NULL \n",
    "GROUP BY species,\"speciesID\",species_code\n",
    ");\n",
    "\"\"\"\n",
    "cur.execute(qry)\n",
    "print(\"%s rows updated\" % cur.rowcount)\n",
    "\n",
    "\n",
    "qry=\"\"\"\n",
    "UPDATE vag.va_groups \n",
    "SET establishment=array_append(establishment,'I'),\n",
    "    status_establishment='{\"All literature records refer to this category\"}'\n",
    "WHERE species_code IN (\n",
    "    SELECT spid FROM va_estab \n",
    "    WHERE 'Intolerant'=ANY(rect2)\n",
    "    );\n",
    "\"\"\"\n",
    "cur.execute(qry)\n",
    "print(\"%s rows updated\" % cur.rowcount)\n",
    "\n",
    "qry=\"\"\"\n",
    "UPDATE vag.va_groups \n",
    "SET establishment=array_append(establishment,'T'),\n",
    "    status_establishment='{\"All literature records refer to this category\"}'\n",
    "WHERE species_code IN (\n",
    "    SELECT spid FROM va_estab \n",
    "    WHERE 'Tolerant'=ANY(rect2)\n",
    "    );\n",
    "\"\"\"\n",
    "cur.execute(qry)\n",
    "print(\"%s rows updated\" % cur.rowcount)\n",
    "\n",
    "\n",
    "qry=\"\"\"\n",
    "UPDATE vag.va_groups \n",
    "SET establishment=array_append(establishment,'R'),\n",
    "    status_establishment='{\"All literature records refer to this category\"}'\n",
    "WHERE species_code IN (\n",
    "    SELECT spid FROM va_estab \n",
    "    WHERE 'Requiring'=ANY(rect2)\n",
    "    );\n",
    "\"\"\"\n",
    "cur.execute(qry)\n",
    "print(\"%s rows updated\" % cur.rowcount)\n",
    "\n",
    "\n",
    "qry=\"\"\"\n",
    "UPDATE vag.va_groups \n",
    "SET establishment=array_append(establishment,'I/T'),\n",
    "    status_establishment='{\"All literature records refer to this category\"}'\n",
    "WHERE species_code IN (\n",
    "    SELECT spid FROM va_estab \n",
    "    WHERE 'Intolerant-Tolerant'=ANY(rect2)\n",
    "    );\n",
    "\"\"\"\n",
    "cur.execute(qry)\n",
    "print(\"%s rows updated\" % cur.rowcount)\n",
    "\n",
    "qry=\"\"\"\n",
    "UPDATE vag.va_groups \n",
    "SET establishment=array_append(establishment,'T/r'),\n",
    "    status_establishment='{\"All literature records refer to this category\"}'\n",
    "WHERE species_code IN (\n",
    "    SELECT spid FROM va_estab \n",
    "    WHERE 'Tolerant-Requiring'=ANY(rect2)\n",
    "    );\n",
    "\"\"\"\n",
    "cur.execute(qry)\n",
    "print(\"%s rows updated\" % cur.rowcount)\n",
    "\n"
   ]
  },
  {
   "cell_type": "code",
   "execution_count": 4,
   "id": "8ff9248f-25e2-4647-b4b0-50465bf4d03b",
   "metadata": {},
   "outputs": [
    {
     "name": "stdout",
     "output_type": "stream",
     "text": [
      "50 rows updated\n"
     ]
    }
   ],
   "source": [
    "qry=\"\"\"\n",
    "UPDATE vag.va_groups \n",
    "SET status_establishment='{\"There are literature records for two different categories\"}'\n",
    "WHERE cardinality(establishment)=2; \n",
    "\"\"\" ## prob. need some 'unique' function to avoid duplicates\n",
    "cur.execute(qry)\n",
    "print(\"%s rows updated\" % cur.rowcount)\n"
   ]
  },
  {
   "cell_type": "code",
   "execution_count": 5,
   "id": "61783d49-b791-4c21-9adc-864f0629ff9a",
   "metadata": {},
   "outputs": [
    {
     "name": "stdout",
     "output_type": "stream",
     "text": [
      "Database connection closed.\n"
     ]
    }
   ],
   "source": [
    "\n",
    "cur.close()\n",
    "if conn is not None:\n",
    "    conn.commit()\n",
    "    conn.close()\n",
    "    print('Database connection closed.')     \n"
   ]
  },
  {
   "cell_type": "markdown",
   "id": "285d634b-4184-42ef-8eb2-51b4f4d58853",
   "metadata": {
    "tags": []
   },
   "source": [
    "# Persistence"
   ]
  },
  {
   "cell_type": "markdown",
   "id": "1546bf12-3b72-4f2c-b9e8-769f8e6f317f",
   "metadata": {},
   "source": [
    "## First Rule\n",
    "\n",
    "    1. If Disp1 = ‘wind-wing/’ OR ‘animal-ingestion/’ THEN 2, otherwise 3\n",
    "    2. If Surv4 = ‘None’ THEN Persistence VA = D, otherwise Persistence VA = Δ\n",
    "    3. ..."
   ]
  },
  {
   "cell_type": "code",
   "execution_count": 6,
   "id": "536549e0-9cb0-4eac-af45-027b4a3d3183",
   "metadata": {},
   "outputs": [
    {
     "name": "stdout",
     "output_type": "stream",
     "text": [
      "Connecting to the PostgreSQL database...\n",
      "6253 rows updated\n"
     ]
    }
   ],
   "source": [
    "print('Connecting to the PostgreSQL database...')\n",
    "conn = psycopg2.connect(**dbparams)\n",
    "cur = conn.cursor()\n",
    "affected_rows=0\n",
    "\n",
    "qry = \"\"\"\n",
    "CREATE TEMP TABLE va_rule1 (species,spid,species_code,n_records,n_valid) AS (\n",
    "SELECT species,\"speciesID\",species_code,\n",
    "COUNT(DISTINCT record_id),\n",
    "SUM(\n",
    "  CASE WHEN norm_value IN ('wind-wing','animal-ingestion') THEN 1\n",
    "  ELSE 0 END\n",
    ")\n",
    "FROM litrev.disp1 \n",
    "LEFT JOIN species.caps \n",
    "  ON \"speciesCode_Synonym\"=species_code \n",
    "WHERE species_code IS NOT NULL \n",
    "GROUP BY species,\"speciesID\",species_code\n",
    "--LIMIT 10\n",
    ");\n",
    "\"\"\"\n",
    "cur.execute(qry)\n",
    "print(\"%s rows updated\" % cur.rowcount)"
   ]
  },
  {
   "cell_type": "code",
   "execution_count": 7,
   "id": "269473b6-3030-47d8-8174-b5c46ea76e49",
   "metadata": {},
   "outputs": [
    {
     "name": "stdout",
     "output_type": "stream",
     "text": [
      "735 rows updated\n"
     ]
    }
   ],
   "source": [
    "qry=\"\"\"\n",
    "UPDATE vag.va_groups \n",
    "SET persistence='{D,Δ}',\n",
    "    rationale_persistence[1]='disp1 = wind-wing OR animal-ingestion',\n",
    "    rationale_persistence[2]='TO DO',\n",
    "    status_persistence='{\"criteria met for two possible categories\",\"outcome not resolved yet\"}'\n",
    "WHERE species_code IN (\n",
    "    SELECT spid FROM va_rule1 WHERE n_records > 0 AND n_valid > 0\n",
    "    );\n",
    "\"\"\"\n",
    "cur.execute(qry)\n",
    "print(\"%s rows updated\" % cur.rowcount)"
   ]
  },
  {
   "cell_type": "code",
   "execution_count": 8,
   "id": "335e96a3-b10a-4701-adc1-f8e994702c9c",
   "metadata": {},
   "outputs": [
    {
     "name": "stdout",
     "output_type": "stream",
     "text": [
      "5516 rows updated\n"
     ]
    }
   ],
   "source": [
    "qry=\"\"\"\n",
    "UPDATE vag.va_groups \n",
    "SET persistence='{S,Σ,G,Γ,V,U,C,W}',\n",
    "    rationale_persistence[1]='disp1 does not meet criteria',\n",
    "    rationale_persistence[2]='skip',\n",
    "    status_persistence='{\"criteria not met\",\"several possible categories\",\"outcome not resolved yet\"}'\n",
    "WHERE species_code IN (\n",
    "    SELECT spid FROM va_rule1 WHERE n_records > 0 AND n_valid = 0\n",
    "    );\n",
    "\"\"\"\n",
    "cur.execute(qry)\n",
    "print(\"%s rows updated\" % cur.rowcount)"
   ]
  },
  {
   "cell_type": "code",
   "execution_count": 9,
   "id": "0f383f3e-c012-4f5e-88ce-77a89662d631",
   "metadata": {},
   "outputs": [
    {
     "name": "stdout",
     "output_type": "stream",
     "text": [
      "9481 rows updated\n"
     ]
    }
   ],
   "source": [
    "qry = \"\"\"\n",
    "UPDATE vag.va_groups \n",
    "SET rationale_persistence[1]='No records for disp1',\n",
    "    status_persistence='{\"missing information\",\"cannot proceed\"}'\n",
    "WHERE species_code NOT IN (\n",
    "    SELECT spid FROM va_rule1 \n",
    "    );\n",
    "\"\"\"\n",
    "cur.execute(qry)\n",
    "print(\"%s rows updated\" % cur.rowcount)"
   ]
  },
  {
   "cell_type": "code",
   "execution_count": 10,
   "id": "9ac913a2-0fb7-4acc-ba6e-8aa8e710ed40",
   "metadata": {},
   "outputs": [
    {
     "name": "stdout",
     "output_type": "stream",
     "text": [
      "Database connection closed.\n"
     ]
    }
   ],
   "source": [
    "qry = \"\"\"\n",
    "SELECT persistence, establishment, count(*)\n",
    "FROM vag.va_groups\n",
    "GROUP BY persistence,establishment;\n",
    "\"\"\"\n",
    "cur.execute(qry)\n",
    "res=cur.fetchall()\n",
    "cur.close()\n",
    "conn.commit()\n",
    "if conn is not None:\n",
    "    conn.close()\n",
    "    print('Database connection closed.')     \n"
   ]
  },
  {
   "cell_type": "code",
   "execution_count": 11,
   "id": "b6223605-0a42-4f32-86be-63a71b1f6f22",
   "metadata": {},
   "outputs": [
    {
     "name": "stdout",
     "output_type": "stream",
     "text": [
      "[(['D', 'Δ'], ['I', 'T'], 10), (None, None, 9345), (['S', 'Σ', 'G', 'Γ', 'V', 'U', 'C', 'W'], ['T'], 204), (['D', 'Δ'], ['R'], 6), (['D', 'Δ'], ['I'], 53), (['S', 'Σ', 'G', 'Γ', 'V', 'U', 'C', 'W'], ['T', 'R'], 4), (None, ['R'], 2), (['D', 'Δ'], ['T', 'R'], 3), (['D', 'Δ'], ['T'], 27), (['S', 'Σ', 'G', 'Γ', 'V', 'U', 'C', 'W'], ['I/T'], 3), (['S', 'Σ', 'G', 'Γ', 'V', 'U', 'C', 'W'], ['I', 'T'], 33), (None, ['I'], 97), (['S', 'Σ', 'G', 'Γ', 'V', 'U', 'C', 'W'], ['R'], 19), (None, ['T'], 37), (['D', 'Δ'], None, 636), (['S', 'Σ', 'G', 'Γ', 'V', 'U', 'C', 'W'], None, 4812), (['S', 'Σ', 'G', 'Γ', 'V', 'U', 'C', 'W'], ['I'], 441)]\n"
     ]
    }
   ],
   "source": [
    "print(res)"
   ]
  },
  {
   "cell_type": "markdown",
   "id": "8487c7e7-9c22-4f1a-96cf-606c62752329",
   "metadata": {},
   "source": [
    "## Second Rule\n",
    "\n",
    "    1. ...\n",
    "    2. If Surv4 = ‘None’ THEN Persistence VA = D, otherwise Persistence VA = Δ"
   ]
  },
  {
   "cell_type": "code",
   "execution_count": 12,
   "id": "6c8dd219-dcb8-4860-93d4-4dd0772257b0",
   "metadata": {
    "tags": []
   },
   "outputs": [
    {
     "name": "stdout",
     "output_type": "stream",
     "text": [
      "Connecting to the PostgreSQL database...\n",
      "6816 rows updated\n"
     ]
    }
   ],
   "source": [
    "print('Connecting to the PostgreSQL database...')\n",
    "conn = psycopg2.connect(**dbparams)\n",
    "cur = conn.cursor()\n",
    "\n",
    "qry=\"\"\"\n",
    "CREATE TEMP TABLE va_rule2 (species,spid,species_code,n_records,n_valid) AS (\n",
    "SELECT species,\"speciesID\",species_code,\n",
    "COUNT(DISTINCT record_id),\n",
    "SUM(\n",
    "  CASE WHEN norm_value IN ('None') THEN 1\n",
    "  ELSE 0 END\n",
    ")\n",
    "FROM litrev.surv1 \n",
    "LEFT JOIN species.caps \n",
    "  ON \"speciesCode_Synonym\"=species_code \n",
    "WHERE species_code IS NOT NULL \n",
    "GROUP BY species,\"speciesID\",species_code\n",
    ");\n",
    "\"\"\"\n",
    "cur.execute(qry)\n",
    "print(\"%s rows updated\" % cur.rowcount)"
   ]
  },
  {
   "cell_type": "code",
   "execution_count": 13,
   "id": "e0615ce0-8c9a-4d93-a0fd-161a9f771a94",
   "metadata": {},
   "outputs": [
    {
     "name": "stdout",
     "output_type": "stream",
     "text": [
      "436 rows updated\n"
     ]
    }
   ],
   "source": [
    "qry=\"\"\"\n",
    "UPDATE vag.va_groups \n",
    "SET persistence='{D}', \n",
    "    rationale_persistence[2]='surv1 = None',\n",
    "    status_persistence='{\"criteria met for one category\"}'\n",
    "WHERE species_code IN (\n",
    "    SELECT spid FROM va_rule2 \n",
    "    WHERE n_records > 0 AND n_valid > 0) \n",
    "AND rationale_persistence[2]='TO DO';\n",
    "\"\"\"\n",
    "cur.execute(qry)\n",
    "print(\"%s rows updated\" % cur.rowcount)"
   ]
  },
  {
   "cell_type": "code",
   "execution_count": 14,
   "id": "9a763661-bdd1-4bf2-96d8-cd45da0a3088",
   "metadata": {},
   "outputs": [
    {
     "name": "stdout",
     "output_type": "stream",
     "text": [
      "240 rows updated\n"
     ]
    }
   ],
   "source": [
    "qry=\"\"\"\n",
    "UPDATE vag.va_groups \n",
    "SET persistence='{Δ}',\n",
    "    rationale_persistence[2]='surv1 other than None',\n",
    "    status_persistence='{\"criteria met for one category\"}'\n",
    "WHERE species_code IN (\n",
    "    SELECT spid FROM va_rule2 \n",
    "    WHERE n_records > 0 AND n_valid = 0) \n",
    "AND rationale_persistence[2]='TO DO';\n",
    "\"\"\"\n",
    "\n",
    "cur.execute(qry)\n",
    "print(\"%s rows updated\" % cur.rowcount)\n",
    "\n",
    "\n"
   ]
  },
  {
   "cell_type": "code",
   "execution_count": 15,
   "id": "3285ce8c-515f-4b5a-a476-197f12dd7df1",
   "metadata": {},
   "outputs": [
    {
     "name": "stdout",
     "output_type": "stream",
     "text": [
      "[(['S', 'Σ', 'G', 'Γ', 'V', 'U', 'C', 'W'], ['criteria not met', 'several possible categories', 'outcome not resolved yet'], 5516), (None, ['missing information', 'cannot proceed'], 9481), (['Δ'], ['criteria met for one category'], 240), (['D'], ['criteria met for one category'], 436), (['D', 'Δ'], ['criteria met for two possible categories', 'outcome not resolved yet'], 59)]\n",
      "Database connection closed.\n"
     ]
    }
   ],
   "source": [
    "qry = \"\"\"\n",
    "SELECT persistence, status_persistence, count(*)\n",
    "FROM vag.va_groups\n",
    "GROUP BY persistence,status_persistence;\n",
    "\"\"\"\n",
    "cur.execute(qry)\n",
    "\n",
    "res=cur.fetchall()\n",
    "\n",
    "print(res)\n",
    "cur.close()\n",
    "\n",
    "if conn is not None:\n",
    "    conn.commit()\n",
    "    conn.close()\n",
    "    print('Database connection closed.')     \n"
   ]
  },
  {
   "cell_type": "markdown",
   "id": "23e9eea2-dc26-4cf8-a770-7f122650c76b",
   "metadata": {
    "tags": []
   },
   "source": [
    "## Third Rule (and fourth and fifth)\n",
    "\n",
    "    1. If Disp1 = ‘wind-wing/’ OR ‘animal-ingestion/’ THEN 2, otherwise 3\n",
    "    2. ...\n",
    "    3. If Surv1 = ‘None’ OR ‘Few’ OR Surv2 = ‘Stem mortality and no resprouting’ OR Surv3 = ‘None’ OR ‘Few’ THEN 4, otherwise 6\n",
    "    4. If Germ1 = ‘Canopy’ OR ‘Transient’ OR Germ8 = ‘ND’ OR Surv7 <1 THEN Persistence VA = C, otherwise 5"
   ]
  },
  {
   "cell_type": "code",
   "execution_count": 16,
   "id": "98570fa3-6475-44a7-b81a-7aac28a7b518",
   "metadata": {},
   "outputs": [
    {
     "name": "stdout",
     "output_type": "stream",
     "text": [
      "Connecting to the PostgreSQL database...\n",
      "6816 rows updated\n"
     ]
    }
   ],
   "source": [
    "print('Connecting to the PostgreSQL database...')\n",
    "conn = psycopg2.connect(**dbparams)\n",
    "cur = conn.cursor()\n",
    "\n",
    "##cur.execute(\"DROP TABLE va_rule3\")\n",
    "qry=\"\"\"\n",
    "CREATE TEMP TABLE va_rule3 (species,spid,species_code,n_records,surv1,germ1, germ8,surv7) AS (\n",
    "SELECT species,\"speciesID\",species_code,\n",
    "COUNT(DISTINCT s1.record_id),\n",
    "SUM(\n",
    "  CASE WHEN s1.norm_value IN ('None','Few') THEN 1\n",
    "  ELSE 0 END\n",
    "),\n",
    "SUM(\n",
    "  CASE WHEN g1.norm_value IN ('Canopy','Transient') THEN 1\n",
    "  ELSE 0 END\n",
    "),\n",
    "SUM(\n",
    "  CASE WHEN g8.norm_value IN ('ND') THEN 1\n",
    "  ELSE 0 END\n",
    "),\n",
    "SUM(\n",
    "  CASE \n",
    "  WHEN s7.best < 1 THEN 1\n",
    "  WHEN s7.lower < 1 THEN 1\n",
    "  ELSE 0 END\n",
    ")\n",
    "\n",
    "FROM litrev.surv1 s1\n",
    "FULL JOIN litrev.germ1 as g1 \n",
    "  USING(species,species_code)\n",
    "FULL JOIN litrev.germ8 as g8 \n",
    "  USING(species,species_code)\n",
    "FULL JOIN litrev.surv7 as s7 \n",
    "  USING(species,species_code)\n",
    "LEFT JOIN species.caps \n",
    "  ON \"speciesCode_Synonym\"=species_code \n",
    "WHERE species_code IS NOT NULL \n",
    "GROUP BY species,\"speciesID\",species_code\n",
    ");\n",
    "\"\"\"\n",
    "cur.execute(qry)\n",
    "print(\"%s rows updated\" % cur.rowcount)"
   ]
  },
  {
   "cell_type": "code",
   "execution_count": 17,
   "id": "18c35653-077e-409a-8134-332e015cd95f",
   "metadata": {},
   "outputs": [
    {
     "name": "stdout",
     "output_type": "stream",
     "text": [
      "227 rows updated\n"
     ]
    }
   ],
   "source": [
    "qry=\"\"\"\n",
    "UPDATE vag.va_groups \n",
    "SET persistence='{C}', \n",
    "    rationale_persistence[3]='surv1 = None OR Few',\n",
    "    rationale_persistence[4]= 'germ1 = Cannopy OR Transient',\n",
    "    status_persistence='{\"criteria met for one category\"}'\n",
    "WHERE species_code IN (\n",
    "    SELECT spid FROM va_rule3 \n",
    "    WHERE surv1 > 0 AND (germ1 > 0)\n",
    "    )\n",
    "AND rationale_persistence[2]='skip';\n",
    "\"\"\"\n",
    "cur.execute(qry)\n",
    "print(\"%s rows updated\" % cur.rowcount)\n"
   ]
  },
  {
   "cell_type": "code",
   "execution_count": 18,
   "id": "f5b2cbbe-8c15-4f23-9575-a8974c11bde6",
   "metadata": {},
   "outputs": [
    {
     "name": "stdout",
     "output_type": "stream",
     "text": [
      "2 rows updated\n"
     ]
    }
   ],
   "source": [
    "\n",
    "qry=\"\"\"\n",
    "UPDATE vag.va_groups \n",
    "SET persistence='{C}', \n",
    "    rationale_persistence[3]='surv1 = None OR Few',\n",
    "    rationale_persistence[4]= 'germ8 ' ,\n",
    "    status_persistence='{\"criteria met for one category\"}'\n",
    "WHERE species_code IN (\n",
    "    SELECT spid FROM va_rule3 \n",
    "    WHERE surv1 > 0 AND (germ8 > 0)\n",
    "    )\n",
    "AND rationale_persistence[2]='skip';\n",
    "\"\"\"\n",
    "cur.execute(qry)\n",
    "print(\"%s rows updated\" % cur.rowcount)\n"
   ]
  },
  {
   "cell_type": "code",
   "execution_count": 19,
   "id": "c88f03d4-1ad3-44d5-9249-fa3d02dcacee",
   "metadata": {},
   "outputs": [
    {
     "name": "stdout",
     "output_type": "stream",
     "text": [
      "0 rows updated\n"
     ]
    }
   ],
   "source": [
    "qry=\"\"\"\n",
    "UPDATE vag.va_groups \n",
    "SET persistence='{C}', \n",
    "    rationale_persistence[3]='surv1 = None OR Few',\n",
    "    rationale_persistence[4]= 'surv7 <1',\n",
    "    status_persistence='{\"criteria met for one category\"}'\n",
    "WHERE species_code IN (\n",
    "    SELECT spid FROM va_rule3 \n",
    "    WHERE surv1 > 0 AND (surv7 > 0)\n",
    "    )\n",
    "AND rationale_persistence[2]='skip';\n",
    "\"\"\"\n",
    "cur.execute(qry)\n",
    "print(\"%s rows updated\" % cur.rowcount)\n"
   ]
  },
  {
   "cell_type": "code",
   "execution_count": 20,
   "id": "3b807fdb-5938-4189-9ad0-aad5f3cc34d7",
   "metadata": {},
   "outputs": [
    {
     "name": "stdout",
     "output_type": "stream",
     "text": [
      "2925 rows updated\n"
     ]
    }
   ],
   "source": [
    "qry=\"\"\"\n",
    "UPDATE vag.va_groups \n",
    "SET persistence='{G,S}', \n",
    "    rationale_persistence[3]='surv1 = None OR Few' ,\n",
    "    rationale_persistence[4]='germ1, germ8, surv7 do not meet criteria',\n",
    "    rationale_persistence[5]='TO DO',\n",
    "    status_persistence='{\"criteria met for two possible categories\",\"outcome not resolved yet\"}'\n",
    "WHERE species_code IN (\n",
    "    SELECT spid FROM va_rule3 \n",
    "    WHERE surv1 > 0 AND (germ1 = 0 AND germ8 = 0 AND surv7 = 0)\n",
    "    )\n",
    "AND rationale_persistence[2]='skip';\n",
    "\"\"\"\n",
    "cur.execute(qry)\n",
    "print(\"%s rows updated\" % cur.rowcount)\n"
   ]
  },
  {
   "cell_type": "code",
   "execution_count": 21,
   "id": "55fc1f79-16f7-4a87-ae20-eb9c9adbc73b",
   "metadata": {},
   "outputs": [
    {
     "name": "stdout",
     "output_type": "stream",
     "text": [
      "1895 rows updated\n"
     ]
    }
   ],
   "source": [
    "qry=\"\"\"\n",
    "UPDATE vag.va_groups \n",
    "SET persistence='{Σ,Γ,U,V,W}', \n",
    "    rationale_persistence[3]='surv1 is not None OR Few',\n",
    "    rationale_persistence[4]= 'skip',\n",
    "    rationale_persistence[5]= 'skip',\n",
    "    rationale_persistence[6]= 'TO DO',\n",
    "    status_persistence='{\"criteria not met\",\"several possible categories\",\"outcome not resolved yet\"}'\n",
    "WHERE species_code IN (\n",
    "    SELECT spid FROM va_rule3 \n",
    "    WHERE surv1 = 0 \n",
    "    )\n",
    "AND rationale_persistence[2]='skip';\n",
    "\"\"\"\n",
    "cur.execute(qry)\n",
    "print(\"%s rows updated\" % cur.rowcount)\n"
   ]
  },
  {
   "cell_type": "code",
   "execution_count": 22,
   "id": "396d326a-e6d8-405c-b6dc-d0aa6f708ccf",
   "metadata": {},
   "outputs": [
    {
     "name": "stdout",
     "output_type": "stream",
     "text": [
      "[(None, 9481), (['S', 'Σ', 'G', 'Γ', 'V', 'U', 'C', 'W'], 477), (['Δ'], 240), (['D'], 436), (['C'], 227), (['D', 'Δ'], 59), (['Σ', 'Γ', 'U', 'V', 'W'], 1895), (['G', 'S'], 2917)]\n",
      "Database connection closed.\n"
     ]
    }
   ],
   "source": [
    "qry = \"\"\"\n",
    "SELECT persistence, count(*)\n",
    "FROM vag.va_groups\n",
    "GROUP BY persistence;\n",
    "\"\"\"\n",
    "cur.execute(qry)\n",
    "print(cur.fetchall())\n",
    "\n",
    "cur.close()\n",
    "\n",
    "if conn is not None:\n",
    "    conn.commit()\n",
    "    conn.close()\n",
    "    print('Database connection closed.')     \n"
   ]
  },
  {
   "cell_type": "markdown",
   "id": "80925237-661d-4dc1-9382-c724962e120c",
   "metadata": {},
   "source": [
    "## Sixth Rule (and seventh)\n",
    "\n",
    "    6. If Germ1 = ‘Soil Persistent’ THEN 7, otherwise 8\n",
    "    7. If Surv1 = ‘Half’ OR Surv3 = ‘Half’ OR Surv4 = ‘Epicormic’ OR ‘Basal’ THEN Persistence VA = Γ, otherwise Persistence VA = Σ\n",
    "    8. ...\n"
   ]
  },
  {
   "cell_type": "code",
   "execution_count": 23,
   "id": "ab3ff821-926e-4209-9844-206b526a37f1",
   "metadata": {},
   "outputs": [
    {
     "name": "stdout",
     "output_type": "stream",
     "text": [
      "Connecting to the PostgreSQL database...\n",
      "6816 rows updated\n"
     ]
    }
   ],
   "source": [
    "print('Connecting to the PostgreSQL database...')\n",
    "conn = psycopg2.connect(**dbparams)\n",
    "cur = conn.cursor()\n",
    "\n",
    "##cur.execute(\"DROP TABLE va_rule3\")\n",
    "qry=\"\"\"\n",
    "CREATE TEMP TABLE va_rule6 (species,spid,species_code,n_records,surv1,germ1,surv4) AS (\n",
    "SELECT species,\"speciesID\",species_code,\n",
    "COUNT(DISTINCT s1.record_id),\n",
    "SUM(\n",
    "  CASE WHEN s1.norm_value IN ('Half') THEN 1\n",
    "  ELSE 0 END\n",
    "),\n",
    "SUM(\n",
    "  CASE WHEN g1.norm_value IN ('Soil-persistent') THEN 1\n",
    "  ELSE 0 END\n",
    "),\n",
    "SUM(\n",
    "  CASE WHEN s4.norm_value IN ('Epicormic','Basal') THEN 1\n",
    "  ELSE 0 END\n",
    ")\n",
    "FROM litrev.surv1 s1\n",
    "LEFT JOIN species.caps \n",
    "  ON \"speciesCode_Synonym\"=s1.species_code \n",
    "LEFT JOIN litrev.germ1 as g1 \n",
    "  USING(species,species_code)\n",
    "LEFT JOIN litrev.surv4 as s4 \n",
    "  USING(species,species_code)\n",
    "WHERE species_code IS NOT NULL \n",
    "GROUP BY species,\"speciesID\",species_code\n",
    ");\n",
    "\"\"\"\n",
    "cur.execute(qry)\n",
    "print(\"%s rows updated\" % cur.rowcount)"
   ]
  },
  {
   "cell_type": "code",
   "execution_count": 24,
   "id": "42c4fc2a-4fa4-4917-90b9-3de169b747f1",
   "metadata": {},
   "outputs": [
    {
     "name": "stdout",
     "output_type": "stream",
     "text": [
      "1754 rows updated\n"
     ]
    }
   ],
   "source": [
    "qry=\"\"\"\n",
    "UPDATE vag.va_groups \n",
    "SET persistence='{U,V,W}', \n",
    "    rationale_persistence[6]='germ1 is not Soil persistent',\n",
    "    rationale_persistence[7]= 'skip',\n",
    "    status_persistence='{\"criteria not met\",\"several possible categories\",\"outcome not resolved yet\"}'\n",
    "WHERE species_code IN (\n",
    "    SELECT spid FROM va_rule6 \n",
    "    WHERE germ1 = 0\n",
    "    )\n",
    "AND rationale_persistence[5]='skip';\n",
    "\"\"\"\n",
    "cur.execute(qry)\n",
    "print(\"%s rows updated\" % cur.rowcount)\n"
   ]
  },
  {
   "cell_type": "code",
   "execution_count": 25,
   "id": "4f130139-7179-444f-b68e-fa2f9068d907",
   "metadata": {},
   "outputs": [
    {
     "name": "stdout",
     "output_type": "stream",
     "text": [
      "147 rows updated\n"
     ]
    }
   ],
   "source": [
    "qry=\"\"\"\n",
    "UPDATE vag.va_groups \n",
    "SET persistence='{Σ,Γ}', \n",
    "    rationale_persistence[6]='germ1 = Soil persistent',\n",
    "    rationale_persistence[7]= 'TO DO',\n",
    "    status_persistence='{\"criteria met for two possible categories\",\"outcome not resolved yet\"}'\n",
    "    \n",
    "WHERE species_code IN (\n",
    "    SELECT spid FROM va_rule6 \n",
    "    WHERE germ1 > 0\n",
    "    )\n",
    "AND rationale_persistence[5]='skip';\n",
    "\"\"\"\n",
    "cur.execute(qry)\n",
    "print(\"%s rows updated\" % cur.rowcount)\n"
   ]
  },
  {
   "cell_type": "code",
   "execution_count": 26,
   "id": "77405245-875a-47f9-80a8-bb620c0d40b2",
   "metadata": {},
   "outputs": [
    {
     "name": "stdout",
     "output_type": "stream",
     "text": [
      "12 rows updated\n"
     ]
    }
   ],
   "source": [
    "qry=\"\"\"\n",
    "UPDATE vag.va_groups \n",
    "SET persistence='{Γ}', \n",
    "    rationale_persistence[6]='germ1 = Soil persistent',\n",
    "    rationale_persistence[7]= 'surv1 = Half',\n",
    "     status_persistence='{\"criteria met for one category\"}'\n",
    "WHERE species_code IN (\n",
    "    SELECT spid FROM va_rule6 \n",
    "    WHERE germ1 > 0 AND surv1 > 0\n",
    "    )\n",
    "AND rationale_persistence[5]='skip';\n",
    "\"\"\"\n",
    "cur.execute(qry)\n",
    "print(\"%s rows updated\" % cur.rowcount)\n"
   ]
  },
  {
   "cell_type": "code",
   "execution_count": 27,
   "id": "1de7913a-9bea-4b50-b6d1-32e6f8679956",
   "metadata": {},
   "outputs": [
    {
     "name": "stdout",
     "output_type": "stream",
     "text": [
      "49 rows updated\n"
     ]
    }
   ],
   "source": [
    "qry=\"\"\"\n",
    "UPDATE vag.va_groups \n",
    "SET persistence='{Γ}', \n",
    "    rationale_persistence[6]='germ1 = Soil persistent',\n",
    "    rationale_persistence[7]= 'surv4 = Epicormic OR basal',\n",
    "     status_persistence='{\"criteria met for one category\"}'\n",
    "WHERE species_code IN (\n",
    "    SELECT spid FROM va_rule6 \n",
    "    WHERE germ1 > 0 AND surv4 > 0\n",
    "    )\n",
    "AND rationale_persistence[5]='skip';\n",
    "\"\"\"\n",
    "cur.execute(qry)\n",
    "print(\"%s rows updated\" % cur.rowcount)\n"
   ]
  },
  {
   "cell_type": "code",
   "execution_count": 28,
   "id": "42335bee-defe-4d4b-a2c2-a96f04ad9194",
   "metadata": {},
   "outputs": [
    {
     "name": "stdout",
     "output_type": "stream",
     "text": [
      "95 rows updated\n"
     ]
    }
   ],
   "source": [
    "qry=\"\"\"\n",
    "UPDATE vag.va_groups \n",
    "SET persistence='{Σ}', \n",
    "    rationale_persistence[6]='germ1 = Soil persistent',\n",
    "    rationale_persistence[7]= 'surv4 and surv1 do not meet criteria',\n",
    "     status_persistence='{\"criteria met for one category\"}'\n",
    "WHERE species_code IN (\n",
    "    SELECT spid FROM va_rule6 \n",
    "    WHERE germ1 > 0 AND surv4 = 0 AND surv1 = 0\n",
    "    )\n",
    "AND rationale_persistence[5]='skip';\n",
    "\"\"\"\n",
    "cur.execute(qry)\n",
    "print(\"%s rows updated\" % cur.rowcount)\n"
   ]
  },
  {
   "cell_type": "code",
   "execution_count": 29,
   "id": "73604254-8ad1-48c9-9eff-be0ea2ea3b78",
   "metadata": {},
   "outputs": [
    {
     "name": "stdout",
     "output_type": "stream",
     "text": [
      "[(None, 9481), (['S', 'Σ', 'G', 'Γ', 'V', 'U', 'C', 'W'], 477), (['Δ'], 240), (['D'], 436), (['C'], 227), (['U', 'V', 'W'], 1748), (['Γ'], 52), (['D', 'Δ'], 59), (['Σ'], 95), (['G', 'S'], 2917)]\n",
      "Database connection closed.\n"
     ]
    }
   ],
   "source": [
    "qry = \"\"\"\n",
    "SELECT persistence,  count(*)\n",
    "FROM vag.va_groups\n",
    "GROUP BY persistence;\n",
    "\"\"\"\n",
    "cur.execute(qry)\n",
    "\n",
    "res=cur.fetchall()\n",
    "\n",
    "print(res)\n",
    "cur.close()\n",
    "\n",
    "if conn is not None:\n",
    "    conn.commit()\n",
    "    conn.close()\n",
    "    print('Database connection closed.')     \n"
   ]
  },
  {
   "cell_type": "markdown",
   "id": "bff36af9-1526-4515-a1c9-61610f281774",
   "metadata": {},
   "source": [
    "## Eight Rule \n",
    "    6. If Germ1 = ‘Soil Persistent’ THEN 7, otherwise 8\n",
    "    7. ...\n",
    "    8. If Surv4 = ‘Apical’ OR ‘Tuber’ OR ‘Tussock’ OR ‘Long rhizome’ OR ‘Short rhizome’ OR ‘Stolon’ OR Repr3a ≤1 THEN Persistence VA = U, otherwise 9\n",
    "    9. If Surv1 = ‘Half’ OR Surv3 = ‘Half’ OR Surv4 = ‘Epicormic’ OR ‘Basal’ THEN Persistence VA = W, otherwise Persistence VA = V\n"
   ]
  },
  {
   "cell_type": "code",
   "execution_count": 30,
   "id": "66c10cc4-1358-470e-9613-8a94cf355a2a",
   "metadata": {},
   "outputs": [
    {
     "name": "stdout",
     "output_type": "stream",
     "text": [
      "Connecting to the PostgreSQL database...\n",
      "1257 rows updated\n"
     ]
    }
   ],
   "source": [
    "print('Connecting to the PostgreSQL database...')\n",
    "conn = psycopg2.connect(**dbparams)\n",
    "cur = conn.cursor()\n",
    "\n",
    "##cur.execute(\"DROP TABLE va_rule3\")\n",
    "qry=\"\"\"\n",
    "CREATE TEMP TABLE va_rule8 (species,spid,species_code,n_records,surv4,repr3a) AS (\n",
    "SELECT species,\"speciesID\",species_code,\n",
    "COUNT(DISTINCT s4.record_id),\n",
    "SUM(\n",
    "  CASE WHEN s4.norm_value IN ('Apical','Tuber','Tussock','Long rhizome or root sucker','Short rhizome','Stolon') THEN 1\n",
    "  ELSE 0 END\n",
    "),\n",
    "SUM(\n",
    "  CASE WHEN r3.best <= 1 THEN 1\n",
    "      WHEN r3.lower <= 1 THEN 1\n",
    "  ELSE 0 END\n",
    ")\n",
    "FROM litrev.surv4 s4\n",
    "LEFT JOIN species.caps \n",
    "  ON \"speciesCode_Synonym\"=s4.species_code \n",
    "LEFT JOIN litrev.repr3a as r3 \n",
    "  USING(species,species_code)\n",
    "WHERE species_code IS NOT NULL \n",
    "GROUP BY species,\"speciesID\",species_code\n",
    ");\n",
    "\"\"\"\n",
    "cur.execute(qry)\n",
    "print(\"%s rows updated\" % cur.rowcount)"
   ]
  },
  {
   "cell_type": "code",
   "execution_count": 31,
   "id": "0774c757-12e3-4f70-be27-59b4382e3892",
   "metadata": {},
   "outputs": [
    {
     "name": "stdout",
     "output_type": "stream",
     "text": [
      "148 rows updated\n"
     ]
    }
   ],
   "source": [
    "qry=\"\"\"\n",
    "UPDATE vag.va_groups \n",
    "SET persistence='{U}', \n",
    "    rationale_persistence[8]= 'surv4  meet criteria',\n",
    "    status_persistence='{\"criteria met for one category\"}'\n",
    "WHERE species_code IN (\n",
    "    SELECT spid FROM va_rule8 \n",
    "    WHERE surv4 > 0 \n",
    "    )\n",
    "AND rationale_persistence[7]='skip';\n",
    "\"\"\"\n",
    "cur.execute(qry)\n",
    "print(\"%s rows updated\" % cur.rowcount)\n"
   ]
  },
  {
   "cell_type": "code",
   "execution_count": 32,
   "id": "180ed210-7e07-441d-b9c4-7256c6a3511d",
   "metadata": {},
   "outputs": [
    {
     "name": "stdout",
     "output_type": "stream",
     "text": [
      "69 rows updated\n"
     ]
    }
   ],
   "source": [
    "qry=\"\"\"\n",
    "UPDATE vag.va_groups \n",
    "SET persistence='{U}', \n",
    "    rationale_persistence[8]= 'repr3a  meet criteria',\n",
    "    status_persistence='{\"criteria met for one category\"}'\n",
    "WHERE species_code IN (\n",
    "    SELECT spid FROM va_rule8 \n",
    "    WHERE repr3a > 0 \n",
    "    )\n",
    "AND rationale_persistence[7]='skip';\n",
    "\"\"\"\n",
    "cur.execute(qry)\n",
    "print(\"%s rows updated\" % cur.rowcount)\n"
   ]
  },
  {
   "cell_type": "code",
   "execution_count": 33,
   "id": "138bab11-ef14-4d12-9c74-69beb0f334c1",
   "metadata": {},
   "outputs": [
    {
     "name": "stdout",
     "output_type": "stream",
     "text": [
      "131 rows updated\n"
     ]
    }
   ],
   "source": [
    "qry=\"\"\"\n",
    "UPDATE vag.va_groups \n",
    "SET persistence='{V,W}', \n",
    "    rationale_persistence[8]= 'surv4, repr3a do not meet criteria',\n",
    "    rationale_persistence[9]= 'TO DO',\n",
    "     status_persistence='{\"criteria met for two possible categories\",\"outcome not resolved yet\"}'\n",
    "WHERE species_code IN (\n",
    "    SELECT spid FROM va_rule8 \n",
    "    WHERE surv4 =0 AND repr3a = 0\n",
    "    )\n",
    "AND rationale_persistence[7]='skip';\n",
    "\"\"\"\n",
    "cur.execute(qry)\n",
    "print(\"%s rows updated\" % cur.rowcount)\n"
   ]
  },
  {
   "cell_type": "code",
   "execution_count": 34,
   "id": "2ad069c5-fabe-4843-aea9-74997c149985",
   "metadata": {},
   "outputs": [
    {
     "name": "stdout",
     "output_type": "stream",
     "text": [
      "[(None, 9481), (['S', 'Σ', 'G', 'Γ', 'V', 'U', 'C', 'W'], 477), (['Δ'], 240), (['V', 'W'], 131), (['U'], 171), (['D'], 436), (['C'], 227), (['U', 'V', 'W'], 1446), (['Γ'], 52), (['D', 'Δ'], 59), (['Σ'], 95), (['G', 'S'], 2917)]\n",
      "Database connection closed.\n"
     ]
    }
   ],
   "source": [
    "qry = \"\"\"\n",
    "SELECT persistence, count(*)\n",
    "FROM vag.va_groups\n",
    "GROUP BY persistence;\n",
    "\"\"\"\n",
    "cur.execute(qry)\n",
    "\n",
    "res=cur.fetchall()\n",
    "\n",
    "print(res)\n",
    "cur.close()\n",
    "\n",
    "if conn is not None:\n",
    "    conn.commit()\n",
    "    conn.close()\n",
    "    print('Database connection closed.')     \n"
   ]
  },
  {
   "cell_type": "markdown",
   "id": "901ed7e6-6726-4d25-bcef-346ba539494a",
   "metadata": {},
   "source": [
    "## Ninth Rule \n",
    "    8. If Surv4 = ‘Apical’ OR ‘Tuber’ OR ‘Tussock’ OR ‘Long rhizome’ OR ‘Short rhizome’ OR ‘Stolon’ OR Repr3a ≤1 THEN Persistence VA = U, otherwise 9\n",
    "    9. If Surv1 = ‘Half’ OR Surv3 = ‘Half’ OR Surv4 = ‘Epicormic’ OR ‘Basal’ THEN Persistence VA = W, otherwise Persistence VA = V\n"
   ]
  },
  {
   "cell_type": "code",
   "execution_count": 35,
   "id": "8dec2111-4938-4798-bc0e-c5dd041a46ad",
   "metadata": {},
   "outputs": [
    {
     "name": "stdout",
     "output_type": "stream",
     "text": [
      "Connecting to the PostgreSQL database...\n",
      "1257 rows updated\n"
     ]
    }
   ],
   "source": [
    "print('Connecting to the PostgreSQL database...')\n",
    "conn = psycopg2.connect(**dbparams)\n",
    "cur = conn.cursor()\n",
    "\n",
    "##cur.execute(\"DROP TABLE va_rule3\")\n",
    "qry=\"\"\"\n",
    "CREATE TEMP TABLE va_rule9 (species,spid,species_code,n_records,surv4,surv1) AS (\n",
    "SELECT species,\"speciesID\",species_code,\n",
    "COUNT(DISTINCT s4.record_id),\n",
    "SUM(\n",
    "  CASE WHEN s4.norm_value IN ('Epicormic','Basal') THEN 1\n",
    "  ELSE 0 END\n",
    "),\n",
    "SUM(\n",
    "  CASE WHEN s1.norm_value IN ('Half') THEN 1\n",
    "  ELSE 0 END\n",
    ")\n",
    "FROM litrev.surv4 s4\n",
    "LEFT JOIN species.caps \n",
    "  ON \"speciesCode_Synonym\"=s4.species_code \n",
    "LEFT JOIN litrev.surv1 as s1 \n",
    "  USING(species,species_code)\n",
    "WHERE species_code IS NOT NULL \n",
    "GROUP BY species,\"speciesID\",species_code\n",
    ");\n",
    "\"\"\"\n",
    "cur.execute(qry)\n",
    "print(\"%s rows updated\" % cur.rowcount)"
   ]
  },
  {
   "cell_type": "code",
   "execution_count": 36,
   "id": "48d7ab1e-ca4e-47f0-8eee-4170fbd3a7d5",
   "metadata": {},
   "outputs": [
    {
     "name": "stdout",
     "output_type": "stream",
     "text": [
      "108 rows updated\n"
     ]
    }
   ],
   "source": [
    "qry=\"\"\"\n",
    "UPDATE vag.va_groups \n",
    "SET persistence='{W}', \n",
    "    rationale_persistence[9]= 'Surv4 = Epicormic OR Basal',\n",
    "    status_persistence='{\"criteria met for one category\"}'\n",
    "WHERE species_code IN (\n",
    "    SELECT spid FROM va_rule9 \n",
    "    WHERE surv4 > 0\n",
    "    )\n",
    "AND rationale_persistence[9]='TO DO';\n",
    "\"\"\"\n",
    "cur.execute(qry)\n",
    "print(\"%s rows updated\" % cur.rowcount)"
   ]
  },
  {
   "cell_type": "code",
   "execution_count": 37,
   "id": "6ec21514-d5eb-41ed-b5a6-c8ee7ff78de7",
   "metadata": {},
   "outputs": [
    {
     "name": "stdout",
     "output_type": "stream",
     "text": [
      "0 rows updated\n"
     ]
    }
   ],
   "source": [
    "qry=\"\"\"\n",
    "UPDATE vag.va_groups \n",
    "SET persistence='{W}', \n",
    "    rationale_persistence[9]= 'Surv1 = Half',\n",
    "    status_persistence='{\"criteria met for one category\"}'\n",
    "WHERE species_code IN (\n",
    "    SELECT spid FROM va_rule9 \n",
    "    WHERE surv1 > 0\n",
    "    )\n",
    "AND rationale_persistence[9]='TO DO';\n",
    "\"\"\"\n",
    "cur.execute(qry)\n",
    "print(\"%s rows updated\" % cur.rowcount)"
   ]
  },
  {
   "cell_type": "code",
   "execution_count": 38,
   "id": "b0e634c1-a7a4-42e8-ba1a-6dc4229c3cf6",
   "metadata": {},
   "outputs": [
    {
     "name": "stdout",
     "output_type": "stream",
     "text": [
      "23 rows updated\n"
     ]
    }
   ],
   "source": [
    "qry=\"\"\"\n",
    "UPDATE vag.va_groups \n",
    "SET persistence='{V}', \n",
    "    rationale_persistence[9]= 'Surv1, Surv4 do not meet criteria',\n",
    "    status_persistence='{\"criteria met for one category\"}'\n",
    "WHERE species_code IN (\n",
    "    SELECT spid FROM va_rule9 \n",
    "    WHERE surv1 = 0 and surv4 = 0\n",
    "    )\n",
    "AND rationale_persistence[9]='TO DO';\n",
    "\"\"\"\n",
    "cur.execute(qry)\n",
    "print(\"%s rows updated\" % cur.rowcount)"
   ]
  },
  {
   "cell_type": "code",
   "execution_count": 39,
   "id": "30828d67-6173-49ff-b7df-36ebbd2adf4b",
   "metadata": {},
   "outputs": [
    {
     "name": "stdout",
     "output_type": "stream",
     "text": [
      "[(None, 9481), (['S', 'Σ', 'G', 'Γ', 'V', 'U', 'C', 'W'], 477), (['Δ'], 240), (['U'], 171), (['V'], 23), (['D'], 436), (['C'], 227), (['U', 'V', 'W'], 1446), (['Γ'], 52), (['W'], 108), (['D', 'Δ'], 59), (['Σ'], 95), (['G', 'S'], 2917)]\n",
      "Database connection closed.\n"
     ]
    }
   ],
   "source": [
    "qry = \"\"\"\n",
    "SELECT persistence, count(*)\n",
    "FROM vag.va_groups\n",
    "GROUP BY persistence;\n",
    "\"\"\"\n",
    "cur.execute(qry)\n",
    "\n",
    "res=cur.fetchall()\n",
    "\n",
    "print(res)\n",
    "cur.close()\n",
    "\n",
    "if conn is not None:\n",
    "    conn.commit()\n",
    "    conn.close()\n",
    "    print('Database connection closed.')     \n"
   ]
  },
  {
   "cell_type": "markdown",
   "id": "e410ccc5-1544-4a37-883a-8d22c4b42c5e",
   "metadata": {},
   "source": [
    "# Test of pandas dataframe for summarizing information"
   ]
  },
  {
   "cell_type": "code",
   "execution_count": 40,
   "id": "c34a2311-fbb1-4dcf-a143-186966d1dc3d",
   "metadata": {},
   "outputs": [
    {
     "name": "stdout",
     "output_type": "stream",
     "text": [
      "Connecting to the PostgreSQL database...\n",
      "[('C', 'I', 74), ('C', 'R', 15), ('C', 'T', 35), ('C', None, 580), ('D', 'I', 52), ('D', 'R', 4), ('D', 'T', 25), ('D', None, 414), ('G', 'I', 300), ('G', 'I/T', 2), ('G', 'R', 1), ('G', 'T', 97), ('G', None, 2994), ('S', 'T', 24), ('S', None, 3370), ('U', 'I', 29), ('U', 'I/T', 1), ('U', 'R', 3), ('U', 'T', 34), ('U', None, 2027), ('V', 'I', 8), ('V', 'T', 1), ('V', None, 1937), ('W', 'I', 14), ('W', 'T', 25), ('W', None, 1992), ('Γ', 'I', 21), ('Γ', 'T', 11), ('Γ', None, 497), ('Δ', 'I', 11), ('Δ', 'R', 2), ('Δ', 'T', 5), ('Δ', None, 281), ('Σ', 'I', 28), ('Σ', 'T', 5), ('Σ', None, 539), (None, 'I', 97), (None, 'R', 9), (None, 'T', 56)]\n",
      "Database connection closed.\n"
     ]
    }
   ],
   "source": [
    "print('Connecting to the PostgreSQL database...')\n",
    "conn = psycopg2.connect(**dbparams)\n",
    "cur = conn.cursor()\n",
    "\n",
    "qry = \"select unnest(persistence) p, unnest(establishment) as e, count(distinct species_code) from vag.va_groups group by p, e ORDER BY p,e\"\n",
    "cur.execute(qry)\n",
    "res=cur.fetchall()\n",
    "\n",
    "print(res)\n",
    "cur.close()\n",
    "\n",
    "if conn is not None:\n",
    "    conn.close()\n",
    "    print('Database connection closed.')     \n"
   ]
  },
  {
   "cell_type": "code",
   "execution_count": 41,
   "id": "d5148ebb-4334-4a0d-b363-09650b767fcd",
   "metadata": {},
   "outputs": [],
   "source": [
    "from pandas import DataFrame\n",
    "df = DataFrame(res)\n",
    "df=df.rename(columns={0:\"Persistence\",1:\"Establishment\",2:\"Records\"})\n",
    "df['Records'] = df['Records'].astype(int)\n",
    "tbl=df.pivot(index='Persistence', columns='Establishment', values='Records')\n",
    "tbl.fillna(0,inplace=True)"
   ]
  },
  {
   "cell_type": "code",
   "execution_count": 42,
   "id": "85fd269f-4e12-4eda-a41e-278a57c82438",
   "metadata": {},
   "outputs": [
    {
     "data": {
      "text/html": [
       "<div>\n",
       "<style scoped>\n",
       "    .dataframe tbody tr th:only-of-type {\n",
       "        vertical-align: middle;\n",
       "    }\n",
       "\n",
       "    .dataframe tbody tr th {\n",
       "        vertical-align: top;\n",
       "    }\n",
       "\n",
       "    .dataframe thead th {\n",
       "        text-align: right;\n",
       "    }\n",
       "</style>\n",
       "<table border=\"1\" class=\"dataframe\">\n",
       "  <thead>\n",
       "    <tr style=\"text-align: right;\">\n",
       "      <th>Establishment</th>\n",
       "      <th>NaN</th>\n",
       "      <th>I</th>\n",
       "      <th>I/T</th>\n",
       "      <th>R</th>\n",
       "      <th>T</th>\n",
       "    </tr>\n",
       "    <tr>\n",
       "      <th>Persistence</th>\n",
       "      <th></th>\n",
       "      <th></th>\n",
       "      <th></th>\n",
       "      <th></th>\n",
       "      <th></th>\n",
       "    </tr>\n",
       "  </thead>\n",
       "  <tbody>\n",
       "    <tr>\n",
       "      <th>NaN</th>\n",
       "      <td>0</td>\n",
       "      <td>97</td>\n",
       "      <td>0</td>\n",
       "      <td>9</td>\n",
       "      <td>56</td>\n",
       "    </tr>\n",
       "    <tr>\n",
       "      <th>C</th>\n",
       "      <td>580</td>\n",
       "      <td>74</td>\n",
       "      <td>0</td>\n",
       "      <td>15</td>\n",
       "      <td>35</td>\n",
       "    </tr>\n",
       "    <tr>\n",
       "      <th>D</th>\n",
       "      <td>414</td>\n",
       "      <td>52</td>\n",
       "      <td>0</td>\n",
       "      <td>4</td>\n",
       "      <td>25</td>\n",
       "    </tr>\n",
       "    <tr>\n",
       "      <th>G</th>\n",
       "      <td>2994</td>\n",
       "      <td>300</td>\n",
       "      <td>2</td>\n",
       "      <td>1</td>\n",
       "      <td>97</td>\n",
       "    </tr>\n",
       "    <tr>\n",
       "      <th>S</th>\n",
       "      <td>3370</td>\n",
       "      <td>0</td>\n",
       "      <td>0</td>\n",
       "      <td>0</td>\n",
       "      <td>24</td>\n",
       "    </tr>\n",
       "    <tr>\n",
       "      <th>U</th>\n",
       "      <td>2027</td>\n",
       "      <td>29</td>\n",
       "      <td>1</td>\n",
       "      <td>3</td>\n",
       "      <td>34</td>\n",
       "    </tr>\n",
       "    <tr>\n",
       "      <th>V</th>\n",
       "      <td>1937</td>\n",
       "      <td>8</td>\n",
       "      <td>0</td>\n",
       "      <td>0</td>\n",
       "      <td>1</td>\n",
       "    </tr>\n",
       "    <tr>\n",
       "      <th>W</th>\n",
       "      <td>1992</td>\n",
       "      <td>14</td>\n",
       "      <td>0</td>\n",
       "      <td>0</td>\n",
       "      <td>25</td>\n",
       "    </tr>\n",
       "    <tr>\n",
       "      <th>Γ</th>\n",
       "      <td>497</td>\n",
       "      <td>21</td>\n",
       "      <td>0</td>\n",
       "      <td>0</td>\n",
       "      <td>11</td>\n",
       "    </tr>\n",
       "    <tr>\n",
       "      <th>Δ</th>\n",
       "      <td>281</td>\n",
       "      <td>11</td>\n",
       "      <td>0</td>\n",
       "      <td>2</td>\n",
       "      <td>5</td>\n",
       "    </tr>\n",
       "    <tr>\n",
       "      <th>Σ</th>\n",
       "      <td>539</td>\n",
       "      <td>28</td>\n",
       "      <td>0</td>\n",
       "      <td>0</td>\n",
       "      <td>5</td>\n",
       "    </tr>\n",
       "  </tbody>\n",
       "</table>\n",
       "</div>"
      ],
      "text/plain": [
       "Establishment   NaN    I  I/T   R   T\n",
       "Persistence                          \n",
       "NaN               0   97    0   9  56\n",
       "C               580   74    0  15  35\n",
       "D               414   52    0   4  25\n",
       "G              2994  300    2   1  97\n",
       "S              3370    0    0   0  24\n",
       "U              2027   29    1   3  34\n",
       "V              1937    8    0   0   1\n",
       "W              1992   14    0   0  25\n",
       "Γ               497   21    0   0  11\n",
       "Δ               281   11    0   2   5\n",
       "Σ               539   28    0   0   5"
      ]
     },
     "execution_count": 42,
     "metadata": {},
     "output_type": "execute_result"
    }
   ],
   "source": [
    "tbl.astype(int)"
   ]
  },
  {
   "cell_type": "code",
   "execution_count": 43,
   "id": "d4384a13-08da-4cae-bfda-1d3bbf8f4adc",
   "metadata": {},
   "outputs": [
    {
     "data": {
      "text/plain": [
       "[[0, 97, 0, 9, 56],\n",
       " [580, 74, 0, 15, 35],\n",
       " [414, 52, 0, 4, 25],\n",
       " [2994, 300, 2, 1, 97],\n",
       " [3370, 0, 0, 0, 24],\n",
       " [2027, 29, 1, 3, 34],\n",
       " [1937, 8, 0, 0, 1],\n",
       " [1992, 14, 0, 0, 25],\n",
       " [497, 21, 0, 0, 11],\n",
       " [281, 11, 0, 2, 5],\n",
       " [539, 28, 0, 0, 5]]"
      ]
     },
     "execution_count": 43,
     "metadata": {},
     "output_type": "execute_result"
    }
   ],
   "source": [
    "tbl.astype(int).values.tolist()"
   ]
  },
  {
   "cell_type": "code",
   "execution_count": 44,
   "id": "af0116e4-3668-4b8a-9956-a57f68ae4f59",
   "metadata": {},
   "outputs": [
    {
     "data": {
      "text/plain": [
       "array([nan, 'I', 'I/T', 'R', 'T'], dtype=object)"
      ]
     },
     "execution_count": 44,
     "metadata": {},
     "output_type": "execute_result"
    }
   ],
   "source": [
    "tbl.columns.values"
   ]
  },
  {
   "cell_type": "code",
   "execution_count": 45,
   "id": "98476dff-a3b9-4bc1-a8a2-12ece7d1a937",
   "metadata": {},
   "outputs": [
    {
     "data": {
      "text/plain": [
       "array([nan, 'C', 'D', 'G', 'S', 'U', 'V', 'W', 'Γ', 'Δ', 'Σ'],\n",
       "      dtype=object)"
      ]
     },
     "execution_count": 45,
     "metadata": {},
     "output_type": "execute_result"
    }
   ],
   "source": [
    "tbl.index.values"
   ]
  },
  {
   "cell_type": "code",
   "execution_count": null,
   "id": "79b30cba-185d-4ff9-be7d-f5094ee0b357",
   "metadata": {},
   "outputs": [],
   "source": []
  }
 ],
 "metadata": {
  "kernelspec": {
   "display_name": "Python 3 (ipykernel)",
   "language": "python",
   "name": "python3"
  },
  "language_info": {
   "codemirror_mode": {
    "name": "ipython",
    "version": 3
   },
   "file_extension": ".py",
   "mimetype": "text/x-python",
   "name": "python",
   "nbconvert_exporter": "python",
   "pygments_lexer": "ipython3",
   "version": "3.11.3"
  }
 },
 "nbformat": 4,
 "nbformat_minor": 5
}
