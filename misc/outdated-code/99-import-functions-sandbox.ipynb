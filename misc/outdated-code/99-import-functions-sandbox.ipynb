{
 "cells": [
  {
   "cell_type": "markdown",
   "id": "f60187b3-6dd9-47cb-99be-ca3131bde68d",
   "metadata": {},
   "source": [
    "# Function sandbox\n",
    "\n",
    "This notebook has test for code and functions that have been moved to a separate module."
   ]
  },
  {
   "cell_type": "markdown",
   "id": "108a91f9-5b9d-471b-935f-e43ea3568392",
   "metadata": {
    "tags": []
   },
   "source": [
    "### Batch upsert\n",
    "<div class=\"alert alert-danger\">\n",
    "Use functions from module instead of this version\n",
    "</div>\n",
    "Define a function to batch process insert or update queries:"
   ]
  },
  {
   "cell_type": "raw",
   "id": "8406ba5b-6b02-43f1-8688-38d84522885a",
   "metadata": {
    "tags": []
   },
   "source": [
    "def batch_upsert(params,table,records,keycol,idx, execute=False,useconn=None):\n",
    "    if useconn is None:\n",
    "        # connect to the PostgreSQL server\n",
    "        print('Connecting to the PostgreSQL database...')\n",
    "        conn = psycopg2.connect(**params)\n",
    "    else:\n",
    "        conn = useconn\n",
    "    cur = conn.cursor()\n",
    "    #postgis.register(cur)\n",
    "    updated_rows=0\n",
    "\n",
    "    for record in records:\n",
    "        if len(record.keys())>len(keycol):\n",
    "            if 'geom' in record.keys():\n",
    "                the_geom=record['geom']\n",
    "                record['geom']='GEOMSTR'\n",
    "            if idx is not None:\n",
    "                qrystr = \"INSERT INTO %s (%s) values %s ON CONFLICT ON CONSTRAINT %s DO UPDATE SET %s\"\n",
    "                upd=list()\n",
    "                for k in record.keys():\n",
    "                    if k not in keycol:\n",
    "                        upd.append(\"{col}=EXCLUDED.{col}\".format(col=k))\n",
    "                qry = cur.mogrify(qrystr, (AsIs(table),\n",
    "                                AsIs(','.join(record.keys())),\n",
    "                                tuple(record.values()),\n",
    "                                AsIs(idx),\n",
    "                                AsIs(','.join(upd))\n",
    "                               ))\n",
    "            else:\n",
    "                qrystr = \"INSERT INTO %s (%s) values %s ON CONFLICT DO NOTHING\"\n",
    "                qry = cur.mogrify(qrystr, (AsIs(table),\n",
    "                                AsIs(','.join(record.keys())),\n",
    "                                tuple(record.values())\n",
    "                               ))\n",
    "\n",
    "            if 'geom' in record.keys():\n",
    "                qry=qry.decode('utf-8')\n",
    "                qry=qry.replace(\"'GEOMSTR'\",the_geom)\n",
    "                record['geom']=the_geom\n",
    "\n",
    "            if execute:\n",
    "                cur.execute(qry)\n",
    "                if cur.rowcount > 0:\n",
    "                    updated_rows = updated_rows + cur.rowcount\n",
    "            else:\n",
    "                print(qry)\n",
    "            \n",
    "    conn.commit()        \n",
    "    cur.close()\n",
    "    print(\"%s rows updated\" % (updated_rows))\n",
    "        \n",
    "    if useconn is None and conn is not None:\n",
    "        conn.close()\n",
    "        print('Database connection closed.')\n"
   ]
  },
  {
   "cell_type": "markdown",
   "id": "e1186fe0-54c5-4206-93a8-e3364e9d2ccb",
   "metadata": {},
   "source": [
    "Just a test with random data, use `execute=False` to print the query:"
   ]
  },
  {
   "cell_type": "raw",
   "id": "b1259ee9-1d9d-45b6-958c-dca62a18b59d",
   "metadata": {},
   "source": [
    "record={'site_label':'test','geom':\"ST_GeomFromText('POINT(1 2)', 4326)\"}\n",
    "batch_upsert(params,\"form.field_site\",(record,),keycol=('site_label',), idx='field_site_pkey1',execute=False)"
   ]
  },
  {
   "cell_type": "raw",
   "id": "b8c6d837-72d5-4ce9-bb25-a0f2eb07b490",
   "metadata": {},
   "source": [
    "batch_upsert(params,\"form.field_site\",(record,),keycol=('site_label',), idx=None,execute=False)"
   ]
  },
  {
   "cell_type": "markdown",
   "id": "f0e9ed82-1011-48c4-8073-c02eab5fc028",
   "metadata": {
    "tags": []
   },
   "source": [
    "### Functions to read records in a spreadsheet\n",
    "\n",
    "<div class=\"alert alert-danger\">\n",
    "Use functions from module instead of this version\n",
    "</div>\n",
    "\n",
    "We need a wrapping function to apply a lower level function (`create_record_function`) to all rows in a `worksheet` of the selected `workbook` using a dictionary `col_dictionary`, we add a `**kwargs` to pass additional arguments to the lower level function:\n"
   ]
  },
  {
   "cell_type": "raw",
   "id": "a21d5501-f6cd-4d3b-83f2-b88cc845214b",
   "metadata": {
    "tags": []
   },
   "source": [
    "def import_records_from_workbook(filepath,workbook,worksheet,col_dictionary,create_record_function,**kwargs):\n",
    "    wb = openpyxl.load_workbook(filepath / workbook, data_only=True)\n",
    "    ws=wb[worksheet]\n",
    "    row_count = ws.max_row+1\n",
    "    records=list()\n",
    "    for k in range(2,row_count):\n",
    "        item=ws[k]\n",
    "        record=create_record_function(item,col_dictionary,**kwargs)\n",
    "        if record is not None:\n",
    "            if type(record)==list:\n",
    "                records.extend(record)\n",
    "            elif type(record)==dict:\n",
    "                records.append(record)\n",
    "    return records"
   ]
  },
  {
   "cell_type": "markdown",
   "id": "6d84357b-b585-44b6-808a-51ae2c3e0968",
   "metadata": {
    "tags": []
   },
   "source": [
    "#### Insert into field_site table\n",
    "\n",
    "This function will transform create an insert records from one row of the spreadsheet (`item`) using a column dictionary (`sw`). \n",
    "\n",
    "We need to consider:\n",
    "- geom might be single or multiple points\n",
    "- projection (SRID) is UTM GDA zone 55 or 56, latlong WGS84, or a different format\n",
    "- elevation in m, or NULL \n",
    "- GPS uncertainty in meters, or NULL\n",
    "- text description of GPS location, or NULL"
   ]
  },
  {
   "cell_type": "raw",
   "id": "2e630c9d-befd-48ae-b6fc-dd80a6c86673",
   "metadata": {},
   "source": [
    "def create_field_site_record(item,sw):\n",
    "    site_label = item[sw['site_label']].value\n",
    "    if site_label is not None and site_label != \"Site\":\n",
    "        record={'site_label': site_label}\n",
    "    \n",
    "        for column in ('elevation','location_description', 'gps_uncertainty_m', 'gps_geom_description'):\n",
    "            if column in sw.keys():\n",
    "                val=item[sw[column]].value\n",
    "                if val is not None and val not in ('na','NA'):\n",
    "                    record[column] =  val\n",
    "    \n",
    "        if 'lons' in sw.keys():\n",
    "            for xs in sw['lons']:\n",
    "                xlon = item[xs].value\n",
    "            for ys in sw['lats']:\n",
    "                ylat = item[ys].value\n",
    "            srid = 4326\n",
    "\n",
    "\n",
    "        if 'xs' in sw.keys():\n",
    "            for xs in sw['xs']:\n",
    "                xlon = item[xs].value\n",
    "            for ys in sw['ys']:\n",
    "                ylat = item[ys].value\n",
    "\n",
    "            if 'fixed_utm_zone' in sw.keys():\n",
    "                utm_zone=sw['fixed_utm_zone']\n",
    "            else:\n",
    "                utm_zone=item[sw['utm_zone']].value\n",
    "            if  utm_zone == 56:\n",
    "                srid = 28356\n",
    "            elif utm_zone == 55:\n",
    "                srid = 28355\n",
    "\n",
    "   \n",
    "        if srid is not None and xlon is not None and ylat is not None:\n",
    "            record['geom'] = \"ST_GeomFromText('POINT({xlon} {ylat})', {srid})\".format(xlon=xlon,ylat=ylat,srid=srid)\n",
    "\n",
    "        return(record)\n",
    "\n",
    "\n",
    "    "
   ]
  },
  {
   "cell_type": "markdown",
   "id": "b8732f73-8794-4aac-8b80-38242f817231",
   "metadata": {},
   "source": [
    "Test this function with one workbook:"
   ]
  },
  {
   "cell_type": "code",
   "execution_count": 14,
   "id": "ae577ff4-6b28-4525-9aa1-855ddf08d3aa",
   "metadata": {},
   "outputs": [
    {
     "data": {
      "text/plain": [
       "28"
      ]
     },
     "execution_count": 14,
     "metadata": {},
     "output_type": "execute_result"
    }
   ],
   "source": [
    "worksheet='Site'\n",
    "filename='UNSWFireVegResponse_UplandBasalt_AlexThomsen+DK.xlsx'\n",
    "col_definitions={'site_label':0, 'location_description':10,'utm_zone':11, 'xs':(12,), 'ys':(13,),\n",
    "                 'gps_uncertainty_m':14,\n",
    "                 'gps_geom_description':17,\n",
    "                 'elevation':38, 'visit_date':(2,4,5)}\n",
    "survey=\"UplandBasalt\"\n",
    "\n",
    "records = import_records_from_workbook(inputdir,filename,worksheet,col_definitions,create_field_site_record) \n",
    "\n",
    "len(records)"
   ]
  },
  {
   "cell_type": "markdown",
   "id": "5fde2e01-d877-45e6-8d67-8aa626c94145",
   "metadata": {},
   "source": [
    "Check details from one record:"
   ]
  },
  {
   "cell_type": "code",
   "execution_count": 15,
   "id": "ec9d72ae-ef70-4029-9a78-f3c6902eae2e",
   "metadata": {},
   "outputs": [
    {
     "data": {
      "text/plain": [
       "{'site_label': 'MWL03',\n",
       " 'location_description': 'Wynnes Rock Lookout Road',\n",
       " 'gps_geom_description': '30 m transect for woody plants >2m tall, with two 5x5m subplots at either end (subplots 1 & 2) with 20x5m subplot in middle (subplot 3); non-woody spp and woodplants <2m tall counted in the two 5x5m subplots',\n",
       " 'geom': \"ST_GeomFromText('POINT(256134 6288811)', 28356)\"}"
      ]
     },
     "execution_count": 15,
     "metadata": {},
     "output_type": "execute_result"
    }
   ],
   "source": [
    "records[12]"
   ]
  },
  {
   "cell_type": "markdown",
   "id": "102b2402-db97-4f64-9123-a6c04994e955",
   "metadata": {
    "tags": []
   },
   "source": [
    "#### Insert into field_visits table\n",
    "\n",
    "This function will create an insert record from one row of the spreadsheet (`item`) using a column dictionary (`sw`). \n",
    "\n",
    "We need to consider:\n",
    "- iterate over multiple visit dates in different columns\n",
    "- add survey name to the record\n",
    "- text description of visit, or NULL\n",
    "- observerlist to be split into multiple names (list or array)"
   ]
  },
  {
   "cell_type": "code",
   "execution_count": 16,
   "id": "75ab9050-d34e-4deb-83b8-ec1161f1ac94",
   "metadata": {},
   "outputs": [],
   "source": [
    "def create_field_visit_record(item,sw):\n",
    "    site_label = item[sw['site_label']].value\n",
    "    records = list()\n",
    "    for k in sw['visit_date']:\n",
    "        visit_date = item[k].value\n",
    "        if site_label is not None and site_label != \"Site\":\n",
    "            if isinstance(visit_date, datetime):\n",
    "                record = {'visit_id': site_label, 'visit_date': visit_date}\n",
    "                if 'survey' in sw.keys():\n",
    "                    record['survey_name'] = sw['survey']\n",
    "                for column in ('visit_description', 'mainobserver', 'observerlist','replicate_nr'):\n",
    "                    if column in sw.keys():\n",
    "                        val=item[sw[column]].value\n",
    "                        if val is not None and val not in ('na','NA'):\n",
    "                            if column=='observerlist':\n",
    "                                val=val.split(',')\n",
    "                            record[column] =  val\n",
    "                records.append(record)\n",
    "    return records"
   ]
  },
  {
   "cell_type": "markdown",
   "id": "118d421b-371c-46c2-8481-482e016d7d48",
   "metadata": {},
   "source": [
    "Test of the function with one workbook/worksheet:"
   ]
  },
  {
   "cell_type": "code",
   "execution_count": 17,
   "id": "803299bd-7f18-4ce3-a99d-b862e77f4441",
   "metadata": {},
   "outputs": [
    {
     "data": {
      "text/plain": [
       "42"
      ]
     },
     "execution_count": 17,
     "metadata": {},
     "output_type": "execute_result"
    }
   ],
   "source": [
    "worksheet='Site'\n",
    "filename='UNSWFireVegResponse_UplandBasalt_AlexThomsen+DK.xlsx'\n",
    "col_definitions={'site_label':0, 'location_description':10,'utm_zone':11, 'xs':(12,), 'ys':(13,),\n",
    "                 'gps_uncertainty_m':14,\n",
    "                 'gps_geom_description':17,\n",
    "                 'observerlist':3,\n",
    "                 'elevation':38, 'visit_date':(2,4,5,6,7,8,9),\n",
    "                 'survey':\"UplandBasalt\"}\n",
    "\n",
    "records = import_records_from_workbook(inputdir,filename,worksheet,col_definitions,create_field_visit_record) \n",
    "\n",
    "len(records)"
   ]
  },
  {
   "cell_type": "code",
   "execution_count": 18,
   "id": "38cb2af9-f627-4985-a910-106e7cecc0da",
   "metadata": {
    "tags": []
   },
   "outputs": [
    {
     "data": {
      "text/plain": [
       "{'visit_id': 'MWL04',\n",
       " 'visit_date': datetime.datetime(2000, 12, 14, 0, 0),\n",
       " 'survey_name': 'UplandBasalt',\n",
       " 'observerlist': ['Alexandria Thomsen', ' Stephan Wilson']}"
      ]
     },
     "execution_count": 18,
     "metadata": {},
     "output_type": "execute_result"
    }
   ],
   "source": [
    "records[21]"
   ]
  },
  {
   "cell_type": "markdown",
   "id": "c4a9a441-bc35-4c92-9f87-f3a0f91357c8",
   "metadata": {},
   "source": [
    "### Import records to database\n",
    "I create another function that will call the above functions to process data from a workbook into records that are then imported into the database.\n",
    "\n",
    "This functions was renamed to `import_site_and_visit_records`.\n",
    "\n",
    "This function passes the keyword arguments `**kwargs` to the next functions. This works, because the structure of both the `create_record_function`s is similar and we can define the column correspondence in the same dictionary as we will see in the examples below:\n"
   ]
  },
  {
   "cell_type": "raw",
   "id": "0a2cc76b-15ec-4a5c-983a-a1e6edbd11d5",
   "metadata": {
    "tags": []
   },
   "source": [
    "def run_imports(**kwargs):\n",
    "    records = import_records_from_workbook(**kwargs,create_record_function=create_field_site_record) \n",
    "    # function to create upsert queries with plain substitution to handle geom string\n",
    "    batch_upsert(params,\"form.field_site\",records,keycol=('site_label',), idx='field_site_pkey1',execute=True)\n",
    "    \n",
    "    records = import_records_from_workbook(**kwargs,create_record_function=create_field_visit_record) \n",
    "    # this should work also without problem\n",
    "    batch_upsert(params,\"form.field_visit\",records,keycol=('visit_id','visit_date'), idx='field_visit_pkey2',execute=True)\n",
    "\n",
    "\n"
   ]
  },
  {
   "cell_type": "markdown",
   "id": "d2e65ff8-2f8a-43a3-8121-d10b1b274467",
   "metadata": {
    "tags": []
   },
   "source": [
    "#### Create field sample records\n",
    "\n",
    "This is a lower level function that will create a field sample record from an `item` (a row in the spreadsheet), using the dictionary or \"switch\" in `sw`:"
   ]
  },
  {
   "cell_type": "code",
   "execution_count": 12,
   "id": "6ef25ec8-598d-4462-b605-63fd857fb1ee",
   "metadata": {},
   "outputs": [],
   "source": [
    "def create_field_sample_record(item,sw):\n",
    "    visit_id=item[sw['visit_id']].value\n",
    "    if visit_id is not None and visit_id not in ('Site Number'):\n",
    "        if 'replicate_nr' in sw.keys():\n",
    "            replicatenr = item[sw['replicate_nr']].value\n",
    "        elif 'fixed_replicate_nr' in sw.keys():\n",
    "            replicatenr = sw['fixed_replicate_nr']\n",
    "        else:\n",
    "            replicatenr = None\n",
    "        samplenr = item[sw['sample_nr']].value\n",
    "        record={'visit_id': visit_id, 'replicate_nr': replicatenr, 'sample_nr': samplenr}\n",
    "        if 'date' in sw.keys():\n",
    "            visit_date = item[sw['date']].value \n",
    "            if isinstance(visit_date,datetime):\n",
    "                record['visit_date'] = visit_date.date()\n",
    "\n",
    "        \n",
    "        return(record)"
   ]
  },
  {
   "cell_type": "markdown",
   "id": "9e34cdd6-4ce6-4157-9e01-5840c66e43d1",
   "metadata": {},
   "source": [
    "#### Create quadrat sample records\n",
    "\n",
    "This is a lower level function that will create a quadrat sample record from an `item` (a row in the spreadsheet), using the dictionary or \"switch\" in `sw`. It uses a lookup table to fill information about the visit, and the vocabularies for seedbank and regenerative organ to translate raw values of these variables:"
   ]
  },
  {
   "cell_type": "code",
   "execution_count": 1,
   "id": "0cc5833c-dfb8-494a-a53d-96a28f255813",
   "metadata": {},
   "outputs": [],
   "source": [
    "def create_quadrat_sample_record(item,sw,lookup,valid_seedbank,valid_organ):\n",
    "    species = item[sw['species']].value\n",
    "    spcode = item[sw['spcode']].value\n",
    "    visit_id =  item[sw['visit_id']].value\n",
    "    if species is not None:\n",
    "        record={'visit_id': visit_id, 'sample_nr': item[sw['sample_nr']].value,\n",
    "                'species': species}\n",
    "        comms=list()\n",
    "        if 'workbook' in sw.keys():\n",
    "            comms.append(\"Imported from workbook %s using python script\" % sw['workbook'])\n",
    "        if 'worksheet' in sw.keys():\n",
    "            comms.append(\"Imported from spreadsheet %s\" % sw['worksheet'])\n",
    "    \n",
    "        if 'date' in sw.keys():\n",
    "            visit_date = item[sw['date']].value\n",
    "        else:\n",
    "            visit_date = None\n",
    "            \n",
    "        if 'replicate_nr' in sw.keys():\n",
    "            replicate_nr = item[sw['replicate_nr']].value\n",
    "        elif 'fixed_replicate_nr' in sw.keys():\n",
    "            replicate_nr = sw['fixed_replicate_nr']\n",
    "        \n",
    "        if isinstance(visit_date,datetime):\n",
    "            record['visit_date'] = visit_date.date()\n",
    "        else:    \n",
    "            p=filter(lambda n: n['visit_id'] == visit_id and  n['replicate_nr'] == replicate_nr, lookup)\n",
    "            found=list(p)\n",
    "            if len(found)==1 and 'visit_date' in found[0].keys():\n",
    "                visit_date=found[0]['visit_date']\n",
    "                if isinstance(visit_date,datetime):\n",
    "                    record['visit_date'] = visit_date.date()\n",
    "                    comms.append(\"visit date not provided, matched by replicate nr %s\" % replicate_nr)\n",
    "                else:\n",
    "                    record['visit_date'] = visit_date\n",
    "                    comms.append(\"matched by replicate nr %s, assuming date object\" % replicate_nr)\n",
    "            else:\n",
    "                comms.append(\"neither visit date nor replicate nr was matched ( replicate nr %s ), no date\" % replicate_nr)\n",
    "\n",
    "        if (isinstance(spcode, str) and spcode.isnumeric()) or isinstance(spcode,int):\n",
    "            record['species_code']=spcode\n",
    "         \n",
    "        for k in ('species_notes', 'resprout_organ', 'seedbank', 'adults_unburnt', 'resprouts_live', 'resprouts_died', 'resprouts_kill', 'resprouts_reproductive',\n",
    "                  'recruits_live', 'recruits_reproductive', 'recruits_died','notes'):\n",
    "            if k in sw.keys():\n",
    "                vals=item[sw[k]].value\n",
    "                if vals is not None and vals not in ('na','NA'):\n",
    "                    if k == 'resprout_organ':\n",
    "                        if vals in valid_organ:\n",
    "                            record[k]=vals\n",
    "                        elif vals.capitalize() in valid_organ:\n",
    "                            record[k]=vals.capitalize()\n",
    "                        else:\n",
    "                            comms.append(\"resprout organ written as %s\" % vals)\n",
    "                    elif k == 'seedbank':\n",
    "                        if vals in valid_seedbank:\n",
    "                            record[k]=vals\n",
    "                        elif vals.capitalize() in valid_seedbank:\n",
    "                            record[k]=vals.capitalize()\n",
    "                        else:\n",
    "                            comms.append(\"seedbank written as %s\" % vals)\n",
    "                    elif k == 'notes':\n",
    "                        if isinstance(vals,(int, float, complex)):\n",
    "                            comms.append(\"Comment column included a numeric value of %s\" % vals)\n",
    "                        else:\n",
    "                            comms.append(vals)\n",
    "                    elif k in ('adults_unburnt', 'resprouts_live', 'resprouts_died', 'resprouts_kill', 'resprouts_reproductive',\n",
    "                  'recruits_live', 'recruits_reproductive', 'recruits_died'):\n",
    "                        if isinstance(vals,int):\n",
    "                            record[k]=vals   \n",
    "                        else:\n",
    "                            comms.append(\"%s written as %s\" % (k,vals))\n",
    "                    else:\n",
    "                        record[k]=vals        \n",
    "        \n",
    "        if len(comms)>0:\n",
    "            record[\"comments\"]=comms\n",
    "        \n",
    "        return(record)"
   ]
  },
  {
   "cell_type": "markdown",
   "id": "111e2edd-7e0e-44a7-a1d9-6a2e45773f4b",
   "metadata": {
    "tags": []
   },
   "source": [
    "#### Validate and update site/quadrat records to database\n",
    "\n",
    "This function filters a list of `records` to find unique records and then validate them against the information in table `field_visit` (visit_id, visit_date and replicate_nr). Any valid but missing records are inserted in table `field_visit` and the samples are inserted in table `field_sample`.\n"
   ]
  },
  {
   "cell_type": "code",
   "execution_count": 2,
   "id": "3cafc758-5634-4c58-a4a7-8a4498df3aa2",
   "metadata": {},
   "outputs": [],
   "source": [
    "def validate_and_update_site_records(records, useconn=None):\n",
    "    if useconn is None:\n",
    "        # connect to the PostgreSQL server\n",
    "        print('Connecting to the PostgreSQL database...')\n",
    "        conn = psycopg2.connect(**params)\n",
    "    else:\n",
    "        conn = useconn\n",
    "    conn = psycopg2.connect(**params)\n",
    "\n",
    "    cur = conn.cursor(cursor_factory=DictCursor)\n",
    "    unique_records = list()\n",
    "    sites = list()\n",
    "    for record in records:\n",
    "        if record not in unique_records:\n",
    "            unique_records.append(record)\n",
    "            if record['visit_id'] not in sites:\n",
    "                sites.append(record['visit_id'])\n",
    "    #alternative\n",
    "    #from psycopg2 import sql\n",
    "    #qry= sql.SQL('SELECT DISTINCT visit_id,visit_date,replicate_nr FROM form.field_visit WHERE visit_id IN ({}) ORDER by visit_id, visit_date;').format(\n",
    "    #    sql.SQL(',').join(map(sql.Literal, sites))\n",
    "    #)\n",
    "    qryvisits= cur.mogrify('SELECT DISTINCT visit_id,visit_date,replicate_nr FROM form.field_visit WHERE visit_id IN %s ORDER by visit_id, visit_date;',(tuple(sites),))\n",
    "    cur.execute(qryvisits)\n",
    "    ##print(qry)\n",
    "    visits = cur.fetchall()\n",
    "    updated_rows=0\n",
    "    for record in unique_records:\n",
    "        if any(d['visit_id'] == record['visit_id'] for d in visits):\n",
    "            if 'visit_date' in record.keys():\n",
    "                p=filter(lambda n: n['visit_id'] == record['visit_id'] and  n['visit_date'] == record['visit_date'], visits)\n",
    "                found=list(p)\n",
    "                record['found']=len(found)\n",
    "            elif 'replicate_nr' in record.keys():\n",
    "                p=filter(lambda n: n['visit_id'] == record['visit_id'] and  n['replicate_nr'] == record['replicate_nr'], visits)\n",
    "                found=list(p)\n",
    "                #print(found)\n",
    "                record['found']=len(found)\n",
    "                if (len(found)>0):\n",
    "                    record['visit_date']=found[0][1]\n",
    "   \n",
    "            if 'visit_date' in record.keys():\n",
    "                cur.execute('INSERT INTO form.field_visit(visit_id,visit_date) values %s ON CONFLICT DO NOTHING',\n",
    "                            (tuple([record['visit_id'],record['visit_date']]),))\n",
    "                if cur.rowcount > 0:\n",
    "                    updated_rows = updated_rows + cur.rowcount\n",
    "                cur.execute('INSERT INTO form.field_samples(visit_id,visit_date,sample_nr) values %s ON CONFLICT DO NOTHING',\n",
    "                        (tuple([record['visit_id'],record['visit_date'],record['sample_nr']]),))\n",
    "                if cur.rowcount > 0:\n",
    "                    updated_rows = updated_rows + cur.rowcount        \n",
    "            else:\n",
    "                print(\"record for %s is incomplete\" % record['visit_id'])\n",
    "        else:\n",
    "            print(\"%s not found\" % record['visit_id'])\n",
    "            record['found']=0\n",
    "\n",
    "    print(\"%s rows updated\" % updated_rows)\n",
    "    conn.commit()\n",
    "    \n",
    "    cur.execute(qryvisits)\n",
    "    ##print(qry)\n",
    "    updated_visits = cur.fetchall()\n",
    "\n",
    "    cur.close()\n",
    "\n",
    "    if useconn is None and conn is not None:\n",
    "        conn.close()\n",
    "        print('Database connection closed.')\n",
    "    return(updated_visits)\n",
    "\n"
   ]
  },
  {
   "cell_type": "code",
   "execution_count": null,
   "id": "c5165a63-bda9-4893-9f4f-d39410616965",
   "metadata": {},
   "outputs": [],
   "source": []
  }
 ],
 "metadata": {
  "kernelspec": {
   "display_name": "Python 3 (ipykernel)",
   "language": "python",
   "name": "python3"
  },
  "language_info": {
   "codemirror_mode": {
    "name": "ipython",
    "version": 3
   },
   "file_extension": ".py",
   "mimetype": "text/x-python",
   "name": "python",
   "nbconvert_exporter": "python",
   "pygments_lexer": "ipython3",
   "version": "3.11.3"
  }
 },
 "nbformat": 4,
 "nbformat_minor": 5
}
