{
 "cells": [
  {
   "cell_type": "markdown",
   "id": "2d4d54e3-4db7-41df-b4a2-3c721d31e067",
   "metadata": {},
   "source": [
    "Update survey information:\n",
    "- Survey name\n",
    "- Survey description and \n",
    "- Observers\n"
   ]
  },
  {
   "cell_type": "markdown",
   "id": "84d52eff-903e-4b6f-814a-02ac37926c80",
   "metadata": {
    "tags": []
   },
   "source": [
    "## Set-up\n",
    "Load libraries "
   ]
  },
  {
   "cell_type": "code",
   "execution_count": 1,
   "id": "8c2f2ade-3bf0-4e2a-89aa-07780387f038",
   "metadata": {},
   "outputs": [],
   "source": [
    "import openpyxl\n",
    "from pathlib import Path\n",
    "import os\n",
    "from datetime import datetime\n",
    "from configparser import ConfigParser\n",
    "import psycopg2\n",
    "from psycopg2.extensions import AsIs\n",
    "import pyprojroot"
   ]
  },
  {
   "cell_type": "markdown",
   "id": "52d7341e-e85b-4bd9-90b1-8351c7709695",
   "metadata": {},
   "source": [
    "Load functions from `lib` folder, we will use a function to read db credentials and one for batch insert and updates:"
   ]
  },
  {
   "cell_type": "code",
   "execution_count": 3,
   "id": "6df08d5b-5454-421f-84d5-4e1a52c278a7",
   "metadata": {},
   "outputs": [],
   "source": [
    "from lib.parseparams import read_dbparams"
   ]
  },
  {
   "cell_type": "markdown",
   "id": "5edaa5fa-5214-49f1-b124-d4d913f8c9c3",
   "metadata": {},
   "source": [
    "Define path to workbooks"
   ]
  },
  {
   "cell_type": "code",
   "execution_count": 4,
   "id": "c7abff66-3acf-45ef-a0b0-231c9941dc27",
   "metadata": {},
   "outputs": [],
   "source": [
    "repodir = pyprojroot.find_root(pyprojroot.has_dir(\".git\"))\n",
    "inputdir = repodir / \"data\" / \"input-field-form\""
   ]
  },
  {
   "cell_type": "markdown",
   "id": "b5b50b73-40b0-4a2f-8135-95c507d2ab8b",
   "metadata": {},
   "source": [
    "Database credentials are stored in a database.ini file"
   ]
  },
  {
   "cell_type": "code",
   "execution_count": 5,
   "id": "afa2bc4b-88dc-4354-b29e-b6499a230aab",
   "metadata": {},
   "outputs": [],
   "source": [
    "dbparams = read_dbparams(repodir / 'secrets' / 'database.ini', section='aws-lght-sl')"
   ]
  },
  {
   "cell_type": "code",
   "execution_count": null,
   "id": "47d91a13-25e5-417e-84d3-025dc3a518d5",
   "metadata": {},
   "outputs": [],
   "source": []
  },
  {
   "cell_type": "code",
   "execution_count": 21,
   "id": "e2cee37e-9ddf-401c-89e1-ebced7bcc8a4",
   "metadata": {},
   "outputs": [
    {
     "name": "stdout",
     "output_type": "stream",
     "text": [
      "Connecting to the PostgreSQL database...\n",
      "Database connection closed.\n"
     ]
    }
   ],
   "source": [
    "print('Connecting to the PostgreSQL database...')\n",
    "conn = psycopg2.connect(**dbparams)\n",
    "cur = conn.cursor()\n",
    "\n",
    "qrystr = \"\"\"UPDATE form.surveys SET survey_description=%s WHERE survey_name=%s;\"\"\"\n",
    "\n",
    "qry = cur.mogrify(qrystr, ('Newnes plateau swamps','NEWNES'))\n",
    "cur.execute(qry)\n",
    "qry = cur.mogrify(qrystr, ('Kosciuszko NP Alpine Ash','KNP AlpAsh'))\n",
    "cur.execute(qry)\n",
    "qry = cur.mogrify(qrystr, ('Southern NSW Rainforests','SthnNSWRF'))\n",
    "cur.execute(qry)\n",
    "\n",
    "\n",
    "cur.execute(\"UPDATE form.surveys SET survey_description=survey_name WHERE survey_description is NULL;\")\n",
    "\n",
    "cur.execute(\"SELECT survey_name,survey_description, observers FROM form.surveys;\")\n",
    "surveyinfo = cur.fetchall()\n",
    "\n",
    "\n",
    "cur.execute(\"SELECT userkey,givennames,surname FROM form.observerid;\")\n",
    "observerid = cur.fetchall()\n",
    "\n",
    "cur.close()\n",
    "conn.commit()        \n",
    "if conn is not None:\n",
    "    conn.close()\n",
    "    print('Database connection closed.')"
   ]
  },
  {
   "cell_type": "code",
   "execution_count": 22,
   "id": "7ffc71d2-2752-41d1-8f2b-06f20abb1f3f",
   "metadata": {},
   "outputs": [
    {
     "data": {
      "text/plain": [
       "[(7, 'David', 'Keith'),\n",
       " (9, 'D.', 'Benson'),\n",
       " (10, 'L.', 'Watts,'),\n",
       " (11, 'T.', 'Manson'),\n",
       " (12, 'Jackie', 'Miles'),\n",
       " (13, 'Robert', 'Kooyman'),\n",
       " (8, 'Alexandria', 'Thomsen'),\n",
       " (14, 'Jedda', 'Lemmen')]"
      ]
     },
     "execution_count": 22,
     "metadata": {},
     "output_type": "execute_result"
    }
   ],
   "source": [
    "observerid"
   ]
  },
  {
   "cell_type": "code",
   "execution_count": 23,
   "id": "e4b05aa3-cb9e-49a8-9fd7-4bb9d6a07785",
   "metadata": {},
   "outputs": [
    {
     "data": {
      "text/plain": [
       "[('TO BE CLASSIFIED',\n",
       "  'Placeholder for field visits not yet assigned to a survey',\n",
       "  'JR Ferrer-Paris'),\n",
       " ('UplandBasalt', 'Upland Basalt', None),\n",
       " ('Rainforests NSW-Qld', 'Rainforests NE NSW & SE Qld', None),\n",
       " ('NEWNES', 'Newnes plateau swamps', None),\n",
       " ('KNP AlpAsh', 'Kosciuszko NP Alpine Ash', None),\n",
       " ('SthnNSWRF', 'Southern NSW Rainforests', None),\n",
       " ('Alpine Bogs', 'Alpine Bogs', None),\n",
       " ('Robertson RF', 'Robertson RF', None),\n",
       " ('Yatteyattah', 'Yatteyattah', None),\n",
       " ('Mallee Woodlands', 'Mallee Woodlands', None)]"
      ]
     },
     "execution_count": 23,
     "metadata": {},
     "output_type": "execute_result"
    }
   ],
   "source": [
    "surveyinfo"
   ]
  },
  {
   "cell_type": "code",
   "execution_count": null,
   "id": "2bdf7a26-c079-4139-b707-82909d4042f1",
   "metadata": {},
   "outputs": [],
   "source": []
  }
 ],
 "metadata": {
  "kernelspec": {
   "display_name": "Python 3 (ipykernel)",
   "language": "python",
   "name": "python3"
  },
  "language_info": {
   "codemirror_mode": {
    "name": "ipython",
    "version": 3
   },
   "file_extension": ".py",
   "mimetype": "text/x-python",
   "name": "python",
   "nbconvert_exporter": "python",
   "pygments_lexer": "ipython3",
   "version": "3.11.3"
  }
 },
 "nbformat": 4,
 "nbformat_minor": 5
}
