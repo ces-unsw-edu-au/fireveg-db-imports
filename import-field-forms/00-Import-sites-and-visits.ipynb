{
 "cells": [
  {
   "cell_type": "markdown",
   "id": "815a2392-ade6-4043-a754-c5fc8b43b017",
   "metadata": {},
   "source": [
    "# Read files summarising field work and update database\n",
    "These Excel workbooks were imported on February 2022.\n",
    "\n",
    "The scripts documented here have been created to:\n",
    "\n",
    "- Read data from spreadsheets with field-work data\n",
    "- Create records for data import into the database\n",
    "- Insert or update records in the database\n",
    "\n",
    "This jupyter notebook deals with the first step, which is importing field site and visit information. A second notebook deals with importing information from `quadrats`."
   ]
  },
  {
   "cell_type": "markdown",
   "id": "a8621b6e-0637-46bc-be68-050007b2a7c3",
   "metadata": {
    "tags": []
   },
   "source": [
    "## Set-up\n",
    "Load libraries "
   ]
  },
  {
   "cell_type": "code",
   "execution_count": 1,
   "id": "47eadb90-b36c-4ae6-a783-7b8e9c4f6218",
   "metadata": {},
   "outputs": [],
   "source": [
    "import openpyxl\n",
    "from pathlib import Path\n",
    "import os\n",
    "from datetime import datetime\n",
    "from configparser import ConfigParser\n",
    "import psycopg2\n",
    "from psycopg2.extensions import AsIs\n",
    "import pyprojroot"
   ]
  },
  {
   "cell_type": "markdown",
   "id": "29651753-a740-4691-905e-7edc9a53c6e8",
   "metadata": {},
   "source": [
    "Load functions from `lib` folder, we will use a function to read db credentials and one for batch insert and updates:"
   ]
  },
  {
   "cell_type": "code",
   "execution_count": 2,
   "id": "358db3f6-1b7d-419e-9b16-541d5d4696ef",
   "metadata": {},
   "outputs": [],
   "source": [
    "from lib.parseparams import read_dbparams\n",
    "from lib.firevegdb import batch_upsert\n",
    "import lib.fireveg as fv"
   ]
  },
  {
   "cell_type": "markdown",
   "id": "a254bbc3-49d4-40cf-8e99-a2323f702b49",
   "metadata": {},
   "source": [
    "Define path to workbooks"
   ]
  },
  {
   "cell_type": "code",
   "execution_count": 3,
   "id": "685f98ff-9f63-413d-b6be-d77398ca4c5c",
   "metadata": {},
   "outputs": [],
   "source": [
    "repodir = pyprojroot.find_root(pyprojroot.has_dir(\".git\"))\n",
    "inputdir = repodir / \"data\" / \"input-field-form\""
   ]
  },
  {
   "cell_type": "markdown",
   "id": "f56bab42-3c7e-4100-ba00-1d75897daa11",
   "metadata": {},
   "source": [
    "Database credentials are stored in a database.ini file"
   ]
  },
  {
   "cell_type": "code",
   "execution_count": 4,
   "id": "1f6dd8a2-ab5f-4677-b9d3-abdc59cd16c8",
   "metadata": {},
   "outputs": [],
   "source": [
    "dbparams = read_dbparams(repodir / 'secrets' / 'database.ini', section='aws-lght-sl')"
   ]
  },
  {
   "cell_type": "markdown",
   "id": "bbd85ca5-2c2a-4990-87a5-c0003223e611",
   "metadata": {
    "tags": []
   },
   "source": [
    "## Database query for observer ids\n",
    "Check list of observer ids:"
   ]
  },
  {
   "cell_type": "code",
   "execution_count": 5,
   "id": "7d2f31cc-bf34-4b7b-b108-815fba90b229",
   "metadata": {},
   "outputs": [
    {
     "name": "stdout",
     "output_type": "stream",
     "text": [
      "Connecting to the PostgreSQL database...\n",
      "Database connection closed.\n"
     ]
    }
   ],
   "source": [
    "# connect to the PostgreSQL server\n",
    "print('Connecting to the PostgreSQL database...')\n",
    "conn = psycopg2.connect(**dbparams)\n",
    "cur = conn.cursor()\n",
    "\n",
    "cur.execute(\"SELECT userkey,givennames,surname FROM form.observerid;\")\n",
    "observerid = cur.fetchall()\n",
    "cur.close()\n",
    "        \n",
    "if conn is not None:\n",
    "    conn.close()\n",
    "    print('Database connection closed.')"
   ]
  },
  {
   "cell_type": "code",
   "execution_count": 6,
   "id": "f3344f30-f840-4771-bb9c-6ae7c389d9ec",
   "metadata": {},
   "outputs": [
    {
     "data": {
      "text/plain": [
       "[(7, 'David', 'Keith'),\n",
       " (9, 'D.', 'Benson'),\n",
       " (10, 'L.', 'Watts,'),\n",
       " (11, 'T.', 'Manson'),\n",
       " (12, 'Jackie', 'Miles'),\n",
       " (13, 'Robert', 'Kooyman'),\n",
       " (8, 'Alexandria', 'Thomsen'),\n",
       " (14, 'Jedda', 'Lemmen')]"
      ]
     },
     "execution_count": 6,
     "metadata": {},
     "output_type": "execute_result"
    }
   ],
   "source": [
    "observerid"
   ]
  },
  {
   "cell_type": "markdown",
   "id": "bd6ffc73-f2c2-4ce1-b137-ff58a54d44a1",
   "metadata": {
    "tags": []
   },
   "source": [
    "## Functions to read records from workbooks\n",
    "Each spreadsheet has a slightly different structure, so these scripts have to be adapted for each case.\n",
    "\n",
    "We use functions from module `fireveg` to read the data and create records, and functions from module `firevegdb` to execute the SQL insert or update query.\n",
    "\n",
    "### List of workbooks/spreadsheets in directory"
   ]
  },
  {
   "cell_type": "code",
   "execution_count": 7,
   "id": "ef766fae-b8d3-440a-abc5-c4db547f7b7e",
   "metadata": {},
   "outputs": [
    {
     "data": {
      "text/plain": [
       "['PlantFireTraitData_2011-2018_Import.xlsx',\n",
       " 'SthnNSWRF_data_bionet2.xlsx',\n",
       " 'UNSW_VegFireResponse_DataEntry_Yatteyattah all +DK +Milton.xlsx',\n",
       " 'UNSWFireVegResponse_UplandBasalt_AlexThomsen+DK.xlsx',\n",
       " 'UNSW_VegFireResponse_KNP AlpAsh_firehistupdate.xlsx',\n",
       " 'RobertsonRF_data_bionet2.xlsx',\n",
       " 'UNSW_VegFireResponse_RMK_reformat_Sep2021a.xlsx',\n",
       " 'UNSW_VegFireResponse_AlpineBogs_reformat_Sep2021.xlsx',\n",
       " 'UNSW_VegFireResponse_KNP AlpAsh.xlsx',\n",
       " 'Fire response quadrat survey Newnes Nov2020_DK_revised IDs+AllNovData.xlsm',\n",
       " 'UNSW_VegFireResponse_DataEntry_Yatteyattah all +DK +Milton_revisedfields_Mar2022.xlsx']"
      ]
     },
     "execution_count": 7,
     "metadata": {},
     "output_type": "execute_result"
    }
   ],
   "source": [
    "os.listdir(inputdir)"
   ]
  },
  {
   "cell_type": "code",
   "execution_count": 8,
   "id": "7e4f052a-4351-40bc-ab3c-920431d42c7e",
   "metadata": {},
   "outputs": [],
   "source": [
    "valid_files = ['PlantFireTraitData_2011-2018_Import.xlsx',\n",
    "               'SthnNSWRF_data_bionet2.xlsx',\n",
    "               'UNSWFireVegResponse_UplandBasalt_AlexThomsen+DK.xlsx',\n",
    "               'UNSW_VegFireResponse_RMK_reformat_Sep2021a.xlsx',\n",
    "               'UNSW_VegFireResponse_DataEntry_Yatteyattah all +DK +Milton_revisedfields_Mar2022.xlsx',\n",
    "               'UNSW_VegFireResponse_KNP AlpAsh_firehistupdate.xlsx',\n",
    "               'UNSW_VegFireResponse_AlpineBogs_reformat_Sep2021.xlsx',\n",
    "               'RobertsonRF_data_bionet2.xlsx',\n",
    "               'Fire response quadrat survey Newnes Nov2020_DK_revised IDs+AllNovData.xlsm']"
   ]
  },
  {
   "cell_type": "markdown",
   "id": "91fa2020-e8d8-4817-9498-f0155118ca1c",
   "metadata": {},
   "source": [
    "Here we create an index of worksheets and column headers for each file"
   ]
  },
  {
   "cell_type": "code",
   "execution_count": 9,
   "id": "7aba9482-c09f-4aff-be77-6cfd9ff08cf3",
   "metadata": {},
   "outputs": [],
   "source": [
    "wbindex=dict()\n",
    "for workbook_name in valid_files:\n",
    "    inputfile=inputdir / workbook_name\n",
    "    # using data_only=True to get the calculated cell values\n",
    "    wb = openpyxl.load_workbook(inputfile,data_only=True)\n",
    "    wbindex[workbook_name]=dict()\n",
    "    for ws in wb.worksheets:\n",
    "        wbindex[workbook_name][ws._WorkbookChild__title]=list()\n",
    "        for k in range(1,ws.max_column):\n",
    "            wbindex[workbook_name][ws._WorkbookChild__title].append(ws.cell(row=1,column=k).value)\n",
    "        "
   ]
  },
  {
   "cell_type": "markdown",
   "id": "eca784cc-2f39-4bc2-876d-9d2aa500e13c",
   "metadata": {
    "tags": []
   },
   "source": [
    "## Processing data from all workbooks\n",
    "\n",
    "In the following section, I proceed to iterate through all the workbooks, using functions defined in the `fireveg` and `firevegdb` modules."
   ]
  },
  {
   "cell_type": "markdown",
   "id": "d2a7da8a-8f31-45bc-8f6c-fbc7e5caee8e",
   "metadata": {},
   "source": [
    "Here is the list of available workbooks (again):"
   ]
  },
  {
   "cell_type": "code",
   "execution_count": 10,
   "id": "b0efd041-2cf8-4e73-aa31-c29962629fef",
   "metadata": {
    "tags": []
   },
   "outputs": [
    {
     "data": {
      "text/plain": [
       "dict_keys(['PlantFireTraitData_2011-2018_Import.xlsx', 'SthnNSWRF_data_bionet2.xlsx', 'UNSWFireVegResponse_UplandBasalt_AlexThomsen+DK.xlsx', 'UNSW_VegFireResponse_RMK_reformat_Sep2021a.xlsx', 'UNSW_VegFireResponse_DataEntry_Yatteyattah all +DK +Milton_revisedfields_Mar2022.xlsx', 'UNSW_VegFireResponse_KNP AlpAsh_firehistupdate.xlsx', 'UNSW_VegFireResponse_AlpineBogs_reformat_Sep2021.xlsx', 'RobertsonRF_data_bionet2.xlsx', 'Fire response quadrat survey Newnes Nov2020_DK_revised IDs+AllNovData.xlsm'])"
      ]
     },
     "execution_count": 10,
     "metadata": {},
     "output_type": "execute_result"
    }
   ],
   "source": [
    "wbindex.keys()"
   ]
  },
  {
   "cell_type": "markdown",
   "id": "0e573a44-4fd5-4145-ae6a-7f29929ae64f",
   "metadata": {},
   "source": [
    "If we select one workbook, we can retrieve a list of column names that we will use in our column definitions for each function:"
   ]
  },
  {
   "cell_type": "code",
   "execution_count": 11,
   "id": "fd3f6541-5247-4231-b693-a0477ff376af",
   "metadata": {
    "tags": []
   },
   "outputs": [
    {
     "name": "stdout",
     "output_type": "stream",
     "text": [
      "0 :: Site\n",
      "1 :: Replicate\n",
      "2 :: Observers (comma sep if >1)\n",
      "3 :: Date of samping\n",
      "4 :: Survey Date Replicate 1\n",
      "5 :: Survey Date Replicate 2\n",
      "6 :: Survey Date Replicate 3\n",
      "7 :: Survey Date Replicate 4\n",
      "8 :: Survey Date Replicate 5\n",
      "9 :: Survey Date Replicate 6\n",
      "10 :: Location text\n",
      "11 :: Zone\n",
      "12 :: Easting\n",
      "13 :: Northing\n",
      "14 :: GPS Precision (m)\n",
      "15 :: Latitude\n",
      "16 :: Longitude\n",
      "17 :: Layout & GPS marker position\n",
      "18 :: 2nd ref point Zone\n",
      "19 :: 2nd ref point Easting\n",
      "20 :: 2nd ref point Northing\n",
      "21 :: 2nd ref point Position of GPS\n",
      "22 :: 3rd ref point Zone\n",
      "23 :: 3rd ref point Easting\n",
      "24 :: 3rd ref point Northing\n",
      "25 :: 3rd ref point Position of GPS\n",
      "26 :: 4th ref point Zone\n",
      "27 :: 4th ref point Easting\n",
      "28 :: 4th ref point Northing\n",
      "29 :: 4th ref point Position of GPS\n",
      "30 :: Total sample area (sq.m)\n",
      "31 :: Subquadrat area (sq.m)\n",
      "32 :: # subquadrats\n",
      "33 :: Substrate\n",
      "34 :: Notes\n",
      "35 :: Slope\n",
      "36 :: Aspect\n",
      "37 :: Elevation\n",
      "38 :: Disturbance notes\n",
      "39 :: Cwth TEC\n",
      "40 :: NSW TEC\n",
      "41 :: variant\n",
      "42 :: Vegetation formation\n"
     ]
    }
   ],
   "source": [
    "cols=wbindex['UNSW_VegFireResponse_DataEntry_Yatteyattah all +DK +Milton_revisedfields_Mar2022.xlsx']['Site']\n",
    "for k in range(1,len(cols)):\n",
    "    print(\"%s :: %s\" % (k-1,cols[k-1]))\n",
    "               "
   ]
  },
  {
   "cell_type": "markdown",
   "id": "328d899d-951f-40c3-a8fd-60ceb21e890d",
   "metadata": {
    "tags": []
   },
   "source": [
    "### Import records to database\n",
    "I create here one function that will call functions from the modules to process data from a workbook into records that are then imported into the database.\n",
    "\n",
    "This functions was renamed to `import_site_and_visit_records`.\n",
    "\n",
    "This function passes the keyword arguments `**kwargs` to the next functions. This works, because the structure of both the `create_record_function`s is similar and we can define the column correspondence in the same dictionary as we will see in the examples below:\n"
   ]
  },
  {
   "cell_type": "code",
   "execution_count": 12,
   "id": "cf99be60-9817-410d-9cdd-d5a95ce08eee",
   "metadata": {},
   "outputs": [],
   "source": [
    "def import_site_and_visit_records(**kwargs):\n",
    "    records = fv.import_records_from_workbook(**kwargs,create_record_function=fv.create_field_site_record) \n",
    "    # function to create upsert queries with plain substitution to handle geom string\n",
    "    batch_upsert(dbparams,\"form.field_site\",records,keycol=('site_label',), idx='field_site_pkey1',execute=True)\n",
    "    \n",
    "    records = fv.import_records_from_workbook(**kwargs,create_record_function=fv.create_field_visit_record) \n",
    "    # this should work also without problem\n",
    "    batch_upsert(dbparams,\"form.field_visit\",records,keycol=('visit_id','visit_date'), idx='field_visit_pkey2',execute=True)"
   ]
  },
  {
   "cell_type": "markdown",
   "id": "9c00f064-fe4f-4a02-923d-79b960411ec2",
   "metadata": {},
   "source": [
    "This helps us to determine which column numbers corresponds to the field that we want to extract from the spreadsheet. \n",
    "Check the number of rows updated in each case, and compare the changes in the database."
   ]
  },
  {
   "cell_type": "markdown",
   "id": "ddd4d031-6fdf-4b9d-9157-35171c32868f",
   "metadata": {
    "tags": []
   },
   "source": [
    "### Upland / Basalt\n",
    "\n",
    "- 28 sites:\n",
    "    - all with location description and coordinates, \n",
    "    - elevation data for all but three.\n",
    "- 42 visits:\n",
    "    - all visited by Alexandria Thomsen\n",
    "    - most recent visit in 2021\n",
    "    - older visits including values from the 90's ???"
   ]
  },
  {
   "cell_type": "code",
   "execution_count": 13,
   "id": "8e41c8e5-338b-4b48-9a50-70b421044f47",
   "metadata": {},
   "outputs": [
    {
     "name": "stdout",
     "output_type": "stream",
     "text": [
      "Connecting to the PostgreSQL database...\n",
      "28 rows updated\n",
      "Database connection closed.\n",
      "Connecting to the PostgreSQL database...\n",
      "42 rows updated\n",
      "Database connection closed.\n"
     ]
    }
   ],
   "source": [
    "import_site_and_visit_records(filepath=inputdir,\n",
    "            workbook='UNSWFireVegResponse_UplandBasalt_AlexThomsen+DK.xlsx',\n",
    "            worksheet='Site',\n",
    "            col_dictionary={'site_label':0, 'location_description':10,'utm_zone':11, 'xs':(12,), 'ys':(13,),\n",
    "                 'gps_uncertainty_m':14,\n",
    "                 'gps_geom_description':17,\n",
    "                 'observerlist':3,'replicate_nr':1,\n",
    "                 'elevation':38, 'visit_date':(2,4,5,6,7,8,9),\n",
    "                 'survey':\"UplandBasalt\"})"
   ]
  },
  {
   "cell_type": "markdown",
   "id": "44144629-ddb9-41de-aa75-21006e0ec2ee",
   "metadata": {
    "tags": []
   },
   "source": [
    "### Rainforest in NE NSW / SE Qld\n",
    "\n",
    "- 17 sites:\n",
    "    - all with location description and coordinates, \n",
    "    - all but one with elevation data\n",
    "- 17 visits: \n",
    "    - each site visited once between September 2020 and August 2021\n",
    "    - main observer is Robert Kooyman, except one by T. Manson\n"
   ]
  },
  {
   "cell_type": "code",
   "execution_count": 14,
   "id": "e826d6b5-8954-4b6c-8537-c877a77f24b0",
   "metadata": {
    "tags": []
   },
   "outputs": [
    {
     "name": "stdout",
     "output_type": "stream",
     "text": [
      "Connecting to the PostgreSQL database...\n",
      "17 rows updated\n",
      "Database connection closed.\n",
      "Connecting to the PostgreSQL database...\n",
      "17 rows updated\n",
      "Database connection closed.\n"
     ]
    }
   ],
   "source": [
    "import_site_and_visit_records(filepath=inputdir,\n",
    "            workbook='UNSW_VegFireResponse_RMK_reformat_Sep2021a.xlsx',\n",
    "            worksheet='Site',\n",
    "            col_dictionary={'site_label':0,'location_description':10, \n",
    "                            'utm_zone':11,'xs':(12,), 'ys':(13,), 'elevation':37, \n",
    "                            'gps_uncertainty_m':14, 'gps_geom_description':17,\n",
    "                            'visit_date':range(3,9), 'replicate_nr':1,'observerlist':2,'survey':\"Rainforests NSW-Qld\"})"
   ]
  },
  {
   "cell_type": "markdown",
   "id": "17a656c2-4f86-41c5-be32-35b23475a6ec",
   "metadata": {
    "jp-MarkdownHeadingCollapsed": true,
    "tags": []
   },
   "source": [
    "### Mallee data (prepared May 2023)\n",
    "\n",
    "- 56 sites/visits in the period 2011 to 2018\n",
    "- This was prepared in May 2023, we keep this in a separate notebook.\n"
   ]
  },
  {
   "cell_type": "markdown",
   "id": "04de2f3c-2dae-4d63-a78e-28b05b031075",
   "metadata": {
    "tags": []
   },
   "source": [
    "### Southern NSW rain forest\n",
    "\n",
    "- 5 sites, all with location description and coordinates, elevation data missing for four sites\n",
    "- each site visited once, November/December 2021, main observer is David Keith"
   ]
  },
  {
   "cell_type": "code",
   "execution_count": 24,
   "id": "baba4530-9b10-46d3-8896-8430e4ba9d41",
   "metadata": {
    "tags": []
   },
   "outputs": [
    {
     "name": "stdout",
     "output_type": "stream",
     "text": [
      "Connecting to the PostgreSQL database...\n",
      "5 rows updated\n",
      "Database connection closed.\n",
      "Connecting to the PostgreSQL database...\n",
      "5 rows updated\n",
      "Database connection closed.\n"
     ]
    }
   ],
   "source": [
    "import_site_and_visit_records(filepath=inputdir,\n",
    "            workbook='SthnNSWRF_data_bionet2.xlsx',\n",
    "            worksheet='Site',\n",
    "            col_dictionary={'site_label':0,'location_description':10, 'visit_date':range(3,9), \n",
    "                'lons':(16,), 'lats':(15,), 'elevation':37,\n",
    "                 'gps_uncertainty_m':14,\n",
    "                 'gps_geom_description':17,\n",
    "                 'observerlist':2,'replicate_nr':1,\n",
    "                 'survey':\"SthnNSWRF\"})"
   ]
  },
  {
   "cell_type": "markdown",
   "id": "a63233df-d5af-4b64-9cfc-747585c03bf7",
   "metadata": {
    "tags": []
   },
   "source": [
    "### KNP Alpine Ash\n",
    "- Edited Site sheet to remove two sites from 'Robertson RF' and fix one entry in date column\n",
    "- 8 sites  \n",
    "    - all with coordinates and elevation\n",
    "- All sites visited once\n",
    "    - all sites visited in April 2021\n",
    "    - Main observer is Jackie Miles"
   ]
  },
  {
   "cell_type": "code",
   "execution_count": 27,
   "id": "f16946c9-bb60-423e-bc25-f59cc55f8f1e",
   "metadata": {
    "tags": []
   },
   "outputs": [
    {
     "name": "stdout",
     "output_type": "stream",
     "text": [
      "Connecting to the PostgreSQL database...\n",
      "8 rows updated\n",
      "Database connection closed.\n",
      "Connecting to the PostgreSQL database...\n",
      "8 rows updated\n",
      "Database connection closed.\n"
     ]
    }
   ],
   "source": [
    "coldict={'site_label':0,'location_description':10, 'visit_date':range(3,9), \n",
    "               'utm_zone':11, 'xs':(12,), 'ys':(13,), 'elevation':37,\n",
    "                 'gps_uncertainty_m':14,\n",
    "                 'gps_geom_description':17,\n",
    "                 'observerlist':2,'replicate_nr':1,\n",
    "                 'survey':\"KNP AlpAsh\"}\n",
    "\n",
    "import_site_and_visit_records(filepath=inputdir,\n",
    "            workbook='UNSW_VegFireResponse_KNP AlpAsh_firehistupdate.xlsx',\n",
    "            worksheet='Site',\n",
    "            col_dictionary=coldict)\n",
    "\n"
   ]
  },
  {
   "cell_type": "code",
   "execution_count": 28,
   "id": "3af5defb-e96a-48b1-b4bd-bb58ce7d9c6a",
   "metadata": {},
   "outputs": [
    {
     "name": "stdout",
     "output_type": "stream",
     "text": [
      "Site : Date of samping\n",
      "AlpAsh_68 : 2021-04-12 00:00:00\n",
      "AlpAsh_19 : 2021-04-13 00:00:00\n",
      "AlpAsh_26 : 2021-04-14 00:00:00\n",
      "AlpAsh_70 : 2021-04-15 00:00:00\n",
      "AlpAsh_25 : 2021-04-15 00:00:00\n",
      "AlpAsh_18 : 2021-04-15 00:00:00\n",
      "AlpAsh_40 : 2021-04-16 00:00:00\n",
      "AlpAsh_69 : 2021-04-16 00:00:00\n"
     ]
    }
   ],
   "source": [
    "wb = openpyxl.load_workbook(inputdir / 'UNSW_VegFireResponse_KNP AlpAsh_firehistupdate.xlsx', data_only=True)\n",
    "ws=wb[ 'Site']\n",
    "for row in ws:\n",
    "    print(\"%s : %s\" % (row[0].value, row[3].value))"
   ]
  },
  {
   "cell_type": "markdown",
   "id": "6a702baf-9f9f-4045-81ba-c06e63dc588e",
   "metadata": {
    "tags": []
   },
   "source": [
    "### Alpine bogs\n",
    "\n",
    "- Six sites, all with full information (description, elevation, coords)\n",
    "- All sites visited once in 2021:\n",
    "    - two sites by Jackie Miles in March\n",
    "    - four sites by David Keith between October - December"
   ]
  },
  {
   "cell_type": "code",
   "execution_count": 29,
   "id": "bb3d92fe-9ce2-48d9-bb90-29382b4e8dfb",
   "metadata": {
    "tags": []
   },
   "outputs": [
    {
     "name": "stdout",
     "output_type": "stream",
     "text": [
      "Connecting to the PostgreSQL database...\n",
      "6 rows updated\n",
      "Database connection closed.\n",
      "Connecting to the PostgreSQL database...\n",
      "6 rows updated\n",
      "Database connection closed.\n"
     ]
    }
   ],
   "source": [
    "import_site_and_visit_records(filepath=inputdir,\n",
    "            workbook='UNSW_VegFireResponse_AlpineBogs_reformat_Sep2021.xlsx',\n",
    "            worksheet='Site',\n",
    "            col_dictionary={'site_label':0,'location_description':10, 'visit_date':range(3,9), \n",
    "               'utm_zone':11, 'xs':(12,), 'ys':(13,), 'elevation':37,\n",
    "                 'gps_uncertainty_m':14,\n",
    "                 'gps_geom_description':17,\n",
    "                 'observerlist':2,'replicate_nr':1,\n",
    "                 'survey':\"Alpine Bogs\"})\n"
   ]
  },
  {
   "cell_type": "markdown",
   "id": "97d116d7-315c-4659-ba14-a2b58c8559e0",
   "metadata": {
    "tags": []
   },
   "source": [
    "### Robertson RF \n",
    "\n",
    "- Two sites\n",
    "    - both included in file for KNP AlpAsh? duplicated codes? same entries?\n",
    "    - both with full information\n",
    "- Three visits\n",
    "    - both sites visited in January 2021\n",
    "    - one site visited in August 2002 ?\n",
    "    - three different main observers: David Keith, Robert Kooyman and T. Mason"
   ]
  },
  {
   "cell_type": "code",
   "execution_count": 30,
   "id": "c85050ad-e9e9-4f81-9b9e-7565d9b59dfe",
   "metadata": {
    "tags": []
   },
   "outputs": [
    {
     "name": "stdout",
     "output_type": "stream",
     "text": [
      "Connecting to the PostgreSQL database...\n",
      "2 rows updated\n",
      "Database connection closed.\n",
      "Connecting to the PostgreSQL database...\n",
      "3 rows updated\n",
      "Database connection closed.\n"
     ]
    }
   ],
   "source": [
    "import_site_and_visit_records(filepath=inputdir,\n",
    "            workbook='RobertsonRF_data_bionet2.xlsx',\n",
    "            worksheet='Site',\n",
    "            col_dictionary={'site_label':0,'location_description':10, 'visit_date':range(3,9), \n",
    "               'utm_zone':11, 'xs':(12,), 'ys':(13,), 'elevation':37,\n",
    "                 'gps_uncertainty_m':14,\n",
    "                 'gps_geom_description':17,\n",
    "                 'observerlist':2,'replicate_nr':1,\n",
    "                 'survey':\"Robertson RF\"})"
   ]
  },
  {
   "cell_type": "markdown",
   "id": "dae6245a-6e08-4d6b-b630-e27cebd8ea32",
   "metadata": {
    "tags": []
   },
   "source": [
    "### Newness\n",
    "This file has a different format, and includes many empty site records, had to tweak functions and troubleshoot a bit.\n",
    "Much slower processing\n",
    "\n",
    "- 20 sites\n",
    "    - description missing for six sites\n",
    "    - all with elevation and coordinates\n",
    "- 54 visits (!)\n",
    "    - each site visited two or three times \n",
    "    - visits between 2020 and 2021\n",
    "    - observer information is missing or incomplete in most visits"
   ]
  },
  {
   "cell_type": "code",
   "execution_count": 31,
   "id": "5f48f82e-880d-4e1f-9222-bf01830ba8cc",
   "metadata": {
    "tags": []
   },
   "outputs": [
    {
     "name": "stdout",
     "output_type": "stream",
     "text": [
      "Connecting to the PostgreSQL database...\n",
      "20 rows updated\n",
      "Database connection closed.\n",
      "Connecting to the PostgreSQL database...\n",
      "54 rows updated\n",
      "Database connection closed.\n"
     ]
    }
   ],
   "source": [
    "filename='Fire response quadrat survey Newnes Nov2020_DK_revised IDs+AllNovData.xlsm'\n",
    "col_definitions={'site_label':0, 'visit_date':(8,), 'fixed_utm_zone':56, 'xs':(1,), 'ys':(2,), 'elevation':4, 'survey':\"NEWNES\"}\n",
    "\n",
    "import_site_and_visit_records(filepath=inputdir,\n",
    "            workbook=filename,\n",
    "            worksheet='Site',\n",
    "            col_dictionary=col_definitions)\n"
   ]
  },
  {
   "cell_type": "markdown",
   "id": "4d5a7e8d-ce21-4cf4-a027-c172094ba628",
   "metadata": {
    "tags": []
   },
   "source": [
    "### Yatteyattah \n",
    "This workbook had no 'Site' worksheet, had to reformat the data from 'Sample' and add the worksheet to make it work, also changed the format in \"date of sampling\" column.\n",
    "\n",
    "- 7 sites, all with full information \n",
    "- 7 visits\n",
    "    - two sites visited in July 2020\n",
    "    - five sites visited in February 2021\n",
    "    - all visits by Jackie Miles"
   ]
  },
  {
   "cell_type": "code",
   "execution_count": 33,
   "id": "e25ca80c-1f76-453e-871b-db2b0a778916",
   "metadata": {},
   "outputs": [
    {
     "name": "stdout",
     "output_type": "stream",
     "text": [
      "Connecting to the PostgreSQL database...\n",
      "7 rows updated\n",
      "Database connection closed.\n",
      "Connecting to the PostgreSQL database...\n",
      "7 rows updated\n",
      "Database connection closed.\n"
     ]
    }
   ],
   "source": [
    "filename='UNSW_VegFireResponse_DataEntry_Yatteyattah all +DK +Milton_revisedfields_Mar2022.xlsx'\n",
    "col_definitions={'site_label':0,'location_description':10, 'utm_zone':11,'elevation':37, 'visit_date':range(3,9), \n",
    "                'xs':(12,), 'ys':(13,),\n",
    "                 'gps_uncertainty_m':14,\n",
    "                 'gps_geom_description':17,\n",
    "                 'observerlist':2,'replicate_nr':1,\n",
    "                 'survey':\"Yatteyattah\"}\n",
    "import_site_and_visit_records(filepath=inputdir,\n",
    "            workbook=filename,\n",
    "            worksheet='Site',\n",
    "            col_dictionary=col_definitions)\n"
   ]
  },
  {
   "cell_type": "markdown",
   "id": "031af319-7456-456b-8f02-cd47b9342e5a",
   "metadata": {},
   "source": [
    "### Sites without survey\n",
    "\n",
    "Some sites / visits in the database with missing information:\n",
    "\n",
    "Site | Date | samples | species\n",
    "---|---|---|---\n",
    "BER1 | 2020-02-06 | 1 | No data added\n",
    "BER2 | 2020-02-25 | 1 | No data added\n",
    "BS1 | 2020-06-03 | 20 | No data added\n",
    "Duffy | 2020-01-14 | 1 | No data added\n",
    "Ka1 | 2020-01-07 | 1 | No data added\n",
    "Ka3 | 2020-01-09 | 1 | No data added\n",
    "Ka3_b | 2020-01-08 | 1 | No data added\n",
    "Ka4 | 2020-02-04 | 1 | No data added\n",
    "Ka5 | 2020-02-05 | 2 | No data added\n",
    "LC1 | 2020-01-15 | 1 | No data added\n",
    "LC2 | 2020-02-14 | 1 | No data added\n",
    "Madden1 | 2020-02-26 | 1 | No data added\n",
    "R0Y005 | 2019-12-12 | 2 | No data added\n",
    "ROY001 | 2019-10-25 | 2 | No data added\n",
    "ROY002 | 2019-10-25 | 1 | No data added\n",
    "ROY003 | 2019-12-05 | 1 | No data added\n",
    "ROY004 | 2019-12-11 | 1 | No data added\n",
    "SCCJB13 | 2020-12-07 | 4 | No data added\n",
    "SCCJB37-Near | 2020-12-07 | 4 | No data added\n",
    "UppClydeRF1 | 2021-11-29 | 4 | 27\n",
    "UppClydeRF1 | 2021-12-01 | 1 | 1"
   ]
  },
  {
   "cell_type": "markdown",
   "id": "acaa6289-fe5e-477b-a9d5-09e70b9e7b3b",
   "metadata": {},
   "source": [
    "### Fill main observer id\n",
    "\n",
    "We run this after import in order to translate the list of observers into a integer value for the main observer"
   ]
  },
  {
   "cell_type": "code",
   "execution_count": 34,
   "id": "44732395-9be5-4335-a8bb-e40b3212f293",
   "metadata": {},
   "outputs": [
    {
     "name": "stdout",
     "output_type": "stream",
     "text": [
      "Connecting to the PostgreSQL database...\n",
      "UPDATE form.field_visit set mainobserver=7 WHERE observerlist[1]='David Keith' AND mainobserver is NULL;\n",
      "UPDATE form.field_visit set mainobserver=9 WHERE observerlist[1]='D. Benson' AND mainobserver is NULL;\n",
      "UPDATE form.field_visit set mainobserver=10 WHERE observerlist[1]='L. Watts,' AND mainobserver is NULL;\n",
      "UPDATE form.field_visit set mainobserver=11 WHERE observerlist[1]='T. Manson' AND mainobserver is NULL;\n",
      "UPDATE form.field_visit set mainobserver=12 WHERE observerlist[1]='Jackie Miles' AND mainobserver is NULL;\n",
      "1 rows updated\n",
      "UPDATE form.field_visit set mainobserver=13 WHERE observerlist[1]='Robert Kooyman' AND mainobserver is NULL;\n",
      "UPDATE form.field_visit set mainobserver=8 WHERE observerlist[1]='Alexandria Thomsen' AND mainobserver is NULL;\n",
      "UPDATE form.field_visit set mainobserver=14 WHERE observerlist[1]='Jedda Lemmen' AND mainobserver is NULL;\n",
      "Database connection closed.\n"
     ]
    }
   ],
   "source": [
    "\n",
    "print('Connecting to the PostgreSQL database...')\n",
    "conn = psycopg2.connect(**params)\n",
    "cur = conn.cursor()\n",
    "\n",
    "updated_rows=0\n",
    "qrystr = \"UPDATE form.field_visit set mainobserver=%s WHERE observerlist[1]='%s' AND mainobserver is NULL;\"\n",
    "for k in observerid:\n",
    "    qry = qrystr % (k[0],\" \".join(k[1:3]))\n",
    "    print(qry)\n",
    "    cur.execute(qry)\n",
    "    if cur.rowcount > 0:\n",
    "        updated_rows = updated_rows + cur.rowcount\n",
    "        print(\"%s rows updated\" % updated_rows)\n",
    "\n",
    "cur.close()\n",
    "conn.commit()\n",
    "        \n",
    "if conn is not None:\n",
    "    conn.close()\n",
    "    print('Database connection closed.')"
   ]
  },
  {
   "cell_type": "code",
   "execution_count": 32,
   "id": "cc3daddf-208f-4730-9f12-1a82e16eef0a",
   "metadata": {},
   "outputs": [
    {
     "data": {
      "text/plain": [
       "0"
      ]
     },
     "execution_count": 32,
     "metadata": {},
     "output_type": "execute_result"
    }
   ],
   "source": [
    "updated_rows"
   ]
  },
  {
   "cell_type": "code",
   "execution_count": null,
   "id": "ee9c8cbe-768f-458f-bcce-5c3ca5448e38",
   "metadata": {},
   "outputs": [],
   "source": []
  }
 ],
 "metadata": {
  "kernelspec": {
   "display_name": "Python 3 (ipykernel)",
   "language": "python",
   "name": "python3"
  },
  "language_info": {
   "codemirror_mode": {
    "name": "ipython",
    "version": 3
   },
   "file_extension": ".py",
   "mimetype": "text/x-python",
   "name": "python",
   "nbconvert_exporter": "python",
   "pygments_lexer": "ipython3",
   "version": "3.11.3"
  }
 },
 "nbformat": 4,
 "nbformat_minor": 5
}
