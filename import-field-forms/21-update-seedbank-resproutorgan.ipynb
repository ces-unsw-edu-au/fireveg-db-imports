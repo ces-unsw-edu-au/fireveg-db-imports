{
 "cells": [
  {
   "cell_type": "markdown",
   "id": "61281490-df8f-4282-a9fb-8c7719960e83",
   "metadata": {},
   "source": [
    "# Fireveg DB imports -- import field work forms\n",
    "\n",
    "Author: [José R. Ferrer-Paris](https://github.com/jrfep)\n",
    "\n",
    "Date: February 2022, updated 20 August 2024\n",
    "\n",
    "This Jupyter Notebook includes [Python](https://www.python.org) code to update various fields in the records from the field samples.\n",
    "\n",
    "**Please note:**\n",
    "<div class=\"alert alert-warning\">\n",
    "    This repository contains code that is intended for internal project management and is documented for the sake of reproducibility.<br/>\n",
    "    🛂 Only users contributing directly to the project have access to the credentials for data download/upload. \n",
    "</div>"
   ]
  },
  {
   "cell_type": "markdown",
   "id": "7d76c2a2-aa06-45cd-a4af-55433b7c6639",
   "metadata": {},
   "source": [
    "## Set-up\n",
    "### Load libraries "
   ]
  },
  {
   "cell_type": "code",
   "execution_count": 1,
   "id": "89ee9cb4-df0d-4e56-9a98-7dad01d4ca19",
   "metadata": {},
   "outputs": [],
   "source": [
    "import openpyxl\n",
    "from pathlib import Path\n",
    "import os,sys\n",
    "from datetime import datetime\n",
    "from configparser import ConfigParser\n",
    "import psycopg2\n",
    "from psycopg2.extensions import AsIs\n",
    "import pyprojroot\n",
    "import re\n",
    "import pandas as pd\n",
    "\n",
    "import pyprojroot"
   ]
  },
  {
   "cell_type": "markdown",
   "id": "14bf06d2-9068-4305-9c8e-20217f1e6d95",
   "metadata": {},
   "source": [
    "### Define paths for input and output"
   ]
  },
  {
   "cell_type": "code",
   "execution_count": 2,
   "id": "a093494f-04a2-420d-81b7-3ede357bb549",
   "metadata": {},
   "outputs": [],
   "source": [
    "repodir = pyprojroot.find_root(pyprojroot.has_dir(\".git\"))\n",
    "sys.path.append(str(repodir))"
   ]
  },
  {
   "cell_type": "markdown",
   "id": "90f0b662-da79-4b3a-83f6-da26c9b8c6f5",
   "metadata": {},
   "source": [
    "### Load own functions"
   ]
  },
  {
   "cell_type": "markdown",
   "id": "fd00484b-2d20-4b31-a8d8-742924acc4b3",
   "metadata": {},
   "source": [
    "Load functions from `lib` folder, we will use a function to read db credentials and one for batch insert and updates:"
   ]
  },
  {
   "cell_type": "code",
   "execution_count": 4,
   "id": "e1fcd383-b9d3-485d-9ab6-8071f2c1ae48",
   "metadata": {},
   "outputs": [],
   "source": [
    "from lib.parseparams import read_dbparams\n",
    "from lib.firevegdb import dbquery, batch_upsert"
   ]
  },
  {
   "cell_type": "markdown",
   "id": "8891f2ba-a115-4911-b44e-773363df3703",
   "metadata": {},
   "source": [
    "### Database credentials\n",
    "\n",
    "🤫 We use a folder named \"secrets\" to keep the credentials for connection to different services (database credentials, API keys, etc). This checked this folder in our `.gitignore` so that its content are not tracked by git and not exposed. Future users need to copy the contents of this folder manually.\n",
    "\n",
    "We read database credentials stored in a `database.ini` file using our own `read_dbparams` function."
   ]
  },
  {
   "cell_type": "code",
   "execution_count": 5,
   "id": "b8fdb7e6-339c-4ddb-8731-343b506fa630",
   "metadata": {},
   "outputs": [],
   "source": [
    "dbparams = read_dbparams(repodir / 'secrets' / 'database.ini', \n",
    "                         section='fireveg-db-v1.1')"
   ]
  },
  {
   "cell_type": "markdown",
   "id": "39a08fc5-b7cc-4ce9-ac3d-510e3e63c440",
   "metadata": {
    "jp-MarkdownHeadingCollapsed": true
   },
   "source": [
    "## Update observer ids"
   ]
  },
  {
   "cell_type": "markdown",
   "id": "48c07efc-6def-4366-84b4-472b3b387160",
   "metadata": {},
   "source": [
    "Do we have all people with an observer id?"
   ]
  },
  {
   "cell_type": "code",
   "execution_count": 7,
   "id": "948ce1ce-5303-4db9-847c-d9d73d73e9d0",
   "metadata": {},
   "outputs": [
    {
     "data": {
      "text/plain": [
       "[[7, 'David', 'Keith'],\n",
       " [9, 'D.', 'Benson'],\n",
       " [10, 'L.', 'Watts,'],\n",
       " [11, 'T.', 'Manson'],\n",
       " [12, 'Jackie', 'Miles'],\n",
       " [13, 'Robert', 'Kooyman'],\n",
       " [8, 'Alexandria', 'Thomsen'],\n",
       " [14, 'Jedda', 'Lemmen']]"
      ]
     },
     "execution_count": 7,
     "metadata": {},
     "output_type": "execute_result"
    }
   ],
   "source": [
    "dbquery(\"select * from form.observerid\",dbparams)"
   ]
  },
  {
   "cell_type": "code",
   "execution_count": 8,
   "id": "00cb27c0-03c1-487c-a642-ca5644c02a1e",
   "metadata": {},
   "outputs": [],
   "source": [
    "other_observers = [{'userkey': 1,\n",
    " 'givennames': 'Chris',\n",
    " 'surname': 'Simpson'},\n",
    " {'userkey': 2,\n",
    " 'givennames': 'Freya',\n",
    " 'surname': 'Thomas'},\n",
    " {'userkey': 3,\n",
    " 'givennames': 'Kate',\n",
    " 'surname': 'Giljohann'},\n",
    " {'userkey': 4,\n",
    " 'givennames': 'Mark',\n",
    " 'surname': 'Tozer'},\n",
    " {'userkey': 5,\n",
    " 'givennames': 'Renee',\n",
    " 'surname': 'Woodward'}]\n"
   ]
  },
  {
   "cell_type": "code",
   "execution_count": 9,
   "id": "c0e61b2e-0855-4efa-8d10-6348009840a4",
   "metadata": {},
   "outputs": [
    {
     "name": "stdout",
     "output_type": "stream",
     "text": [
      "Connecting to the PostgreSQL database...\n",
      "5 rows updated\n",
      "Database connection closed.\n"
     ]
    }
   ],
   "source": [
    "batch_upsert(dbparams, \n",
    "             table='form.observerid',\n",
    "             records=other_observers,\n",
    "             keycol=['userkey',], \n",
    "             idx='observerid_pkey',\n",
    "             execute = True)"
   ]
  },
  {
   "cell_type": "markdown",
   "id": "8048ec77-89ea-44fd-b665-385077fc15ab",
   "metadata": {},
   "source": [
    "Now we can try to update the field visit information with these keys:"
   ]
  },
  {
   "cell_type": "code",
   "execution_count": 11,
   "id": "2b111a0b-1516-4993-97c5-558e48dc8ee4",
   "metadata": {},
   "outputs": [
    {
     "name": "stdout",
     "output_type": "stream",
     "text": [
      "Connecting to the PostgreSQL database...\n",
      "53 rows updated\n",
      "Database connection closed.\n"
     ]
    }
   ],
   "source": [
    "print('Connecting to the PostgreSQL database...')\n",
    "conn = psycopg2.connect(**dbparams)\n",
    "cur = conn.cursor()\n",
    "updated_rows=0\n",
    "\n",
    "qry = \"\"\"\n",
    "WITH A AS (\n",
    "SELECT visit_id, visit_date, userkey, observerlist[1] AS obs1 \n",
    "FROM form.field_visit \n",
    "LEFT JOIN form.observerid \n",
    "    ON observerlist[1]=givennames || ' ' || surname\n",
    "WHERE survey_name='Mallee Woodlands' AND observerlist is not NULL\n",
    ")\n",
    "INSERT INTO form.field_visit(visit_id,visit_date,mainobserver) \n",
    "SELECT visit_id,visit_date,userkey FROM A\n",
    "ON CONFLICT ON CONSTRAINT field_visit_pkey \n",
    "    DO UPDATE SET mainobserver=EXCLUDED.mainobserver\n",
    "\"\"\"\n",
    "cur.execute(qry)\n",
    "updated_rows = updated_rows + cur.rowcount \n",
    "conn.commit()        \n",
    "cur.close()\n",
    "print(\"%s rows updated\" % (updated_rows))\n",
    "conn.close()\n",
    "print('Database connection closed.')"
   ]
  },
  {
   "cell_type": "markdown",
   "id": "39a89ff0-f0dc-40de-bf58-0f3253a89b91",
   "metadata": {},
   "source": [
    "## Update information from comments"
   ]
  },
  {
   "cell_type": "markdown",
   "id": "e67ee91a-dcc7-40e5-b59d-3952ca0782aa",
   "metadata": {},
   "source": [
    "Need to update:\n",
    "- some common mistakes in resprout organ and seedbank type\n",
    "\n",
    "Need to add this information into the database:\n",
    "\n",
    "- count of fully scorched & resprouting individuals\n",
    "- count of fully scorched & fire-killed individuals\n",
    "- count of partially scorched & resprouting individuals\n",
    "- count of partially scorched & fire-killed individuals\n",
    "\n",
    "Also identify adults from not adults\n"
   ]
  },
  {
   "cell_type": "markdown",
   "id": "090d43a2-df1f-4c05-920a-e7fe2a1b51ae",
   "metadata": {
    "jp-MarkdownHeadingCollapsed": true
   },
   "source": [
    "### Read valid vocabularies"
   ]
  },
  {
   "cell_type": "markdown",
   "id": "4c51b81b-5623-4ac5-a005-77a48273b0ab",
   "metadata": {},
   "source": [
    "Check age and scorch vocabularies:"
   ]
  },
  {
   "cell_type": "code",
   "execution_count": 12,
   "id": "a89a14c0-5d84-41f7-ba09-31d493ea6445",
   "metadata": {},
   "outputs": [],
   "source": [
    "qry = \"SELECT enumlabel FROM pg_enum e LEFT JOIN pg_type t ON e.enumtypid=t.oid where typname='scorch_vocabulary';\"\n",
    "scorch_list = dbquery(qry, dbparams)\n",
    "scorch_vocab = [item for t in scorch_list for item in t]"
   ]
  },
  {
   "cell_type": "code",
   "execution_count": 13,
   "id": "5f9ef19c-bee0-4c09-9307-2489a287eb22",
   "metadata": {},
   "outputs": [],
   "source": [
    "qry = \"SELECT enumlabel FROM pg_enum e LEFT JOIN pg_type t ON e.enumtypid=t.oid where typname='age_group';\"\n",
    "age_list = dbquery(qry, dbparams)\n",
    "age_vocab = [item for t in age_list for item in t]"
   ]
  },
  {
   "cell_type": "code",
   "execution_count": 14,
   "id": "6989e7b7-fa5d-471f-848a-01bbd6bf1571",
   "metadata": {},
   "outputs": [
    {
     "name": "stdout",
     "output_type": "stream",
     "text": [
      "['adult', 'juvenile', 'other']\n",
      "['Full canopy scorch', 'Partial scorch', 'Other']\n"
     ]
    }
   ],
   "source": [
    "print(age_vocab)\n",
    "print(scorch_vocab)"
   ]
  },
  {
   "cell_type": "markdown",
   "id": "c0f87f4b-4529-4116-b73f-17e180daf82e",
   "metadata": {},
   "source": [
    "Check seedbank and reprout organ"
   ]
  },
  {
   "cell_type": "code",
   "execution_count": 15,
   "id": "02be551f-7cbe-47bc-a12f-7a3dcc5475d5",
   "metadata": {},
   "outputs": [],
   "source": [
    "qry = \"SELECT enumlabel FROM pg_enum e LEFT JOIN pg_type t ON e.enumtypid=t.oid where typname='seedbank_vocabulary';\"\n",
    "valid_seedbank_list = dbquery(qry, dbparams)\n",
    "seedbank_vocab = [item for t in valid_seedbank_list for item in t]"
   ]
  },
  {
   "cell_type": "code",
   "execution_count": 16,
   "id": "756c6099-e77c-4686-8781-63520adbc3d7",
   "metadata": {},
   "outputs": [],
   "source": [
    "qry = \"SELECT enumlabel FROM pg_enum e LEFT JOIN pg_type t ON e.enumtypid=t.oid where typname='resprout_organ_vocabulary';\"\n",
    "valid_organ_list = dbquery(qry, dbparams)\n",
    "organ_vocab = [item for t in valid_organ_list for item in t]"
   ]
  },
  {
   "cell_type": "code",
   "execution_count": 17,
   "id": "1637fa3c-5455-447a-87d4-1d8401c30ab0",
   "metadata": {},
   "outputs": [
    {
     "name": "stdout",
     "output_type": "stream",
     "text": [
      "['Soil-persistent', 'Transient', 'Canopy', 'Non-canopy', 'Other']\n",
      "['Epicormic', 'Apical', 'Lignotuber', 'Basal', 'Tuber', 'Tussock', 'Short rhizome', 'Long rhizome or root sucker', 'Stolon', 'None', 'Other']\n"
     ]
    }
   ],
   "source": [
    "print(seedbank_vocab)\n",
    "print(organ_vocab)"
   ]
  },
  {
   "cell_type": "markdown",
   "id": "f638602c-cb74-45d2-9ff6-9713c0f30bbd",
   "metadata": {
    "jp-MarkdownHeadingCollapsed": true
   },
   "source": [
    "### Update seedbank/resprout organ from comments"
   ]
  },
  {
   "cell_type": "code",
   "execution_count": 19,
   "id": "ea578a10-fd9d-488c-bddb-df864f680d94",
   "metadata": {},
   "outputs": [
    {
     "name": "stdout",
     "output_type": "stream",
     "text": [
      "Connecting to the PostgreSQL database...\n"
     ]
    }
   ],
   "source": [
    "# connect to the PostgreSQL server\n",
    "print('Connecting to the PostgreSQL database...')\n",
    "conn = psycopg2.connect(**dbparams)\n",
    "cur = conn.cursor()\n",
    "updated_rows=0"
   ]
  },
  {
   "cell_type": "code",
   "execution_count": 20,
   "id": "bd41baa4-ddf8-464f-9a0b-9a6c2f41cb45",
   "metadata": {},
   "outputs": [],
   "source": [
    "qrystr=\"\"\"\n",
    "UPDATE form.quadrat_samples\n",
    "SET seedbank=%s\n",
    "WHERE\n",
    "%s=ANY(comments)\n",
    "AND seedbank is NULL\n",
    "\"\"\""
   ]
  },
  {
   "cell_type": "code",
   "execution_count": 21,
   "id": "4d5ae95e-5dc4-47ed-9f3c-f5442f94ac69",
   "metadata": {},
   "outputs": [],
   "source": [
    "mtchs = [\n",
    "    (\"Soil-persistent\",\"seedbank written as persistent soil\"),\n",
    "    (\"Soil-persistent\",\"seedbank written as soil persistent\"),\n",
    "    (\"Non-canopy\",\"seedbank written as non canopy\")\n",
    "]"
   ]
  },
  {
   "cell_type": "code",
   "execution_count": 22,
   "id": "f7d7ba60-ef3c-46ff-8f76-c89d62a84a06",
   "metadata": {},
   "outputs": [],
   "source": [
    "for mtch in mtchs:\n",
    "    qry = cur.mogrify(qrystr, mtch)\n",
    "    cur.execute(qry)\n",
    "    updated_rows = updated_rows + cur.rowcount "
   ]
  },
  {
   "cell_type": "code",
   "execution_count": 23,
   "id": "57603b3f-5334-4e69-bc54-73bd6eec6b71",
   "metadata": {},
   "outputs": [],
   "source": [
    "qrystr=\"\"\"\n",
    "UPDATE form.quadrat_samples\n",
    "SET resprout_organ=%s\n",
    "WHERE\n",
    "%s=ANY(comments)\n",
    "AND resprout_organ is NULL\n",
    "\"\"\""
   ]
  },
  {
   "cell_type": "code",
   "execution_count": 24,
   "id": "24fd63a5-d217-4480-8a4f-84f22bd08c60",
   "metadata": {},
   "outputs": [],
   "source": [
    "mtchs = [\n",
    "    (\"Short rhizome\",\"resprout organ written as rhizome short\"),\n",
    "    (\"Basal\",\"resprout organ written as basal stems\"),\n",
    "    (\"Tussock\",\"resprout organ written as none/tussock\")\n",
    "]\n",
    "# (\"???\",\"resprout organ written as rhizome long\"),"
   ]
  },
  {
   "cell_type": "code",
   "execution_count": 25,
   "id": "49aad640-32f1-4acf-8a6b-1b10e1d36701",
   "metadata": {},
   "outputs": [],
   "source": [
    "for mtch in mtchs:\n",
    "    qry = cur.mogrify(qrystr, mtch)\n",
    "    cur.execute(qry)\n",
    "    updated_rows = updated_rows + cur.rowcount "
   ]
  },
  {
   "cell_type": "code",
   "execution_count": 26,
   "id": "b409b6a7-5a78-4c64-b28c-4afb3c6f70eb",
   "metadata": {},
   "outputs": [
    {
     "name": "stdout",
     "output_type": "stream",
     "text": [
      "10379 rows updated\n",
      "Database connection closed.\n"
     ]
    }
   ],
   "source": [
    "conn.commit()        \n",
    "cur.close()\n",
    "print(\"%s rows updated\" % (updated_rows))\n",
    "conn.close()\n",
    "print('Database connection closed.')"
   ]
  },
  {
   "cell_type": "code",
   "execution_count": 27,
   "id": "88cac430-bb3e-44f0-bada-ed2e02f93b3d",
   "metadata": {},
   "outputs": [
    {
     "data": {
      "text/plain": [
       "[[None, 'None', 3],\n",
       " ['Non-canopy', 'Epicormic', 23],\n",
       " ['Non-canopy', 'None', 614],\n",
       " ['Soil-persistent', 'None', 6102],\n",
       " ['Canopy', 'Tussock', 1],\n",
       " ['Soil-persistent', 'Stolon', 133],\n",
       " ['Transient', 'Epicormic', 7],\n",
       " ['Transient', 'Stolon', 3],\n",
       " ['Transient', 'None', 164],\n",
       " ['Transient', None, 489],\n",
       " [None, 'Stolon', 2],\n",
       " ['Non-canopy', 'Basal', 1033],\n",
       " ['Transient', 'Lignotuber', 1],\n",
       " ['Soil-persistent', 'Tuber', 73],\n",
       " [None, None, 1560],\n",
       " ['Soil-persistent', 'Basal', 611],\n",
       " ['Soil-persistent', None, 1187],\n",
       " ['Transient', 'Apical', 38],\n",
       " ['Soil-persistent', 'Lignotuber', 495],\n",
       " ['Non-canopy', 'Short rhizome', 9],\n",
       " ['Transient', 'Basal', 32],\n",
       " [None, 'Basal', 1],\n",
       " ['Transient', 'Tuber', 122],\n",
       " ['Non-canopy', 'Tuber', 303],\n",
       " [None, 'Lignotuber', 2],\n",
       " [None, 'Tuber', 17],\n",
       " ['Non-canopy', 'Lignotuber', 60],\n",
       " ['Soil-persistent', 'Apical', 4],\n",
       " ['Soil-persistent', 'Epicormic', 4],\n",
       " ['Non-canopy', 'Tussock', 678],\n",
       " ['Canopy', 'None', 113],\n",
       " ['Canopy', 'Epicormic', 67],\n",
       " ['Non-canopy', None, 2025],\n",
       " ['Soil-persistent', 'Tussock', 565],\n",
       " ['Canopy', 'Lignotuber', 989],\n",
       " ['Non-canopy', 'Stolon', 272],\n",
       " ['Canopy', 'Basal', 3],\n",
       " [None, 'Tussock', 11],\n",
       " ['Canopy', None, 105],\n",
       " ['Non-canopy', 'Apical', 1],\n",
       " ['Soil-persistent', 'Short rhizome', 475]]"
      ]
     },
     "execution_count": 27,
     "metadata": {},
     "output_type": "execute_result"
    }
   ],
   "source": [
    "qry=\"\"\"SELECT seedbank, resprout_organ, count(*) FROM form.quadrat_samples GROUP BY seedbank, resprout_organ;\"\"\"\n",
    "res=dbquery(qry,dbparams)\n",
    "res"
   ]
  },
  {
   "cell_type": "markdown",
   "id": "6b1a24f0-7602-4cbb-b311-e9d525f01205",
   "metadata": {
    "jp-MarkdownHeadingCollapsed": true
   },
   "source": [
    "### Add information about partial scorch"
   ]
  },
  {
   "cell_type": "markdown",
   "id": "039b84bb-3d99-4ac9-b7f0-e2cd9e803934",
   "metadata": {},
   "source": [
    "Connect to database"
   ]
  },
  {
   "cell_type": "code",
   "execution_count": 28,
   "id": "06a12715-6430-45d4-b36b-1b104147780a",
   "metadata": {},
   "outputs": [
    {
     "name": "stdout",
     "output_type": "stream",
     "text": [
      "Connecting to the PostgreSQL database...\n"
     ]
    }
   ],
   "source": [
    "print('Connecting to the PostgreSQL database...')\n",
    "conn = psycopg2.connect(**dbparams)\n",
    "cur = conn.cursor()"
   ]
  },
  {
   "cell_type": "markdown",
   "id": "82db6931-92d7-46fd-aeb6-d028f287557d",
   "metadata": {},
   "source": [
    "Filter comments by keywords:"
   ]
  },
  {
   "cell_type": "code",
   "execution_count": 30,
   "id": "be2d953a-fe71-4721-af5c-eca8e1d9fd67",
   "metadata": {},
   "outputs": [
    {
     "data": {
      "text/plain": [
       "[(13024,\n",
       "  '10 resprouters with dbh <10cm, 7+3 with dbh>10cm (one + two partially burnt), killed plants with dbh 5cm, 9.5cm & 16cm'),\n",
       " (13029, 'adult tree dbh 46 cm, partially burnt')]"
      ]
     },
     "execution_count": 30,
     "metadata": {},
     "output_type": "execute_result"
    }
   ],
   "source": [
    "qry = \"\"\"\n",
    "WITH A AS (select record_id,unnest(comments) as note from form.quadrat_samples)\n",
    "SELECT record_id,note FROM A WHERE note ilike '%partial%';\n",
    "\"\"\"\n",
    "cur.execute(qry)\n",
    "\n",
    "records=cur.fetchall()\n",
    "records"
   ]
  },
  {
   "cell_type": "markdown",
   "id": "1ad03a24-5d9a-4621-90a9-c26f83a79ee5",
   "metadata": {},
   "source": [
    "We can run several updates:"
   ]
  },
  {
   "cell_type": "code",
   "execution_count": 31,
   "id": "63f47f9f-a457-4bba-98bf-0b6bda39fdaf",
   "metadata": {},
   "outputs": [],
   "source": [
    "updates_to_run = [\"\"\"\n",
    "UPDATE form.quadrat_samples SET life_stage='juvenile' where record_id IN\n",
    "(WITH A AS (select record_id,unnest(comments) as note from form.quadrat_samples)\n",
    "SELECT record_id FROM A WHERE note ilike '%juvenil%');\n",
    "\"\"\",\"\"\"\n",
    "UPDATE form.quadrat_samples SET life_stage='adult' where record_id IN\n",
    "(WITH A AS (select record_id,unnest(comments) as note from form.quadrat_samples)\n",
    "SELECT record_id FROM A WHERE note ilike '%adult %');\n",
    "\"\"\",\"\"\"\n",
    "UPDATE form.quadrat_samples SET life_stage='other' where record_id IN\n",
    "(WITH A AS (select record_id,unnest(comments) as note from form.quadrat_samples)\n",
    "SELECT record_id FROM A WHERE note ilike '%sapling%');\n",
    "\"\"\",\"\"\"\n",
    "UPDATE form.quadrat_samples SET scorch='Partial scorch' where record_id IN\n",
    "(WITH A AS (select record_id,unnest(comments) as note from form.quadrat_samples)\n",
    "SELECT record_id FROM A WHERE note ilike '%partial%');\n",
    "\"\"\"]\n",
    "\n",
    "for upd in updates_to_run:\n",
    "    cur.execute(upd)\n",
    "\n"
   ]
  },
  {
   "cell_type": "markdown",
   "id": "a038d3db-dd44-449f-ab16-35b248fc218c",
   "metadata": {},
   "source": [
    "Check how many records are updated:"
   ]
  },
  {
   "cell_type": "code",
   "execution_count": 32,
   "id": "8939714a-49ba-4f1e-8acc-516e8bd70436",
   "metadata": {},
   "outputs": [
    {
     "data": {
      "text/plain": [
       "[(None, None, 18390),\n",
       " ('juvenile', None, 4),\n",
       " ('adult', None, 1),\n",
       " (None, 'Partial scorch', 1),\n",
       " ('adult', 'Partial scorch', 1)]"
      ]
     },
     "execution_count": 32,
     "metadata": {},
     "output_type": "execute_result"
    }
   ],
   "source": [
    "qry= \"select life_stage,scorch,count(*) from form.quadrat_samples group by life_stage,scorch;\"\n",
    "cur.execute(qry)\n",
    "cur.fetchall()"
   ]
  },
  {
   "cell_type": "code",
   "execution_count": 33,
   "id": "9878672c-8bba-4f9e-b867-8306768227f1",
   "metadata": {},
   "outputs": [
    {
     "name": "stdout",
     "output_type": "stream",
     "text": [
      "Database connection closed.\n"
     ]
    }
   ],
   "source": [
    "conn.commit()\n",
    "cur.close()\n",
    "if conn is not None:\n",
    "    conn.close()\n",
    "    print('Database connection closed.')"
   ]
  },
  {
   "cell_type": "markdown",
   "id": "7b4b56f7-2042-4abe-941c-ddfc02f82cce",
   "metadata": {},
   "source": [
    "## That is it for now!\n",
    "\n",
    "✅ Job done! 😎👌🔥\n",
    "\n",
    "You can:\n",
    "- go [back home](../Instructions-and-workflow.ipynb),\n",
    "- continue navigating the repo on [GitHub](https://github.com/ces-unsw-edu-au/fireveg-db-exports)\n",
    "- continue exploring the repo on [OSF](https://osf.io/h96q2/).\n",
    "- visit the database at <http://fireecologyplants.net>"
   ]
  },
  {
   "cell_type": "code",
   "execution_count": null,
   "id": "a3e51a9b-76fd-4d27-ac78-939e905a1d87",
   "metadata": {},
   "outputs": [],
   "source": []
  }
 ],
 "metadata": {
  "kernelspec": {
   "display_name": "Python 3 (ipykernel)",
   "language": "python",
   "name": "python3"
  },
  "language_info": {
   "codemirror_mode": {
    "name": "ipython",
    "version": 3
   },
   "file_extension": ".py",
   "mimetype": "text/x-python",
   "name": "python",
   "nbconvert_exporter": "python",
   "pygments_lexer": "ipython3",
   "version": "3.11.3"
  }
 },
 "nbformat": 4,
 "nbformat_minor": 5
}
