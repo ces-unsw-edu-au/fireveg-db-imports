{
 "cells": [
  {
   "cell_type": "code",
   "execution_count": 1,
   "id": "89ee9cb4-df0d-4e56-9a98-7dad01d4ca19",
   "metadata": {},
   "outputs": [],
   "source": [
    "import openpyxl\n",
    "from pathlib import Path\n",
    "import os\n",
    "from datetime import datetime\n",
    "from configparser import ConfigParser\n",
    "import psycopg2\n",
    "from psycopg2.extensions import AsIs\n",
    "import pyprojroot\n",
    "import re\n",
    "import pandas as pd"
   ]
  },
  {
   "cell_type": "markdown",
   "id": "fd00484b-2d20-4b31-a8d8-742924acc4b3",
   "metadata": {},
   "source": [
    "Load functions from `lib` folder, we will use a function to read db credentials and one for batch insert and updates:"
   ]
  },
  {
   "cell_type": "code",
   "execution_count": 2,
   "id": "e1fcd383-b9d3-485d-9ab6-8071f2c1ae48",
   "metadata": {},
   "outputs": [],
   "source": [
    "from lib.parseparams import read_dbparams\n"
   ]
  },
  {
   "cell_type": "markdown",
   "id": "14bf06d2-9068-4305-9c8e-20217f1e6d95",
   "metadata": {},
   "source": [
    "Define path to workbooks"
   ]
  },
  {
   "cell_type": "code",
   "execution_count": 3,
   "id": "a093494f-04a2-420d-81b7-3ede357bb549",
   "metadata": {},
   "outputs": [],
   "source": [
    "repodir = pyprojroot.find_root(pyprojroot.has_dir(\".git\"))"
   ]
  },
  {
   "cell_type": "markdown",
   "id": "8891f2ba-a115-4911-b44e-773363df3703",
   "metadata": {},
   "source": [
    "Database credentials are stored in a database.ini file"
   ]
  },
  {
   "cell_type": "code",
   "execution_count": 4,
   "id": "b8fdb7e6-339c-4ddb-8731-343b506fa630",
   "metadata": {},
   "outputs": [],
   "source": [
    "dbparams = read_dbparams(repodir / 'secrets' / 'database.ini', section='aws-lght-sl')"
   ]
  },
  {
   "cell_type": "code",
   "execution_count": 46,
   "id": "ea578a10-fd9d-488c-bddb-df864f680d94",
   "metadata": {},
   "outputs": [
    {
     "name": "stdout",
     "output_type": "stream",
     "text": [
      "Connecting to the PostgreSQL database...\n"
     ]
    }
   ],
   "source": [
    "# connect to the PostgreSQL server\n",
    "print('Connecting to the PostgreSQL database...')\n",
    "conn = psycopg2.connect(**dbparams)\n",
    "cur = conn.cursor()\n",
    "updated_rows=0"
   ]
  },
  {
   "cell_type": "code",
   "execution_count": 47,
   "id": "bd41baa4-ddf8-464f-9a0b-9a6c2f41cb45",
   "metadata": {},
   "outputs": [],
   "source": [
    "qrystr=\"\"\"\n",
    "UPDATE form.quadrat_samples\n",
    "SET seedbank=%s\n",
    "WHERE\n",
    "%s=ANY(comments)\n",
    "AND seedbank is NULL\n",
    "\"\"\""
   ]
  },
  {
   "cell_type": "code",
   "execution_count": 48,
   "id": "4d5ae95e-5dc4-47ed-9f3c-f5442f94ac69",
   "metadata": {},
   "outputs": [],
   "source": [
    "mtchs = [\n",
    "    (\"Soil-persistent\",\"seedbank written as persistent soil\"),\n",
    "    (\"Soil-persistent\",\"seedbank written as soil persistent\"),\n",
    "    (\"Non-canopy\",\"seedbank written as non canopy\")\n",
    "]"
   ]
  },
  {
   "cell_type": "code",
   "execution_count": 49,
   "id": "f7d7ba60-ef3c-46ff-8f76-c89d62a84a06",
   "metadata": {},
   "outputs": [],
   "source": [
    "for mtch in mtchs:\n",
    "    qry = cur.mogrify(qrystr, mtch)\n",
    "    cur.execute(qry)\n",
    "    updated_rows = updated_rows + cur.rowcount "
   ]
  },
  {
   "cell_type": "code",
   "execution_count": 50,
   "id": "57603b3f-5334-4e69-bc54-73bd6eec6b71",
   "metadata": {},
   "outputs": [],
   "source": [
    "qrystr=\"\"\"\n",
    "UPDATE form.quadrat_samples\n",
    "SET resprout_organ=%s\n",
    "WHERE\n",
    "%s=ANY(comments)\n",
    "AND resprout_organ is NULL\n",
    "\"\"\""
   ]
  },
  {
   "cell_type": "code",
   "execution_count": 51,
   "id": "24fd63a5-d217-4480-8a4f-84f22bd08c60",
   "metadata": {},
   "outputs": [],
   "source": [
    "mtchs = [\n",
    "    (\"Short rhizome\",\"resprout organ written as rhizome short\"),\n",
    "    (\"Basal\",\"resprout organ written as basal stems\"),\n",
    "    (\"Tussock\",\"resprout organ written as none/tussock\")\n",
    "]\n",
    "# (\"???\",\"resprout organ written as rhizome long\"),"
   ]
  },
  {
   "cell_type": "code",
   "execution_count": 52,
   "id": "49aad640-32f1-4acf-8a6b-1b10e1d36701",
   "metadata": {},
   "outputs": [],
   "source": [
    "for mtch in mtchs:\n",
    "    qry = cur.mogrify(qrystr, mtch)\n",
    "    cur.execute(qry)\n",
    "    updated_rows = updated_rows + cur.rowcount "
   ]
  },
  {
   "cell_type": "code",
   "execution_count": 53,
   "id": "88cac430-bb3e-44f0-bada-ed2e02f93b3d",
   "metadata": {},
   "outputs": [
    {
     "data": {
      "text/plain": [
       "[('Soil-persistent', 'Lignotuber', 496),\n",
       " ('Non-canopy', 'Tuber', 301),\n",
       " ('Non-canopy', 'Apical', 2),\n",
       " ('Soil-persistent', 'Short rhizome', 475),\n",
       " ('Transient', 'Lignotuber', 1),\n",
       " ('Non-canopy', 'Tussock', 678),\n",
       " (None, None, 1560),\n",
       " ('Soil-persistent', 'Apical', 4),\n",
       " ('Canopy', 'Tussock', 1),\n",
       " ('Canopy', 'Lignotuber', 989),\n",
       " ('Non-canopy', 'Stolon', 310),\n",
       " ('Non-canopy', 'None', 611),\n",
       " ('Non-canopy', 'Basal', 1381),\n",
       " ('Transient', 'None', 164),\n",
       " (None, 'Tussock', 11),\n",
       " ('Canopy', 'None', 113),\n",
       " ('Soil-persistent', None, 1374),\n",
       " ('Transient', 'Basal', 47),\n",
       " ('Non-canopy', 'Epicormic', 23),\n",
       " ('Canopy', 'Basal', 4),\n",
       " ('Soil-persistent', 'Tuber', 74),\n",
       " ('Soil-persistent', 'None', 6142),\n",
       " ('Transient', None, 548),\n",
       " ('Soil-persistent', 'Tussock', 565),\n",
       " ('Soil-persistent', 'Epicormic', 5),\n",
       " (None, 'Basal', 1),\n",
       " (None, 'None', 3),\n",
       " (None, 'Lignotuber', 2),\n",
       " ('Non-canopy', 'Lignotuber', 60),\n",
       " ('Soil-persistent', 'Basal', 683),\n",
       " ('Transient', 'Stolon', 3),\n",
       " (None, 'Tuber', 17),\n",
       " ('Transient', 'Apical', 52),\n",
       " (None, 'Stolon', 2),\n",
       " ('Non-canopy', 'Short rhizome', 9),\n",
       " ('Transient', 'Epicormic', 12),\n",
       " ('Transient', 'Tuber', 122),\n",
       " ('Non-canopy', None, 2078),\n",
       " ('Canopy', 'Epicormic', 67),\n",
       " ('Canopy', None, 107),\n",
       " ('Soil-persistent', 'Stolon', 145)]"
      ]
     },
     "execution_count": 53,
     "metadata": {},
     "output_type": "execute_result"
    }
   ],
   "source": [
    "qry=\"\"\"SELECT seedbank, resprout_organ, count(*) FROM form.quadrat_samples GROUP BY seedbank, resprout_organ;\"\"\"\n",
    "cur.execute(qry)\n",
    "res = cur.fetchall()\n",
    "res"
   ]
  },
  {
   "cell_type": "code",
   "execution_count": 54,
   "id": "992923e4-f0c7-4c26-b8d6-5521b5b57059",
   "metadata": {},
   "outputs": [
    {
     "name": "stdout",
     "output_type": "stream",
     "text": [
      "1454 rows updated\n",
      "Database connection closed.\n"
     ]
    }
   ],
   "source": [
    "conn.commit()        \n",
    "cur.close()\n",
    "print(\"%s rows updated\" % (updated_rows))\n",
    "conn.close()\n",
    "print('Database connection closed.')"
   ]
  },
  {
   "cell_type": "code",
   "execution_count": 11,
   "id": "59fcb007-0449-48e9-91b7-59c3aa5f5b86",
   "metadata": {},
   "outputs": [],
   "source": []
  },
  {
   "cell_type": "code",
   "execution_count": null,
   "id": "7fb8edfd-1922-43c5-b577-5f439769ba84",
   "metadata": {},
   "outputs": [],
   "source": []
  }
 ],
 "metadata": {
  "kernelspec": {
   "display_name": "Python 3 (ipykernel)",
   "language": "python",
   "name": "python3"
  },
  "language_info": {
   "codemirror_mode": {
    "name": "ipython",
    "version": 3
   },
   "file_extension": ".py",
   "mimetype": "text/x-python",
   "name": "python",
   "nbconvert_exporter": "python",
   "pygments_lexer": "ipython3",
   "version": "3.11.3"
  }
 },
 "nbformat": 4,
 "nbformat_minor": 5
}
