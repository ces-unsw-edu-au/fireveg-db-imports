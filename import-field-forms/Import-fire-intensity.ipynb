{
 "cells": [
  {
   "cell_type": "markdown",
   "id": "91ceabcb-2305-4502-827d-21d17e911a14",
   "metadata": {
    "tags": []
   },
   "source": [
    "# Read files summarising field work and update database\n",
    "These Excel workbooks were imported on February 2022.\n",
    "\n",
    "The scripts documented here have been created to:\n",
    "\n",
    "- Read data from spreadsheets with field-work data\n",
    "- Create records for data import into the database\n",
    "- Insert or update records in the database\n"
   ]
  },
  {
   "cell_type": "markdown",
   "id": "12d4256b-0834-4b57-91b2-23706f4b7e48",
   "metadata": {
    "tags": []
   },
   "source": [
    "## Set-up\n",
    "Load libraries "
   ]
  },
  {
   "cell_type": "code",
   "execution_count": 2,
   "id": "cbf7b3b9-6d22-424b-b19b-a86282137e4c",
   "metadata": {},
   "outputs": [],
   "source": [
    "import openpyxl\n",
    "from pathlib import Path\n",
    "import os\n",
    "from datetime import datetime\n",
    "from configparser import ConfigParser\n",
    "import psycopg2\n",
    "from psycopg2.extras import DictCursor\n",
    "from psycopg2.extensions import AsIs\n",
    "import re\n",
    "#import postgis\n",
    "import pandas as pd\n",
    "import copy"
   ]
  },
  {
   "cell_type": "markdown",
   "id": "36419281-e89c-49de-9737-821185f55b7f",
   "metadata": {},
   "source": [
    "Define path to workbooks"
   ]
  },
  {
   "cell_type": "code",
   "execution_count": 3,
   "id": "2ae9964b-180a-4f59-97f6-ffeb077e754d",
   "metadata": {},
   "outputs": [],
   "source": [
    "repodir = Path(\"../../\") \n",
    "inputdir = repodir / \"data\" / \"field-form\""
   ]
  },
  {
   "cell_type": "markdown",
   "id": "f6cbba5f-783f-404b-bb9f-0878897ddb9b",
   "metadata": {
    "tags": []
   },
   "source": [
    " ### DB connection parameters and helper functions\n",
    " \n",
    " Database credentials are stored in a database.ini file"
   ]
  },
  {
   "cell_type": "code",
   "execution_count": 4,
   "id": "3810a958-a93c-4513-bcb6-1c2af2e90c57",
   "metadata": {},
   "outputs": [],
   "source": [
    "filename = repodir / 'secrets' / 'database.ini'\n",
    "section = 'aws-lght-sl'\n",
    "\n",
    "# create a parser\n",
    "parser = ConfigParser()\n",
    "# read config file\n",
    "parser.read(filename)\n",
    "\n",
    "# get section, default to postgresql\n",
    "db = {}\n",
    "if parser.has_section(section):\n",
    "    params = parser.items(section)\n",
    "    for param in params:\n",
    "        db[param[0]] = param[1]\n",
    "else:\n",
    "    raise Exception('Section {0} not found in the {1} file'.format(section, filename))\n",
    "\n",
    "params = db"
   ]
  },
  {
   "cell_type": "markdown",
   "id": "728ac97a-32e2-43f3-86f5-3add23ce2c61",
   "metadata": {},
   "source": [
    "Define a function to batch process insert or update queries:"
   ]
  },
  {
   "cell_type": "code",
   "execution_count": 5,
   "id": "8e886539-ab49-414f-879f-e3f5e560d167",
   "metadata": {},
   "outputs": [],
   "source": [
    "def batch_upsert(params,table,records,keycol,idx, execute=False,useconn=None):\n",
    "    if useconn is None:\n",
    "        # connect to the PostgreSQL server\n",
    "        print('Connecting to the PostgreSQL database...')\n",
    "        conn = psycopg2.connect(**params)\n",
    "    else:\n",
    "        conn = useconn\n",
    "    cur = conn.cursor()\n",
    "    #postgis.register(cur)\n",
    "    updated_rows=0\n",
    "    errors=dict()\n",
    "    for record in records:\n",
    "        if len(record.keys())>len(keycol):\n",
    "            if 'geom' in record.keys():\n",
    "                the_geom=record['geom']\n",
    "                record['geom']='GEOMSTR'\n",
    "            if idx is not None:\n",
    "                qrystr = \"INSERT INTO %s (%s) values %s ON CONFLICT ON CONSTRAINT %s DO UPDATE SET %s\"\n",
    "                upd=list()\n",
    "                for k in record.keys():\n",
    "                    if k not in keycol:\n",
    "                        upd.append(\"{col}=EXCLUDED.{col}\".format(col=k))\n",
    "                qry = cur.mogrify(qrystr, (AsIs(table),\n",
    "                                AsIs(','.join(record.keys())),\n",
    "                                tuple(record.values()),\n",
    "                                AsIs(idx),\n",
    "                                AsIs(','.join(upd))\n",
    "                               ))\n",
    "            else:\n",
    "                qrystr = \"INSERT INTO %s (%s) values %s ON CONFLICT DO NOTHING\"\n",
    "                qry = cur.mogrify(qrystr, (AsIs(table),\n",
    "                                AsIs(','.join(record.keys())),\n",
    "                                tuple(record.values())\n",
    "                               ))\n",
    "\n",
    "            if 'geom' in record.keys():\n",
    "                qry=qry.decode('utf-8')\n",
    "                qry=qry.replace(\"'GEOMSTR'\",the_geom)\n",
    "                record['geom']=the_geom\n",
    "\n",
    "            if execute:\n",
    "               # try:\n",
    "                cur.execute(qry)\n",
    "               # except psycopg2.errors.CheckViolation as error:\n",
    "               #     if type(error) in errors.keys():\n",
    "               #         errors[type(error)]=errors[type(error)]+1\n",
    "                #    else:\n",
    "                #        errors[type(error)]=1\n",
    "                #except psycopg2.errors.CheckViolation as error:\n",
    "                #    print(error)\n",
    "                if cur.rowcount > 0:\n",
    "                    updated_rows = updated_rows + cur.rowcount\n",
    "            else:\n",
    "                print(qry)\n",
    "            \n",
    "    conn.commit()        \n",
    "    cur.close()\n",
    "    print(\"%s rows updated\" % (updated_rows))\n",
    "    print(errors)\n",
    "    if useconn is None and conn is not None:\n",
    "        conn.close()\n",
    "        print('Database connection closed.')\n",
    "\n",
    "        "
   ]
  },
  {
   "cell_type": "markdown",
   "id": "a7a0dd1f-8a3d-4801-98ed-768137cbe844",
   "metadata": {},
   "source": [
    "Just a test with random data, use `execute=False` to print the query:"
   ]
  },
  {
   "cell_type": "code",
   "execution_count": 6,
   "id": "c7ab73c0-721d-4659-8095-00fabeee6c4d",
   "metadata": {},
   "outputs": [
    {
     "name": "stdout",
     "output_type": "stream",
     "text": [
      "Connecting to the PostgreSQL database...\n",
      "INSERT INTO form.field_site (site_label,geom) values ('test', ST_GeomFromText('POINT(1 2)', 4326)) ON CONFLICT ON CONSTRAINT field_site_pkey1 DO UPDATE SET geom=EXCLUDED.geom\n",
      "0 rows updated\n",
      "{}\n",
      "Database connection closed.\n"
     ]
    }
   ],
   "source": [
    "record={'site_label':'test','geom':\"ST_GeomFromText('POINT(1 2)', 4326)\"}\n",
    "batch_upsert(params,\"form.field_site\",(record,),keycol=('site_label',), idx='field_site_pkey1',execute=False)"
   ]
  },
  {
   "cell_type": "code",
   "execution_count": 7,
   "id": "51876a85-3dec-49c0-8aa0-6d01ae6d585f",
   "metadata": {},
   "outputs": [
    {
     "name": "stdout",
     "output_type": "stream",
     "text": [
      "Connecting to the PostgreSQL database...\n",
      "INSERT INTO form.field_site (site_label,geom) values ('test', ST_GeomFromText('POINT(1 2)', 4326)) ON CONFLICT DO NOTHING\n",
      "0 rows updated\n",
      "{}\n",
      "Database connection closed.\n"
     ]
    }
   ],
   "source": [
    "batch_upsert(params,\"form.field_site\",(record,),keycol=('site_label',), idx=None,execute=False)"
   ]
  },
  {
   "cell_type": "markdown",
   "id": "cb8724b7-96d8-4806-9920-dab2571e2f9f",
   "metadata": {},
   "source": [
    "### List of valid sites and visits"
   ]
  },
  {
   "cell_type": "code",
   "execution_count": 8,
   "id": "9a40f4d4-c870-42cb-a9c0-14079ba14617",
   "metadata": {},
   "outputs": [],
   "source": [
    "conn = psycopg2.connect(**params)\n",
    "cur = conn.cursor(cursor_factory=DictCursor)\n",
    "cur.execute(\"select distinct visit_id,visit_date FROM form.field_visit\")\n",
    "all_visits=cur.fetchall()\n",
    "cur.close()\n",
    "conn.close()"
   ]
  },
  {
   "cell_type": "code",
   "execution_count": 9,
   "id": "2604923d-8713-4636-9f75-390a0652f834",
   "metadata": {},
   "outputs": [
    {
     "data": {
      "text/plain": [
       "datetime.date(2020, 1, 15)"
      ]
     },
     "execution_count": 9,
     "metadata": {},
     "output_type": "execute_result"
    }
   ],
   "source": [
    "all_visits[1]['visit_date']"
   ]
  },
  {
   "cell_type": "markdown",
   "id": "f2e3eea5-812a-4d48-a41a-a90a69654c60",
   "metadata": {
    "tags": []
   },
   "source": [
    "### Read valid vegetation classes from spreadsheet"
   ]
  },
  {
   "cell_type": "raw",
   "id": "69ff2559-5dba-4b22-955d-b41d9df187d6",
   "metadata": {},
   "source": [
    "vegclass = pd.read_excel(repodir / \"data\" / \"NSWmap_v3_key3.xlsx\")"
   ]
  },
  {
   "cell_type": "raw",
   "id": "8955911a-e788-4374-af36-b9587e71fff4",
   "metadata": {},
   "source": [
    "records=list()\n",
    "for row in vegclass.values:\n",
    "    records.append({'vegetation_formation':row[2],'vegetation_class':row[1],'mapunitno':row[0],'formnum':row[3]})\n",
    "    \n",
    "#batch_upsert(params,\"vegetation.nsw_units\",records,keycol=('vegetation_class','vegetation_formation'), idx=None,execute=True)\n"
   ]
  },
  {
   "cell_type": "markdown",
   "id": "d55b5bbb-b4ea-4b83-bdcf-a1b8088bad91",
   "metadata": {
    "tags": []
   },
   "source": [
    "## Read workbooks\n",
    "Each spreadsheet has a slightly different structure, so these scripts have to be adapted for each case."
   ]
  },
  {
   "cell_type": "markdown",
   "id": "4308295a-230b-48d3-81fc-813ce33a634a",
   "metadata": {
    "tags": []
   },
   "source": [
    "### List of workbooks/spreadsheets in directory"
   ]
  },
  {
   "cell_type": "code",
   "execution_count": 10,
   "id": "82e3da8f-4d22-425a-96b2-c02191548171",
   "metadata": {
    "tags": []
   },
   "outputs": [],
   "source": [
    "avail_files = os.listdir(inputdir)\n",
    "#avail_files"
   ]
  },
  {
   "cell_type": "code",
   "execution_count": 11,
   "id": "7c046378-43c4-4b14-bb16-5c2641cdd9e2",
   "metadata": {},
   "outputs": [],
   "source": [
    "valid_files = ['SthnNSWRF_data_bionet2.xlsx',\n",
    "               'UNSWFireVegResponse_UplandBasalt_AlexThomsen+DK.xlsx',\n",
    "               'UNSW_VegFireResponse_RMK_reformat_Sep2021a.xlsx',\n",
    "               'UNSW_VegFireResponse_DataEntry_Yatteyattah all +DK +Milton_revisedfields_Mar2022.xlsx',\n",
    "               'UNSW_VegFireResponse_KNP AlpAsh_firehistupdate.xlsx',\n",
    "               'UNSW_VegFireResponse_AlpineBogs_reformat_Sep2021.xlsx',\n",
    "               'RobertsonRF_data_bionet2.xlsx',\n",
    "               'Fire response quadrat survey Newnes Nov2020_DK_revised IDs+AllNovData.xlsm']"
   ]
  },
  {
   "cell_type": "code",
   "execution_count": 12,
   "id": "402f1986-2f14-4c73-b50f-1f41bfb16666",
   "metadata": {},
   "outputs": [
    {
     "name": "stdout",
     "output_type": "stream",
     "text": [
      "True\n",
      "True\n",
      "True\n",
      "True\n",
      "True\n",
      "True\n",
      "True\n",
      "True\n"
     ]
    }
   ],
   "source": [
    "for ff in valid_files:\n",
    "    print(ff in avail_files)"
   ]
  },
  {
   "cell_type": "markdown",
   "id": "5b963026-23e4-48f4-97d2-cff86016af50",
   "metadata": {},
   "source": [
    "Here we create an index of worksheets and column headers for each file"
   ]
  },
  {
   "cell_type": "code",
   "execution_count": 13,
   "id": "0c4b7b46-d292-494f-8ccc-5fa72e8e5f6b",
   "metadata": {},
   "outputs": [],
   "source": [
    "wbindex=dict()\n",
    "for workbook_name in valid_files:\n",
    "    inputfile=inputdir / workbook_name\n",
    "    # using data_only=True to get the calculated cell values\n",
    "    wb = openpyxl.load_workbook(inputfile,data_only=True)\n",
    "    wbindex[workbook_name]=dict()\n",
    "    for ws in wb.worksheets:\n",
    "        wbindex[workbook_name][ws._WorkbookChild__title]=[list(),list()]\n",
    "        for k in range(1,ws.max_column):\n",
    "            wbindex[workbook_name][ws._WorkbookChild__title][0].append(ws.cell(row=1,column=k).value)\n",
    "            wbindex[workbook_name][ws._WorkbookChild__title][1].append(ws.cell(row=2,column=k).value)\n",
    "        "
   ]
  },
  {
   "cell_type": "code",
   "execution_count": 14,
   "id": "31178ae5-59ac-4fd6-860a-8967b80e30dd",
   "metadata": {},
   "outputs": [
    {
     "data": {
      "text/plain": [
       "dict_keys(['SthnNSWRF_data_bionet2.xlsx', 'UNSWFireVegResponse_UplandBasalt_AlexThomsen+DK.xlsx', 'UNSW_VegFireResponse_RMK_reformat_Sep2021a.xlsx', 'UNSW_VegFireResponse_DataEntry_Yatteyattah all +DK +Milton_revisedfields_Mar2022.xlsx', 'UNSW_VegFireResponse_KNP AlpAsh_firehistupdate.xlsx', 'UNSW_VegFireResponse_AlpineBogs_reformat_Sep2021.xlsx', 'RobertsonRF_data_bionet2.xlsx', 'Fire response quadrat survey Newnes Nov2020_DK_revised IDs+AllNovData.xlsm'])"
      ]
     },
     "execution_count": 14,
     "metadata": {},
     "output_type": "execute_result"
    }
   ],
   "source": [
    "wbindex.keys()"
   ]
  },
  {
   "cell_type": "code",
   "execution_count": 15,
   "id": "ba508e4e-b8de-47c5-a89d-2ced4873ddf2",
   "metadata": {},
   "outputs": [
    {
     "data": {
      "text/plain": [
       "dict_keys(['Site', 'Fire', 'Structure', 'Floristics', 'Reference', 'Info', 'Sheet1'])"
      ]
     },
     "execution_count": 15,
     "metadata": {},
     "output_type": "execute_result"
    }
   ],
   "source": [
    "wbindex['SthnNSWRF_data_bionet2.xlsx'].keys()"
   ]
  },
  {
   "cell_type": "markdown",
   "id": "2650a23d-0339-4d1f-a283-680a867517ff",
   "metadata": {
    "tags": []
   },
   "source": [
    "### Fire intensity"
   ]
  },
  {
   "cell_type": "markdown",
   "id": "9796e1b5-7b3e-4569-bca5-ecedd0dd1ffd",
   "metadata": {},
   "source": [
    "We want to add the informaiton on the fire intensity. This is recorded in the worksheet 'Fire' next to the fire history. We have to add a column to the worksheet for the date of the sampling (as the last column on the right), otherwise we won't be able to match this information to the sampling visit."
   ]
  },
  {
   "cell_type": "markdown",
   "id": "edeffebd-3920-473f-98a5-f4739b80eba6",
   "metadata": {},
   "source": [
    "We will use the variables:\n",
    "- 'scorch height' in m, \n",
    "- 'tree foliage biomass consumed' in %,\n",
    "- 'shrub foliage biomass consumed' in %,\n",
    "- 'ground foliage biomass consumed' in %,\n",
    "- 'tree foliage scorch' in %,\n",
    "- 'shrub foliage scorch' in %,\n",
    "- 'herb foliage scorch' in %\n",
    "\n",
    "\n"
   ]
  },
  {
   "cell_type": "markdown",
   "id": "3019a256-7363-4a51-ad9b-d09ff7cc35ee",
   "metadata": {
    "tags": []
   },
   "source": [
    "#### Function definitions"
   ]
  },
  {
   "cell_type": "code",
   "execution_count": 80,
   "id": "e36b8525-165f-4fc0-9e9f-f6357162356e",
   "metadata": {},
   "outputs": [],
   "source": [
    "def read_fire_intensity(filepath,workbook,worksheet,col_definitions):\n",
    "    wb = openpyxl.load_workbook(filepath / workbook,data_only=True)\n",
    "    ws = wb[worksheet]\n",
    "    triplet=('best','lower','upper')\n",
    "    records=list()\n",
    "    for row in range(2,ws.max_row+1):\n",
    "        visitid=ws.cell(row,col_definitions['visit_id']).value\n",
    "        if visitid is not None and visitid != 'Site':\n",
    "            visitdate=ws.cell(row,col_definitions['visit_date']).value\n",
    "            if isinstance(visitdate,datetime):\n",
    "                visitdate=visitdate.date()\n",
    "            elif visitdate is None:\n",
    "                visitdate='NULL'\n",
    "            else:\n",
    "                visitdate=datetime.strptime(visitdate, '%d/%m/%Y').date()\n",
    "            \n",
    "            record={'visit_id': visitid,\n",
    "                    'visit_date': visitdate,\n",
    "                   'comment':list()}\n",
    "            #print(record)\n",
    "            for var in ('scorch height',\n",
    "                        'tree foliage biomass consumed', 'shrub foliage biomass consumed', 'ground foliage biomass consumed',\n",
    "                        'tree foliage scorch', 'shrub foliage scorch', 'herb foliage scorch',\n",
    "                        'peat extent burnt','peat depth burnt'\n",
    "                       ):\n",
    "                if var in col_definitions.keys():\n",
    "                    record1=copy.deepcopy(record)\n",
    "                    record1['measured_var']=var\n",
    "                    if var == 'scorch height':\n",
    "                        record1['units']='m'\n",
    "                    elif var == 'peat depth burnt':\n",
    "                        record1['units']='cm'\n",
    "                    else:\n",
    "                        record1['units']='%'\n",
    "                    for k in range(len(col_definitions[var])):\n",
    "                        val=ws.cell(row,col_definitions[var][k]).value\n",
    "                        if val is not None and val != 'NA':\n",
    "                            if triplet[k]=='lower' and 'best' in record1.keys() and val > record1['best']:\n",
    "                                record1['lower']=record1['best']\n",
    "                                record1['comment'].append('lower bound given as %s but greater than best estimate' % val)\n",
    "                            if triplet[k]=='upper' and 'best' in record1.keys() and val < record1['best']:\n",
    "                                record1['comment'].append('upper bound given as %s but less than best estimate' % val)\n",
    "                                record1['upper']=record1['best']\n",
    "                            else:\n",
    "                                record1[triplet[k]]=val\n",
    "                    #print(record1)\n",
    "                    if 'comment' in record1.keys() and len(record1['comment'])==0:\n",
    "                        record1.pop('comment')\n",
    "                    records.append(record1)\n",
    "    return records\n"
   ]
  },
  {
   "cell_type": "markdown",
   "id": "e5faede8-2f2a-420e-bfe9-0f1d2d603ba7",
   "metadata": {},
   "source": [
    "Add raw measurements for a single variable"
   ]
  },
  {
   "cell_type": "code",
   "execution_count": 58,
   "id": "ed604c29-edab-4ca0-a13d-e03be6e365cf",
   "metadata": {},
   "outputs": [],
   "source": [
    "def read_twig_diameters(filepath,workbook,worksheet,col_definitions):\n",
    "    wb = openpyxl.load_workbook(filepath / workbook,data_only=True)\n",
    "    ws = wb[worksheet]\n",
    "    records=list()\n",
    "    for row in range(2,ws.max_row+1):\n",
    "        visitid=ws.cell(row,col_definitions['visit_id']).value\n",
    "        if visitid is not None and visitid != 'Site':\n",
    "            visitdate=ws.cell(row,col_definitions['visit_date']).value\n",
    "            if isinstance(visitdate,datetime):\n",
    "                visitdate=visitdate.date()\n",
    "            elif visitdate is None:\n",
    "                visitdate='NULL'\n",
    "            else:\n",
    "                visitdate=datetime.strptime(visitdate, '%d/%m/%Y').date()\n",
    "             \n",
    "            for var in ('twig diameter',):\n",
    "                if var in col_definitions.keys():\n",
    "                    record={'visit_id': visitid,\n",
    "                        'visit_date': visitdate,\n",
    "                        'measured_variable': var,\n",
    "                        'units':'mm'\n",
    "                       }\n",
    "                    for k in range(len(col_definitions[var])):\n",
    "                        record1=copy.deepcopy(record)\n",
    "                        val=ws.cell(row,col_definitions[var][k]).value\n",
    "                        if val is not None and val != 'NA':\n",
    "                            record1['single_value']=val\n",
    "                            records.append(record1)\n",
    "    return records\n"
   ]
  },
  {
   "cell_type": "markdown",
   "id": "e1060668-12cb-4256-bde5-11bcf88329fb",
   "metadata": {
    "tags": []
   },
   "source": [
    "#### Southern NSW Rainforest\n",
    "Manual updates: add a visit_date column at the end of the table"
   ]
  },
  {
   "cell_type": "code",
   "execution_count": 18,
   "id": "10042652-8744-48cf-9c4f-3ed0825d9835",
   "metadata": {
    "tags": []
   },
   "outputs": [
    {
     "data": {
      "text/plain": [
       "['Site',\n",
       " 'Replicate',\n",
       " 'Date of last fire dd/mm/yyyy',\n",
       " 'Date of penultimate fire',\n",
       " 'Date of earlier fire',\n",
       " 'How date inferred1',\n",
       " 'How date inferred2',\n",
       " 'How date inferred3',\n",
       " 'Ignition cause1',\n",
       " 'Ignition cause2',\n",
       " 'Ignition cause3',\n",
       " 'Scorch hgt (m) min',\n",
       " 'Scorch hgt (m) mas',\n",
       " 'Scorch hgt (m) mode',\n",
       " '% Tree foliage scorch',\n",
       " \"% Tree foliage c'sume\",\n",
       " '% Shb foliage scorch',\n",
       " \"% Shb foliage c'sume\",\n",
       " '% Herb layer foliage scorch',\n",
       " \"% Herb layer foliage c'sume\",\n",
       " 'Twig diam (mm) 1',\n",
       " 'Twig diam (mm) 2',\n",
       " 'Twig diam (mm) 3',\n",
       " 'Twig diam (mm) 4',\n",
       " 'Twig diam (mm) 5',\n",
       " 'Twig diam (mm) 6',\n",
       " 'Twig diam (mm) 7',\n",
       " 'Twig diam (mm) 8',\n",
       " 'Twig diam (mm) 9',\n",
       " 'Twig diam (mm) 10',\n",
       " 'Peat depth burnt (cm)',\n",
       " 'Peat extent burnt %quad',\n",
       " 'Peat extent unburnt %quad']"
      ]
     },
     "execution_count": 18,
     "metadata": {},
     "output_type": "execute_result"
    }
   ],
   "source": [
    "filename='SthnNSWRF_data_bionet2.xlsx'\n",
    "worksheet='Fire'\n",
    "wbindex[filename][worksheet][0]"
   ]
  },
  {
   "cell_type": "code",
   "execution_count": 19,
   "id": "d10e65ce-82ce-49a8-a36f-0a444855b3f1",
   "metadata": {},
   "outputs": [
    {
     "data": {
      "text/plain": [
       "33"
      ]
     },
     "execution_count": 19,
     "metadata": {},
     "output_type": "execute_result"
    }
   ],
   "source": [
    "len(wbindex[filename][worksheet][0])"
   ]
  },
  {
   "cell_type": "code",
   "execution_count": 20,
   "id": "4036865e-4c40-442d-b175-179050e3312e",
   "metadata": {},
   "outputs": [],
   "source": [
    "col_def={'visit_id':1, 'visit_date':34, 'scorch height':(14,12,13),\n",
    "         'tree foliage biomass consumed':(16,), \n",
    "         'shrub foliage biomass consumed':(18,), \n",
    "         'ground foliage biomass consumed':(20,),\n",
    "        'tree foliage scorch':(15,), \n",
    "         'shrub foliage scorch':(17,), \n",
    "         'herb foliage scorch':(19,)}"
   ]
  },
  {
   "cell_type": "code",
   "execution_count": 21,
   "id": "db06dd2b-a269-4513-adfd-ad20497967a8",
   "metadata": {},
   "outputs": [],
   "source": [
    "records=read_fire_intensity(inputdir,filename,worksheet,col_def)"
   ]
  },
  {
   "cell_type": "code",
   "execution_count": 22,
   "id": "da3db18e-cdc1-43f2-b14e-547cd5b29980",
   "metadata": {},
   "outputs": [
    {
     "data": {
      "text/plain": [
       "{'visit_id': 'UppClyde1',\n",
       " 'visit_date': datetime.date(2021, 11, 29),\n",
       " 'measured_var': 'tree foliage biomass consumed',\n",
       " 'units': '%',\n",
       " 'best': 0}"
      ]
     },
     "execution_count": 22,
     "metadata": {},
     "output_type": "execute_result"
    }
   ],
   "source": [
    "records[1]"
   ]
  },
  {
   "cell_type": "code",
   "execution_count": 23,
   "id": "eead3521-2f1e-4111-93e7-b03c660da1d1",
   "metadata": {},
   "outputs": [
    {
     "name": "stdout",
     "output_type": "stream",
     "text": [
      "Connecting to the PostgreSQL database...\n",
      "45 rows updated\n",
      "{}\n",
      "Database connection closed.\n"
     ]
    }
   ],
   "source": [
    "batch_upsert(params,\"form.field_visit_vegetation_estimates\",records,\n",
    "             keycol=('visit_id','visit_date','measured_var'), \n",
    "             idx='field_visit_vegetation_estimates_pkey',execute=True)\n"
   ]
  },
  {
   "cell_type": "markdown",
   "id": "dd353802-5c0c-4865-b867-2c64faed9014",
   "metadata": {
    "tags": []
   },
   "source": [
    "#### Upland Basalt\n",
    "Added a column for `Visit date` from the `Site` worksheet, changed date format to match the day/month/year format"
   ]
  },
  {
   "cell_type": "code",
   "execution_count": 24,
   "id": "92fc9a7f-06a2-40be-8ab6-6a66c32cc5e1",
   "metadata": {},
   "outputs": [],
   "source": [
    "filename='UNSWFireVegResponse_UplandBasalt_AlexThomsen+DK.xlsx'\n",
    "#wbindex[filename][worksheet][0]"
   ]
  },
  {
   "cell_type": "code",
   "execution_count": 25,
   "id": "086caff9-b7fd-4c91-bb4b-8615ce9a3927",
   "metadata": {},
   "outputs": [],
   "source": [
    "col_def={'visit_id':1, 'visit_date':3, 'scorch height':(15,13,14),\n",
    "         'tree foliage biomass consumed':(17,), \n",
    "         'shrub foliage biomass consumed':(19,), \n",
    "         'ground foliage biomass consumed':(21,),\n",
    "        'tree foliage scorch':(16,), \n",
    "         'shrub foliage scorch':(18,), \n",
    "         'herb foliage scorch':(20,)}"
   ]
  },
  {
   "cell_type": "code",
   "execution_count": 26,
   "id": "ff756afd-833a-49d3-8c52-4441469f4851",
   "metadata": {},
   "outputs": [],
   "source": [
    "records=read_fire_intensity(inputdir,filename,worksheet,col_def)"
   ]
  },
  {
   "cell_type": "code",
   "execution_count": 27,
   "id": "0de1da9e-e375-4f0b-b8a8-479a051f2634",
   "metadata": {
    "tags": []
   },
   "outputs": [
    {
     "data": {
      "text/plain": [
       "[{'visit_id': 'CRC09B7U',\n",
       "  'visit_date': datetime.date(2021, 2, 3),\n",
       "  'measured_var': 'scorch height',\n",
       "  'units': 'm',\n",
       "  'best': 5,\n",
       "  'lower': 2,\n",
       "  'upper': 10},\n",
       " {'visit_id': 'CRC09B7U',\n",
       "  'visit_date': datetime.date(2021, 2, 3),\n",
       "  'measured_var': 'tree foliage biomass consumed',\n",
       "  'units': '%',\n",
       "  'best': 10},\n",
       " {'visit_id': 'CRC09B7U',\n",
       "  'visit_date': datetime.date(2021, 2, 3),\n",
       "  'measured_var': 'shrub foliage biomass consumed',\n",
       "  'units': '%'},\n",
       " {'visit_id': 'CRC09B7U',\n",
       "  'visit_date': datetime.date(2021, 2, 3),\n",
       "  'measured_var': 'ground foliage biomass consumed',\n",
       "  'units': '%',\n",
       "  'best': 100},\n",
       " {'visit_id': 'CRC09B7U',\n",
       "  'visit_date': datetime.date(2021, 2, 3),\n",
       "  'measured_var': 'tree foliage scorch',\n",
       "  'units': '%',\n",
       "  'best': 5},\n",
       " {'visit_id': 'CRC09B7U',\n",
       "  'visit_date': datetime.date(2021, 2, 3),\n",
       "  'measured_var': 'shrub foliage scorch',\n",
       "  'units': '%'},\n",
       " {'visit_id': 'CRC09B7U',\n",
       "  'visit_date': datetime.date(2021, 2, 3),\n",
       "  'measured_var': 'herb foliage scorch',\n",
       "  'units': '%',\n",
       "  'best': 0},\n",
       " {'visit_id': 'CRC09B7U',\n",
       "  'visit_date': datetime.date(2021, 2, 3),\n",
       "  'measured_var': 'herb foliage scorch',\n",
       "  'units': '%',\n",
       "  'best': 0},\n",
       " {'visit_id': 'CRC09B7U',\n",
       "  'visit_date': datetime.date(2021, 2, 3),\n",
       "  'measured_var': 'herb foliage scorch',\n",
       "  'units': '%',\n",
       "  'best': 0}]"
      ]
     },
     "execution_count": 27,
     "metadata": {},
     "output_type": "execute_result"
    }
   ],
   "source": [
    "records[0:9]"
   ]
  },
  {
   "cell_type": "code",
   "execution_count": 28,
   "id": "8faf6677-4b0c-4791-96e0-28b9715eb022",
   "metadata": {},
   "outputs": [
    {
     "name": "stdout",
     "output_type": "stream",
     "text": [
      "Connecting to the PostgreSQL database...\n",
      "252 rows updated\n",
      "{}\n",
      "Database connection closed.\n"
     ]
    }
   ],
   "source": [
    "batch_upsert(params,\"form.field_visit_vegetation_estimates\",records,\n",
    "             keycol=('visit_id','visit_date','measured_var'), \n",
    "             idx='field_visit_vegetation_estimates_pkey',execute=True)\n",
    "\n"
   ]
  },
  {
   "cell_type": "markdown",
   "id": "65068c8c-4809-44bd-9af0-343ed1deb397",
   "metadata": {},
   "source": [
    "This one also has twig diameter measurements:"
   ]
  },
  {
   "cell_type": "code",
   "execution_count": 29,
   "id": "3dead8c7-402c-400b-80e7-cbab2d66ca02",
   "metadata": {},
   "outputs": [],
   "source": [
    "col_def={'visit_id':1, 'visit_date':3, 'twig diameter':range(23,33)}"
   ]
  },
  {
   "cell_type": "code",
   "execution_count": 30,
   "id": "511d7e64-f08f-441a-b325-10d9d9a52f63",
   "metadata": {},
   "outputs": [],
   "source": [
    "records=read_twig_diameters(inputdir,filename,worksheet,col_def)"
   ]
  },
  {
   "cell_type": "code",
   "execution_count": 31,
   "id": "a859ced3-47fe-4857-a43a-153ea60b2534",
   "metadata": {},
   "outputs": [
    {
     "data": {
      "text/plain": [
       "109"
      ]
     },
     "execution_count": 31,
     "metadata": {},
     "output_type": "execute_result"
    }
   ],
   "source": [
    "len(records)"
   ]
  },
  {
   "cell_type": "code",
   "execution_count": 32,
   "id": "5348a93b-658f-4458-a534-25412cd11760",
   "metadata": {},
   "outputs": [
    {
     "data": {
      "text/plain": [
       "{'visit_id': 'CRC09B7U',\n",
       " 'visit_date': datetime.date(2021, 2, 3),\n",
       " 'measured_variable': 'twig diameter',\n",
       " 'units': 'mm',\n",
       " 'single_value': 0.45}"
      ]
     },
     "execution_count": 32,
     "metadata": {},
     "output_type": "execute_result"
    }
   ],
   "source": [
    "records[0]"
   ]
  },
  {
   "cell_type": "code",
   "execution_count": 33,
   "id": "451b28bf-5936-4db2-8889-91f63291cc26",
   "metadata": {},
   "outputs": [
    {
     "name": "stdout",
     "output_type": "stream",
     "text": [
      "Connecting to the PostgreSQL database...\n",
      "109 rows updated\n",
      "{}\n",
      "Database connection closed.\n"
     ]
    }
   ],
   "source": [
    "batch_upsert(params,\"form.field_visit_vegetation_raw_values\",records,\n",
    "             keycol=('visit_id','visit_date','measured_variable'), \n",
    "             idx=None,execute=True)\n"
   ]
  },
  {
   "cell_type": "markdown",
   "id": "6bd8308d-21f9-46c3-9961-6c94c0ba197e",
   "metadata": {
    "tags": []
   },
   "source": [
    "#### NE NSW / SE Qld Rainforest\n",
    "Added a column for date of sampling and changed date format"
   ]
  },
  {
   "cell_type": "code",
   "execution_count": 87,
   "id": "9e23e193-5fe9-43c4-ba02-010cd692b9b0",
   "metadata": {
    "tags": []
   },
   "outputs": [
    {
     "name": "stdout",
     "output_type": "stream",
     "text": [
      "UNSW_VegFireResponse_RMK_reformat_Sep2021a.xlsx\n"
     ]
    },
    {
     "data": {
      "text/plain": [
       "['Site',\n",
       " 'Replicate',\n",
       " 'Date of samping',\n",
       " 'Date of last fire dd/mm/yyyy',\n",
       " 'Date of penultimate fire',\n",
       " 'Date of earlier fire',\n",
       " 'How date inferred1',\n",
       " 'How date inferred2',\n",
       " 'How date inferred3',\n",
       " 'Ignition cause1',\n",
       " 'Ignition cause2',\n",
       " 'Ignition cause3',\n",
       " 'Scorch hgt (m)',\n",
       " '% Tree foliage scorch',\n",
       " \"% Tree foliage c'sume\",\n",
       " '% Shb foliage scorch',\n",
       " \"% Shb foliage c'sume\",\n",
       " '% Herb layer foliage scorch',\n",
       " \"% Herb layer foliage c'sume\",\n",
       " 'Twig diam (mm) 1',\n",
       " 'Twig diam (mm) 2',\n",
       " 'Twig diam (mm) 3',\n",
       " 'Twig diam (mm) 4',\n",
       " 'Twig diam (mm) 5',\n",
       " 'Twig diam (mm) 6',\n",
       " 'Twig diam (mm) 7',\n",
       " 'Twig diam (mm) 8',\n",
       " 'Twig diam (mm) 9',\n",
       " 'Twig diam (mm) 10',\n",
       " 'Peat depth burnt (cm)',\n",
       " 'Peat extent burnt %quad']"
      ]
     },
     "execution_count": 87,
     "metadata": {},
     "output_type": "execute_result"
    }
   ],
   "source": [
    "filename=valid_files[2]\n",
    "print(filename)\n",
    "worksheet='Fire'\n",
    "wbindex[filename][worksheet][0]"
   ]
  },
  {
   "cell_type": "code",
   "execution_count": 88,
   "id": "35fbd905-2689-416f-8f97-59ba6eb75a3b",
   "metadata": {},
   "outputs": [],
   "source": [
    "col_def={'visit_id':1, 'visit_date':3, 'scorch height':(13,),\n",
    "         'tree foliage biomass consumed':(15,), \n",
    "         'shrub foliage biomass consumed':(17,), \n",
    "         'ground foliage biomass consumed':(19,),\n",
    "        'tree foliage scorch':(14,), \n",
    "         'shrub foliage scorch':(16,), \n",
    "         'herb foliage scorch':(18,),\n",
    "        'peat extent burnt':(31,),\n",
    "        'peat depth burnt':(30,)}"
   ]
  },
  {
   "cell_type": "code",
   "execution_count": 89,
   "id": "cacabafe-7685-435c-9dff-b7a2d8a06464",
   "metadata": {},
   "outputs": [],
   "source": [
    "records=read_fire_intensity(inputdir,filename,worksheet,col_def)"
   ]
  },
  {
   "cell_type": "code",
   "execution_count": 90,
   "id": "b8110f19-a41c-4f33-9edf-732bdf027776",
   "metadata": {},
   "outputs": [
    {
     "data": {
      "text/plain": [
       "153"
      ]
     },
     "execution_count": 90,
     "metadata": {},
     "output_type": "execute_result"
    }
   ],
   "source": [
    "len(records)\n",
    "#records[0:2]"
   ]
  },
  {
   "cell_type": "code",
   "execution_count": 91,
   "id": "7cd9bbf4-d863-450b-8ac5-ce22555c9260",
   "metadata": {},
   "outputs": [
    {
     "name": "stdout",
     "output_type": "stream",
     "text": [
      "Connecting to the PostgreSQL database...\n",
      "153 rows updated\n",
      "{}\n",
      "Database connection closed.\n"
     ]
    }
   ],
   "source": [
    "batch_upsert(params,\"form.field_visit_vegetation_estimates\",records,\n",
    "             keycol=('visit_id','visit_date','measured_var'), \n",
    "             idx='field_visit_vegetation_estimates_pkey',execute=True)"
   ]
  },
  {
   "cell_type": "code",
   "execution_count": 39,
   "id": "edee7fbf-16ad-4c49-a4d5-c7925e2a7623",
   "metadata": {},
   "outputs": [],
   "source": [
    "col_def={'visit_id':1, 'visit_date':3, 'twig diameter':range(20,30)}\n",
    "records=read_twig_diameters(inputdir,filename,worksheet,col_def)"
   ]
  },
  {
   "cell_type": "code",
   "execution_count": 40,
   "id": "7ed8599d-6754-4890-b0e5-8a64c8b0fe40",
   "metadata": {},
   "outputs": [
    {
     "data": {
      "text/plain": [
       "160"
      ]
     },
     "execution_count": 40,
     "metadata": {},
     "output_type": "execute_result"
    }
   ],
   "source": [
    "len(records)"
   ]
  },
  {
   "cell_type": "code",
   "execution_count": 41,
   "id": "3cdd79e9-ae54-448e-b095-ba231f351ed6",
   "metadata": {},
   "outputs": [
    {
     "name": "stdout",
     "output_type": "stream",
     "text": [
      "Connecting to the PostgreSQL database...\n",
      "160 rows updated\n",
      "{}\n",
      "Database connection closed.\n"
     ]
    }
   ],
   "source": [
    "batch_upsert(params,\"form.field_visit_vegetation_raw_values\",records,\n",
    "             keycol=('visit_id','visit_date','measured_variable'), \n",
    "             idx=None,execute=True)"
   ]
  },
  {
   "cell_type": "markdown",
   "id": "426e7644-307d-4581-a598-8f62d8ffd74d",
   "metadata": {
    "jp-MarkdownHeadingCollapsed": true,
    "tags": []
   },
   "source": [
    "#### Yatteyattah\n",
    "Add a column for the visit date and changed the date format"
   ]
  },
  {
   "cell_type": "code",
   "execution_count": 61,
   "id": "06161e3d-9000-41df-90a5-e9206ef60668",
   "metadata": {},
   "outputs": [
    {
     "data": {
      "text/plain": [
       "['Site',\n",
       " 'Date of last fire dd/mm/yyyy',\n",
       " 'Date of penultimate fire',\n",
       " 'Date of earlier fire',\n",
       " 'How date inferred1',\n",
       " 'How date inferred2',\n",
       " 'How date inferred3',\n",
       " 'Ignition cause1',\n",
       " 'Ignition cause2',\n",
       " 'Ignition cause3',\n",
       " 'Scorch hgt (m)',\n",
       " '% Tree foliage scorch',\n",
       " \"% Tree foliage c'sume\",\n",
       " '% Shb foliage scorch',\n",
       " \"% Shb foliage c'sume\",\n",
       " '% Herb layer foliage scorch',\n",
       " \"% Herb layer foliage c'sume\",\n",
       " 'Twig diam (mm) 1',\n",
       " 'Twig diam (mm) 2',\n",
       " 'Twig diam (mm) 3',\n",
       " 'Twig diam (mm) 4',\n",
       " 'Twig diam (mm) 5',\n",
       " 'Twig diam (mm) 6',\n",
       " 'Twig diam (mm) 7',\n",
       " 'Twig diam (mm) 8',\n",
       " 'Twig diam (mm) 9',\n",
       " 'Twig diam (mm) 10',\n",
       " 'Peat depth burnt (cm)',\n",
       " 'Peat extent burnt %quad']"
      ]
     },
     "execution_count": 61,
     "metadata": {},
     "output_type": "execute_result"
    }
   ],
   "source": [
    "filename='UNSW_VegFireResponse_DataEntry_Yatteyattah all +DK +Milton_revisedfields_Mar2022.xlsx'\n",
    "wbindex[filename][worksheet][0]"
   ]
  },
  {
   "cell_type": "code",
   "execution_count": 62,
   "id": "43d3bae6-ba08-4a1f-b2fa-fee0be8b57f3",
   "metadata": {},
   "outputs": [],
   "source": [
    "col_def={'visit_id':1, 'visit_date':2, 'scorch height':(12,),\n",
    "         'tree foliage biomass consumed':(14,), \n",
    "         'shrub foliage biomass consumed':(16,), \n",
    "         'ground foliage biomass consumed':(18,),\n",
    "        'tree foliage scorch':(13,), \n",
    "         'shrub foliage scorch':(15,), \n",
    "         'herb foliage scorch':(17,)}"
   ]
  },
  {
   "cell_type": "code",
   "execution_count": 63,
   "id": "8fbc5a5f-d826-40bd-9685-885ad2a52591",
   "metadata": {},
   "outputs": [
    {
     "data": {
      "text/plain": [
       "{'visit_id': 1,\n",
       " 'visit_date': 2,\n",
       " 'scorch height': (12,),\n",
       " 'tree foliage biomass consumed': (14,),\n",
       " 'shrub foliage biomass consumed': (16,),\n",
       " 'ground foliage biomass consumed': (18,),\n",
       " 'tree foliage scorch': (13,),\n",
       " 'shrub foliage scorch': (15,),\n",
       " 'herb foliage scorch': (17,)}"
      ]
     },
     "execution_count": 63,
     "metadata": {},
     "output_type": "execute_result"
    }
   ],
   "source": [
    "col_def"
   ]
  },
  {
   "cell_type": "code",
   "execution_count": 66,
   "id": "d33a21aa-13a8-41f0-af3f-da454f834c10",
   "metadata": {},
   "outputs": [],
   "source": [
    "records=read_fire_intensity(inputdir,filename,worksheet,col_def)"
   ]
  },
  {
   "cell_type": "code",
   "execution_count": 67,
   "id": "ecaadc9b-c260-4913-8591-581dd4b33604",
   "metadata": {},
   "outputs": [
    {
     "data": {
      "text/plain": [
       "[{'visit_id': 'SCCJB37-Near',\n",
       "  'visit_date': datetime.date(2020, 7, 12),\n",
       "  'measured_var': 'scorch height',\n",
       "  'units': 'm',\n",
       "  'best': 3},\n",
       " {'visit_id': 'SCCJB37-Near',\n",
       "  'visit_date': datetime.date(2020, 7, 12),\n",
       "  'measured_var': 'tree foliage biomass consumed',\n",
       "  'units': '%'}]"
      ]
     },
     "execution_count": 67,
     "metadata": {},
     "output_type": "execute_result"
    }
   ],
   "source": [
    "len(records)\n",
    "records[0:2]"
   ]
  },
  {
   "cell_type": "code",
   "execution_count": 68,
   "id": "bc354913-c698-4708-91a5-b63ae5c0ac42",
   "metadata": {},
   "outputs": [
    {
     "name": "stdout",
     "output_type": "stream",
     "text": [
      "Connecting to the PostgreSQL database...\n",
      "63 rows updated\n",
      "{}\n",
      "Database connection closed.\n"
     ]
    }
   ],
   "source": [
    "batch_upsert(params,\"form.field_visit_vegetation_estimates\",records,\n",
    "             keycol=('visit_id','visit_date','measured_var'), \n",
    "             idx='field_visit_vegetation_estimates_pkey',execute=True)"
   ]
  },
  {
   "cell_type": "code",
   "execution_count": 69,
   "id": "67c54b74-b4f2-47a1-a397-5c9576025a1e",
   "metadata": {},
   "outputs": [],
   "source": [
    "col_def={'visit_id':1, 'visit_date':2, 'twig diameter':range(19,29)}\n",
    "records=read_twig_diameters(inputdir,filename,worksheet,col_def)"
   ]
  },
  {
   "cell_type": "code",
   "execution_count": 70,
   "id": "c3dd9603-f085-45dc-945d-ed2ebbae3ef9",
   "metadata": {},
   "outputs": [
    {
     "data": {
      "text/plain": [
       "70"
      ]
     },
     "execution_count": 70,
     "metadata": {},
     "output_type": "execute_result"
    }
   ],
   "source": [
    "len(records)"
   ]
  },
  {
   "cell_type": "code",
   "execution_count": 71,
   "id": "9ec3621b-3c07-46dc-81a5-b2eeafd409e7",
   "metadata": {},
   "outputs": [
    {
     "name": "stdout",
     "output_type": "stream",
     "text": [
      "Connecting to the PostgreSQL database...\n",
      "70 rows updated\n",
      "{}\n",
      "Database connection closed.\n"
     ]
    }
   ],
   "source": [
    "batch_upsert(params,\"form.field_visit_vegetation_raw_values\",records,\n",
    "             keycol=('visit_id','visit_date','measured_variable'), \n",
    "             idx=None,execute=True)"
   ]
  },
  {
   "cell_type": "markdown",
   "id": "9e081d90-b17c-4ee1-8dea-7705de69129b",
   "metadata": {
    "tags": []
   },
   "source": [
    "#### Alpine Ash\n",
    "Information about fire history and fire intensity are incomplete in this file"
   ]
  },
  {
   "cell_type": "code",
   "execution_count": 72,
   "id": "574956ff-b00a-44ee-8539-a1c9c1b979b2",
   "metadata": {},
   "outputs": [
    {
     "data": {
      "text/plain": [
       "'UNSW_VegFireResponse_KNP AlpAsh_firehistupdate.xlsx'"
      ]
     },
     "execution_count": 72,
     "metadata": {},
     "output_type": "execute_result"
    }
   ],
   "source": [
    "valid_files[4]"
   ]
  },
  {
   "cell_type": "markdown",
   "id": "c96f2bce-0f62-4dec-93e4-5362d9cb8973",
   "metadata": {},
   "source": [
    "#### Alpine Bogs"
   ]
  },
  {
   "cell_type": "code",
   "execution_count": 77,
   "id": "71ea8fe0-3082-41bd-9636-0c25ead18386",
   "metadata": {},
   "outputs": [
    {
     "name": "stdout",
     "output_type": "stream",
     "text": [
      "UNSW_VegFireResponse_AlpineBogs_reformat_Sep2021.xlsx\n"
     ]
    }
   ],
   "source": [
    "filename=valid_files[5]\n",
    "print(filename)\n",
    "worksheet='Fire'"
   ]
  },
  {
   "cell_type": "code",
   "execution_count": 78,
   "id": "877d3db7-c02d-40f2-9871-85561d0826ad",
   "metadata": {},
   "outputs": [],
   "source": [
    "col_def={'visit_id':1, 'visit_date':3, \n",
    "         'shrub foliage biomass consumed':(17,), \n",
    "         'ground foliage biomass consumed':(19,),\n",
    "        'peat extent burnt':(31,),\n",
    "        'peat depth burnt':(30,)}"
   ]
  },
  {
   "cell_type": "code",
   "execution_count": 81,
   "id": "9cdb6b66-4ee9-48a9-82a8-1180686a8092",
   "metadata": {},
   "outputs": [],
   "source": [
    "records=read_fire_intensity(inputdir,filename,worksheet,col_def)"
   ]
  },
  {
   "cell_type": "code",
   "execution_count": 82,
   "id": "53623d86-6a08-42f4-8221-fd9e76e09c34",
   "metadata": {},
   "outputs": [
    {
     "data": {
      "text/plain": [
       "24"
      ]
     },
     "execution_count": 82,
     "metadata": {},
     "output_type": "execute_result"
    }
   ],
   "source": [
    "len(records)"
   ]
  },
  {
   "cell_type": "code",
   "execution_count": 83,
   "id": "86e54454-43cb-4ab0-b721-653c9dcb4257",
   "metadata": {},
   "outputs": [
    {
     "name": "stdout",
     "output_type": "stream",
     "text": [
      "Connecting to the PostgreSQL database...\n",
      "24 rows updated\n",
      "{}\n",
      "Database connection closed.\n"
     ]
    }
   ],
   "source": [
    "batch_upsert(params,\"form.field_visit_vegetation_estimates\",records,\n",
    "             keycol=('visit_id','visit_date','measured_var'), \n",
    "             idx='field_visit_vegetation_estimates_pkey',execute=True)\n"
   ]
  },
  {
   "cell_type": "code",
   "execution_count": 84,
   "id": "86efc3db-ebd4-4299-bb71-8e060fa15ae8",
   "metadata": {},
   "outputs": [],
   "source": [
    "col_def={'visit_id':1, 'visit_date':3, 'twig diameter':range(20,30)}\n",
    "records=read_twig_diameters(inputdir,filename,worksheet,col_def)"
   ]
  },
  {
   "cell_type": "code",
   "execution_count": 86,
   "id": "bfced836-6347-40b8-9c3f-22e5858d86f9",
   "metadata": {},
   "outputs": [
    {
     "name": "stdout",
     "output_type": "stream",
     "text": [
      "Connecting to the PostgreSQL database...\n",
      "60 rows updated\n",
      "{}\n",
      "Database connection closed.\n"
     ]
    }
   ],
   "source": [
    "len(records)\n",
    "batch_upsert(params,\"form.field_visit_vegetation_raw_values\",records,\n",
    "             keycol=('visit_id','visit_date','measured_variable'), \n",
    "             idx=None,execute=True)"
   ]
  },
  {
   "cell_type": "markdown",
   "id": "8b14cb96-a523-4375-9832-6d7bdec4927c",
   "metadata": {},
   "source": [
    "#### Robertson RF"
   ]
  },
  {
   "cell_type": "code",
   "execution_count": 93,
   "id": "791ffa06-f870-46e8-9c1e-bc94c0475898",
   "metadata": {},
   "outputs": [
    {
     "name": "stdout",
     "output_type": "stream",
     "text": [
      "RobertsonRF_data_bionet2.xlsx\n"
     ]
    }
   ],
   "source": [
    "filename=valid_files[6]\n",
    "print(filename)\n"
   ]
  },
  {
   "cell_type": "code",
   "execution_count": 94,
   "id": "c06c248b-6e29-44b9-a37c-7cbd31952e10",
   "metadata": {},
   "outputs": [],
   "source": [
    "col_def={'visit_id':1, 'visit_date':3, 'scorch height':(15,13,14),\n",
    "         'tree foliage biomass consumed':(17,), \n",
    "         'shrub foliage biomass consumed':(19,), \n",
    "         'ground foliage biomass consumed':(21,),\n",
    "        'tree foliage scorch':(16,), \n",
    "         'shrub foliage scorch':(18,), \n",
    "         'herb foliage scorch':(20,),\n",
    "         'peat extent burnt':(33,),\n",
    "        'peat depth burnt':(32,)}"
   ]
  },
  {
   "cell_type": "code",
   "execution_count": 97,
   "id": "7929cc39-957b-45d0-815c-ca2f1fa5bf69",
   "metadata": {},
   "outputs": [],
   "source": [
    "records=read_fire_intensity(inputdir,filename,worksheet,col_def)"
   ]
  },
  {
   "cell_type": "code",
   "execution_count": 98,
   "id": "bbe1ba24-0861-4a13-a044-76f9c690f3f4",
   "metadata": {},
   "outputs": [
    {
     "name": "stdout",
     "output_type": "stream",
     "text": [
      "Connecting to the PostgreSQL database...\n",
      "18 rows updated\n",
      "{}\n",
      "Database connection closed.\n"
     ]
    }
   ],
   "source": [
    "batch_upsert(params,\"form.field_visit_vegetation_estimates\",records,\n",
    "             keycol=('visit_id','visit_date','measured_var'), \n",
    "             idx='field_visit_vegetation_estimates_pkey',execute=True)\n"
   ]
  },
  {
   "cell_type": "code",
   "execution_count": 99,
   "id": "309107d3-6d81-4f3e-a42a-c0edabfa3877",
   "metadata": {},
   "outputs": [],
   "source": [
    "col_def={'visit_id':1, 'visit_date':3, 'twig diameter':range(22,32)}\n",
    "records=read_twig_diameters(inputdir,filename,worksheet,col_def)"
   ]
  },
  {
   "cell_type": "code",
   "execution_count": 101,
   "id": "bc77ec43-da89-4b42-9c89-261c8366f9ec",
   "metadata": {},
   "outputs": [
    {
     "name": "stdout",
     "output_type": "stream",
     "text": [
      "Connecting to the PostgreSQL database...\n",
      "20 rows updated\n",
      "{}\n",
      "Database connection closed.\n"
     ]
    }
   ],
   "source": [
    "len(records)\n",
    "batch_upsert(params,\"form.field_visit_vegetation_raw_values\",records,\n",
    "             keycol=('visit_id','visit_date','measured_variable'), \n",
    "             idx=None,execute=True)"
   ]
  },
  {
   "cell_type": "code",
   "execution_count": null,
   "id": "304c53b5-b377-496b-bb5d-5800129fe6cc",
   "metadata": {},
   "outputs": [],
   "source": []
  }
 ],
 "metadata": {
  "kernelspec": {
   "display_name": "Python 3 (ipykernel)",
   "language": "python",
   "name": "python3"
  },
  "language_info": {
   "codemirror_mode": {
    "name": "ipython",
    "version": 3
   },
   "file_extension": ".py",
   "mimetype": "text/x-python",
   "name": "python",
   "nbconvert_exporter": "python",
   "pygments_lexer": "ipython3",
   "version": "3.11.3"
  }
 },
 "nbformat": 4,
 "nbformat_minor": 5
}
