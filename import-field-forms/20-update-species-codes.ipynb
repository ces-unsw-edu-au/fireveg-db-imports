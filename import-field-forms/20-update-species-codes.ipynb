{
 "cells": [
  {
   "cell_type": "markdown",
   "id": "476b5df0-bd15-434e-bf8a-e7b9487cab83",
   "metadata": {},
   "source": [
    "# Fireveg DB imports -- import field work forms\n",
    "\n",
    "Author: [José R. Ferrer-Paris](https://github.com/jrfep)\n",
    "\n",
    "Date: February 2022, updated 19 August 2024\n",
    "\n",
    "This Jupyter Notebook includes [Python](https://www.python.org) code to update species records from the field samples.\n",
    "\n",
    "**Please note:**\n",
    "<div class=\"alert alert-warning\">\n",
    "    This repository contains code that is intended for internal project management and is documented for the sake of reproducibility.<br/>\n",
    "    🛂 Only users contributing directly to the project have access to the credentials for data download/upload. \n",
    "</div>"
   ]
  },
  {
   "cell_type": "markdown",
   "id": "5bed00b9-10d8-4b7a-baed-966d8e7c37b1",
   "metadata": {},
   "source": [
    "## Set-up\n",
    "### Load libraries "
   ]
  },
  {
   "cell_type": "code",
   "execution_count": 1,
   "id": "c5ec7c42-b9e9-4027-9514-b3a3dce8e73a",
   "metadata": {},
   "outputs": [],
   "source": [
    "import openpyxl\n",
    "from pathlib import Path\n",
    "import os,sys\n",
    "from datetime import datetime\n",
    "from configparser import ConfigParser\n",
    "import psycopg2\n",
    "from psycopg2.extensions import AsIs\n",
    "import pyprojroot\n",
    "import re\n",
    "import pandas as pd\n",
    "\n",
    "import pyprojroot"
   ]
  },
  {
   "cell_type": "markdown",
   "id": "9198ca4f-cb90-4625-8bbd-68f0d413db92",
   "metadata": {},
   "source": [
    "### Define paths for input and output"
   ]
  },
  {
   "cell_type": "code",
   "execution_count": 2,
   "id": "bc6f7ebc-5724-4512-a62d-841d8fc2daa9",
   "metadata": {},
   "outputs": [],
   "source": [
    "repodir = pyprojroot.find_root(pyprojroot.has_dir(\".git\"))\n",
    "sys.path.append(str(repodir))"
   ]
  },
  {
   "cell_type": "markdown",
   "id": "3f85dd78-a1cc-4012-976a-227dd47783c5",
   "metadata": {},
   "source": [
    "### Load own functions"
   ]
  },
  {
   "cell_type": "markdown",
   "id": "e4feb6fc-bfb0-4f2d-a81a-e57e51fed284",
   "metadata": {},
   "source": [
    "Load functions from `lib` folder, we will use a function to read db credentials and one for batch insert and updates:"
   ]
  },
  {
   "cell_type": "code",
   "execution_count": 3,
   "id": "ea7d6ea9-5aa9-44f5-a7bb-eff6281d197b",
   "metadata": {},
   "outputs": [],
   "source": [
    "from lib.parseparams import read_dbparams\n",
    "from lib.firevegdb import dbquery"
   ]
  },
  {
   "cell_type": "code",
   "execution_count": null,
   "id": "70987aa4-5f9b-4660-ba1b-086c890d493b",
   "metadata": {},
   "outputs": [],
   "source": []
  },
  {
   "cell_type": "markdown",
   "id": "a5a75b68-4dd6-46aa-bd3a-e0c3414a3669",
   "metadata": {},
   "source": [
    "### Database credentials\n",
    "\n",
    "🤫 We use a folder named \"secrets\" to keep the credentials for connection to different services (database credentials, API keys, etc). This checked this folder in our `.gitignore` so that its content are not tracked by git and not exposed. Future users need to copy the contents of this folder manually.\n",
    "\n",
    "We read database credentials stored in a `database.ini` file using our own `read_dbparams` function."
   ]
  },
  {
   "cell_type": "code",
   "execution_count": 4,
   "id": "5eb03424-d9ce-4e62-9fff-491cb591adc9",
   "metadata": {},
   "outputs": [],
   "source": [
    "dbparams = read_dbparams(repodir / 'secrets' / 'database.ini', \n",
    "                         section='fireveg-db-v1.1')"
   ]
  },
  {
   "cell_type": "markdown",
   "id": "624c15ce-c2cd-4133-a0df-6bf3ab2c47b8",
   "metadata": {},
   "source": [
    "## Query species recorded in field work\n",
    "Check the species with more records (sites, visits and samples)"
   ]
  },
  {
   "cell_type": "code",
   "execution_count": 5,
   "id": "8150ce69-f3ea-4437-82e3-76aa5adaaf3d",
   "metadata": {},
   "outputs": [],
   "source": [
    "qry=\"\"\"\n",
    "select species,species_code,\n",
    "count(distinct visit_id) as sites,\n",
    "count(distinct (visit_id,visit_date)) as visits,\n",
    "count(distinct (visit_id,visit_date,sample_nr)) as samples,\n",
    "count(distinct record_id) as records\n",
    "from form.quadrat_samples\n",
    "group by species,species_code\n",
    "ORDER BY records DESC;\n",
    "\"\"\""
   ]
  },
  {
   "cell_type": "code",
   "execution_count": 6,
   "id": "3c809ea8-6afd-4df8-ac67-985839f7dc10",
   "metadata": {},
   "outputs": [],
   "source": [
    "res=dbquery(qry,dbparams)"
   ]
  },
  {
   "cell_type": "code",
   "execution_count": 7,
   "id": "32a1677e-1309-418b-8f7c-c16211659ad5",
   "metadata": {},
   "outputs": [
    {
     "data": {
      "text/plain": [
       "1140"
      ]
     },
     "execution_count": 7,
     "metadata": {},
     "output_type": "execute_result"
    }
   ],
   "source": [
    "len(res)"
   ]
  },
  {
   "cell_type": "code",
   "execution_count": 8,
   "id": "71d81f87-72ce-4eeb-bc90-cf78663a6b99",
   "metadata": {},
   "outputs": [
    {
     "data": {
      "text/plain": [
       "[['Triodia scariosa', None, 58, 82, 452, 452],\n",
       " ['Austrostipa scabra', None, 60, 79, 386, 386],\n",
       " ['Empodisma minus', 5532, 21, 21, 334, 335],\n",
       " ['Beyeria opaca', None, 51, 69, 335, 335],\n",
       " ['Sclerolaena diacantha', None, 52, 69, 306, 306],\n",
       " ['Eucalyptus socialis', None, 49, 68, 300, 300],\n",
       " ['Sclerolaena parviflora', None, 44, 61, 271, 271],\n",
       " ['Halgania cyanea', None, 40, 53, 244, 245],\n",
       " ['Chenopodium desertorum subsp. desertorum', None, 40, 52, 220, 220],\n",
       " ['Dodonaea viscosa subsp. angustissima', None, 45, 63, 217, 217]]"
      ]
     },
     "execution_count": 8,
     "metadata": {},
     "output_type": "execute_result"
    }
   ],
   "source": [
    "res[0:10]"
   ]
  },
  {
   "cell_type": "markdown",
   "id": "7fe700ca-0888-4b4b-8eb3-8074d2629415",
   "metadata": {},
   "source": [
    "## Species without species code\n",
    "These records need an update of the species code based on the latest version of the taxonomic information."
   ]
  },
  {
   "cell_type": "code",
   "execution_count": 9,
   "id": "f6433563-bbd8-414a-bcd2-5c38594d6830",
   "metadata": {},
   "outputs": [
    {
     "data": {
      "text/plain": [
       "[[523]]"
      ]
     },
     "execution_count": 9,
     "metadata": {},
     "output_type": "execute_result"
    }
   ],
   "source": [
    "qry = \"\"\"\n",
    "SELECT count(distinct species) \n",
    "FROM form.quadrat_samples \n",
    "WHERE species_code is NULL; \n",
    "\"\"\"\n",
    "dbquery(qry,dbparams)"
   ]
  },
  {
   "cell_type": "markdown",
   "id": "c5a4bc8e-b3c0-487b-aad9-fbecd7214758",
   "metadata": {},
   "source": [
    "Let's try to fix this, first check the updated taxonomic list:"
   ]
  },
  {
   "cell_type": "code",
   "execution_count": 10,
   "id": "89c3b4d4-6f22-4195-9102-98267ae1990c",
   "metadata": {},
   "outputs": [],
   "source": [
    "qry=\"\"\"\n",
    "SELECT \\\"speciesID\\\",\\\"taxonID\\\",\\\"currentScientificNameCode\\\",\\\"scientificName\\\",\n",
    "\"speciesCode_Synonym\"\n",
    "FROM species.bionet\n",
    "WHERE \\\"scientificName\\\" IN \n",
    "(SELECT species FROM form.quadrat_samples where species_code is NULL); \n",
    "\"\"\"\n",
    "res = dbquery(qry,dbparams)\n",
    "\n",
    "colnames=['speciesID','taxonID','currentScientificNameCode','scientificName','speciesCode_Synonym']\n",
    "splist = pd.DataFrame(res,columns=colnames,dtype=object)"
   ]
  },
  {
   "cell_type": "code",
   "execution_count": 11,
   "id": "a30227dd-9b4d-4359-92fa-8b5f9eb676dd",
   "metadata": {},
   "outputs": [],
   "source": [
    "splist[\"taxonID\"] = pd.Series(splist[\"taxonID\"], dtype=int)"
   ]
  },
  {
   "cell_type": "code",
   "execution_count": 12,
   "id": "527d4d41-a011-4622-aa07-7db99011f261",
   "metadata": {},
   "outputs": [
    {
     "data": {
      "text/html": [
       "<div>\n",
       "<style scoped>\n",
       "    .dataframe tbody tr th:only-of-type {\n",
       "        vertical-align: middle;\n",
       "    }\n",
       "\n",
       "    .dataframe tbody tr th {\n",
       "        vertical-align: top;\n",
       "    }\n",
       "\n",
       "    .dataframe thead th {\n",
       "        text-align: right;\n",
       "    }\n",
       "</style>\n",
       "<table border=\"1\" class=\"dataframe\">\n",
       "  <thead>\n",
       "    <tr style=\"text-align: right;\">\n",
       "      <th></th>\n",
       "      <th>speciesID</th>\n",
       "      <th>taxonID</th>\n",
       "      <th>currentScientificNameCode</th>\n",
       "      <th>scientificName</th>\n",
       "      <th>speciesCode_Synonym</th>\n",
       "    </tr>\n",
       "  </thead>\n",
       "  <tbody>\n",
       "    <tr>\n",
       "      <th>0</th>\n",
       "      <td>2363</td>\n",
       "      <td>2363</td>\n",
       "      <td>3484</td>\n",
       "      <td>Cryptocarya obovata</td>\n",
       "      <td>3484</td>\n",
       "    </tr>\n",
       "    <tr>\n",
       "      <th>1</th>\n",
       "      <td>2368</td>\n",
       "      <td>2368</td>\n",
       "      <td>3688</td>\n",
       "      <td>Sarcopetalum harveyanum</td>\n",
       "      <td>3688</td>\n",
       "    </tr>\n",
       "    <tr>\n",
       "      <th>2</th>\n",
       "      <td>2399</td>\n",
       "      <td>2399</td>\n",
       "      <td>7121</td>\n",
       "      <td>Goodenia lunata</td>\n",
       "      <td>7121</td>\n",
       "    </tr>\n",
       "    <tr>\n",
       "      <th>3</th>\n",
       "      <td>2425</td>\n",
       "      <td>2425</td>\n",
       "      <td>6314</td>\n",
       "      <td>Lomandra spicata</td>\n",
       "      <td>6314</td>\n",
       "    </tr>\n",
       "    <tr>\n",
       "      <th>4</th>\n",
       "      <td>2427</td>\n",
       "      <td>2427</td>\n",
       "      <td>2698</td>\n",
       "      <td>Claoxylon australe</td>\n",
       "      <td>2698</td>\n",
       "    </tr>\n",
       "    <tr>\n",
       "      <th>...</th>\n",
       "      <td>...</td>\n",
       "      <td>...</td>\n",
       "      <td>...</td>\n",
       "      <td>...</td>\n",
       "      <td>...</td>\n",
       "    </tr>\n",
       "    <tr>\n",
       "      <th>474</th>\n",
       "      <td>19587</td>\n",
       "      <td>8800</td>\n",
       "      <td>3968</td>\n",
       "      <td>Syzygium smithii</td>\n",
       "      <td>13800</td>\n",
       "    </tr>\n",
       "    <tr>\n",
       "      <th>475</th>\n",
       "      <td>19594</td>\n",
       "      <td>19594</td>\n",
       "      <td>13805</td>\n",
       "      <td>Ackama paniculosa</td>\n",
       "      <td>13805</td>\n",
       "    </tr>\n",
       "    <tr>\n",
       "      <th>477</th>\n",
       "      <td>20250</td>\n",
       "      <td>20250</td>\n",
       "      <td>14253</td>\n",
       "      <td>Eremophila glabra subsp. murrayana</td>\n",
       "      <td>14253</td>\n",
       "    </tr>\n",
       "    <tr>\n",
       "      <th>478</th>\n",
       "      <td>20382</td>\n",
       "      <td>20382</td>\n",
       "      <td>14362</td>\n",
       "      <td>Citrus australis</td>\n",
       "      <td>14362</td>\n",
       "    </tr>\n",
       "    <tr>\n",
       "      <th>479</th>\n",
       "      <td>23753</td>\n",
       "      <td>23753</td>\n",
       "      <td>15147</td>\n",
       "      <td>Olearia phlogopappa subsp. continentalis</td>\n",
       "      <td>15147</td>\n",
       "    </tr>\n",
       "  </tbody>\n",
       "</table>\n",
       "<p>442 rows × 5 columns</p>\n",
       "</div>"
      ],
      "text/plain": [
       "    speciesID  taxonID currentScientificNameCode   \n",
       "0        2363     2363                      3484  \\\n",
       "1        2368     2368                      3688   \n",
       "2        2399     2399                      7121   \n",
       "3        2425     2425                      6314   \n",
       "4        2427     2427                      2698   \n",
       "..        ...      ...                       ...   \n",
       "474     19587     8800                      3968   \n",
       "475     19594    19594                     13805   \n",
       "477     20250    20250                     14253   \n",
       "478     20382    20382                     14362   \n",
       "479     23753    23753                     15147   \n",
       "\n",
       "                               scientificName speciesCode_Synonym  \n",
       "0                         Cryptocarya obovata                3484  \n",
       "1                     Sarcopetalum harveyanum                3688  \n",
       "2                             Goodenia lunata                7121  \n",
       "3                            Lomandra spicata                6314  \n",
       "4                          Claoxylon australe                2698  \n",
       "..                                        ...                 ...  \n",
       "474                          Syzygium smithii               13800  \n",
       "475                         Ackama paniculosa               13805  \n",
       "477        Eremophila glabra subsp. murrayana               14253  \n",
       "478                          Citrus australis               14362  \n",
       "479  Olearia phlogopappa subsp. continentalis               15147  \n",
       "\n",
       "[442 rows x 5 columns]"
      ]
     },
     "execution_count": 12,
     "metadata": {},
     "output_type": "execute_result"
    }
   ],
   "source": [
    "splist=splist[pd.to_numeric(splist['speciesCode_Synonym'], errors='coerce').notnull()]\n",
    "splist"
   ]
  },
  {
   "cell_type": "code",
   "execution_count": 13,
   "id": "dc8de138-a658-44a3-8141-a6271dbe38c2",
   "metadata": {},
   "outputs": [],
   "source": [
    "if splist.shape[0]>0:\n",
    "    item=splist.loc[0]\n",
    "    item['taxonID'],item['scientificName']"
   ]
  },
  {
   "cell_type": "code",
   "execution_count": 14,
   "id": "2ccd30e5-013b-4168-b8c1-8fea3b714106",
   "metadata": {},
   "outputs": [],
   "source": [
    "splist = splist.reset_index()  # make sure indexes pair with number of rows\n"
   ]
  },
  {
   "cell_type": "code",
   "execution_count": 15,
   "id": "2a04b277-bc3b-4bae-b00c-ccdaa309e2f5",
   "metadata": {},
   "outputs": [
    {
     "name": "stdout",
     "output_type": "stream",
     "text": [
      "Connecting to the PostgreSQL database...\n",
      "Database connection closed.\n"
     ]
    }
   ],
   "source": [
    "updated_rows=0\n",
    "if splist.shape[0]>0:\n",
    "    qrystr=\"\"\"UPDATE form.quadrat_samples SET species_code=%s WHERE species=%s AND species_code is NULL; \"\"\"\n",
    "    # connect to the PostgreSQL server\n",
    "    print('Connecting to the PostgreSQL database...')\n",
    "    conn = psycopg2.connect(**dbparams)\n",
    "    cur = conn.cursor()\n",
    "    for index, row in splist.iterrows():\n",
    "        qry = cur.mogrify(qrystr, (AsIs(row['speciesCode_Synonym']),row['scientificName']))\n",
    "        cur.execute(qry)\n",
    "        if cur.rowcount > 0:\n",
    "            updated_rows = updated_rows + cur.rowcount\n",
    "    conn.commit()\n",
    "    cur.close()\n",
    "    if conn is not None:\n",
    "        conn.close()\n",
    "        print('Database connection closed.')"
   ]
  },
  {
   "cell_type": "code",
   "execution_count": 16,
   "id": "bfdb5003-2b9f-466d-b6ee-d1c7d1de9308",
   "metadata": {},
   "outputs": [
    {
     "name": "stdout",
     "output_type": "stream",
     "text": [
      "10021 rows updated\n"
     ]
    }
   ],
   "source": [
    "print(\"%s rows updated\" % (updated_rows))"
   ]
  },
  {
   "cell_type": "markdown",
   "id": "6f4dfbc6-90e8-42ad-9d16-0e59b1a5ffce",
   "metadata": {},
   "source": [
    "## That is it for now!\n",
    "\n",
    "✅ Job done! 😎👌🔥\n",
    "\n",
    "You can:\n",
    "- go [back home](../Instructions-and-workflow.ipynb),\n",
    "- continue navigating the repo on [GitHub](https://github.com/ces-unsw-edu-au/fireveg-db-exports)\n",
    "- continue exploring the repo on [OSF](https://osf.io/h96q2/).\n",
    "- visit the database at <http://fireecologyplants.net>"
   ]
  }
 ],
 "metadata": {
  "kernelspec": {
   "display_name": "Python 3 (ipykernel)",
   "language": "python",
   "name": "python3"
  },
  "language_info": {
   "codemirror_mode": {
    "name": "ipython",
    "version": 3
   },
   "file_extension": ".py",
   "mimetype": "text/x-python",
   "name": "python",
   "nbconvert_exporter": "python",
   "pygments_lexer": "ipython3",
   "version": "3.11.3"
  }
 },
 "nbformat": 4,
 "nbformat_minor": 5
}
