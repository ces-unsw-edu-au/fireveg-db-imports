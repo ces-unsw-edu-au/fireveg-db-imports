{
 "cells": [
  {
   "cell_type": "code",
   "execution_count": 1,
   "id": "c5ec7c42-b9e9-4027-9514-b3a3dce8e73a",
   "metadata": {},
   "outputs": [],
   "source": [
    "import openpyxl\n",
    "from pathlib import Path\n",
    "import os\n",
    "from datetime import datetime\n",
    "from configparser import ConfigParser\n",
    "import psycopg2\n",
    "from psycopg2.extensions import AsIs\n",
    "import pyprojroot\n",
    "import re\n",
    "import pandas as pd"
   ]
  },
  {
   "cell_type": "markdown",
   "id": "e4feb6fc-bfb0-4f2d-a81a-e57e51fed284",
   "metadata": {},
   "source": [
    "Load functions from `lib` folder, we will use a function to read db credentials and one for batch insert and updates:"
   ]
  },
  {
   "cell_type": "code",
   "execution_count": 2,
   "id": "8f251923-f3e8-4a29-8b17-29a803833b40",
   "metadata": {},
   "outputs": [],
   "source": [
    "from lib.parseparams import read_dbparams\n",
    "from lib.firevegdb import batch_upsert\n",
    "from lib.firevegdb import validate_and_update_site_records\n",
    "\n",
    "import lib.fireveg as fv"
   ]
  },
  {
   "cell_type": "markdown",
   "id": "5548a68d-5760-4b4b-bf59-255803c92da8",
   "metadata": {},
   "source": [
    "Define path to workbooks"
   ]
  },
  {
   "cell_type": "code",
   "execution_count": 3,
   "id": "4fe7558b-dd28-4924-85b3-4dd3fdb8094c",
   "metadata": {},
   "outputs": [],
   "source": [
    "repodir = pyprojroot.find_root(pyprojroot.has_dir(\".git\"))"
   ]
  },
  {
   "cell_type": "markdown",
   "id": "a5a75b68-4dd6-46aa-bd3a-e0c3414a3669",
   "metadata": {},
   "source": [
    "Database credentials are stored in a database.ini file"
   ]
  },
  {
   "cell_type": "code",
   "execution_count": 4,
   "id": "5eb03424-d9ce-4e62-9fff-491cb591adc9",
   "metadata": {
    "jupyter": {
     "source_hidden": true
    }
   },
   "outputs": [],
   "source": [
    "dbparams = read_dbparams(repodir / 'secrets' / 'database.ini', section='aws-lght-sl')"
   ]
  },
  {
   "cell_type": "code",
   "execution_count": 5,
   "id": "bfdb5003-2b9f-466d-b6ee-d1c7d1de9308",
   "metadata": {},
   "outputs": [
    {
     "name": "stdout",
     "output_type": "stream",
     "text": [
      "Connecting to the PostgreSQL database...\n"
     ]
    }
   ],
   "source": [
    "# connect to the PostgreSQL server\n",
    "print('Connecting to the PostgreSQL database...')\n",
    "conn = psycopg2.connect(**dbparams)\n",
    "cur = conn.cursor()"
   ]
  },
  {
   "cell_type": "code",
   "execution_count": 6,
   "id": "1635e72f-2ea1-4108-bcac-28e8b1370cf3",
   "metadata": {},
   "outputs": [],
   "source": [
    "qry=\"\"\"\n",
    "SELECT \\\"speciesID\\\",\\\"taxonID\\\",\\\"currentScientificNameCode\\\",\\\"scientificName\\\",\n",
    "\"speciesCode_Synonym\"\n",
    "FROM species.caps\n",
    "WHERE \\\"scientificName\\\" IN \n",
    "(SELECT species FROM form.quadrat_samples where species_code is NULL); \n",
    "\"\"\""
   ]
  },
  {
   "cell_type": "code",
   "execution_count": 7,
   "id": "5a29c7f9-7a0f-456b-ac65-45256b3862c8",
   "metadata": {},
   "outputs": [],
   "source": [
    "cur.execute(qry)\n",
    "res = cur.fetchall()\n",
    "cur.close()\n",
    "if conn is not None:\n",
    "    conn.close()"
   ]
  },
  {
   "cell_type": "code",
   "execution_count": 8,
   "id": "c5039e93-dde1-4afe-8eb1-58a13feb8789",
   "metadata": {},
   "outputs": [],
   "source": [
    "colnames=['speciesID','taxonID','currentScientificNameCode','scientificName','speciesCode_Synonym']\n",
    "splist = pd.DataFrame(res,columns=colnames,dtype=object)"
   ]
  },
  {
   "cell_type": "code",
   "execution_count": 9,
   "id": "327e9949-5066-4325-a56c-79e286195e52",
   "metadata": {},
   "outputs": [],
   "source": [
    "splist[\"taxonID\"] = pd.Series(splist[\"taxonID\"], dtype=int)"
   ]
  },
  {
   "cell_type": "code",
   "execution_count": 10,
   "id": "55958d7c-f416-426c-aa82-1a5d6d802529",
   "metadata": {},
   "outputs": [
    {
     "data": {
      "text/html": [
       "<div>\n",
       "<style scoped>\n",
       "    .dataframe tbody tr th:only-of-type {\n",
       "        vertical-align: middle;\n",
       "    }\n",
       "\n",
       "    .dataframe tbody tr th {\n",
       "        vertical-align: top;\n",
       "    }\n",
       "\n",
       "    .dataframe thead th {\n",
       "        text-align: right;\n",
       "    }\n",
       "</style>\n",
       "<table border=\"1\" class=\"dataframe\">\n",
       "  <thead>\n",
       "    <tr style=\"text-align: right;\">\n",
       "      <th></th>\n",
       "      <th>speciesID</th>\n",
       "      <th>taxonID</th>\n",
       "      <th>currentScientificNameCode</th>\n",
       "      <th>scientificName</th>\n",
       "      <th>speciesCode_Synonym</th>\n",
       "    </tr>\n",
       "  </thead>\n",
       "  <tbody>\n",
       "    <tr>\n",
       "      <th>0</th>\n",
       "      <td>2399.0</td>\n",
       "      <td>2399</td>\n",
       "      <td>7121</td>\n",
       "      <td>Goodenia lunata</td>\n",
       "      <td>7121</td>\n",
       "    </tr>\n",
       "    <tr>\n",
       "      <th>1</th>\n",
       "      <td>2433.0</td>\n",
       "      <td>2433</td>\n",
       "      <td>8498</td>\n",
       "      <td>Eucalyptus leptophylla</td>\n",
       "      <td>8498</td>\n",
       "    </tr>\n",
       "    <tr>\n",
       "      <th>2</th>\n",
       "      <td>2480.0</td>\n",
       "      <td>2480</td>\n",
       "      <td>2855</td>\n",
       "      <td>Eutaxia microphylla</td>\n",
       "      <td>2855</td>\n",
       "    </tr>\n",
       "    <tr>\n",
       "      <th>3</th>\n",
       "      <td>2505.0</td>\n",
       "      <td>2505</td>\n",
       "      <td>1712</td>\n",
       "      <td>Vittadinia dissecta</td>\n",
       "      <td>1712</td>\n",
       "    </tr>\n",
       "    <tr>\n",
       "      <th>4</th>\n",
       "      <td>2538.0</td>\n",
       "      <td>2538</td>\n",
       "      <td>3721</td>\n",
       "      <td>Acacia brachybotrya</td>\n",
       "      <td>3721</td>\n",
       "    </tr>\n",
       "    <tr>\n",
       "      <th>...</th>\n",
       "      <td>...</td>\n",
       "      <td>...</td>\n",
       "      <td>...</td>\n",
       "      <td>...</td>\n",
       "      <td>...</td>\n",
       "    </tr>\n",
       "    <tr>\n",
       "      <th>155</th>\n",
       "      <td>13110.0</td>\n",
       "      <td>13110</td>\n",
       "      <td>10393</td>\n",
       "      <td>Austrostipa mollis</td>\n",
       "      <td>10393</td>\n",
       "    </tr>\n",
       "    <tr>\n",
       "      <th>156</th>\n",
       "      <td>13281.0</td>\n",
       "      <td>13281</td>\n",
       "      <td>10563</td>\n",
       "      <td>Adriana tomentosa var. hookeri</td>\n",
       "      <td>10563</td>\n",
       "    </tr>\n",
       "    <tr>\n",
       "      <th>158</th>\n",
       "      <td>15777.0</td>\n",
       "      <td>15777</td>\n",
       "      <td>11377</td>\n",
       "      <td>Xerochrysum bracteatum</td>\n",
       "      <td>11377</td>\n",
       "    </tr>\n",
       "    <tr>\n",
       "      <th>159</th>\n",
       "      <td>17462.0</td>\n",
       "      <td>17462</td>\n",
       "      <td>12232</td>\n",
       "      <td>Convolvulus crispifolius</td>\n",
       "      <td>12232</td>\n",
       "    </tr>\n",
       "    <tr>\n",
       "      <th>161</th>\n",
       "      <td>20250.0</td>\n",
       "      <td>20250</td>\n",
       "      <td>14253</td>\n",
       "      <td>Eremophila glabra subsp. murrayana</td>\n",
       "      <td>14253</td>\n",
       "    </tr>\n",
       "  </tbody>\n",
       "</table>\n",
       "<p>148 rows × 5 columns</p>\n",
       "</div>"
      ],
      "text/plain": [
       "    speciesID  taxonID currentScientificNameCode   \n",
       "0      2399.0     2399                      7121  \\\n",
       "1      2433.0     2433                      8498   \n",
       "2      2480.0     2480                      2855   \n",
       "3      2505.0     2505                      1712   \n",
       "4      2538.0     2538                      3721   \n",
       "..        ...      ...                       ...   \n",
       "155   13110.0    13110                     10393   \n",
       "156   13281.0    13281                     10563   \n",
       "158   15777.0    15777                     11377   \n",
       "159   17462.0    17462                     12232   \n",
       "161   20250.0    20250                     14253   \n",
       "\n",
       "                         scientificName speciesCode_Synonym  \n",
       "0                       Goodenia lunata                7121  \n",
       "1                Eucalyptus leptophylla                8498  \n",
       "2                   Eutaxia microphylla                2855  \n",
       "3                   Vittadinia dissecta                1712  \n",
       "4                   Acacia brachybotrya                3721  \n",
       "..                                  ...                 ...  \n",
       "155                  Austrostipa mollis               10393  \n",
       "156      Adriana tomentosa var. hookeri               10563  \n",
       "158              Xerochrysum bracteatum               11377  \n",
       "159            Convolvulus crispifolius               12232  \n",
       "161  Eremophila glabra subsp. murrayana               14253  \n",
       "\n",
       "[148 rows x 5 columns]"
      ]
     },
     "execution_count": 10,
     "metadata": {},
     "output_type": "execute_result"
    }
   ],
   "source": [
    "#splist=splist.head()\n",
    "## skip rows with non-numeric species codes\n",
    "splist=splist[pd.to_numeric(splist['speciesCode_Synonym'], errors='coerce').notnull()]\n",
    "splist"
   ]
  },
  {
   "cell_type": "code",
   "execution_count": 11,
   "id": "e12aa11f-8ae5-489f-af15-06893a066436",
   "metadata": {},
   "outputs": [
    {
     "data": {
      "text/plain": [
       "(2399, 'Goodenia lunata')"
      ]
     },
     "execution_count": 11,
     "metadata": {},
     "output_type": "execute_result"
    }
   ],
   "source": [
    "item=splist.loc[0]\n",
    "item['taxonID'],item['scientificName']\n"
   ]
  },
  {
   "cell_type": "code",
   "execution_count": 12,
   "id": "d0be480e-4094-4a8c-a85d-5320babadad4",
   "metadata": {},
   "outputs": [],
   "source": [
    "splist = splist.reset_index()  # make sure indexes pair with number of rows\n"
   ]
  },
  {
   "cell_type": "code",
   "execution_count": 13,
   "id": "7cb9c3ff-161e-47fb-8955-f364ec74e4c6",
   "metadata": {},
   "outputs": [
    {
     "name": "stdout",
     "output_type": "stream",
     "text": [
      "Connecting to the PostgreSQL database...\n"
     ]
    }
   ],
   "source": [
    "print('Connecting to the PostgreSQL database...')\n",
    "conn = psycopg2.connect(**dbparams)\n",
    "cur = conn.cursor()"
   ]
  },
  {
   "cell_type": "code",
   "execution_count": 14,
   "id": "4ec2a9be-74ff-40c9-82db-fc30b3c916ef",
   "metadata": {},
   "outputs": [],
   "source": [
    "qrystr=\"\"\"UPDATE form.quadrat_samples SET species_code=%s WHERE species=%s AND species_code is NULL; \"\"\"\n",
    "updated_rows=0\n",
    "for index, row in splist.iterrows():\n",
    "    qry = cur.mogrify(qrystr, (AsIs(row['speciesCode_Synonym']),row['scientificName']))\n",
    "    cur.execute(qry)\n",
    "    if cur.rowcount > 0:\n",
    "        updated_rows = updated_rows + cur.rowcount\n"
   ]
  },
  {
   "cell_type": "code",
   "execution_count": 15,
   "id": "4e1dd242-a231-4f61-b783-f033bae77966",
   "metadata": {},
   "outputs": [
    {
     "name": "stdout",
     "output_type": "stream",
     "text": [
      "8408 rows updated\n",
      "Database connection closed.\n"
     ]
    }
   ],
   "source": [
    "conn.commit()        \n",
    "cur.close()\n",
    "print(\"%s rows updated\" % (updated_rows))\n",
    "conn.close()\n",
    "print('Database connection closed.')"
   ]
  },
  {
   "cell_type": "code",
   "execution_count": null,
   "id": "9f40ae22-e6aa-49af-87b0-6a636d262fd5",
   "metadata": {},
   "outputs": [],
   "source": []
  }
 ],
 "metadata": {
  "kernelspec": {
   "display_name": "Python 3 (ipykernel)",
   "language": "python",
   "name": "python3"
  },
  "language_info": {
   "codemirror_mode": {
    "name": "ipython",
    "version": 3
   },
   "file_extension": ".py",
   "mimetype": "text/x-python",
   "name": "python",
   "nbconvert_exporter": "python",
   "pygments_lexer": "ipython3",
   "version": "3.11.3"
  }
 },
 "nbformat": 4,
 "nbformat_minor": 5
}
