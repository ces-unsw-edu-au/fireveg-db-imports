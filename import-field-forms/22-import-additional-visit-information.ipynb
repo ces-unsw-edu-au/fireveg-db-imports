{
 "cells": [
  {
   "cell_type": "markdown",
   "id": "91ceabcb-2305-4502-827d-21d17e911a14",
   "metadata": {
    "tags": []
   },
   "source": [
    "# Fireveg DB imports -- import field work forms\n",
    "\n",
    "Author: [José R. Ferrer-Paris](https://github.com/jrfep)\n",
    "\n",
    "Date: February 2022, updated 19 August 2024\n",
    "\n",
    "This Jupyter Notebook includes [Python](https://www.python.org) code to:\n",
    "- Read data from spreadsheets with field-work data\n",
    "- Create records for data import into the database\n",
    "- Insert or update records in the database\n",
    "\n",
    "This notebook deals with adding additional fire intensity and vegetation structure data to the field visits.\n",
    "\n",
    "**Please note:**\n",
    "<div class=\"alert alert-warning\">\n",
    "    This repository contains code that is intended for internal project management and is documented for the sake of reproducibility.<br/>\n",
    "    🛂 Only users contributing directly to the project have access to the credentials for data download/upload. \n",
    "</div>\n"
   ]
  },
  {
   "cell_type": "markdown",
   "id": "12d4256b-0834-4b57-91b2-23706f4b7e48",
   "metadata": {
    "tags": []
   },
   "source": [
    "## Set-up\n",
    "Load libraries "
   ]
  },
  {
   "cell_type": "code",
   "execution_count": 1,
   "id": "cbf7b3b9-6d22-424b-b19b-a86282137e4c",
   "metadata": {},
   "outputs": [],
   "source": [
    "import openpyxl\n",
    "from pathlib import Path\n",
    "import os,sys\n",
    "from datetime import datetime\n",
    "from configparser import ConfigParser\n",
    "import psycopg2\n",
    "from psycopg2.extras import DictCursor\n",
    "from psycopg2.extensions import AsIs\n",
    "import re\n",
    "#import postgis\n",
    "import pandas as pd\n",
    "#import copy\n",
    "\n",
    "import pyprojroot"
   ]
  },
  {
   "cell_type": "markdown",
   "id": "93c672ad-4a06-434d-8544-b696ab6cebe9",
   "metadata": {},
   "source": [
    "### Define paths for input and output"
   ]
  },
  {
   "cell_type": "markdown",
   "id": "49323c12-79ac-4f3f-a6f9-8984bc8fa907",
   "metadata": {},
   "source": [
    "Define project directory using the `pyprojroot` functions, and add this to the execution path."
   ]
  },
  {
   "cell_type": "code",
   "execution_count": 2,
   "id": "7e0ef762-7c44-409f-879d-fdc5c67c0340",
   "metadata": {},
   "outputs": [],
   "source": [
    "repodir = pyprojroot.find_root(pyprojroot.has_dir(\".git\"))\n",
    "sys.path.append(str(repodir))"
   ]
  },
  {
   "cell_type": "markdown",
   "id": "36419281-e89c-49de-9737-821185f55b7f",
   "metadata": {},
   "source": [
    "Define path to workbooks"
   ]
  },
  {
   "cell_type": "code",
   "execution_count": 3,
   "id": "2ae9964b-180a-4f59-97f6-ffeb077e754d",
   "metadata": {},
   "outputs": [],
   "source": [
    "inputdir = repodir / \"data\" / \"input-field-form\""
   ]
  },
  {
   "cell_type": "markdown",
   "id": "ed467e37-0b0e-44cd-9552-0bb694c8dcd4",
   "metadata": {},
   "source": [
    "### Load own functions"
   ]
  },
  {
   "cell_type": "markdown",
   "id": "0f9796e2-9de4-4ff9-a1f0-29e29aa7b307",
   "metadata": {},
   "source": [
    "Load functions from `lib` folder, we will use a function to read db credentials. We use functions from module `fireveg` to read the data and create records, and functions from module `firevegdb` to execute the SQL insert or update query."
   ]
  },
  {
   "cell_type": "code",
   "execution_count": 4,
   "id": "bd77b7d2-8219-4fa6-a39b-b6f8cd8cbbc2",
   "metadata": {},
   "outputs": [],
   "source": [
    "from lib.parseparams import read_dbparams\n",
    "from lib.firevegdb import dbquery, batch_upsert\n",
    "import lib.fireveg as fv"
   ]
  },
  {
   "cell_type": "markdown",
   "id": "cf4562a1-acc5-4fe0-b6f8-0dcf6b4ba9e8",
   "metadata": {},
   "source": [
    "### Database credentials\n",
    "\n",
    "🤫 We use a folder named \"secrets\" to keep the credentials for connection to different services (database credentials, API keys, etc). This checked this folder in our `.gitignore` so that its content are not tracked by git and not exposed. Future users need to copy the contents of this folder manually.\n",
    "\n",
    "We read database credentials stored in a `database.ini` file using our own `read_dbparams` function."
   ]
  },
  {
   "cell_type": "code",
   "execution_count": 5,
   "id": "60869922-10af-4325-bab1-c6ad0bd47fb5",
   "metadata": {},
   "outputs": [],
   "source": [
    "dbparams = read_dbparams(repodir / 'secrets' / 'database.ini', \n",
    "                         section='fireveg-db-v1.1')"
   ]
  },
  {
   "cell_type": "markdown",
   "id": "d55b5bbb-b4ea-4b83-bdcf-a1b8088bad91",
   "metadata": {
    "tags": []
   },
   "source": [
    "## Read workbooks\n",
    "Each spreadsheet has a slightly different structure, so these scripts have to be adapted for each case."
   ]
  },
  {
   "cell_type": "markdown",
   "id": "4308295a-230b-48d3-81fc-813ce33a634a",
   "metadata": {
    "jp-MarkdownHeadingCollapsed": true,
    "tags": []
   },
   "source": [
    "### List of workbooks/spreadsheets in directory"
   ]
  },
  {
   "cell_type": "code",
   "execution_count": 8,
   "id": "82e3da8f-4d22-425a-96b2-c02191548171",
   "metadata": {
    "tags": []
   },
   "outputs": [],
   "source": [
    "avail_files = os.listdir(inputdir)\n",
    "#avail_files"
   ]
  },
  {
   "cell_type": "code",
   "execution_count": 9,
   "id": "7c046378-43c4-4b14-bb16-5c2641cdd9e2",
   "metadata": {},
   "outputs": [],
   "source": [
    "valid_files = ['SthnNSWRF_data_bionet2.xlsx',\n",
    "               'UNSWFireVegResponse_UplandBasalt_AlexThomsen+DK.xlsx',\n",
    "               'UNSW_VegFireResponse_RMK_reformat_Sep2021a.xlsx',\n",
    "               'UNSW_VegFireResponse_DataEntry_Yatteyattah all +DK +Milton_revisedfields_Mar2022.xlsx',\n",
    "               'UNSW_VegFireResponse_KNP AlpAsh_firehistupdate.xlsx',\n",
    "               'UNSW_VegFireResponse_AlpineBogs_reformat_Sep2021.xlsx',\n",
    "               'RobertsonRF_data_bionet2.xlsx',\n",
    "               'Fire response quadrat survey Newnes Nov2020_DK_revised IDs+AllNovData.xlsm']"
   ]
  },
  {
   "cell_type": "code",
   "execution_count": 10,
   "id": "402f1986-2f14-4c73-b50f-1f41bfb16666",
   "metadata": {},
   "outputs": [
    {
     "name": "stdout",
     "output_type": "stream",
     "text": [
      "True\n",
      "True\n",
      "True\n",
      "True\n",
      "True\n",
      "True\n",
      "True\n",
      "True\n"
     ]
    }
   ],
   "source": [
    "for ff in valid_files:\n",
    "    print(ff in avail_files)"
   ]
  },
  {
   "cell_type": "markdown",
   "id": "5b963026-23e4-48f4-97d2-cff86016af50",
   "metadata": {},
   "source": [
    "Here we create an index of worksheets and column headers for each file"
   ]
  },
  {
   "cell_type": "code",
   "execution_count": 11,
   "id": "0c4b7b46-d292-494f-8ccc-5fa72e8e5f6b",
   "metadata": {},
   "outputs": [],
   "source": [
    "wbindex=dict()\n",
    "for workbook_name in valid_files:\n",
    "    inputfile=inputdir / workbook_name\n",
    "    # using data_only=True to get the calculated cell values\n",
    "    wb = openpyxl.load_workbook(inputfile,data_only=True)\n",
    "    wbindex[workbook_name]=dict()\n",
    "    for ws in wb.worksheets:\n",
    "        wbindex[workbook_name][ws._WorkbookChild__title]=[list(),list()]\n",
    "        for k in range(1,ws.max_column):\n",
    "            wbindex[workbook_name][ws._WorkbookChild__title][0].append(ws.cell(row=1,column=k).value)\n",
    "            wbindex[workbook_name][ws._WorkbookChild__title][1].append(ws.cell(row=2,column=k).value)\n",
    "        "
   ]
  },
  {
   "cell_type": "code",
   "execution_count": 12,
   "id": "ba508e4e-b8de-47c5-a89d-2ced4873ddf2",
   "metadata": {},
   "outputs": [
    {
     "data": {
      "text/plain": [
       "dict_keys(['Site', 'Fire', 'Structure', 'Floristics', 'Reference', 'Info', 'Sheet1'])"
      ]
     },
     "execution_count": 12,
     "metadata": {},
     "output_type": "execute_result"
    }
   ],
   "source": [
    "wbindex['SthnNSWRF_data_bionet2.xlsx'].keys()"
   ]
  },
  {
   "cell_type": "markdown",
   "id": "2650a23d-0339-4d1f-a283-680a867517ff",
   "metadata": {
    "jp-MarkdownHeadingCollapsed": true,
    "tags": []
   },
   "source": [
    "### Fire intensity"
   ]
  },
  {
   "cell_type": "markdown",
   "id": "9796e1b5-7b3e-4569-bca5-ecedd0dd1ffd",
   "metadata": {},
   "source": [
    "We want to add the information on the fire intensity. This is recorded in the worksheet 'Fire' next to the fire history. We have to add a column to the worksheet for the date of the sampling (as the last column on the right), otherwise we won't be able to match this information to the sampling visit."
   ]
  },
  {
   "cell_type": "markdown",
   "id": "edeffebd-3920-473f-98a5-f4739b80eba6",
   "metadata": {},
   "source": [
    "We will use the variables:\n",
    "- 'scorch height' in m, \n",
    "- 'tree foliage biomass consumed' in %,\n",
    "- 'shrub foliage biomass consumed' in %,\n",
    "- 'ground foliage biomass consumed' in %,\n",
    "- 'tree foliage scorch' in %,\n",
    "- 'shrub foliage scorch' in %,\n",
    "- 'herb foliage scorch' in %\n",
    "\n",
    "\n"
   ]
  },
  {
   "cell_type": "markdown",
   "id": "e1060668-12cb-4256-bde5-11bcf88329fb",
   "metadata": {
    "tags": []
   },
   "source": [
    "#### Southern NSW Rainforest\n",
    "Manual updates: add a visit_date column at the end of the table"
   ]
  },
  {
   "cell_type": "code",
   "execution_count": 13,
   "id": "10042652-8744-48cf-9c4f-3ed0825d9835",
   "metadata": {
    "tags": []
   },
   "outputs": [
    {
     "data": {
      "text/plain": [
       "['Site',\n",
       " 'Replicate',\n",
       " 'Date of last fire dd/mm/yyyy',\n",
       " 'Date of penultimate fire',\n",
       " 'Date of earlier fire',\n",
       " 'How date inferred1',\n",
       " 'How date inferred2',\n",
       " 'How date inferred3',\n",
       " 'Ignition cause1',\n",
       " 'Ignition cause2',\n",
       " 'Ignition cause3',\n",
       " 'Scorch hgt (m) min',\n",
       " 'Scorch hgt (m) mas',\n",
       " 'Scorch hgt (m) mode',\n",
       " '% Tree foliage scorch',\n",
       " \"% Tree foliage c'sume\",\n",
       " '% Shb foliage scorch',\n",
       " \"% Shb foliage c'sume\",\n",
       " '% Herb layer foliage scorch',\n",
       " \"% Herb layer foliage c'sume\",\n",
       " 'Twig diam (mm) 1',\n",
       " 'Twig diam (mm) 2',\n",
       " 'Twig diam (mm) 3',\n",
       " 'Twig diam (mm) 4',\n",
       " 'Twig diam (mm) 5',\n",
       " 'Twig diam (mm) 6',\n",
       " 'Twig diam (mm) 7',\n",
       " 'Twig diam (mm) 8',\n",
       " 'Twig diam (mm) 9',\n",
       " 'Twig diam (mm) 10',\n",
       " 'Peat depth burnt (cm)',\n",
       " 'Peat extent burnt %quad',\n",
       " 'Peat extent unburnt %quad']"
      ]
     },
     "execution_count": 13,
     "metadata": {},
     "output_type": "execute_result"
    }
   ],
   "source": [
    "filename='SthnNSWRF_data_bionet2.xlsx'\n",
    "worksheet='Fire'\n",
    "wbindex[filename][worksheet][0]"
   ]
  },
  {
   "cell_type": "code",
   "execution_count": 14,
   "id": "d10e65ce-82ce-49a8-a36f-0a444855b3f1",
   "metadata": {},
   "outputs": [
    {
     "data": {
      "text/plain": [
       "33"
      ]
     },
     "execution_count": 14,
     "metadata": {},
     "output_type": "execute_result"
    }
   ],
   "source": [
    "len(wbindex[filename][worksheet][0])"
   ]
  },
  {
   "cell_type": "code",
   "execution_count": 15,
   "id": "4036865e-4c40-442d-b175-179050e3312e",
   "metadata": {},
   "outputs": [],
   "source": [
    "col_def={'visit_id':1, 'visit_date':34, 'scorch height':(14,12,13),\n",
    "         'tree foliage biomass consumed':(16,), \n",
    "         'shrub foliage biomass consumed':(18,), \n",
    "         'ground foliage biomass consumed':(20,),\n",
    "        'tree foliage scorch':(15,), \n",
    "         'shrub foliage scorch':(17,), \n",
    "         'herb foliage scorch':(19,)}"
   ]
  },
  {
   "cell_type": "code",
   "execution_count": 16,
   "id": "db06dd2b-a269-4513-adfd-ad20497967a8",
   "metadata": {},
   "outputs": [],
   "source": [
    "records=fv.read_fire_intensity(inputdir,filename,worksheet,col_def)"
   ]
  },
  {
   "cell_type": "code",
   "execution_count": 17,
   "id": "da3db18e-cdc1-43f2-b14e-547cd5b29980",
   "metadata": {},
   "outputs": [
    {
     "data": {
      "text/plain": [
       "{'visit_id': 'UppClyde1',\n",
       " 'visit_date': datetime.date(2021, 11, 29),\n",
       " 'measured_var': 'tree foliage biomass consumed',\n",
       " 'units': '%',\n",
       " 'best': 0}"
      ]
     },
     "execution_count": 17,
     "metadata": {},
     "output_type": "execute_result"
    }
   ],
   "source": [
    "records[1]"
   ]
  },
  {
   "cell_type": "code",
   "execution_count": 18,
   "id": "eead3521-2f1e-4111-93e7-b03c660da1d1",
   "metadata": {},
   "outputs": [
    {
     "name": "stdout",
     "output_type": "stream",
     "text": [
      "Connecting to the PostgreSQL database...\n",
      "35 rows updated\n",
      "Database connection closed.\n"
     ]
    }
   ],
   "source": [
    "batch_upsert(dbparams,\"form.field_visit_vegetation_estimates\",records,\n",
    "             keycol=('visit_id','visit_date','measured_var'), \n",
    "             idx='field_visit_vegetation_estimates_pkey',execute=True)\n"
   ]
  },
  {
   "cell_type": "markdown",
   "id": "dd353802-5c0c-4865-b867-2c64faed9014",
   "metadata": {
    "tags": []
   },
   "source": [
    "#### Upland Basalt\n",
    "Added a column for `Visit date` from the `Site` worksheet, changed date format to match the day/month/year format"
   ]
  },
  {
   "cell_type": "code",
   "execution_count": 19,
   "id": "92fc9a7f-06a2-40be-8ab6-6a66c32cc5e1",
   "metadata": {},
   "outputs": [],
   "source": [
    "filename='UNSWFireVegResponse_UplandBasalt_AlexThomsen+DK.xlsx'\n",
    "#wbindex[filename][worksheet][0]"
   ]
  },
  {
   "cell_type": "code",
   "execution_count": 20,
   "id": "086caff9-b7fd-4c91-bb4b-8615ce9a3927",
   "metadata": {},
   "outputs": [],
   "source": [
    "col_def={'visit_id':1, 'visit_date':3, 'scorch height':(15,13,14),\n",
    "         'tree foliage biomass consumed':(17,), \n",
    "         'shrub foliage biomass consumed':(19,), \n",
    "         'ground foliage biomass consumed':(21,),\n",
    "        'tree foliage scorch':(16,), \n",
    "         'shrub foliage scorch':(18,), \n",
    "         'herb foliage scorch':(20,)}"
   ]
  },
  {
   "cell_type": "code",
   "execution_count": 21,
   "id": "ff756afd-833a-49d3-8c52-4441469f4851",
   "metadata": {},
   "outputs": [],
   "source": [
    "records=fv.read_fire_intensity(inputdir,filename,worksheet,col_def)"
   ]
  },
  {
   "cell_type": "code",
   "execution_count": 22,
   "id": "0de1da9e-e375-4f0b-b8a8-479a051f2634",
   "metadata": {
    "tags": []
   },
   "outputs": [
    {
     "data": {
      "text/plain": [
       "[{'visit_id': 'CRC09B7U',\n",
       "  'visit_date': datetime.date(2021, 2, 3),\n",
       "  'measured_var': 'scorch height',\n",
       "  'units': 'm',\n",
       "  'best': 5,\n",
       "  'lower': 2,\n",
       "  'upper': 10},\n",
       " {'visit_id': 'CRC09B7U',\n",
       "  'visit_date': datetime.date(2021, 2, 3),\n",
       "  'measured_var': 'tree foliage biomass consumed',\n",
       "  'units': '%',\n",
       "  'best': 10}]"
      ]
     },
     "execution_count": 22,
     "metadata": {},
     "output_type": "execute_result"
    }
   ],
   "source": [
    "records[0:2]"
   ]
  },
  {
   "cell_type": "code",
   "execution_count": 23,
   "id": "8faf6677-4b0c-4791-96e0-28b9715eb022",
   "metadata": {},
   "outputs": [
    {
     "name": "stdout",
     "output_type": "stream",
     "text": [
      "Connecting to the PostgreSQL database...\n",
      "196 rows updated\n",
      "Database connection closed.\n"
     ]
    }
   ],
   "source": [
    "batch_upsert(dbparams,\"form.field_visit_vegetation_estimates\",records,\n",
    "             keycol=('visit_id','visit_date','measured_var'), \n",
    "             idx='field_visit_vegetation_estimates_pkey',execute=True)\n",
    "\n"
   ]
  },
  {
   "cell_type": "markdown",
   "id": "65068c8c-4809-44bd-9af0-343ed1deb397",
   "metadata": {},
   "source": [
    "This one also has twig diameter measurements:"
   ]
  },
  {
   "cell_type": "code",
   "execution_count": 24,
   "id": "3dead8c7-402c-400b-80e7-cbab2d66ca02",
   "metadata": {},
   "outputs": [],
   "source": [
    "col_def={'visit_id':1, 'visit_date':3, 'twig diameter':range(23,33)}"
   ]
  },
  {
   "cell_type": "code",
   "execution_count": 25,
   "id": "511d7e64-f08f-441a-b325-10d9d9a52f63",
   "metadata": {},
   "outputs": [],
   "source": [
    "records=fv.read_twig_diameters(inputdir,filename,worksheet,col_def)"
   ]
  },
  {
   "cell_type": "code",
   "execution_count": 26,
   "id": "a859ced3-47fe-4857-a43a-153ea60b2534",
   "metadata": {},
   "outputs": [
    {
     "data": {
      "text/plain": [
       "109"
      ]
     },
     "execution_count": 26,
     "metadata": {},
     "output_type": "execute_result"
    }
   ],
   "source": [
    "len(records)"
   ]
  },
  {
   "cell_type": "code",
   "execution_count": 27,
   "id": "5348a93b-658f-4458-a534-25412cd11760",
   "metadata": {},
   "outputs": [
    {
     "data": {
      "text/plain": [
       "{'visit_id': 'CRC09B7U',\n",
       " 'visit_date': datetime.date(2021, 2, 3),\n",
       " 'measured_variable': 'twig diameter',\n",
       " 'units': 'mm',\n",
       " 'single_value': 0.45}"
      ]
     },
     "execution_count": 27,
     "metadata": {},
     "output_type": "execute_result"
    }
   ],
   "source": [
    "records[0]"
   ]
  },
  {
   "cell_type": "code",
   "execution_count": 28,
   "id": "451b28bf-5936-4db2-8889-91f63291cc26",
   "metadata": {},
   "outputs": [
    {
     "name": "stdout",
     "output_type": "stream",
     "text": [
      "Connecting to the PostgreSQL database...\n",
      "109 rows updated\n",
      "Database connection closed.\n"
     ]
    }
   ],
   "source": [
    "batch_upsert(dbparams,\"form.field_visit_vegetation_raw_values\",records,\n",
    "             keycol=('visit_id','visit_date','measured_variable'), \n",
    "             idx=None,execute=True)\n"
   ]
  },
  {
   "cell_type": "markdown",
   "id": "6bd8308d-21f9-46c3-9961-6c94c0ba197e",
   "metadata": {
    "tags": []
   },
   "source": [
    "#### NE NSW / SE Qld Rainforest\n",
    "Added a column for date of sampling and changed date format"
   ]
  },
  {
   "cell_type": "code",
   "execution_count": 29,
   "id": "9e23e193-5fe9-43c4-ba02-010cd692b9b0",
   "metadata": {
    "tags": []
   },
   "outputs": [
    {
     "name": "stdout",
     "output_type": "stream",
     "text": [
      "UNSW_VegFireResponse_RMK_reformat_Sep2021a.xlsx\n"
     ]
    },
    {
     "data": {
      "text/plain": [
       "['Site',\n",
       " 'Replicate',\n",
       " 'Date of samping',\n",
       " 'Date of last fire dd/mm/yyyy',\n",
       " 'Date of penultimate fire',\n",
       " 'Date of earlier fire',\n",
       " 'How date inferred1',\n",
       " 'How date inferred2',\n",
       " 'How date inferred3',\n",
       " 'Ignition cause1',\n",
       " 'Ignition cause2',\n",
       " 'Ignition cause3',\n",
       " 'Scorch hgt (m)',\n",
       " '% Tree foliage scorch',\n",
       " \"% Tree foliage c'sume\",\n",
       " '% Shb foliage scorch',\n",
       " \"% Shb foliage c'sume\",\n",
       " '% Herb layer foliage scorch',\n",
       " \"% Herb layer foliage c'sume\",\n",
       " 'Twig diam (mm) 1',\n",
       " 'Twig diam (mm) 2',\n",
       " 'Twig diam (mm) 3',\n",
       " 'Twig diam (mm) 4',\n",
       " 'Twig diam (mm) 5',\n",
       " 'Twig diam (mm) 6',\n",
       " 'Twig diam (mm) 7',\n",
       " 'Twig diam (mm) 8',\n",
       " 'Twig diam (mm) 9',\n",
       " 'Twig diam (mm) 10',\n",
       " 'Peat depth burnt (cm)',\n",
       " 'Peat extent burnt %quad']"
      ]
     },
     "execution_count": 29,
     "metadata": {},
     "output_type": "execute_result"
    }
   ],
   "source": [
    "filename=valid_files[2]\n",
    "print(filename)\n",
    "worksheet='Fire'\n",
    "wbindex[filename][worksheet][0]"
   ]
  },
  {
   "cell_type": "code",
   "execution_count": 30,
   "id": "35fbd905-2689-416f-8f97-59ba6eb75a3b",
   "metadata": {},
   "outputs": [],
   "source": [
    "col_def={'visit_id':1, 'visit_date':3, 'scorch height':(13,),\n",
    "         'tree foliage biomass consumed':(15,), \n",
    "         'shrub foliage biomass consumed':(17,), \n",
    "         'ground foliage biomass consumed':(19,),\n",
    "        'tree foliage scorch':(14,), \n",
    "         'shrub foliage scorch':(16,), \n",
    "         'herb foliage scorch':(18,),\n",
    "        'peat extent burnt':(31,),\n",
    "        'peat depth burnt':(30,)}"
   ]
  },
  {
   "cell_type": "code",
   "execution_count": 31,
   "id": "cacabafe-7685-435c-9dff-b7a2d8a06464",
   "metadata": {},
   "outputs": [],
   "source": [
    "records=fv.read_fire_intensity(inputdir,filename,worksheet,col_def)"
   ]
  },
  {
   "cell_type": "code",
   "execution_count": 32,
   "id": "b8110f19-a41c-4f33-9edf-732bdf027776",
   "metadata": {},
   "outputs": [
    {
     "data": {
      "text/plain": [
       "153"
      ]
     },
     "execution_count": 32,
     "metadata": {},
     "output_type": "execute_result"
    }
   ],
   "source": [
    "len(records)\n",
    "#records[0:2]"
   ]
  },
  {
   "cell_type": "code",
   "execution_count": 33,
   "id": "7cd9bbf4-d863-450b-8ac5-ce22555c9260",
   "metadata": {},
   "outputs": [
    {
     "name": "stdout",
     "output_type": "stream",
     "text": [
      "Connecting to the PostgreSQL database...\n",
      "153 rows updated\n",
      "Database connection closed.\n"
     ]
    }
   ],
   "source": [
    "batch_upsert(dbparams,\"form.field_visit_vegetation_estimates\",records,\n",
    "             keycol=('visit_id','visit_date','measured_var'), \n",
    "             idx='field_visit_vegetation_estimates_pkey',execute=True)"
   ]
  },
  {
   "cell_type": "code",
   "execution_count": 34,
   "id": "edee7fbf-16ad-4c49-a4d5-c7925e2a7623",
   "metadata": {},
   "outputs": [],
   "source": [
    "col_def={'visit_id':1, 'visit_date':3, 'twig diameter':range(20,30)}\n",
    "records=fv.read_twig_diameters(inputdir,filename,worksheet,col_def)"
   ]
  },
  {
   "cell_type": "code",
   "execution_count": 35,
   "id": "7ed8599d-6754-4890-b0e5-8a64c8b0fe40",
   "metadata": {},
   "outputs": [
    {
     "data": {
      "text/plain": [
       "160"
      ]
     },
     "execution_count": 35,
     "metadata": {},
     "output_type": "execute_result"
    }
   ],
   "source": [
    "len(records)"
   ]
  },
  {
   "cell_type": "code",
   "execution_count": 36,
   "id": "3cdd79e9-ae54-448e-b095-ba231f351ed6",
   "metadata": {},
   "outputs": [
    {
     "name": "stdout",
     "output_type": "stream",
     "text": [
      "Connecting to the PostgreSQL database...\n",
      "160 rows updated\n",
      "Database connection closed.\n"
     ]
    }
   ],
   "source": [
    "batch_upsert(dbparams,\"form.field_visit_vegetation_raw_values\",records,\n",
    "             keycol=('visit_id','visit_date','measured_variable'), \n",
    "             idx=None,execute=True)"
   ]
  },
  {
   "cell_type": "markdown",
   "id": "426e7644-307d-4581-a598-8f62d8ffd74d",
   "metadata": {
    "tags": []
   },
   "source": [
    "#### Yatteyattah\n",
    "Add a column for the visit date and changed the date format"
   ]
  },
  {
   "cell_type": "code",
   "execution_count": 37,
   "id": "06161e3d-9000-41df-90a5-e9206ef60668",
   "metadata": {},
   "outputs": [
    {
     "data": {
      "text/plain": [
       "['Site',\n",
       " 'Date of last fire dd/mm/yyyy',\n",
       " 'Date of penultimate fire',\n",
       " 'Date of earlier fire',\n",
       " 'How date inferred1',\n",
       " 'How date inferred2',\n",
       " 'How date inferred3',\n",
       " 'Ignition cause1',\n",
       " 'Ignition cause2',\n",
       " 'Ignition cause3',\n",
       " 'Scorch hgt (m)',\n",
       " '% Tree foliage scorch',\n",
       " \"% Tree foliage c'sume\",\n",
       " '% Shb foliage scorch',\n",
       " \"% Shb foliage c'sume\",\n",
       " '% Herb layer foliage scorch',\n",
       " \"% Herb layer foliage c'sume\",\n",
       " 'Twig diam (mm) 1',\n",
       " 'Twig diam (mm) 2',\n",
       " 'Twig diam (mm) 3',\n",
       " 'Twig diam (mm) 4',\n",
       " 'Twig diam (mm) 5',\n",
       " 'Twig diam (mm) 6',\n",
       " 'Twig diam (mm) 7',\n",
       " 'Twig diam (mm) 8',\n",
       " 'Twig diam (mm) 9',\n",
       " 'Twig diam (mm) 10',\n",
       " 'Peat depth burnt (cm)',\n",
       " 'Peat extent burnt %quad']"
      ]
     },
     "execution_count": 37,
     "metadata": {},
     "output_type": "execute_result"
    }
   ],
   "source": [
    "filename='UNSW_VegFireResponse_DataEntry_Yatteyattah all +DK +Milton_revisedfields_Mar2022.xlsx'\n",
    "wbindex[filename][worksheet][0]"
   ]
  },
  {
   "cell_type": "code",
   "execution_count": 38,
   "id": "43d3bae6-ba08-4a1f-b2fa-fee0be8b57f3",
   "metadata": {},
   "outputs": [],
   "source": [
    "col_def={'visit_id':1, 'visit_date':2, 'scorch height':(12,),\n",
    "         'tree foliage biomass consumed':(14,), \n",
    "         'shrub foliage biomass consumed':(16,), \n",
    "         'ground foliage biomass consumed':(18,),\n",
    "        'tree foliage scorch':(13,), \n",
    "         'shrub foliage scorch':(15,), \n",
    "         'herb foliage scorch':(17,)}"
   ]
  },
  {
   "cell_type": "code",
   "execution_count": 39,
   "id": "8fbc5a5f-d826-40bd-9685-885ad2a52591",
   "metadata": {},
   "outputs": [
    {
     "data": {
      "text/plain": [
       "{'visit_id': 1,\n",
       " 'visit_date': 2,\n",
       " 'scorch height': (12,),\n",
       " 'tree foliage biomass consumed': (14,),\n",
       " 'shrub foliage biomass consumed': (16,),\n",
       " 'ground foliage biomass consumed': (18,),\n",
       " 'tree foliage scorch': (13,),\n",
       " 'shrub foliage scorch': (15,),\n",
       " 'herb foliage scorch': (17,)}"
      ]
     },
     "execution_count": 39,
     "metadata": {},
     "output_type": "execute_result"
    }
   ],
   "source": [
    "col_def"
   ]
  },
  {
   "cell_type": "code",
   "execution_count": 40,
   "id": "d33a21aa-13a8-41f0-af3f-da454f834c10",
   "metadata": {},
   "outputs": [],
   "source": [
    "records=fv.read_fire_intensity(inputdir,filename,worksheet,col_def)"
   ]
  },
  {
   "cell_type": "markdown",
   "id": "2d7bfd45-e73c-459c-9456-d369993cf0fe",
   "metadata": {},
   "source": [
    "We will need to add some extra sites/visits to avoid errors in the function. Watch out for reviewing this later."
   ]
  },
  {
   "cell_type": "code",
   "execution_count": 41,
   "id": "309d73dc-1341-4a11-a80b-2f4ed31f993c",
   "metadata": {},
   "outputs": [],
   "source": [
    "add_visits = [{'visit_id': 'SCCJB37-Near', \n",
    " 'visit_date': '2021-01-01',\n",
    " 'replicate_nr': 3,\n",
    " 'mainobserver': 12,\n",
    " 'survey_name': 'Yatteyattah'\n",
    "},{'visit_id': 'SCCJB', \n",
    " 'visit_date': '2021-01-01',\n",
    " 'survey_name': 'Yatteyattah'\n",
    "},{'visit_id': 'SZ23101', \n",
    " 'visit_date': '2021-01-04',\n",
    "   'replicate_nr': 1,\n",
    " 'mainobserver': 12,\n",
    " 'survey_name': 'Yatteyattah'\n",
    "},{'visit_id': 'MR_N2', \n",
    " 'visit_date': '2021-01-04',\n",
    "   'replicate_nr': 1,\n",
    " 'mainobserver': 12,\n",
    " 'survey_name': 'Yatteyattah'\n",
    "},{'visit_id': 'MR_N4', \n",
    " 'visit_date': '2021-01-04',\n",
    "   'replicate_nr': 1,\n",
    " 'mainobserver': 12,\n",
    " 'survey_name': 'Yatteyattah'\n",
    "},{'visit_id': 'SCCRR25', \n",
    " 'visit_date': '2021-01-04',\n",
    "   'replicate_nr': 1,\n",
    " 'mainobserver': 12,\n",
    " 'survey_name': 'Yatteyattah'\n",
    "},{'visit_id': 'MIL012B', \n",
    " 'visit_date': '2021-01-04',\n",
    "   'replicate_nr': 1,\n",
    " 'mainobserver': 12,\n",
    " 'survey_name': 'Yatteyattah'\n",
    "}]\n",
    "\n",
    "add_sites = [{'site_label': 'SCCJB'},]"
   ]
  },
  {
   "cell_type": "code",
   "execution_count": 42,
   "id": "ecaadc9b-c260-4913-8591-581dd4b33604",
   "metadata": {},
   "outputs": [
    {
     "name": "stdout",
     "output_type": "stream",
     "text": [
      "Connecting to the PostgreSQL database...\n",
      "0 rows updated\n",
      "Database connection closed.\n",
      "Connecting to the PostgreSQL database...\n",
      "7 rows updated\n",
      "Database connection closed.\n"
     ]
    }
   ],
   "source": [
    "batch_upsert(dbparams,\"form.field_site\",add_sites,\n",
    "             keycol=('site_label'), \n",
    "             idx=None,execute=True)\n",
    "batch_upsert(dbparams,\"form.field_visit\",add_visits,\n",
    "             keycol=('visit_id','visit_date'), \n",
    "             idx='field_visit_pkey',execute=True)\n"
   ]
  },
  {
   "cell_type": "code",
   "execution_count": 43,
   "id": "bc354913-c698-4708-91a5-b63ae5c0ac42",
   "metadata": {},
   "outputs": [
    {
     "name": "stdout",
     "output_type": "stream",
     "text": [
      "Connecting to the PostgreSQL database...\n",
      "49 rows updated\n",
      "Database connection closed.\n"
     ]
    }
   ],
   "source": [
    "batch_upsert(dbparams,\"form.field_visit_vegetation_estimates\",records,\n",
    "             keycol=('visit_id','visit_date','measured_var'), \n",
    "             idx='field_visit_vegetation_estimates_pkey',execute=True)"
   ]
  },
  {
   "cell_type": "code",
   "execution_count": 45,
   "id": "67c54b74-b4f2-47a1-a397-5c9576025a1e",
   "metadata": {},
   "outputs": [],
   "source": [
    "col_def={'visit_id':1, 'visit_date':2, 'twig diameter':range(19,29)}\n",
    "records=fv.read_twig_diameters(inputdir,filename,worksheet,col_def)"
   ]
  },
  {
   "cell_type": "code",
   "execution_count": 46,
   "id": "c3dd9603-f085-45dc-945d-ed2ebbae3ef9",
   "metadata": {},
   "outputs": [
    {
     "data": {
      "text/plain": [
       "63"
      ]
     },
     "execution_count": 46,
     "metadata": {},
     "output_type": "execute_result"
    }
   ],
   "source": [
    "len(records)"
   ]
  },
  {
   "cell_type": "code",
   "execution_count": 47,
   "id": "9ec3621b-3c07-46dc-81a5-b2eeafd409e7",
   "metadata": {},
   "outputs": [
    {
     "name": "stdout",
     "output_type": "stream",
     "text": [
      "Connecting to the PostgreSQL database...\n",
      "63 rows updated\n",
      "Database connection closed.\n"
     ]
    }
   ],
   "source": [
    "batch_upsert(dbparams,\"form.field_visit_vegetation_raw_values\",records,\n",
    "             keycol=('visit_id','visit_date','measured_variable'), \n",
    "             idx=None,execute=True)"
   ]
  },
  {
   "cell_type": "markdown",
   "id": "9e081d90-b17c-4ee1-8dea-7705de69129b",
   "metadata": {
    "tags": []
   },
   "source": [
    "#### Alpine Ash\n",
    "Information about fire history and fire intensity are incomplete in this file"
   ]
  },
  {
   "cell_type": "code",
   "execution_count": 48,
   "id": "574956ff-b00a-44ee-8539-a1c9c1b979b2",
   "metadata": {},
   "outputs": [
    {
     "data": {
      "text/plain": [
       "'UNSW_VegFireResponse_KNP AlpAsh_firehistupdate.xlsx'"
      ]
     },
     "execution_count": 48,
     "metadata": {},
     "output_type": "execute_result"
    }
   ],
   "source": [
    "valid_files[4]"
   ]
  },
  {
   "cell_type": "markdown",
   "id": "c96f2bce-0f62-4dec-93e4-5362d9cb8973",
   "metadata": {},
   "source": [
    "#### Alpine Bogs"
   ]
  },
  {
   "cell_type": "code",
   "execution_count": 49,
   "id": "71ea8fe0-3082-41bd-9636-0c25ead18386",
   "metadata": {},
   "outputs": [
    {
     "name": "stdout",
     "output_type": "stream",
     "text": [
      "UNSW_VegFireResponse_AlpineBogs_reformat_Sep2021.xlsx\n"
     ]
    }
   ],
   "source": [
    "filename=valid_files[5]\n",
    "print(filename)\n",
    "worksheet='Fire'"
   ]
  },
  {
   "cell_type": "code",
   "execution_count": 50,
   "id": "877d3db7-c02d-40f2-9871-85561d0826ad",
   "metadata": {},
   "outputs": [],
   "source": [
    "col_def={'visit_id':1, 'visit_date':3, \n",
    "         'shrub foliage biomass consumed':(17,), \n",
    "         'ground foliage biomass consumed':(19,),\n",
    "        'peat extent burnt':(31,),\n",
    "        'peat depth burnt':(30,)}"
   ]
  },
  {
   "cell_type": "code",
   "execution_count": 51,
   "id": "9cdb6b66-4ee9-48a9-82a8-1180686a8092",
   "metadata": {},
   "outputs": [],
   "source": [
    "records=fv.read_fire_intensity(inputdir,filename,worksheet,col_def)"
   ]
  },
  {
   "cell_type": "code",
   "execution_count": 52,
   "id": "53623d86-6a08-42f4-8221-fd9e76e09c34",
   "metadata": {},
   "outputs": [
    {
     "data": {
      "text/plain": [
       "24"
      ]
     },
     "execution_count": 52,
     "metadata": {},
     "output_type": "execute_result"
    }
   ],
   "source": [
    "len(records)"
   ]
  },
  {
   "cell_type": "code",
   "execution_count": 53,
   "id": "86e54454-43cb-4ab0-b721-653c9dcb4257",
   "metadata": {},
   "outputs": [
    {
     "name": "stdout",
     "output_type": "stream",
     "text": [
      "Connecting to the PostgreSQL database...\n",
      "24 rows updated\n",
      "Database connection closed.\n"
     ]
    }
   ],
   "source": [
    "batch_upsert(dbparams,\"form.field_visit_vegetation_estimates\",records,\n",
    "             keycol=('visit_id','visit_date','measured_var'), \n",
    "             idx='field_visit_vegetation_estimates_pkey',execute=True)\n"
   ]
  },
  {
   "cell_type": "code",
   "execution_count": 54,
   "id": "86efc3db-ebd4-4299-bb71-8e060fa15ae8",
   "metadata": {},
   "outputs": [],
   "source": [
    "col_def={'visit_id':1, 'visit_date':3, 'twig diameter':range(20,30)}\n",
    "records=fv.read_twig_diameters(inputdir,filename,worksheet,col_def)"
   ]
  },
  {
   "cell_type": "code",
   "execution_count": 55,
   "id": "bfced836-6347-40b8-9c3f-22e5858d86f9",
   "metadata": {},
   "outputs": [
    {
     "name": "stdout",
     "output_type": "stream",
     "text": [
      "Connecting to the PostgreSQL database...\n",
      "60 rows updated\n",
      "Database connection closed.\n"
     ]
    }
   ],
   "source": [
    "len(records)\n",
    "batch_upsert(dbparams,\"form.field_visit_vegetation_raw_values\",records,\n",
    "             keycol=('visit_id','visit_date','measured_variable'), \n",
    "             idx=None,execute=True)"
   ]
  },
  {
   "cell_type": "markdown",
   "id": "8b14cb96-a523-4375-9832-6d7bdec4927c",
   "metadata": {},
   "source": [
    "#### Robertson RF"
   ]
  },
  {
   "cell_type": "code",
   "execution_count": 56,
   "id": "791ffa06-f870-46e8-9c1e-bc94c0475898",
   "metadata": {},
   "outputs": [
    {
     "name": "stdout",
     "output_type": "stream",
     "text": [
      "RobertsonRF_data_bionet2.xlsx\n"
     ]
    }
   ],
   "source": [
    "filename=valid_files[6]\n",
    "print(filename)\n"
   ]
  },
  {
   "cell_type": "code",
   "execution_count": 57,
   "id": "c06c248b-6e29-44b9-a37c-7cbd31952e10",
   "metadata": {},
   "outputs": [],
   "source": [
    "col_def={'visit_id':1, 'visit_date':3, 'scorch height':(15,13,14),\n",
    "         'tree foliage biomass consumed':(17,), \n",
    "         'shrub foliage biomass consumed':(19,), \n",
    "         'ground foliage biomass consumed':(21,),\n",
    "        'tree foliage scorch':(16,), \n",
    "         'shrub foliage scorch':(18,), \n",
    "         'herb foliage scorch':(20,),\n",
    "         'peat extent burnt':(33,),\n",
    "        'peat depth burnt':(32,)}"
   ]
  },
  {
   "cell_type": "code",
   "execution_count": 58,
   "id": "7929cc39-957b-45d0-815c-ca2f1fa5bf69",
   "metadata": {},
   "outputs": [],
   "source": [
    "records=fv.read_fire_intensity(inputdir,filename,worksheet,col_def)"
   ]
  },
  {
   "cell_type": "code",
   "execution_count": 59,
   "id": "bbe1ba24-0861-4a13-a044-76f9c690f3f4",
   "metadata": {},
   "outputs": [
    {
     "name": "stdout",
     "output_type": "stream",
     "text": [
      "Connecting to the PostgreSQL database...\n",
      "18 rows updated\n",
      "Database connection closed.\n"
     ]
    }
   ],
   "source": [
    "batch_upsert(dbparams,\"form.field_visit_vegetation_estimates\",records,\n",
    "             keycol=('visit_id','visit_date','measured_var'), \n",
    "             idx='field_visit_vegetation_estimates_pkey',execute=True)\n"
   ]
  },
  {
   "cell_type": "code",
   "execution_count": 60,
   "id": "309107d3-6d81-4f3e-a42a-c0edabfa3877",
   "metadata": {},
   "outputs": [],
   "source": [
    "col_def={'visit_id':1, 'visit_date':3, 'twig diameter':range(22,32)}\n",
    "records=fv.read_twig_diameters(inputdir,filename,worksheet,col_def)"
   ]
  },
  {
   "cell_type": "code",
   "execution_count": 61,
   "id": "bc77ec43-da89-4b42-9c89-261c8366f9ec",
   "metadata": {},
   "outputs": [
    {
     "name": "stdout",
     "output_type": "stream",
     "text": [
      "Connecting to the PostgreSQL database...\n",
      "20 rows updated\n",
      "Database connection closed.\n"
     ]
    }
   ],
   "source": [
    "len(records)\n",
    "batch_upsert(dbparams,\"form.field_visit_vegetation_raw_values\",records,\n",
    "             keycol=('visit_id','visit_date','measured_variable'), \n",
    "             idx=None,execute=True)"
   ]
  },
  {
   "cell_type": "code",
   "execution_count": null,
   "id": "304c53b5-b377-496b-bb5d-5800129fe6cc",
   "metadata": {},
   "outputs": [],
   "source": []
  },
  {
   "cell_type": "markdown",
   "id": "f2e3eea5-812a-4d48-a41a-a90a69654c60",
   "metadata": {
    "tags": []
   },
   "source": [
    "### Read valid vegetation classes from spreadsheet"
   ]
  },
  {
   "cell_type": "markdown",
   "id": "eaaca26f-dcc0-4201-8ba7-d94792e828f3",
   "metadata": {},
   "source": [
    "This was provided by David Keith in April 2022 as vocabulary for the vegetation classes and formations"
   ]
  },
  {
   "cell_type": "code",
   "execution_count": 68,
   "id": "8cab3fc4-15aa-4895-9ab6-cc2dbbcfb1a9",
   "metadata": {},
   "outputs": [],
   "source": [
    "vegclass = pd.read_excel(repodir / \"data\" / \"NSWmap_v3_key3.xlsx\")"
   ]
  },
  {
   "cell_type": "code",
   "execution_count": 69,
   "id": "8802a19c-930c-43a9-8da8-41be428d8b57",
   "metadata": {},
   "outputs": [
    {
     "name": "stdout",
     "output_type": "stream",
     "text": [
      "Connecting to the PostgreSQL database...\n",
      "107 rows updated\n",
      "Database connection closed.\n"
     ]
    }
   ],
   "source": [
    "records=list()\n",
    "for row in vegclass.values:\n",
    "    records.append({'vegetation_formation':row[2],'vegetation_class':row[1],'mapunitno':row[0],'formnum':row[3]})\n",
    "    \n",
    "batch_upsert(dbparams,\n",
    "             \"vegetation.nsw_units\",\n",
    "             records,\n",
    "             keycol=('vegetation_class','vegetation_formation'), \n",
    "             idx=None,execute=True)\n"
   ]
  },
  {
   "cell_type": "markdown",
   "id": "7b5de410-2c52-40d6-87f5-40542f653d86",
   "metadata": {
    "jp-MarkdownHeadingCollapsed": true
   },
   "source": [
    "### Vegetation formation and structure\n",
    "We can do both of these for each survey.\n"
   ]
  },
  {
   "cell_type": "markdown",
   "id": "0eb9c935-6768-4adb-a894-589b256936c3",
   "metadata": {
    "jp-MarkdownHeadingCollapsed": true
   },
   "source": [
    "#### Southern Rainforest\n",
    "\n",
    "Let's add first the vegetation formation information:"
   ]
  },
  {
   "cell_type": "code",
   "execution_count": 71,
   "id": "7df57c7a-9144-4641-8349-8c89fa0b3d44",
   "metadata": {},
   "outputs": [
    {
     "data": {
      "text/plain": [
       "['NSW TEC', 'variant', 'Vegetation formation', 'Vegegtation class']"
      ]
     },
     "execution_count": 71,
     "metadata": {},
     "output_type": "execute_result"
    }
   ],
   "source": [
    "wbindex['SthnNSWRF_data_bionet2.xlsx']['Site'][0][40:]"
   ]
  },
  {
   "cell_type": "code",
   "execution_count": 72,
   "id": "fe8d766a-cabc-4ef6-95a3-dc7be4105969",
   "metadata": {},
   "outputs": [
    {
     "data": {
      "text/plain": [
       "5"
      ]
     },
     "execution_count": 72,
     "metadata": {},
     "output_type": "execute_result"
    }
   ],
   "source": [
    "filename='SthnNSWRF_data_bionet2.xlsx'\n",
    "worksheet='Site'\n",
    "records = fv.read_veg_classes(inputdir,filename,worksheet,{'visit_id':1,'visit_date':4,'vegetation_formation':43,'vegetation_class':44})\n",
    "len(records)"
   ]
  },
  {
   "cell_type": "code",
   "execution_count": 73,
   "id": "2cf4992e-47ee-421b-871e-3da76cdc4cac",
   "metadata": {},
   "outputs": [
    {
     "name": "stdout",
     "output_type": "stream",
     "text": [
      "Connecting to the PostgreSQL database...\n",
      "5 rows updated\n",
      "Database connection closed.\n"
     ]
    }
   ],
   "source": [
    "batch_upsert(dbparams,\"form.field_visit_veg_description\",\n",
    "             records,keycol=('visit_id','visit_date'), idx=None,execute=True)\n"
   ]
  },
  {
   "cell_type": "markdown",
   "id": "38b6200b-e701-4641-a63b-008717b9f862",
   "metadata": {},
   "source": [
    "Now we can upload the vegetation structure data"
   ]
  },
  {
   "cell_type": "code",
   "execution_count": 74,
   "id": "48abfc41-2518-4b11-b9b4-d1baa4998a92",
   "metadata": {},
   "outputs": [
    {
     "data": {
      "text/plain": [
       "['SiteNo',\n",
       " 'Replicate',\n",
       " 'Date',\n",
       " 'Stage',\n",
       " 'Stratum',\n",
       " 'LowerHeight',\n",
       " 'UpperHeight',\n",
       " 'ModalHeight',\n",
       " 'PercentCover',\n",
       " 'Dominant1',\n",
       " 'Dominant2']"
      ]
     },
     "execution_count": 74,
     "metadata": {},
     "output_type": "execute_result"
    }
   ],
   "source": [
    "filename='SthnNSWRF_data_bionet2.xlsx'\n",
    "worksheet='Structure'\n",
    "wbindex[filename][worksheet][0]"
   ]
  },
  {
   "cell_type": "code",
   "execution_count": 75,
   "id": "a17bdd59-e7d7-4c87-990e-e72c3fd6deee",
   "metadata": {},
   "outputs": [],
   "source": [
    "col_def={'visit_id':1, 'visit_date':3, 'stage':4, 'stratum':5, 'height':(8,6,7),'cover':(9,)}"
   ]
  },
  {
   "cell_type": "code",
   "execution_count": 77,
   "id": "bc8cfa48-2829-4f06-8efc-ba43a2f097de",
   "metadata": {},
   "outputs": [],
   "source": [
    "records=fv.read_veg_structure(inputdir,filename,worksheet,col_def)"
   ]
  },
  {
   "cell_type": "code",
   "execution_count": 78,
   "id": "82001c9e-cada-4ba8-9a7d-088fe64ae013",
   "metadata": {},
   "outputs": [
    {
     "data": {
      "text/plain": [
       "[{'visit_id': 'MaxwellsCk',\n",
       "  'visit_date': datetime.date(2021, 12, 2),\n",
       "  'comment': ['Stage: inferred prefire',\n",
       "   'upper bound given as 20 but less than best estimate'],\n",
       "  'measured_var': 'stratum T height',\n",
       "  'best': 30,\n",
       "  'lower': 12,\n",
       "  'upper': 30},\n",
       " {'visit_id': 'MaxwellsCk',\n",
       "  'visit_date': datetime.date(2021, 12, 2),\n",
       "  'comment': ['Stage: inferred prefire'],\n",
       "  'measured_var': 'stratum T cover',\n",
       "  'best': 70}]"
      ]
     },
     "execution_count": 78,
     "metadata": {},
     "output_type": "execute_result"
    }
   ],
   "source": [
    "len(records)\n",
    "records[36:38]"
   ]
  },
  {
   "cell_type": "code",
   "execution_count": 79,
   "id": "88474666-8ae6-48e5-99a8-02e8e77a1b98",
   "metadata": {},
   "outputs": [
    {
     "name": "stdout",
     "output_type": "stream",
     "text": [
      "Connecting to the PostgreSQL database...\n",
      "72 rows updated\n",
      "Database connection closed.\n"
     ]
    }
   ],
   "source": [
    "batch_upsert(dbparams,\"form.field_visit_vegetation_estimates\",records,\n",
    "             keycol=('visit_id','visit_date','measured_var'), \n",
    "             idx='field_visit_vegetation_estimates_pkey',execute=True)\n"
   ]
  },
  {
   "cell_type": "markdown",
   "id": "459ef8cc-e706-4b38-a6be-4f8382ab6fdb",
   "metadata": {
    "jp-MarkdownHeadingCollapsed": true
   },
   "source": [
    "#### KNP Alp Ash"
   ]
  },
  {
   "cell_type": "code",
   "execution_count": 80,
   "id": "fc31edf1-aa78-4c13-9726-22e4be5e70db",
   "metadata": {},
   "outputs": [
    {
     "data": {
      "text/plain": [
       "['NSW TEC',\n",
       " 'variant',\n",
       " 'Vegetation formation',\n",
       " 'Vegegtation class',\n",
       " 'NSW PCT',\n",
       " None,\n",
       " None,\n",
       " None]"
      ]
     },
     "execution_count": 80,
     "metadata": {},
     "output_type": "execute_result"
    }
   ],
   "source": [
    "filename='UNSW_VegFireResponse_KNP AlpAsh_firehistupdate.xlsx'\n",
    "worksheet='Site'\n",
    "wbindex[filename][worksheet][0][40:48]\n"
   ]
  },
  {
   "cell_type": "code",
   "execution_count": 82,
   "id": "fd400733-b865-46be-84d1-aecc72eeae0f",
   "metadata": {},
   "outputs": [],
   "source": [
    "records = fv.read_veg_classes(inputdir,filename,worksheet,\n",
    "                              {'visit_id':1,'visit_date':4,'vegetation_formation':43,'vegetation_class':44})\n"
   ]
  },
  {
   "cell_type": "code",
   "execution_count": 83,
   "id": "742d06a2-2340-463b-b585-7268d4e8a8d6",
   "metadata": {},
   "outputs": [
    {
     "data": {
      "text/plain": [
       "8"
      ]
     },
     "execution_count": 83,
     "metadata": {},
     "output_type": "execute_result"
    }
   ],
   "source": [
    "len(records)"
   ]
  },
  {
   "cell_type": "code",
   "execution_count": 84,
   "id": "4f23e078-682d-461c-ab65-aed1c99761f3",
   "metadata": {},
   "outputs": [
    {
     "name": "stdout",
     "output_type": "stream",
     "text": [
      "Connecting to the PostgreSQL database...\n",
      "8 rows updated\n",
      "Database connection closed.\n"
     ]
    }
   ],
   "source": [
    "batch_upsert(dbparams,\"form.field_visit_veg_description\",\n",
    "             records,keycol=('visit_id','visit_date'), idx=None,execute=True)\n"
   ]
  },
  {
   "cell_type": "code",
   "execution_count": 86,
   "id": "adc64bc2-7c95-4c24-8951-baa970d578c3",
   "metadata": {},
   "outputs": [
    {
     "data": {
      "text/plain": [
       "110"
      ]
     },
     "execution_count": 86,
     "metadata": {},
     "output_type": "execute_result"
    }
   ],
   "source": [
    "worksheet='Structure'\n",
    "col_def={'visit_id':1, 'visit_date':3, 'stage':4, 'stratum':5, 'height':(8,6,7),'cover':(9,)}\n",
    "records=fv.read_veg_structure(inputdir,filename,worksheet,col_def)\n",
    "len(records)"
   ]
  },
  {
   "cell_type": "code",
   "execution_count": 87,
   "id": "d722b352-3a91-4028-8551-2a1de279f885",
   "metadata": {
    "scrolled": true
   },
   "outputs": [
    {
     "name": "stdout",
     "output_type": "stream",
     "text": [
      "stratum T1 height\n",
      "stratum T1 cover\n",
      "stratum T2 height\n",
      "stratum T2 cover\n",
      "stratum M1 height\n",
      "stratum M1 cover\n",
      "stratum L1 height\n",
      "stratum L1 cover\n",
      "stratum T1 height\n",
      "stratum T1 cover\n",
      "stratum T2 height\n",
      "stratum T2 cover\n",
      "stratum M1 height\n",
      "stratum M1 cover\n",
      "stratum L1 height\n",
      "stratum L1 cover\n",
      "stratum T1 height\n",
      "stratum T1 cover\n",
      "stratum T2 height\n",
      "stratum T2 cover\n",
      "stratum M1 height\n",
      "stratum M1 cover\n",
      "stratum L1 height\n",
      "stratum L1 cover\n",
      "stratum T1 height\n",
      "stratum T1 cover\n",
      "stratum T2 height\n",
      "stratum T2 cover\n",
      "stratum M1 height\n",
      "stratum M1 cover\n",
      "stratum L1 height\n",
      "stratum L1 cover\n",
      "stratum T height\n",
      "stratum T cover\n",
      "stratum M1 height\n",
      "stratum M1 cover\n",
      "stratum L1 height\n",
      "stratum L1 cover\n",
      "stratum T height\n",
      "stratum T cover\n",
      "stratum M1 height\n",
      "stratum M1 cover\n",
      "stratum L1 height\n",
      "stratum L1 cover\n",
      "stratum T1 height\n",
      "stratum T1 cover\n",
      "stratum T2 height\n",
      "stratum T2 cover\n",
      "stratum M1 height\n",
      "stratum M1 cover\n",
      "stratum L1 height\n",
      "stratum L1 cover\n",
      "stratum T1 height\n",
      "stratum T1 cover\n",
      "stratum T2 height\n",
      "stratum T2 cover\n",
      "stratum M1 height\n",
      "stratum M1 cover\n",
      "stratum L1 height\n",
      "stratum L1 cover\n",
      "stratum T height\n",
      "stratum T cover\n",
      "stratum M1 height\n",
      "stratum M1 cover\n",
      "stratum L1 height\n",
      "stratum L1 cover\n",
      "stratum T height\n",
      "stratum T cover\n",
      "stratum M1 height\n",
      "stratum M1 cover\n",
      "stratum L1 height\n",
      "stratum L1 cover\n",
      "stratum T height\n",
      "stratum T cover\n",
      "stratum M1 height\n",
      "stratum M1 cover\n",
      "stratum L1 height\n",
      "stratum L1 cover\n",
      "stratum T height\n",
      "stratum T cover\n",
      "stratum M1 height\n",
      "stratum M1 cover\n",
      "stratum L1 height\n",
      "stratum L1 cover\n",
      "stratum T height\n",
      "stratum T cover\n",
      "stratum M1 height\n",
      "stratum M1 cover\n",
      "stratum L1 height\n",
      "stratum L1 cover\n",
      "stratum E height\n",
      "stratum E cover\n",
      "stratum T height\n",
      "stratum T cover\n",
      "stratum M1 height\n",
      "stratum M1 cover\n",
      "stratum L1 height\n",
      "stratum L1 cover\n",
      "stratum T height\n",
      "stratum T cover\n",
      "stratum M1 height\n",
      "stratum M1 cover\n",
      "stratum L1 height\n",
      "stratum L1 cover\n",
      "stratum T height\n",
      "stratum T cover\n",
      "stratum M1 height\n",
      "stratum M1 cover\n",
      "stratum L1 height\n",
      "stratum L1 cover\n"
     ]
    }
   ],
   "source": [
    "for record in records:\n",
    "    print(record['measured_var'])"
   ]
  },
  {
   "cell_type": "code",
   "execution_count": 89,
   "id": "26687479-3e3b-45a5-ae47-cf687f68ec74",
   "metadata": {},
   "outputs": [],
   "source": [
    "all_visits = dbquery(\"select distinct visit_id,visit_date FROM form.field_visit\",\n",
    "        dbparams)"
   ]
  },
  {
   "cell_type": "code",
   "execution_count": 90,
   "id": "43d76a4b-0d5c-4dcf-ba38-a3c8b4859928",
   "metadata": {},
   "outputs": [
    {
     "name": "stdout",
     "output_type": "stream",
     "text": [
      "{'visit_id': 'AlpAsh_69', 'visit_date': datetime.date(2021, 4, 14), 'comment': ['Stage: inferred prefire'], 'measured_var': 'stratum T1 height', 'best': 40, 'lower': 40, 'upper': 40}\n",
      "{'visit_id': 'AlpAsh_69', 'visit_date': datetime.date(2021, 4, 14), 'comment': ['Stage: inferred prefire'], 'measured_var': 'stratum T1 cover', 'best': 3}\n"
     ]
    }
   ],
   "source": [
    "valid_records=list()\n",
    "for record in records:\n",
    "    p=filter(lambda n: n['visit_id'] == record['visit_id'] and  n['visit_date'] == record['visit_date'], all_visits)\n",
    "    found=list(p)\n",
    "    if len(found) == 0:\n",
    "        print(record)\n",
    "    else:\n",
    "        valid_records.append(record)"
   ]
  },
  {
   "cell_type": "code",
   "execution_count": 91,
   "id": "3c5aea24-9922-43ed-b70e-f81bdeaad89c",
   "metadata": {},
   "outputs": [
    {
     "name": "stdout",
     "output_type": "stream",
     "text": [
      "Connecting to the PostgreSQL database...\n",
      "108 rows updated\n",
      "Database connection closed.\n"
     ]
    }
   ],
   "source": [
    "batch_upsert(dbparams,\"form.field_visit_vegetation_estimates\",valid_records,\n",
    "             keycol=('visit_id','visit_date','measured_var'), \n",
    "             idx='field_visit_vegetation_estimates_pkey',execute=True)\n"
   ]
  },
  {
   "cell_type": "markdown",
   "id": "5fd08cbf-e030-4fb3-aa23-a9d5752d85ac",
   "metadata": {
    "jp-MarkdownHeadingCollapsed": true
   },
   "source": [
    "#### Alpine bogs\n",
    "Here we have information about vegetation formations."
   ]
  },
  {
   "cell_type": "code",
   "execution_count": 92,
   "id": "047ef600-9862-4804-b911-1aec706c1250",
   "metadata": {},
   "outputs": [
    {
     "data": {
      "text/plain": [
       "['NSW TEC',\n",
       " 'variant',\n",
       " 'Vegetation formation',\n",
       " 'Vegegtation class',\n",
       " 'NSW PCT',\n",
       " None,\n",
       " None,\n",
       " None]"
      ]
     },
     "execution_count": 92,
     "metadata": {},
     "output_type": "execute_result"
    }
   ],
   "source": [
    "filename='UNSW_VegFireResponse_AlpineBogs_reformat_Sep2021.xlsx'\n",
    "worksheet='Site'\n",
    "\n",
    "wbindex[filename][worksheet][0][40:48]"
   ]
  },
  {
   "cell_type": "code",
   "execution_count": 93,
   "id": "63915118-5020-4205-bcc6-6b96ff7cb58f",
   "metadata": {},
   "outputs": [],
   "source": [
    "records = fv.read_veg_classes(inputdir,filename,worksheet,{'visit_id':1,'visit_date':4,'vegetation_formation':43,'vegetation_class':44})\n"
   ]
  },
  {
   "cell_type": "code",
   "execution_count": 94,
   "id": "74a5922c-5b39-4275-8cab-e96b9f09d88b",
   "metadata": {},
   "outputs": [
    {
     "data": {
      "text/plain": [
       "6"
      ]
     },
     "execution_count": 94,
     "metadata": {},
     "output_type": "execute_result"
    }
   ],
   "source": [
    "len(records)"
   ]
  },
  {
   "cell_type": "code",
   "execution_count": 95,
   "id": "e30bd12e-ca16-4202-b2eb-e6ec20df3ded",
   "metadata": {},
   "outputs": [
    {
     "name": "stdout",
     "output_type": "stream",
     "text": [
      "Connecting to the PostgreSQL database...\n",
      "6 rows updated\n",
      "Database connection closed.\n"
     ]
    }
   ],
   "source": [
    "batch_upsert(dbparams,\"form.field_visit_veg_description\",records,keycol=('visit_id','visit_date'), idx=None,execute=True)\n"
   ]
  },
  {
   "cell_type": "markdown",
   "id": "12783439-0d05-4a52-bb89-be648bf712b9",
   "metadata": {},
   "source": [
    "Need to reformat the Vegetation Structure table before adding it to the database."
   ]
  },
  {
   "cell_type": "code",
   "execution_count": 98,
   "id": "af55b939-ad08-4ade-abd8-b1806180ed0d",
   "metadata": {},
   "outputs": [],
   "source": [
    "worksheet='VegStructure'"
   ]
  },
  {
   "cell_type": "code",
   "execution_count": 102,
   "id": "04aaea6f-d855-4bb6-b4d1-0adfd95ba100",
   "metadata": {
    "scrolled": true
   },
   "outputs": [
    {
     "data": {
      "text/plain": [
       "['Site',\n",
       " 'Replicate',\n",
       " 'Prefire treehgt lower',\n",
       " 'Prefire treehgt upper',\n",
       " 'Prefire treehgt mode',\n",
       " 'Prefire treecov',\n",
       " 'Prefire shbhgt lower',\n",
       " 'Prefire shbhgt upper',\n",
       " 'Prefire shbhgt mode',\n",
       " 'Prefire shbcov',\n",
       " 'Prefire hrbhgt lower',\n",
       " 'Prefire hrbhgt upper',\n",
       " 'Prefire hrbhgt mode',\n",
       " 'Prefire hrbcov',\n",
       " 'Prefire moss hgt',\n",
       " 'Prefire moss cover',\n",
       " 'Postfire treehgt lower',\n",
       " 'Postfire treehgt upper',\n",
       " 'Postfire treehgt mode',\n",
       " 'Postfire treecov',\n",
       " 'Postfire shbhgt lower',\n",
       " 'Postfire shbhgt upper',\n",
       " 'Postfire shbhgt mode',\n",
       " 'Postfire shbcov',\n",
       " 'Postfire hrbhgt lower',\n",
       " 'Postfire hrbhgt upper',\n",
       " 'Postfire hrbhgt mode',\n",
       " 'Postfire hrbcov',\n",
       " 'postfire moss ht']"
      ]
     },
     "execution_count": 102,
     "metadata": {},
     "output_type": "execute_result"
    }
   ],
   "source": [
    "wbindex[filename][worksheet][1]"
   ]
  },
  {
   "cell_type": "markdown",
   "id": "5cf26ed9-dca2-409c-83f1-e24aca32d2ac",
   "metadata": {
    "jp-MarkdownHeadingCollapsed": true
   },
   "source": [
    "#### Newnes\n",
    "Vegetation information is not present in 'Site' worksheet. Not imported."
   ]
  },
  {
   "cell_type": "code",
   "execution_count": 105,
   "id": "f7428013-0555-46b2-a241-34e2f01f674d",
   "metadata": {
    "scrolled": true
   },
   "outputs": [
    {
     "data": {
      "text/plain": [
       "['Site',\n",
       " 'Easting',\n",
       " 'Northing',\n",
       " 'Valley',\n",
       " 'Elev',\n",
       " 'Undermined',\n",
       " 'Fire interval',\n",
       " 'Census',\n",
       " 'Date',\n",
       " 'Scorch hgt',\n",
       " 'Shb foliage scorch',\n",
       " \"Shb foliage c'sume\",\n",
       " 'Herb foliage scorch',\n",
       " \"Herb foliage c'sume\",\n",
       " 'Twig diam mean',\n",
       " 'Twig diam se',\n",
       " 'Peat depth burnt',\n",
       " 'Peat extent burnt',\n",
       " 'Peat fire index',\n",
       " 'Postfire treehgt lower',\n",
       " 'Postfire treehgt upper',\n",
       " 'Postfire treehgt mode',\n",
       " 'Postfire treecov',\n",
       " 'Prefire shbhgt lower',\n",
       " 'Prefire shbhgt upper',\n",
       " 'Prefire shbhgt mode',\n",
       " 'Prefire shbcov',\n",
       " 'Postfire shbhgt lower',\n",
       " 'Postfire shbhgt upper',\n",
       " 'Postfire shbhgt mode',\n",
       " 'Postfire shbcov',\n",
       " 'Prefire hrbhgt lower',\n",
       " 'Prefire hrbhgt upper',\n",
       " 'Prefire hrbhgt mode',\n",
       " 'Prefire hrbcov',\n",
       " 'Postfire hrbhgt lower',\n",
       " 'Postfire hrbhgt upper',\n",
       " 'Postfire hrbhgt mode',\n",
       " 'Postfire hrbcov',\n",
       " 'Biomass A',\n",
       " 'Biomass B',\n",
       " 'Biomass C',\n",
       " 'Biomass D',\n",
       " 'Biomass E',\n",
       " 'Mean dry (60C) biomass (g)',\n",
       " 'CV biomass',\n",
       " 'Mean biomass (g/m2)',\n",
       " 'Native spp richness',\n",
       " 'Sediment depth (mm) 1',\n",
       " 'Sediment depth (mm) 2',\n",
       " 'Sediment depth (mm) 3',\n",
       " 'Sediment depth (mm) 4',\n",
       " 'Sediment depth (mm) 5',\n",
       " 'Sediment depth (mm) 6',\n",
       " 'Sediment depth (mm) 7',\n",
       " 'Sediment depth (mm) 8',\n",
       " 'Sediment depth (mm) 9']"
      ]
     },
     "execution_count": 105,
     "metadata": {},
     "output_type": "execute_result"
    }
   ],
   "source": [
    "filename='Fire response quadrat survey Newnes Nov2020_DK_revised IDs+AllNovData.xlsm'\n",
    "worksheet='Site'\n",
    "wbindex[filename][worksheet][0]"
   ]
  },
  {
   "cell_type": "markdown",
   "id": "eb90078a-e2d6-4b2a-acee-6b755a1f2f47",
   "metadata": {},
   "source": [
    "Vegetation structure data available in a separate CSV file, need to find the file and work on the best approach for data input"
   ]
  },
  {
   "cell_type": "code",
   "execution_count": 107,
   "id": "e66624e7-0f60-4d30-9e23-4bdad70e07ff",
   "metadata": {},
   "outputs": [],
   "source": [
    "# newnes = pd.read_csv(inputdir / 'NewnesStruc.csv')\n",
    "# newnes['Stratum']"
   ]
  },
  {
   "cell_type": "markdown",
   "id": "b0ecccd9-ab18-4b75-9e05-37355656bd79",
   "metadata": {
    "jp-MarkdownHeadingCollapsed": true
   },
   "source": [
    "#### Upland Basalt"
   ]
  },
  {
   "cell_type": "code",
   "execution_count": 108,
   "id": "624807f7-27b9-476f-a588-3d6b54fc27fe",
   "metadata": {},
   "outputs": [
    {
     "data": {
      "text/plain": [
       "['Site',\n",
       " 'Replicate',\n",
       " 'Date of previous survey',\n",
       " 'Observers (comma sep if >1)',\n",
       " 'Date of sampling',\n",
       " 'Prior Survey Date',\n",
       " None,\n",
       " None]"
      ]
     },
     "execution_count": 108,
     "metadata": {},
     "output_type": "execute_result"
    }
   ],
   "source": [
    "filename='UNSWFireVegResponse_UplandBasalt_AlexThomsen+DK.xlsx'\n",
    "worksheet='Site'\n",
    "\n",
    "wbindex[filename][worksheet][0][0:8]"
   ]
  },
  {
   "cell_type": "code",
   "execution_count": 109,
   "id": "3ecfcddf-adbe-460d-91b9-d920e901bbdd",
   "metadata": {},
   "outputs": [],
   "source": [
    "records = fv.read_veg_classes(inputdir,filename,worksheet,{'visit_id':1,'visit_date':3,'vegetation_formation':44,'vegetation_class':45})\n"
   ]
  },
  {
   "cell_type": "code",
   "execution_count": 110,
   "id": "44ba19bb-1e70-48d8-b910-a6a61249e308",
   "metadata": {},
   "outputs": [
    {
     "data": {
      "text/plain": [
       "{'visit_id': 'MTW01TOU',\n",
       " 'visit_date': datetime.date(2020, 12, 9),\n",
       " 'vegetation_formation': 'Wet sclerophyll forests (Shrubby subformation)',\n",
       " 'vegetation_class': 'Southern Escarpment Wet Sclerophyll Forests'}"
      ]
     },
     "execution_count": 110,
     "metadata": {},
     "output_type": "execute_result"
    }
   ],
   "source": [
    "records[10]"
   ]
  },
  {
   "cell_type": "code",
   "execution_count": 111,
   "id": "942c2e1a-097a-4f08-bdb8-97d39d1e0c09",
   "metadata": {},
   "outputs": [
    {
     "name": "stdout",
     "output_type": "stream",
     "text": [
      "Connecting to the PostgreSQL database...\n",
      "28 rows updated\n",
      "Database connection closed.\n"
     ]
    }
   ],
   "source": [
    "batch_upsert(dbparams,\"form.field_visit_veg_description\",records,keycol=('visit_id','visit_date'), idx='field_visit_veg_description_pkey',execute=True)\n"
   ]
  },
  {
   "cell_type": "markdown",
   "id": "1d02660a-7f5e-4550-bc97-8f918e29f886",
   "metadata": {},
   "source": [
    "Manual updates: \n",
    "- date for MWL15 changed from 11/11/2021 to 11/11/2020\n",
    "- date for MWL11 changed from 18/11/2021 to 18/11/2020\n",
    "\n",
    "Problems:\n",
    "- date for MWL11b does not match, not sure which one is correct"
   ]
  },
  {
   "cell_type": "code",
   "execution_count": 113,
   "id": "101040d8-67ac-4e66-8299-b35ee0974055",
   "metadata": {},
   "outputs": [
    {
     "data": {
      "text/plain": [
       "['SiteNo',\n",
       " 'Replicate',\n",
       " 'Date',\n",
       " 'Stage',\n",
       " 'Stratum',\n",
       " 'LowerHeight',\n",
       " 'UpperHeight',\n",
       " 'ModalHeight',\n",
       " 'PercentCover',\n",
       " 'Dominant1',\n",
       " 'Dominant2']"
      ]
     },
     "execution_count": 113,
     "metadata": {},
     "output_type": "execute_result"
    }
   ],
   "source": [
    "worksheet='Structure'\n",
    "wbindex[filename][worksheet][0]"
   ]
  },
  {
   "cell_type": "code",
   "execution_count": 115,
   "id": "8ef7b29d-2183-4e22-a3ef-82f5e1d3f2cc",
   "metadata": {},
   "outputs": [
    {
     "data": {
      "text/plain": [
       "186"
      ]
     },
     "execution_count": 115,
     "metadata": {},
     "output_type": "execute_result"
    }
   ],
   "source": [
    "col_def={'visit_id':1, 'visit_date':3, 'stage':4, 'stratum':5, 'height':(8,6,7),'cover':(9,)}\n",
    "records=fv.read_veg_structure(inputdir,filename,worksheet,col_def)\n",
    "len(records)"
   ]
  },
  {
   "cell_type": "code",
   "execution_count": 116,
   "id": "451668e2-ef67-46e6-b392-183acdba8963",
   "metadata": {},
   "outputs": [
    {
     "name": "stdout",
     "output_type": "stream",
     "text": [
      "{'visit_id': 'MWL11b', 'visit_date': datetime.date(2021, 12, 2), 'comment': ['Stage: 1 year postfire'], 'measured_var': 'stratum T height', 'best': 25, 'lower': 20, 'upper': 25}\n",
      "{'visit_id': 'MWL11b', 'visit_date': datetime.date(2021, 12, 2), 'comment': ['Stage: 1 year postfire'], 'measured_var': 'stratum T cover', 'best': 10}\n",
      "{'visit_id': 'MWL11b', 'visit_date': datetime.date(2021, 12, 2), 'comment': ['Stage: 1 year postfire'], 'measured_var': 'stratum M1 height', 'best': 0.5, 'lower': 0.5, 'upper': 6}\n",
      "{'visit_id': 'MWL11b', 'visit_date': datetime.date(2021, 12, 2), 'comment': ['Stage: 1 year postfire'], 'measured_var': 'stratum M1 cover', 'best': 2}\n",
      "{'visit_id': 'MWL11b', 'visit_date': datetime.date(2021, 12, 2), 'comment': ['Stage: 1 year postfire'], 'measured_var': 'stratum L1 height', 'best': 1, 'lower': 0.1, 'upper': 1.5}\n",
      "{'visit_id': 'MWL11b', 'visit_date': datetime.date(2021, 12, 2), 'comment': ['Stage: 1 year postfire'], 'measured_var': 'stratum L1 cover', 'best': 90}\n"
     ]
    }
   ],
   "source": [
    "valid_records=list()\n",
    "for record in records:\n",
    "    p=filter(lambda n: n['visit_id'] == record['visit_id'] and  n['visit_date'] == record['visit_date'], all_visits)\n",
    "    found=list(p)\n",
    "    if len(found) == 0:\n",
    "        print(record)\n",
    "    else:\n",
    "        valid_records.append(record)"
   ]
  },
  {
   "cell_type": "code",
   "execution_count": 117,
   "id": "dc3c945a-4a51-448e-bb3c-5830b13d7408",
   "metadata": {},
   "outputs": [
    {
     "name": "stdout",
     "output_type": "stream",
     "text": [
      "Connecting to the PostgreSQL database...\n",
      "180 rows updated\n",
      "Database connection closed.\n"
     ]
    }
   ],
   "source": [
    "batch_upsert(dbparams,\"form.field_visit_vegetation_estimates\",\n",
    "             valid_records,\n",
    "             keycol=('visit_id','visit_date','measured_var'), \n",
    "             idx='field_visit_vegetation_estimates_pkey',execute=True)\n"
   ]
  },
  {
   "cell_type": "markdown",
   "id": "41b1ccfd-4db5-4045-83cf-cfe059273f4f",
   "metadata": {
    "jp-MarkdownHeadingCollapsed": true
   },
   "source": [
    "#### Yatteyatah"
   ]
  },
  {
   "cell_type": "code",
   "execution_count": 118,
   "id": "cf933b9a-4322-48cf-940d-da35f3050ca1",
   "metadata": {},
   "outputs": [
    {
     "data": {
      "text/plain": [
       "['NSW TEC', 'variant', 'Vegetation formation', 'Vegegtation class']"
      ]
     },
     "execution_count": 118,
     "metadata": {},
     "output_type": "execute_result"
    }
   ],
   "source": [
    "filename='UNSW_VegFireResponse_DataEntry_Yatteyattah all +DK +Milton_revisedfields_Mar2022.xlsx'\n",
    "worksheet='Site'\n",
    "\n",
    "wbindex[filename][worksheet][0][40:48]"
   ]
  },
  {
   "cell_type": "code",
   "execution_count": 119,
   "id": "80185a44-6e3f-4ca9-9da8-9c61de876d33",
   "metadata": {},
   "outputs": [
    {
     "data": {
      "text/plain": [
       "7"
      ]
     },
     "execution_count": 119,
     "metadata": {},
     "output_type": "execute_result"
    }
   ],
   "source": [
    "records = fv.read_veg_classes(inputdir,filename,worksheet,{'visit_id':1,'visit_date':4,'vegetation_formation':43,'vegetation_class':44})\n",
    "len(records)"
   ]
  },
  {
   "cell_type": "code",
   "execution_count": 120,
   "id": "94309edc-78d9-49b1-b9d9-59f2b6111aad",
   "metadata": {},
   "outputs": [
    {
     "name": "stdout",
     "output_type": "stream",
     "text": [
      "Connecting to the PostgreSQL database...\n",
      "7 rows updated\n",
      "Database connection closed.\n"
     ]
    }
   ],
   "source": [
    "batch_upsert(dbparams,\"form.field_visit_veg_description\",records,keycol=('visit_id','visit_date'), idx=None,execute=True)\n"
   ]
  },
  {
   "cell_type": "markdown",
   "id": "931ec78b-278a-415c-976b-107cf6a56757",
   "metadata": {},
   "source": [
    "Vegetation structure"
   ]
  },
  {
   "cell_type": "code",
   "execution_count": 121,
   "id": "29b774c1-fbb7-4a67-8f1d-e0b2df630773",
   "metadata": {},
   "outputs": [
    {
     "data": {
      "text/plain": [
       "dict_keys(['Sample', 'Site', 'Environment', 'Fire', 'VegStructure', 'Floristics', 'Reference'])"
      ]
     },
     "execution_count": 121,
     "metadata": {},
     "output_type": "execute_result"
    }
   ],
   "source": [
    "wbindex[filename].keys()"
   ]
  },
  {
   "cell_type": "code",
   "execution_count": 122,
   "id": "ef08a879-13b8-4d26-bafb-55976a7cd293",
   "metadata": {
    "scrolled": true
   },
   "outputs": [
    {
     "data": {
      "text/plain": [
       "['Site',\n",
       " 'Prefire treehgt lower',\n",
       " 'Prefire treehgt upper',\n",
       " 'Prefire treehgt mode',\n",
       " 'Prefire treecov',\n",
       " 'Prefire shbhgt lower',\n",
       " 'Prefire shbhgt upper',\n",
       " 'Prefire shbhgt mode',\n",
       " 'Prefire shbcov',\n",
       " 'Prefire hrbhgt lower',\n",
       " 'Prefire hrbhgt upper',\n",
       " 'Prefire hrbhgt mode',\n",
       " 'Prefire hrbcov',\n",
       " 'Postfire treehgt lower',\n",
       " 'Postfire treehgt upper',\n",
       " 'Postfire treehgt mode',\n",
       " 'Postfire treecov',\n",
       " 'Postfire shbhgt lower',\n",
       " 'Postfire shbhgt upper',\n",
       " 'Postfire shbhgt mode',\n",
       " 'Postfire shbcov',\n",
       " 'Postfire hrbhgt lower',\n",
       " 'Postfire hrbhgt upper',\n",
       " 'Postfire hrbhgt mode']"
      ]
     },
     "execution_count": 122,
     "metadata": {},
     "output_type": "execute_result"
    }
   ],
   "source": [
    "worksheet='VegStructure'\n",
    "wbindex[filename][worksheet][1]"
   ]
  },
  {
   "cell_type": "markdown",
   "id": "2a7760ac-e2ad-4726-a5b3-91f424e0c9a8",
   "metadata": {
    "jp-MarkdownHeadingCollapsed": true
   },
   "source": [
    "#### Robertson RF"
   ]
  },
  {
   "cell_type": "code",
   "execution_count": 124,
   "id": "1ae60989-4e88-4af1-9d0a-6896ce283105",
   "metadata": {},
   "outputs": [
    {
     "data": {
      "text/plain": [
       "['NSW TEC', 'variant', 'Vegetation formation', 'Vegegtation class']"
      ]
     },
     "execution_count": 124,
     "metadata": {},
     "output_type": "execute_result"
    }
   ],
   "source": [
    "filename='RobertsonRF_data_bionet2.xlsx'\n",
    "worksheet='Site'\n",
    "wbindex[filename][worksheet][0][40:48]"
   ]
  },
  {
   "cell_type": "code",
   "execution_count": 125,
   "id": "4a4886d4-32eb-41bc-a302-47bdbe446f49",
   "metadata": {},
   "outputs": [
    {
     "name": "stdout",
     "output_type": "stream",
     "text": [
      "Connecting to the PostgreSQL database...\n",
      "2 rows updated\n",
      "Database connection closed.\n"
     ]
    }
   ],
   "source": [
    "records = fv.read_veg_classes(inputdir,filename,worksheet,{'visit_id':1,'visit_date':4,'vegetation_formation':43,'vegetation_class':44})\n",
    "batch_upsert(dbparams,\"form.field_visit_veg_description\",records,keycol=('visit_id','visit_date'), idx='field_visit_veg_description_pkey',execute=True)\n"
   ]
  },
  {
   "cell_type": "markdown",
   "id": "372b4f39-f3fb-4863-8e95-6db73691bb3a",
   "metadata": {},
   "source": [
    "Edited dates to match the visit dates (previous day)"
   ]
  },
  {
   "cell_type": "code",
   "execution_count": 126,
   "id": "690115e9-d050-4693-bb55-b85969c68a06",
   "metadata": {},
   "outputs": [
    {
     "name": "stdout",
     "output_type": "stream",
     "text": [
      "RobertsonRF_data_bionet2.xlsx\n"
     ]
    },
    {
     "data": {
      "text/plain": [
       "['SiteNo',\n",
       " 'Replicate',\n",
       " 'Date',\n",
       " 'Stage',\n",
       " 'Stratum',\n",
       " 'LowerHeight',\n",
       " 'UpperHeight',\n",
       " 'ModalHeight',\n",
       " 'PercentCover',\n",
       " 'Dominant1',\n",
       " 'Dominant2']"
      ]
     },
     "execution_count": 126,
     "metadata": {},
     "output_type": "execute_result"
    }
   ],
   "source": [
    "print(filename)\n",
    "wbindex[filename].keys()\n",
    "worksheet='Structure'\n",
    "wbindex[filename][worksheet][0]"
   ]
  },
  {
   "cell_type": "code",
   "execution_count": 127,
   "id": "cc8828e4-7866-4c9d-b7ef-7feae54add85",
   "metadata": {},
   "outputs": [
    {
     "data": {
      "text/plain": [
       "32"
      ]
     },
     "execution_count": 127,
     "metadata": {},
     "output_type": "execute_result"
    }
   ],
   "source": [
    "col_def={'visit_id':1, 'visit_date':3, 'stage':4, 'stratum':5, 'height':(8,6,7),'cover':(9,)}\n",
    "records=fv.read_veg_structure(inputdir,filename,worksheet,col_def)\n",
    "len(records)"
   ]
  },
  {
   "cell_type": "code",
   "execution_count": 128,
   "id": "6dba9420-373e-4d18-8e32-fda967cc974c",
   "metadata": {},
   "outputs": [
    {
     "name": "stdout",
     "output_type": "stream",
     "text": [
      "32\n"
     ]
    }
   ],
   "source": [
    "valid_records=list()\n",
    "for record in records:\n",
    "    p=filter(lambda n: n['visit_id'] == record['visit_id'] and  n['visit_date'] == record['visit_date'], all_visits)\n",
    "    found=list(p)\n",
    "    if len(found) == 0:\n",
    "        print(record)\n",
    "    else:\n",
    "        valid_records.append(record)\n",
    "print(len(valid_records))"
   ]
  },
  {
   "cell_type": "code",
   "execution_count": 129,
   "id": "a2861205-c3e7-488c-a5e3-2e9b231fe172",
   "metadata": {},
   "outputs": [
    {
     "name": "stdout",
     "output_type": "stream",
     "text": [
      "Connecting to the PostgreSQL database...\n",
      "32 rows updated\n",
      "Database connection closed.\n"
     ]
    }
   ],
   "source": [
    "batch_upsert(dbparams,\"form.field_visit_vegetation_estimates\",\n",
    "             records,\n",
    "             keycol=('visit_id','visit_date','measured_var'), \n",
    "             idx='field_visit_vegetation_estimates_pkey',execute=True)\n"
   ]
  },
  {
   "cell_type": "markdown",
   "id": "e313926e-6ab9-4ed1-a76e-1e6524e0c16a",
   "metadata": {},
   "source": [
    "#### NE NSW / SE Qld Rainforest\n",
    "(or RMK)"
   ]
  },
  {
   "cell_type": "code",
   "execution_count": 131,
   "id": "f67df8eb-865b-489d-a63d-b35a7ab1fed7",
   "metadata": {},
   "outputs": [
    {
     "data": {
      "text/plain": [
       "['Site',\n",
       " 'Replicate',\n",
       " 'Observers (comma sep if >1)',\n",
       " 'Date of samping',\n",
       " 'Survey Date Replicate 1',\n",
       " 'Survey Date Replicate 2',\n",
       " 'Survey Date Replicate 3',\n",
       " 'Survey Date Replicate 4']"
      ]
     },
     "execution_count": 131,
     "metadata": {},
     "output_type": "execute_result"
    }
   ],
   "source": [
    "filename='UNSW_VegFireResponse_RMK_reformat_Sep2021a.xlsx'\n",
    "worksheet='Site'\n",
    "wbindex[filename][worksheet][0][0:8]"
   ]
  },
  {
   "cell_type": "code",
   "execution_count": 133,
   "id": "0f34e5a1-a6ac-4eec-ae1e-aa14a169b047",
   "metadata": {},
   "outputs": [
    {
     "data": {
      "text/plain": [
       "17"
      ]
     },
     "execution_count": 133,
     "metadata": {},
     "output_type": "execute_result"
    }
   ],
   "source": [
    "records = fv.read_veg_classes(inputdir,filename,worksheet,{'visit_id':1,'visit_date':4,'vegetation_formation':43,'vegetation_class':44})\n",
    "len(records)"
   ]
  },
  {
   "cell_type": "code",
   "execution_count": 134,
   "id": "ca5cc7ba-f4de-452b-a845-53018018d13c",
   "metadata": {},
   "outputs": [
    {
     "name": "stdout",
     "output_type": "stream",
     "text": [
      "Connecting to the PostgreSQL database...\n",
      "17 rows updated\n",
      "Database connection closed.\n"
     ]
    }
   ],
   "source": [
    "batch_upsert(dbparams,\"form.field_visit_veg_description\",records,keycol=('visit_id','visit_date'), idx='field_visit_veg_description_pkey',execute=True)\n"
   ]
  },
  {
   "cell_type": "code",
   "execution_count": 135,
   "id": "41b2c2fe-da64-41e7-a9b4-956850c3bbe1",
   "metadata": {},
   "outputs": [
    {
     "data": {
      "text/plain": [
       "dict_keys(['Site', 'Fire', 'VegStructure', 'Floristics', 'pivot', 'Reference'])"
      ]
     },
     "execution_count": 135,
     "metadata": {},
     "output_type": "execute_result"
    }
   ],
   "source": [
    "wbindex[filename].keys()"
   ]
  },
  {
   "cell_type": "code",
   "execution_count": 136,
   "id": "f08453e5-0a7e-4063-a6bb-4d7b4542c789",
   "metadata": {},
   "outputs": [
    {
     "data": {
      "text/plain": [
       "['Site',\n",
       " 'Replicate',\n",
       " 'Prefire treehgt lower',\n",
       " 'Prefire treehgt upper',\n",
       " 'Prefire treehgt mode',\n",
       " 'Prefire treecov',\n",
       " 'Prefire shbhgt lower',\n",
       " 'Prefire shbhgt upper',\n",
       " 'Prefire shbhgt mode',\n",
       " 'Prefire shbcov',\n",
       " 'Prefire hrbhgt lower',\n",
       " 'Prefire hrbhgt upper',\n",
       " 'Prefire hrbhgt mode',\n",
       " 'Prefire hrbcov',\n",
       " 'Postfire treehgt lower',\n",
       " 'Postfire treehgt upper',\n",
       " 'Postfire treehgt mode',\n",
       " 'Postfire treecov',\n",
       " 'Postfire shbhgt lower',\n",
       " 'Postfire shbhgt upper',\n",
       " 'Postfire shbhgt mode',\n",
       " 'Postfire shbcov',\n",
       " 'Postfire hrbhgt lower',\n",
       " 'Postfire hrbhgt upper',\n",
       " 'Postfire hrbhgt mode']"
      ]
     },
     "execution_count": 136,
     "metadata": {},
     "output_type": "execute_result"
    }
   ],
   "source": [
    "worksheet='VegStructure'\n",
    "wbindex[filename][worksheet][1]"
   ]
  },
  {
   "cell_type": "markdown",
   "id": "b527f32f-f157-480a-824a-457952d0540a",
   "metadata": {},
   "source": [
    "### Update Units"
   ]
  },
  {
   "cell_type": "markdown",
   "id": "53513794-dad4-44a1-88eb-182365da454a",
   "metadata": {},
   "source": [
    "Update units for vegetation measurements."
   ]
  },
  {
   "cell_type": "code",
   "execution_count": 138,
   "id": "09248506-6b8b-49c3-a6f1-e230aa0e6baa",
   "metadata": {},
   "outputs": [],
   "source": [
    "\n",
    "upds = [\"\"\"\n",
    "UPDATE form.field_visit_vegetation_estimates  \n",
    "SET units='m' \n",
    "WHERE measured_var::text LIKE '%height' AND units IS NULL;\n",
    "\"\"\",\"\"\"\n",
    "UPDATE form.field_visit_vegetation_estimates  \n",
    "SET units='%' \n",
    "WHERE measured_var::text LIKE '%cover' AND units is NULL;\n",
    "\"\"\"]\n",
    "\n",
    "conn = psycopg2.connect(**dbparams)\n",
    "cur = conn.cursor(cursor_factory=DictCursor)\n",
    "\n",
    "for upd in upds:\n",
    "    cur.execute(upd)\n",
    "\n",
    "cur.close()\n",
    "conn.commit()\n",
    "conn.close()"
   ]
  },
  {
   "cell_type": "markdown",
   "id": "597b45aa-88ff-490a-91fc-9b1f168cee8e",
   "metadata": {},
   "source": [
    "## That is it for now!\n",
    "\n",
    "✅ Job done! 😎👌🔥\n",
    "\n",
    "You can:\n",
    "- go [back home](../Instructions-and-workflow.ipynb),\n",
    "- continue navigating the repo on [GitHub](https://github.com/ces-unsw-edu-au/fireveg-db-exports)\n",
    "- continue exploring the repo on [OSF](https://osf.io/h96q2/).\n",
    "- visit the database at <http://fireecologyplants.net>"
   ]
  },
  {
   "cell_type": "code",
   "execution_count": null,
   "id": "20a52b1c-2278-4c2f-927d-1055d34f7b15",
   "metadata": {},
   "outputs": [],
   "source": []
  }
 ],
 "metadata": {
  "kernelspec": {
   "display_name": "Python 3 (ipykernel)",
   "language": "python",
   "name": "python3"
  },
  "language_info": {
   "codemirror_mode": {
    "name": "ipython",
    "version": 3
   },
   "file_extension": ".py",
   "mimetype": "text/x-python",
   "name": "python",
   "nbconvert_exporter": "python",
   "pygments_lexer": "ipython3",
   "version": "3.11.3"
  }
 },
 "nbformat": 4,
 "nbformat_minor": 5
}
