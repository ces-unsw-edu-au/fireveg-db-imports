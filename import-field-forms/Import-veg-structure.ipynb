{
 "cells": [
  {
   "cell_type": "markdown",
   "id": "91ceabcb-2305-4502-827d-21d17e911a14",
   "metadata": {
    "tags": []
   },
   "source": [
    "# Read files summarising field work and update database\n",
    "These Excel workbooks were imported on February 2022.\n",
    "\n",
    "The scripts documented here have been created to:\n",
    "\n",
    "- Read data from spreadsheets with field-work data\n",
    "- Create records for data import into the database\n",
    "- Insert or update records in the database\n"
   ]
  },
  {
   "cell_type": "markdown",
   "id": "12d4256b-0834-4b57-91b2-23706f4b7e48",
   "metadata": {},
   "source": [
    "## Set-up\n",
    "Load libraries "
   ]
  },
  {
   "cell_type": "code",
   "execution_count": 3,
   "id": "cbf7b3b9-6d22-424b-b19b-a86282137e4c",
   "metadata": {},
   "outputs": [],
   "source": [
    "import openpyxl\n",
    "from pathlib import Path\n",
    "import os\n",
    "from datetime import datetime\n",
    "from configparser import ConfigParser\n",
    "import psycopg2\n",
    "from psycopg2.extras import DictCursor\n",
    "from psycopg2.extensions import AsIs\n",
    "import re\n",
    "#import postgis\n",
    "import pandas as pd\n",
    "import copy"
   ]
  },
  {
   "cell_type": "markdown",
   "id": "36419281-e89c-49de-9737-821185f55b7f",
   "metadata": {},
   "source": [
    "Define path to workbooks"
   ]
  },
  {
   "cell_type": "code",
   "execution_count": 4,
   "id": "2ae9964b-180a-4f59-97f6-ffeb077e754d",
   "metadata": {},
   "outputs": [],
   "source": [
    "repodir = Path(\"../../\") \n",
    "inputdir = repodir / \"data\" / \"field-form\""
   ]
  },
  {
   "cell_type": "markdown",
   "id": "f6cbba5f-783f-404b-bb9f-0878897ddb9b",
   "metadata": {
    "tags": []
   },
   "source": [
    " ### DB connection parameters and helper functions\n",
    " \n",
    " Database credentials are stored in a database.ini file"
   ]
  },
  {
   "cell_type": "code",
   "execution_count": 5,
   "id": "3810a958-a93c-4513-bcb6-1c2af2e90c57",
   "metadata": {},
   "outputs": [],
   "source": [
    "filename = repodir / 'secrets' / 'database.ini'\n",
    "section = 'aws-lght-sl'\n",
    "\n",
    "# create a parser\n",
    "parser = ConfigParser()\n",
    "# read config file\n",
    "parser.read(filename)\n",
    "\n",
    "# get section, default to postgresql\n",
    "db = {}\n",
    "if parser.has_section(section):\n",
    "    params = parser.items(section)\n",
    "    for param in params:\n",
    "        db[param[0]] = param[1]\n",
    "else:\n",
    "    raise Exception('Section {0} not found in the {1} file'.format(section, filename))\n",
    "\n",
    "params = db"
   ]
  },
  {
   "cell_type": "markdown",
   "id": "728ac97a-32e2-43f3-86f5-3add23ce2c61",
   "metadata": {},
   "source": [
    "Define a function to batch process insert or update queries:"
   ]
  },
  {
   "cell_type": "code",
   "execution_count": 6,
   "id": "8e886539-ab49-414f-879f-e3f5e560d167",
   "metadata": {},
   "outputs": [],
   "source": [
    "def batch_upsert(params,table,records,keycol,idx, execute=False,useconn=None):\n",
    "    if useconn is None:\n",
    "        # connect to the PostgreSQL server\n",
    "        print('Connecting to the PostgreSQL database...')\n",
    "        conn = psycopg2.connect(**params)\n",
    "    else:\n",
    "        conn = useconn\n",
    "    cur = conn.cursor()\n",
    "    #postgis.register(cur)\n",
    "    updated_rows=0\n",
    "    errors=dict()\n",
    "    for record in records:\n",
    "        if len(record.keys())>len(keycol):\n",
    "            if 'geom' in record.keys():\n",
    "                the_geom=record['geom']\n",
    "                record['geom']='GEOMSTR'\n",
    "            if idx is not None:\n",
    "                qrystr = \"INSERT INTO %s (%s) values %s ON CONFLICT ON CONSTRAINT %s DO UPDATE SET %s\"\n",
    "                upd=list()\n",
    "                for k in record.keys():\n",
    "                    if k not in keycol:\n",
    "                        upd.append(\"{col}=EXCLUDED.{col}\".format(col=k))\n",
    "                qry = cur.mogrify(qrystr, (AsIs(table),\n",
    "                                AsIs(','.join(record.keys())),\n",
    "                                tuple(record.values()),\n",
    "                                AsIs(idx),\n",
    "                                AsIs(','.join(upd))\n",
    "                               ))\n",
    "            else:\n",
    "                qrystr = \"INSERT INTO %s (%s) values %s ON CONFLICT DO NOTHING\"\n",
    "                qry = cur.mogrify(qrystr, (AsIs(table),\n",
    "                                AsIs(','.join(record.keys())),\n",
    "                                tuple(record.values())\n",
    "                               ))\n",
    "\n",
    "            if 'geom' in record.keys():\n",
    "                qry=qry.decode('utf-8')\n",
    "                qry=qry.replace(\"'GEOMSTR'\",the_geom)\n",
    "                record['geom']=the_geom\n",
    "\n",
    "            if execute:\n",
    "               # try:\n",
    "                cur.execute(qry)\n",
    "               # except psycopg2.errors.CheckViolation as error:\n",
    "               #     if type(error) in errors.keys():\n",
    "               #         errors[type(error)]=errors[type(error)]+1\n",
    "                #    else:\n",
    "                #        errors[type(error)]=1\n",
    "                #except psycopg2.errors.CheckViolation as error:\n",
    "                #    print(error)\n",
    "                if cur.rowcount > 0:\n",
    "                    updated_rows = updated_rows + cur.rowcount\n",
    "            else:\n",
    "                print(qry)\n",
    "            \n",
    "    conn.commit()        \n",
    "    cur.close()\n",
    "    print(\"%s rows updated\" % (updated_rows))\n",
    "    print(errors)\n",
    "    if useconn is None and conn is not None:\n",
    "        conn.close()\n",
    "        print('Database connection closed.')\n",
    "\n",
    "        "
   ]
  },
  {
   "cell_type": "markdown",
   "id": "a7a0dd1f-8a3d-4801-98ed-768137cbe844",
   "metadata": {},
   "source": [
    "Just a test with random data, use `execute=False` to print the query:"
   ]
  },
  {
   "cell_type": "code",
   "execution_count": 7,
   "id": "c7ab73c0-721d-4659-8095-00fabeee6c4d",
   "metadata": {},
   "outputs": [
    {
     "name": "stdout",
     "output_type": "stream",
     "text": [
      "Connecting to the PostgreSQL database...\n",
      "INSERT INTO form.field_site (site_label,geom) values ('test', ST_GeomFromText('POINT(1 2)', 4326)) ON CONFLICT ON CONSTRAINT field_site_pkey1 DO UPDATE SET geom=EXCLUDED.geom\n",
      "0 rows updated\n",
      "{}\n",
      "Database connection closed.\n"
     ]
    }
   ],
   "source": [
    "record={'site_label':'test','geom':\"ST_GeomFromText('POINT(1 2)', 4326)\"}\n",
    "batch_upsert(params,\"form.field_site\",(record,),keycol=('site_label',), idx='field_site_pkey1',execute=False)"
   ]
  },
  {
   "cell_type": "code",
   "execution_count": 8,
   "id": "51876a85-3dec-49c0-8aa0-6d01ae6d585f",
   "metadata": {},
   "outputs": [
    {
     "name": "stdout",
     "output_type": "stream",
     "text": [
      "Connecting to the PostgreSQL database...\n",
      "INSERT INTO form.field_site (site_label,geom) values ('test', ST_GeomFromText('POINT(1 2)', 4326)) ON CONFLICT DO NOTHING\n",
      "0 rows updated\n",
      "{}\n",
      "Database connection closed.\n"
     ]
    }
   ],
   "source": [
    "batch_upsert(params,\"form.field_site\",(record,),keycol=('site_label',), idx=None,execute=False)"
   ]
  },
  {
   "cell_type": "markdown",
   "id": "cb8724b7-96d8-4806-9920-dab2571e2f9f",
   "metadata": {},
   "source": [
    "### List of valid sites and visits"
   ]
  },
  {
   "cell_type": "code",
   "execution_count": 9,
   "id": "9a40f4d4-c870-42cb-a9c0-14079ba14617",
   "metadata": {},
   "outputs": [],
   "source": [
    "conn = psycopg2.connect(**params)\n",
    "cur = conn.cursor(cursor_factory=DictCursor)\n",
    "cur.execute(\"select distinct visit_id,visit_date FROM form.field_visit\")\n",
    "all_visits=cur.fetchall()\n",
    "cur.close()\n",
    "conn.close()"
   ]
  },
  {
   "cell_type": "code",
   "execution_count": 10,
   "id": "2604923d-8713-4636-9f75-390a0652f834",
   "metadata": {},
   "outputs": [
    {
     "data": {
      "text/plain": [
       "datetime.date(2020, 1, 15)"
      ]
     },
     "execution_count": 10,
     "metadata": {},
     "output_type": "execute_result"
    }
   ],
   "source": [
    "all_visits[1]['visit_date']"
   ]
  },
  {
   "cell_type": "markdown",
   "id": "f2e3eea5-812a-4d48-a41a-a90a69654c60",
   "metadata": {
    "tags": []
   },
   "source": [
    "### Read valid vegetation classes from spreadsheet"
   ]
  },
  {
   "cell_type": "raw",
   "id": "69ff2559-5dba-4b22-955d-b41d9df187d6",
   "metadata": {},
   "source": [
    "vegclass = pd.read_excel(repodir / \"data\" / \"NSWmap_v3_key3.xlsx\")"
   ]
  },
  {
   "cell_type": "raw",
   "id": "8955911a-e788-4374-af36-b9587e71fff4",
   "metadata": {},
   "source": [
    "records=list()\n",
    "for row in vegclass.values:\n",
    "    records.append({'vegetation_formation':row[2],'vegetation_class':row[1],'mapunitno':row[0],'formnum':row[3]})\n",
    "    \n",
    "#batch_upsert(params,\"vegetation.nsw_units\",records,keycol=('vegetation_class','vegetation_formation'), idx=None,execute=True)\n"
   ]
  },
  {
   "cell_type": "markdown",
   "id": "d55b5bbb-b4ea-4b83-bdcf-a1b8088bad91",
   "metadata": {
    "tags": []
   },
   "source": [
    "## Read workbooks\n",
    "Each spreadsheet has a slightly different structure, so these scripts have to be adapted for each case."
   ]
  },
  {
   "cell_type": "markdown",
   "id": "4308295a-230b-48d3-81fc-813ce33a634a",
   "metadata": {
    "jp-MarkdownHeadingCollapsed": true,
    "tags": []
   },
   "source": [
    "### List of workbooks/spreadsheets in directory"
   ]
  },
  {
   "cell_type": "code",
   "execution_count": 62,
   "id": "82e3da8f-4d22-425a-96b2-c02191548171",
   "metadata": {
    "tags": []
   },
   "outputs": [],
   "source": [
    "avail_files = os.listdir(inputdir)\n",
    "#avail_files"
   ]
  },
  {
   "cell_type": "code",
   "execution_count": 63,
   "id": "7c046378-43c4-4b14-bb16-5c2641cdd9e2",
   "metadata": {},
   "outputs": [],
   "source": [
    "valid_files = ['SthnNSWRF_data_bionet2.xlsx',\n",
    "               'UNSWFireVegResponse_UplandBasalt_AlexThomsen+DK.xlsx',\n",
    "               'UNSW_VegFireResponse_RMK_reformat_Sep2021a.xlsx',\n",
    "               'UNSW_VegFireResponse_DataEntry_Yatteyattah all +DK +Milton_revisedfields_Mar2022.xlsx',\n",
    "               'UNSW_VegFireResponse_KNP AlpAsh_firehistupdate.xlsx',\n",
    "               'UNSW_VegFireResponse_AlpineBogs_reformat_Sep2021.xlsx',\n",
    "               'RobertsonRF_data_bionet2.xlsx',\n",
    "               'Fire response quadrat survey Newnes Nov2020_DK_revised IDs+AllNovData.xlsm']"
   ]
  },
  {
   "cell_type": "code",
   "execution_count": 64,
   "id": "402f1986-2f14-4c73-b50f-1f41bfb16666",
   "metadata": {},
   "outputs": [
    {
     "name": "stdout",
     "output_type": "stream",
     "text": [
      "True\n",
      "True\n",
      "True\n",
      "True\n",
      "True\n",
      "True\n",
      "True\n",
      "True\n"
     ]
    }
   ],
   "source": [
    "for ff in valid_files:\n",
    "    print(ff in avail_files)"
   ]
  },
  {
   "cell_type": "markdown",
   "id": "5b963026-23e4-48f4-97d2-cff86016af50",
   "metadata": {},
   "source": [
    "Here we create an index of worksheets and column headers for each file"
   ]
  },
  {
   "cell_type": "code",
   "execution_count": 65,
   "id": "0c4b7b46-d292-494f-8ccc-5fa72e8e5f6b",
   "metadata": {},
   "outputs": [],
   "source": [
    "wbindex=dict()\n",
    "for workbook_name in valid_files:\n",
    "    inputfile=inputdir / workbook_name\n",
    "    # using data_only=True to get the calculated cell values\n",
    "    wb = openpyxl.load_workbook(inputfile,data_only=True)\n",
    "    wbindex[workbook_name]=dict()\n",
    "    for ws in wb.worksheets:\n",
    "        wbindex[workbook_name][ws._WorkbookChild__title]=[list(),list()]\n",
    "        for k in range(1,ws.max_column):\n",
    "            wbindex[workbook_name][ws._WorkbookChild__title][0].append(ws.cell(row=1,column=k).value)\n",
    "            wbindex[workbook_name][ws._WorkbookChild__title][1].append(ws.cell(row=2,column=k).value)\n",
    "        "
   ]
  },
  {
   "cell_type": "code",
   "execution_count": 66,
   "id": "31178ae5-59ac-4fd6-860a-8967b80e30dd",
   "metadata": {},
   "outputs": [
    {
     "data": {
      "text/plain": [
       "dict_keys(['SthnNSWRF_data_bionet2.xlsx', 'UNSWFireVegResponse_UplandBasalt_AlexThomsen+DK.xlsx', 'UNSW_VegFireResponse_RMK_reformat_Sep2021a.xlsx', 'UNSW_VegFireResponse_DataEntry_Yatteyattah all +DK +Milton_revisedfields_Mar2022.xlsx', 'UNSW_VegFireResponse_KNP AlpAsh_firehistupdate.xlsx', 'UNSW_VegFireResponse_AlpineBogs_reformat_Sep2021.xlsx', 'RobertsonRF_data_bionet2.xlsx', 'Fire response quadrat survey Newnes Nov2020_DK_revised IDs+AllNovData.xlsm'])"
      ]
     },
     "execution_count": 66,
     "metadata": {},
     "output_type": "execute_result"
    }
   ],
   "source": [
    "wbindex.keys()"
   ]
  },
  {
   "cell_type": "code",
   "execution_count": 67,
   "id": "ba508e4e-b8de-47c5-a89d-2ced4873ddf2",
   "metadata": {},
   "outputs": [
    {
     "data": {
      "text/plain": [
       "dict_keys(['Site', 'Fire', 'Structure', 'Floristics', 'Reference', 'Info', 'Sheet1'])"
      ]
     },
     "execution_count": 67,
     "metadata": {},
     "output_type": "execute_result"
    }
   ],
   "source": [
    "wbindex['SthnNSWRF_data_bionet2.xlsx'].keys()"
   ]
  },
  {
   "cell_type": "markdown",
   "id": "7f6d933f-1597-44f3-a530-6a9766fc2996",
   "metadata": {
    "jp-MarkdownHeadingCollapsed": true,
    "tags": []
   },
   "source": [
    "### Vegetation formation"
   ]
  },
  {
   "cell_type": "markdown",
   "id": "10f63437-17e4-4203-b8a1-81876961ec2c",
   "metadata": {},
   "source": [
    "I defined this function to read vegetation information from each worksheet."
   ]
  },
  {
   "cell_type": "code",
   "execution_count": 17,
   "id": "81485b32-cc8b-498b-9bcc-093b1bfd711e",
   "metadata": {},
   "outputs": [],
   "source": [
    "def read_veg_classes(filepath,workbook,worksheet,col_definitions):\n",
    "    wb = openpyxl.load_workbook(filepath / workbook,data_only=True)\n",
    "    ws = wb[worksheet]\n",
    "    records=list()\n",
    "    for row in range(2,ws.max_row+1):\n",
    "        visitid=ws.cell(row,col_definitions['visit_id']).value\n",
    "        if visitid is not None and visitid != 'Site':\n",
    "            visitdate=ws.cell(row,col_definitions['visit_date']).value\n",
    "            if isinstance(visitdate,datetime):\n",
    "                visitdate=visitdate.date()\n",
    "            else:\n",
    "                visitdate=datetime.strptime(visitdate, '%d/%m/%Y').date()\n",
    "            vegclass=ws.cell(row,col_definitions['vegetation_class']).value\n",
    "            vegformation=ws.cell(row,col_definitions['vegetation_formation']).value\n",
    "            if vegclass=='Warm temperate rainforests':\n",
    "                vegclass='Southern Warm Temperate Rainforests'\n",
    "            if vegclass=='Littoral rainforest':\n",
    "                vegclass='Littoral rainforests'\n",
    "            if vegformation=='Rainforests':\n",
    "                vegclass=vegclass.title()\n",
    "            if vegformation in ('Blue Mountains Cool Wet Eucalypt Forest','Wet Sclerophyll Forests (Shrubby sub-formation)'):\n",
    "                vegformation='Wet sclerophyll forests (Shrubby subformation)'\n",
    "            if vegclass=='Southern Tableland Wet Sclerophyll Forests':\n",
    "                vegformation='Wet sclerophyll forests (Grassy subformation)'\n",
    "            if vegclass=='Montane wet sclerophyll forests':\n",
    "                vegformation='Wet sclerophyll forests (Grassy subformation)'\n",
    "                vegclass='Montane Wet Sclerophyll Forests'\n",
    "            if vegclass=='Alpine bogs and fens':\n",
    "                vegclass='Alpine Bogs and Fens'\n",
    "            \n",
    "            record={'visit_id': visitid,\n",
    "            'visit_date': visitdate,\n",
    "            'vegetation_formation':vegformation,\n",
    "                'vegetation_class':vegclass}\n",
    "            records.append(record)\n",
    "    return records"
   ]
  },
  {
   "cell_type": "markdown",
   "id": "be6ff050-baad-4605-a0af-3381f9513564",
   "metadata": {
    "jp-MarkdownHeadingCollapsed": true,
    "tags": []
   },
   "source": [
    "#### Southern Rainforest"
   ]
  },
  {
   "cell_type": "code",
   "execution_count": 18,
   "id": "42888511-eb52-42d6-b35f-e013bd6e53f0",
   "metadata": {
    "tags": []
   },
   "outputs": [
    {
     "data": {
      "text/plain": [
       "['NSW TEC', 'variant', 'Vegetation formation', 'Vegegtation class']"
      ]
     },
     "execution_count": 18,
     "metadata": {},
     "output_type": "execute_result"
    }
   ],
   "source": [
    "wbindex['SthnNSWRF_data_bionet2.xlsx']['Site'][0][40:]\n"
   ]
  },
  {
   "cell_type": "code",
   "execution_count": 18,
   "id": "75445805-4576-433c-a805-7dadbd10b8fa",
   "metadata": {
    "tags": []
   },
   "outputs": [
    {
     "data": {
      "text/plain": [
       "[{'visit_id': 'UppClyde1',\n",
       "  'visit_date': datetime.date(2021, 11, 29),\n",
       "  'vegetation_formation': 'Rainforests',\n",
       "  'vegetation_class': 'Southern Warm Temperate Rainforests'},\n",
       " {'visit_id': 'DeuaRF',\n",
       "  'visit_date': datetime.date(2021, 11, 30),\n",
       "  'vegetation_formation': 'Rainforests',\n",
       "  'vegetation_class': 'Southern Warm Temperate Rainforests'},\n",
       " {'visit_id': 'MaxwellsCk',\n",
       "  'visit_date': datetime.date(2021, 12, 2),\n",
       "  'vegetation_formation': 'Rainforests',\n",
       "  'vegetation_class': 'Southern Warm Temperate Rainforests'},\n",
       " {'visit_id': 'MongaPenanceLower',\n",
       "  'visit_date': datetime.date(2021, 12, 3),\n",
       "  'vegetation_formation': 'Rainforests',\n",
       "  'vegetation_class': 'Cool Temperate Rainforests'},\n",
       " {'visit_id': 'MongaPenanceUpper',\n",
       "  'visit_date': datetime.date(2021, 12, 3),\n",
       "  'vegetation_formation': 'Rainforests',\n",
       "  'vegetation_class': 'Cool Temperate Rainforests'}]"
      ]
     },
     "execution_count": 18,
     "metadata": {},
     "output_type": "execute_result"
    }
   ],
   "source": [
    "filename='SthnNSWRF_data_bionet2.xlsx'\n",
    "worksheet='Site'\n",
    "records = read_veg_classes(inputdir,filename,worksheet,{'visit_id':1,'visit_date':4,'vegetation_formation':43,'vegetation_class':44})\n",
    "records"
   ]
  },
  {
   "cell_type": "code",
   "execution_count": 19,
   "id": "3f9d7845-19ea-4ca4-a1db-4dfbb67d621e",
   "metadata": {},
   "outputs": [
    {
     "name": "stdout",
     "output_type": "stream",
     "text": [
      "Connecting to the PostgreSQL database...\n",
      "0 rows updated\n",
      "{}\n",
      "Database connection closed.\n"
     ]
    }
   ],
   "source": [
    "batch_upsert(params,\"form.field_visit_veg_description\",records,keycol=('visit_id','visit_date'), idx=None,execute=True)\n"
   ]
  },
  {
   "cell_type": "markdown",
   "id": "a9a05389-2552-4b24-8ef0-60302dc73931",
   "metadata": {
    "jp-MarkdownHeadingCollapsed": true,
    "tags": []
   },
   "source": [
    "#### Upland Basalt"
   ]
  },
  {
   "cell_type": "code",
   "execution_count": 20,
   "id": "745f47f9-0b0e-401f-9028-4c5271662d86",
   "metadata": {},
   "outputs": [
    {
     "data": {
      "text/plain": [
       "['Site',\n",
       " 'Replicate',\n",
       " 'Date of previous survey',\n",
       " 'Observers (comma sep if >1)',\n",
       " 'Date of sampling',\n",
       " 'Prior Survey Date',\n",
       " None,\n",
       " None]"
      ]
     },
     "execution_count": 20,
     "metadata": {},
     "output_type": "execute_result"
    }
   ],
   "source": [
    "filename='UNSWFireVegResponse_UplandBasalt_AlexThomsen+DK.xlsx'\n",
    "worksheet='Site'\n",
    "\n",
    "wbindex[filename][worksheet][0][0:8]\n"
   ]
  },
  {
   "cell_type": "code",
   "execution_count": 21,
   "id": "ff5763d3-5b49-4d54-8ef5-55b5f7a6f3a0",
   "metadata": {},
   "outputs": [],
   "source": [
    "records = read_veg_classes(inputdir,filename,worksheet,{'visit_id':1,'visit_date':3,'vegetation_formation':44,'vegetation_class':45})\n"
   ]
  },
  {
   "cell_type": "code",
   "execution_count": 22,
   "id": "e6cca486-09c6-49b9-8ee7-f2c529f2c713",
   "metadata": {},
   "outputs": [
    {
     "data": {
      "text/plain": [
       "{'visit_id': 'MWLB4B7Lb',\n",
       " 'visit_date': datetime.date(2020, 12, 10),\n",
       " 'vegetation_formation': 'Wet sclerophyll forests (Shrubby subformation)',\n",
       " 'vegetation_class': 'Southern Escarpment Wet Sclerophyll Forests'}"
      ]
     },
     "execution_count": 22,
     "metadata": {},
     "output_type": "execute_result"
    }
   ],
   "source": [
    "records[10]"
   ]
  },
  {
   "cell_type": "code",
   "execution_count": 23,
   "id": "af51f342-c898-4b6c-93f5-4c4f203cee80",
   "metadata": {},
   "outputs": [
    {
     "name": "stdout",
     "output_type": "stream",
     "text": [
      "Connecting to the PostgreSQL database...\n",
      "28 rows updated\n",
      "{}\n",
      "Database connection closed.\n"
     ]
    }
   ],
   "source": [
    "batch_upsert(params,\"form.field_visit_veg_description\",records,keycol=('visit_id','visit_date'), idx='field_visit_veg_description_pkey',execute=True)\n"
   ]
  },
  {
   "cell_type": "markdown",
   "id": "971e16e3-c6ae-42e4-a4be-4a49d0d649f7",
   "metadata": {
    "jp-MarkdownHeadingCollapsed": true,
    "tags": []
   },
   "source": [
    "#### RMK"
   ]
  },
  {
   "cell_type": "code",
   "execution_count": 24,
   "id": "def9214f-15e7-413e-be0a-d1cbb41d30e0",
   "metadata": {},
   "outputs": [
    {
     "data": {
      "text/plain": [
       "['Site',\n",
       " 'Replicate',\n",
       " 'Observers (comma sep if >1)',\n",
       " 'Date of samping',\n",
       " 'Survey Date Replicate 1',\n",
       " 'Survey Date Replicate 2',\n",
       " 'Survey Date Replicate 3',\n",
       " 'Survey Date Replicate 4']"
      ]
     },
     "execution_count": 24,
     "metadata": {},
     "output_type": "execute_result"
    }
   ],
   "source": [
    "filename='UNSW_VegFireResponse_RMK_reformat_Sep2021a.xlsx'\n",
    "wbindex[filename][worksheet][0][0:8]\n"
   ]
  },
  {
   "cell_type": "code",
   "execution_count": 25,
   "id": "b947520e-fa0c-43d1-b62a-e8d4615af2f1",
   "metadata": {},
   "outputs": [],
   "source": [
    "records = read_veg_classes(inputdir,filename,worksheet,{'visit_id':1,'visit_date':4,'vegetation_formation':43,'vegetation_class':44})\n"
   ]
  },
  {
   "cell_type": "code",
   "execution_count": 26,
   "id": "a61c3773-8c9a-4ccb-bb7c-756f2426da18",
   "metadata": {},
   "outputs": [
    {
     "data": {
      "text/plain": [
       "17"
      ]
     },
     "execution_count": 26,
     "metadata": {},
     "output_type": "execute_result"
    }
   ],
   "source": [
    "len(records)"
   ]
  },
  {
   "cell_type": "code",
   "execution_count": 27,
   "id": "9f9cd520-4b2b-4982-8b9e-ec7f7e7829de",
   "metadata": {},
   "outputs": [
    {
     "name": "stdout",
     "output_type": "stream",
     "text": [
      "Connecting to the PostgreSQL database...\n",
      "17 rows updated\n",
      "{}\n",
      "Database connection closed.\n"
     ]
    }
   ],
   "source": [
    "batch_upsert(params,\"form.field_visit_veg_description\",records,keycol=('visit_id','visit_date'), idx='field_visit_veg_description_pkey',execute=True)\n"
   ]
  },
  {
   "cell_type": "markdown",
   "id": "d5e86add-52f5-4d6f-b787-e8b6e0da1aeb",
   "metadata": {
    "jp-MarkdownHeadingCollapsed": true,
    "tags": []
   },
   "source": [
    "#### Yatteyatah"
   ]
  },
  {
   "cell_type": "code",
   "execution_count": 28,
   "id": "b2c542dd-7d75-4158-95f7-780447008262",
   "metadata": {},
   "outputs": [
    {
     "data": {
      "text/plain": [
       "['NSW TEC', 'variant', 'Vegetation formation', 'Vegegtation class']"
      ]
     },
     "execution_count": 28,
     "metadata": {},
     "output_type": "execute_result"
    }
   ],
   "source": [
    "filename='UNSW_VegFireResponse_DataEntry_Yatteyattah all +DK +Milton_revisedfields_Mar2022.xlsx'\n",
    "worksheet='Site'\n",
    "\n",
    "wbindex[filename][worksheet][0][40:48]\n"
   ]
  },
  {
   "cell_type": "code",
   "execution_count": 29,
   "id": "2109647d-46c2-4490-a14e-4e61bc85ab50",
   "metadata": {},
   "outputs": [
    {
     "data": {
      "text/plain": [
       "7"
      ]
     },
     "execution_count": 29,
     "metadata": {},
     "output_type": "execute_result"
    }
   ],
   "source": [
    "records = read_veg_classes(inputdir,filename,worksheet,{'visit_id':1,'visit_date':4,'vegetation_formation':43,'vegetation_class':44})\n",
    "len(records)"
   ]
  },
  {
   "cell_type": "code",
   "execution_count": 30,
   "id": "10501a43-ba02-437e-b1ba-cd1cfe1ffc79",
   "metadata": {},
   "outputs": [
    {
     "name": "stdout",
     "output_type": "stream",
     "text": [
      "Connecting to the PostgreSQL database...\n",
      "0 rows updated\n",
      "{}\n",
      "Database connection closed.\n"
     ]
    }
   ],
   "source": [
    "batch_upsert(params,\"form.field_visit_veg_description\",records,keycol=('visit_id','visit_date'), idx=None,execute=True)\n"
   ]
  },
  {
   "cell_type": "markdown",
   "id": "b26e617e-013e-403c-840f-c32f95983955",
   "metadata": {},
   "source": [
    "#### KNP Alp Ash"
   ]
  },
  {
   "cell_type": "code",
   "execution_count": 31,
   "id": "428d994c-4df2-46d0-8a49-5f536de46e5b",
   "metadata": {},
   "outputs": [
    {
     "data": {
      "text/plain": [
       "['NSW TEC',\n",
       " 'variant',\n",
       " 'Vegetation formation',\n",
       " 'Vegegtation class',\n",
       " 'NSW PCT',\n",
       " None,\n",
       " None,\n",
       " None]"
      ]
     },
     "execution_count": 31,
     "metadata": {},
     "output_type": "execute_result"
    }
   ],
   "source": [
    "filename='UNSW_VegFireResponse_KNP AlpAsh_firehistupdate.xlsx'\n",
    "worksheet='Site'\n",
    "\n",
    "wbindex[filename][worksheet][0][40:48]\n"
   ]
  },
  {
   "cell_type": "code",
   "execution_count": 32,
   "id": "96e7440f-9e32-464f-a5ac-e7d38901fe17",
   "metadata": {},
   "outputs": [],
   "source": [
    "records = read_veg_classes(inputdir,filename,worksheet,{'visit_id':1,'visit_date':4,'vegetation_formation':43,'vegetation_class':44})\n"
   ]
  },
  {
   "cell_type": "code",
   "execution_count": 33,
   "id": "37d374e1-519c-4307-a608-60f7d26712f4",
   "metadata": {},
   "outputs": [
    {
     "data": {
      "text/plain": [
       "8"
      ]
     },
     "execution_count": 33,
     "metadata": {},
     "output_type": "execute_result"
    }
   ],
   "source": [
    "len(records)"
   ]
  },
  {
   "cell_type": "code",
   "execution_count": 34,
   "id": "1222fd1c-4bc9-4457-95b1-5fe276cdb8c8",
   "metadata": {},
   "outputs": [
    {
     "name": "stdout",
     "output_type": "stream",
     "text": [
      "Connecting to the PostgreSQL database...\n",
      "0 rows updated\n",
      "{}\n",
      "Database connection closed.\n"
     ]
    }
   ],
   "source": [
    "batch_upsert(params,\"form.field_visit_veg_description\",records,keycol=('visit_id','visit_date'), idx=None,execute=True)\n"
   ]
  },
  {
   "cell_type": "markdown",
   "id": "40a0f497-854c-4ad6-b65a-b8e73ce2acf5",
   "metadata": {},
   "source": [
    "#### Alpine bogs"
   ]
  },
  {
   "cell_type": "code",
   "execution_count": 35,
   "id": "85325b94-e710-45c6-8bc9-2c4989afcaa0",
   "metadata": {},
   "outputs": [
    {
     "data": {
      "text/plain": [
       "['NSW TEC',\n",
       " 'variant',\n",
       " 'Vegetation formation',\n",
       " 'Vegegtation class',\n",
       " 'NSW PCT',\n",
       " None,\n",
       " None,\n",
       " None]"
      ]
     },
     "execution_count": 35,
     "metadata": {},
     "output_type": "execute_result"
    }
   ],
   "source": [
    "filename='UNSW_VegFireResponse_AlpineBogs_reformat_Sep2021.xlsx'\n",
    "worksheet='Site'\n",
    "\n",
    "wbindex[filename][worksheet][0][40:48]"
   ]
  },
  {
   "cell_type": "code",
   "execution_count": 36,
   "id": "900fc471-92ad-4ec6-9307-2d9dd99238e8",
   "metadata": {},
   "outputs": [],
   "source": [
    "records = read_veg_classes(inputdir,filename,worksheet,{'visit_id':1,'visit_date':4,'vegetation_formation':43,'vegetation_class':44})\n"
   ]
  },
  {
   "cell_type": "code",
   "execution_count": 37,
   "id": "dc787c5d-e7b4-48df-9fa6-b24b240e86ca",
   "metadata": {},
   "outputs": [
    {
     "data": {
      "text/plain": [
       "6"
      ]
     },
     "execution_count": 37,
     "metadata": {},
     "output_type": "execute_result"
    }
   ],
   "source": [
    "len(records)"
   ]
  },
  {
   "cell_type": "code",
   "execution_count": 38,
   "id": "1c8dcf11-b40d-404e-be83-2d38c173fe41",
   "metadata": {},
   "outputs": [
    {
     "name": "stdout",
     "output_type": "stream",
     "text": [
      "Connecting to the PostgreSQL database...\n",
      "0 rows updated\n",
      "{}\n",
      "Database connection closed.\n"
     ]
    }
   ],
   "source": [
    "batch_upsert(params,\"form.field_visit_veg_description\",records,keycol=('visit_id','visit_date'), idx=None,execute=True)\n"
   ]
  },
  {
   "cell_type": "markdown",
   "id": "30434b9b-820a-435d-80ff-367cfab902c7",
   "metadata": {},
   "source": [
    "#### Robertson RF"
   ]
  },
  {
   "cell_type": "code",
   "execution_count": 39,
   "id": "7e1c64ca-4c51-45b1-9a8f-01f5931d4d1d",
   "metadata": {},
   "outputs": [
    {
     "data": {
      "text/plain": [
       "['NSW TEC', 'variant', 'Vegetation formation', 'Vegegtation class']"
      ]
     },
     "execution_count": 39,
     "metadata": {},
     "output_type": "execute_result"
    }
   ],
   "source": [
    "filename='RobertsonRF_data_bionet2.xlsx'\n",
    "wbindex[filename][worksheet][0][40:48]\n"
   ]
  },
  {
   "cell_type": "code",
   "execution_count": 40,
   "id": "dcc80805-e808-41dc-93a1-dfde67fe29f0",
   "metadata": {},
   "outputs": [
    {
     "name": "stdout",
     "output_type": "stream",
     "text": [
      "Connecting to the PostgreSQL database...\n",
      "2 rows updated\n",
      "{}\n",
      "Database connection closed.\n"
     ]
    }
   ],
   "source": [
    "records = read_veg_classes(inputdir,filename,worksheet,{'visit_id':1,'visit_date':4,'vegetation_formation':43,'vegetation_class':44})\n",
    "batch_upsert(params,\"form.field_visit_veg_description\",records,keycol=('visit_id','visit_date'), idx='field_visit_veg_description_pkey',execute=True)\n"
   ]
  },
  {
   "cell_type": "markdown",
   "id": "2c66da67-314d-4277-971a-272f61ee05a9",
   "metadata": {},
   "source": [
    "#### Newnes\n",
    "Vegetation information is not present in 'Site' worksheet. Not imported."
   ]
  },
  {
   "cell_type": "code",
   "execution_count": 41,
   "id": "df513df5-ec19-48a3-a816-c990ed3dc1b3",
   "metadata": {
    "tags": []
   },
   "outputs": [
    {
     "data": {
      "text/plain": [
       "['Site',\n",
       " 'Easting',\n",
       " 'Northing',\n",
       " 'Valley',\n",
       " 'Elev',\n",
       " 'Undermined',\n",
       " 'Fire interval',\n",
       " 'Census',\n",
       " 'Date',\n",
       " 'Scorch hgt',\n",
       " 'Shb foliage scorch',\n",
       " \"Shb foliage c'sume\",\n",
       " 'Herb foliage scorch',\n",
       " \"Herb foliage c'sume\",\n",
       " 'Twig diam mean',\n",
       " 'Twig diam se',\n",
       " 'Peat depth burnt',\n",
       " 'Peat extent burnt',\n",
       " 'Peat fire index',\n",
       " 'Postfire treehgt lower',\n",
       " 'Postfire treehgt upper',\n",
       " 'Postfire treehgt mode',\n",
       " 'Postfire treecov',\n",
       " 'Prefire shbhgt lower',\n",
       " 'Prefire shbhgt upper',\n",
       " 'Prefire shbhgt mode',\n",
       " 'Prefire shbcov',\n",
       " 'Postfire shbhgt lower',\n",
       " 'Postfire shbhgt upper',\n",
       " 'Postfire shbhgt mode',\n",
       " 'Postfire shbcov',\n",
       " 'Prefire hrbhgt lower',\n",
       " 'Prefire hrbhgt upper',\n",
       " 'Prefire hrbhgt mode',\n",
       " 'Prefire hrbcov',\n",
       " 'Postfire hrbhgt lower',\n",
       " 'Postfire hrbhgt upper',\n",
       " 'Postfire hrbhgt mode',\n",
       " 'Postfire hrbcov',\n",
       " 'Biomass A',\n",
       " 'Biomass B',\n",
       " 'Biomass C',\n",
       " 'Biomass D',\n",
       " 'Biomass E',\n",
       " 'Mean dry (60C) biomass (g)',\n",
       " 'CV biomass',\n",
       " 'Mean biomass (g/m2)',\n",
       " 'Native spp richness',\n",
       " 'Sediment depth (mm) 1',\n",
       " 'Sediment depth (mm) 2',\n",
       " 'Sediment depth (mm) 3',\n",
       " 'Sediment depth (mm) 4',\n",
       " 'Sediment depth (mm) 5',\n",
       " 'Sediment depth (mm) 6',\n",
       " 'Sediment depth (mm) 7',\n",
       " 'Sediment depth (mm) 8',\n",
       " 'Sediment depth (mm) 9']"
      ]
     },
     "execution_count": 41,
     "metadata": {},
     "output_type": "execute_result"
    }
   ],
   "source": [
    "filename='Fire response quadrat survey Newnes Nov2020_DK_revised IDs+AllNovData.xlsm'\n",
    "wbindex[filename][worksheet][0]\n"
   ]
  },
  {
   "cell_type": "markdown",
   "id": "cc7a99c7-ec28-4c58-b50e-811c00e9a0a6",
   "metadata": {
    "tags": []
   },
   "source": [
    "### Vegetation structure"
   ]
  },
  {
   "cell_type": "markdown",
   "id": "8e66cb4a-6a54-4f99-83ef-f9698ee714b6",
   "metadata": {
    "jp-MarkdownHeadingCollapsed": true,
    "tags": []
   },
   "source": [
    "#### Function definitions"
   ]
  },
  {
   "cell_type": "code",
   "execution_count": 42,
   "id": "ff5e164d-208f-4632-8be7-4d37e4af2ad9",
   "metadata": {
    "tags": []
   },
   "outputs": [],
   "source": [
    "def read_veg_structure(filepath,workbook,worksheet,col_definitions):\n",
    "    wb = openpyxl.load_workbook(filepath / workbook,data_only=True)\n",
    "    ws = wb[worksheet]\n",
    "    triplet=('best','lower','upper')\n",
    "    records=list()\n",
    "    for row in range(2,ws.max_row+1):\n",
    "        visitid=ws.cell(row,col_definitions['visit_id']).value\n",
    "        if visitid is not None and visitid != 'Site':\n",
    "            visitdate=ws.cell(row,col_definitions['visit_date']).value\n",
    "            if isinstance(visitdate,datetime):\n",
    "                visitdate=visitdate.date()\n",
    "            else:\n",
    "                visitdate=datetime.strptime(visitdate, '%d/%m/%Y').date()\n",
    "            record={'visit_id': visitid,\n",
    "            'visit_date': visitdate}\n",
    "            \n",
    "            stage=ws.cell(row,col_definitions['stage']).value\n",
    "            if stage is not None:\n",
    "                record['comment']=['Stage: %s' % stage,]\n",
    "            stratum=ws.cell(row,col_definitions['stratum']).value\n",
    "            for var in ('height','cover','scorch'):\n",
    "                if var in col_definitions.keys():\n",
    "                    record1=copy.deepcopy(record)\n",
    "                    record1['measured_var']='stratum %s %s' % (stratum,var)\n",
    "                    for k in range(len(col_definitions[var])):\n",
    "                        val=ws.cell(row,col_definitions[var][k]).value\n",
    "                        if val is not None and val != 'NA':\n",
    "                            if triplet[k]=='lower' and 'best' in record1.keys() and val > record1['best']:\n",
    "                                record1['lower']=record1['best']\n",
    "                                record1['comment'].append('lower bound given as %s but greater than best estimate' % val)\n",
    "                            if triplet[k]=='upper' and 'best' in record1.keys() and val < record1['best']:\n",
    "                                record1['comment'].append('upper bound given as %s but less than best estimate' % val)\n",
    "                                record1['upper']=record1['best']\n",
    "                            else:\n",
    "                                record1[triplet[k]]=val\n",
    "                    records.append(record1)\n",
    "    return records\n"
   ]
  },
  {
   "cell_type": "markdown",
   "id": "2681f64d-eaf2-409a-b05d-f7f9d1b28287",
   "metadata": {
    "jp-MarkdownHeadingCollapsed": true,
    "tags": []
   },
   "source": [
    "#### Southern NSW Rainforest"
   ]
  },
  {
   "cell_type": "code",
   "execution_count": 43,
   "id": "373db94b-3e2c-4502-b1b7-4e395d8862ec",
   "metadata": {},
   "outputs": [
    {
     "data": {
      "text/plain": [
       "['SiteNo',\n",
       " 'Replicate',\n",
       " 'Date',\n",
       " 'Stage',\n",
       " 'Stratum',\n",
       " 'LowerHeight',\n",
       " 'UpperHeight',\n",
       " 'ModalHeight',\n",
       " 'PercentCover',\n",
       " 'Dominant1',\n",
       " 'Dominant2']"
      ]
     },
     "execution_count": 43,
     "metadata": {},
     "output_type": "execute_result"
    }
   ],
   "source": [
    "filename='SthnNSWRF_data_bionet2.xlsx'\n",
    "worksheet='Structure'\n",
    "wbindex[filename][worksheet][0]"
   ]
  },
  {
   "cell_type": "code",
   "execution_count": 44,
   "id": "f4b3d222-2a66-4f29-b175-7a6e09d6512a",
   "metadata": {},
   "outputs": [],
   "source": [
    "col_def={'visit_id':1, 'visit_date':3, 'stage':4, 'stratum':5, 'height':(8,6,7),'cover':(9,)}"
   ]
  },
  {
   "cell_type": "code",
   "execution_count": 45,
   "id": "17db68a2-53b3-4937-a6ac-9db7b1821e61",
   "metadata": {},
   "outputs": [],
   "source": [
    "records=read_veg_structure(inputdir,filename,worksheet,col_def)"
   ]
  },
  {
   "cell_type": "code",
   "execution_count": 46,
   "id": "2a9722eb-2352-423f-9ecf-40259b3b0afb",
   "metadata": {},
   "outputs": [
    {
     "data": {
      "text/plain": [
       "[{'visit_id': 'MaxwellsCk',\n",
       "  'visit_date': datetime.date(2021, 12, 2),\n",
       "  'comment': ['Stage: inferred prefire',\n",
       "   'upper bound given as 20 but less than best estimate'],\n",
       "  'measured_var': 'stratum T height',\n",
       "  'best': 30,\n",
       "  'lower': 12,\n",
       "  'upper': 30},\n",
       " {'visit_id': 'MaxwellsCk',\n",
       "  'visit_date': datetime.date(2021, 12, 2),\n",
       "  'comment': ['Stage: inferred prefire'],\n",
       "  'measured_var': 'stratum T cover',\n",
       "  'best': 70}]"
      ]
     },
     "execution_count": 46,
     "metadata": {},
     "output_type": "execute_result"
    }
   ],
   "source": [
    "len(records)\n",
    "records[36:38]"
   ]
  },
  {
   "cell_type": "code",
   "execution_count": 47,
   "id": "ae5bcda7-5237-49a6-b65f-eeddff247239",
   "metadata": {},
   "outputs": [
    {
     "name": "stdout",
     "output_type": "stream",
     "text": [
      "Connecting to the PostgreSQL database...\n",
      "72 rows updated\n",
      "{}\n",
      "Database connection closed.\n"
     ]
    }
   ],
   "source": [
    "batch_upsert(params,\"form.field_visit_vegetation_estimates\",records,\n",
    "             keycol=('visit_id','visit_date','measured_var'), \n",
    "             idx='field_visit_vegetation_estimates_pkey',execute=True)\n"
   ]
  },
  {
   "cell_type": "markdown",
   "id": "ee081741-283b-407b-ad82-92363eec1204",
   "metadata": {
    "jp-MarkdownHeadingCollapsed": true,
    "tags": []
   },
   "source": [
    "#### Upland Basalt\n",
    "Manual updates: \n",
    "- date for MWL15 changed from 11/11/2021 to 11/11/2020\n",
    "- date for MWL11 changed from 18/11/2021 to 18/11/2020\n",
    "\n",
    "Problems:\n",
    "- date for MWL11b does not match, not sure which one is correct"
   ]
  },
  {
   "cell_type": "code",
   "execution_count": 48,
   "id": "7209f362-9cc0-4d4e-8d53-660b5be8f5f3",
   "metadata": {},
   "outputs": [
    {
     "data": {
      "text/plain": [
       "['SiteNo',\n",
       " 'Replicate',\n",
       " 'Date',\n",
       " 'Stage',\n",
       " 'Stratum',\n",
       " 'LowerHeight',\n",
       " 'UpperHeight',\n",
       " 'ModalHeight',\n",
       " 'PercentCover',\n",
       " 'Dominant1',\n",
       " 'Dominant2']"
      ]
     },
     "execution_count": 48,
     "metadata": {},
     "output_type": "execute_result"
    }
   ],
   "source": [
    "filename='UNSWFireVegResponse_UplandBasalt_AlexThomsen+DK.xlsx'\n",
    "wbindex[filename][worksheet][0]"
   ]
  },
  {
   "cell_type": "code",
   "execution_count": 49,
   "id": "6384a82d-f268-43e7-9f85-74d2e907ee62",
   "metadata": {},
   "outputs": [
    {
     "data": {
      "text/plain": [
       "186"
      ]
     },
     "execution_count": 49,
     "metadata": {},
     "output_type": "execute_result"
    }
   ],
   "source": [
    "col_def={'visit_id':1, 'visit_date':3, 'stage':4, 'stratum':5, 'height':(8,6,7),'cover':(9,)}\n",
    "records=read_veg_structure(inputdir,filename,worksheet,col_def)\n",
    "len(records)"
   ]
  },
  {
   "cell_type": "code",
   "execution_count": 50,
   "id": "5b69118f-4501-4395-ae20-caf8f003b8b4",
   "metadata": {},
   "outputs": [
    {
     "name": "stdout",
     "output_type": "stream",
     "text": [
      "{'visit_id': 'MWL11b', 'visit_date': datetime.date(2021, 12, 2), 'comment': ['Stage: 1 year postfire'], 'measured_var': 'stratum T height', 'best': 25, 'lower': 20, 'upper': 25}\n",
      "{'visit_id': 'MWL11b', 'visit_date': datetime.date(2021, 12, 2), 'comment': ['Stage: 1 year postfire'], 'measured_var': 'stratum T cover', 'best': 10}\n",
      "{'visit_id': 'MWL11b', 'visit_date': datetime.date(2021, 12, 2), 'comment': ['Stage: 1 year postfire'], 'measured_var': 'stratum M1 height', 'best': 0.5, 'lower': 0.5, 'upper': 6}\n",
      "{'visit_id': 'MWL11b', 'visit_date': datetime.date(2021, 12, 2), 'comment': ['Stage: 1 year postfire'], 'measured_var': 'stratum M1 cover', 'best': 2}\n",
      "{'visit_id': 'MWL11b', 'visit_date': datetime.date(2021, 12, 2), 'comment': ['Stage: 1 year postfire'], 'measured_var': 'stratum L1 height', 'best': 1, 'lower': 0.1, 'upper': 1.5}\n",
      "{'visit_id': 'MWL11b', 'visit_date': datetime.date(2021, 12, 2), 'comment': ['Stage: 1 year postfire'], 'measured_var': 'stratum L1 cover', 'best': 90}\n"
     ]
    }
   ],
   "source": [
    "valid_records=list()\n",
    "for record in records:\n",
    "    p=filter(lambda n: n['visit_id'] == record['visit_id'] and  n['visit_date'] == record['visit_date'], all_visits)\n",
    "    found=list(p)\n",
    "    if len(found) == 0:\n",
    "        print(record)\n",
    "    else:\n",
    "        valid_records.append(record)"
   ]
  },
  {
   "cell_type": "code",
   "execution_count": 51,
   "id": "ac6d8705-cb0e-49b5-9318-74b9ed8f9c10",
   "metadata": {},
   "outputs": [
    {
     "name": "stdout",
     "output_type": "stream",
     "text": [
      "Connecting to the PostgreSQL database...\n",
      "180 rows updated\n",
      "{}\n",
      "Database connection closed.\n"
     ]
    }
   ],
   "source": [
    "batch_upsert(params,\"form.field_visit_vegetation_estimates\",\n",
    "             valid_records,\n",
    "             keycol=('visit_id','visit_date','measured_var'), \n",
    "             idx='field_visit_vegetation_estimates_pkey',execute=True)\n"
   ]
  },
  {
   "cell_type": "markdown",
   "id": "c7cf454a-1f79-42e1-b674-8f884954190e",
   "metadata": {
    "tags": []
   },
   "source": [
    "#### NE NSW / SE Qld Rainforest"
   ]
  },
  {
   "cell_type": "code",
   "execution_count": 52,
   "id": "1b9a53a8-5b75-4c38-a7ef-a4a3fe4a2dc4",
   "metadata": {},
   "outputs": [
    {
     "name": "stdout",
     "output_type": "stream",
     "text": [
      "UNSW_VegFireResponse_RMK_reformat_Sep2021a.xlsx\n"
     ]
    },
    {
     "data": {
      "text/plain": [
       "dict_keys(['Site', 'Fire', 'VegStructure', 'Floristics', 'pivot', 'Reference'])"
      ]
     },
     "execution_count": 52,
     "metadata": {},
     "output_type": "execute_result"
    }
   ],
   "source": [
    "filename=valid_files[2]\n",
    "print(filename)\n",
    "wbindex[filename].keys()"
   ]
  },
  {
   "cell_type": "code",
   "execution_count": 53,
   "id": "471a3ec1-7e23-4d70-8f0c-113915041f3e",
   "metadata": {},
   "outputs": [
    {
     "data": {
      "text/plain": [
       "['Site',\n",
       " 'Replicate',\n",
       " 'Prefire treehgt lower',\n",
       " 'Prefire treehgt upper',\n",
       " 'Prefire treehgt mode',\n",
       " 'Prefire treecov',\n",
       " 'Prefire shbhgt lower',\n",
       " 'Prefire shbhgt upper',\n",
       " 'Prefire shbhgt mode',\n",
       " 'Prefire shbcov',\n",
       " 'Prefire hrbhgt lower',\n",
       " 'Prefire hrbhgt upper',\n",
       " 'Prefire hrbhgt mode',\n",
       " 'Prefire hrbcov',\n",
       " 'Postfire treehgt lower',\n",
       " 'Postfire treehgt upper',\n",
       " 'Postfire treehgt mode',\n",
       " 'Postfire treecov',\n",
       " 'Postfire shbhgt lower',\n",
       " 'Postfire shbhgt upper',\n",
       " 'Postfire shbhgt mode',\n",
       " 'Postfire shbcov',\n",
       " 'Postfire hrbhgt lower',\n",
       " 'Postfire hrbhgt upper',\n",
       " 'Postfire hrbhgt mode']"
      ]
     },
     "execution_count": 53,
     "metadata": {},
     "output_type": "execute_result"
    }
   ],
   "source": [
    "worksheet='VegStructure'\n",
    "wbindex[filename][worksheet][1]"
   ]
  },
  {
   "cell_type": "markdown",
   "id": "e791c944-8f03-4b8c-bd88-70b71738338b",
   "metadata": {
    "jp-MarkdownHeadingCollapsed": true,
    "tags": []
   },
   "source": [
    "#### Yatteyattah"
   ]
  },
  {
   "cell_type": "code",
   "execution_count": 54,
   "id": "b85e8bf5-1c23-4210-bafe-68435027765c",
   "metadata": {},
   "outputs": [
    {
     "data": {
      "text/plain": [
       "'UNSW_VegFireResponse_DataEntry_Yatteyattah all +DK +Milton_revisedfields_Mar2022.xlsx'"
      ]
     },
     "execution_count": 54,
     "metadata": {},
     "output_type": "execute_result"
    }
   ],
   "source": [
    "valid_files[3]"
   ]
  },
  {
   "cell_type": "code",
   "execution_count": 55,
   "id": "da319856-96c6-43bb-85fe-357baf947984",
   "metadata": {},
   "outputs": [
    {
     "data": {
      "text/plain": [
       "dict_keys(['Sample', 'Site', 'Environment', 'Fire', 'VegStructure', 'Floristics', 'Reference'])"
      ]
     },
     "execution_count": 55,
     "metadata": {},
     "output_type": "execute_result"
    }
   ],
   "source": [
    "filename='UNSW_VegFireResponse_DataEntry_Yatteyattah all +DK +Milton_revisedfields_Mar2022.xlsx'\n",
    "wbindex[filename].keys()"
   ]
  },
  {
   "cell_type": "code",
   "execution_count": 56,
   "id": "e257f58d-f6c8-46ff-a9bc-8ce87b14a4f1",
   "metadata": {},
   "outputs": [
    {
     "data": {
      "text/plain": [
       "['Site',\n",
       " 'Prefire treehgt lower',\n",
       " 'Prefire treehgt upper',\n",
       " 'Prefire treehgt mode',\n",
       " 'Prefire treecov',\n",
       " 'Prefire shbhgt lower',\n",
       " 'Prefire shbhgt upper',\n",
       " 'Prefire shbhgt mode',\n",
       " 'Prefire shbcov',\n",
       " 'Prefire hrbhgt lower',\n",
       " 'Prefire hrbhgt upper',\n",
       " 'Prefire hrbhgt mode',\n",
       " 'Prefire hrbcov',\n",
       " 'Postfire treehgt lower',\n",
       " 'Postfire treehgt upper',\n",
       " 'Postfire treehgt mode',\n",
       " 'Postfire treecov',\n",
       " 'Postfire shbhgt lower',\n",
       " 'Postfire shbhgt upper',\n",
       " 'Postfire shbhgt mode',\n",
       " 'Postfire shbcov',\n",
       " 'Postfire hrbhgt lower',\n",
       " 'Postfire hrbhgt upper',\n",
       " 'Postfire hrbhgt mode']"
      ]
     },
     "execution_count": 56,
     "metadata": {},
     "output_type": "execute_result"
    }
   ],
   "source": [
    "worksheet='VegStructure'\n",
    "wbindex[filename][worksheet][1]"
   ]
  },
  {
   "cell_type": "markdown",
   "id": "e9785a67-7307-4081-ab62-879cb4c51b5e",
   "metadata": {},
   "source": [
    "#### Alpine Ash"
   ]
  },
  {
   "cell_type": "code",
   "execution_count": 57,
   "id": "8058eca2-ebbf-4430-8353-dc8b0c9f26ea",
   "metadata": {},
   "outputs": [
    {
     "data": {
      "text/plain": [
       "'UNSW_VegFireResponse_KNP AlpAsh_firehistupdate.xlsx'"
      ]
     },
     "execution_count": 57,
     "metadata": {},
     "output_type": "execute_result"
    }
   ],
   "source": [
    "valid_files[4]"
   ]
  },
  {
   "cell_type": "code",
   "execution_count": 60,
   "id": "03155050-a265-4290-9355-1578fef35aac",
   "metadata": {},
   "outputs": [],
   "source": [
    "filename=valid_files[4]\n",
    "wbindex[filename].keys()\n",
    "worksheet='Structure'"
   ]
  },
  {
   "cell_type": "code",
   "execution_count": 61,
   "id": "830a63a8-5a07-4c5f-a32f-e85db8f8796a",
   "metadata": {},
   "outputs": [
    {
     "data": {
      "text/plain": [
       "110"
      ]
     },
     "execution_count": 61,
     "metadata": {},
     "output_type": "execute_result"
    }
   ],
   "source": [
    "col_def={'visit_id':1, 'visit_date':3, 'stage':4, 'stratum':5, 'height':(8,6,7),'cover':(9,)}\n",
    "records=read_veg_structure(inputdir,filename,worksheet,col_def)\n",
    "len(records)"
   ]
  },
  {
   "cell_type": "code",
   "execution_count": 62,
   "id": "3f2945e9-f328-4304-a521-49c74a10a4bb",
   "metadata": {
    "tags": []
   },
   "outputs": [
    {
     "name": "stdout",
     "output_type": "stream",
     "text": [
      "stratum T1 height\n",
      "stratum T1 cover\n",
      "stratum T2 height\n",
      "stratum T2 cover\n",
      "stratum M1 height\n",
      "stratum M1 cover\n",
      "stratum L1 height\n",
      "stratum L1 cover\n",
      "stratum T1 height\n",
      "stratum T1 cover\n",
      "stratum T2 height\n",
      "stratum T2 cover\n",
      "stratum M1 height\n",
      "stratum M1 cover\n",
      "stratum L1 height\n",
      "stratum L1 cover\n",
      "stratum T1 height\n",
      "stratum T1 cover\n",
      "stratum T2 height\n",
      "stratum T2 cover\n",
      "stratum M1 height\n",
      "stratum M1 cover\n",
      "stratum L1 height\n",
      "stratum L1 cover\n",
      "stratum T1 height\n",
      "stratum T1 cover\n",
      "stratum T2 height\n",
      "stratum T2 cover\n",
      "stratum M1 height\n",
      "stratum M1 cover\n",
      "stratum L1 height\n",
      "stratum L1 cover\n",
      "stratum T height\n",
      "stratum T cover\n",
      "stratum M1 height\n",
      "stratum M1 cover\n",
      "stratum L1 height\n",
      "stratum L1 cover\n",
      "stratum T height\n",
      "stratum T cover\n",
      "stratum M1 height\n",
      "stratum M1 cover\n",
      "stratum L1 height\n",
      "stratum L1 cover\n",
      "stratum T1 height\n",
      "stratum T1 cover\n",
      "stratum T2 height\n",
      "stratum T2 cover\n",
      "stratum M1 height\n",
      "stratum M1 cover\n",
      "stratum L1 height\n",
      "stratum L1 cover\n",
      "stratum T1 height\n",
      "stratum T1 cover\n",
      "stratum T2 height\n",
      "stratum T2 cover\n",
      "stratum M1 height\n",
      "stratum M1 cover\n",
      "stratum L1 height\n",
      "stratum L1 cover\n",
      "stratum T height\n",
      "stratum T cover\n",
      "stratum M1 height\n",
      "stratum M1 cover\n",
      "stratum L1 height\n",
      "stratum L1 cover\n",
      "stratum T height\n",
      "stratum T cover\n",
      "stratum M1 height\n",
      "stratum M1 cover\n",
      "stratum L1 height\n",
      "stratum L1 cover\n",
      "stratum T height\n",
      "stratum T cover\n",
      "stratum M1 height\n",
      "stratum M1 cover\n",
      "stratum L1 height\n",
      "stratum L1 cover\n",
      "stratum T height\n",
      "stratum T cover\n",
      "stratum M1 height\n",
      "stratum M1 cover\n",
      "stratum L1 height\n",
      "stratum L1 cover\n",
      "stratum T height\n",
      "stratum T cover\n",
      "stratum M1 height\n",
      "stratum M1 cover\n",
      "stratum L1 height\n",
      "stratum L1 cover\n",
      "stratum E height\n",
      "stratum E cover\n",
      "stratum T height\n",
      "stratum T cover\n",
      "stratum M1 height\n",
      "stratum M1 cover\n",
      "stratum L1 height\n",
      "stratum L1 cover\n",
      "stratum T height\n",
      "stratum T cover\n",
      "stratum M1 height\n",
      "stratum M1 cover\n",
      "stratum L1 height\n",
      "stratum L1 cover\n",
      "stratum T height\n",
      "stratum T cover\n",
      "stratum M1 height\n",
      "stratum M1 cover\n",
      "stratum L1 height\n",
      "stratum L1 cover\n"
     ]
    }
   ],
   "source": [
    "for record in records:\n",
    "    print(record['measured_var'])"
   ]
  },
  {
   "cell_type": "code",
   "execution_count": 63,
   "id": "61bf7b66-73c7-4dfc-84f0-71fd2cfa8365",
   "metadata": {},
   "outputs": [
    {
     "name": "stdout",
     "output_type": "stream",
     "text": [
      "{'visit_id': 'AlpAsh_69', 'visit_date': datetime.date(2021, 4, 14), 'comment': ['Stage: inferred prefire'], 'measured_var': 'stratum T1 height', 'best': 40, 'lower': 40, 'upper': 40}\n",
      "{'visit_id': 'AlpAsh_69', 'visit_date': datetime.date(2021, 4, 14), 'comment': ['Stage: inferred prefire'], 'measured_var': 'stratum T1 cover', 'best': 3}\n"
     ]
    }
   ],
   "source": [
    "valid_records=list()\n",
    "for record in records:\n",
    "    p=filter(lambda n: n['visit_id'] == record['visit_id'] and  n['visit_date'] == record['visit_date'], all_visits)\n",
    "    found=list(p)\n",
    "    if len(found) == 0:\n",
    "        print(record)\n",
    "    else:\n",
    "        valid_records.append(record)"
   ]
  },
  {
   "cell_type": "code",
   "execution_count": 64,
   "id": "67901867-cdb4-4b04-8d51-0690e7542b0c",
   "metadata": {},
   "outputs": [
    {
     "name": "stdout",
     "output_type": "stream",
     "text": [
      "Connecting to the PostgreSQL database...\n"
     ]
    },
    {
     "ename": "CheckViolation",
     "evalue": "new row for relation \"field_visit_vegetation_estimates\" violates check constraint \"field_visit_vegetation_estimates_check\"\nDETAIL:  Failing row contains (AlpAsh_25, 2021-04-15, stratum M1 height, null, 1, 2, 4, {\"Stage: inferred prefire\"}).\n",
     "output_type": "error",
     "traceback": [
      "\u001b[0;31m---------------------------------------------------------------------------\u001b[0m",
      "\u001b[0;31mCheckViolation\u001b[0m                            Traceback (most recent call last)",
      "Input \u001b[0;32mIn [64]\u001b[0m, in \u001b[0;36m<cell line: 1>\u001b[0;34m()\u001b[0m\n\u001b[0;32m----> 1\u001b[0m \u001b[43mbatch_upsert\u001b[49m\u001b[43m(\u001b[49m\u001b[43mparams\u001b[49m\u001b[43m,\u001b[49m\u001b[38;5;124;43m\"\u001b[39;49m\u001b[38;5;124;43mform.field_visit_vegetation_estimates\u001b[39;49m\u001b[38;5;124;43m\"\u001b[39;49m\u001b[43m,\u001b[49m\u001b[43mvalid_records\u001b[49m\u001b[43m,\u001b[49m\n\u001b[1;32m      2\u001b[0m \u001b[43m             \u001b[49m\u001b[43mkeycol\u001b[49m\u001b[38;5;241;43m=\u001b[39;49m\u001b[43m(\u001b[49m\u001b[38;5;124;43m'\u001b[39;49m\u001b[38;5;124;43mvisit_id\u001b[39;49m\u001b[38;5;124;43m'\u001b[39;49m\u001b[43m,\u001b[49m\u001b[38;5;124;43m'\u001b[39;49m\u001b[38;5;124;43mvisit_date\u001b[39;49m\u001b[38;5;124;43m'\u001b[39;49m\u001b[43m,\u001b[49m\u001b[38;5;124;43m'\u001b[39;49m\u001b[38;5;124;43mmeasured_var\u001b[39;49m\u001b[38;5;124;43m'\u001b[39;49m\u001b[43m)\u001b[49m\u001b[43m,\u001b[49m\u001b[43m \u001b[49m\n\u001b[1;32m      3\u001b[0m \u001b[43m             \u001b[49m\u001b[43midx\u001b[49m\u001b[38;5;241;43m=\u001b[39;49m\u001b[38;5;124;43m'\u001b[39;49m\u001b[38;5;124;43mfield_visit_vegetation_estimates_pkey\u001b[39;49m\u001b[38;5;124;43m'\u001b[39;49m\u001b[43m,\u001b[49m\u001b[43mexecute\u001b[49m\u001b[38;5;241;43m=\u001b[39;49m\u001b[38;5;28;43;01mTrue\u001b[39;49;00m\u001b[43m)\u001b[49m\n",
      "Input \u001b[0;32mIn [4]\u001b[0m, in \u001b[0;36mbatch_upsert\u001b[0;34m(params, table, records, keycol, idx, execute, useconn)\u001b[0m\n\u001b[1;32m     39\u001b[0m     record[\u001b[38;5;124m'\u001b[39m\u001b[38;5;124mgeom\u001b[39m\u001b[38;5;124m'\u001b[39m]\u001b[38;5;241m=\u001b[39mthe_geom\n\u001b[1;32m     41\u001b[0m \u001b[38;5;28;01mif\u001b[39;00m execute:\n\u001b[1;32m     42\u001b[0m    \u001b[38;5;66;03m# try:\u001b[39;00m\n\u001b[0;32m---> 43\u001b[0m     \u001b[43mcur\u001b[49m\u001b[38;5;241;43m.\u001b[39;49m\u001b[43mexecute\u001b[49m\u001b[43m(\u001b[49m\u001b[43mqry\u001b[49m\u001b[43m)\u001b[49m\n\u001b[1;32m     44\u001b[0m    \u001b[38;5;66;03m# except psycopg2.errors.CheckViolation as error:\u001b[39;00m\n\u001b[1;32m     45\u001b[0m    \u001b[38;5;66;03m#     if type(error) in errors.keys():\u001b[39;00m\n\u001b[1;32m     46\u001b[0m    \u001b[38;5;66;03m#         errors[type(error)]=errors[type(error)]+1\u001b[39;00m\n\u001b[0;32m   (...)\u001b[0m\n\u001b[1;32m     49\u001b[0m     \u001b[38;5;66;03m#except psycopg2.errors.CheckViolation as error:\u001b[39;00m\n\u001b[1;32m     50\u001b[0m     \u001b[38;5;66;03m#    print(error)\u001b[39;00m\n\u001b[1;32m     51\u001b[0m     \u001b[38;5;28;01mif\u001b[39;00m cur\u001b[38;5;241m.\u001b[39mrowcount \u001b[38;5;241m>\u001b[39m \u001b[38;5;241m0\u001b[39m:\n",
      "\u001b[0;31mCheckViolation\u001b[0m: new row for relation \"field_visit_vegetation_estimates\" violates check constraint \"field_visit_vegetation_estimates_check\"\nDETAIL:  Failing row contains (AlpAsh_25, 2021-04-15, stratum M1 height, null, 1, 2, 4, {\"Stage: inferred prefire\"}).\n"
     ]
    }
   ],
   "source": [
    "batch_upsert(params,\"form.field_visit_vegetation_estimates\",valid_records,\n",
    "             keycol=('visit_id','visit_date','measured_var'), \n",
    "             idx='field_visit_vegetation_estimates_pkey',execute=True)\n"
   ]
  },
  {
   "cell_type": "markdown",
   "id": "855b761d-7ea2-4ded-b6f4-9ab1a6a314b3",
   "metadata": {},
   "source": [
    "#### Alpine Bogs"
   ]
  },
  {
   "cell_type": "code",
   "execution_count": 65,
   "id": "f1c6f362-d032-4966-94a7-259bc4208896",
   "metadata": {},
   "outputs": [
    {
     "data": {
      "text/plain": [
       "dict_keys(['Site', 'Fire', 'VegStructure', 'Floristics', 'Reference'])"
      ]
     },
     "execution_count": 65,
     "metadata": {},
     "output_type": "execute_result"
    }
   ],
   "source": [
    "valid_files[5]\n",
    "filename=valid_files[5]\n",
    "wbindex[filename].keys()"
   ]
  },
  {
   "cell_type": "markdown",
   "id": "fee98191-f2f9-427a-ae42-7b0aa5eae3d7",
   "metadata": {},
   "source": [
    "#### Robertson RF\n",
    "Edited dates to match the visit dates (previous day)"
   ]
  },
  {
   "cell_type": "code",
   "execution_count": 66,
   "id": "2eb7c849-e89d-4219-8f15-b08f09542cf2",
   "metadata": {},
   "outputs": [
    {
     "name": "stdout",
     "output_type": "stream",
     "text": [
      "RobertsonRF_data_bionet2.xlsx\n"
     ]
    },
    {
     "data": {
      "text/plain": [
       "['SiteNo',\n",
       " 'Replicate',\n",
       " 'Date',\n",
       " 'Stage',\n",
       " 'Stratum',\n",
       " 'LowerHeight',\n",
       " 'UpperHeight',\n",
       " 'ModalHeight',\n",
       " 'PercentCover',\n",
       " 'Dominant1',\n",
       " 'Dominant2']"
      ]
     },
     "execution_count": 66,
     "metadata": {},
     "output_type": "execute_result"
    }
   ],
   "source": [
    "filename=valid_files[6]\n",
    "print(filename)\n",
    "wbindex[filename].keys()\n",
    "worksheet='Structure'\n",
    "wbindex[filename][worksheet][0]"
   ]
  },
  {
   "cell_type": "code",
   "execution_count": 67,
   "id": "cc447f1d-964a-45db-8a00-5282ba0e194b",
   "metadata": {},
   "outputs": [
    {
     "data": {
      "text/plain": [
       "32"
      ]
     },
     "execution_count": 67,
     "metadata": {},
     "output_type": "execute_result"
    }
   ],
   "source": [
    "col_def={'visit_id':1, 'visit_date':3, 'stage':4, 'stratum':5, 'height':(8,6,7),'cover':(9,)}\n",
    "records=read_veg_structure(inputdir,filename,worksheet,col_def)\n",
    "len(records)"
   ]
  },
  {
   "cell_type": "code",
   "execution_count": 68,
   "id": "70d89ef1-3cbf-461b-944b-77b2488c672f",
   "metadata": {},
   "outputs": [
    {
     "name": "stdout",
     "output_type": "stream",
     "text": [
      "32\n"
     ]
    }
   ],
   "source": [
    "valid_records=list()\n",
    "for record in records:\n",
    "    p=filter(lambda n: n['visit_id'] == record['visit_id'] and  n['visit_date'] == record['visit_date'], all_visits)\n",
    "    found=list(p)\n",
    "    if len(found) == 0:\n",
    "        print(record)\n",
    "    else:\n",
    "        valid_records.append(record)\n",
    "print(len(valid_records))"
   ]
  },
  {
   "cell_type": "code",
   "execution_count": 69,
   "id": "30fef834-d018-4184-80fc-9809abec7d18",
   "metadata": {},
   "outputs": [
    {
     "name": "stdout",
     "output_type": "stream",
     "text": [
      "Connecting to the PostgreSQL database...\n",
      "32 rows updated\n",
      "{}\n",
      "Database connection closed.\n"
     ]
    }
   ],
   "source": [
    "batch_upsert(params,\"form.field_visit_vegetation_estimates\",\n",
    "             records,\n",
    "             keycol=('visit_id','visit_date','measured_var'), \n",
    "             idx='field_visit_vegetation_estimates_pkey',execute=True)\n"
   ]
  },
  {
   "cell_type": "markdown",
   "id": "bc84ad78-6fbd-4119-b047-b5977766d1c8",
   "metadata": {},
   "source": [
    "#### Newnes"
   ]
  },
  {
   "cell_type": "code",
   "execution_count": null,
   "id": "df68e21e-c10a-4739-b6b9-8e2caf3a042c",
   "metadata": {},
   "outputs": [],
   "source": []
  },
  {
   "cell_type": "code",
   "execution_count": 70,
   "id": "ef4d3a1a-69b7-42c6-b4ad-7343269cc6a5",
   "metadata": {},
   "outputs": [
    {
     "data": {
      "text/plain": [
       "0       M1\n",
       "1       M1\n",
       "2      NaN\n",
       "3      NaN\n",
       "4       M1\n",
       "      ... \n",
       "115     L1\n",
       "116     L1\n",
       "117     L1\n",
       "118     L1\n",
       "119     L1\n",
       "Name: Stratum, Length: 120, dtype: object"
      ]
     },
     "execution_count": 70,
     "metadata": {},
     "output_type": "execute_result"
    }
   ],
   "source": [
    "\n",
    "newnes = pd.read_csv(inputdir / 'NewnesStruc.csv')\n",
    "newnes['Stratum']"
   ]
  },
  {
   "cell_type": "code",
   "execution_count": null,
   "id": "8d323a1b-d63f-4171-a0c9-8b416da2e28e",
   "metadata": {},
   "outputs": [],
   "source": []
  },
  {
   "cell_type": "markdown",
   "id": "1566af43-b84d-4ad4-8d12-5d75bcee55da",
   "metadata": {},
   "source": [
    "#### Other changes"
   ]
  },
  {
   "cell_type": "code",
   "execution_count": 72,
   "id": "5eb0a2b2-85cf-4605-b727-31389d588859",
   "metadata": {},
   "outputs": [],
   "source": [
    "conn = psycopg2.connect(**params)\n",
    "cur = conn.cursor(cursor_factory=DictCursor)\n",
    "\n",
    "upd = \"\"\"\n",
    "UPDATE form.field_visit_vegetation_estimates  \n",
    "SET units='m' \n",
    "WHERE measured_var::text LIKE '%height' AND units IS NULL;\n",
    "\"\"\"\n",
    "cur.execute(upd)\n",
    "\n",
    "upd = \"\"\"\n",
    "UPDATE form.field_visit_vegetation_estimates  \n",
    "SET units='%' \n",
    "WHERE measured_var::text LIKE '%cover' AND units is NULL;\n",
    "\"\"\"\n",
    "cur.execute(upd)\n",
    "\n",
    "cur.close()\n",
    "conn.commit()\n",
    "conn.close()"
   ]
  },
  {
   "cell_type": "code",
   "execution_count": null,
   "id": "791ffa06-f870-46e8-9c1e-bc94c0475898",
   "metadata": {},
   "outputs": [],
   "source": []
  }
 ],
 "metadata": {
  "kernelspec": {
   "display_name": "Python 3 (ipykernel)",
   "language": "python",
   "name": "python3"
  },
  "language_info": {
   "codemirror_mode": {
    "name": "ipython",
    "version": 3
   },
   "file_extension": ".py",
   "mimetype": "text/x-python",
   "name": "python",
   "nbconvert_exporter": "python",
   "pygments_lexer": "ipython3",
   "version": "3.10.6"
  }
 },
 "nbformat": 4,
 "nbformat_minor": 5
}
