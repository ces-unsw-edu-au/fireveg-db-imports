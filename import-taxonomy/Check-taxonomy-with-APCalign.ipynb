{
 "cells": [
  {
   "cell_type": "markdown",
   "id": "b9fe39d0-8eb1-434d-b1a8-2b2105764ced",
   "metadata": {},
   "source": [
    "https://traitecoevo.github.io/APCalign/articles/APCalign.html"
   ]
  },
  {
   "cell_type": "code",
   "execution_count": 1,
   "id": "896c89a1-bd20-440b-9a91-a36beb5a09f3",
   "metadata": {},
   "outputs": [
    {
     "name": "stderr",
     "output_type": "stream",
     "text": [
      "Downloading GitHub repo traitecoevo/APCalign@HEAD\n",
      "\n"
     ]
    },
    {
     "name": "stdout",
     "output_type": "stream",
     "text": [
      "withr   (3.0.0 -> 3.0.1 ) [CRAN]\n",
      "crayon  (1.5.2 -> 1.5.3 ) [CRAN]\n",
      "openssl (2.1.1 -> 2.2.0 ) [CRAN]\n",
      "curl    (5.2.0 -> 5.2.1 ) [CRAN]\n",
      "stringi (1.8.3 -> 1.8.4 ) [CRAN]\n",
      "arrow   (NA    -> 16.1.0) [CRAN]\n",
      "readr   (2.1.4 -> 2.1.5 ) [CRAN]\n"
     ]
    },
    {
     "name": "stderr",
     "output_type": "stream",
     "text": [
      "Installing 7 packages: withr, crayon, openssl, curl, stringi, arrow, readr\n",
      "\n"
     ]
    },
    {
     "name": "stdout",
     "output_type": "stream",
     "text": [
      "\n",
      "The downloaded binary packages are in\n",
      "\t/var/folders/0l/lyqlsmz14tq61kh1j0_tqtg80000gq/T//RtmpVSx28c/downloaded_packages\n",
      "\u001b[36m──\u001b[39m \u001b[36mR CMD build\u001b[39m \u001b[36m─────────────────────────────────────────────────────────────────────────────────────────\u001b[39m\n",
      "\u001b[32m✔\u001b[39m  \u001b[90mchecking for file ‘/private/var/folders/0l/lyqlsmz14tq61kh1j0_tqtg80000gq/T/RtmpVSx28c/remotes142b32ff88f66/traitecoevo-APCalign-dfcafde/DESCRIPTION’\u001b[39m\u001b[36m\u001b[39m\n",
      "\u001b[90m─\u001b[39m\u001b[90m  \u001b[39m\u001b[90mpreparing ‘APCalign’:\u001b[39m\u001b[36m\u001b[39m\n",
      "\u001b[32m✔\u001b[39m  \u001b[90mchecking DESCRIPTION meta-information\u001b[39m\u001b[36m\u001b[39m\n",
      "\u001b[90m─\u001b[39m\u001b[90m  \u001b[39m\u001b[90mchecking for LF line-endings in source and make files and shell scripts\u001b[39m\u001b[36m\u001b[39m\n",
      "\u001b[90m─\u001b[39m\u001b[90m  \u001b[39m\u001b[90mchecking for empty or unneeded directories\u001b[39m\u001b[36m\u001b[39m\n",
      "\u001b[90m─\u001b[39m\u001b[90m  \u001b[39m\u001b[90mbuilding ‘APCalign_1.0.2.tar.gz’\u001b[39m\u001b[36m\u001b[39m\n",
      "   \n",
      "\r"
     ]
    }
   ],
   "source": [
    "##install.packages(\"remotes\")\n",
    "remotes::install_github(\"traitecoevo/APCalign\")\n"
   ]
  },
  {
   "cell_type": "code",
   "execution_count": 2,
   "id": "bfbac7a3-a1f9-46c5-8965-4c2a822ae04d",
   "metadata": {},
   "outputs": [],
   "source": [
    "library(APCalign)"
   ]
  },
  {
   "cell_type": "markdown",
   "id": "5934485c-07c6-496c-aa74-de72caa2cfb7",
   "metadata": {},
   "source": [
    "Download the stable version of the taxonomic resources"
   ]
  },
  {
   "cell_type": "code",
   "execution_count": 3,
   "id": "ad073f90-c604-4b49-895a-5a1679bbd4ff",
   "metadata": {},
   "outputs": [
    {
     "name": "stderr",
     "output_type": "stream",
     "text": [
      "Downloading...\n",
      "\n",
      "File downloaded successfully.\n",
      "\n",
      "File downloaded successfully.\n",
      "\n"
     ]
    },
    {
     "name": "stdout",
     "output_type": "stream",
     "text": [
      "\r"
     ]
    },
    {
     "name": "stderr",
     "output_type": "stream",
     "text": [
      "Loading resources into memory...\n",
      "\n"
     ]
    },
    {
     "name": "stdout",
     "output_type": "stream",
     "text": [
      "================================================================================\n"
     ]
    },
    {
     "name": "stderr",
     "output_type": "stream",
     "text": [
      "...done\n",
      "\n"
     ]
    }
   ],
   "source": [
    "stable_resources <- load_taxonomic_resources(stable_or_current_data = \"stable\")\n"
   ]
  },
  {
   "cell_type": "code",
   "execution_count": 4,
   "id": "ed6e604c-a11d-45d3-b97f-9a18cd2a65ec",
   "metadata": {},
   "outputs": [
    {
     "name": "stderr",
     "output_type": "stream",
     "text": [
      "Loading required package: DBI\n",
      "\n",
      "Warning message:\n",
      "“package ‘DBI’ was built under R version 4.3.3”\n",
      "\n",
      "Attaching package: ‘dplyr’\n",
      "\n",
      "\n",
      "The following objects are masked from ‘package:stats’:\n",
      "\n",
      "    filter, lag\n",
      "\n",
      "\n",
      "The following objects are masked from ‘package:base’:\n",
      "\n",
      "    intersect, setdiff, setequal, union\n",
      "\n",
      "\n",
      "Loading required package: tidyr\n",
      "\n"
     ]
    }
   ],
   "source": [
    "library(RPostgreSQL)\n",
    "library(ggplot2)\n",
    "##library(forcats)\n",
    "library(dplyr)\n",
    "#library(data.table)\n",
    "require(tidyr)"
   ]
  },
  {
   "cell_type": "code",
   "execution_count": 5,
   "id": "d231e0ae-c5ea-4681-a1c4-4d7ba439eccc",
   "metadata": {},
   "outputs": [],
   "source": [
    "if (file.exists(\"../secrets/database.ini\")) {\n",
    "  tmp <- readLines(\"../secrets/database.ini\")\n",
    "  tmp <- data.frame(strsplit(tmp,\"=\"))\n",
    "  dbinfo <- tmp[2,]\n",
    "  names(dbinfo) <- tmp[1,]\n",
    "   rm(tmp)\n",
    "} else {\n",
    "  cat(\"No database information found\")\n",
    "}"
   ]
  },
  {
   "cell_type": "code",
   "execution_count": 9,
   "id": "f8ebd682-87b2-4c06-b3fc-f3e5ad35660c",
   "metadata": {},
   "outputs": [],
   "source": [
    "drv <- dbDriver(\"PostgreSQL\") ## remember to update .pgpass file\n",
    "con <- dbConnect(drv, dbname = dbinfo$database,\n",
    "                 host = dbinfo$host, port = dbinfo$port,\n",
    "                 user = dbinfo$user)"
   ]
  },
  {
   "cell_type": "code",
   "execution_count": 10,
   "id": "85fd0b95-ac27-4615-9b35-ebbb509ed903",
   "metadata": {},
   "outputs": [
    {
     "name": "stdout",
     "output_type": "stream",
     "text": [
      "'data.frame':\t19242 obs. of  20 variables:\n",
      " $ record_id             : int  23233 23234 23235 23236 23237 23238 23239 23240 23241 23242 ...\n",
      " $ visit_id              : chr  \"CRC09B7UVH\" \"CRC09B7UVH\" \"CRC09B7UVH\" \"CRC09B7UVH\" ...\n",
      " $ visit_date            : Date, format: \"2021-02-03\" \"2021-02-03\" ...\n",
      " $ sample_nr             : int  1 1 1 1 1 1 1 1 1 1 ...\n",
      " $ species               : chr  \"Goodenia ovata\" \"Gonocarpus tetragynus\" \"Eucalyptus blaxlandii\" \"Eucalyptus viminalis\" ...\n",
      " $ species_code          : int  3192 3247 4058 4197 6403 5697 3540 5445 1211 3824 ...\n",
      " $ species_notes         : chr  NA NA NA NA ...\n",
      " $ resprout_organ        : chr  NA NA NA NA ...\n",
      " $ seedbank              : chr  \"Soil-persistent\" \"Soil-persistent\" \"Canopy\" \"Canopy\" ...\n",
      " $ adults_unburnt        : num  0 0 0 0 0 0 0 0 0 0 ...\n",
      " $ resprouts_live        : num  0 100 0 0 32 0 14 0 0 0 ...\n",
      " $ resprouts_died        : num  NA NA NA NA NA NA NA NA NA NA ...\n",
      " $ resprouts_kill        : num  NA NA NA NA NA NA NA NA NA NA ...\n",
      " $ resprouts_reproductive: num  0 0 0 0 0 0 0 1 0 0 ...\n",
      " $ recruits_live         : num  100 0 16 1 0 4 0 0 34 18 ...\n",
      " $ recruits_reproductive : num  0 0 0 0 0 0 0 0 0 0 ...\n",
      " $ recruits_died         : num  NA NA NA NA NA NA NA NA NA NA ...\n",
      " $ scorch                : chr  NA NA NA NA ...\n",
      " $ life_stage            : chr  NA NA NA NA ...\n",
      " $ comments              : chr  \"{\\\"Imported from workbook UNSWFireVegResponse_UplandBasalt_AlexThomsen+DK.xlsx using python script\\\",\\\"Imported\"| __truncated__ \"{\\\"Imported from workbook UNSWFireVegResponse_UplandBasalt_AlexThomsen+DK.xlsx using python script\\\",\\\"Imported\"| __truncated__ \"{\\\"Imported from workbook UNSWFireVegResponse_UplandBasalt_AlexThomsen+DK.xlsx using python script\\\",\\\"Imported\"| __truncated__ \"{\\\"Imported from workbook UNSWFireVegResponse_UplandBasalt_AlexThomsen+DK.xlsx using python script\\\",\\\"Imported\"| __truncated__ ...\n"
     ]
    },
    {
     "data": {
      "text/html": [
       "TRUE"
      ],
      "text/latex": [
       "TRUE"
      ],
      "text/markdown": [
       "TRUE"
      ],
      "text/plain": [
       "[1] TRUE"
      ]
     },
     "metadata": {},
     "output_type": "display_data"
    }
   ],
   "source": [
    "qry <- \"SELECT * FROM form.quadrat_samples\"\n",
    "field_records <- dbGetQuery(con, qry)\n",
    "\n",
    "\n",
    "str(field_records)\n",
    "#Close PostgreSQL connection\n",
    "dbDisconnect(con)\n"
   ]
  },
  {
   "cell_type": "code",
   "execution_count": 12,
   "id": "1677223c-dfa9-4d1d-8173-63879968f47e",
   "metadata": {},
   "outputs": [
    {
     "name": "stderr",
     "output_type": "stream",
     "text": [
      "Checking alignments of 1106 taxa\n",
      "\n",
      "\n",
      "  -> of these \u001b[34m925\u001b[39m names have a perfect match to a scientific name in the APC. \n",
      "      Alignments being sought for remaining names.\n",
      "\n"
     ]
    },
    {
     "name": "stdout",
     "output_type": "stream",
     "text": [
      "\u001b[90m# A tibble: 19,242 × 12\u001b[39m\n",
      "  original_name       aligned_name accepted_name suggested_name genus taxon_rank\n",
      "  \u001b[3m\u001b[90m<chr>\u001b[39m\u001b[23m               \u001b[3m\u001b[90m<chr>\u001b[39m\u001b[23m        \u001b[3m\u001b[90m<chr>\u001b[39m\u001b[23m         \u001b[3m\u001b[90m<chr>\u001b[39m\u001b[23m          \u001b[3m\u001b[90m<chr>\u001b[39m\u001b[23m \u001b[3m\u001b[90m<chr>\u001b[39m\u001b[23m     \n",
      "\u001b[90m1\u001b[39m Goodenia ovata      Goodenia ov… Goodenia ova… Goodenia ovata Good… species   \n",
      "\u001b[90m2\u001b[39m Gonocarpus tetragy… Gonocarpus … Gonocarpus t… Gonocarpus te… Gono… species   \n",
      "\u001b[90m3\u001b[39m Eucalyptus blaxlan… Eucalyptus … Eucalyptus b… Eucalyptus bl… Euca… species   \n",
      "\u001b[90m4\u001b[39m Eucalyptus viminal… Eucalyptus … Eucalyptus v… Eucalyptus vi… Euca… species   \n",
      "\u001b[90m5\u001b[39m Pteridium esculent… Pteridium e… Pteridium es… Pteridium esc… Pter… species   \n",
      "\u001b[90m6\u001b[39m Opercularia aspera  Opercularia… Opercularia … Opercularia a… Oper… species   \n",
      "\u001b[90m# ℹ 19,236 more rows\u001b[39m\n",
      "\u001b[90m# ℹ 6 more variables: taxonomic_dataset <chr>, taxonomic_status <chr>,\u001b[39m\n",
      "\u001b[90m#   scientific_name <chr>, aligned_reason <chr>, update_reason <chr>,\u001b[39m\n",
      "\u001b[90m#   number_of_collapsed_taxa <dbl>\u001b[39m\n"
     ]
    }
   ],
   "source": [
    "library(dplyr)\n",
    "\n",
    "field_form_names <- field_recordspackageVersion(\"APCalign\") |> \n",
    "  pull(species) |> \n",
    "  create_taxonomic_update_lookup(resources = stable_resources)\n",
    "\n",
    "field_form_names |> \n",
    "  print(n = 6)"
   ]
  },
  {
   "cell_type": "code",
   "execution_count": 22,
   "id": "8a90ce71-7d34-4ce2-afa4-e008a356abc5",
   "metadata": {},
   "outputs": [
    {
     "name": "stderr",
     "output_type": "stream",
     "text": [
      "\u001b[1m\u001b[22m`summarise()` has grouped output by 'taxon_rank'. You can override using the `.groups` argument.\n"
     ]
    },
    {
     "data": {
      "text/html": [
       "<table class=\"dataframe\">\n",
       "<caption>A grouped_df: 22 × 4</caption>\n",
       "<thead>\n",
       "\t<tr><th scope=col>taxon_rank</th><th scope=col>update_reason</th><th scope=col>records</th><th scope=col>names</th></tr>\n",
       "\t<tr><th scope=col>&lt;chr&gt;</th><th scope=col>&lt;chr&gt;</th><th scope=col>&lt;int&gt;</th><th scope=col>&lt;int&gt;</th></tr>\n",
       "</thead>\n",
       "<tbody>\n",
       "\t<tr><td>family    </td><td>NA                          </td><td>    7</td><td>  4</td></tr>\n",
       "\t<tr><td>genus     </td><td>NA                          </td><td>  316</td><td> 55</td></tr>\n",
       "\t<tr><td>species   </td><td>aligned name accepted by APC</td><td>15924</td><td>897</td></tr>\n",
       "\t<tr><td>species   </td><td>basionym                    </td><td>   13</td><td>  4</td></tr>\n",
       "\t<tr><td>species   </td><td>excluded                    </td><td>    1</td><td>  1</td></tr>\n",
       "\t<tr><td>species   </td><td>misapplied                  </td><td>    2</td><td>  1</td></tr>\n",
       "\t<tr><td>species   </td><td>nomenclatural synonym       </td><td>  707</td><td> 49</td></tr>\n",
       "\t<tr><td>species   </td><td>orthographic variant        </td><td>   68</td><td>  6</td></tr>\n",
       "\t<tr><td>species   </td><td>pro parte misapplied        </td><td>   22</td><td>  3</td></tr>\n",
       "\t<tr><td>species   </td><td>pro parte taxonomic synonym </td><td>    6</td><td>  1</td></tr>\n",
       "\t<tr><td>species   </td><td>taxonomic synonym           </td><td>  320</td><td> 13</td></tr>\n",
       "\t<tr><td>species   </td><td>NA                          </td><td>    6</td><td>  4</td></tr>\n",
       "\t<tr><td>subspecies</td><td>aligned name accepted by APC</td><td> 1358</td><td> 27</td></tr>\n",
       "\t<tr><td>subspecies</td><td>misapplied                  </td><td>   13</td><td>  1</td></tr>\n",
       "\t<tr><td>subspecies</td><td>nomenclatural synonym       </td><td>    5</td><td>  2</td></tr>\n",
       "\t<tr><td>subspecies</td><td>orthographic variant        </td><td>    5</td><td>  1</td></tr>\n",
       "\t<tr><td>subspecies</td><td>taxonomic synonym           </td><td>   33</td><td>  3</td></tr>\n",
       "\t<tr><td>variety   </td><td>aligned name accepted by APC</td><td>  147</td><td> 13</td></tr>\n",
       "\t<tr><td>variety   </td><td>nomenclatural synonym       </td><td>  112</td><td>  4</td></tr>\n",
       "\t<tr><td>variety   </td><td>orthographic variant        </td><td>    1</td><td>  1</td></tr>\n",
       "\t<tr><td>variety   </td><td>taxonomic synonym           </td><td>   12</td><td>  1</td></tr>\n",
       "\t<tr><td>NA        </td><td>NA                          </td><td>  164</td><td> 15</td></tr>\n",
       "</tbody>\n",
       "</table>\n"
      ],
      "text/latex": [
       "A grouped\\_df: 22 × 4\n",
       "\\begin{tabular}{llll}\n",
       " taxon\\_rank & update\\_reason & records & names\\\\\n",
       " <chr> & <chr> & <int> & <int>\\\\\n",
       "\\hline\n",
       "\t family     & NA                           &     7 &   4\\\\\n",
       "\t genus      & NA                           &   316 &  55\\\\\n",
       "\t species    & aligned name accepted by APC & 15924 & 897\\\\\n",
       "\t species    & basionym                     &    13 &   4\\\\\n",
       "\t species    & excluded                     &     1 &   1\\\\\n",
       "\t species    & misapplied                   &     2 &   1\\\\\n",
       "\t species    & nomenclatural synonym        &   707 &  49\\\\\n",
       "\t species    & orthographic variant         &    68 &   6\\\\\n",
       "\t species    & pro parte misapplied         &    22 &   3\\\\\n",
       "\t species    & pro parte taxonomic synonym  &     6 &   1\\\\\n",
       "\t species    & taxonomic synonym            &   320 &  13\\\\\n",
       "\t species    & NA                           &     6 &   4\\\\\n",
       "\t subspecies & aligned name accepted by APC &  1358 &  27\\\\\n",
       "\t subspecies & misapplied                   &    13 &   1\\\\\n",
       "\t subspecies & nomenclatural synonym        &     5 &   2\\\\\n",
       "\t subspecies & orthographic variant         &     5 &   1\\\\\n",
       "\t subspecies & taxonomic synonym            &    33 &   3\\\\\n",
       "\t variety    & aligned name accepted by APC &   147 &  13\\\\\n",
       "\t variety    & nomenclatural synonym        &   112 &   4\\\\\n",
       "\t variety    & orthographic variant         &     1 &   1\\\\\n",
       "\t variety    & taxonomic synonym            &    12 &   1\\\\\n",
       "\t NA         & NA                           &   164 &  15\\\\\n",
       "\\end{tabular}\n"
      ],
      "text/markdown": [
       "\n",
       "A grouped_df: 22 × 4\n",
       "\n",
       "| taxon_rank &lt;chr&gt; | update_reason &lt;chr&gt; | records &lt;int&gt; | names &lt;int&gt; |\n",
       "|---|---|---|---|\n",
       "| family     | NA                           |     7 |   4 |\n",
       "| genus      | NA                           |   316 |  55 |\n",
       "| species    | aligned name accepted by APC | 15924 | 897 |\n",
       "| species    | basionym                     |    13 |   4 |\n",
       "| species    | excluded                     |     1 |   1 |\n",
       "| species    | misapplied                   |     2 |   1 |\n",
       "| species    | nomenclatural synonym        |   707 |  49 |\n",
       "| species    | orthographic variant         |    68 |   6 |\n",
       "| species    | pro parte misapplied         |    22 |   3 |\n",
       "| species    | pro parte taxonomic synonym  |     6 |   1 |\n",
       "| species    | taxonomic synonym            |   320 |  13 |\n",
       "| species    | NA                           |     6 |   4 |\n",
       "| subspecies | aligned name accepted by APC |  1358 |  27 |\n",
       "| subspecies | misapplied                   |    13 |   1 |\n",
       "| subspecies | nomenclatural synonym        |     5 |   2 |\n",
       "| subspecies | orthographic variant         |     5 |   1 |\n",
       "| subspecies | taxonomic synonym            |    33 |   3 |\n",
       "| variety    | aligned name accepted by APC |   147 |  13 |\n",
       "| variety    | nomenclatural synonym        |   112 |   4 |\n",
       "| variety    | orthographic variant         |     1 |   1 |\n",
       "| variety    | taxonomic synonym            |    12 |   1 |\n",
       "| NA         | NA                           |   164 |  15 |\n",
       "\n"
      ],
      "text/plain": [
       "   taxon_rank update_reason                records names\n",
       "1  family     NA                               7     4  \n",
       "2  genus      NA                             316    55  \n",
       "3  species    aligned name accepted by APC 15924   897  \n",
       "4  species    basionym                        13     4  \n",
       "5  species    excluded                         1     1  \n",
       "6  species    misapplied                       2     1  \n",
       "7  species    nomenclatural synonym          707    49  \n",
       "8  species    orthographic variant            68     6  \n",
       "9  species    pro parte misapplied            22     3  \n",
       "10 species    pro parte taxonomic synonym      6     1  \n",
       "11 species    taxonomic synonym              320    13  \n",
       "12 species    NA                               6     4  \n",
       "13 subspecies aligned name accepted by APC  1358    27  \n",
       "14 subspecies misapplied                      13     1  \n",
       "15 subspecies nomenclatural synonym            5     2  \n",
       "16 subspecies orthographic variant             5     1  \n",
       "17 subspecies taxonomic synonym               33     3  \n",
       "18 variety    aligned name accepted by APC   147    13  \n",
       "19 variety    nomenclatural synonym          112     4  \n",
       "20 variety    orthographic variant             1     1  \n",
       "21 variety    taxonomic synonym               12     1  \n",
       "22 NA         NA                             164    15  "
      ]
     },
     "metadata": {},
     "output_type": "display_data"
    }
   ],
   "source": [
    "field_form_names |> \n",
    "    group_by(taxon_rank,update_reason) |> \n",
    "    summarise(records=n(), names = n_distinct(original_name))"
   ]
  },
  {
   "cell_type": "code",
   "execution_count": 21,
   "id": "5de063a5-6d54-47f0-8665-375bcf18df96",
   "metadata": {},
   "outputs": [
    {
     "data": {
      "text/html": [
       "<table class=\"dataframe\">\n",
       "<caption>A tibble: 3 × 12</caption>\n",
       "<thead>\n",
       "\t<tr><th scope=col>original_name</th><th scope=col>aligned_name</th><th scope=col>accepted_name</th><th scope=col>suggested_name</th><th scope=col>genus</th><th scope=col>taxon_rank</th><th scope=col>taxonomic_dataset</th><th scope=col>taxonomic_status</th><th scope=col>scientific_name</th><th scope=col>aligned_reason</th><th scope=col>update_reason</th><th scope=col>number_of_collapsed_taxa</th></tr>\n",
       "\t<tr><th scope=col>&lt;chr&gt;</th><th scope=col>&lt;chr&gt;</th><th scope=col>&lt;chr&gt;</th><th scope=col>&lt;chr&gt;</th><th scope=col>&lt;chr&gt;</th><th scope=col>&lt;chr&gt;</th><th scope=col>&lt;chr&gt;</th><th scope=col>&lt;chr&gt;</th><th scope=col>&lt;chr&gt;</th><th scope=col>&lt;chr&gt;</th><th scope=col>&lt;chr&gt;</th><th scope=col>&lt;dbl&gt;</th></tr>\n",
       "</thead>\n",
       "<tbody>\n",
       "\t<tr><td>Lastreopsis decomposita</td><td>Lastreopsis decomposita</td><td>Parapolystichum calanthum</td><td><span style=white-space:pre-wrap>Parapolystichum calanthum [alternative possible names: NA]                                                                                                                                                                                                                                                                                                                                                                                     </span></td><td>Parapolystichum</td><td>species</td><td>APC</td><td>accepted</td><td>Parapolystichum calanthum (Endl.) J.J.S.Gardner &amp; Nagalingum</td><td>Exact match of taxon name to an APC-known canonical name once punctuation and filler words are removed (2024-08-05)</td><td>pro parte misapplied</td><td>1</td></tr>\n",
       "\t<tr><td>Rubus fruticosus       </td><td>Rubus fruticosus       </td><td>Rubus anglocandicans     </td><td>Rubus anglocandicans [alternative possible names: Rubus erythrops (pro parte misapplied) | Rubus laciniatus (pro parte misapplied) | Rubus leucostachys (pro parte misapplied) | Rubus phaeocarpus (pro parte misapplied) | Rubus riddelsdellii (pro parte misapplied) | Rubus rubritinctus (pro parte misapplied) | Rubus ulmifolius var. ulmifolius (pro parte misapplied) | Rubus anglocandicans (misapplied) | Rubus laudatus (misapplied)]</td><td>Rubus          </td><td>species</td><td>APC</td><td>accepted</td><td>Rubus anglocandicans A.Newton                               </td><td>Exact match of taxon name to an APC-known canonical name once punctuation and filler words are removed (2024-08-05)</td><td>pro parte misapplied</td><td>1</td></tr>\n",
       "\t<tr><td>Salsola kali           </td><td>Salsola kali           </td><td>Salsola australis        </td><td>Salsola australis [alternative possible names: Salsola australis (misapplied)]                                                                                                                                                                                                                                                                                                                                                                 </td><td>Salsola        </td><td>species</td><td>APC</td><td>accepted</td><td>Salsola australis R.Br.                                     </td><td>Exact match of taxon name to an APC-known canonical name once punctuation and filler words are removed (2024-08-05)</td><td>pro parte misapplied</td><td>1</td></tr>\n",
       "</tbody>\n",
       "</table>\n"
      ],
      "text/latex": [
       "A tibble: 3 × 12\n",
       "\\begin{tabular}{llllllllllll}\n",
       " original\\_name & aligned\\_name & accepted\\_name & suggested\\_name & genus & taxon\\_rank & taxonomic\\_dataset & taxonomic\\_status & scientific\\_name & aligned\\_reason & update\\_reason & number\\_of\\_collapsed\\_taxa\\\\\n",
       " <chr> & <chr> & <chr> & <chr> & <chr> & <chr> & <chr> & <chr> & <chr> & <chr> & <chr> & <dbl>\\\\\n",
       "\\hline\n",
       "\t Lastreopsis decomposita & Lastreopsis decomposita & Parapolystichum calanthum & Parapolystichum calanthum {[}alternative possible names: NA{]}                                                                                                                                                                                                                                                                                                                                                                                      & Parapolystichum & species & APC & accepted & Parapolystichum calanthum (Endl.) J.J.S.Gardner \\& Nagalingum & Exact match of taxon name to an APC-known canonical name once punctuation and filler words are removed (2024-08-05) & pro parte misapplied & 1\\\\\n",
       "\t Rubus fruticosus        & Rubus fruticosus        & Rubus anglocandicans      & Rubus anglocandicans {[}alternative possible names: Rubus erythrops (pro parte misapplied) \\textbar{} Rubus laciniatus (pro parte misapplied) \\textbar{} Rubus leucostachys (pro parte misapplied) \\textbar{} Rubus phaeocarpus (pro parte misapplied) \\textbar{} Rubus riddelsdellii (pro parte misapplied) \\textbar{} Rubus rubritinctus (pro parte misapplied) \\textbar{} Rubus ulmifolius var. ulmifolius (pro parte misapplied) \\textbar{} Rubus anglocandicans (misapplied) \\textbar{} Rubus laudatus (misapplied){]} & Rubus           & species & APC & accepted & Rubus anglocandicans A.Newton                                & Exact match of taxon name to an APC-known canonical name once punctuation and filler words are removed (2024-08-05) & pro parte misapplied & 1\\\\\n",
       "\t Salsola kali            & Salsola kali            & Salsola australis         & Salsola australis {[}alternative possible names: Salsola australis (misapplied){]}                                                                                                                                                                                                                                                                                                                                                                  & Salsola         & species & APC & accepted & Salsola australis R.Br.                                      & Exact match of taxon name to an APC-known canonical name once punctuation and filler words are removed (2024-08-05) & pro parte misapplied & 1\\\\\n",
       "\\end{tabular}\n"
      ],
      "text/markdown": [
       "\n",
       "A tibble: 3 × 12\n",
       "\n",
       "| original_name &lt;chr&gt; | aligned_name &lt;chr&gt; | accepted_name &lt;chr&gt; | suggested_name &lt;chr&gt; | genus &lt;chr&gt; | taxon_rank &lt;chr&gt; | taxonomic_dataset &lt;chr&gt; | taxonomic_status &lt;chr&gt; | scientific_name &lt;chr&gt; | aligned_reason &lt;chr&gt; | update_reason &lt;chr&gt; | number_of_collapsed_taxa &lt;dbl&gt; |\n",
       "|---|---|---|---|---|---|---|---|---|---|---|---|\n",
       "| Lastreopsis decomposita | Lastreopsis decomposita | Parapolystichum calanthum | Parapolystichum calanthum [alternative possible names: NA]                                                                                                                                                                                                                                                                                                                                                                                      | Parapolystichum | species | APC | accepted | Parapolystichum calanthum (Endl.) J.J.S.Gardner &amp; Nagalingum | Exact match of taxon name to an APC-known canonical name once punctuation and filler words are removed (2024-08-05) | pro parte misapplied | 1 |\n",
       "| Rubus fruticosus        | Rubus fruticosus        | Rubus anglocandicans      | Rubus anglocandicans [alternative possible names: Rubus erythrops (pro parte misapplied) | Rubus laciniatus (pro parte misapplied) | Rubus leucostachys (pro parte misapplied) | Rubus phaeocarpus (pro parte misapplied) | Rubus riddelsdellii (pro parte misapplied) | Rubus rubritinctus (pro parte misapplied) | Rubus ulmifolius var. ulmifolius (pro parte misapplied) | Rubus anglocandicans (misapplied) | Rubus laudatus (misapplied)] | Rubus           | species | APC | accepted | Rubus anglocandicans A.Newton                                | Exact match of taxon name to an APC-known canonical name once punctuation and filler words are removed (2024-08-05) | pro parte misapplied | 1 |\n",
       "| Salsola kali            | Salsola kali            | Salsola australis         | Salsola australis [alternative possible names: Salsola australis (misapplied)]                                                                                                                                                                                                                                                                                                                                                                  | Salsola         | species | APC | accepted | Salsola australis R.Br.                                      | Exact match of taxon name to an APC-known canonical name once punctuation and filler words are removed (2024-08-05) | pro parte misapplied | 1 |\n",
       "\n"
      ],
      "text/plain": [
       "  original_name           aligned_name            accepted_name            \n",
       "1 Lastreopsis decomposita Lastreopsis decomposita Parapolystichum calanthum\n",
       "2 Rubus fruticosus        Rubus fruticosus        Rubus anglocandicans     \n",
       "3 Salsola kali            Salsola kali            Salsola australis        \n",
       "  suggested_name                                                                                                                                                                                                                                                                                                                                                                                                                                 \n",
       "1 Parapolystichum calanthum [alternative possible names: NA]                                                                                                                                                                                                                                                                                                                                                                                     \n",
       "2 Rubus anglocandicans [alternative possible names: Rubus erythrops (pro parte misapplied) | Rubus laciniatus (pro parte misapplied) | Rubus leucostachys (pro parte misapplied) | Rubus phaeocarpus (pro parte misapplied) | Rubus riddelsdellii (pro parte misapplied) | Rubus rubritinctus (pro parte misapplied) | Rubus ulmifolius var. ulmifolius (pro parte misapplied) | Rubus anglocandicans (misapplied) | Rubus laudatus (misapplied)]\n",
       "3 Salsola australis [alternative possible names: Salsola australis (misapplied)]                                                                                                                                                                                                                                                                                                                                                                 \n",
       "  genus           taxon_rank taxonomic_dataset taxonomic_status\n",
       "1 Parapolystichum species    APC               accepted        \n",
       "2 Rubus           species    APC               accepted        \n",
       "3 Salsola         species    APC               accepted        \n",
       "  scientific_name                                             \n",
       "1 Parapolystichum calanthum (Endl.) J.J.S.Gardner & Nagalingum\n",
       "2 Rubus anglocandicans A.Newton                               \n",
       "3 Salsola australis R.Br.                                     \n",
       "  aligned_reason                                                                                                     \n",
       "1 Exact match of taxon name to an APC-known canonical name once punctuation and filler words are removed (2024-08-05)\n",
       "2 Exact match of taxon name to an APC-known canonical name once punctuation and filler words are removed (2024-08-05)\n",
       "3 Exact match of taxon name to an APC-known canonical name once punctuation and filler words are removed (2024-08-05)\n",
       "  update_reason        number_of_collapsed_taxa\n",
       "1 pro parte misapplied 1                       \n",
       "2 pro parte misapplied 1                       \n",
       "3 pro parte misapplied 1                       "
      ]
     },
     "metadata": {},
     "output_type": "display_data"
    }
   ],
   "source": [
    "field_form_names |> filter(update_reason %in% \"pro parte misapplied\") |> distinct()"
   ]
  },
  {
   "cell_type": "code",
   "execution_count": 24,
   "id": "704fcfc4-5500-420b-9155-533a83990f4a",
   "metadata": {},
   "outputs": [
    {
     "data": {
      "text/plain": [
       "[1] ‘1.0.2’"
      ]
     },
     "metadata": {},
     "output_type": "display_data"
    },
    {
     "data": {
      "text/html": [
       "'2024-07+31'"
      ],
      "text/latex": [
       "'2024-07+31'"
      ],
      "text/markdown": [
       "'2024-07+31'"
      ],
      "text/plain": [
       "[1] \"2024-07+31\""
      ]
     },
     "metadata": {},
     "output_type": "display_data"
    }
   ],
   "source": [
    "packageVersion(\"APCalign\")\n",
    "default_version()"
   ]
  },
  {
   "cell_type": "code",
   "execution_count": 25,
   "id": "f2fa66f0-37da-4ae2-a186-6efdad7d4eae",
   "metadata": {},
   "outputs": [
    {
     "data": {
      "text/plain": [
       "To cite package ‘APCalign’ in publications use:\n",
       "\n",
       "  Wenk E, Cornwell W, Fuchs A, Kar F, Monro A, Sauquet H, Stephens R,\n",
       "  Falster D (2024). “APCalign: an R package workflow and app for\n",
       "  aligning and updating flora names to the Australian Plant Census.”\n",
       "  _Australian Journal of Botany_. R package version: 1.0.1,\n",
       "  <https://www.biorxiv.org/content/10.1101/2024.02.02.578715v1>.\n",
       "\n",
       "A BibTeX entry for LaTeX users is\n",
       "\n",
       "  @Article{,\n",
       "    title = {APCalign: an R package workflow and app for aligning and updating flora names to the Australian Plant Census},\n",
       "    journal = {Australian Journal of Botany},\n",
       "    author = {Elizabeth Wenk and Will Cornwell and Ann Fuchs and Fonti Kar and Anna Monro and Herve Sauquet and Ruby Stephens and Daniel Falster},\n",
       "    year = {2024},\n",
       "    note = {R package version: 1.0.1},\n",
       "    url = {https://www.biorxiv.org/content/10.1101/2024.02.02.578715v1},\n",
       "  }"
      ]
     },
     "metadata": {},
     "output_type": "display_data"
    }
   ],
   "source": [
    "citation(\"APCalign\")"
   ]
  }
 ],
 "metadata": {
  "kernelspec": {
   "display_name": "R",
   "language": "R",
   "name": "ir"
  },
  "language_info": {
   "codemirror_mode": "r",
   "file_extension": ".r",
   "mimetype": "text/x-r-source",
   "name": "R",
   "pygments_lexer": "r",
   "version": "4.3.1"
  }
 },
 "nbformat": 4,
 "nbformat_minor": 5
}
