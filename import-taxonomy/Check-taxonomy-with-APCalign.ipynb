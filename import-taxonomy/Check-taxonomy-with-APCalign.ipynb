{
 "cells": [
  {
   "cell_type": "code",
   "execution_count": 1,
   "id": "896c89a1-bd20-440b-9a91-a36beb5a09f3",
   "metadata": {},
   "outputs": [
    {
     "name": "stderr",
     "output_type": "stream",
     "text": [
      "Downloading GitHub repo traitecoevo/APCalign@HEAD\n",
      "\n"
     ]
    },
    {
     "name": "stdout",
     "output_type": "stream",
     "text": [
      "withr   (3.0.0 -> 3.0.1 ) [CRAN]\n",
      "crayon  (1.5.2 -> 1.5.3 ) [CRAN]\n",
      "openssl (2.1.1 -> 2.2.0 ) [CRAN]\n",
      "curl    (5.2.0 -> 5.2.1 ) [CRAN]\n",
      "stringi (1.8.3 -> 1.8.4 ) [CRAN]\n",
      "arrow   (NA    -> 16.1.0) [CRAN]\n",
      "readr   (2.1.4 -> 2.1.5 ) [CRAN]\n"
     ]
    },
    {
     "name": "stderr",
     "output_type": "stream",
     "text": [
      "Installing 7 packages: withr, crayon, openssl, curl, stringi, arrow, readr\n",
      "\n"
     ]
    },
    {
     "name": "stdout",
     "output_type": "stream",
     "text": [
      "\n",
      "The downloaded binary packages are in\n",
      "\t/var/folders/0l/lyqlsmz14tq61kh1j0_tqtg80000gq/T//RtmpVSx28c/downloaded_packages\n",
      "\u001b[36m──\u001b[39m \u001b[36mR CMD build\u001b[39m \u001b[36m─────────────────────────────────────────────────────────────────────────────────────────\u001b[39m\n",
      "\u001b[32m✔\u001b[39m  \u001b[90mchecking for file ‘/private/var/folders/0l/lyqlsmz14tq61kh1j0_tqtg80000gq/T/RtmpVSx28c/remotes142b32ff88f66/traitecoevo-APCalign-dfcafde/DESCRIPTION’\u001b[39m\u001b[36m\u001b[39m\n",
      "\u001b[90m─\u001b[39m\u001b[90m  \u001b[39m\u001b[90mpreparing ‘APCalign’:\u001b[39m\u001b[36m\u001b[39m\n",
      "\u001b[32m✔\u001b[39m  \u001b[90mchecking DESCRIPTION meta-information\u001b[39m\u001b[36m\u001b[39m\n",
      "\u001b[90m─\u001b[39m\u001b[90m  \u001b[39m\u001b[90mchecking for LF line-endings in source and make files and shell scripts\u001b[39m\u001b[36m\u001b[39m\n",
      "\u001b[90m─\u001b[39m\u001b[90m  \u001b[39m\u001b[90mchecking for empty or unneeded directories\u001b[39m\u001b[36m\u001b[39m\n",
      "\u001b[90m─\u001b[39m\u001b[90m  \u001b[39m\u001b[90mbuilding ‘APCalign_1.0.2.tar.gz’\u001b[39m\u001b[36m\u001b[39m\n",
      "   \n",
      "\r"
     ]
    }
   ],
   "source": [
    "##install.packages(\"remotes\")\n",
    "remotes::install_github(\"traitecoevo/APCalign\")\n"
   ]
  },
  {
   "cell_type": "code",
   "execution_count": 2,
   "id": "bfbac7a3-a1f9-46c5-8965-4c2a822ae04d",
   "metadata": {},
   "outputs": [],
   "source": [
    "library(APCalign)"
   ]
  },
  {
   "cell_type": "markdown",
   "id": "5934485c-07c6-496c-aa74-de72caa2cfb7",
   "metadata": {},
   "source": [
    "Download the stable version of the taxonomic resources"
   ]
  },
  {
   "cell_type": "code",
   "execution_count": 3,
   "id": "ad073f90-c604-4b49-895a-5a1679bbd4ff",
   "metadata": {},
   "outputs": [
    {
     "name": "stderr",
     "output_type": "stream",
     "text": [
      "Downloading...\n",
      "\n",
      "File downloaded successfully.\n",
      "\n",
      "File downloaded successfully.\n",
      "\n"
     ]
    },
    {
     "name": "stdout",
     "output_type": "stream",
     "text": [
      "\r"
     ]
    },
    {
     "name": "stderr",
     "output_type": "stream",
     "text": [
      "Loading resources into memory...\n",
      "\n"
     ]
    },
    {
     "name": "stdout",
     "output_type": "stream",
     "text": [
      "================================================================================\n"
     ]
    },
    {
     "name": "stderr",
     "output_type": "stream",
     "text": [
      "...done\n",
      "\n"
     ]
    }
   ],
   "source": [
    "stable_resources <- load_taxonomic_resources(stable_or_current_data = \"stable\")\n"
   ]
  },
  {
   "cell_type": "code",
   "execution_count": null,
   "id": "ed6e604c-a11d-45d3-b97f-9a18cd2a65ec",
   "metadata": {},
   "outputs": [],
   "source": []
  }
 ],
 "metadata": {
  "kernelspec": {
   "display_name": "R",
   "language": "R",
   "name": "ir"
  },
  "language_info": {
   "codemirror_mode": "r",
   "file_extension": ".r",
   "mimetype": "text/x-r-source",
   "name": "R",
   "pygments_lexer": "r",
   "version": "4.3.1"
  }
 },
 "nbformat": 4,
 "nbformat_minor": 5
}
