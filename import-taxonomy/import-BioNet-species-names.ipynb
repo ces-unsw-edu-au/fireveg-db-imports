{
 "cells": [
  {
   "cell_type": "markdown",
   "id": "52c9f5c4-7a53-4442-80fa-3c83858ed882",
   "metadata": {},
   "source": [
    "# Fireveg DB imports -- Updated taxonomic list from BIONET\n",
    "\n",
    "Author: [José R. Ferrer-Paris](https://github.com/jrfep)\n",
    "\n",
    "Date: 19 August 2024\n",
    "\n",
    "This Jupyter Notebook includes [Python](https://www.python.org) code to populate taxonomic list for New South Wales plant species in the Fireveg database. \n",
    "\n",
    "For **version 1.0** of the database, we got the BioNet data provided by Renee as an excel file, which we read in ***R*** using package `readxl` and then wrote a table into the Postgres database using package `RPostgreSQL`.\n",
    "\n",
    "For **version 1.1** we are reading the data directly from the [BioNet API](https://www.environment.nsw.gov.au/topics/animals-and-plants/biodiversity/nsw-bionet/web-services) at <https://data.bionet.nsw.gov.au/biosvcapp/odata>, and we are using ***Python*** with modules `json`, `pandas` and `sqlalchemy` to import into the database.\n",
    "\n",
    "**Please note:**\n",
    "<div class=\"alert alert-warning\">\n",
    "    This repository contains code that is intended for internal project management and is documented for the sake of reproducibility.<br/>\n",
    "    🛂 Only users contributing directly to the project have access to the credentials for data download/upload. \n",
    "</div>"
   ]
  },
  {
   "cell_type": "markdown",
   "id": "60c3e790-753b-46c0-97d5-9f995acf2aed",
   "metadata": {},
   "source": [
    "## Set-up\n",
    "### Import modules"
   ]
  },
  {
   "cell_type": "code",
   "execution_count": 1,
   "id": "f976bc65-9747-42d9-b97a-5e35665275d5",
   "metadata": {},
   "outputs": [],
   "source": [
    "import sys\n",
    "import json\n",
    "import urllib\n",
    "import pandas as pd\n",
    "from sqlalchemy import create_engine,text\n",
    "\n",
    "# Pyprojroot for easier handling of working directory\n",
    "import pyprojroot"
   ]
  },
  {
   "cell_type": "markdown",
   "id": "bc5eac91-ace0-4e69-9d09-d37e521b70da",
   "metadata": {},
   "source": [
    "### Define paths for input and output"
   ]
  },
  {
   "cell_type": "markdown",
   "id": "4d58a690-dbff-4350-bf63-102ccd1a6661",
   "metadata": {},
   "source": [
    "Define project directory using the `pyprojroot` functions, and add this to the execution path."
   ]
  },
  {
   "cell_type": "code",
   "execution_count": 2,
   "id": "f65afb17-18ec-45e0-973e-c816294fb1d8",
   "metadata": {},
   "outputs": [],
   "source": [
    "repodir = pyprojroot.find_root(pyprojroot.has_dir(\".git\"))\n",
    "sys.path.append(str(repodir))"
   ]
  },
  {
   "cell_type": "code",
   "execution_count": null,
   "id": "2a683fb6-5927-4032-85a3-97b053d8d0da",
   "metadata": {},
   "outputs": [],
   "source": []
  },
  {
   "cell_type": "markdown",
   "id": "ff2d05dc-d241-401f-8cee-eb3fab0a241e",
   "metadata": {},
   "source": [
    "### Load own functions\n",
    "Load functions from `lib` folder, we will use a function to read db credentials."
   ]
  },
  {
   "cell_type": "code",
   "execution_count": 3,
   "id": "d87d5a85-60da-4a30-8e4e-4536e3b4c314",
   "metadata": {},
   "outputs": [],
   "source": [
    "from lib.parseparams import read_dbparams"
   ]
  },
  {
   "cell_type": "markdown",
   "id": "00d4fc7a-5fa8-4b5a-9d57-3099f440ed55",
   "metadata": {},
   "source": [
    "### Database credentials\n",
    "\n",
    "🤫 We use a folder named \"secrets\" to keep the credentials for connection to different services (database credentials, API keys, etc). This checked this folder in our `.gitignore` so that its content are not tracked by git and not exposed. Future users need to copy the contents of this folder manually.\n",
    "\n",
    "We read database credentials stored in a `database.ini` file using our own `read_dbparams` function."
   ]
  },
  {
   "cell_type": "code",
   "execution_count": 4,
   "id": "7b93de8a-6961-4a8b-b147-9bab2487d68e",
   "metadata": {},
   "outputs": [],
   "source": [
    "dbparams = read_dbparams(repodir / 'secrets' / 'database.ini', \n",
    "                         section='fireveg-db-v1.1')"
   ]
  },
  {
   "cell_type": "code",
   "execution_count": null,
   "id": "8e44bf21-96cf-40b6-8598-74a040608dcd",
   "metadata": {},
   "outputs": [],
   "source": []
  },
  {
   "cell_type": "markdown",
   "id": "55a9e802-8e05-42d0-bdcd-76fc55811f73",
   "metadata": {},
   "source": [
    "## Import Species name data from BioNet"
   ]
  },
  {
   "cell_type": "markdown",
   "id": "81c0c7d9-c180-44fa-a5ee-10a42bfd3a8d",
   "metadata": {},
   "source": [
    "### Load data from Open API \n",
    "This web service is provided with open access, the data is in json format."
   ]
  },
  {
   "cell_type": "code",
   "execution_count": 5,
   "id": "e78dfe3d-b373-4a1b-9f6a-4c5880e673b2",
   "metadata": {},
   "outputs": [],
   "source": [
    "odata_url = 'https://data.bionet.nsw.gov.au/biosvcapp/odata/SpeciesNames'\n",
    "def getResponse(url):\n",
    "    operUrl = urllib.request.urlopen(url)\n",
    "    if(operUrl.getcode()==200):\n",
    "       data = operUrl.read()\n",
    "    else:\n",
    "       print(\"Error receiving data\", operUrl.getcode())\n",
    "    return data\n",
    "odata_query = getResponse(odata_url)\n",
    "BIONET_data = json.loads(odata_query)"
   ]
  },
  {
   "cell_type": "markdown",
   "id": "3afc7d5e-ee5b-4871-bc84-e46d38d78c77",
   "metadata": {},
   "source": [
    "Where is the data? "
   ]
  },
  {
   "cell_type": "code",
   "execution_count": 6,
   "id": "358323fe-7d5d-4994-83a0-3e546792bfb6",
   "metadata": {},
   "outputs": [
    {
     "data": {
      "text/plain": [
       "dict_keys(['@odata.context', 'value'])"
      ]
     },
     "execution_count": 6,
     "metadata": {},
     "output_type": "execute_result"
    }
   ],
   "source": [
    "BIONET_data.keys()"
   ]
  },
  {
   "cell_type": "markdown",
   "id": "1885210d-8b62-4c70-b193-2cbd423a1d28",
   "metadata": {},
   "source": [
    "How many records are in the `value` component?"
   ]
  },
  {
   "cell_type": "code",
   "execution_count": 7,
   "id": "fd4846f9-d19c-4658-81c7-39cce4b18144",
   "metadata": {},
   "outputs": [
    {
     "data": {
      "text/plain": [
       "24304"
      ]
     },
     "execution_count": 7,
     "metadata": {},
     "output_type": "execute_result"
    }
   ],
   "source": [
    "len(BIONET_data['value'])"
   ]
  },
  {
   "cell_type": "markdown",
   "id": "65f9c4b6-ec71-44f0-aaef-8fdc5845aed4",
   "metadata": {},
   "source": [
    "Let's inspect one record:"
   ]
  },
  {
   "cell_type": "code",
   "execution_count": 8,
   "id": "16d27a79-f5eb-46bd-92d7-54d39c7ae6ff",
   "metadata": {},
   "outputs": [
    {
     "data": {
      "text/plain": [
       "{'dcterms_rightsHolder': 'NSW Dept of Planning, Industry and Environment',\n",
       " 'dcterms_rights': 'CC-BY 4.0',\n",
       " 'dcterms_language': 'en',\n",
       " 'dcterms_type': 'service',\n",
       " 'dcterms_modified': '2006-01-30T17:20:32+11:00',\n",
       " 'dcterms_available': '1995-12-15T12:48:13+11:00',\n",
       " 'speciesID': 2,\n",
       " 'taxonRank': 'Species',\n",
       " 'kingdomID': 138,\n",
       " 'kingdom': 'Animalia',\n",
       " 'classID': 35,\n",
       " 'class': 'Reptilia',\n",
       " 'orderID': 129,\n",
       " 'order': 'Squamata',\n",
       " 'familyID': 1,\n",
       " 'family': 'Pygopodidae',\n",
       " 'sortOrder': 697,\n",
       " 'genusID': 533,\n",
       " 'genus': 'Delma',\n",
       " 'parentSpeciesID': 2,\n",
       " 'specificEpithet': 'inornata',\n",
       " 'infraspecificEpithet': None,\n",
       " 'scientificNameAuthorship': 'Kluge, 1974',\n",
       " 'scientificNameID': 2,\n",
       " 'speciesCode_Synonym': '2160',\n",
       " 'scientificName': 'Delma inornata',\n",
       " 'scientificNameHTML': '<em>Delma inornata</em>',\n",
       " 'vernacularName': 'Patternless Delma',\n",
       " 'otherVernacularNames': 'Patternless Delma',\n",
       " 'taxonID': 2,\n",
       " 'currentScientificNameCode': '2160',\n",
       " 'currentScientificName': 'Delma inornata',\n",
       " 'currentVernacularName': 'Patternless Delma',\n",
       " 'isCurrent': 'true',\n",
       " 'generalTypeID': 182,\n",
       " 'generalType': 'Reptiles',\n",
       " 'establishmentMeans': 'Alive in NSW, Native',\n",
       " 'primaryGrowthForm': None,\n",
       " 'primaryGrowthFormGroup': None,\n",
       " 'secondaryGrowthForms': None,\n",
       " 'secondaryGrowthFormGroups': None,\n",
       " 'stateConservation': 'Not Listed',\n",
       " 'protectedInNSW': 'true',\n",
       " 'sensitivityClass': 'Not Sensitive',\n",
       " 'TSProfileID': None,\n",
       " 'countryConservation': 'Not Listed',\n",
       " 'highThreatWeed': None,\n",
       " 'widelyCultivatedNativeSpecies': None,\n",
       " 'CAMBA': 'false',\n",
       " 'JAMBA': 'false',\n",
       " 'ROKAMBA': 'false'}"
      ]
     },
     "execution_count": 8,
     "metadata": {},
     "output_type": "execute_result"
    }
   ],
   "source": [
    "BIONET_data['value'][1]"
   ]
  },
  {
   "cell_type": "markdown",
   "id": "5c08317b-04dd-4ba6-beba-aa5ba15a299b",
   "metadata": {},
   "source": [
    "### Read plant species data into a Data Frame\n",
    "Using `pandas` reading the data into a data frame is a piece of cake 🍰."
   ]
  },
  {
   "cell_type": "code",
   "execution_count": 9,
   "id": "de9727c4-8c49-4326-a138-bb9d06e43b4e",
   "metadata": {},
   "outputs": [],
   "source": [
    "df=pd.DataFrame(BIONET_data['value'])"
   ]
  },
  {
   "cell_type": "markdown",
   "id": "559ef16f-15f8-4135-8871-ddb0a44ddd4a",
   "metadata": {},
   "source": [
    "And we can now filter the data to include only plants 🌱"
   ]
  },
  {
   "cell_type": "code",
   "execution_count": 10,
   "id": "70d80731-7997-4941-a781-d48baa99a964",
   "metadata": {},
   "outputs": [
    {
     "data": {
      "text/plain": [
       "array(['Animalia', 'Plantae', 'Fungi'], dtype=object)"
      ]
     },
     "execution_count": 10,
     "metadata": {},
     "output_type": "execute_result"
    }
   ],
   "source": [
    "df.kingdom.unique()"
   ]
  },
  {
   "cell_type": "code",
   "execution_count": 11,
   "id": "898f18a1-18f3-475f-89c2-24e58fdccd82",
   "metadata": {},
   "outputs": [],
   "source": [
    "BIONET_plants = df[df.kingdom == 'Plantae']"
   ]
  },
  {
   "cell_type": "code",
   "execution_count": 12,
   "id": "a1c52458-29a7-4acf-aee4-649d9ead1b0f",
   "metadata": {},
   "outputs": [
    {
     "data": {
      "text/html": [
       "<div>\n",
       "<style scoped>\n",
       "    .dataframe tbody tr th:only-of-type {\n",
       "        vertical-align: middle;\n",
       "    }\n",
       "\n",
       "    .dataframe tbody tr th {\n",
       "        vertical-align: top;\n",
       "    }\n",
       "\n",
       "    .dataframe thead th {\n",
       "        text-align: right;\n",
       "    }\n",
       "</style>\n",
       "<table border=\"1\" class=\"dataframe\">\n",
       "  <thead>\n",
       "    <tr style=\"text-align: right;\">\n",
       "      <th></th>\n",
       "      <th>dcterms_rightsHolder</th>\n",
       "      <th>dcterms_rights</th>\n",
       "      <th>dcterms_language</th>\n",
       "      <th>dcterms_type</th>\n",
       "      <th>dcterms_modified</th>\n",
       "      <th>dcterms_available</th>\n",
       "      <th>speciesID</th>\n",
       "      <th>taxonRank</th>\n",
       "      <th>kingdomID</th>\n",
       "      <th>kingdom</th>\n",
       "      <th>...</th>\n",
       "      <th>stateConservation</th>\n",
       "      <th>protectedInNSW</th>\n",
       "      <th>sensitivityClass</th>\n",
       "      <th>TSProfileID</th>\n",
       "      <th>countryConservation</th>\n",
       "      <th>highThreatWeed</th>\n",
       "      <th>widelyCultivatedNativeSpecies</th>\n",
       "      <th>CAMBA</th>\n",
       "      <th>JAMBA</th>\n",
       "      <th>ROKAMBA</th>\n",
       "    </tr>\n",
       "  </thead>\n",
       "  <tbody>\n",
       "    <tr>\n",
       "      <th>2304</th>\n",
       "      <td>NSW Dept of Planning, Industry and Environment</td>\n",
       "      <td>CC-BY 4.0</td>\n",
       "      <td>en</td>\n",
       "      <td>service</td>\n",
       "      <td>2017-10-04T17:28:08.617+11:00</td>\n",
       "      <td>1995-12-15T13:06:39+11:00</td>\n",
       "      <td>2358</td>\n",
       "      <td>Species</td>\n",
       "      <td>139</td>\n",
       "      <td>Plantae</td>\n",
       "      <td>...</td>\n",
       "      <td>Not Listed</td>\n",
       "      <td>false</td>\n",
       "      <td>Not Sensitive</td>\n",
       "      <td>NaN</td>\n",
       "      <td>Not Listed</td>\n",
       "      <td>None</td>\n",
       "      <td>None</td>\n",
       "      <td>false</td>\n",
       "      <td>false</td>\n",
       "      <td>false</td>\n",
       "    </tr>\n",
       "    <tr>\n",
       "      <th>2305</th>\n",
       "      <td>NSW Dept of Planning, Industry and Environment</td>\n",
       "      <td>CC-BY 4.0</td>\n",
       "      <td>en</td>\n",
       "      <td>service</td>\n",
       "      <td>2017-10-04T17:45:14.513+11:00</td>\n",
       "      <td>1995-12-15T13:06:40+11:00</td>\n",
       "      <td>2359</td>\n",
       "      <td>Species</td>\n",
       "      <td>139</td>\n",
       "      <td>Plantae</td>\n",
       "      <td>...</td>\n",
       "      <td>Not Listed</td>\n",
       "      <td>false</td>\n",
       "      <td>Not Sensitive</td>\n",
       "      <td>NaN</td>\n",
       "      <td>Not Listed</td>\n",
       "      <td>None</td>\n",
       "      <td>None</td>\n",
       "      <td>false</td>\n",
       "      <td>false</td>\n",
       "      <td>false</td>\n",
       "    </tr>\n",
       "    <tr>\n",
       "      <th>2306</th>\n",
       "      <td>NSW Dept of Planning, Industry and Environment</td>\n",
       "      <td>CC-BY 4.0</td>\n",
       "      <td>en</td>\n",
       "      <td>service</td>\n",
       "      <td>2017-10-04T17:35:13.517+11:00</td>\n",
       "      <td>1995-12-15T13:06:41+11:00</td>\n",
       "      <td>2360</td>\n",
       "      <td>Species</td>\n",
       "      <td>139</td>\n",
       "      <td>Plantae</td>\n",
       "      <td>...</td>\n",
       "      <td>Not Listed</td>\n",
       "      <td>false</td>\n",
       "      <td>Not Sensitive</td>\n",
       "      <td>NaN</td>\n",
       "      <td>Not Listed</td>\n",
       "      <td>None</td>\n",
       "      <td>None</td>\n",
       "      <td>false</td>\n",
       "      <td>false</td>\n",
       "      <td>false</td>\n",
       "    </tr>\n",
       "    <tr>\n",
       "      <th>2307</th>\n",
       "      <td>NSW Dept of Planning, Industry and Environment</td>\n",
       "      <td>CC-BY 4.0</td>\n",
       "      <td>en</td>\n",
       "      <td>service</td>\n",
       "      <td>2017-10-04T17:20:54.077+11:00</td>\n",
       "      <td>1995-12-15T13:06:41+11:00</td>\n",
       "      <td>2361</td>\n",
       "      <td>Species</td>\n",
       "      <td>139</td>\n",
       "      <td>Plantae</td>\n",
       "      <td>...</td>\n",
       "      <td>Not Listed</td>\n",
       "      <td>true</td>\n",
       "      <td>Not Sensitive</td>\n",
       "      <td>NaN</td>\n",
       "      <td>Not Listed</td>\n",
       "      <td>None</td>\n",
       "      <td>None</td>\n",
       "      <td>false</td>\n",
       "      <td>false</td>\n",
       "      <td>false</td>\n",
       "    </tr>\n",
       "    <tr>\n",
       "      <th>2308</th>\n",
       "      <td>NSW Dept of Planning, Industry and Environment</td>\n",
       "      <td>CC-BY 4.0</td>\n",
       "      <td>en</td>\n",
       "      <td>service</td>\n",
       "      <td>2017-10-04T17:21:14.357+11:00</td>\n",
       "      <td>1995-12-15T13:06:41+11:00</td>\n",
       "      <td>2362</td>\n",
       "      <td>Species</td>\n",
       "      <td>139</td>\n",
       "      <td>Plantae</td>\n",
       "      <td>...</td>\n",
       "      <td>Not Listed</td>\n",
       "      <td>false</td>\n",
       "      <td>Not Sensitive</td>\n",
       "      <td>NaN</td>\n",
       "      <td>Not Listed</td>\n",
       "      <td>None</td>\n",
       "      <td>None</td>\n",
       "      <td>false</td>\n",
       "      <td>false</td>\n",
       "      <td>false</td>\n",
       "    </tr>\n",
       "    <tr>\n",
       "      <th>...</th>\n",
       "      <td>...</td>\n",
       "      <td>...</td>\n",
       "      <td>...</td>\n",
       "      <td>...</td>\n",
       "      <td>...</td>\n",
       "      <td>...</td>\n",
       "      <td>...</td>\n",
       "      <td>...</td>\n",
       "      <td>...</td>\n",
       "      <td>...</td>\n",
       "      <td>...</td>\n",
       "      <td>...</td>\n",
       "      <td>...</td>\n",
       "      <td>...</td>\n",
       "      <td>...</td>\n",
       "      <td>...</td>\n",
       "      <td>...</td>\n",
       "      <td>...</td>\n",
       "      <td>...</td>\n",
       "      <td>...</td>\n",
       "      <td>...</td>\n",
       "    </tr>\n",
       "    <tr>\n",
       "      <th>24282</th>\n",
       "      <td>NSW Dept of Planning, Industry and Environment</td>\n",
       "      <td>CC-BY 4.0</td>\n",
       "      <td>en</td>\n",
       "      <td>service</td>\n",
       "      <td>2024-05-09T11:17:23.96+10:00</td>\n",
       "      <td>2024-05-09T11:17:23.96+10:00</td>\n",
       "      <td>25600</td>\n",
       "      <td>Species</td>\n",
       "      <td>139</td>\n",
       "      <td>Plantae</td>\n",
       "      <td>...</td>\n",
       "      <td>Not Listed</td>\n",
       "      <td>false</td>\n",
       "      <td>Not Sensitive</td>\n",
       "      <td>NaN</td>\n",
       "      <td>Not Listed</td>\n",
       "      <td>None</td>\n",
       "      <td>None</td>\n",
       "      <td>false</td>\n",
       "      <td>false</td>\n",
       "      <td>false</td>\n",
       "    </tr>\n",
       "    <tr>\n",
       "      <th>24284</th>\n",
       "      <td>NSW Dept of Planning, Industry and Environment</td>\n",
       "      <td>CC-BY 4.0</td>\n",
       "      <td>en</td>\n",
       "      <td>service</td>\n",
       "      <td>2024-05-24T14:55:33.177+10:00</td>\n",
       "      <td>2024-05-24T14:55:33.177+10:00</td>\n",
       "      <td>25603</td>\n",
       "      <td>Species</td>\n",
       "      <td>139</td>\n",
       "      <td>Plantae</td>\n",
       "      <td>...</td>\n",
       "      <td>Not Listed</td>\n",
       "      <td>false</td>\n",
       "      <td>Not Sensitive</td>\n",
       "      <td>NaN</td>\n",
       "      <td>Not Listed</td>\n",
       "      <td>None</td>\n",
       "      <td>None</td>\n",
       "      <td>false</td>\n",
       "      <td>false</td>\n",
       "      <td>false</td>\n",
       "    </tr>\n",
       "    <tr>\n",
       "      <th>24285</th>\n",
       "      <td>NSW Dept of Planning, Industry and Environment</td>\n",
       "      <td>CC-BY 4.0</td>\n",
       "      <td>en</td>\n",
       "      <td>service</td>\n",
       "      <td>2024-06-17T11:17:59.3+10:00</td>\n",
       "      <td>2024-06-17T11:17:59.3+10:00</td>\n",
       "      <td>25604</td>\n",
       "      <td>Species</td>\n",
       "      <td>139</td>\n",
       "      <td>Plantae</td>\n",
       "      <td>...</td>\n",
       "      <td>Not Listed</td>\n",
       "      <td>false</td>\n",
       "      <td>Not Sensitive</td>\n",
       "      <td>NaN</td>\n",
       "      <td>Not Listed</td>\n",
       "      <td>None</td>\n",
       "      <td>None</td>\n",
       "      <td>false</td>\n",
       "      <td>false</td>\n",
       "      <td>false</td>\n",
       "    </tr>\n",
       "    <tr>\n",
       "      <th>24302</th>\n",
       "      <td>NSW Dept of Planning, Industry and Environment</td>\n",
       "      <td>CC-BY 4.0</td>\n",
       "      <td>en</td>\n",
       "      <td>service</td>\n",
       "      <td>2024-07-30T11:11:56.763+10:00</td>\n",
       "      <td>2024-07-30T11:11:56.763+10:00</td>\n",
       "      <td>25632</td>\n",
       "      <td>Species</td>\n",
       "      <td>139</td>\n",
       "      <td>Plantae</td>\n",
       "      <td>...</td>\n",
       "      <td>Not Listed</td>\n",
       "      <td>false</td>\n",
       "      <td>Not Sensitive</td>\n",
       "      <td>NaN</td>\n",
       "      <td>Not Listed</td>\n",
       "      <td>None</td>\n",
       "      <td>None</td>\n",
       "      <td>false</td>\n",
       "      <td>false</td>\n",
       "      <td>false</td>\n",
       "    </tr>\n",
       "    <tr>\n",
       "      <th>24303</th>\n",
       "      <td>NSW Dept of Planning, Industry and Environment</td>\n",
       "      <td>CC-BY 4.0</td>\n",
       "      <td>en</td>\n",
       "      <td>service</td>\n",
       "      <td>2024-08-20T13:33:51.477+10:00</td>\n",
       "      <td>2024-08-20T13:33:51.477+10:00</td>\n",
       "      <td>25633</td>\n",
       "      <td>Species</td>\n",
       "      <td>139</td>\n",
       "      <td>Plantae</td>\n",
       "      <td>...</td>\n",
       "      <td>Not Listed</td>\n",
       "      <td>false</td>\n",
       "      <td>Not Sensitive</td>\n",
       "      <td>NaN</td>\n",
       "      <td>Not Listed</td>\n",
       "      <td>None</td>\n",
       "      <td>None</td>\n",
       "      <td>false</td>\n",
       "      <td>false</td>\n",
       "      <td>false</td>\n",
       "    </tr>\n",
       "  </tbody>\n",
       "</table>\n",
       "<p>16157 rows × 51 columns</p>\n",
       "</div>"
      ],
      "text/plain": [
       "                                 dcterms_rightsHolder dcterms_rights   \n",
       "2304   NSW Dept of Planning, Industry and Environment      CC-BY 4.0  \\\n",
       "2305   NSW Dept of Planning, Industry and Environment      CC-BY 4.0   \n",
       "2306   NSW Dept of Planning, Industry and Environment      CC-BY 4.0   \n",
       "2307   NSW Dept of Planning, Industry and Environment      CC-BY 4.0   \n",
       "2308   NSW Dept of Planning, Industry and Environment      CC-BY 4.0   \n",
       "...                                               ...            ...   \n",
       "24282  NSW Dept of Planning, Industry and Environment      CC-BY 4.0   \n",
       "24284  NSW Dept of Planning, Industry and Environment      CC-BY 4.0   \n",
       "24285  NSW Dept of Planning, Industry and Environment      CC-BY 4.0   \n",
       "24302  NSW Dept of Planning, Industry and Environment      CC-BY 4.0   \n",
       "24303  NSW Dept of Planning, Industry and Environment      CC-BY 4.0   \n",
       "\n",
       "      dcterms_language dcterms_type               dcterms_modified   \n",
       "2304                en      service  2017-10-04T17:28:08.617+11:00  \\\n",
       "2305                en      service  2017-10-04T17:45:14.513+11:00   \n",
       "2306                en      service  2017-10-04T17:35:13.517+11:00   \n",
       "2307                en      service  2017-10-04T17:20:54.077+11:00   \n",
       "2308                en      service  2017-10-04T17:21:14.357+11:00   \n",
       "...                ...          ...                            ...   \n",
       "24282               en      service   2024-05-09T11:17:23.96+10:00   \n",
       "24284               en      service  2024-05-24T14:55:33.177+10:00   \n",
       "24285               en      service    2024-06-17T11:17:59.3+10:00   \n",
       "24302               en      service  2024-07-30T11:11:56.763+10:00   \n",
       "24303               en      service  2024-08-20T13:33:51.477+10:00   \n",
       "\n",
       "                   dcterms_available  speciesID taxonRank  kingdomID  kingdom   \n",
       "2304       1995-12-15T13:06:39+11:00       2358   Species        139  Plantae  \\\n",
       "2305       1995-12-15T13:06:40+11:00       2359   Species        139  Plantae   \n",
       "2306       1995-12-15T13:06:41+11:00       2360   Species        139  Plantae   \n",
       "2307       1995-12-15T13:06:41+11:00       2361   Species        139  Plantae   \n",
       "2308       1995-12-15T13:06:41+11:00       2362   Species        139  Plantae   \n",
       "...                              ...        ...       ...        ...      ...   \n",
       "24282   2024-05-09T11:17:23.96+10:00      25600   Species        139  Plantae   \n",
       "24284  2024-05-24T14:55:33.177+10:00      25603   Species        139  Plantae   \n",
       "24285    2024-06-17T11:17:59.3+10:00      25604   Species        139  Plantae   \n",
       "24302  2024-07-30T11:11:56.763+10:00      25632   Species        139  Plantae   \n",
       "24303  2024-08-20T13:33:51.477+10:00      25633   Species        139  Plantae   \n",
       "\n",
       "       ...  stateConservation protectedInNSW  sensitivityClass TSProfileID   \n",
       "2304   ...         Not Listed          false     Not Sensitive         NaN  \\\n",
       "2305   ...         Not Listed          false     Not Sensitive         NaN   \n",
       "2306   ...         Not Listed          false     Not Sensitive         NaN   \n",
       "2307   ...         Not Listed           true     Not Sensitive         NaN   \n",
       "2308   ...         Not Listed          false     Not Sensitive         NaN   \n",
       "...    ...                ...            ...               ...         ...   \n",
       "24282  ...         Not Listed          false     Not Sensitive         NaN   \n",
       "24284  ...         Not Listed          false     Not Sensitive         NaN   \n",
       "24285  ...         Not Listed          false     Not Sensitive         NaN   \n",
       "24302  ...         Not Listed          false     Not Sensitive         NaN   \n",
       "24303  ...         Not Listed          false     Not Sensitive         NaN   \n",
       "\n",
       "       countryConservation highThreatWeed  widelyCultivatedNativeSpecies   \n",
       "2304            Not Listed           None                           None  \\\n",
       "2305            Not Listed           None                           None   \n",
       "2306            Not Listed           None                           None   \n",
       "2307            Not Listed           None                           None   \n",
       "2308            Not Listed           None                           None   \n",
       "...                    ...            ...                            ...   \n",
       "24282           Not Listed           None                           None   \n",
       "24284           Not Listed           None                           None   \n",
       "24285           Not Listed           None                           None   \n",
       "24302           Not Listed           None                           None   \n",
       "24303           Not Listed           None                           None   \n",
       "\n",
       "       CAMBA  JAMBA  ROKAMBA  \n",
       "2304   false  false    false  \n",
       "2305   false  false    false  \n",
       "2306   false  false    false  \n",
       "2307   false  false    false  \n",
       "2308   false  false    false  \n",
       "...      ...    ...      ...  \n",
       "24282  false  false    false  \n",
       "24284  false  false    false  \n",
       "24285  false  false    false  \n",
       "24302  false  false    false  \n",
       "24303  false  false    false  \n",
       "\n",
       "[16157 rows x 51 columns]"
      ]
     },
     "execution_count": 12,
     "metadata": {},
     "output_type": "execute_result"
    }
   ],
   "source": [
    "BIONET_plants"
   ]
  },
  {
   "cell_type": "markdown",
   "id": "a481d845-8225-487f-8216-bb5036ea4b96",
   "metadata": {},
   "source": [
    "### Import as a table into Database"
   ]
  },
  {
   "cell_type": "markdown",
   "id": "67ffc927-47a5-4110-a4ab-6f666760599e",
   "metadata": {},
   "source": [
    "Create a database connection using the sql alchemy approach"
   ]
  },
  {
   "cell_type": "code",
   "execution_count": 13,
   "id": "c44f9c0f-faed-4ba2-a7c4-1b389085c360",
   "metadata": {},
   "outputs": [],
   "source": [
    "psql_engine='postgresql://{user}:{password}@{host}:{port}/{database}'.format(**dbparams)\n",
    "engine = create_engine(psql_engine)\n"
   ]
  },
  {
   "cell_type": "markdown",
   "id": "de6de769-ea98-4c68-b7ce-f3674ab264d7",
   "metadata": {},
   "source": [
    "Write to the database"
   ]
  },
  {
   "cell_type": "code",
   "execution_count": 14,
   "id": "491b64d5-4055-4dec-8b63-692a5eda0a17",
   "metadata": {},
   "outputs": [
    {
     "data": {
      "text/plain": [
       "132"
      ]
     },
     "execution_count": 14,
     "metadata": {},
     "output_type": "execute_result"
    }
   ],
   "source": [
    "BIONET_plants.to_sql('bionet', engine, schema='species', \n",
    "                     index=False,\n",
    "                     if_exists='replace')"
   ]
  },
  {
   "cell_type": "code",
   "execution_count": 15,
   "id": "d5318b9b-c2c1-4638-8824-f2d0c20975d5",
   "metadata": {},
   "outputs": [],
   "source": [
    "with engine.connect() as con:\n",
    "    con.execute(text('ALTER TABLE species.bionet ADD PRIMARY KEY (\"speciesID\");'))\n",
    "    con.execute(text('CREATE INDEX scientific_idx ON species.bionet (\"scientificName\");'))\n",
    "    con.commit()\n",
    "    "
   ]
  },
  {
   "cell_type": "markdown",
   "id": "887f4e71-3dd7-4dc9-ba86-d0df067ecc2d",
   "metadata": {},
   "source": [
    "And this is done!"
   ]
  },
  {
   "cell_type": "markdown",
   "id": "d9903403-89ce-48ab-875f-18d7e6604980",
   "metadata": {},
   "source": [
    "## That is it for now!\n",
    "\n",
    "✅ Job done! 😎👌🔥\n",
    "\n",
    "You can:\n",
    "- go [back home](../Instructions-and-workflow.ipynb),\n",
    "- continue navigating the repo on [GitHub](https://github.com/ces-unsw-edu-au/fireveg-db-exports)\n",
    "- continue exploring the repo on [OSF](https://osf.io/h96q2/).\n",
    "- visit the database at <http://fireecologyplants.net>"
   ]
  }
 ],
 "metadata": {
  "kernelspec": {
   "display_name": "Python 3 (ipykernel)",
   "language": "python",
   "name": "python3"
  },
  "language_info": {
   "codemirror_mode": {
    "name": "ipython",
    "version": 3
   },
   "file_extension": ".py",
   "mimetype": "text/x-python",
   "name": "python",
   "nbconvert_exporter": "python",
   "pygments_lexer": "ipython3",
   "version": "3.11.3"
  }
 },
 "nbformat": 4,
 "nbformat_minor": 5
}
