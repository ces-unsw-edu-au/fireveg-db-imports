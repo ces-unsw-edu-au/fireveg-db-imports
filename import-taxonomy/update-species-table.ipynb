{
 "cells": [
  {
   "cell_type": "markdown",
   "id": "78e7a35b-d52d-4cc7-ba79-981812f048e9",
   "metadata": {},
   "source": [
    "# Updated taxonomic list from CAPS\n",
    "This data was provided by Renee as an excel file, we will read the data in ***R*** using package _readxl_ and then write a table into the Postgres database using package _RPostgreSQL_."
   ]
  },
  {
   "cell_type": "code",
   "execution_count": 2,
   "id": "29fc4d5f-0197-4e05-8948-de9831f1ef0e",
   "metadata": {
    "tags": []
   },
   "outputs": [
    {
     "name": "stderr",
     "output_type": "stream",
     "text": [
      "Loading required package: RPostgreSQL\n",
      "\n",
      "Loading required package: DBI\n",
      "\n",
      "Loading required package: readxl\n",
      "\n",
      "Loading required package: dplyr\n",
      "\n",
      "\n",
      "Attaching package: ‘dplyr’\n",
      "\n",
      "\n",
      "The following objects are masked from ‘package:stats’:\n",
      "\n",
      "    filter, lag\n",
      "\n",
      "\n",
      "The following objects are masked from ‘package:base’:\n",
      "\n",
      "    intersect, setdiff, setequal, union\n",
      "\n",
      "\n"
     ]
    }
   ],
   "source": [
    "require(\"RPostgreSQL\")\n",
    "require(readxl)\n",
    "require(dplyr)"
   ]
  },
  {
   "cell_type": "markdown",
   "id": "f6dbd902-becb-4f25-ae0a-eefa543562ad",
   "metadata": {},
   "source": [
    "To connect to the database we read the credentials from a file in folder _secrets_."
   ]
  },
  {
   "cell_type": "code",
   "execution_count": 3,
   "id": "b7992f8d-b959-483f-981b-0b1334513a8f",
   "metadata": {},
   "outputs": [],
   "source": [
    "if (file.exists(\"../secrets/database.ini\")) {\n",
    "  tmp <- readLines(\"../secrets/database.ini\")\n",
    "  tmp <- data.frame(strsplit(tmp,\"=\"))\n",
    "  dbinfo <- tmp[2,]\n",
    "  names(dbinfo) <- tmp[1,]\n",
    "   rm(tmp)\n",
    "} else {\n",
    "  cat(\"No database information found\")\n",
    "}"
   ]
  },
  {
   "cell_type": "code",
   "execution_count": 4,
   "id": "11a2d5a7-fb7e-4734-a1e0-032346b24a2d",
   "metadata": {},
   "outputs": [],
   "source": [
    "drv <- dbDriver(\"PostgreSQL\") ## remember to update .pgpass file\n",
    "con <- dbConnect(drv, dbname = dbinfo$database,\n",
    "                 host = dbinfo$host, port = dbinfo$port,\n",
    "                 user = dbinfo$user)"
   ]
  },
  {
   "cell_type": "markdown",
   "id": "82f53ba3-2433-431e-8a52-e3fa642d43f9",
   "metadata": {},
   "source": [
    "Now we read the spreadsheet in folder data:"
   ]
  },
  {
   "cell_type": "code",
   "execution_count": 4,
   "id": "f8048581-5821-4a77-9a3a-dafe243c8d9b",
   "metadata": {},
   "outputs": [
    {
     "name": "stderr",
     "output_type": "stream",
     "text": [
      "Warning message in read_fun(path = enc2native(normalizePath(path)), sheet_i = sheet, :\n",
      "“Expecting logical in U3675 / R3675C21: got 'Smooth Pest Pear'”\n",
      "Warning message in read_fun(path = enc2native(normalizePath(path)), sheet_i = sheet, :\n",
      "“Expecting logical in U12445 / R12445C21: got 'bog pine, creeping pine, dwarf mountain pine, mugo pine, mountain pine, scrub mountain pine, Swiss mountain pine'”\n",
      "Warning message in read_fun(path = enc2native(normalizePath(path)), sheet_i = sheet, :\n",
      "“Expecting logical in U12757 / R12757C21: got 'Axebreaker, Capivi'”\n",
      "Warning message in read_fun(path = enc2native(normalizePath(path)), sheet_i = sheet, :\n",
      "“Expecting logical in U14944 / R14944C21: got 'Bay Tree, Sweet Bay'”\n",
      "Warning message in read_fun(path = enc2native(normalizePath(path)), sheet_i = sheet, :\n",
      "“Expecting logical in U14946 / R14946C21: got 'Pink Agapanthus, Silver Lace'”\n",
      "Warning message in read_fun(path = enc2native(normalizePath(path)), sheet_i = sheet, :\n",
      "“Expecting logical in U14949 / R14949C21: got 'Lamb's Ear'”\n",
      "Warning message in read_fun(path = enc2native(normalizePath(path)), sheet_i = sheet, :\n",
      "“Expecting logical in U14989 / R14989C21: got 'Douglas Fir'”\n",
      "Warning message in read_fun(path = enc2native(normalizePath(path)), sheet_i = sheet, :\n",
      "“Expecting logical in U14993 / R14993C21: got 'Unknown Hybrid of Tadgell's Bluebell'”\n",
      "Warning message in read_fun(path = enc2native(normalizePath(path)), sheet_i = sheet, :\n",
      "“Expecting logical in U15010 / R15010C21: got 'African coral tree'”\n",
      "Warning message in read_fun(path = enc2native(normalizePath(path)), sheet_i = sheet, :\n",
      "“Expecting logical in U15035 / R15035C21: got 'Water Soldier'”\n",
      "Warning message in read_fun(path = enc2native(normalizePath(path)), sheet_i = sheet, :\n",
      "“Expecting logical in U15113 / R15113C21: got 'Orange Bush, Orange Bark'”\n",
      "Warning message in read_fun(path = enc2native(normalizePath(path)), sheet_i = sheet, :\n",
      "“Expecting logical in U15116 / R15116C21: got 'Orangebush, Taper-leaf Orangebark'”\n",
      "Warning message in read_fun(path = enc2native(normalizePath(path)), sheet_i = sheet, :\n",
      "“Expecting logical in U15198 / R15198C21: got 'White Turnip, Wild Turnip, Rapeseed'”\n",
      "Warning message in read_fun(path = enc2native(normalizePath(path)), sheet_i = sheet, :\n",
      "“Expecting logical in U15267 / R15267C21: got 'ketembilla, kitambilla'”\n",
      "Warning message in read_fun(path = enc2native(normalizePath(path)), sheet_i = sheet, :\n",
      "“Expecting logical in U15630 / R15630C21: got 'Green Crumbweed'”\n",
      "Warning message in read_fun(path = enc2native(normalizePath(path)), sheet_i = sheet, :\n",
      "“Expecting logical in U15637 / R15637C21: got 'Greencomb Spider-orchid'”\n",
      "Warning message in read_fun(path = enc2native(normalizePath(path)), sheet_i = sheet, :\n",
      "“Expecting logical in U15717 / R15717C21: got 'Ironwood Box'”\n"
     ]
    }
   ],
   "source": [
    "dts <- read_excel(\"../data/vis-survey-datasheet-6000.PowerQuery.20210708.xlsx\",sheet=1)"
   ]
  },
  {
   "cell_type": "code",
   "execution_count": 5,
   "id": "be2ed282-6c91-4699-a91a-91b175df1364",
   "metadata": {},
   "outputs": [
    {
     "data": {
      "text/html": [
       "<style>\n",
       ".list-inline {list-style: none; margin:0; padding: 0}\n",
       ".list-inline>li {display: inline-block}\n",
       ".list-inline>li:not(:last-child)::after {content: \"\\00b7\"; padding: 0 .5ex}\n",
       "</style>\n",
       "<ol class=list-inline><li>'speciesID'</li><li>'taxonRank'</li><li>'classID'</li><li>'class'</li><li>'orderID'</li><li>'order'</li><li>'familyID'</li><li>'family'</li><li>'sortOrder'</li><li>'genusID'</li><li>'genus'</li><li>'parentSpeciesID'</li><li>'specificEpithet'</li><li>'infraspecificEpithet'</li><li>'scientificNameAuthorship'</li><li>'scientificNameID'</li><li>'speciesCode_Synonym'</li><li>'scientificName'</li><li>'scientificNameHTML'</li><li>'vernacularName'</li><li>'otherVernacularNames'</li><li>'taxonID'</li><li>'currentScientificNameCode'</li><li>'currentScientificName'</li><li>'currentVernacularName'</li><li>'isCurrent'</li><li>'generalTypeID'</li><li>'generalType'</li><li>'establishmentMeans'</li><li>'primaryGrowthForm'</li><li>'primaryGrowthFormGroup'</li><li>'secondaryGrowthForms'</li><li>'secondaryGrowthFormGroups'</li><li>'stateConservation'</li><li>'protectedInNSW'</li><li>'sensitivityClass'</li><li>'TSProfileID'</li><li>'countryConservation'</li><li>'highThreatWeed'</li><li>'widelyCultivatedNativeSpecies'</li><li>'CAMBA'</li><li>'JAMBA'</li><li>'ROKAMBA'</li></ol>\n"
      ],
      "text/latex": [
       "\\begin{enumerate*}\n",
       "\\item 'speciesID'\n",
       "\\item 'taxonRank'\n",
       "\\item 'classID'\n",
       "\\item 'class'\n",
       "\\item 'orderID'\n",
       "\\item 'order'\n",
       "\\item 'familyID'\n",
       "\\item 'family'\n",
       "\\item 'sortOrder'\n",
       "\\item 'genusID'\n",
       "\\item 'genus'\n",
       "\\item 'parentSpeciesID'\n",
       "\\item 'specificEpithet'\n",
       "\\item 'infraspecificEpithet'\n",
       "\\item 'scientificNameAuthorship'\n",
       "\\item 'scientificNameID'\n",
       "\\item 'speciesCode\\_Synonym'\n",
       "\\item 'scientificName'\n",
       "\\item 'scientificNameHTML'\n",
       "\\item 'vernacularName'\n",
       "\\item 'otherVernacularNames'\n",
       "\\item 'taxonID'\n",
       "\\item 'currentScientificNameCode'\n",
       "\\item 'currentScientificName'\n",
       "\\item 'currentVernacularName'\n",
       "\\item 'isCurrent'\n",
       "\\item 'generalTypeID'\n",
       "\\item 'generalType'\n",
       "\\item 'establishmentMeans'\n",
       "\\item 'primaryGrowthForm'\n",
       "\\item 'primaryGrowthFormGroup'\n",
       "\\item 'secondaryGrowthForms'\n",
       "\\item 'secondaryGrowthFormGroups'\n",
       "\\item 'stateConservation'\n",
       "\\item 'protectedInNSW'\n",
       "\\item 'sensitivityClass'\n",
       "\\item 'TSProfileID'\n",
       "\\item 'countryConservation'\n",
       "\\item 'highThreatWeed'\n",
       "\\item 'widelyCultivatedNativeSpecies'\n",
       "\\item 'CAMBA'\n",
       "\\item 'JAMBA'\n",
       "\\item 'ROKAMBA'\n",
       "\\end{enumerate*}\n"
      ],
      "text/markdown": [
       "1. 'speciesID'\n",
       "2. 'taxonRank'\n",
       "3. 'classID'\n",
       "4. 'class'\n",
       "5. 'orderID'\n",
       "6. 'order'\n",
       "7. 'familyID'\n",
       "8. 'family'\n",
       "9. 'sortOrder'\n",
       "10. 'genusID'\n",
       "11. 'genus'\n",
       "12. 'parentSpeciesID'\n",
       "13. 'specificEpithet'\n",
       "14. 'infraspecificEpithet'\n",
       "15. 'scientificNameAuthorship'\n",
       "16. 'scientificNameID'\n",
       "17. 'speciesCode_Synonym'\n",
       "18. 'scientificName'\n",
       "19. 'scientificNameHTML'\n",
       "20. 'vernacularName'\n",
       "21. 'otherVernacularNames'\n",
       "22. 'taxonID'\n",
       "23. 'currentScientificNameCode'\n",
       "24. 'currentScientificName'\n",
       "25. 'currentVernacularName'\n",
       "26. 'isCurrent'\n",
       "27. 'generalTypeID'\n",
       "28. 'generalType'\n",
       "29. 'establishmentMeans'\n",
       "30. 'primaryGrowthForm'\n",
       "31. 'primaryGrowthFormGroup'\n",
       "32. 'secondaryGrowthForms'\n",
       "33. 'secondaryGrowthFormGroups'\n",
       "34. 'stateConservation'\n",
       "35. 'protectedInNSW'\n",
       "36. 'sensitivityClass'\n",
       "37. 'TSProfileID'\n",
       "38. 'countryConservation'\n",
       "39. 'highThreatWeed'\n",
       "40. 'widelyCultivatedNativeSpecies'\n",
       "41. 'CAMBA'\n",
       "42. 'JAMBA'\n",
       "43. 'ROKAMBA'\n",
       "\n",
       "\n"
      ],
      "text/plain": [
       " [1] \"speciesID\"                     \"taxonRank\"                    \n",
       " [3] \"classID\"                       \"class\"                        \n",
       " [5] \"orderID\"                       \"order\"                        \n",
       " [7] \"familyID\"                      \"family\"                       \n",
       " [9] \"sortOrder\"                     \"genusID\"                      \n",
       "[11] \"genus\"                         \"parentSpeciesID\"              \n",
       "[13] \"specificEpithet\"               \"infraspecificEpithet\"         \n",
       "[15] \"scientificNameAuthorship\"      \"scientificNameID\"             \n",
       "[17] \"speciesCode_Synonym\"           \"scientificName\"               \n",
       "[19] \"scientificNameHTML\"            \"vernacularName\"               \n",
       "[21] \"otherVernacularNames\"          \"taxonID\"                      \n",
       "[23] \"currentScientificNameCode\"     \"currentScientificName\"        \n",
       "[25] \"currentVernacularName\"         \"isCurrent\"                    \n",
       "[27] \"generalTypeID\"                 \"generalType\"                  \n",
       "[29] \"establishmentMeans\"            \"primaryGrowthForm\"            \n",
       "[31] \"primaryGrowthFormGroup\"        \"secondaryGrowthForms\"         \n",
       "[33] \"secondaryGrowthFormGroups\"     \"stateConservation\"            \n",
       "[35] \"protectedInNSW\"                \"sensitivityClass\"             \n",
       "[37] \"TSProfileID\"                   \"countryConservation\"          \n",
       "[39] \"highThreatWeed\"                \"widelyCultivatedNativeSpecies\"\n",
       "[41] \"CAMBA\"                         \"JAMBA\"                        \n",
       "[43] \"ROKAMBA\"                      "
      ]
     },
     "metadata": {},
     "output_type": "display_data"
    }
   ],
   "source": [
    " colnames(dts)"
   ]
  },
  {
   "cell_type": "code",
   "execution_count": 6,
   "id": "4204376a-60bf-4cd5-9b68-9cbb0f2fd5a6",
   "metadata": {},
   "outputs": [
    {
     "data": {
      "text/html": [
       "<table class=\"dataframe\">\n",
       "<caption>A tibble: 5 × 1</caption>\n",
       "<thead>\n",
       "\t<tr><th scope=col>vernacularName</th></tr>\n",
       "\t<tr><th scope=col>&lt;chr&gt;</th></tr>\n",
       "</thead>\n",
       "<tbody>\n",
       "\t<tr><td>NA                 </td></tr>\n",
       "\t<tr><td>NA                 </td></tr>\n",
       "\t<tr><td>Desert Honey-myrtle</td></tr>\n",
       "\t<tr><td>Flannel Flower     </td></tr>\n",
       "\t<tr><td>Sea Celery         </td></tr>\n",
       "</tbody>\n",
       "</table>\n"
      ],
      "text/latex": [
       "A tibble: 5 × 1\n",
       "\\begin{tabular}{l}\n",
       " vernacularName\\\\\n",
       " <chr>\\\\\n",
       "\\hline\n",
       "\t NA                 \\\\\n",
       "\t NA                 \\\\\n",
       "\t Desert Honey-myrtle\\\\\n",
       "\t Flannel Flower     \\\\\n",
       "\t Sea Celery         \\\\\n",
       "\\end{tabular}\n"
      ],
      "text/markdown": [
       "\n",
       "A tibble: 5 × 1\n",
       "\n",
       "| vernacularName &lt;chr&gt; |\n",
       "|---|\n",
       "| NA                  |\n",
       "| NA                  |\n",
       "| Desert Honey-myrtle |\n",
       "| Flannel Flower      |\n",
       "| Sea Celery          |\n",
       "\n"
      ],
      "text/plain": [
       "  vernacularName     \n",
       "1 NA                 \n",
       "2 NA                 \n",
       "3 Desert Honey-myrtle\n",
       "4 Flannel Flower     \n",
       "5 Sea Celery         "
      ]
     },
     "metadata": {},
     "output_type": "display_data"
    }
   ],
   "source": [
    "dts %>% select(vernacularName) %>% slice_head(n=5)"
   ]
  },
  {
   "cell_type": "markdown",
   "id": "d947257b-666e-426b-8acd-1449e0106b4c",
   "metadata": {},
   "source": [
    "We use the _dbWriteTable_ function to write the complete table into postgres"
   ]
  },
  {
   "cell_type": "code",
   "execution_count": 7,
   "id": "9cbf62d2-e9fa-42a4-844a-dc747f8493f9",
   "metadata": {},
   "outputs": [
    {
     "data": {
      "text/html": [
       "TRUE"
      ],
      "text/latex": [
       "TRUE"
      ],
      "text/markdown": [
       "TRUE"
      ],
      "text/plain": [
       "[1] TRUE"
      ]
     },
     "metadata": {},
     "output_type": "display_data"
    }
   ],
   "source": [
    "dbWriteTable(con,c(\"species\",\"caps\"),dts)"
   ]
  },
  {
   "cell_type": "markdown",
   "id": "8e4445ab-525c-4ff4-a16a-7b1e4c21bd9b",
   "metadata": {},
   "source": [
    "We then add an index for column _scientificName_, and a primary key on _speciesID_."
   ]
  },
  {
   "cell_type": "code",
   "execution_count": 8,
   "id": "9f59471a-3e64-452a-92ce-85a1d1bae8f4",
   "metadata": {},
   "outputs": [
    {
     "data": {
      "text/plain": [
       "<PostgreSQLResult>"
      ]
     },
     "metadata": {},
     "output_type": "display_data"
    }
   ],
   "source": [
    "dbSendQuery(con,'CREATE INDEX name ON species.caps USING btree (\"scientificName\")')"
   ]
  },
  {
   "cell_type": "code",
   "execution_count": 5,
   "id": "a6176016-4a45-41c0-9be0-600f445e0c7b",
   "metadata": {},
   "outputs": [
    {
     "data": {
      "text/plain": [
       "<PostgreSQLResult>"
      ]
     },
     "metadata": {},
     "output_type": "display_data"
    }
   ],
   "source": [
    "dbSendQuery(con,'CREATE INDEX code ON species.caps USING btree (\"currentScientificNameCode\")')"
   ]
  },
  {
   "cell_type": "code",
   "execution_count": 9,
   "id": "f37b59d7-d7b7-4620-b101-6ce502e9c47c",
   "metadata": {},
   "outputs": [
    {
     "data": {
      "text/plain": [
       "<PostgreSQLResult>"
      ]
     },
     "metadata": {},
     "output_type": "display_data"
    }
   ],
   "source": [
    "dbSendQuery(con,'ALTER TABLE species.caps ADD PRIMARY KEY (\"speciesID\")')"
   ]
  },
  {
   "cell_type": "markdown",
   "id": "86566415-b70b-4f18-ace0-41afe3c344ff",
   "metadata": {},
   "source": [
    "We can now disconnect from the database"
   ]
  },
  {
   "cell_type": "code",
   "execution_count": 6,
   "id": "4dd45dd4-3d25-4a3b-a92a-b99b2cf77b89",
   "metadata": {},
   "outputs": [
    {
     "data": {
      "text/html": [
       "TRUE"
      ],
      "text/latex": [
       "TRUE"
      ],
      "text/markdown": [
       "TRUE"
      ],
      "text/plain": [
       "[1] TRUE"
      ]
     },
     "metadata": {},
     "output_type": "display_data"
    }
   ],
   "source": [
    "dbDisconnect(con)"
   ]
  },
  {
   "cell_type": "code",
   "execution_count": null,
   "id": "04f03852-541c-4b91-91ba-10194ec77259",
   "metadata": {},
   "outputs": [],
   "source": []
  }
 ],
 "metadata": {
  "kernelspec": {
   "display_name": "R",
   "language": "R",
   "name": "ir"
  },
  "language_info": {
   "codemirror_mode": "r",
   "file_extension": ".r",
   "mimetype": "text/x-r-source",
   "name": "R",
   "pygments_lexer": "r",
   "version": "4.1.2"
  }
 },
 "nbformat": 4,
 "nbformat_minor": 5
}
