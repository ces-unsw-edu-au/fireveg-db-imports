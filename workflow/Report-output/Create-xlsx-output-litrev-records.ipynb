{
 "cells": [
  {
   "cell_type": "markdown",
   "id": "d045538b-a1f1-49a0-b0b9-e58b2d448774",
   "metadata": {
    "tags": []
   },
   "source": [
    "# Output list of records exported as a workbook\n",
    "\n",
    "Author: José R. Ferrer-Paris\n",
    "\n",
    "We want to:\n",
    "- Read information from the database, and\n",
    "- Create a workbook with:\n",
    "    - Authoring information and instruction\n",
    "    - Table with records for each species (with links to DB?)\n",
    "    - Trait codes and descriptions\n",
    "    - Vocabularies\n",
    "    - List of references\n"
   ]
  },
  {
   "cell_type": "markdown",
   "id": "074c5468-519c-4ea5-a46c-f5e09d57c8a7",
   "metadata": {
    "jp-MarkdownHeadingCollapsed": true,
    "tags": []
   },
   "source": [
    "## Setup\n",
    "\n",
    "These sections include basic set up for the project"
   ]
  },
  {
   "cell_type": "markdown",
   "id": "1f6f23f7-d797-4dcd-be3a-f90a32774dca",
   "metadata": {
    "tags": []
   },
   "source": [
    "### Import modules"
   ]
  },
  {
   "cell_type": "code",
   "execution_count": 1,
   "id": "5626d235-7c71-459c-a529-93658ed61ea8",
   "metadata": {},
   "outputs": [],
   "source": [
    "# work with paths in operating system\n",
    "from pathlib import Path\n",
    "import os\n",
    "\n",
    "# datetime support\n",
    "import datetime\n",
    "\n",
    "# work with xlsx workbooks\n",
    "import openpyxl\n",
    "from openpyxl import Workbook\n",
    "from openpyxl.worksheet.table import Table, TableStyleInfo\n",
    "from openpyxl.styles import Alignment, PatternFill, Border, Font # Side, Alignment, Protection,\n",
    "from openpyxl.formatting import Rule\n",
    "from openpyxl.styles.differential import DifferentialStyle\n",
    "from openpyxl.worksheet.datavalidation import DataValidation\n",
    "\n",
    "from openpyxl.utils.dataframe import dataframe_to_rows\n",
    "from openpyxl.utils import get_column_letter\n",
    "\n",
    "# For database connection\n",
    "from configparser import ConfigParser\n",
    "import psycopg2\n",
    "from psycopg2.extras import DictCursor\n",
    "\n",
    "# Pandas for calculations\n",
    "import pandas as pd\n"
   ]
  },
  {
   "cell_type": "markdown",
   "id": "7b004146-868a-4580-afaf-0da9c861f698",
   "metadata": {
    "tags": []
   },
   "source": [
    "### Define paths for input and output"
   ]
  },
  {
   "cell_type": "code",
   "execution_count": 2,
   "id": "d61e4223-ec48-4d31-9a94-61c002ab8b09",
   "metadata": {},
   "outputs": [
    {
     "data": {
      "text/plain": [
       "['fireveg-trait-records-model.xlsx',\n",
       " 'fireveg-trait-records-curation.xlsx',\n",
       " 'fireveg-field-report-model.xlsx']"
      ]
     },
     "execution_count": 2,
     "metadata": {},
     "output_type": "execute_result"
    }
   ],
   "source": [
    "repodir = Path(\"../../\") \n",
    "inputdir = repodir / \"data\" / \"output-report\"\n",
    "os.listdir(inputdir)"
   ]
  },
  {
   "cell_type": "markdown",
   "id": "8d828bc4-c9ff-4617-9701-ec07cf72af42",
   "metadata": {
    "tags": []
   },
   "source": [
    "### Database connection"
   ]
  },
  {
   "cell_type": "markdown",
   "id": "aba3f31e-c5a8-49ae-b344-27be064c6a4f",
   "metadata": {},
   "source": [
    "Function to parse connection parameters from a file"
   ]
  },
  {
   "cell_type": "code",
   "execution_count": 3,
   "id": "ca935479-001f-475a-9aad-6cd92a6702b4",
   "metadata": {},
   "outputs": [],
   "source": [
    "def read_dbparams(filename,section=\"postgresql\"):\n",
    "    # create a parser\n",
    "    parser = ConfigParser()\n",
    "    # read config file\n",
    "    parser.read(filename)\n",
    "\n",
    "    # get section, default to postgresql\n",
    "    db = {}\n",
    "    if parser.has_section(section):\n",
    "        params = parser.items(section)\n",
    "        for param in params:\n",
    "            db[param[0]] = param[1]\n",
    "    else:\n",
    "        raise Exception('Section {0} not found in the {1} file'.format(section, filename))\n",
    "\n",
    "    return db\n"
   ]
  },
  {
   "cell_type": "markdown",
   "id": "c4eb5d71-c039-4df1-b55f-d32569129e5e",
   "metadata": {},
   "source": [
    "Reading the default parameters for this session:"
   ]
  },
  {
   "cell_type": "code",
   "execution_count": 4,
   "id": "a0864b79-f8d1-4b3f-bc05-79d78eac3b75",
   "metadata": {},
   "outputs": [],
   "source": [
    "filename = repodir / 'secrets' / 'database.ini'\n",
    "dbparams=read_dbparams(filename,section='aws-lght-sl')"
   ]
  },
  {
   "cell_type": "markdown",
   "id": "13aa700b-473c-4e63-b56d-a97d2c4f3fab",
   "metadata": {
    "tags": []
   },
   "source": [
    "### Helper functions"
   ]
  },
  {
   "cell_type": "code",
   "execution_count": null,
   "id": "7dfe8f58-576a-4603-994d-d1872d99cc12",
   "metadata": {},
   "outputs": [],
   "source": []
  },
  {
   "cell_type": "markdown",
   "id": "2bfaa780-1341-4e8a-96c3-41f9be39993e",
   "metadata": {
    "tags": []
   },
   "source": [
    "## Read information from database"
   ]
  },
  {
   "cell_type": "markdown",
   "id": "5e8a814b-31b7-4e21-92a1-bbd5218567d6",
   "metadata": {},
   "source": [
    "Connect to the database:"
   ]
  },
  {
   "cell_type": "code",
   "execution_count": 5,
   "id": "a654daed-a705-4267-9f15-5a26ed4e90ca",
   "metadata": {},
   "outputs": [
    {
     "name": "stdout",
     "output_type": "stream",
     "text": [
      "Connecting to the PostgreSQL database...\n"
     ]
    }
   ],
   "source": [
    "if \"conn\" not in globals() or conn.closed!=0:\n",
    "    print('Connecting to the PostgreSQL database...')\n",
    "    conn = psycopg2.connect(**dbparams)\n",
    "if \"cur\" not in globals() or cur.closed:\n",
    "    cur = conn.cursor(cursor_factory=DictCursor)"
   ]
  },
  {
   "cell_type": "markdown",
   "id": "5657eab3-1e92-4d87-9be2-268ffc351807",
   "metadata": {},
   "source": [
    "Now we can perform queries to the database and save the results for use later.\n",
    "\n",
    "The table with trait information can be requested with a simple query:"
   ]
  },
  {
   "cell_type": "code",
   "execution_count": 6,
   "id": "a265c435-d211-4955-bed3-ef519f45dd1f",
   "metadata": {},
   "outputs": [],
   "source": [
    "cur.execute(\"SELECT code,name,description,value_type,life_stage,life_history_process,priority,method_vocabulary FROM litrev.trait_info ORDER BY code\")\n",
    "trait_info = cur.fetchall()"
   ]
  },
  {
   "cell_type": "code",
   "execution_count": 7,
   "id": "5debc95a-f14d-4923-b46c-12f8eddd24a9",
   "metadata": {},
   "outputs": [
    {
     "data": {
      "text/plain": [
       "['disp1',\n",
       " 'Propagule dispersal mode',\n",
       " 'Propagule dispersal mode',\n",
       " 'categorical',\n",
       " 'Seed',\n",
       " 'Dispersal',\n",
       " 'needed for VA group',\n",
       " 'method_disp1_vocabulary']"
      ]
     },
     "execution_count": 7,
     "metadata": {},
     "output_type": "execute_result"
    }
   ],
   "source": [
    "trait_info[0]"
   ]
  },
  {
   "cell_type": "code",
   "execution_count": 8,
   "id": "f0b58d35-6513-4ebb-a9c8-40c45ec5b9a2",
   "metadata": {
    "tags": []
   },
   "outputs": [
    {
     "data": {
      "text/plain": [
       "{'name': 'Propagule dispersal mode', 'type': 'categorical', 'method': True}"
      ]
     },
     "execution_count": 8,
     "metadata": {},
     "output_type": "execute_result"
    }
   ],
   "source": [
    "traitnames=dict()\n",
    "for k in trait_info:\n",
    "    traitnames[k[0]]={'name':k[1],'type':k[3],'method':k[\"method_vocabulary\"] is not None}\n",
    "traitnames['disp1']"
   ]
  },
  {
   "cell_type": "markdown",
   "id": "258a5329-b00b-4927-95ea-ac18a67c0c64",
   "metadata": {},
   "source": [
    "Now we use a general query string to retrieve selected columns for categorical or numerical traits:"
   ]
  },
  {
   "cell_type": "code",
   "execution_count": 9,
   "id": "962a3bf0-deee-40c9-ab6b-66cca0b0ce6c",
   "metadata": {},
   "outputs": [],
   "source": [
    "qry= \"\"\"\n",
    "SELECT \"currentScientificName\" as spp, \"currentScientificNameCode\" as sppcode,\n",
    "    species, species_code,\n",
    "    '{trait}' as trait_code,\n",
    "    '{traitname}' as trait_name,\n",
    "    %s\n",
    "    %s\n",
    "    weight as w,\n",
    "    main_source as refs,\n",
    "    original_sources as orefs,\n",
    "    record_id\n",
    "FROM litrev.{trait} \n",
    "LEFT JOIN species.caps\n",
    "ON species_code=\"speciesCode_Synonym\"\n",
    "WHERE \"currentScientificName\" is not NULL AND weight>0\n",
    "ORDER BY spp;\n",
    "\"\"\"\n",
    "\n",
    "norm_cat=\"norm_value::text as val,\"\n",
    "norm_num=\"ARRAY[best,lower,upper] as val,\"\n",
    "method=\"method_of_estimation,\"\n",
    "nomethod=\"NULL as method_of_estimation,\"\n",
    "qryCat=qry % (norm_cat,nomethod)\n",
    "qryNum=qry % (norm_num,nomethod)\n",
    "qryCatMet=qry % (norm_cat,method)\n",
    "qryNumMet=qry % (norm_num,method)\n"
   ]
  },
  {
   "cell_type": "markdown",
   "id": "f8030a70-1eeb-4b91-bfd1-67d5e903f1c8",
   "metadata": {},
   "source": [
    "Now we will run a for loop to run the query with different categorical and numerical traits and bind the results by rows (using extend). Here the trait codes are also the names of the tables in the `litrev.` schema."
   ]
  },
  {
   "cell_type": "code",
   "execution_count": 10,
   "id": "2c58a7f5-ebee-416b-9236-86a0c1bcecb1",
   "metadata": {},
   "outputs": [],
   "source": [
    "records=list()\n",
    "#traits = ['repr2','rect2','repr3']\n",
    "traits = ['surv1','surv4','surv5','repr2','rect2','disp1','germ1','germ8','repr3','repr3a','repr4',]\n",
    "colnames = ['scientific name','current code (BioNET)','original name','CAPS code',\n",
    "            'trait code','trait name','norm value','method','weight','source ref','other ref','recordid']\n",
    "for trait in traits:\n",
    "    if traitnames[trait]['type']=='categorical' and traitnames[trait]['method']==False:\n",
    "        cur.execute(qryCat.format(trait=trait,traitname=traitnames[trait]['name']))\n",
    "    elif traitnames[trait]['type']=='categorical' and traitnames[trait]['method']==True:\n",
    "        cur.execute(qryCatMet.format(trait=trait,traitname=traitnames[trait]['name']))\n",
    "    elif traitnames[trait]['type']=='numeric' and traitnames[trait]['method']==True:\n",
    "        cur.execute(qryNumMet.format(trait=trait,traitname=traitnames[trait]['name']))\n",
    "    else:\n",
    "        cur.execute(qryNum.format(trait=trait,traitname=traitnames[trait]['name']))\n",
    "    res = cur.fetchall()\n",
    "    records.extend(res)\n"
   ]
  },
  {
   "cell_type": "markdown",
   "id": "c959ee1e-188b-4820-a50a-de53cc65077f",
   "metadata": {},
   "source": [
    "Now we can create a dataframe `df` using pandas:"
   ]
  },
  {
   "cell_type": "code",
   "execution_count": 11,
   "id": "7b1449f1-83ed-44fd-89e9-c9f75657049b",
   "metadata": {
    "tags": []
   },
   "outputs": [
    {
     "data": {
      "text/html": [
       "<div>\n",
       "<style scoped>\n",
       "    .dataframe tbody tr th:only-of-type {\n",
       "        vertical-align: middle;\n",
       "    }\n",
       "\n",
       "    .dataframe tbody tr th {\n",
       "        vertical-align: top;\n",
       "    }\n",
       "\n",
       "    .dataframe thead th {\n",
       "        text-align: right;\n",
       "    }\n",
       "</style>\n",
       "<table border=\"1\" class=\"dataframe\">\n",
       "  <thead>\n",
       "    <tr style=\"text-align: right;\">\n",
       "      <th></th>\n",
       "      <th>scientific name</th>\n",
       "      <th>current code (BioNET)</th>\n",
       "      <th>original name</th>\n",
       "      <th>CAPS code</th>\n",
       "      <th>trait code</th>\n",
       "      <th>trait name</th>\n",
       "      <th>norm value</th>\n",
       "      <th>method</th>\n",
       "      <th>weight</th>\n",
       "      <th>source ref</th>\n",
       "      <th>other ref</th>\n",
       "      <th>recordid</th>\n",
       "    </tr>\n",
       "  </thead>\n",
       "  <tbody>\n",
       "    <tr>\n",
       "      <th>0</th>\n",
       "      <td>Abelmoschus moschatus subsp. moschatus</td>\n",
       "      <td>9878</td>\n",
       "      <td>Abelmoschus moschatus</td>\n",
       "      <td>3624</td>\n",
       "      <td>surv1</td>\n",
       "      <td>Resprouting - full canopy scorch</td>\n",
       "      <td>All</td>\n",
       "      <td>None</td>\n",
       "      <td>1</td>\n",
       "      <td>austraits-3.0.2</td>\n",
       "      <td>[Clarke Lawes Murphy Russell-Smith Nano Bradst...</td>\n",
       "      <td>24487</td>\n",
       "    </tr>\n",
       "    <tr>\n",
       "      <th>1</th>\n",
       "      <td>Abrotanella nivigena</td>\n",
       "      <td>1246</td>\n",
       "      <td>Abrotanella nivigena</td>\n",
       "      <td>1246</td>\n",
       "      <td>surv1</td>\n",
       "      <td>Resprouting - full canopy scorch</td>\n",
       "      <td>All</td>\n",
       "      <td>None</td>\n",
       "      <td>1</td>\n",
       "      <td>austraits-3.0.2</td>\n",
       "      <td>[White Sinclair Frood 2020]</td>\n",
       "      <td>33536</td>\n",
       "    </tr>\n",
       "    <tr>\n",
       "      <th>2</th>\n",
       "      <td>Abrotanella spp.</td>\n",
       "      <td>ABRO</td>\n",
       "      <td>Abrotanella sp.</td>\n",
       "      <td>ABRO</td>\n",
       "      <td>surv1</td>\n",
       "      <td>Resprouting - full canopy scorch</td>\n",
       "      <td>All</td>\n",
       "      <td>None</td>\n",
       "      <td>1</td>\n",
       "      <td>austraits-3.0.2</td>\n",
       "      <td>[White Sinclair Frood 2020]</td>\n",
       "      <td>33537</td>\n",
       "    </tr>\n",
       "    <tr>\n",
       "      <th>3</th>\n",
       "      <td>Abutilon fraseri</td>\n",
       "      <td>3627</td>\n",
       "      <td>Abutilon fraseri</td>\n",
       "      <td>3627</td>\n",
       "      <td>surv1</td>\n",
       "      <td>Resprouting - full canopy scorch</td>\n",
       "      <td>None</td>\n",
       "      <td>None</td>\n",
       "      <td>1</td>\n",
       "      <td>austraits-3.0.2</td>\n",
       "      <td>[White Sinclair Frood 2020]</td>\n",
       "      <td>33539</td>\n",
       "    </tr>\n",
       "    <tr>\n",
       "      <th>4</th>\n",
       "      <td>Abutilon grandifolium</td>\n",
       "      <td>3628</td>\n",
       "      <td>Abutilon grandifolium</td>\n",
       "      <td>3628</td>\n",
       "      <td>surv1</td>\n",
       "      <td>Resprouting - full canopy scorch</td>\n",
       "      <td>None</td>\n",
       "      <td>None</td>\n",
       "      <td>1</td>\n",
       "      <td>austraits-3.0.2</td>\n",
       "      <td>[Clarke Lawes Murphy Russell-Smith Nano Bradst...</td>\n",
       "      <td>24488</td>\n",
       "    </tr>\n",
       "    <tr>\n",
       "      <th>...</th>\n",
       "      <td>...</td>\n",
       "      <td>...</td>\n",
       "      <td>...</td>\n",
       "      <td>...</td>\n",
       "      <td>...</td>\n",
       "      <td>...</td>\n",
       "      <td>...</td>\n",
       "      <td>...</td>\n",
       "      <td>...</td>\n",
       "      <td>...</td>\n",
       "      <td>...</td>\n",
       "      <td>...</td>\n",
       "    </tr>\n",
       "    <tr>\n",
       "      <th>43933</th>\n",
       "      <td>Platysace linearifolia</td>\n",
       "      <td>1145</td>\n",
       "      <td>Platysace linearifolia</td>\n",
       "      <td>1145</td>\n",
       "      <td>repr4</td>\n",
       "      <td>Maturation age</td>\n",
       "      <td>[4, None, None]</td>\n",
       "      <td>None</td>\n",
       "      <td>1</td>\n",
       "      <td>NSWFFRDv2.1</td>\n",
       "      <td>[Benson 1985]</td>\n",
       "      <td>42</td>\n",
       "    </tr>\n",
       "    <tr>\n",
       "      <th>43934</th>\n",
       "      <td>Pomaderris discolor</td>\n",
       "      <td>5577</td>\n",
       "      <td>Pomaderris discolor</td>\n",
       "      <td>5577</td>\n",
       "      <td>repr4</td>\n",
       "      <td>Maturation age</td>\n",
       "      <td>[None, None, 5]</td>\n",
       "      <td>None</td>\n",
       "      <td>1</td>\n",
       "      <td>NSWFFRDv2.1</td>\n",
       "      <td>[Benson McDougall Ecology Sydney Plant Species...</td>\n",
       "      <td>43</td>\n",
       "    </tr>\n",
       "    <tr>\n",
       "      <th>43935</th>\n",
       "      <td>Pomaderris ferruginea</td>\n",
       "      <td>5579</td>\n",
       "      <td>Pomaderris ferruginea</td>\n",
       "      <td>5579</td>\n",
       "      <td>repr4</td>\n",
       "      <td>Maturation age</td>\n",
       "      <td>[5, None, None]</td>\n",
       "      <td>None</td>\n",
       "      <td>1</td>\n",
       "      <td>NSWFFRDv2.1</td>\n",
       "      <td>[Benson McDougall Ecology Sydney Plant Species...</td>\n",
       "      <td>44</td>\n",
       "    </tr>\n",
       "    <tr>\n",
       "      <th>43936</th>\n",
       "      <td>Pomaderris intermedia</td>\n",
       "      <td>7979</td>\n",
       "      <td>Pomaderris intermedia</td>\n",
       "      <td>7979</td>\n",
       "      <td>repr4</td>\n",
       "      <td>Maturation age</td>\n",
       "      <td>[5, None, None]</td>\n",
       "      <td>None</td>\n",
       "      <td>1</td>\n",
       "      <td>NSWFFRDv2.1</td>\n",
       "      <td>[Benson McDougall Ecology Sydney Plant Species...</td>\n",
       "      <td>45</td>\n",
       "    </tr>\n",
       "    <tr>\n",
       "      <th>43937</th>\n",
       "      <td>Senecio garlandii</td>\n",
       "      <td>7097</td>\n",
       "      <td>Senecio garlandii</td>\n",
       "      <td>7097</td>\n",
       "      <td>repr4</td>\n",
       "      <td>Maturation age</td>\n",
       "      <td>[None, 2, 3]</td>\n",
       "      <td>None</td>\n",
       "      <td>1</td>\n",
       "      <td>NSWFFRDv2.1</td>\n",
       "      <td>[Burrows 1995]</td>\n",
       "      <td>46</td>\n",
       "    </tr>\n",
       "  </tbody>\n",
       "</table>\n",
       "<p>43938 rows × 12 columns</p>\n",
       "</div>"
      ],
      "text/plain": [
       "                              scientific name current code (BioNET)  \\\n",
       "0      Abelmoschus moschatus subsp. moschatus                  9878   \n",
       "1                        Abrotanella nivigena                  1246   \n",
       "2                            Abrotanella spp.                  ABRO   \n",
       "3                            Abutilon fraseri                  3627   \n",
       "4                       Abutilon grandifolium                  3628   \n",
       "...                                       ...                   ...   \n",
       "43933                  Platysace linearifolia                  1145   \n",
       "43934                     Pomaderris discolor                  5577   \n",
       "43935                   Pomaderris ferruginea                  5579   \n",
       "43936                   Pomaderris intermedia                  7979   \n",
       "43937                       Senecio garlandii                  7097   \n",
       "\n",
       "                original name CAPS code trait code  \\\n",
       "0       Abelmoschus moschatus      3624      surv1   \n",
       "1        Abrotanella nivigena      1246      surv1   \n",
       "2             Abrotanella sp.      ABRO      surv1   \n",
       "3            Abutilon fraseri      3627      surv1   \n",
       "4       Abutilon grandifolium      3628      surv1   \n",
       "...                       ...       ...        ...   \n",
       "43933  Platysace linearifolia      1145      repr4   \n",
       "43934     Pomaderris discolor      5577      repr4   \n",
       "43935   Pomaderris ferruginea      5579      repr4   \n",
       "43936   Pomaderris intermedia      7979      repr4   \n",
       "43937       Senecio garlandii      7097      repr4   \n",
       "\n",
       "                             trait name       norm value method  weight  \\\n",
       "0      Resprouting - full canopy scorch              All   None       1   \n",
       "1      Resprouting - full canopy scorch              All   None       1   \n",
       "2      Resprouting - full canopy scorch              All   None       1   \n",
       "3      Resprouting - full canopy scorch             None   None       1   \n",
       "4      Resprouting - full canopy scorch             None   None       1   \n",
       "...                                 ...              ...    ...     ...   \n",
       "43933                    Maturation age  [4, None, None]   None       1   \n",
       "43934                    Maturation age  [None, None, 5]   None       1   \n",
       "43935                    Maturation age  [5, None, None]   None       1   \n",
       "43936                    Maturation age  [5, None, None]   None       1   \n",
       "43937                    Maturation age     [None, 2, 3]   None       1   \n",
       "\n",
       "            source ref                                          other ref  \\\n",
       "0      austraits-3.0.2  [Clarke Lawes Murphy Russell-Smith Nano Bradst...   \n",
       "1      austraits-3.0.2                        [White Sinclair Frood 2020]   \n",
       "2      austraits-3.0.2                        [White Sinclair Frood 2020]   \n",
       "3      austraits-3.0.2                        [White Sinclair Frood 2020]   \n",
       "4      austraits-3.0.2  [Clarke Lawes Murphy Russell-Smith Nano Bradst...   \n",
       "...                ...                                                ...   \n",
       "43933      NSWFFRDv2.1                                      [Benson 1985]   \n",
       "43934      NSWFFRDv2.1  [Benson McDougall Ecology Sydney Plant Species...   \n",
       "43935      NSWFFRDv2.1  [Benson McDougall Ecology Sydney Plant Species...   \n",
       "43936      NSWFFRDv2.1  [Benson McDougall Ecology Sydney Plant Species...   \n",
       "43937      NSWFFRDv2.1                                     [Burrows 1995]   \n",
       "\n",
       "       recordid  \n",
       "0         24487  \n",
       "1         33536  \n",
       "2         33537  \n",
       "3         33539  \n",
       "4         24488  \n",
       "...         ...  \n",
       "43933        42  \n",
       "43934        43  \n",
       "43935        44  \n",
       "43936        45  \n",
       "43937        46  \n",
       "\n",
       "[43938 rows x 12 columns]"
      ]
     },
     "execution_count": 11,
     "metadata": {},
     "output_type": "execute_result"
    }
   ],
   "source": [
    "df = pd.DataFrame(records,columns=colnames)\n",
    "df"
   ]
  },
  {
   "cell_type": "code",
   "execution_count": 12,
   "id": "5f698b73-3053-4805-9b7e-6fbf4068b27a",
   "metadata": {},
   "outputs": [
    {
     "data": {
      "text/plain": [
       "array([None, 'Unspecified methods',\n",
       "       'Inferred from plant / organ / growth stage morphology',\n",
       "       'Inferred from related taxa'], dtype=object)"
      ]
     },
     "execution_count": 12,
     "metadata": {},
     "output_type": "execute_result"
    }
   ],
   "source": [
    "df['method'].unique()"
   ]
  },
  {
   "cell_type": "markdown",
   "id": "ebe871ff-4f45-496a-a27a-1718df8d793e",
   "metadata": {},
   "source": [
    "And now we can extract a list of valid references from this data frame:"
   ]
  },
  {
   "cell_type": "code",
   "execution_count": 13,
   "id": "ded99df4-5e64-4f35-beb8-fbe2cc055b20",
   "metadata": {},
   "outputs": [],
   "source": [
    "flat_list=df['source ref'].unique().tolist()\n",
    "for sublist in df['other ref'].tolist():\n",
    "    if sublist is not None:\n",
    "        flat_list.extend(sublist)\n",
    "\n",
    "valid_refs=tuple(set(flat_list))\n"
   ]
  },
  {
   "cell_type": "markdown",
   "id": "42ffe44e-1950-4e5b-8e99-1462587b205c",
   "metadata": {},
   "source": [
    "And now query the database to include only references in that list:"
   ]
  },
  {
   "cell_type": "code",
   "execution_count": 14,
   "id": "3d2f0213-98ac-491d-a0f5-7be6ca033bcc",
   "metadata": {},
   "outputs": [],
   "source": [
    "cur.execute(\"SELECT ref_code,ref_cite FROM litrev.ref_list WHERE ref_code IN %s ORDER BY ref_code\",(valid_refs,))\n",
    "ref_info = cur.fetchall()"
   ]
  },
  {
   "cell_type": "code",
   "execution_count": 15,
   "id": "0340cffa-4fd2-4cac-9c85-2e3986f0ef28",
   "metadata": {},
   "outputs": [
    {
     "data": {
      "text/plain": [
       "268"
      ]
     },
     "execution_count": 15,
     "metadata": {},
     "output_type": "execute_result"
    }
   ],
   "source": [
    "len(ref_info)"
   ]
  },
  {
   "cell_type": "markdown",
   "id": "51aa7ec4-220a-45f8-ac8a-c3d1a6a31c4e",
   "metadata": {},
   "source": [
    "Now we have all we need from the database, we can close the database connection:"
   ]
  },
  {
   "cell_type": "code",
   "execution_count": 16,
   "id": "77adb68b-1156-407a-ac57-3763527f63df",
   "metadata": {},
   "outputs": [
    {
     "name": "stdout",
     "output_type": "stream",
     "text": [
      "Database connection closed.\n"
     ]
    }
   ],
   "source": [
    "cur.close()\n",
    "        \n",
    "if conn is not None:\n",
    "    conn.close()\n",
    "    print('Database connection closed.')"
   ]
  },
  {
   "cell_type": "markdown",
   "id": "240d0f41-29a3-48dc-a85c-68c8be9a9e58",
   "metadata": {
    "tags": []
   },
   "source": [
    "## Create workbook"
   ]
  },
  {
   "cell_type": "markdown",
   "id": "1edfb5de-a5f6-4cf5-aeca-20aadd1a99ee",
   "metadata": {
    "tags": []
   },
   "source": [
    "### Styles\n",
    "Define styles to be used across the workbook"
   ]
  },
  {
   "cell_type": "code",
   "execution_count": 17,
   "id": "9ec51a4e-1bce-4990-8a4b-c1a95ad172b6",
   "metadata": {},
   "outputs": [],
   "source": [
    "cent_align=Alignment(horizontal='center', vertical='center', wrap_text=False)\n",
    "wrap_align=Alignment(horizontal='left', vertical='top', wrap_text=True)\n",
    "\n",
    "fontSmall = Font(size = \"9\")\n",
    "\n",
    "\n",
    "sheet_colors = {\"intro\": \"1072BA\" , \"summary\": \"5AFF5A\", \"default\":\"505050\", \"addentry\": \"20CA82\"}\n",
    "\n",
    "table_style={\"Instructions\":TableStyleInfo(name=\"TableStyleMedium9\", showFirstColumn=True, showLastColumn=False, \n",
    "                                           showRowStripes=True, showColumnStripes=False),\n",
    "             \"Contributor\": TableStyleInfo(name=\"TableStyleMedium18\", showFirstColumn=True,\n",
    "                       showLastColumn=False, showRowStripes=False, showColumnStripes=False),\n",
    "             \"Lists\": TableStyleInfo(name=\"TableStyleMedium14\", showFirstColumn=True,\n",
    "                       showLastColumn=False, showRowStripes=False, showColumnStripes=False),\n",
    "             \"Info\":  TableStyleInfo(name=\"TableStyleMedium14\", showFirstColumn=True,\n",
    "                       showLastColumn=False, showRowStripes=False, showColumnStripes=False),\n",
    "             \"Vocabularies\": TableStyleInfo(name=\"TableStyleMedium14\", showFirstColumn=True,\n",
    "                       showLastColumn=False, showRowStripes=False, showColumnStripes=False),\n",
    "             \"Entry\": TableStyleInfo(name=\"TableStyleMedium18\", showFirstColumn=False,\n",
    "                       showLastColumn=False, showRowStripes=False, showColumnStripes=False)\n",
    "\n",
    "             }\n",
    "\n",
    "\n"
   ]
  },
  {
   "cell_type": "markdown",
   "id": "f9d8fd4f-553c-4cf8-957e-51980fdee234",
   "metadata": {
    "jp-MarkdownHeadingCollapsed": true,
    "tags": []
   },
   "source": [
    "### Initialise workbook with worksheets"
   ]
  },
  {
   "cell_type": "code",
   "execution_count": 18,
   "id": "36492b0e-fd7f-4c1f-aa47-e29a8a55fff6",
   "metadata": {},
   "outputs": [],
   "source": [
    "wb = Workbook()"
   ]
  },
  {
   "cell_type": "code",
   "execution_count": 19,
   "id": "e7ff02df-a31a-4c68-93ec-9edb8980b453",
   "metadata": {},
   "outputs": [],
   "source": [
    "wsheets = (\n",
    "    {\"title\": \"About\", \"colWidths\":[(\"A\",90),(\"B\",40)], \"tabColor\":\"intro\",\"active\":True},\n",
    "    {\"title\": \"Summary\", \"colWidths\":[((\"A\",\"C\",\"N\"),45),\n",
    "                                      \n",
    "                                      ((\"B\",\"D\",\"E\",\"H\",\"I\",\"J\",\"L\"),12),\n",
    "                                      ((\"F\",\"G\",\"K\",\"M\",\"O\"),30)], \n",
    "     \"tabColor\":\"summary\"},\n",
    "    {\"title\": \"References\", \"colWidths\":[(\"A\",25),(\"B\",80)], \"tabColor\":\"addentry\"},\n",
    "    {\"title\": \"Trait description\", \"colWidths\":[((\"A\",\"D\",\"E\",\"F\"),12),((\"B\",\"G\"),30),(\"C\",70)], \"tabColor\":\"default\"}\n",
    "    )\n",
    "for item in wsheets:\n",
    "    if \"active\" in item.keys():\n",
    "        ws = wb.active\n",
    "        ws.title = item['title']\n",
    "    else:\n",
    "        ws = wb.create_sheet(item['title'])\n",
    "    for k in item['colWidths']:\n",
    "        for j in k[0]:\n",
    "            ws.column_dimensions[j].width = k[1]\n",
    "    ws.sheet_properties.tabColor = sheet_colors[item[\"tabColor\"]]\n"
   ]
  },
  {
   "cell_type": "markdown",
   "id": "7bff0687-aa8f-41f7-87a6-57ec57cbe9f1",
   "metadata": {
    "jp-MarkdownHeadingCollapsed": true,
    "tags": []
   },
   "source": [
    "### `About` worksheet"
   ]
  },
  {
   "cell_type": "code",
   "execution_count": 20,
   "id": "007df909-b552-4606-8151-466fe16aba9f",
   "metadata": {},
   "outputs": [],
   "source": [
    "ws = wb[\"About\"]\n",
    "\n",
    "info = (\"Fire Ecology Traits for Plants\",\n",
    "        \"Version 1.00 (April 2022)\",\n",
    "        \"This data export reflects the status of the database on the %s\" % datetime.date.today().strftime('%d %b %Y'),\n",
    "        \"Developed by  José R. Ferrer-Paris and David Keith\",\n",
    "        \"Centre for Ecosystem Science / University of New South Wales\",\n",
    "        \"Please cite this work as:\",\n",
    "        \"Ferrer-Paris, J. R. and Keith, D. A. (2022) Fire Ecology Traits for Plants: A database for fire research and management. Version 1.00. Centre for Ecosystem Science, University of New South Wales, Sydney, Australia.\", \n",
    "        \"DISCLAIMER:\",\n",
    "        \"DATA IS NOT READY FOR FINAL USE OR CRITICAL APPLICATIONS AND YOU SHOULD NOT DISTRIBUTE THIS DATA.\"\n",
    "        )\n",
    "\n",
    "k = 1\n",
    "for row in info:\n",
    "    ws.cell(k,1,value=row)\n",
    "    ws.cell(k,1).alignment=wrap_align\n",
    "    k=k+1\n",
    "    \n",
    "ws.cell(1,1).style='Title'\n",
    "ws.cell(5,1).hyperlink='https://www.unsw.edu.au/research/ecosystem'\n",
    "ws.cell(5,1).style='Hyperlink'\n",
    "\n",
    "# Disclaimer\n",
    "ws.cell(8,1).font=Font(color=\"FF0000\", bold=True,italic=False) \n",
    "ws.cell(9,1).font=Font(color=\"FF0000\", italic=True) \n",
    "\n",
    "\n",
    "supporters = ({'institution':\"University of New South Wales\",'url':\"https://www.unsw.edu.au/\"},\n",
    "              {'institution':\"NSW Bushfire Research Hub\",'url':\"https://www.bushfirehub.org/\"},\n",
    "              {'institution':\"NESP Threatened Species Recovery Hub\",'url':\"https://www.nespthreatenedspecies.edu.au/\"},\n",
    "              {'institution':\"NSW Department of Planning & Environment\",'url':\"https://www.planning.nsw.gov.au/\"})\n",
    "\n",
    "k=k+2\n",
    "ws.cell(k-1,1,value=\"This work has been supported by:\")\n",
    "for item in supporters:\n",
    "    cell=ws.cell(k,1)\n",
    "    cell.value=item['institution']\n",
    "    cell.hyperlink=item['url']\n",
    "    cell.style = \"Hyperlink\"\n",
    "    k=k+1\n",
    "\n",
    "k=k+2\n",
    "description = (\n",
    "              \"Taxonomic nomenclature following BioNET (data export from February 2022)\",\n",
    "              \"Data in the report is summarised based on BioNET fields 'currentScientificName' and 'currentScientificNameCode'\",\n",
    "              \"For general description of the traits, please refer to the 'Trait description' sheet\",\n",
    "              \"Vocabularies for categorical traits are available in the 'Vocabularies' sheet\",\n",
    "              \"For categorical traits the values in the 'Summary' sheet show the different values reported in the literature records separated by slashes.\",\n",
    "               \"If more than one category has been reported, the values are ordered from higher to lower 'weight', categories receiving less than 10% weight are in round brackets, categories with less than 5% in square brackets\",\n",
    "              \"The default weight is calculated by multiplying the number of times a value is reported (nr. of records) with the weight given to each record (default to 1), and divided by the weight of all records for a given species.\",\n",
    "              \"Default weights  overridden by expert advice to the administrator will be marked, with justification given in the Notes column of the output.\",\n",
    "              \"An asterisk (*) in a trait cell indicates a potential data entry error or uncertainty in the assignment of a trait category or value.\",\n",
    "              \"'Import/Entry sources' refer to references that were imported directly using automated scripts or manual entry. These include: 1) Primary observations of traits from published research or reports; and 2) Compilations of data (e.g. databases, spreadsheets, published reviews) that include two or more sources of primary observations.\",\n",
    "              \"'Indirect sources' refer to references that were cited in Import/Entry sources, where the latter are compilations of multiple primary sources (see Import/Entry sources). Information from indirect sources may have been modified when it was incorporated into those compilations. The original source of primary trait observations has not yet been verified prior to import into this database. When the primary source is reviewed and the trait values are verified, these records will be attributed to the primary source as 'Import/Entry sources'.\",\n",
    "              \"Some sheets are protected to avoid accidental changes, but they are not password protected. If you need to filter and reorder entries in the table, please unprotect the sheet first.\",\n",
    "              )\n",
    "\n",
    "for row in description:\n",
    "    ws.cell(k,1,value=row)\n",
    "    ws.cell(k,1).alignment=wrap_align\n",
    "    k=k+1\n",
    "    \n",
    "ws.protection.sheet = True"
   ]
  },
  {
   "cell_type": "markdown",
   "id": "fa22fc81-1c98-44e9-8482-1738cbc72365",
   "metadata": {
    "jp-MarkdownHeadingCollapsed": true,
    "tags": []
   },
   "source": [
    "### `Trait description` worksheet"
   ]
  },
  {
   "cell_type": "code",
   "execution_count": null,
   "id": "aed02f36-9962-4fe8-93ff-c7ce3b53db63",
   "metadata": {},
   "outputs": [],
   "source": []
  },
  {
   "cell_type": "code",
   "execution_count": 21,
   "id": "a37de598-e190-4e0e-b3a1-cc9d4f7d86fb",
   "metadata": {},
   "outputs": [],
   "source": [
    "ws = wb[\"Trait description\"]\n",
    "\n",
    "k=1\n",
    "description = (\"The following table gives a general description of the traits used in the 'Summary' sheet\",\n",
    "               \"This sheet is protected to avoid accidental changes, but it is not password protected. If you need to filter and reorder entries in the table, please unprotect the sheet first.\",\n",
    "              \"Vocabularies for categorical traits are available in the 'Vocabularies' sheet\",\"\",\"\")\n",
    "\n",
    "for row in description:\n",
    "    ws.cell(k,3,value=row)\n",
    "    ws.cell(k,3).alignment=wrap_align\n",
    "    k=k+1\n",
    "    \n",
    "tab_begin=k\n",
    "ws.append([\"Trait Code\", \"Trait Name\", \"Description\", \"Type\", \"Life stage\", \"Life history process\", \"Data migration\"])\n",
    "k=k+1\n",
    "\n",
    "for row in trait_info:\n",
    "    j=1\n",
    "    for key in [\"code\",\"name\",\"description\",\"value_type\",\"life_stage\",\"life_history_process\",\"priority\"]:\n",
    "        val=row[key]\n",
    "        ws.cell(row=k, column=j, value=val)\n",
    "        j=j+1\n",
    "    k=k+1\n",
    "        \n",
    "for j in range(tab_begin,ws.max_row+1):\n",
    "    ws.cell(j,3).alignment=wrap_align\n",
    "    \n",
    "tab = Table(displayName=\"TraitInformation\", ref=\"A{}:G{}\".format(tab_begin,ws.max_row))\n",
    "\n",
    "tab.tableStyleInfo = table_style[\"Info\"]\n",
    "ws.add_table(tab)\n",
    "ws.protection.sheet = True"
   ]
  },
  {
   "cell_type": "markdown",
   "id": "cea2517e-5920-462e-a1b1-e79fe282f2f4",
   "metadata": {
    "jp-MarkdownHeadingCollapsed": true,
    "tags": []
   },
   "source": [
    "### `Summary` worksheet"
   ]
  },
  {
   "cell_type": "code",
   "execution_count": 22,
   "id": "e44102c5-2092-4375-8bf0-5a1078e7ce88",
   "metadata": {},
   "outputs": [],
   "source": [
    "\n",
    "ws = wb[\"Summary\"]\n",
    "\n",
    "colnames = ['scientific name','current code (BioNET)',\n",
    "            'original name (as entered)','CAPS code (old)',\n",
    "            'trait code','trait name','norm value',\n",
    "            'best','lower','upper',\n",
    "            'method of estimation',\n",
    "            'weight','source ref','other ref','DB link']\n",
    "ws.append(colnames)\n",
    "\n",
    "rows = df.sort_values(by =['scientific name','trait code']).to_dict(orient=\"records\")\n",
    "\n",
    "    \n",
    "for r_idx, row in enumerate(rows, 2):\n",
    "    \n",
    "    ws.cell(row=r_idx, column=1, value=row['scientific name'])\n",
    "    ws.cell(r_idx,1).font  = Font(italic=True)\n",
    "    \n",
    "    ws.cell(row=r_idx, column=2, value=row['current code (BioNET)'])\n",
    "    if row['original name'] != row['scientific name']:\n",
    "        ws.cell(row=r_idx, column=3, value=row['original name'])\n",
    "        ws.cell(r_idx,3).font  = Font(italic=True, color=\"110000\")\n",
    "        ws.cell(row=r_idx, column=4, value=row['CAPS code'])\n",
    "    ws.cell(row=r_idx, column=5, value=row['trait code'])\n",
    "    ws.cell(row=r_idx, column=6, value=row['trait name'])\n",
    "    \n",
    "    ws.cell(row=r_idx, column=11, value=row['method'])\n",
    "    ws.cell(row=r_idx, column=12, value=row['weight'])\n",
    "    ws.cell(row=r_idx, column=13, value=row['source ref'])\n",
    "    if row['other ref'] is not None:\n",
    "        oref=\"; \".join(row['other ref'])\n",
    "        ws.cell(row=r_idx, column=14, value=oref)\n",
    "    \n",
    "    if isinstance(row['norm value'],str):\n",
    "        val=row['norm value']\n",
    "    elif row['norm value'] is None:\n",
    "        val=\"(data input ERROR)\"\n",
    "    else:\n",
    "        triplet=row['norm value']\n",
    "        k=7\n",
    "        for j in triplet:\n",
    "            k=k+1\n",
    "            if j is not None:\n",
    "                ws.cell(row=r_idx, column=k, value=j)\n",
    "        if triplet[0] is not None:\n",
    "            if triplet[1] is None and triplet[2] is None:\n",
    "                val=triplet[0]\n",
    "            else:\n",
    "                val = \"%s (%s -- %s)\" % tuple(triplet)\n",
    "        else:\n",
    "            if triplet[1] is None:\n",
    "                if triplet[2] is None:\n",
    "                    val=\"(data input ERROR)\"\n",
    "                else:\n",
    "                    val = \"<%s\" % triplet[2]\n",
    "            elif triplet[2] is None:\n",
    "                val = \">%s\" % triplet[1]\n",
    "            else:\n",
    "                val = \"(%s -- %s)\" % (triplet[1],triplet[2])\n",
    "    ws.cell(row=r_idx, column=7, value=val)\n",
    "\n",
    "    val = \"trait:%s / sp code:%s / record id:%s\" % (row['trait code'],row['CAPS code'],row['recordid'])\n",
    "    url = \"http://13.54.3.205/traits/%s/%s\" % (row['trait code'],row['CAPS code'])\n",
    "    cell=ws.cell(row=r_idx, column=15, value=val)\n",
    "    cell.hyperlink=url\n",
    "    cell.style='Hyperlink'\n",
    "    \n",
    "    for j in (2,4,5,7,12):\n",
    "        ws.cell(r_idx,j).alignment=cent_align\n",
    "    for j in (11,13,14,15):\n",
    "        ws.cell(r_idx,j).font = fontSmall\n",
    "        ws.cell(r_idx,j).alignment=wrap_align\n",
    "  \n",
    "\n",
    "tab = Table(displayName=\"Summary\", ref=\"A1:{}{}\".format(get_column_letter(15),r_idx))\n",
    "tab.tableStyleInfo = table_style[\"Lists\"]\n",
    "ws.add_table(tab)\n"
   ]
  },
  {
   "cell_type": "code",
   "execution_count": null,
   "id": "d34a73f5-0f8a-4ad8-a7e0-1b75a3b27269",
   "metadata": {},
   "outputs": [],
   "source": []
  },
  {
   "cell_type": "markdown",
   "id": "c9a2b9e7-5f46-44bd-9a51-fc37ddb99a48",
   "metadata": {
    "jp-MarkdownHeadingCollapsed": true,
    "tags": []
   },
   "source": [
    "### `References` worksheet"
   ]
  },
  {
   "cell_type": "code",
   "execution_count": 23,
   "id": "92d7d546-9991-49ae-9124-db09c0c17b26",
   "metadata": {},
   "outputs": [],
   "source": [
    "ws = wb[\"References\"]\n",
    "\n",
    "k=1\n",
    "description = (\"The following table includes bibliographical information for the sources referenced in the 'Summary' sheet\",\n",
    "               \"This sheet is protected to avoid accidental changes, but it is not password protected. If you need to filter and reorder entries in the table, please unprotect the sheet first.\",\n",
    "              \"\",\"\")\n",
    "\n",
    "for row in description:\n",
    "    ws.cell(k,2,value=row)\n",
    "    ws.cell(k,2).alignment=wrap_align\n",
    "    k=k+1\n",
    "    \n",
    "\n",
    "ws.append([\"Reference code\", \"Reference information\"])\n",
    "\n",
    "for row in ref_info:\n",
    "    ws.append(row)\n",
    "    \n",
    "#ws.max_row\n",
    "for j in range(k+1,ws.max_row+1):\n",
    "    ws.cell(j,2).alignment=wrap_align\n",
    "    ws.cell(j,2).font = fontSmall\n",
    "    \n",
    "tab = Table(displayName=\"ReferenceInformation\", ref=\"A{}:B{}\".format(k,ws.max_row))\n",
    "\n",
    "tab.tableStyleInfo = table_style[\"Lists\"]\n",
    "ws.add_table(tab)\n",
    "ws.protection.sheet = True"
   ]
  },
  {
   "cell_type": "markdown",
   "id": "98e9832f-eef4-4c51-bf8e-6de0224f6699",
   "metadata": {},
   "source": [
    "### Save workbook"
   ]
  },
  {
   "cell_type": "code",
   "execution_count": 24,
   "id": "499c421f-bba6-45ab-a147-bc43a4d741a0",
   "metadata": {},
   "outputs": [],
   "source": [
    "wb.save(inputdir / \"fireveg-trait-records-model.xlsx\")"
   ]
  },
  {
   "cell_type": "code",
   "execution_count": null,
   "id": "81b172fd-ab40-4b54-89c7-58dd91701868",
   "metadata": {},
   "outputs": [],
   "source": []
  }
 ],
 "metadata": {
  "kernelspec": {
   "display_name": "Python 3 (ipykernel)",
   "language": "python",
   "name": "python3"
  },
  "language_info": {
   "codemirror_mode": {
    "name": "ipython",
    "version": 3
   },
   "file_extension": ".py",
   "mimetype": "text/x-python",
   "name": "python",
   "nbconvert_exporter": "python",
   "pygments_lexer": "ipython3",
   "version": "3.10.2"
  }
 },
 "nbformat": 4,
 "nbformat_minor": 5
}
