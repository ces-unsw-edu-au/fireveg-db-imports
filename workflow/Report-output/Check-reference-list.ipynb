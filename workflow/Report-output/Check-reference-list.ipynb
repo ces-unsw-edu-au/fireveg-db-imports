{
 "cells": [
  {
   "cell_type": "markdown",
   "id": "da4e7cf4-78fd-45b7-9433-3ba242a24551",
   "metadata": {},
   "source": [
    "# Export list of references\n",
    "\n",
    "Author: [José R. Ferrer-Paris](https://github.com/jrfep)\n",
    "\n",
    "This jupyter notebook creates an output workbook with the list of references used in the `litrev` schema of the database."
   ]
  },
  {
   "cell_type": "markdown",
   "id": "7ea581d6-3ad1-4776-be2b-2c84769be09a",
   "metadata": {},
   "source": [
    "## Set up\n",
    "Load modules"
   ]
  },
  {
   "cell_type": "code",
   "execution_count": 1,
   "id": "a2d1591a-3027-45db-b1a8-92b83b36e741",
   "metadata": {},
   "outputs": [],
   "source": [
    "# work with paths in operating system\n",
    "from pathlib import Path\n",
    "import os\n",
    "\n",
    "# datetime support\n",
    "import datetime\n",
    "# For database connection\n",
    "from configparser import ConfigParser\n",
    "import psycopg2\n",
    "from psycopg2.extras import DictCursor\n",
    "\n",
    "# Pandas for calculations\n",
    "import pandas as pd\n",
    "# Regular expressions\n",
    "import re\n",
    "# Pyprojroot for easier handling of working directory\n",
    "import pyprojroot"
   ]
  },
  {
   "cell_type": "markdown",
   "id": "e45d9cc6-04e5-468d-a2da-b0307e842f20",
   "metadata": {},
   "source": [
    "Load functions from `lib` folder, we will use a function to read db credentials, one for executing database queries and three functions for extracting data from the reference description string"
   ]
  },
  {
   "cell_type": "code",
   "execution_count": 2,
   "id": "96b0cc89-0987-4558-9c24-7eaf0d22537f",
   "metadata": {},
   "outputs": [],
   "source": [
    "from lib.parseparams import read_dbparams\n",
    "from lib.firevegdb import dbquery\n",
    "from lib.firevegrefs import extract_year,extract_authors,extract_rest"
   ]
  },
  {
   "cell_type": "markdown",
   "id": "42c58e43-65e8-4fa8-9b40-5fa9eae49b1f",
   "metadata": {},
   "source": [
    "Define project directory using the `pyprojroot` functions."
   ]
  },
  {
   "cell_type": "code",
   "execution_count": 3,
   "id": "2ada9b72-26b1-4561-b701-cd11b4075e64",
   "metadata": {},
   "outputs": [
    {
     "data": {
      "text/plain": [
       "['fireveg-db-references.xlsx']"
      ]
     },
     "execution_count": 3,
     "metadata": {},
     "output_type": "execute_result"
    }
   ],
   "source": [
    "repodir = pyprojroot.find_root(pyprojroot.has_dir(\".git\"))\n",
    "inputdir = repodir / \"data\" / \"output-report\"\n",
    "os.listdir(inputdir)"
   ]
  },
  {
   "cell_type": "markdown",
   "id": "41d239f2-995c-4ec6-86a4-b5042508f3d2",
   "metadata": {},
   "source": [
    "## Database query\n",
    "Database connection and query using functions defined in the project library.\n",
    "Database credentials are stored in a `database.ini` file."
   ]
  },
  {
   "cell_type": "code",
   "execution_count": 4,
   "id": "2cfd611f-9c14-42a6-aa89-331ae6200b1a",
   "metadata": {},
   "outputs": [],
   "source": [
    "dbparams = read_dbparams(repodir / 'secrets' / 'database.ini', section='aws-lght-sl')"
   ]
  },
  {
   "cell_type": "code",
   "execution_count": 5,
   "id": "81b04025-4a86-4dc5-91d5-12010b163bf0",
   "metadata": {},
   "outputs": [],
   "source": [
    "ref_info = dbquery(\"SELECT * FROM litrev.ref_list \", dbparams)"
   ]
  },
  {
   "cell_type": "markdown",
   "id": "deac955f-f519-451d-b9e3-46da4613f511",
   "metadata": {},
   "source": [
    "## Create data frame and add columns\n",
    "We transform the query result to a data frame and add three columns with data extracted from the ref_cite string."
   ]
  },
  {
   "cell_type": "code",
   "execution_count": 6,
   "id": "08090e71-a590-4ecf-890f-b310f4e15793",
   "metadata": {},
   "outputs": [],
   "source": [
    "df=pd.DataFrame(ref_info,columns=ref_info[1].keys())"
   ]
  },
  {
   "cell_type": "code",
   "execution_count": 7,
   "id": "fe4a3fe2-218f-456f-9997-6f9ecfd5fb00",
   "metadata": {},
   "outputs": [],
   "source": [
    "df['date']=df.apply(lambda row : extract_year(row['ref_cite']), axis = 1)\n",
    "df['authors']=df.apply(lambda row : extract_authors(row['ref_cite']), axis = 1)\n",
    "df['ref_info']=df.apply(lambda row : extract_rest(row['ref_cite']), axis = 1)"
   ]
  },
  {
   "cell_type": "code",
   "execution_count": 8,
   "id": "f9e32989-0e19-4519-a915-46a271e3121c",
   "metadata": {},
   "outputs": [
    {
     "data": {
      "text/html": [
       "<div>\n",
       "<style scoped>\n",
       "    .dataframe tbody tr th:only-of-type {\n",
       "        vertical-align: middle;\n",
       "    }\n",
       "\n",
       "    .dataframe tbody tr th {\n",
       "        vertical-align: top;\n",
       "    }\n",
       "\n",
       "    .dataframe thead th {\n",
       "        text-align: right;\n",
       "    }\n",
       "</style>\n",
       "<table border=\"1\" class=\"dataframe\">\n",
       "  <thead>\n",
       "    <tr style=\"text-align: right;\">\n",
       "      <th></th>\n",
       "      <th>ref_code</th>\n",
       "      <th>ref_cite</th>\n",
       "      <th>alt_code</th>\n",
       "      <th>date</th>\n",
       "      <th>authors</th>\n",
       "      <th>ref_info</th>\n",
       "    </tr>\n",
       "  </thead>\n",
       "  <tbody>\n",
       "    <tr>\n",
       "      <th>0</th>\n",
       "      <td>Peter Byrne Beerwah Qld. unpub.</td>\n",
       "      <td>Peter Byrne, Beerwah, Qld. (unpublished)</td>\n",
       "      <td>NSWFFRD-NFRR-ref-B</td>\n",
       "      <td>unpub.</td>\n",
       "      <td>Peter Byrne, Beerwah, Qld.</td>\n",
       "      <td></td>\n",
       "    </tr>\n",
       "    <tr>\n",
       "      <th>1</th>\n",
       "      <td>Baird 1977</td>\n",
       "      <td>Baird, A.M. (1977). Regeneration after fire in...</td>\n",
       "      <td>NSWFFRD-NFRR-ref-BA</td>\n",
       "      <td>1977</td>\n",
       "      <td>Baird, A.M.</td>\n",
       "      <td>. Regeneration after fire in King's Park, Pert...</td>\n",
       "    </tr>\n",
       "    <tr>\n",
       "      <th>2</th>\n",
       "      <td>Benson McDougall 1995</td>\n",
       "      <td>Benson, D. and McDougall, L. (1995). Ecology o...</td>\n",
       "      <td>NSWFFRD-NFRR-ref-BB</td>\n",
       "      <td>1995</td>\n",
       "      <td>Benson, D. and McDougall, L.</td>\n",
       "      <td>. Ecology of Sydney plant species part 3: Dico...</td>\n",
       "    </tr>\n",
       "    <tr>\n",
       "      <th>3</th>\n",
       "      <td>Benson McDougall 1997</td>\n",
       "      <td>Benson, D. and McDougall, L. (1997). Ecology o...</td>\n",
       "      <td>NSWFFRD-NFRR-ref-BD</td>\n",
       "      <td>1997</td>\n",
       "      <td>Benson, D. and McDougall, L.</td>\n",
       "      <td>. Ecology of Sydney plant species part 5: Dico...</td>\n",
       "    </tr>\n",
       "    <tr>\n",
       "      <th>4</th>\n",
       "      <td>Benson 1985</td>\n",
       "      <td>Benson, D.H. (1985). Maturation periods for fi...</td>\n",
       "      <td>NSWFFRD-NFRR-ref-BE</td>\n",
       "      <td>1985</td>\n",
       "      <td>Benson, D.H.</td>\n",
       "      <td>. Maturation periods for fire sensitive shrub ...</td>\n",
       "    </tr>\n",
       "    <tr>\n",
       "      <th>...</th>\n",
       "      <td>...</td>\n",
       "      <td>...</td>\n",
       "      <td>...</td>\n",
       "      <td>...</td>\n",
       "      <td>...</td>\n",
       "      <td>...</td>\n",
       "    </tr>\n",
       "    <tr>\n",
       "      <th>304</th>\n",
       "      <td>Baskin &amp; Baskin 2014</td>\n",
       "      <td>Baskin, C. and Baskin, J.M. (2014) Seeds: Ecol...</td>\n",
       "      <td>None</td>\n",
       "      <td>2014</td>\n",
       "      <td>Baskin, C. and Baskin, J.M.</td>\n",
       "      <td>Seeds: Ecology, Biogeography, and Evolution o...</td>\n",
       "    </tr>\n",
       "    <tr>\n",
       "      <th>305</th>\n",
       "      <td>Vening etal 2017</td>\n",
       "      <td>Vening etal 2017 Aust J Bot</td>\n",
       "      <td>None</td>\n",
       "      <td>2017</td>\n",
       "      <td>Vening etal 2017 Aust J Bo</td>\n",
       "      <td>Vening etal 2017 Aust J Bot</td>\n",
       "    </tr>\n",
       "    <tr>\n",
       "      <th>306</th>\n",
       "      <td>Myerscough 1998</td>\n",
       "      <td>Myerscough 1998 Cunninghamia</td>\n",
       "      <td>None</td>\n",
       "      <td>1998</td>\n",
       "      <td>Myerscough 1998 Cunninghami</td>\n",
       "      <td>Myerscough 1998 Cunninghamia</td>\n",
       "    </tr>\n",
       "    <tr>\n",
       "      <th>307</th>\n",
       "      <td>Clarke et al 2000</td>\n",
       "      <td>Clarke et al 2000</td>\n",
       "      <td>None</td>\n",
       "      <td>200</td>\n",
       "      <td>Clarke et al 200</td>\n",
       "      <td>Clarke et al 2000</td>\n",
       "    </tr>\n",
       "    <tr>\n",
       "      <th>308</th>\n",
       "      <td>Davila &amp; Wardle 2002</td>\n",
       "      <td>Davila &amp; Wardle 2002 Aust J Bot</td>\n",
       "      <td>None</td>\n",
       "      <td>2002</td>\n",
       "      <td>Davila &amp; Wardle 2002 Aust J Bo</td>\n",
       "      <td>Davila &amp; Wardle 2002 Aust J Bot</td>\n",
       "    </tr>\n",
       "  </tbody>\n",
       "</table>\n",
       "<p>309 rows × 6 columns</p>\n",
       "</div>"
      ],
      "text/plain": [
       "                            ref_code   \n",
       "0    Peter Byrne Beerwah Qld. unpub.  \\\n",
       "1                         Baird 1977   \n",
       "2              Benson McDougall 1995   \n",
       "3              Benson McDougall 1997   \n",
       "4                        Benson 1985   \n",
       "..                               ...   \n",
       "304             Baskin & Baskin 2014   \n",
       "305                 Vening etal 2017   \n",
       "306                  Myerscough 1998   \n",
       "307                Clarke et al 2000   \n",
       "308             Davila & Wardle 2002   \n",
       "\n",
       "                                              ref_cite             alt_code   \n",
       "0             Peter Byrne, Beerwah, Qld. (unpublished)   NSWFFRD-NFRR-ref-B  \\\n",
       "1    Baird, A.M. (1977). Regeneration after fire in...  NSWFFRD-NFRR-ref-BA   \n",
       "2    Benson, D. and McDougall, L. (1995). Ecology o...  NSWFFRD-NFRR-ref-BB   \n",
       "3    Benson, D. and McDougall, L. (1997). Ecology o...  NSWFFRD-NFRR-ref-BD   \n",
       "4    Benson, D.H. (1985). Maturation periods for fi...  NSWFFRD-NFRR-ref-BE   \n",
       "..                                                 ...                  ...   \n",
       "304  Baskin, C. and Baskin, J.M. (2014) Seeds: Ecol...                 None   \n",
       "305                        Vening etal 2017 Aust J Bot                 None   \n",
       "306                       Myerscough 1998 Cunninghamia                 None   \n",
       "307                                  Clarke et al 2000                 None   \n",
       "308                    Davila & Wardle 2002 Aust J Bot                 None   \n",
       "\n",
       "       date                         authors   \n",
       "0    unpub.     Peter Byrne, Beerwah, Qld.   \\\n",
       "1      1977                    Baird, A.M.    \n",
       "2      1995   Benson, D. and McDougall, L.    \n",
       "3      1997   Benson, D. and McDougall, L.    \n",
       "4      1985                   Benson, D.H.    \n",
       "..      ...                             ...   \n",
       "304    2014    Baskin, C. and Baskin, J.M.    \n",
       "305    2017      Vening etal 2017 Aust J Bo   \n",
       "306    1998     Myerscough 1998 Cunninghami   \n",
       "307     200                Clarke et al 200   \n",
       "308    2002  Davila & Wardle 2002 Aust J Bo   \n",
       "\n",
       "                                              ref_info  \n",
       "0                                                       \n",
       "1    . Regeneration after fire in King's Park, Pert...  \n",
       "2    . Ecology of Sydney plant species part 3: Dico...  \n",
       "3    . Ecology of Sydney plant species part 5: Dico...  \n",
       "4    . Maturation periods for fire sensitive shrub ...  \n",
       "..                                                 ...  \n",
       "304   Seeds: Ecology, Biogeography, and Evolution o...  \n",
       "305                        Vening etal 2017 Aust J Bot  \n",
       "306                       Myerscough 1998 Cunninghamia  \n",
       "307                                  Clarke et al 2000  \n",
       "308                    Davila & Wardle 2002 Aust J Bot  \n",
       "\n",
       "[309 rows x 6 columns]"
      ]
     },
     "execution_count": 8,
     "metadata": {},
     "output_type": "execute_result"
    }
   ],
   "source": [
    "df"
   ]
  },
  {
   "cell_type": "markdown",
   "id": "b43c0d88-a648-4300-9528-3acf761037b9",
   "metadata": {},
   "source": [
    "## Export to excel workbook\n",
    "Here we use a simple excel export function to save the results:"
   ]
  },
  {
   "cell_type": "code",
   "execution_count": 9,
   "id": "6350ffbe-823c-43ee-a116-f1a5ed652efc",
   "metadata": {},
   "outputs": [],
   "source": [
    "df.to_excel(inputdir / \"fireveg-db-references.xlsx\") "
   ]
  },
  {
   "cell_type": "markdown",
   "id": "add25ea8-ede2-4861-8a48-45124049eafd",
   "metadata": {},
   "source": [
    "# Done for today\n"
   ]
  }
 ],
 "metadata": {
  "kernelspec": {
   "display_name": "Python 3 (ipykernel)",
   "language": "python",
   "name": "python3"
  },
  "language_info": {
   "codemirror_mode": {
    "name": "ipython",
    "version": 3
   },
   "file_extension": ".py",
   "mimetype": "text/x-python",
   "name": "python",
   "nbconvert_exporter": "python",
   "pygments_lexer": "ipython3",
   "version": "3.11.3"
  }
 },
 "nbformat": 4,
 "nbformat_minor": 5
}
