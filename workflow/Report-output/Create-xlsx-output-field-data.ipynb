{
 "cells": [
  {
   "cell_type": "markdown",
   "id": "d045538b-a1f1-49a0-b0b9-e58b2d448774",
   "metadata": {},
   "source": [
    "# Summary report exported as a workbook\n",
    "\n",
    "Author: [José R. Ferrer-Paris](https://github.com/jrfep)\n",
    "\n",
    "This notebook:\n",
    "- Reads information from the database,\n",
    "- Exports the list of records as a flat CSV file, and\n",
    "- Creates a workbook with:\n",
    "    - Authoring information and instruction\n",
    "    - Summary table for species with links\n",
    "    - Trait codes and descriptions\n",
    "    - Vocabularies\n",
    "    - List of references\n",
    "\n",
    "The outputs of this notebook are available as a dataset record at:\n",
    "\n",
    "> Ferrer-Paris, José R.; Keith, D A (2024). Fire Ecology Traits for Plants: Database exports. figshare. Dataset. https://doi.org/10.6084/m9.figshare.24125088.v1"
   ]
  },
  {
   "cell_type": "markdown",
   "id": "074c5468-519c-4ea5-a46c-f5e09d57c8a7",
   "metadata": {
    "tags": []
   },
   "source": [
    "## Setup\n",
    "\n",
    "These sections include basic set up for the project"
   ]
  },
  {
   "cell_type": "markdown",
   "id": "1f6f23f7-d797-4dcd-be3a-f90a32774dca",
   "metadata": {
    "tags": []
   },
   "source": [
    "### Import modules"
   ]
  },
  {
   "cell_type": "code",
   "execution_count": 1,
   "id": "5626d235-7c71-459c-a529-93658ed61ea8",
   "metadata": {},
   "outputs": [],
   "source": [
    "# work with paths in operating system\n",
    "from pathlib import Path\n",
    "import os\n",
    "import sys\n",
    "# datetime support\n",
    "import datetime\n",
    "\n",
    "# work with xlsx workbooks\n",
    "import openpyxl\n",
    "from openpyxl import Workbook\n",
    "from openpyxl.worksheet.table import Table, TableStyleInfo\n",
    "from openpyxl.styles import Alignment, PatternFill, Border, Font # Side, Alignment, Protection,\n",
    "from openpyxl.formatting import Rule\n",
    "from openpyxl.styles.differential import DifferentialStyle\n",
    "from openpyxl.worksheet.datavalidation import DataValidation\n",
    "from openpyxl.comments import Comment\n",
    "from openpyxl.utils.dataframe import dataframe_to_rows\n",
    "from openpyxl.utils import get_column_letter\n",
    "\n",
    "# For database connection\n",
    "from configparser import ConfigParser\n",
    "import psycopg2\n",
    "from psycopg2.extras import DictCursor\n",
    "\n",
    "# Pandas for calculations\n",
    "import pandas as pd\n",
    "# Pyprojroot for easier handling of working directory\n",
    "import pyprojroot\n"
   ]
  },
  {
   "cell_type": "markdown",
   "id": "7b004146-868a-4580-afaf-0da9c861f698",
   "metadata": {
    "tags": []
   },
   "source": [
    "### Define paths for input and output"
   ]
  },
  {
   "cell_type": "code",
   "execution_count": 2,
   "id": "d61e4223-ec48-4d31-9a94-61c002ab8b09",
   "metadata": {},
   "outputs": [],
   "source": [
    "repodir = pyprojroot.find_root(pyprojroot.has_dir(\".git\"))\n",
    "sys.path.append(str(repodir))\n",
    "inputdir = repodir / \"data\" / \"output-report\""
   ]
  },
  {
   "cell_type": "markdown",
   "id": "6286b50c-cf13-4ff3-a483-fc31f5664608",
   "metadata": {},
   "source": [
    "### Load own functions\n",
    "Load functions from `lib` folder, we will use a function to read db credentials, one for executing database queries and three functions for extracting data from the reference description string"
   ]
  },
  {
   "cell_type": "code",
   "execution_count": 3,
   "id": "22da82e5-df4a-4e0d-9b09-0a2d6710c455",
   "metadata": {},
   "outputs": [],
   "source": [
    "from lib.parseparams import read_dbparams\n",
    "from lib.firevegdb import dbquery\n",
    "import lib.firevegxport as fvx"
   ]
  },
  {
   "cell_type": "markdown",
   "id": "f421d3c4-9543-41ae-93c5-cded63fcba11",
   "metadata": {},
   "source": [
    "## Read information from database"
   ]
  },
  {
   "cell_type": "markdown",
   "id": "8d828bc4-c9ff-4617-9701-ec07cf72af42",
   "metadata": {
    "tags": []
   },
   "source": [
    "### Database connection parameters\n",
    "Database credentials are stored in a `database.ini` file."
   ]
  },
  {
   "cell_type": "code",
   "execution_count": 4,
   "id": "31787fad-34a6-493f-8956-b02a99985a27",
   "metadata": {},
   "outputs": [],
   "source": [
    "dbparams = read_dbparams(repodir / 'secrets' / 'database.ini', section='aws-lght-sl')"
   ]
  },
  {
   "cell_type": "markdown",
   "id": "b5ad45eb-d867-464d-ac11-5e78dab3785c",
   "metadata": {},
   "source": [
    "### Database queries"
   ]
  },
  {
   "cell_type": "code",
   "execution_count": 5,
   "id": "962a3bf0-deee-40c9-ab6b-66cca0b0ce6c",
   "metadata": {},
   "outputs": [],
   "source": [
    "qrystr= \"\"\"\n",
    "SELECT visit_id, visit_date, sample_nr, species, species_code::int, \"currentScientificNameCode\" as bionet_code,\n",
    "resprout_organ, seedbank,\n",
    "adults_unburnt, resprouts_live, resprouts_died, resprouts_kill, resprouts_reproductive,\n",
    "recruits_live, recruits_reproductive, recruits_died,\n",
    "scorch, life_stage, comments\n",
    "FROM form.quadrat_samples\n",
    "LEFT JOIN species.caps\n",
    "ON species_code::text=\"speciesCode_Synonym\"\n",
    "ORDER BY visit_id,visit_date,sample_nr,species_code\n",
    ";\n",
    "\"\"\"\n",
    "res = dbquery(qrystr, dbparams)\n",
    "df = pd.DataFrame(res,columns=['visit_id', 'visit_date', 'sample_nr', 'species', 'species_code','bionet_code','resprout_organ', 'seedbank',\n",
    "'adults_unburnt', 'resprouts_live', 'resprouts_died', 'resprouts_kill', 'resprouts_reproductive',\n",
    "'recruits_live', 'recruits_reproductive', 'recruits_died',\n",
    "'scorch', 'life_stage', 'comments'])"
   ]
  },
  {
   "cell_type": "code",
   "execution_count": 6,
   "id": "7b1449f1-83ed-44fd-89e9-c9f75657049b",
   "metadata": {
    "tags": []
   },
   "outputs": [],
   "source": [
    "#df"
   ]
  },
  {
   "cell_type": "code",
   "execution_count": 7,
   "id": "681ddeb8-ad1c-439c-8fed-79a41c78bb3f",
   "metadata": {},
   "outputs": [],
   "source": [
    "qrystr=\"\"\"\n",
    "WITH fh AS (SELECT site_label,MAX(latest_date) as latest_fire\n",
    "FROM form.field_site\n",
    "LEFT JOIN form.fire_history USING (site_label)\n",
    "GROUP BY site_label)\n",
    "SELECT s.site_label, location_description, elevation, ST_X(ST_Transform(geom,4326)) as longitude, ST_Y(ST_Transform(geom,4326)) as latitude,\n",
    "visit_date, visit_description, userkey, givennames, surname, observerlist, survey_name, latest_fire\n",
    "FROM form.field_visit \n",
    "LEFT JOIN form.field_site s on visit_id=s.site_label \n",
    "LEFT JOIN form.observerid ON mainobserver=userkey\n",
    "LEFT JOIN fh ON visit_id=fh.site_label\n",
    "ORDER BY survey_name,site_label,visit_date;\n",
    "\"\"\"\n",
    "\n",
    "sitelist = dbquery(qrystr, dbparams)"
   ]
  },
  {
   "cell_type": "code",
   "execution_count": 8,
   "id": "d8588172-7e5b-464d-aec1-0dec82fd7e04",
   "metadata": {},
   "outputs": [],
   "source": [
    "qrystr= \"\"\"\n",
    "SELECT distinct species, species_code::int, \n",
    "\"speciesID\" as species_id, \"taxonRank\", family, \n",
    "\"scientificName\",\n",
    "\"scientificNameAuthorship\",\n",
    "\"vernacularName\", \n",
    "\"isCurrent\",\n",
    "\"currentScientificNameCode\" as sppcode,\n",
    "\"currentScientificName\",\n",
    "\"sortOrder\"\n",
    "FROM form.quadrat_samples\n",
    "LEFT JOIN species.caps\n",
    "ON species_code::text=\"speciesCode_Synonym\"\n",
    "ORDER BY \"sortOrder\"\n",
    "\"\"\"\n",
    "\n",
    "spplist = dbquery(qrystr, dbparams)\n",
    "sppdf = pd.DataFrame(spplist,columns=[ 'species', 'species code',\n",
    "                                   'species id', 'taxon rank', 'family',\n",
    "                                  'scientific name','authorship','vernacular name',\n",
    "                                   'current','current code','current name', \n",
    "                                   'sort order'])"
   ]
  },
  {
   "cell_type": "code",
   "execution_count": 9,
   "id": "f3420276-5d9b-4958-8e04-68ece8a90992",
   "metadata": {},
   "outputs": [
    {
     "data": {
      "text/html": [
       "<div>\n",
       "<style scoped>\n",
       "    .dataframe tbody tr th:only-of-type {\n",
       "        vertical-align: middle;\n",
       "    }\n",
       "\n",
       "    .dataframe tbody tr th {\n",
       "        vertical-align: top;\n",
       "    }\n",
       "\n",
       "    .dataframe thead th {\n",
       "        text-align: right;\n",
       "    }\n",
       "</style>\n",
       "<table border=\"1\" class=\"dataframe\">\n",
       "  <thead>\n",
       "    <tr style=\"text-align: right;\">\n",
       "      <th></th>\n",
       "      <th>species</th>\n",
       "      <th>species code</th>\n",
       "      <th>species id</th>\n",
       "      <th>taxon rank</th>\n",
       "      <th>family</th>\n",
       "      <th>scientific name</th>\n",
       "      <th>authorship</th>\n",
       "      <th>vernacular name</th>\n",
       "      <th>current</th>\n",
       "      <th>current code</th>\n",
       "      <th>current name</th>\n",
       "      <th>sort order</th>\n",
       "    </tr>\n",
       "  </thead>\n",
       "  <tbody>\n",
       "    <tr>\n",
       "      <th>0</th>\n",
       "      <td>Pseuderanthemum variabile</td>\n",
       "      <td>1010.0</td>\n",
       "      <td>9013.0</td>\n",
       "      <td>Species</td>\n",
       "      <td>Acanthaceae</td>\n",
       "      <td>Pseuderanthemum variabile</td>\n",
       "      <td>(R.Br.) Radlk.</td>\n",
       "      <td>Pastel Flower</td>\n",
       "      <td>true</td>\n",
       "      <td>1010</td>\n",
       "      <td>Pseuderanthemum variabile</td>\n",
       "      <td>5698.0</td>\n",
       "    </tr>\n",
       "    <tr>\n",
       "      <th>1</th>\n",
       "      <td>Sambucus australasica</td>\n",
       "      <td>1953.0</td>\n",
       "      <td>3692.0</td>\n",
       "      <td>Species</td>\n",
       "      <td>Adoxaceae</td>\n",
       "      <td>Sambucus australasica</td>\n",
       "      <td>(Lindl.) Fritsch</td>\n",
       "      <td>Native Elderberry</td>\n",
       "      <td>true</td>\n",
       "      <td>1953</td>\n",
       "      <td>Sambucus australasica</td>\n",
       "      <td>5723.0</td>\n",
       "    </tr>\n",
       "    <tr>\n",
       "      <th>2</th>\n",
       "      <td>Tetragonia tetragonoides</td>\n",
       "      <td>1040.0</td>\n",
       "      <td>3407.0</td>\n",
       "      <td>Species</td>\n",
       "      <td>Aizoaceae</td>\n",
       "      <td>Tetragonia tetragonoides</td>\n",
       "      <td>(Pall.) Kuntze</td>\n",
       "      <td>New Zealand Spinach</td>\n",
       "      <td>false</td>\n",
       "      <td>11185</td>\n",
       "      <td>Tetragonia tetragonioides</td>\n",
       "      <td>5804.0</td>\n",
       "    </tr>\n",
       "    <tr>\n",
       "      <th>3</th>\n",
       "      <td>Akania bidwillii</td>\n",
       "      <td>8978.0</td>\n",
       "      <td>10372.0</td>\n",
       "      <td>Species</td>\n",
       "      <td>Akaniaceae</td>\n",
       "      <td>Akania bidwillii</td>\n",
       "      <td>(Hogg) Mabb.</td>\n",
       "      <td>Turnipwood</td>\n",
       "      <td>true</td>\n",
       "      <td>8978</td>\n",
       "      <td>Akania bidwillii</td>\n",
       "      <td>5814.0</td>\n",
       "    </tr>\n",
       "    <tr>\n",
       "      <th>4</th>\n",
       "      <td>Ptilotus exaltatus var. exaltatus</td>\n",
       "      <td>6599.0</td>\n",
       "      <td>8650.0</td>\n",
       "      <td>Variety</td>\n",
       "      <td>Amaranthaceae</td>\n",
       "      <td>Ptilotus exaltatus var. exaltatus</td>\n",
       "      <td>Nees ex Lehm.</td>\n",
       "      <td>Tall Mulla Mulla</td>\n",
       "      <td>true</td>\n",
       "      <td>6599</td>\n",
       "      <td>Ptilotus exaltatus var. exaltatus</td>\n",
       "      <td>5902.0</td>\n",
       "    </tr>\n",
       "    <tr>\n",
       "      <th>...</th>\n",
       "      <td>...</td>\n",
       "      <td>...</td>\n",
       "      <td>...</td>\n",
       "      <td>...</td>\n",
       "      <td>...</td>\n",
       "      <td>...</td>\n",
       "      <td>...</td>\n",
       "      <td>...</td>\n",
       "      <td>...</td>\n",
       "      <td>...</td>\n",
       "      <td>...</td>\n",
       "      <td>...</td>\n",
       "    </tr>\n",
       "    <tr>\n",
       "      <th>1109</th>\n",
       "      <td>Vittadinia spp.</td>\n",
       "      <td>NaN</td>\n",
       "      <td>NaN</td>\n",
       "      <td>None</td>\n",
       "      <td>None</td>\n",
       "      <td>None</td>\n",
       "      <td>None</td>\n",
       "      <td>None</td>\n",
       "      <td>None</td>\n",
       "      <td>None</td>\n",
       "      <td>None</td>\n",
       "      <td>NaN</td>\n",
       "    </tr>\n",
       "    <tr>\n",
       "      <th>1110</th>\n",
       "      <td>Vittadinia spp.</td>\n",
       "      <td>NaN</td>\n",
       "      <td>NaN</td>\n",
       "      <td>None</td>\n",
       "      <td>None</td>\n",
       "      <td>None</td>\n",
       "      <td>None</td>\n",
       "      <td>None</td>\n",
       "      <td>None</td>\n",
       "      <td>None</td>\n",
       "      <td>None</td>\n",
       "      <td>NaN</td>\n",
       "    </tr>\n",
       "    <tr>\n",
       "      <th>1111</th>\n",
       "      <td>Waitzia spp.</td>\n",
       "      <td>NaN</td>\n",
       "      <td>NaN</td>\n",
       "      <td>None</td>\n",
       "      <td>None</td>\n",
       "      <td>None</td>\n",
       "      <td>None</td>\n",
       "      <td>None</td>\n",
       "      <td>None</td>\n",
       "      <td>None</td>\n",
       "      <td>None</td>\n",
       "      <td>NaN</td>\n",
       "    </tr>\n",
       "    <tr>\n",
       "      <th>1112</th>\n",
       "      <td>Yellow daisy</td>\n",
       "      <td>NaN</td>\n",
       "      <td>NaN</td>\n",
       "      <td>None</td>\n",
       "      <td>None</td>\n",
       "      <td>None</td>\n",
       "      <td>None</td>\n",
       "      <td>None</td>\n",
       "      <td>None</td>\n",
       "      <td>None</td>\n",
       "      <td>None</td>\n",
       "      <td>NaN</td>\n",
       "    </tr>\n",
       "    <tr>\n",
       "      <th>1113</th>\n",
       "      <td>Zygophyllum spp.</td>\n",
       "      <td>NaN</td>\n",
       "      <td>NaN</td>\n",
       "      <td>None</td>\n",
       "      <td>None</td>\n",
       "      <td>None</td>\n",
       "      <td>None</td>\n",
       "      <td>None</td>\n",
       "      <td>None</td>\n",
       "      <td>None</td>\n",
       "      <td>None</td>\n",
       "      <td>NaN</td>\n",
       "    </tr>\n",
       "  </tbody>\n",
       "</table>\n",
       "<p>1114 rows × 12 columns</p>\n",
       "</div>"
      ],
      "text/plain": [
       "                                species  species code  species id taxon rank   \n",
       "0             Pseuderanthemum variabile        1010.0      9013.0    Species  \\\n",
       "1                 Sambucus australasica        1953.0      3692.0    Species   \n",
       "2              Tetragonia tetragonoides        1040.0      3407.0    Species   \n",
       "3                      Akania bidwillii        8978.0     10372.0    Species   \n",
       "4     Ptilotus exaltatus var. exaltatus        6599.0      8650.0    Variety   \n",
       "...                                 ...           ...         ...        ...   \n",
       "1109                    Vittadinia spp.           NaN         NaN       None   \n",
       "1110                   Vittadinia spp.            NaN         NaN       None   \n",
       "1111                       Waitzia spp.           NaN         NaN       None   \n",
       "1112                       Yellow daisy           NaN         NaN       None   \n",
       "1113                   Zygophyllum spp.           NaN         NaN       None   \n",
       "\n",
       "             family                    scientific name        authorship   \n",
       "0       Acanthaceae          Pseuderanthemum variabile    (R.Br.) Radlk.  \\\n",
       "1         Adoxaceae              Sambucus australasica  (Lindl.) Fritsch   \n",
       "2         Aizoaceae           Tetragonia tetragonoides    (Pall.) Kuntze   \n",
       "3        Akaniaceae                   Akania bidwillii      (Hogg) Mabb.   \n",
       "4     Amaranthaceae  Ptilotus exaltatus var. exaltatus     Nees ex Lehm.   \n",
       "...             ...                                ...               ...   \n",
       "1109           None                               None              None   \n",
       "1110           None                               None              None   \n",
       "1111           None                               None              None   \n",
       "1112           None                               None              None   \n",
       "1113           None                               None              None   \n",
       "\n",
       "          vernacular name current current code   \n",
       "0           Pastel Flower    true         1010  \\\n",
       "1       Native Elderberry    true         1953   \n",
       "2     New Zealand Spinach   false        11185   \n",
       "3              Turnipwood    true         8978   \n",
       "4        Tall Mulla Mulla    true         6599   \n",
       "...                   ...     ...          ...   \n",
       "1109                 None    None         None   \n",
       "1110                 None    None         None   \n",
       "1111                 None    None         None   \n",
       "1112                 None    None         None   \n",
       "1113                 None    None         None   \n",
       "\n",
       "                           current name  sort order  \n",
       "0             Pseuderanthemum variabile      5698.0  \n",
       "1                 Sambucus australasica      5723.0  \n",
       "2             Tetragonia tetragonioides      5804.0  \n",
       "3                      Akania bidwillii      5814.0  \n",
       "4     Ptilotus exaltatus var. exaltatus      5902.0  \n",
       "...                                 ...         ...  \n",
       "1109                               None         NaN  \n",
       "1110                               None         NaN  \n",
       "1111                               None         NaN  \n",
       "1112                               None         NaN  \n",
       "1113                               None         NaN  \n",
       "\n",
       "[1114 rows x 12 columns]"
      ]
     },
     "execution_count": 9,
     "metadata": {},
     "output_type": "execute_result"
    }
   ],
   "source": [
    "sppdf"
   ]
  },
  {
   "cell_type": "markdown",
   "id": "681df69d-9444-4e7c-bb09-f87fdcf6f374",
   "metadata": {},
   "source": [
    "## Export to CSV"
   ]
  },
  {
   "cell_type": "code",
   "execution_count": 10,
   "id": "892991eb-4b71-4cb9-8a42-8c845e9a1617",
   "metadata": {},
   "outputs": [],
   "source": [
    "df.to_csv(inputdir / \"fireveg-field-records.csv\")"
   ]
  },
  {
   "cell_type": "markdown",
   "id": "240d0f41-29a3-48dc-a85c-68c8be9a9e58",
   "metadata": {
    "tags": []
   },
   "source": [
    "## Create workbook"
   ]
  },
  {
   "cell_type": "markdown",
   "id": "1edfb5de-a5f6-4cf5-aeca-20aadd1a99ee",
   "metadata": {
    "tags": []
   },
   "source": [
    "### Styles\n",
    "Define styles to be used across the workbook"
   ]
  },
  {
   "cell_type": "code",
   "execution_count": 11,
   "id": "9ec51a4e-1bce-4990-8a4b-c1a95ad172b6",
   "metadata": {},
   "outputs": [],
   "source": [
    "cent_align=Alignment(horizontal='center', vertical='center', wrap_text=False)\n",
    "wrap_align=Alignment(horizontal='left', vertical='top', wrap_text=True)\n",
    "\n",
    "fontSmall = Font(size = \"9\")\n",
    "\n",
    "\n",
    "sheet_colors = {\"intro\": \"1072BA\" , \"summary\": \"5AFF5A\", \"default\":\"505050\", \"addentry\": \"20CA82\"}\n",
    "\n",
    "table_style={\"Instructions\":TableStyleInfo(name=\"TableStyleMedium9\", showFirstColumn=True, showLastColumn=False, \n",
    "                                           showRowStripes=True, showColumnStripes=False),\n",
    "             \"Contributor\": TableStyleInfo(name=\"TableStyleMedium18\", showFirstColumn=True,\n",
    "                       showLastColumn=False, showRowStripes=False, showColumnStripes=False),\n",
    "             \"Lists\": TableStyleInfo(name=\"TableStyleMedium14\", showFirstColumn=True,\n",
    "                       showLastColumn=False, showRowStripes=False, showColumnStripes=False),\n",
    "             \"Info\":  TableStyleInfo(name=\"TableStyleMedium18\", showFirstColumn=True,\n",
    "                       showLastColumn=False, showRowStripes=False, showColumnStripes=False),\n",
    "             \"Vocabularies\": TableStyleInfo(name=\"TableStyleMedium14\", showFirstColumn=True,\n",
    "                       showLastColumn=False, showRowStripes=False, showColumnStripes=False),\n",
    "             \"Entry\": TableStyleInfo(name=\"TableStyleMedium18\", showFirstColumn=False,\n",
    "                       showLastColumn=False, showRowStripes=False, showColumnStripes=False)\n",
    "\n",
    "             }\n",
    "\n",
    "\n"
   ]
  },
  {
   "cell_type": "markdown",
   "id": "ef8b0c36-6036-4cc1-97c7-8466f8d74f9a",
   "metadata": {},
   "source": [
    "helper functions:"
   ]
  },
  {
   "cell_type": "code",
   "execution_count": 12,
   "id": "373ef398-9bc2-4ee5-bae7-dcd49934696a",
   "metadata": {},
   "outputs": [],
   "source": [
    "def addComment(value):\n",
    "    comment = Comment(value, 'JRFP')\n",
    "    comment.width = 150\n",
    "    comment.height = 70\n",
    "    return(comment)"
   ]
  },
  {
   "cell_type": "markdown",
   "id": "f9d8fd4f-553c-4cf8-957e-51980fdee234",
   "metadata": {
    "tags": []
   },
   "source": [
    "### Create workbook and worksheets"
   ]
  },
  {
   "cell_type": "code",
   "execution_count": 13,
   "id": "36492b0e-fd7f-4c1f-aa47-e29a8a55fff6",
   "metadata": {},
   "outputs": [],
   "source": [
    "wb = Workbook()"
   ]
  },
  {
   "cell_type": "code",
   "execution_count": 14,
   "id": "e7ff02df-a31a-4c68-93ec-9edb8980b453",
   "metadata": {},
   "outputs": [],
   "source": [
    "wsheets = (\n",
    "    {\"title\": \"About\", \"colWidths\":[(\"A\",90),(\"B\",40)], \"tabColor\":\"intro\",\"active\":True},\n",
    "    {\"title\": \"Sites\", \"colWidths\":[((\"A\",\"B\"),20),\n",
    "                                    ((\"D\"),20),\n",
    "                                    ((\"C\",\"G\",\"I\",\"J\"),45),\n",
    "                                    ((\"E\",\"F\",\"H\"),12),\n",
    "                                    ], \"tabColor\":\"summary\"},\n",
    "     {\"title\": \"Samples\", \"colWidths\":[((\"A\",\"B\",\"E\",\"F\"),12),\n",
    "                                       ((\"C\"),7),\n",
    "                                       ((\"G\",\"H\"),20),\n",
    "                                       ((\"D\",\"Q\"),45),\n",
    "                                       ((\"I\",\"J\",\"K\",\"L\",\"M\",\"N\",\"O\",\"P\"),6)], \"tabColor\":\"summary\"},\n",
    "   {\"title\": \"Species\", \"colWidths\":[((\"A\",\"E\"),12),\n",
    "                                     ((\"B\",\"I\"),45),\n",
    "                                     ((\"C\",\"D\",),30),\n",
    "                                     ((\"F\",\"G\",\"H\"),6)], \"tabColor\":\"summary\"},\n",
    "    {\"title\": \"Vocabularies\", \"colWidths\":[(\"A\",12),(\"B\",30),(\"C\",70)], \"tabColor\":\"default\"},\n",
    "   \n",
    "    )\n",
    "for item in wsheets:\n",
    "    if \"active\" in item.keys():\n",
    "        ws = wb.active\n",
    "        ws.title = item['title']\n",
    "    else:\n",
    "        ws = wb.create_sheet(item['title'])\n",
    "    for k in item['colWidths']:\n",
    "        for j in k[0]:\n",
    "            ws.column_dimensions[j].width = k[1]\n",
    "    ws.sheet_properties.tabColor = sheet_colors[item[\"tabColor\"]]\n"
   ]
  },
  {
   "cell_type": "markdown",
   "id": "7bff0687-aa8f-41f7-87a6-57ec57cbe9f1",
   "metadata": {
    "tags": []
   },
   "source": [
    "### `About` worksheet"
   ]
  },
  {
   "cell_type": "code",
   "execution_count": 15,
   "id": "007df909-b552-4606-8151-466fe16aba9f",
   "metadata": {},
   "outputs": [],
   "source": [
    "ws = wb[\"About\"]\n",
    "\n",
    "info = (\"Fire Ecology Traits for Plants\",\n",
    "        \"Version 1.00 (April 2022)\",\n",
    "        \"This data export reflects the status of the database on the %s\" % datetime.date.today().strftime('%d %b %Y'),\n",
    "        \"Developed by  José R. Ferrer-Paris and David Keith\",\n",
    "        \"Centre for Ecosystem Science / University of New South Wales\",\n",
    "       \"Please cite this work as:\",\n",
    "        \"Ferrer-Paris, J. R. and Keith, D. A. (2024) Fire Ecology Traits for Plants: Database export. figshare. DOI: 10.6084/m9.figshare.24125088\", \n",
    "        #\"DISCLAIMER:\",\n",
    "        #\"DATA IS NOT READY FOR FINAL USE OR CRITICAL APPLICATIONS AND YOU SHOULD NOT DISTRIBUTE THIS DATA.\"\n",
    "        )\n",
    "\n",
    "k = 1\n",
    "for row in info:\n",
    "    ws.cell(k,1,value=row)\n",
    "    ws.cell(k,1).alignment=wrap_align\n",
    "    k=k+1\n",
    "    \n",
    "ws.cell(1,1).style='Title'\n",
    "ws.cell(5,1).hyperlink='https://www.unsw.edu.au/research/ecosystem'\n",
    "ws.cell(5,1).style='Hyperlink'\n",
    "\n",
    "# Disclaimer\n",
    "ws.cell(8,1).font=Font(color=\"FF0000\", bold=True,italic=False) \n",
    "ws.cell(9,1).font=Font(color=\"FF0000\", italic=True) \n",
    "\n",
    "\n",
    "supporters = ({'institution':\"University of New South Wales\",'url':\"https://www.unsw.edu.au/\"},\n",
    "              {'institution':\"NSW Bushfire Research Hub\",'url':\"https://www.bushfirehub.org/\"},\n",
    "              {'institution':\"NESP Threatened Species Recovery Hub\",'url':\"https://www.nespthreatenedspecies.edu.au/\"},\n",
    "              {'institution':\"NSW Department of Planning & Environment\",'url':\"https://www.planning.nsw.gov.au/\"})\n",
    "\n",
    "k=k+2\n",
    "ws.cell(k-1,1,value=\"This work has been supported by:\")\n",
    "for item in supporters:\n",
    "    cell=ws.cell(k,1)\n",
    "    cell.value=item['institution']\n",
    "    cell.hyperlink=item['url']\n",
    "    cell.style = \"Hyperlink\"\n",
    "    k=k+1\n",
    "\n",
    "k=k+2\n",
    "description = (\n",
    "              \"Taxonomic nomenclature following BioNET (data export from February 2022)\",\n",
    "              \"Data in the report is summarised based on BioNET fields 'currentScientificName' and 'currentScientificNameCode'\",\n",
    "              #\"For general description of the traits, please refer to the 'Trait description' sheet\",\n",
    "              #\"Vocabularies for categorical traits are available in the 'Vocabularies' sheet\",\n",
    "              #\"For categorical traits the values in the 'Summary' sheet show the different values reported in the literature records separated by slashes.\",\n",
    "              # \"If more than one category has been reported, the values are ordered from higher to lower 'weight', categories receiving less than 10% weight are in round brackets, categories with less than 5% in square brackets\",\n",
    "              #\"The default weight is calculated by multiplying the number of times a value is reported (nr. of records) with the weight given to each record (default to 1), and divided by the weight of all records for a given species.\",\n",
    "              #\"Default weights  overridden by expert advice to the administrator will be marked, with justification given in the Notes column of the output.\",\n",
    "              #\"An asterisk (*) in a trait cell indicates a potential data entry error or uncertainty in the assignment of a trait category or value.\",\n",
    "              #\"'Import/Entry sources' refer to references that were imported directly using automated scripts or manual entry. These include: 1) Primary observations of traits from published research or reports; and 2) Compilations of data (e.g. databases, spreadsheets, published reviews) that include two or more sources of primary observations.\",\n",
    "              #\"'Indirect sources' refer to references that were cited in Import/Entry sources, where the latter are compilations of multiple primary sources (see Import/Entry sources). Information from indirect sources may have been modified when it was incorporated into those compilations. The original source of primary trait observations has not yet been verified prior to import into this database. When the primary source is reviewed and the trait values are verified, these records will be attributed to the primary source as 'Import/Entry sources'.\",\n",
    "              #\"Some sheets are protected to avoid accidental changes, but they are not password protected. If you need to filter and reorder entries in the table, please unprotect the sheet first.\",\n",
    "              )\n",
    "\n",
    "for row in description:\n",
    "    ws.cell(k,1,value=row)\n",
    "    ws.cell(k,1).alignment=wrap_align\n",
    "    k=k+1\n",
    "    \n",
    "ws.protection.sheet = True"
   ]
  },
  {
   "cell_type": "markdown",
   "id": "cea2517e-5920-462e-a1b1-e79fe282f2f4",
   "metadata": {
    "tags": []
   },
   "source": [
    "### `Species` worksheet"
   ]
  },
  {
   "cell_type": "code",
   "execution_count": 16,
   "id": "98ec763f-54cf-4253-a728-6e4e7cb8d486",
   "metadata": {},
   "outputs": [],
   "source": [
    "ws = wb[\"Species\"]\n",
    "ws.append(['Family','Scientific name (as entered)','Authorship','Vernacular name','Taxon rank', \n",
    "           'CAPS code', 'BioNET id', \n",
    "           'Current code','Current name (according to BioNET)',])\n",
    "\n",
    "k=2\n",
    "for row in spplist:\n",
    "    if row['isCurrent']=='true':\n",
    "        clr=\"000000\"\n",
    "    else:\n",
    "        clr=\"F10000\"\n",
    "        ws.cell(k,8,value=row[\"sppcode\"])\n",
    "        ws.cell(k,9,value=row[\"currentScientificName\"])\n",
    "        ws.cell(k,9).font = Font(italic=True, color=\"0000F2\")\n",
    "\n",
    "    \n",
    "    ws.cell(k,1,value=row['family'])\n",
    "    ws.cell(k,2,value=row['species'])\n",
    "    \n",
    "    if row[\"scientificName\"] is None:\n",
    "        ws.cell(k,9,value='No match with BioNET data')\n",
    "    else:\n",
    "        if row['species']!=row[\"scientificName\"]:\n",
    "            ws.cell(k,2).comment = addComment(\"probably misspelling of %s\" % row[\"scientificName\"])\n",
    "    \n",
    "    ws.cell(k,2).font = Font(italic=True, color=clr)\n",
    "                \n",
    "    ws.cell(k,3,value=row[\"scientificNameAuthorship\"])\n",
    "    ws.cell(k,4,value=row[\"vernacularName\"])\n",
    "    ws.cell(k,5,value=row['taxonRank'])\n",
    "    ws.cell(k,5).font = Font( color=clr)\n",
    "    ws.cell(k,6,value=row['species_code'])\n",
    "    ws.cell(k,7,value=row['species_id'])\n",
    "  \n",
    "    for j in (6,7,8):\n",
    "        ws.cell(k,j).alignment=cent_align\n",
    "    k=k+1\n",
    "\n",
    "tab = Table(displayName=\"SpeciesList\", ref=\"A{}:I{}\".format(1,ws.max_row))\n",
    "tab.tableStyleInfo = table_style[\"Info\"]\n",
    "ws.add_table(tab)\n",
    "ws.protection.sheet = True"
   ]
  },
  {
   "cell_type": "code",
   "execution_count": 17,
   "id": "c3c0c388-e325-407c-9a02-b33cbe0845ec",
   "metadata": {},
   "outputs": [
    {
     "data": {
      "text/plain": [
       "True"
      ]
     },
     "execution_count": 17,
     "metadata": {},
     "output_type": "execute_result"
    }
   ],
   "source": [
    "spplist[10]['isCurrent']=='true'"
   ]
  },
  {
   "cell_type": "markdown",
   "id": "bf06c91a-8d1f-4db5-90da-0876af91d787",
   "metadata": {},
   "source": [
    "### `Samples` worksheet"
   ]
  },
  {
   "cell_type": "markdown",
   "id": "3252aa9f-7ae6-4d91-bf58-f7dcaf7421cd",
   "metadata": {},
   "source": [
    "Data from all samples"
   ]
  },
  {
   "cell_type": "code",
   "execution_count": 18,
   "id": "e44102c5-2092-4375-8bf0-5a1078e7ce88",
   "metadata": {},
   "outputs": [],
   "source": [
    "ws = wb[\"Samples\"]\n",
    "ws.cell(row=1,column=1,value='Sample information')\n",
    "ws.cell(row=1,column=4,value='Species information')\n",
    "ws.cell(row=1,column=7,value='Species response')\n",
    "ws.cell(row=1,column=9,value='Adults/Juveniles')\n",
    "ws.cell(row=1,column=14,value='Recruits')\n",
    "for k in (1,4,7,9,14):\n",
    "    ws.cell(1,k).alignment=cent_align\n",
    "    ws.cell(1,k).font  = Font(b=True, color=\"110110\")\n",
    "ws.merge_cells('A1:C1')\n",
    "ws.merge_cells('D1:F1')\n",
    "ws.merge_cells('G1:H1')\n",
    "ws.merge_cells('I1:M1')\n",
    "ws.merge_cells('N1:P1')\n",
    "\n",
    "ws.append(['Site label','Visit Date', 'Subplot', 'Scientific name', 'CAPS Code', 'BioNET Code',\n",
    "           'Resprout organ', 'Seedbank', 'L','U','R','D','K', 'L','R','D', 'Comments'])\n",
    "\n",
    "ws[\"I2\"].comment = addComment('# Live')\n",
    "ws[\"J2\"].comment = addComment('# Live unburnt')\n",
    "ws[\"K2\"].comment = addComment('# Reproductive')\n",
    "ws[\"L2\"].comment = addComment('# Resprouting & died after fire')\n",
    "ws[\"M2\"].comment = addComment('# Killed in fire')\n",
    "\n",
    "for j in range(1,18):\n",
    "    ws.cell(2,j).alignment=cent_align\n",
    "    ws.cell(2,j).font  = Font(bold=True, color=\"000000\")\n",
    "    \n",
    "k=3\n",
    "for row in res:\n",
    "    notes = list()\n",
    "    if row['life_stage'] is not None:\n",
    "        notes.append('Life stage: %s' % row['life_stage'])\n",
    "    if row['scorch'] is not None:\n",
    "        notes.append('Scorch: %s' % row['scorch'])\n",
    "        \n",
    "    for rc in row['comments']:\n",
    "        if rc.find(\"Imported from\") < 0:\n",
    "            notes.append(rc)\n",
    "    ws.append([\n",
    "        row['visit_id'],\n",
    "        row['visit_date'],\n",
    "        row['sample_nr'],\n",
    "        row['species'] ,\n",
    "        row['species_code'],\n",
    "        row['bionet_code'],\n",
    "        row['resprout_organ'], \n",
    "        row['seedbank'],\n",
    "        row['resprouts_live'], \n",
    "        row['adults_unburnt'], \n",
    "        row['resprouts_reproductive'],\n",
    "        row['resprouts_died'], \n",
    "        row['resprouts_kill'], \n",
    "        row['recruits_live'], \n",
    "        row['recruits_reproductive'], \n",
    "        row['recruits_died'],\n",
    "        ' // '.join(notes)\n",
    "    ])\n",
    "    ws.cell(k,4).font  = Font(italic=True, color=\"110110\")\n",
    "    for j in (1,2,3,5,6,9,10,11,12,13,14,15,16):\n",
    "        ws.cell(k,j).alignment=cent_align\n",
    "    for j in (17,):\n",
    "        ws.cell(k,j).alignment=wrap_align\n",
    "    k=k+1\n",
    "\n",
    "#tab = Table(displayName=\"SpeciesInSamples\", ref=\"A{}:Q{}\".format(2,ws.max_row))\n",
    "#tab.tableStyleInfo = table_style[\"Info\"]\n",
    "#ws.add_table(tab)\n",
    "ws.protection.sheet = True"
   ]
  },
  {
   "cell_type": "markdown",
   "id": "c63725cb-48da-4f3a-abdb-59340bb582fa",
   "metadata": {},
   "source": [
    "### `Sites` worksheet"
   ]
  },
  {
   "cell_type": "code",
   "execution_count": 19,
   "id": "1a49b939-99cf-438a-9ad4-72a162b6872b",
   "metadata": {},
   "outputs": [
    {
     "data": {
      "text/plain": [
       "['AlpAsh_40',\n",
       " 'c. 2 km down Elliot Way, 50m below road roughly opposite side track',\n",
       " Decimal('1105'),\n",
       " 148.3740887726979,\n",
       " -35.895680906884955,\n",
       " datetime.date(2021, 4, 16),\n",
       " None,\n",
       " 12,\n",
       " 'Jackie',\n",
       " 'Miles',\n",
       " ['Jackie Miles', ' Gen Wright', ' Michael Doherty'],\n",
       " 'KNP AlpAsh',\n",
       " datetime.date(2020, 1, 31)]"
      ]
     },
     "execution_count": 19,
     "metadata": {},
     "output_type": "execute_result"
    }
   ],
   "source": [
    "time_since_fire=sitelist[10]['visit_date'] - sitelist[10]['latest_fire']\n",
    "\"%s\" % time_since_fire\n",
    "time_since_fire.days\n",
    "sitelist[10]"
   ]
  },
  {
   "cell_type": "code",
   "execution_count": 20,
   "id": "4cc8b8a6-7472-4886-880f-5b19e70da564",
   "metadata": {},
   "outputs": [],
   "source": [
    "ws = wb[\"Sites\"]\n",
    "\n",
    "ws.append(['Survey','Site label','Location','Coordinates (WGS84)','Elevation', \n",
    "           'Visit date','Visit description', \n",
    "           'Main observer','All observers','Time since last fire (days)'])\n",
    "\n",
    "k=2\n",
    "for row in sitelist:\n",
    "    if row['latest_fire'] is not None:\n",
    "        time_since_fire=row['visit_date'] - row['latest_fire']\n",
    "        days_since_fire=time_since_fire.days\n",
    "        if days_since_fire > 365:\n",
    "            time_since_fire = \"%s years and %s days\" % (round(days_since_fire / 365),(days_since_fire % 365))\n",
    "        elif days_since_fire < 0:\n",
    "            time_since_fire = \"ERROR: mismatching dates\" \n",
    "        else :\n",
    "            time_since_fire = \"%s days\" % days_since_fire\n",
    "    else:\n",
    "        time_since_fire=None\n",
    "    if row['observerlist'] is not None:\n",
    "        allauthors=\"; \".join(row['observerlist'])\n",
    "    else:\n",
    "        allauthros=None\n",
    "    \n",
    "    if row['longitude'] is not None:\n",
    "        coords=\"%0.3f %0.3f\" % (row['longitude'],row['latitude'])\n",
    "    else:\n",
    "        coords=None\n",
    "    ws.append([\n",
    "        row['survey_name'],\n",
    "        row['site_label'],\n",
    "        row['location_description'],\n",
    "        coords,\n",
    "        row['elevation'],\n",
    "         \n",
    "        row['visit_date'], \n",
    "        row['visit_description'],\n",
    "         \"%s, %s\" % (row['surname'],row['givennames']),\n",
    "        allauthors, \n",
    "        time_since_fire\n",
    "    ])\n",
    "\n",
    "tab = Table(displayName=\"SiteList\", ref=\"A{}:J{}\".format(1,ws.max_row))\n",
    "tab.tableStyleInfo = table_style[\"Info\"]\n",
    "ws.add_table(tab)\n",
    "ws.protection.sheet = True"
   ]
  },
  {
   "cell_type": "markdown",
   "id": "fa22fc81-1c98-44e9-8482-1738cbc72365",
   "metadata": {
    "tags": []
   },
   "source": [
    "### `Vocabularies` worksheet"
   ]
  },
  {
   "cell_type": "markdown",
   "id": "98e9832f-eef4-4c51-bf8e-6de0224f6699",
   "metadata": {},
   "source": [
    "### Save workbook and close connection"
   ]
  },
  {
   "cell_type": "code",
   "execution_count": 21,
   "id": "499c421f-bba6-45ab-a147-bc43a4d741a0",
   "metadata": {},
   "outputs": [],
   "source": [
    "wb.save(inputdir / \"fireveg-field-report-model.xlsx\")"
   ]
  },
  {
   "cell_type": "code",
   "execution_count": null,
   "id": "e44e4e89-6e05-4fdc-9205-f2364c637c73",
   "metadata": {},
   "outputs": [],
   "source": []
  }
 ],
 "metadata": {
  "kernelspec": {
   "display_name": "Python 3 (ipykernel)",
   "language": "python",
   "name": "python3"
  },
  "language_info": {
   "codemirror_mode": {
    "name": "ipython",
    "version": 3
   },
   "file_extension": ".py",
   "mimetype": "text/x-python",
   "name": "python",
   "nbconvert_exporter": "python",
   "pygments_lexer": "ipython3",
   "version": "3.11.3"
  }
 },
 "nbformat": 4,
 "nbformat_minor": 5
}
