{
 "cells": [
  {
   "cell_type": "code",
   "execution_count": 1,
   "id": "a0a7f34d-3026-4729-853d-2949dd32d3ad",
   "metadata": {},
   "outputs": [],
   "source": [
    "from datetime import datetime, timedelta\n",
    "import ipyplot\n",
    "from dateutil.relativedelta import relativedelta\n",
    "from IPython.display import Image\n",
    "from pyinaturalist import (\n",
    "    ICONIC_TAXA,\n",
    "    Observation,\n",
    "    TaxonCount,\n",
    "    UserCount,\n",
    "    enable_logging,\n",
    "    get_observation_histogram,\n",
    "    get_observation_identifiers,\n",
    "    get_observation_observers,\n",
    "    get_observation_species_counts,\n",
    "    get_observations,\n",
    "    pprint,\n",
    ")\n",
    "from rich import print\n",
    "\n",
    "enable_logging()"
   ]
  },
  {
   "cell_type": "code",
   "execution_count": 2,
   "id": "3bb21407-baa5-453b-84df-695f1582740c",
   "metadata": {},
   "outputs": [
    {
     "data": {
      "text/html": [
       "<pre style=\"white-space:pre;overflow-x:auto;line-height:normal;font-family:Menlo,'DejaVu Sans Mono',consolas,'Courier New',monospace\"><span style=\"color: #7fbfbf; text-decoration-color: #7fbfbf\">[06-22 14:19:01] </span><span style=\"color: #000080; text-decoration-color: #000080\">INFO    </span> Request:                                                                   <a href=\"file:///home/jferrer/proyectos/venv/jupyterlab/lib/python3.10/site-packages/pyinaturalist/session.py\" target=\"_blank\"><span style=\"color: #7f7f7f; text-decoration-color: #7f7f7f\">session.py</span></a><span style=\"color: #7f7f7f; text-decoration-color: #7f7f7f\">:</span><a href=\"file:///home/jferrer/proyectos/venv/jupyterlab/lib/python3.10/site-packages/pyinaturalist/session.py#250\" target=\"_blank\"><span style=\"color: #7f7f7f; text-decoration-color: #7f7f7f\">250</span></a>\n",
       "<span style=\"color: #7fbfbf; text-decoration-color: #7fbfbf\">                 </span>         <span style=\"color: #808000; text-decoration-color: #808000; font-weight: bold\">GET</span>                                                                        <span style=\"color: #7f7f7f; text-decoration-color: #7f7f7f\">              </span>\n",
       "<span style=\"color: #7fbfbf; text-decoration-color: #7fbfbf\">                 </span>         <span style=\"color: #0000ff; text-decoration-color: #0000ff; text-decoration: underline\">https://api.inaturalist.org/v1/observations?taxon_name=Pimelea+bracteata&amp;p</span> <span style=\"color: #7f7f7f; text-decoration-color: #7f7f7f\">              </span>\n",
       "<span style=\"color: #7fbfbf; text-decoration-color: #7fbfbf\">                 </span>         <span style=\"color: #0000ff; text-decoration-color: #0000ff; text-decoration: underline\">er_page=3&amp;only_id=false</span>                                                    <span style=\"color: #7f7f7f; text-decoration-color: #7f7f7f\">              </span>\n",
       "<span style=\"color: #7fbfbf; text-decoration-color: #7fbfbf\">                 </span>         User-Agent: python-requests/<span style=\"color: #008080; text-decoration-color: #008080; font-weight: bold\">2.28</span>.<span style=\"color: #008080; text-decoration-color: #008080; font-weight: bold\">1</span> pyinaturalist/<span style=\"color: #008080; text-decoration-color: #008080; font-weight: bold\">0.18</span>.<span style=\"color: #008080; text-decoration-color: #008080; font-weight: bold\">0</span>                    <span style=\"color: #7f7f7f; text-decoration-color: #7f7f7f\">              </span>\n",
       "<span style=\"color: #7fbfbf; text-decoration-color: #7fbfbf\">                 </span>         Accept-Encoding: gzip, deflate                                             <span style=\"color: #7f7f7f; text-decoration-color: #7f7f7f\">              </span>\n",
       "<span style=\"color: #7fbfbf; text-decoration-color: #7fbfbf\">                 </span>         Accept: application/json                                                   <span style=\"color: #7f7f7f; text-decoration-color: #7f7f7f\">              </span>\n",
       "<span style=\"color: #7fbfbf; text-decoration-color: #7fbfbf\">                 </span>         Connection: keep-alive                                                     <span style=\"color: #7f7f7f; text-decoration-color: #7f7f7f\">              </span>\n",
       "<span style=\"color: #7fbfbf; text-decoration-color: #7fbfbf\">                 </span>                                                                                    <span style=\"color: #7f7f7f; text-decoration-color: #7f7f7f\">              </span>\n",
       "</pre>\n"
      ],
      "text/plain": [
       "\u001b[2;36m[06-22 14:19:01]\u001b[0m\u001b[2;36m \u001b[0m\u001b[34mINFO    \u001b[0m Request:                                                                   \u001b]8;id=470818;file:///home/jferrer/proyectos/venv/jupyterlab/lib/python3.10/site-packages/pyinaturalist/session.py\u001b\\\u001b[2msession.py\u001b[0m\u001b]8;;\u001b\\\u001b[2m:\u001b[0m\u001b]8;id=922212;file:///home/jferrer/proyectos/venv/jupyterlab/lib/python3.10/site-packages/pyinaturalist/session.py#250\u001b\\\u001b[2m250\u001b[0m\u001b]8;;\u001b\\\n",
       "\u001b[2;36m                 \u001b[0m         \u001b[1;33mGET\u001b[0m                                                                        \u001b[2m              \u001b[0m\n",
       "\u001b[2;36m                 \u001b[0m         \u001b[4;94mhttps://api.inaturalist.org/v1/observations?\u001b[0m\u001b[4;94mtaxon_name\u001b[0m\u001b[4;94m=\u001b[0m\u001b[4;94mPimelea\u001b[0m\u001b[4;94m+bracteata&\u001b[0m\u001b[4;94mp\u001b[0m \u001b[2m              \u001b[0m\n",
       "\u001b[2;36m                 \u001b[0m         \u001b[4;94mer_page\u001b[0m\u001b[4;94m=\u001b[0m\u001b[4;94m3\u001b[0m\u001b[4;94m&\u001b[0m\u001b[4;94monly_id\u001b[0m\u001b[4;94m=\u001b[0m\u001b[4;94mfalse\u001b[0m                                                    \u001b[2m              \u001b[0m\n",
       "\u001b[2;36m                 \u001b[0m         User-Agent: python-requests/\u001b[1;36m2.28\u001b[0m.\u001b[1;36m1\u001b[0m pyinaturalist/\u001b[1;36m0.18\u001b[0m.\u001b[1;36m0\u001b[0m                    \u001b[2m              \u001b[0m\n",
       "\u001b[2;36m                 \u001b[0m         Accept-Encoding: gzip, deflate                                             \u001b[2m              \u001b[0m\n",
       "\u001b[2;36m                 \u001b[0m         Accept: application/json                                                   \u001b[2m              \u001b[0m\n",
       "\u001b[2;36m                 \u001b[0m         Connection: keep-alive                                                     \u001b[2m              \u001b[0m\n",
       "\u001b[2;36m                 \u001b[0m                                                                                    \u001b[2m              \u001b[0m\n"
      ]
     },
     "metadata": {},
     "output_type": "display_data"
    },
    {
     "data": {
      "text/html": [
       "<pre style=\"white-space:pre;overflow-x:auto;line-height:normal;font-family:Menlo,'DejaVu Sans Mono',consolas,'Courier New',monospace\">                                                                                                                   \n",
       " <span style=\"color: #c0c0c0; text-decoration-color: #c0c0c0; font-weight: bold\"> ID        </span> <span style=\"color: #c0c0c0; text-decoration-color: #c0c0c0; font-weight: bold\"> Taxon ID </span> <span style=\"color: #c0c0c0; text-decoration-color: #c0c0c0; font-weight: bold\"> Taxon                      </span> <span style=\"color: #c0c0c0; text-decoration-color: #c0c0c0; font-weight: bold\"> Observed on  </span> <span style=\"color: #c0c0c0; text-decoration-color: #c0c0c0; font-weight: bold\"> User     </span> <span style=\"color: #c0c0c0; text-decoration-color: #c0c0c0; font-weight: bold\"> Location                          </span> \n",
       " ━━━━━━━━━━━━━━━━━━━━━━━━━━━━━━━━━━━━━━━━━━━━━━━━━━━━━━━━━━━━━━━━━━━━━━━━━━━━━━━━━━━━━━━━━━━━━━━━━━━━━━━━━━━━━━━━━ \n",
       " <span style=\"color: #7fbfbf; text-decoration-color: #7fbfbf\"> 154557147 </span> <span style=\"color: #7fbfbf; text-decoration-color: #7fbfbf\"> 894796   </span> <span style=\"color: #7fbf7f; text-decoration-color: #7fbf7f\"> Species: Pimelea bracteata </span> <span style=\"color: #7f7fbf; text-decoration-color: #7f7fbf\"> Mar 11, 2023 </span> <span style=\"color: #bf7fbf; text-decoration-color: #bf7fbf\"> onetapir </span> <span style=\"color: #dfdfdf; text-decoration-color: #dfdfdf\"> Kosciuszko National Park,         </span> \n",
       " <span style=\"color: #7fbfbf; text-decoration-color: #7fbfbf\">           </span> <span style=\"color: #7fbfbf; text-decoration-color: #7fbfbf\">          </span> <span style=\"color: #7fbf7f; text-decoration-color: #7fbf7f\">                            </span> <span style=\"color: #7f7fbf; text-decoration-color: #7f7fbf\">              </span> <span style=\"color: #bf7fbf; text-decoration-color: #bf7fbf\">          </span> <span style=\"color: #dfdfdf; text-decoration-color: #dfdfdf\"> Bimberi, NSW, AU                  </span> \n",
       " <span style=\"color: #008080; text-decoration-color: #008080\"> 154557033 </span> <span style=\"color: #008080; text-decoration-color: #008080\"> 894796   </span> <span style=\"color: #008000; text-decoration-color: #008000\"> Species: Pimelea bracteata </span> <span style=\"color: #000080; text-decoration-color: #000080\"> Mar 11, 2023 </span> <span style=\"color: #800080; text-decoration-color: #800080\"> onetapir </span> <span style=\"color: #c0c0c0; text-decoration-color: #c0c0c0\"> Kosciuszko National Park,         </span> \n",
       " <span style=\"color: #008080; text-decoration-color: #008080\">           </span> <span style=\"color: #008080; text-decoration-color: #008080\">          </span> <span style=\"color: #008000; text-decoration-color: #008000\">                            </span> <span style=\"color: #000080; text-decoration-color: #000080\">              </span> <span style=\"color: #800080; text-decoration-color: #800080\">          </span> <span style=\"color: #c0c0c0; text-decoration-color: #c0c0c0\"> Cooleman, NSW, AU                 </span> \n",
       " <span style=\"color: #7fbfbf; text-decoration-color: #7fbfbf\"> 154556283 </span> <span style=\"color: #7fbfbf; text-decoration-color: #7fbfbf\"> 894796   </span> <span style=\"color: #7fbf7f; text-decoration-color: #7fbf7f\"> Species: Pimelea bracteata </span> <span style=\"color: #7f7fbf; text-decoration-color: #7f7fbf\"> Mar 11, 2023 </span> <span style=\"color: #bf7fbf; text-decoration-color: #bf7fbf\"> onetapir </span> <span style=\"color: #dfdfdf; text-decoration-color: #dfdfdf\"> Kosciuszko National Park,         </span> \n",
       " <span style=\"color: #7fbfbf; text-decoration-color: #7fbfbf\">           </span> <span style=\"color: #7fbfbf; text-decoration-color: #7fbfbf\">          </span> <span style=\"color: #7fbf7f; text-decoration-color: #7fbf7f\">                            </span> <span style=\"color: #7f7fbf; text-decoration-color: #7f7fbf\">              </span> <span style=\"color: #bf7fbf; text-decoration-color: #bf7fbf\">          </span> <span style=\"color: #dfdfdf; text-decoration-color: #dfdfdf\"> Tantangara, NSW, AU               </span> \n",
       "                                                                                                                   \n",
       "</pre>\n"
      ],
      "text/plain": [
       "                                                                                                                   \n",
       " \u001b[1;37m \u001b[0m\u001b[1;37mID       \u001b[0m\u001b[1;37m \u001b[0m \u001b[1;37m \u001b[0m\u001b[1;37mTaxon ID\u001b[0m\u001b[1;37m \u001b[0m \u001b[1;37m \u001b[0m\u001b[1;37mTaxon                     \u001b[0m\u001b[1;37m \u001b[0m \u001b[1;37m \u001b[0m\u001b[1;37mObserved on \u001b[0m\u001b[1;37m \u001b[0m \u001b[1;37m \u001b[0m\u001b[1;37mUser    \u001b[0m\u001b[1;37m \u001b[0m \u001b[1;37m \u001b[0m\u001b[1;37mLocation                         \u001b[0m\u001b[1;37m \u001b[0m \n",
       " ━━━━━━━━━━━━━━━━━━━━━━━━━━━━━━━━━━━━━━━━━━━━━━━━━━━━━━━━━━━━━━━━━━━━━━━━━━━━━━━━━━━━━━━━━━━━━━━━━━━━━━━━━━━━━━━━━ \n",
       " \u001b[2;36m \u001b[0m\u001b[2;36m154557147\u001b[0m\u001b[2;36m \u001b[0m \u001b[2;36m \u001b[0m\u001b[2;36m894796  \u001b[0m\u001b[2;36m \u001b[0m \u001b[2;32m \u001b[0m\u001b[2;32mSpecies: Pimelea bracteata\u001b[0m\u001b[2;32m \u001b[0m \u001b[2;34m \u001b[0m\u001b[2;34mMar 11, 2023\u001b[0m\u001b[2;34m \u001b[0m \u001b[2;35m \u001b[0m\u001b[2;35monetapir\u001b[0m\u001b[2;35m \u001b[0m \u001b[2;37m \u001b[0m\u001b[2;37mKosciuszko National Park,        \u001b[0m\u001b[2;37m \u001b[0m \n",
       " \u001b[2;36m           \u001b[0m \u001b[2;36m          \u001b[0m \u001b[2;32m                            \u001b[0m \u001b[2;34m              \u001b[0m \u001b[2;35m          \u001b[0m \u001b[2;37m \u001b[0m\u001b[2;37mBimberi, NSW, AU                 \u001b[0m\u001b[2;37m \u001b[0m \n",
       " \u001b[36m \u001b[0m\u001b[36m154557033\u001b[0m\u001b[36m \u001b[0m \u001b[36m \u001b[0m\u001b[36m894796  \u001b[0m\u001b[36m \u001b[0m \u001b[32m \u001b[0m\u001b[32mSpecies: Pimelea bracteata\u001b[0m\u001b[32m \u001b[0m \u001b[34m \u001b[0m\u001b[34mMar 11, 2023\u001b[0m\u001b[34m \u001b[0m \u001b[35m \u001b[0m\u001b[35monetapir\u001b[0m\u001b[35m \u001b[0m \u001b[37m \u001b[0m\u001b[37mKosciuszko National Park,        \u001b[0m\u001b[37m \u001b[0m \n",
       " \u001b[36m           \u001b[0m \u001b[36m          \u001b[0m \u001b[32m                            \u001b[0m \u001b[34m              \u001b[0m \u001b[35m          \u001b[0m \u001b[37m \u001b[0m\u001b[37mCooleman, NSW, AU                \u001b[0m\u001b[37m \u001b[0m \n",
       " \u001b[2;36m \u001b[0m\u001b[2;36m154556283\u001b[0m\u001b[2;36m \u001b[0m \u001b[2;36m \u001b[0m\u001b[2;36m894796  \u001b[0m\u001b[2;36m \u001b[0m \u001b[2;32m \u001b[0m\u001b[2;32mSpecies: Pimelea bracteata\u001b[0m\u001b[2;32m \u001b[0m \u001b[2;34m \u001b[0m\u001b[2;34mMar 11, 2023\u001b[0m\u001b[2;34m \u001b[0m \u001b[2;35m \u001b[0m\u001b[2;35monetapir\u001b[0m\u001b[2;35m \u001b[0m \u001b[2;37m \u001b[0m\u001b[2;37mKosciuszko National Park,        \u001b[0m\u001b[2;37m \u001b[0m \n",
       " \u001b[2;36m           \u001b[0m \u001b[2;36m          \u001b[0m \u001b[2;32m                            \u001b[0m \u001b[2;34m              \u001b[0m \u001b[2;35m          \u001b[0m \u001b[2;37m \u001b[0m\u001b[2;37mTantangara, NSW, AU              \u001b[0m\u001b[2;37m \u001b[0m \n",
       "                                                                                                                   \n"
      ]
     },
     "metadata": {},
     "output_type": "display_data"
    }
   ],
   "source": [
    "observations = get_observations(taxon_name='Pimelea bracteata', per_page=3)\n",
    "pprint(observations)"
   ]
  },
  {
   "cell_type": "code",
   "execution_count": 3,
   "id": "78b90dcd-6084-4223-9f31-5ff77a9b7089",
   "metadata": {},
   "outputs": [],
   "source": [
    "my_observations = Observation.from_json_list(observations)"
   ]
  },
  {
   "cell_type": "code",
   "execution_count": 4,
   "id": "bae43756-1161-4da6-a71a-1a56a5ae38b3",
   "metadata": {},
   "outputs": [],
   "source": [
    "my_observations[0].photos[0].show()"
   ]
  },
  {
   "cell_type": "code",
   "execution_count": 14,
   "id": "40292525-0966-4bfe-b8c6-1d9f67773edb",
   "metadata": {},
   "outputs": [
    {
     "data": {
      "text/plain": [
       "Observation(id=154557147, created_at=datetime.datetime(2023, 4, 12, 22, 59, 51, tzinfo=tzoffset(None, 36000)), captive=False, community_taxon_id=None, description='', faves=[], geoprivacy=None, identifications_count=1, identifications_most_agree=False, identifications_most_disagree=False, identifications_some_agree=False, license_code='CC-BY-NC', location=(-35.6759133333, 148.7763216667), mappable=True, num_identification_agreements=0, num_identification_disagreements=0, oauth_application_id=3, obscured=False, observed_on=datetime.datetime(2023, 3, 11, 12, 36, 49, tzinfo=tzoffset(None, 39600)), outlinks=[], out_of_range=None, owners_identification_from_vision=False, place_guess='Kosciuszko National Park, Bimberi, NSW, AU', place_ids=[6744, 6825, 49053, 71910, 97393, 127585, 129293, 130634, 131457], positional_accuracy=55, preferences={'prefers_community_taxon': None}, private_location=None, private_place_ids=[], private_place_guess=None, project_ids=[71109], project_ids_with_curator_id=[], project_ids_without_curator_id=[71109], public_positional_accuracy=55, quality_grade='needs_id', quality_metrics=[], reviewed_by=[5159763], site_id=9, sounds=[], species_guess=None, tags=[], updated_at=datetime.datetime(2023, 4, 12, 23, 0, 25, tzinfo=tzoffset(None, 36000)), uri='https://www.inaturalist.org/observations/154557147', uuid='2fc84ff7-49ee-4ba2-9603-df368913f6b7', votes=[])"
      ]
     },
     "execution_count": 14,
     "metadata": {},
     "output_type": "execute_result"
    }
   ],
   "source": [
    "my_observations[0]"
   ]
  },
  {
   "cell_type": "code",
   "execution_count": 13,
   "id": "1d823eb0-d35a-4995-a93c-428db355d4e0",
   "metadata": {},
   "outputs": [
    {
     "data": {
      "text/html": [
       "\n",
       "    <style>\n",
       "        #ipyplot-html-viewer-toggle-P3sawHAmM5QzZgZ3tySfdf {\n",
       "            position: absolute;\n",
       "            top: -9999px;\n",
       "            left: -9999px;\n",
       "            visibility: hidden;\n",
       "        }\n",
       "\n",
       "        #ipyplot-html-viewer-label-P3sawHAmM5QzZgZ3tySfdf { \n",
       "            position: relative;\n",
       "            display: inline-block;\n",
       "            cursor: pointer;\n",
       "            color: blue;\n",
       "            text-decoration: underline;\n",
       "        }\n",
       "\n",
       "        #ipyplot-html-viewer-textarea-P3sawHAmM5QzZgZ3tySfdf {\n",
       "            background: lightgrey;\n",
       "            width: 100%;\n",
       "            height: 0px;\n",
       "            display: none;\n",
       "        }\n",
       "\n",
       "        #ipyplot-html-viewer-toggle-P3sawHAmM5QzZgZ3tySfdf:checked ~ #ipyplot-html-viewer-textarea-P3sawHAmM5QzZgZ3tySfdf {\n",
       "            height: 200px;\n",
       "            display: block;\n",
       "        }\n",
       "\n",
       "        #ipyplot-html-viewer-toggle-P3sawHAmM5QzZgZ3tySfdf:checked + #ipyplot-html-viewer-label-P3sawHAmM5QzZgZ3tySfdf:after {\n",
       "            content: \"hide html\";\n",
       "            position: absolute;\n",
       "            top: 0;\n",
       "            left: 0;\n",
       "            right: 0;\n",
       "            bottom: 0;\n",
       "            background: white;\n",
       "            cursor: pointer;\n",
       "            color: blue;\n",
       "            text-decoration: underline;\n",
       "        }\n",
       "    </style>\n",
       "    <div>\n",
       "        <input type=\"checkbox\" id=\"ipyplot-html-viewer-toggle-P3sawHAmM5QzZgZ3tySfdf\">\n",
       "        <label id=\"ipyplot-html-viewer-label-P3sawHAmM5QzZgZ3tySfdf\" for=\"ipyplot-html-viewer-toggle-P3sawHAmM5QzZgZ3tySfdf\">show html</label>\n",
       "        <textarea id=\"ipyplot-html-viewer-textarea-P3sawHAmM5QzZgZ3tySfdf\" readonly>\n",
       "            \n",
       "        <style>\n",
       "        #ipyplot-imgs-container-div-KBQJc9CsJezuT9iBY3re9m {\n",
       "            width: 100%;\n",
       "            height: 100%;\n",
       "            margin: 0%;\n",
       "            overflow: auto;\n",
       "            position: relative;\n",
       "            overflow-y: scroll;\n",
       "        }\n",
       "\n",
       "        div.ipyplot-placeholder-div-KBQJc9CsJezuT9iBY3re9m {\n",
       "            width: 150px;\n",
       "            display: inline-block;\n",
       "            margin: 3px;\n",
       "            position: relative;\n",
       "        }\n",
       "\n",
       "        div.ipyplot-content-div-KBQJc9CsJezuT9iBY3re9m {\n",
       "            width: 150px;\n",
       "            background: white;\n",
       "            display: inline-block;\n",
       "            vertical-align: top;\n",
       "            text-align: center;\n",
       "            position: relative;\n",
       "            border: 2px solid #ddd;\n",
       "            top: 0;\n",
       "            left: 0;\n",
       "        }\n",
       "\n",
       "        div.ipyplot-content-div-KBQJc9CsJezuT9iBY3re9m span.ipyplot-img-close {\n",
       "            display: none;\n",
       "        }\n",
       "\n",
       "        div.ipyplot-content-div-KBQJc9CsJezuT9iBY3re9m span {\n",
       "            width: 100%;\n",
       "            height: 100%;\n",
       "            position: absolute;\n",
       "            top: 0;\n",
       "            left: 0;\n",
       "        }\n",
       "\n",
       "        div.ipyplot-content-div-KBQJc9CsJezuT9iBY3re9m img {\n",
       "            width: 150px;\n",
       "        }\n",
       "\n",
       "        div.ipyplot-content-div-KBQJc9CsJezuT9iBY3re9m span.ipyplot-img-close:hover {\n",
       "            cursor: zoom-out;\n",
       "        }\n",
       "        div.ipyplot-content-div-KBQJc9CsJezuT9iBY3re9m span.ipyplot-img-expand:hover {\n",
       "            cursor: zoom-in;\n",
       "        }\n",
       "\n",
       "        div[id^=ipyplot-content-div-KBQJc9CsJezuT9iBY3re9m]:target {\n",
       "            transform: scale(2.5);\n",
       "            transform-origin: left top;\n",
       "            z-index: 5000;\n",
       "            top: 0;\n",
       "            left: 0;\n",
       "            position: absolute;\n",
       "        }\n",
       "\n",
       "        div[id^=ipyplot-content-div-KBQJc9CsJezuT9iBY3re9m]:target span.ipyplot-img-close {\n",
       "            display: block;\n",
       "        }\n",
       "\n",
       "        div[id^=ipyplot-content-div-KBQJc9CsJezuT9iBY3re9m]:target span.ipyplot-img-expand {\n",
       "            display: none;\n",
       "        }\n",
       "        </style>\n",
       "    <div id=\"ipyplot-imgs-container-div-KBQJc9CsJezuT9iBY3re9m\">\n",
       "    <div class=\"ipyplot-placeholder-div-KBQJc9CsJezuT9iBY3re9m\">\n",
       "        <div id=\"ipyplot-content-div-KBQJc9CsJezuT9iBY3re9m-DVxzgmWVBmLd6XYTGm9qii\" class=\"ipyplot-content-div-KBQJc9CsJezuT9iBY3re9m\">\n",
       "            <h4 style=\"font-size: 12px; word-wrap: break-word;\">Observation(id=154557147, taxon=Taxon(id=894796, full_name=Species: Pimelea bracteata), observed_on=Mar 11, 2023, user=User(id=5159763, login=onetapir, name=Ciaran Ernst-Russell), place_guess=Kosciuszko National Park, Bimberi, NSW, AU)</h4>\n",
       "            <h4 style=\"font-size: 9px; padding-left: 10px; padding-right: 10px; width: 95%; word-wrap: break-word; white-space: normal;\">https://inaturalist-open-data.s3.amazonaws.com/photos/267070006/small.jpg</h4><img src=\"https://inaturalist-open-data.s3.amazonaws.com/photos/267070006/small.jpg\"/>\n",
       "            <a href=\"#!\">\n",
       "                <span class=\"ipyplot-img-close\"/>\n",
       "            </a>\n",
       "            <a href=\"#ipyplot-content-div-KBQJc9CsJezuT9iBY3re9m-DVxzgmWVBmLd6XYTGm9qii\">\n",
       "                <span class=\"ipyplot-img-expand\"/>\n",
       "            </a>\n",
       "        </div>\n",
       "    </div>\n",
       "    \n",
       "    <div class=\"ipyplot-placeholder-div-KBQJc9CsJezuT9iBY3re9m\">\n",
       "        <div id=\"ipyplot-content-div-KBQJc9CsJezuT9iBY3re9m-kSJPpX5j4HbhGKa8UEtG8v\" class=\"ipyplot-content-div-KBQJc9CsJezuT9iBY3re9m\">\n",
       "            <h4 style=\"font-size: 12px; word-wrap: break-word;\">Observation(id=154557033, taxon=Taxon(id=894796, full_name=Species: Pimelea bracteata), observed_on=Mar 11, 2023, user=User(id=5159763, login=onetapir, name=Ciaran Ernst-Russell), place_guess=Kosciuszko National Park, Cooleman, NSW, AU)</h4>\n",
       "            <h4 style=\"font-size: 9px; padding-left: 10px; padding-right: 10px; width: 95%; word-wrap: break-word; white-space: normal;\">https://inaturalist-open-data.s3.amazonaws.com/photos/267069824/small.jpg</h4><img src=\"https://inaturalist-open-data.s3.amazonaws.com/photos/267069824/small.jpg\"/>\n",
       "            <a href=\"#!\">\n",
       "                <span class=\"ipyplot-img-close\"/>\n",
       "            </a>\n",
       "            <a href=\"#ipyplot-content-div-KBQJc9CsJezuT9iBY3re9m-kSJPpX5j4HbhGKa8UEtG8v\">\n",
       "                <span class=\"ipyplot-img-expand\"/>\n",
       "            </a>\n",
       "        </div>\n",
       "    </div>\n",
       "    \n",
       "    <div class=\"ipyplot-placeholder-div-KBQJc9CsJezuT9iBY3re9m\">\n",
       "        <div id=\"ipyplot-content-div-KBQJc9CsJezuT9iBY3re9m-L4iuVRefkyphujgHR79dFp\" class=\"ipyplot-content-div-KBQJc9CsJezuT9iBY3re9m\">\n",
       "            <h4 style=\"font-size: 12px; word-wrap: break-word;\">Observation(id=154556283, taxon=Taxon(id=894796, full_name=Species: Pimelea bracteata), observed_on=Mar 11, 2023, user=User(id=5159763, login=onetapir, name=Ciaran Ernst-Russell), place_guess=Kosciuszko National Park, Tantangara, NSW, AU)</h4>\n",
       "            <h4 style=\"font-size: 9px; padding-left: 10px; padding-right: 10px; width: 95%; word-wrap: break-word; white-space: normal;\">https://inaturalist-open-data.s3.amazonaws.com/photos/267068438/small.jpg</h4><img src=\"https://inaturalist-open-data.s3.amazonaws.com/photos/267068438/small.jpg\"/>\n",
       "            <a href=\"#!\">\n",
       "                <span class=\"ipyplot-img-close\"/>\n",
       "            </a>\n",
       "            <a href=\"#ipyplot-content-div-KBQJc9CsJezuT9iBY3re9m-L4iuVRefkyphujgHR79dFp\">\n",
       "                <span class=\"ipyplot-img-expand\"/>\n",
       "            </a>\n",
       "        </div>\n",
       "    </div>\n",
       "    </div>\n",
       "        </textarea>\n",
       "    </div>\n",
       "    "
      ],
      "text/plain": [
       "<IPython.core.display.HTML object>"
      ]
     },
     "metadata": {},
     "output_type": "display_data"
    },
    {
     "data": {
      "text/html": [
       "\n",
       "        <style>\n",
       "        #ipyplot-imgs-container-div-KBQJc9CsJezuT9iBY3re9m {\n",
       "            width: 100%;\n",
       "            height: 100%;\n",
       "            margin: 0%;\n",
       "            overflow: auto;\n",
       "            position: relative;\n",
       "            overflow-y: scroll;\n",
       "        }\n",
       "\n",
       "        div.ipyplot-placeholder-div-KBQJc9CsJezuT9iBY3re9m {\n",
       "            width: 150px;\n",
       "            display: inline-block;\n",
       "            margin: 3px;\n",
       "            position: relative;\n",
       "        }\n",
       "\n",
       "        div.ipyplot-content-div-KBQJc9CsJezuT9iBY3re9m {\n",
       "            width: 150px;\n",
       "            background: white;\n",
       "            display: inline-block;\n",
       "            vertical-align: top;\n",
       "            text-align: center;\n",
       "            position: relative;\n",
       "            border: 2px solid #ddd;\n",
       "            top: 0;\n",
       "            left: 0;\n",
       "        }\n",
       "\n",
       "        div.ipyplot-content-div-KBQJc9CsJezuT9iBY3re9m span.ipyplot-img-close {\n",
       "            display: none;\n",
       "        }\n",
       "\n",
       "        div.ipyplot-content-div-KBQJc9CsJezuT9iBY3re9m span {\n",
       "            width: 100%;\n",
       "            height: 100%;\n",
       "            position: absolute;\n",
       "            top: 0;\n",
       "            left: 0;\n",
       "        }\n",
       "\n",
       "        div.ipyplot-content-div-KBQJc9CsJezuT9iBY3re9m img {\n",
       "            width: 150px;\n",
       "        }\n",
       "\n",
       "        div.ipyplot-content-div-KBQJc9CsJezuT9iBY3re9m span.ipyplot-img-close:hover {\n",
       "            cursor: zoom-out;\n",
       "        }\n",
       "        div.ipyplot-content-div-KBQJc9CsJezuT9iBY3re9m span.ipyplot-img-expand:hover {\n",
       "            cursor: zoom-in;\n",
       "        }\n",
       "\n",
       "        div[id^=ipyplot-content-div-KBQJc9CsJezuT9iBY3re9m]:target {\n",
       "            transform: scale(2.5);\n",
       "            transform-origin: left top;\n",
       "            z-index: 5000;\n",
       "            top: 0;\n",
       "            left: 0;\n",
       "            position: absolute;\n",
       "        }\n",
       "\n",
       "        div[id^=ipyplot-content-div-KBQJc9CsJezuT9iBY3re9m]:target span.ipyplot-img-close {\n",
       "            display: block;\n",
       "        }\n",
       "\n",
       "        div[id^=ipyplot-content-div-KBQJc9CsJezuT9iBY3re9m]:target span.ipyplot-img-expand {\n",
       "            display: none;\n",
       "        }\n",
       "        </style>\n",
       "    <div id=\"ipyplot-imgs-container-div-KBQJc9CsJezuT9iBY3re9m\">\n",
       "    <div class=\"ipyplot-placeholder-div-KBQJc9CsJezuT9iBY3re9m\">\n",
       "        <div id=\"ipyplot-content-div-KBQJc9CsJezuT9iBY3re9m-DVxzgmWVBmLd6XYTGm9qii\" class=\"ipyplot-content-div-KBQJc9CsJezuT9iBY3re9m\">\n",
       "            <h4 style=\"font-size: 12px; word-wrap: break-word;\">Observation(id=154557147, taxon=Taxon(id=894796, full_name=Species: Pimelea bracteata), observed_on=Mar 11, 2023, user=User(id=5159763, login=onetapir, name=Ciaran Ernst-Russell), place_guess=Kosciuszko National Park, Bimberi, NSW, AU)</h4>\n",
       "            <h4 style=\"font-size: 9px; padding-left: 10px; padding-right: 10px; width: 95%; word-wrap: break-word; white-space: normal;\">https://inaturalist-open-data.s3.amazonaws.com/photos/267070006/small.jpg</h4><img src=\"https://inaturalist-open-data.s3.amazonaws.com/photos/267070006/small.jpg\"/>\n",
       "            <a href=\"#!\">\n",
       "                <span class=\"ipyplot-img-close\"/>\n",
       "            </a>\n",
       "            <a href=\"#ipyplot-content-div-KBQJc9CsJezuT9iBY3re9m-DVxzgmWVBmLd6XYTGm9qii\">\n",
       "                <span class=\"ipyplot-img-expand\"/>\n",
       "            </a>\n",
       "        </div>\n",
       "    </div>\n",
       "    \n",
       "    <div class=\"ipyplot-placeholder-div-KBQJc9CsJezuT9iBY3re9m\">\n",
       "        <div id=\"ipyplot-content-div-KBQJc9CsJezuT9iBY3re9m-kSJPpX5j4HbhGKa8UEtG8v\" class=\"ipyplot-content-div-KBQJc9CsJezuT9iBY3re9m\">\n",
       "            <h4 style=\"font-size: 12px; word-wrap: break-word;\">Observation(id=154557033, taxon=Taxon(id=894796, full_name=Species: Pimelea bracteata), observed_on=Mar 11, 2023, user=User(id=5159763, login=onetapir, name=Ciaran Ernst-Russell), place_guess=Kosciuszko National Park, Cooleman, NSW, AU)</h4>\n",
       "            <h4 style=\"font-size: 9px; padding-left: 10px; padding-right: 10px; width: 95%; word-wrap: break-word; white-space: normal;\">https://inaturalist-open-data.s3.amazonaws.com/photos/267069824/small.jpg</h4><img src=\"https://inaturalist-open-data.s3.amazonaws.com/photos/267069824/small.jpg\"/>\n",
       "            <a href=\"#!\">\n",
       "                <span class=\"ipyplot-img-close\"/>\n",
       "            </a>\n",
       "            <a href=\"#ipyplot-content-div-KBQJc9CsJezuT9iBY3re9m-kSJPpX5j4HbhGKa8UEtG8v\">\n",
       "                <span class=\"ipyplot-img-expand\"/>\n",
       "            </a>\n",
       "        </div>\n",
       "    </div>\n",
       "    \n",
       "    <div class=\"ipyplot-placeholder-div-KBQJc9CsJezuT9iBY3re9m\">\n",
       "        <div id=\"ipyplot-content-div-KBQJc9CsJezuT9iBY3re9m-L4iuVRefkyphujgHR79dFp\" class=\"ipyplot-content-div-KBQJc9CsJezuT9iBY3re9m\">\n",
       "            <h4 style=\"font-size: 12px; word-wrap: break-word;\">Observation(id=154556283, taxon=Taxon(id=894796, full_name=Species: Pimelea bracteata), observed_on=Mar 11, 2023, user=User(id=5159763, login=onetapir, name=Ciaran Ernst-Russell), place_guess=Kosciuszko National Park, Tantangara, NSW, AU)</h4>\n",
       "            <h4 style=\"font-size: 9px; padding-left: 10px; padding-right: 10px; width: 95%; word-wrap: break-word; white-space: normal;\">https://inaturalist-open-data.s3.amazonaws.com/photos/267068438/small.jpg</h4><img src=\"https://inaturalist-open-data.s3.amazonaws.com/photos/267068438/small.jpg\"/>\n",
       "            <a href=\"#!\">\n",
       "                <span class=\"ipyplot-img-close\"/>\n",
       "            </a>\n",
       "            <a href=\"#ipyplot-content-div-KBQJc9CsJezuT9iBY3re9m-L4iuVRefkyphujgHR79dFp\">\n",
       "                <span class=\"ipyplot-img-expand\"/>\n",
       "            </a>\n",
       "        </div>\n",
       "    </div>\n",
       "    </div>"
      ],
      "text/plain": [
       "<IPython.core.display.HTML object>"
      ]
     },
     "metadata": {},
     "output_type": "display_data"
    }
   ],
   "source": [
    "images = [obs.photos[0].small_url for obs in my_observations[:15]]\n",
    "labels = [str(obs) for obs in my_observations[:15]]\n",
    "ipyplot.plot_images(images, labels)"
   ]
  },
  {
   "cell_type": "code",
   "execution_count": 12,
   "id": "0d429efb-6baf-48d1-b6dd-ee1d292ecae7",
   "metadata": {},
   "outputs": [
    {
     "data": {
      "text/plain": [
       "'https://inaturalist-open-data.s3.amazonaws.com/photos/267069824/small.jpg'"
      ]
     },
     "execution_count": 12,
     "metadata": {},
     "output_type": "execute_result"
    }
   ],
   "source": [
    "my_observations[1].photos[0].small_url"
   ]
  },
  {
   "cell_type": "code",
   "execution_count": 9,
   "id": "38429a1d-dbb3-43f8-95c1-08d696036e92",
   "metadata": {},
   "outputs": [],
   "source": [
    "response = get_taxa(q='Pimelea bracteata', rank=['species'])\n",
    "taxa = Taxon.from_json_list(response)\n"
   ]
  },
  {
   "cell_type": "code",
   "execution_count": 11,
   "id": "20b69703-6a61-4e6e-9203-35ac9b8394a2",
   "metadata": {},
   "outputs": [
    {
     "data": {
      "text/html": [
       "<pre style=\"white-space:pre;overflow-x:auto;line-height:normal;font-family:Menlo,'DejaVu Sans Mono',consolas,'Courier New',monospace\">                                                         \n",
       " <span style=\"color: #c0c0c0; text-decoration-color: #c0c0c0; font-weight: bold\"> ID     </span> <span style=\"color: #c0c0c0; text-decoration-color: #c0c0c0; font-weight: bold\"> Rank    </span> <span style=\"color: #c0c0c0; text-decoration-color: #c0c0c0; font-weight: bold\"> Scientific name      </span> <span style=\"color: #c0c0c0; text-decoration-color: #c0c0c0; font-weight: bold\"> Common name </span> \n",
       " ━━━━━━━━━━━━━━━━━━━━━━━━━━━━━━━━━━━━━━━━━━━━━━━━━━━━━━━ \n",
       " <span style=\"color: #7fbfbf; text-decoration-color: #7fbfbf\"> 894796 </span> <span style=\"color: #ebc3ff; text-decoration-color: #ebc3ff\"> species </span> <span style=\"color: #7fbf7f; text-decoration-color: #7fbf7f\"> 🌺 Pimelea bracteata </span> <span style=\"color: #7f7fbf; text-decoration-color: #7f7fbf\">             </span> \n",
       "                                                         \n",
       "</pre>\n"
      ],
      "text/plain": [
       "                                                         \n",
       " \u001b[1;37m \u001b[0m\u001b[1;37mID    \u001b[0m\u001b[1;37m \u001b[0m \u001b[1;37m \u001b[0m\u001b[1;37mRank   \u001b[0m\u001b[1;37m \u001b[0m \u001b[1;37m \u001b[0m\u001b[1;37mScientific name     \u001b[0m\u001b[1;37m \u001b[0m \u001b[1;37m \u001b[0m\u001b[1;37mCommon name\u001b[0m\u001b[1;37m \u001b[0m \n",
       " ━━━━━━━━━━━━━━━━━━━━━━━━━━━━━━━━━━━━━━━━━━━━━━━━━━━━━━━ \n",
       " \u001b[2;36m \u001b[0m\u001b[2;36m894796\u001b[0m\u001b[2;36m \u001b[0m \u001b[2;38;5;177m \u001b[0m\u001b[2;38;5;177mspecies\u001b[0m\u001b[2;38;5;177m \u001b[0m \u001b[2;32m \u001b[0m\u001b[2;32m🌺 Pimelea bracteata\u001b[0m\u001b[2;32m \u001b[0m \u001b[2;34m \u001b[0m\u001b[2;34m           \u001b[0m\u001b[2;34m \u001b[0m \n",
       "                                                         \n"
      ]
     },
     "metadata": {},
     "output_type": "display_data"
    }
   ],
   "source": [
    "pprint(taxa)"
   ]
  },
  {
   "cell_type": "code",
   "execution_count": null,
   "id": "30900e4f-23e6-441c-a63b-e7bad695a47e",
   "metadata": {},
   "outputs": [],
   "source": []
  }
 ],
 "metadata": {
  "kernelspec": {
   "display_name": "Python 3 (ipykernel)",
   "language": "python",
   "name": "python3"
  },
  "language_info": {
   "codemirror_mode": {
    "name": "ipython",
    "version": 3
   },
   "file_extension": ".py",
   "mimetype": "text/x-python",
   "name": "python",
   "nbconvert_exporter": "python",
   "pygments_lexer": "ipython3",
   "version": "3.11.3"
  }
 },
 "nbformat": 4,
 "nbformat_minor": 5
}
