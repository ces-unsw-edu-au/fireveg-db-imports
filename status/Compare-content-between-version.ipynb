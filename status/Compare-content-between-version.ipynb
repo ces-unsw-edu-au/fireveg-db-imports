{
 "cells": [
  {
   "cell_type": "markdown",
   "id": "04d1b46b-667c-454a-9d20-8b78558d5854",
   "metadata": {},
   "source": [
    "# Fireveg DB imports -- Compare content of database between versions\n",
    "\n",
    "Author: [José R. Ferrer-Paris](https://github.com/jrfep)\n",
    "\n",
    "Date: 20 August 2024\n",
    "\n",
    "This Jupyter Notebook includes [Python](https://www.python.org) code to check the status of the Fireveg database.\n",
    "\n",
    "We will compare between two versions with different connection parameters:\n",
    "- **version 1.0** \n",
    "- **version 1.1**\n",
    "\n",
    "\n",
    "**Please note:**\n",
    "<div class=\"alert alert-warning\">\n",
    "    This repository contains code that is intended for internal project management and is documented for the sake of reproducibility.<br/>\n",
    "    🛂 Only users contributing directly to the project have access to the credentials for data download/upload. \n",
    "</div>"
   ]
  },
  {
   "cell_type": "markdown",
   "id": "453cd2ce-3f82-4112-827a-06cf494f9679",
   "metadata": {},
   "source": [
    "## Set-up\n",
    "### Load modules"
   ]
  },
  {
   "cell_type": "code",
   "execution_count": 1,
   "id": "c382ec6c-051e-4f98-a694-82d66dedcfba",
   "metadata": {},
   "outputs": [],
   "source": [
    "# work with paths in operating system\n",
    "from pathlib import Path\n",
    "import os, sys\n",
    "import pandas as pd\n",
    "from IPython.display import display, Markdown\n",
    "# Pyprojroot for easier handling of working directory\n",
    "import pyprojroot"
   ]
  },
  {
   "cell_type": "markdown",
   "id": "b9675895-4cb1-49c3-98e6-a1cf39165f29",
   "metadata": {},
   "source": [
    "### Define paths for input and output"
   ]
  },
  {
   "cell_type": "markdown",
   "id": "1225f22e-ec50-47dd-a97a-63df9dfb7a1d",
   "metadata": {},
   "source": [
    "Define project directory using the `pyprojroot` functions, and add this to the execution path."
   ]
  },
  {
   "cell_type": "code",
   "execution_count": 2,
   "id": "8878fc47-cf4b-4dc7-8b64-90c673282e6d",
   "metadata": {},
   "outputs": [],
   "source": [
    "repodir = pyprojroot.find_root(pyprojroot.has_dir(\".git\"))\n",
    "sys.path.append(str(repodir))"
   ]
  },
  {
   "cell_type": "markdown",
   "id": "8bdd6f20-8941-4f04-8d28-f7d3452ecc33",
   "metadata": {},
   "source": [
    "### Load own functions\n",
    "Load functions from `lib` folder, we will use a function to read db credentials, one for executing database queries and three functions for extracting data from the reference description string"
   ]
  },
  {
   "cell_type": "code",
   "execution_count": 3,
   "id": "134ea732-c369-4993-bf21-001eed5ec07a",
   "metadata": {},
   "outputs": [],
   "source": [
    "from lib.parseparams import read_dbparams\n",
    "from lib.firevegdb import dbquery"
   ]
  },
  {
   "cell_type": "markdown",
   "id": "c6d86ec2-91fb-4b56-b0e5-15ac5a70ed9d",
   "metadata": {},
   "source": [
    "### Database credentials\n",
    "\n",
    "🤫 We use a folder named \"secrets\" to keep the credentials for connection to different services (database credentials, API keys, etc). This checked this folder in our `.gitignore` so that its content are not tracked by git and not exposed. Future users need to copy the contents of this folder manually.\n",
    "\n",
    "We read database credentials stored in a `database.ini` file using our own `read_dbparams` function."
   ]
  },
  {
   "cell_type": "markdown",
   "id": "e9dbb74b-1dca-463e-8db5-c755ca42beda",
   "metadata": {},
   "source": [
    "Compare versions v1.0 and v1.1."
   ]
  },
  {
   "cell_type": "code",
   "execution_count": 4,
   "id": "f92c15ce-156e-46e1-b0eb-03ebb15cf6d9",
   "metadata": {},
   "outputs": [],
   "source": [
    "db_v1_0 = read_dbparams(repodir / 'secrets' / 'database.ini', \n",
    "                         section='fireveg-db-v1.0')\n",
    "db_v1_1 = read_dbparams(repodir / 'secrets' / 'database.ini', \n",
    "                         section='fireveg-db-v1.1')"
   ]
  },
  {
   "cell_type": "markdown",
   "id": "48a7e502-3cd4-425c-82cb-34e56c16e153",
   "metadata": {},
   "source": [
    "## What is in the database"
   ]
  },
  {
   "cell_type": "markdown",
   "id": "08bedbc4-ec66-4e33-8e61-876cc82643a2",
   "metadata": {},
   "source": [
    "### Field work\n",
    "Here we query all visits and samples:"
   ]
  },
  {
   "cell_type": "code",
   "execution_count": 5,
   "id": "555b5be8-951c-43bc-b5e6-513b74487de5",
   "metadata": {},
   "outputs": [],
   "source": [
    "qry = \"\"\"\n",
    "SELECT survey_name,visit_id,visit_date,CONCAT(givennames,' ', surname) as observer,\n",
    "COUNT(distinct sample_nr) as samples,\n",
    "COUNT(distinct record_id) as records\n",
    "FROM form.field_visit\n",
    "LEFT JOIN form.observerid\n",
    " ON mainobserver=userkey\n",
    "LEFT JOIN form.field_samples\n",
    " USING(visit_id,visit_date)\n",
    "LEFT JOIN form.quadrat_samples\n",
    " USING(visit_id,visit_date,sample_nr)\n",
    "GROUP BY survey_name,visit_id,visit_date,observer\n",
    ";\n",
    "\"\"\"\n",
    "\n",
    "colnames=['survey','site_label','visit_date','observer','samples','records']\n"
   ]
  },
  {
   "cell_type": "code",
   "execution_count": 6,
   "id": "001bc9aa-9bc0-4d2d-9426-66227796330c",
   "metadata": {},
   "outputs": [],
   "source": [
    "res = dbquery(qry,db_v1_0)\n",
    "site_visits_v1_0 = pd.DataFrame(res,columns=colnames)\n",
    "res = dbquery(qry,db_v1_1)\n",
    "site_visits_v1_1 = pd.DataFrame(res,columns=colnames)\n"
   ]
  },
  {
   "cell_type": "code",
   "execution_count": 10,
   "id": "908aa4b9-1bfd-447b-a673-27a6f44297a9",
   "metadata": {},
   "outputs": [
    {
     "data": {
      "text/html": [
       "<div>\n",
       "<style scoped>\n",
       "    .dataframe tbody tr th:only-of-type {\n",
       "        vertical-align: middle;\n",
       "    }\n",
       "\n",
       "    .dataframe tbody tr th {\n",
       "        vertical-align: top;\n",
       "    }\n",
       "\n",
       "    .dataframe thead th {\n",
       "        text-align: right;\n",
       "    }\n",
       "</style>\n",
       "<table border=\"1\" class=\"dataframe\">\n",
       "  <thead>\n",
       "    <tr style=\"text-align: right;\">\n",
       "      <th></th>\n",
       "      <th>survey</th>\n",
       "      <th>site_label</th>\n",
       "      <th>visit_date</th>\n",
       "      <th>observer</th>\n",
       "      <th>samples</th>\n",
       "      <th>records</th>\n",
       "    </tr>\n",
       "  </thead>\n",
       "  <tbody>\n",
       "    <tr>\n",
       "      <th>0</th>\n",
       "      <td>KNP AlpAsh</td>\n",
       "      <td>AlpAsh_18</td>\n",
       "      <td>2021-04-15</td>\n",
       "      <td>Jackie Miles</td>\n",
       "      <td>4</td>\n",
       "      <td>118</td>\n",
       "    </tr>\n",
       "    <tr>\n",
       "      <th>1</th>\n",
       "      <td>KNP AlpAsh</td>\n",
       "      <td>AlpAsh_19</td>\n",
       "      <td>2021-04-13</td>\n",
       "      <td>Jackie Miles</td>\n",
       "      <td>4</td>\n",
       "      <td>49</td>\n",
       "    </tr>\n",
       "    <tr>\n",
       "      <th>2</th>\n",
       "      <td>KNP AlpAsh</td>\n",
       "      <td>AlpAsh_25</td>\n",
       "      <td>2021-04-15</td>\n",
       "      <td>Jackie Miles</td>\n",
       "      <td>4</td>\n",
       "      <td>102</td>\n",
       "    </tr>\n",
       "    <tr>\n",
       "      <th>3</th>\n",
       "      <td>KNP AlpAsh</td>\n",
       "      <td>AlpAsh_26</td>\n",
       "      <td>2021-04-14</td>\n",
       "      <td>Jackie Miles</td>\n",
       "      <td>4</td>\n",
       "      <td>108</td>\n",
       "    </tr>\n",
       "    <tr>\n",
       "      <th>4</th>\n",
       "      <td>KNP AlpAsh</td>\n",
       "      <td>AlpAsh_40</td>\n",
       "      <td>2021-04-16</td>\n",
       "      <td>Jackie Miles</td>\n",
       "      <td>4</td>\n",
       "      <td>94</td>\n",
       "    </tr>\n",
       "    <tr>\n",
       "      <th>...</th>\n",
       "      <td>...</td>\n",
       "      <td>...</td>\n",
       "      <td>...</td>\n",
       "      <td>...</td>\n",
       "      <td>...</td>\n",
       "      <td>...</td>\n",
       "    </tr>\n",
       "    <tr>\n",
       "      <th>240</th>\n",
       "      <td>Rainforests NSW-Qld</td>\n",
       "      <td>TOOL_1_UNSW</td>\n",
       "      <td>2020-12-02</td>\n",
       "      <td>Robert Kooyman</td>\n",
       "      <td>6</td>\n",
       "      <td>165</td>\n",
       "    </tr>\n",
       "    <tr>\n",
       "      <th>241</th>\n",
       "      <td>SthnNSWRF</td>\n",
       "      <td>UppClyde1</td>\n",
       "      <td>2021-11-29</td>\n",
       "      <td>David Keith</td>\n",
       "      <td>0</td>\n",
       "      <td>0</td>\n",
       "    </tr>\n",
       "    <tr>\n",
       "      <th>242</th>\n",
       "      <td>UplandBasalt</td>\n",
       "      <td>WINGE115</td>\n",
       "      <td>2016-01-08</td>\n",
       "      <td>Alexandria Thomsen</td>\n",
       "      <td>0</td>\n",
       "      <td>0</td>\n",
       "    </tr>\n",
       "    <tr>\n",
       "      <th>243</th>\n",
       "      <td>UplandBasalt</td>\n",
       "      <td>WINGE115</td>\n",
       "      <td>2020-11-12</td>\n",
       "      <td>Alexandria Thomsen</td>\n",
       "      <td>3</td>\n",
       "      <td>45</td>\n",
       "    </tr>\n",
       "    <tr>\n",
       "      <th>244</th>\n",
       "      <td>UplandBasalt</td>\n",
       "      <td>WSC-GC-37</td>\n",
       "      <td>2020-10-15</td>\n",
       "      <td>Jedda Lemmen</td>\n",
       "      <td>5</td>\n",
       "      <td>53</td>\n",
       "    </tr>\n",
       "  </tbody>\n",
       "</table>\n",
       "<p>245 rows × 6 columns</p>\n",
       "</div>"
      ],
      "text/plain": [
       "                  survey   site_label  visit_date            observer   \n",
       "0             KNP AlpAsh    AlpAsh_18  2021-04-15        Jackie Miles  \\\n",
       "1             KNP AlpAsh    AlpAsh_19  2021-04-13        Jackie Miles   \n",
       "2             KNP AlpAsh    AlpAsh_25  2021-04-15        Jackie Miles   \n",
       "3             KNP AlpAsh    AlpAsh_26  2021-04-14        Jackie Miles   \n",
       "4             KNP AlpAsh    AlpAsh_40  2021-04-16        Jackie Miles   \n",
       "..                   ...          ...         ...                 ...   \n",
       "240  Rainforests NSW-Qld  TOOL_1_UNSW  2020-12-02      Robert Kooyman   \n",
       "241            SthnNSWRF    UppClyde1  2021-11-29         David Keith   \n",
       "242         UplandBasalt     WINGE115  2016-01-08  Alexandria Thomsen   \n",
       "243         UplandBasalt     WINGE115  2020-11-12  Alexandria Thomsen   \n",
       "244         UplandBasalt    WSC-GC-37  2020-10-15        Jedda Lemmen   \n",
       "\n",
       "     samples  records  \n",
       "0          4      118  \n",
       "1          4       49  \n",
       "2          4      102  \n",
       "3          4      108  \n",
       "4          4       94  \n",
       "..       ...      ...  \n",
       "240        6      165  \n",
       "241        0        0  \n",
       "242        0        0  \n",
       "243        3       45  \n",
       "244        5       53  \n",
       "\n",
       "[245 rows x 6 columns]"
      ]
     },
     "execution_count": 10,
     "metadata": {},
     "output_type": "execute_result"
    }
   ],
   "source": [
    "site_visits_v1_1"
   ]
  },
  {
   "cell_type": "markdown",
   "id": "8f6a26dc-17b9-4b4e-8bf6-43dd696588d9",
   "metadata": {},
   "source": [
    "We now print a summary of all visits with vegetation records:"
   ]
  },
  {
   "cell_type": "code",
   "execution_count": 11,
   "id": "a6c43c04-e796-4ca7-a23f-ad0d6ad68e3e",
   "metadata": {},
   "outputs": [],
   "source": [
    "ss10=site_visits_v1_0[site_visits_v1_0.records>0]\n",
    "ss11=site_visits_v1_1[site_visits_v1_1.records>0]"
   ]
  },
  {
   "cell_type": "code",
   "execution_count": 18,
   "id": "56ece03a-de8e-409f-9f9a-6689e7a20f88",
   "metadata": {},
   "outputs": [],
   "source": [
    "msg=\"\"\"\n",
    "**Version {}**: There are {} surveys, {} sites, and {} visits by {} main observers.\n",
    "There are {} samples and {} records.\n",
    "\"\"\""
   ]
  },
  {
   "cell_type": "code",
   "execution_count": 19,
   "id": "86d171cd-06e8-456c-a13c-036509ac4ce1",
   "metadata": {},
   "outputs": [
    {
     "data": {
      "text/markdown": [
       "\n",
       "**Version v1.0**: There are 10 surveys, 153 sites, and 178 visits by 11 main observers.\n",
       "There are 1270 samples and 19242 records.\n"
      ],
      "text/plain": [
       "<IPython.core.display.Markdown object>"
      ]
     },
     "metadata": {},
     "output_type": "display_data"
    },
    {
     "data": {
      "text/markdown": [
       "\n",
       "**Version v1.1**: There are 10 surveys, 146 sites, and 170 visits by 10 main observers.\n",
       "There are 1224 samples and 18397 records.\n"
      ],
      "text/plain": [
       "<IPython.core.display.Markdown object>"
      ]
     },
     "metadata": {},
     "output_type": "display_data"
    }
   ],
   "source": [
    "prg1 = msg.format(\n",
    "    \"v1.0\",\n",
    "    ss10.survey.unique().size,\n",
    "    ss10.site_label.unique().size,\n",
    "    ss10.shape[0],\n",
    "    ss10.observer.unique().size,\n",
    "    ss10.samples.sum(),\n",
    "    ss10.records.sum()\n",
    ")\n",
    "prg2 = msg.format(\n",
    "    \"v1.1\",\n",
    "    ss11.survey.unique().size,\n",
    "    ss11.site_label.unique().size,\n",
    "    ss11.shape[0],\n",
    "    ss11.observer.unique().size,\n",
    "    ss11.samples.sum(),\n",
    "    ss11.records.sum()\n",
    ")\n",
    "display(Markdown(prg1))\n",
    "display(Markdown(prg2))"
   ]
  },
  {
   "cell_type": "markdown",
   "id": "4e583efd-d0a4-4ae1-9870-e5f65a1fb66f",
   "metadata": {},
   "source": [
    "#### Mallee Woodlands\n"
   ]
  },
  {
   "cell_type": "markdown",
   "id": "3494c7d8-9aec-4d99-8056-bf3b576d465f",
   "metadata": {},
   "source": [
    "We compare the results for one of the surveys:\n"
   ]
  },
  {
   "cell_type": "code",
   "execution_count": 24,
   "id": "e7dd43ae-2b9a-4bbc-ab39-57c48ac989a3",
   "metadata": {},
   "outputs": [],
   "source": [
    "ss10=site_visits_v1_0[site_visits_v1_0['survey'] == 'Mallee Woodlands']\n",
    "ss11=site_visits_v1_1[site_visits_v1_1['survey'] == 'Mallee Woodlands']"
   ]
  },
  {
   "cell_type": "code",
   "execution_count": 25,
   "id": "e1adcc9c-5134-45bb-a2b4-783142798db2",
   "metadata": {},
   "outputs": [
    {
     "data": {
      "text/markdown": [
       "\n",
       "**Version v1.0**: There are 1 surveys, 66 sites, and 93 visits by 7 main observers.\n",
       "There are 526 samples and 8588 records.\n"
      ],
      "text/plain": [
       "<IPython.core.display.Markdown object>"
      ]
     },
     "metadata": {},
     "output_type": "display_data"
    },
    {
     "data": {
      "text/markdown": [
       "\n",
       "**Version v1.1**: There are 1 surveys, 66 sites, and 93 visits by 7 main observers.\n",
       "There are 526 samples and 8588 records.\n"
      ],
      "text/plain": [
       "<IPython.core.display.Markdown object>"
      ]
     },
     "metadata": {},
     "output_type": "display_data"
    }
   ],
   "source": [
    "prg1 = msg.format(\n",
    "    \"v1.0\",\n",
    "    ss10.survey.unique().size,\n",
    "    ss10.site_label.unique().size,\n",
    "    ss10.shape[0],\n",
    "    ss10.observer.unique().size,\n",
    "    ss10.samples.sum(),\n",
    "    ss10.records.sum()\n",
    ")\n",
    "prg2 = msg.format(\n",
    "    \"v1.1\",\n",
    "    ss11.survey.unique().size,\n",
    "    ss11.site_label.unique().size,\n",
    "    ss11.shape[0],\n",
    "    ss11.observer.unique().size,\n",
    "    ss11.samples.sum(),\n",
    "    ss11.records.sum()\n",
    ")\n",
    "display(Markdown(prg1))\n",
    "display(Markdown(prg2))"
   ]
  },
  {
   "cell_type": "markdown",
   "id": "045c334d-f801-4373-9188-c0eed7dd938d",
   "metadata": {
    "jp-MarkdownHeadingCollapsed": true
   },
   "source": [
    "### Species in field samples"
   ]
  },
  {
   "cell_type": "code",
   "execution_count": 26,
   "id": "f83c9813-3ef1-4e5e-b0a5-d5103c2fd8b1",
   "metadata": {},
   "outputs": [],
   "source": [
    "qry = \"\"\"\n",
    "SELECT DISTINCT species,species_code\n",
    "FROM form.quadrat_samples\n",
    "WHERE species_code is not NULL\n",
    ";\n",
    "\"\"\"\n",
    "colnames=['species','species_code']"
   ]
  },
  {
   "cell_type": "code",
   "execution_count": 27,
   "id": "2790f5af-153b-4b4e-9d59-fe3274ed225f",
   "metadata": {},
   "outputs": [],
   "source": [
    "res = dbquery(qry,db_v1_0)\n",
    "quadrats_v1_0 = pd.DataFrame(res,columns=colnames)\n",
    "res = dbquery(qry,db_v1_1)\n",
    "quadrats_v1_1 = pd.DataFrame(res,columns=colnames)"
   ]
  },
  {
   "cell_type": "code",
   "execution_count": 28,
   "id": "4ab3aad4-2aa8-4333-8a53-8c938bcaa689",
   "metadata": {},
   "outputs": [
    {
     "data": {
      "text/html": [
       "<div>\n",
       "<style scoped>\n",
       "    .dataframe tbody tr th:only-of-type {\n",
       "        vertical-align: middle;\n",
       "    }\n",
       "\n",
       "    .dataframe tbody tr th {\n",
       "        vertical-align: top;\n",
       "    }\n",
       "\n",
       "    .dataframe thead th {\n",
       "        text-align: right;\n",
       "    }\n",
       "</style>\n",
       "<table border=\"1\" class=\"dataframe\">\n",
       "  <thead>\n",
       "    <tr style=\"text-align: right;\">\n",
       "      <th></th>\n",
       "      <th>species</th>\n",
       "      <th>species_code</th>\n",
       "    </tr>\n",
       "  </thead>\n",
       "  <tbody>\n",
       "    <tr>\n",
       "      <th>0</th>\n",
       "      <td>Pyrrosia rupestris</td>\n",
       "      <td>8163</td>\n",
       "    </tr>\n",
       "    <tr>\n",
       "      <th>1</th>\n",
       "      <td>Leucanthemum vulgare</td>\n",
       "      <td>1560</td>\n",
       "    </tr>\n",
       "    <tr>\n",
       "      <th>2</th>\n",
       "      <td>Epacris breviflora</td>\n",
       "      <td>2591</td>\n",
       "    </tr>\n",
       "    <tr>\n",
       "      <th>3</th>\n",
       "      <td>Goodenia heterophylla</td>\n",
       "      <td>3190</td>\n",
       "    </tr>\n",
       "    <tr>\n",
       "      <th>4</th>\n",
       "      <td>Baumea rubiginosa</td>\n",
       "      <td>2302</td>\n",
       "    </tr>\n",
       "    <tr>\n",
       "      <th>...</th>\n",
       "      <td>...</td>\n",
       "      <td>...</td>\n",
       "    </tr>\n",
       "    <tr>\n",
       "      <th>962</th>\n",
       "      <td>Olearia pimeleoides var. pimeleoides</td>\n",
       "      <td>7258</td>\n",
       "    </tr>\n",
       "    <tr>\n",
       "      <th>963</th>\n",
       "      <td>Lophostemon confertus</td>\n",
       "      <td>4242</td>\n",
       "    </tr>\n",
       "    <tr>\n",
       "      <th>964</th>\n",
       "      <td>Stephania japonica</td>\n",
       "      <td>3690</td>\n",
       "    </tr>\n",
       "    <tr>\n",
       "      <th>965</th>\n",
       "      <td>Viola hederacea</td>\n",
       "      <td>6272</td>\n",
       "    </tr>\n",
       "    <tr>\n",
       "      <th>966</th>\n",
       "      <td>Scleranthus fasciculatus</td>\n",
       "      <td>11277</td>\n",
       "    </tr>\n",
       "  </tbody>\n",
       "</table>\n",
       "<p>967 rows × 2 columns</p>\n",
       "</div>"
      ],
      "text/plain": [
       "                                  species  species_code\n",
       "0                      Pyrrosia rupestris          8163\n",
       "1                    Leucanthemum vulgare          1560\n",
       "2                      Epacris breviflora          2591\n",
       "3                   Goodenia heterophylla          3190\n",
       "4                       Baumea rubiginosa          2302\n",
       "..                                    ...           ...\n",
       "962  Olearia pimeleoides var. pimeleoides          7258\n",
       "963                 Lophostemon confertus          4242\n",
       "964                    Stephania japonica          3690\n",
       "965                       Viola hederacea          6272\n",
       "966              Scleranthus fasciculatus         11277\n",
       "\n",
       "[967 rows x 2 columns]"
      ]
     },
     "execution_count": 28,
     "metadata": {},
     "output_type": "execute_result"
    }
   ],
   "source": [
    "quadrats_v1_1"
   ]
  },
  {
   "cell_type": "code",
   "execution_count": 29,
   "id": "5dffe4f3-7377-4a00-ad08-b4efb673dbb1",
   "metadata": {},
   "outputs": [],
   "source": [
    "msg=\"\"\"\n",
    "**Version {}**: There are {} species with {} unique codes.\n",
    "\"\"\""
   ]
  },
  {
   "cell_type": "code",
   "execution_count": 30,
   "id": "943e1716-6037-4f4f-94a1-7f2a436d8bbe",
   "metadata": {},
   "outputs": [
    {
     "data": {
      "text/markdown": [
       "\n",
       "**Version v1.0**: There are 1043 species with 1047 unique codes.\n"
      ],
      "text/plain": [
       "<IPython.core.display.Markdown object>"
      ]
     },
     "metadata": {},
     "output_type": "display_data"
    },
    {
     "data": {
      "text/markdown": [
       "\n",
       "**Version v1.1**: There are 966 species with 966 unique codes.\n"
      ],
      "text/plain": [
       "<IPython.core.display.Markdown object>"
      ]
     },
     "metadata": {},
     "output_type": "display_data"
    }
   ],
   "source": [
    "prg1 = msg.format(\n",
    "    'v1.0',\n",
    "    quadrats_v1_0.species.unique().size,\n",
    "    quadrats_v1_0.species_code.unique().size\n",
    ")\n",
    "prg2 = msg.format(\n",
    "    'v1.1',\n",
    "    quadrats_v1_1.species.unique().size,\n",
    "    quadrats_v1_1.species_code.unique().size\n",
    ")\n",
    "display(Markdown(prg1))\n",
    "display(Markdown(prg2))"
   ]
  },
  {
   "cell_type": "markdown",
   "id": "375e27c2-9b88-4d7a-a740-7a77cca03ac1",
   "metadata": {},
   "source": [
    "### Traits from the literature"
   ]
  },
  {
   "cell_type": "markdown",
   "id": "e339c9ee-a6fd-4b39-9b3f-93d9388a5998",
   "metadata": {},
   "source": [
    "Read trait info into a data frame."
   ]
  },
  {
   "cell_type": "code",
   "execution_count": 56,
   "id": "e93fda1e-03a4-4be7-bbd6-3e626a8e1125",
   "metadata": {},
   "outputs": [],
   "source": [
    "qry = \"select code,name,description,value_type,life_stage,life_history_process,category_vocabulary,method_vocabulary from litrev.trait_info ;\"\n",
    "res = dbquery(qry,db_v1_1)\n",
    "data = pd.DataFrame(res)\n",
    "trait_info=data.rename(columns={0:\"Trait code\", 1:\"Trait name\", 2:\"Description\", 4:\"Life stage\", 5:\"Life history process\",  3:\"Value type\",6:\"category_vocabulary\",7:\"method_vocabulary\"})\n"
   ]
  },
  {
   "cell_type": "code",
   "execution_count": 57,
   "id": "5f847b7f-b8a0-4aac-b124-3885ce17ca01",
   "metadata": {},
   "outputs": [
    {
     "data": {
      "text/plain": [
       "(38, 8)"
      ]
     },
     "execution_count": 57,
     "metadata": {},
     "output_type": "execute_result"
    }
   ],
   "source": [
    "trait_info.shape"
   ]
  },
  {
   "cell_type": "markdown",
   "id": "ad78e43f-7c3c-4eb3-b03b-c031caaea95c",
   "metadata": {},
   "source": [
    "Count how many are categorical, etc."
   ]
  },
  {
   "cell_type": "code",
   "execution_count": 58,
   "id": "0d207dcd-cfc2-495b-ac0c-a15f41383018",
   "metadata": {},
   "outputs": [
    {
     "data": {
      "text/plain": [
       "Value type\n",
       "categorical    14\n",
       "numerical      10\n",
       "TBA             6\n",
       "numeric         4\n",
       "TO DO           3\n",
       "text            1\n",
       "Name: count, dtype: int64"
      ]
     },
     "execution_count": 58,
     "metadata": {},
     "output_type": "execute_result"
    }
   ],
   "source": [
    "trait_info['Value type'].value_counts()"
   ]
  },
  {
   "cell_type": "code",
   "execution_count": 59,
   "id": "f98f1337-c9f0-4df1-a3a1-905f78435a2d",
   "metadata": {},
   "outputs": [
    {
     "data": {
      "text/plain": [
       "Life stage\n",
       "Standing plant    21\n",
       "Seed              13\n",
       "Seedling           4\n",
       "Name: count, dtype: int64"
      ]
     },
     "execution_count": 59,
     "metadata": {},
     "output_type": "execute_result"
    }
   ],
   "source": [
    "trait_info['Life stage'].value_counts()"
   ]
  },
  {
   "cell_type": "code",
   "execution_count": 60,
   "id": "48f37895-0269-4f02-bb59-d228b984da2d",
   "metadata": {},
   "outputs": [
    {
     "data": {
      "text/plain": [
       "Life history process\n",
       "Reproduction    11\n",
       "Germination     10\n",
       "Survival         7\n",
       "Growth           5\n",
       "Recruitment      4\n",
       "Dispersal        1\n",
       "Name: count, dtype: int64"
      ]
     },
     "execution_count": 60,
     "metadata": {},
     "output_type": "execute_result"
    }
   ],
   "source": [
    "trait_info['Life history process'].value_counts()"
   ]
  },
  {
   "cell_type": "markdown",
   "id": "b66ce4b0-4a13-4615-b90d-1de53ed154d2",
   "metadata": {},
   "source": [
    "Overview of sources of trait data"
   ]
  },
  {
   "cell_type": "code",
   "execution_count": 61,
   "id": "19ef6988-4f08-4880-a514-24f3cec35da7",
   "metadata": {},
   "outputs": [],
   "source": [
    "qry=\"\"\"\n",
    "    SELECT 'repr2' AS table_name, main_source, species, species_code FROM litrev.repr2\n",
    "    UNION SELECT 'germ8' AS table_name, main_source, species, species_code FROM litrev.germ8\n",
    "    UNION SELECT 'rect2' AS table_name, main_source, species, species_code FROM litrev.rect2\n",
    "    UNION SELECT 'germ1' AS table_name, main_source, species, species_code FROM litrev.germ1\n",
    "    UNION SELECT 'grow1' AS table_name, main_source, species, species_code FROM litrev.grow1\n",
    "    UNION SELECT 'repr4' AS table_name, main_source, species, species_code FROM litrev.repr4\n",
    "    UNION SELECT 'surv5' AS table_name, main_source, species, species_code FROM litrev.surv5\n",
    "    UNION SELECT 'surv6' AS table_name, main_source, species, species_code FROM litrev.surv6\n",
    "    UNION SELECT 'surv7' AS table_name, main_source, species, species_code FROM litrev.surv7\n",
    "    UNION SELECT 'disp1' AS table_name, main_source, species, species_code FROM litrev.disp1\n",
    "    UNION SELECT 'repr3' AS table_name, main_source, species, species_code FROM litrev.repr3a\n",
    "    UNION SELECT 'repr3a' AS table_name, main_source, species, species_code FROM litrev.repr3\n",
    "    UNION SELECT 'surv4' AS table_name, main_source, species, species_code FROM litrev.surv4\n",
    "    UNION SELECT 'surv1' AS table_name, main_source, species, species_code FROM litrev.surv1\n",
    ";\n",
    "\"\"\"\n",
    "colnames=['traits', 'source', 'species', 'species_code']\n"
   ]
  },
  {
   "cell_type": "code",
   "execution_count": 62,
   "id": "2aadf0c0-9196-4e5e-a0c3-e6c87749019a",
   "metadata": {},
   "outputs": [],
   "source": [
    "res = dbquery(qry,db_v1_0)\n",
    "lit_traits_v1_0 = pd.DataFrame(res,columns=colnames)\n",
    "res = dbquery(qry,db_v1_1)\n",
    "lit_traits_v1_1 = pd.DataFrame(res,columns=colnames)"
   ]
  },
  {
   "cell_type": "code",
   "execution_count": 63,
   "id": "55ddd80d-a1b7-4aac-ae6f-d1066559dc7e",
   "metadata": {},
   "outputs": [],
   "source": [
    "msg = \"\"\"\n",
    "**Version {}**: There are {} records from {} main sources. \n",
    "They include {} traits for {} species/taxa with {} unique species codes.\n",
    "\"\"\""
   ]
  },
  {
   "cell_type": "code",
   "execution_count": 64,
   "id": "cd9c50ba-cccf-4915-aef8-75e644f8e46a",
   "metadata": {},
   "outputs": [
    {
     "data": {
      "text/markdown": [
       "\n",
       "**Version v1.0**: There are 30414 records from 5 main sources. \n",
       "They include 14 traits for 12591 species/taxa with 7253 unique species codes.\n"
      ],
      "text/plain": [
       "<IPython.core.display.Markdown object>"
      ]
     },
     "metadata": {},
     "output_type": "display_data"
    },
    {
     "data": {
      "text/markdown": [
       "\n",
       "**Version v1.1**: There are 41836 records from 4 main sources. \n",
       "They include 14 traits for 18009 species/taxa with 7677 unique species codes.\n"
      ],
      "text/plain": [
       "<IPython.core.display.Markdown object>"
      ]
     },
     "metadata": {},
     "output_type": "display_data"
    }
   ],
   "source": [
    "prg1=msg.format(\n",
    "    'v1.0',\n",
    "    lit_traits_v1_0.shape[0],\n",
    "    lit_traits_v1_0.source.unique().size,\n",
    "    lit_traits_v1_0.traits.unique().size,\n",
    "    lit_traits_v1_0.species.unique().size,\n",
    "    lit_traits_v1_0.species_code.unique().size)\n",
    "prg2=msg.format(\n",
    "    'v1.1',\n",
    "    lit_traits_v1_1.shape[0],\n",
    "    lit_traits_v1_1.source.unique().size,\n",
    "    lit_traits_v1_1.traits.unique().size,\n",
    "    lit_traits_v1_1.species.unique().size,\n",
    "    lit_traits_v1_1.species_code.unique().size)\n",
    "display(Markdown(prg1))\n",
    "display(Markdown(prg2))"
   ]
  },
  {
   "cell_type": "code",
   "execution_count": 65,
   "id": "b70e73f3-6496-4b49-9a7b-a0e17d7d0dcc",
   "metadata": {},
   "outputs": [
    {
     "data": {
      "text/html": [
       "<div>\n",
       "<style scoped>\n",
       "    .dataframe tbody tr th:only-of-type {\n",
       "        vertical-align: middle;\n",
       "    }\n",
       "\n",
       "    .dataframe tbody tr th {\n",
       "        vertical-align: top;\n",
       "    }\n",
       "\n",
       "    .dataframe thead th {\n",
       "        text-align: right;\n",
       "    }\n",
       "</style>\n",
       "<table border=\"1\" class=\"dataframe\">\n",
       "  <thead>\n",
       "    <tr style=\"text-align: right;\">\n",
       "      <th></th>\n",
       "      <th></th>\n",
       "      <th>species</th>\n",
       "      <th>species_code</th>\n",
       "    </tr>\n",
       "    <tr>\n",
       "      <th>source</th>\n",
       "      <th>traits</th>\n",
       "      <th></th>\n",
       "      <th></th>\n",
       "    </tr>\n",
       "  </thead>\n",
       "  <tbody>\n",
       "    <tr>\n",
       "      <th>Bell Vollmer Gellie 1993</th>\n",
       "      <th>surv1</th>\n",
       "      <td>1</td>\n",
       "      <td>1</td>\n",
       "    </tr>\n",
       "    <tr>\n",
       "      <th rowspan=\"12\" valign=\"top\">NSWFFRDv2.1</th>\n",
       "      <th>germ1</th>\n",
       "      <td>1596</td>\n",
       "      <td>1596</td>\n",
       "    </tr>\n",
       "    <tr>\n",
       "      <th>grow1</th>\n",
       "      <td>32</td>\n",
       "      <td>32</td>\n",
       "    </tr>\n",
       "    <tr>\n",
       "      <th>rect2</th>\n",
       "      <td>1026</td>\n",
       "      <td>1026</td>\n",
       "    </tr>\n",
       "    <tr>\n",
       "      <th>repr2</th>\n",
       "      <td>138</td>\n",
       "      <td>138</td>\n",
       "    </tr>\n",
       "    <tr>\n",
       "      <th>repr3</th>\n",
       "      <td>655</td>\n",
       "      <td>655</td>\n",
       "    </tr>\n",
       "    <tr>\n",
       "      <th>repr3a</th>\n",
       "      <td>830</td>\n",
       "      <td>830</td>\n",
       "    </tr>\n",
       "    <tr>\n",
       "      <th>repr4</th>\n",
       "      <td>21</td>\n",
       "      <td>21</td>\n",
       "    </tr>\n",
       "    <tr>\n",
       "      <th>surv1</th>\n",
       "      <td>3044</td>\n",
       "      <td>3044</td>\n",
       "    </tr>\n",
       "    <tr>\n",
       "      <th>surv4</th>\n",
       "      <td>1257</td>\n",
       "      <td>1257</td>\n",
       "    </tr>\n",
       "    <tr>\n",
       "      <th>surv5</th>\n",
       "      <td>1196</td>\n",
       "      <td>1196</td>\n",
       "    </tr>\n",
       "    <tr>\n",
       "      <th>surv6</th>\n",
       "      <td>7</td>\n",
       "      <td>7</td>\n",
       "    </tr>\n",
       "    <tr>\n",
       "      <th>surv7</th>\n",
       "      <td>87</td>\n",
       "      <td>87</td>\n",
       "    </tr>\n",
       "    <tr>\n",
       "      <th>Ooi Myerscough Auld 2007</th>\n",
       "      <th>germ8</th>\n",
       "      <td>188</td>\n",
       "      <td>164</td>\n",
       "    </tr>\n",
       "    <tr>\n",
       "      <th rowspan=\"2\" valign=\"top\">austraits-3.0.2</th>\n",
       "      <th>disp1</th>\n",
       "      <td>9876</td>\n",
       "      <td>6253</td>\n",
       "    </tr>\n",
       "    <tr>\n",
       "      <th>surv1</th>\n",
       "      <td>10459</td>\n",
       "      <td>6555</td>\n",
       "    </tr>\n",
       "  </tbody>\n",
       "</table>\n",
       "</div>"
      ],
      "text/plain": [
       "                                 species  species_code\n",
       "source                   traits                       \n",
       "Bell Vollmer Gellie 1993 surv1         1             1\n",
       "NSWFFRDv2.1              germ1      1596          1596\n",
       "                         grow1        32            32\n",
       "                         rect2      1026          1026\n",
       "                         repr2       138           138\n",
       "                         repr3       655           655\n",
       "                         repr3a      830           830\n",
       "                         repr4        21            21\n",
       "                         surv1      3044          3044\n",
       "                         surv4      1257          1257\n",
       "                         surv5      1196          1196\n",
       "                         surv6         7             7\n",
       "                         surv7        87            87\n",
       "Ooi Myerscough Auld 2007 germ8       188           164\n",
       "austraits-3.0.2          disp1      9876          6253\n",
       "                         surv1     10459          6555"
      ]
     },
     "execution_count": 65,
     "metadata": {},
     "output_type": "execute_result"
    }
   ],
   "source": [
    "lit_traits_v1_0.groupby(['source','traits']).agg('count')"
   ]
  },
  {
   "cell_type": "code",
   "execution_count": 66,
   "id": "058dc2c0-39ca-4c7a-88e7-ef73c6329103",
   "metadata": {},
   "outputs": [
    {
     "data": {
      "text/html": [
       "<div>\n",
       "<style scoped>\n",
       "    .dataframe tbody tr th:only-of-type {\n",
       "        vertical-align: middle;\n",
       "    }\n",
       "\n",
       "    .dataframe tbody tr th {\n",
       "        vertical-align: top;\n",
       "    }\n",
       "\n",
       "    .dataframe thead th {\n",
       "        text-align: right;\n",
       "    }\n",
       "</style>\n",
       "<table border=\"1\" class=\"dataframe\">\n",
       "  <thead>\n",
       "    <tr style=\"text-align: right;\">\n",
       "      <th></th>\n",
       "      <th></th>\n",
       "      <th>species</th>\n",
       "      <th>species_code</th>\n",
       "    </tr>\n",
       "    <tr>\n",
       "      <th>source</th>\n",
       "      <th>traits</th>\n",
       "      <th></th>\n",
       "      <th></th>\n",
       "    </tr>\n",
       "  </thead>\n",
       "  <tbody>\n",
       "    <tr>\n",
       "      <th>Bell Vollmer Gellie 1993</th>\n",
       "      <th>surv1</th>\n",
       "      <td>1</td>\n",
       "      <td>1</td>\n",
       "    </tr>\n",
       "    <tr>\n",
       "      <th rowspan=\"12\" valign=\"top\">NSWFFRDv2.1</th>\n",
       "      <th>germ1</th>\n",
       "      <td>1596</td>\n",
       "      <td>1596</td>\n",
       "    </tr>\n",
       "    <tr>\n",
       "      <th>grow1</th>\n",
       "      <td>32</td>\n",
       "      <td>32</td>\n",
       "    </tr>\n",
       "    <tr>\n",
       "      <th>rect2</th>\n",
       "      <td>1026</td>\n",
       "      <td>1026</td>\n",
       "    </tr>\n",
       "    <tr>\n",
       "      <th>repr2</th>\n",
       "      <td>138</td>\n",
       "      <td>138</td>\n",
       "    </tr>\n",
       "    <tr>\n",
       "      <th>repr3</th>\n",
       "      <td>655</td>\n",
       "      <td>655</td>\n",
       "    </tr>\n",
       "    <tr>\n",
       "      <th>repr3a</th>\n",
       "      <td>830</td>\n",
       "      <td>830</td>\n",
       "    </tr>\n",
       "    <tr>\n",
       "      <th>repr4</th>\n",
       "      <td>21</td>\n",
       "      <td>21</td>\n",
       "    </tr>\n",
       "    <tr>\n",
       "      <th>surv1</th>\n",
       "      <td>3044</td>\n",
       "      <td>3044</td>\n",
       "    </tr>\n",
       "    <tr>\n",
       "      <th>surv4</th>\n",
       "      <td>1257</td>\n",
       "      <td>1257</td>\n",
       "    </tr>\n",
       "    <tr>\n",
       "      <th>surv5</th>\n",
       "      <td>1196</td>\n",
       "      <td>1196</td>\n",
       "    </tr>\n",
       "    <tr>\n",
       "      <th>surv6</th>\n",
       "      <td>7</td>\n",
       "      <td>7</td>\n",
       "    </tr>\n",
       "    <tr>\n",
       "      <th>surv7</th>\n",
       "      <td>87</td>\n",
       "      <td>87</td>\n",
       "    </tr>\n",
       "    <tr>\n",
       "      <th rowspan=\"5\" valign=\"top\">austraits-6.0.0</th>\n",
       "      <th>disp1</th>\n",
       "      <td>11246</td>\n",
       "      <td>6412</td>\n",
       "    </tr>\n",
       "    <tr>\n",
       "      <th>germ1</th>\n",
       "      <td>3230</td>\n",
       "      <td>1746</td>\n",
       "    </tr>\n",
       "    <tr>\n",
       "      <th>germ8</th>\n",
       "      <td>4077</td>\n",
       "      <td>1089</td>\n",
       "    </tr>\n",
       "    <tr>\n",
       "      <th>repr2</th>\n",
       "      <td>399</td>\n",
       "      <td>97</td>\n",
       "    </tr>\n",
       "    <tr>\n",
       "      <th>surv1</th>\n",
       "      <td>12993</td>\n",
       "      <td>6591</td>\n",
       "    </tr>\n",
       "  </tbody>\n",
       "</table>\n",
       "</div>"
      ],
      "text/plain": [
       "                                 species  species_code\n",
       "source                   traits                       \n",
       "Bell Vollmer Gellie 1993 surv1         1             1\n",
       "NSWFFRDv2.1              germ1      1596          1596\n",
       "                         grow1        32            32\n",
       "                         rect2      1026          1026\n",
       "                         repr2       138           138\n",
       "                         repr3       655           655\n",
       "                         repr3a      830           830\n",
       "                         repr4        21            21\n",
       "                         surv1      3044          3044\n",
       "                         surv4      1257          1257\n",
       "                         surv5      1196          1196\n",
       "                         surv6         7             7\n",
       "                         surv7        87            87\n",
       "austraits-6.0.0          disp1     11246          6412\n",
       "                         germ1      3230          1746\n",
       "                         germ8      4077          1089\n",
       "                         repr2       399            97\n",
       "                         surv1     12993          6591"
      ]
     },
     "execution_count": 66,
     "metadata": {},
     "output_type": "execute_result"
    }
   ],
   "source": [
    "lit_traits_v1_1.groupby(['source','traits']).agg('count')"
   ]
  },
  {
   "cell_type": "code",
   "execution_count": 69,
   "id": "66f7c830-4276-4996-9af9-854e067623bd",
   "metadata": {},
   "outputs": [
    {
     "data": {
      "text/html": [
       "<div>\n",
       "<style scoped>\n",
       "    .dataframe tbody tr th:only-of-type {\n",
       "        vertical-align: middle;\n",
       "    }\n",
       "\n",
       "    .dataframe tbody tr th {\n",
       "        vertical-align: top;\n",
       "    }\n",
       "\n",
       "    .dataframe thead tr th {\n",
       "        text-align: left;\n",
       "    }\n",
       "\n",
       "    .dataframe thead tr:last-of-type th {\n",
       "        text-align: right;\n",
       "    }\n",
       "</style>\n",
       "<table border=\"1\" class=\"dataframe\">\n",
       "  <thead>\n",
       "    <tr>\n",
       "      <th></th>\n",
       "      <th colspan=\"2\" halign=\"left\">species_code</th>\n",
       "    </tr>\n",
       "    <tr>\n",
       "      <th></th>\n",
       "      <th>nunique</th>\n",
       "      <th>count</th>\n",
       "    </tr>\n",
       "    <tr>\n",
       "      <th>source</th>\n",
       "      <th></th>\n",
       "      <th></th>\n",
       "    </tr>\n",
       "  </thead>\n",
       "  <tbody>\n",
       "    <tr>\n",
       "      <th>Bell Vollmer Gellie 1993</th>\n",
       "      <td>1</td>\n",
       "      <td>1</td>\n",
       "    </tr>\n",
       "    <tr>\n",
       "      <th>NSWFFRDv2.1</th>\n",
       "      <td>3001</td>\n",
       "      <td>9889</td>\n",
       "    </tr>\n",
       "    <tr>\n",
       "      <th>austraits-6.0.0</th>\n",
       "      <td>7515</td>\n",
       "      <td>15935</td>\n",
       "    </tr>\n",
       "  </tbody>\n",
       "</table>\n",
       "</div>"
      ],
      "text/plain": [
       "                         species_code       \n",
       "                              nunique  count\n",
       "source                                      \n",
       "Bell Vollmer Gellie 1993            1      1\n",
       "NSWFFRDv2.1                      3001   9889\n",
       "austraits-6.0.0                  7515  15935"
      ]
     },
     "execution_count": 69,
     "metadata": {},
     "output_type": "execute_result"
    }
   ],
   "source": [
    "lit_traits_v1_1.groupby(['source']).agg({\n",
    "    'species_code':[pd.Series.nunique,'count'],\n",
    "})"
   ]
  },
  {
   "cell_type": "markdown",
   "id": "1b11b4bf-b9f4-4fe1-bb64-6d790a52d274",
   "metadata": {},
   "source": [
    "Define queries we are going to use multiple times:"
   ]
  },
  {
   "cell_type": "code",
   "execution_count": 119,
   "id": "9237abbc-8f8a-47b4-bcd4-dcbd0f6d9679",
   "metadata": {},
   "outputs": [],
   "source": [
    "# Check comments on vocabularies\n",
    "qry_vocabulary = \"SELECT pg_catalog.obj_description(t.oid, 'pg_type')::json from pg_type t where typname = '%s';\" \n",
    "\n",
    "# Number of records per source\n",
    "qry_source = 'SELECT main_source,count(*) FROM litrev.%s GROUP BY main_source'\n",
    "# Number of records per value of categorical variable\n",
    "qry_values = ' select norm_value,count(*),count(distinct species),count(distinct species_code) from litrev.%s group by norm_value;'\n",
    "\n",
    "# Number of records per value of numerical variable\n",
    "qry_triplet = ' select best is NOT NULL as b, lower is NOT NULL as l, upper is NOT NULL as u,count(*),count(distinct species),count(distinct species_code) from litrev.%s group by b,l,u;'\n",
    "\n",
    "# Raw values when norm value is NULL \n",
    "qry_nulls = ' select raw_value,count(*),count(distinct species),count(distinct species_code) from litrev.%s where norm_value is NULL group by raw_value;'\n",
    "# Raw values when best/lower/upper are all NULL \n",
    "qry_triplet_nulls = 'select raw_value,count(*),count(distinct species),count(distinct species_code) from litrev.%s where best is NULL and lower is NULL and upper is NULL group by raw_value;'\n"
   ]
  },
  {
   "cell_type": "code",
   "execution_count": 35,
   "id": "9250b6e9-f15e-4697-a5cb-4575b3f85ce3",
   "metadata": {},
   "outputs": [],
   "source": [
    "qry = \"\"\"\n",
    "SELECT survey_name, species, species_code, \n",
    "    count(distinct record_id) as records, \n",
    "    count(distinct visit_id) as sites, \n",
    "    count(distinct visit_date) as visits, \n",
    "    count(distinct sample_nr) as samples       \n",
    "FROM form.quadrat_samples\n",
    "LEFT JOIN form.field_visit\n",
    "    USING(visit_id, visit_date)\n",
    "WHERE species_code IS NOT NULL\n",
    "GROUP BY survey_name,species, species_code;\n",
    "\"\"\"\n",
    "colnames=['survey', 'species', 'species_code', \n",
    "          'records', 'sites', 'visits', 'samples']\n"
   ]
  },
  {
   "cell_type": "code",
   "execution_count": 47,
   "id": "33e4ae60-2861-42b3-8f3c-cf94835d0501",
   "metadata": {},
   "outputs": [],
   "source": [
    "res = dbquery(qry,db_v1_1)\n",
    "field_stream_v1_1 = pd.DataFrame(res,columns=colnames)\n",
    "res = dbquery(qry,db_v1_0)\n",
    "field_stream_v1_0 = pd.DataFrame(res,columns=colnames)"
   ]
  },
  {
   "cell_type": "code",
   "execution_count": 52,
   "id": "d5bb556c-3105-4c8d-bb5b-a4a66fe3927a",
   "metadata": {},
   "outputs": [],
   "source": [
    "field_stream_v1_0['survey type'] = field_stream_v1_0['survey'] == \"Mallee Woodlands\"\n",
    "field_stream_v1_1['survey type'] = field_stream_v1_0['survey'] == \"Mallee Woodlands\""
   ]
  },
  {
   "cell_type": "code",
   "execution_count": 53,
   "id": "c61ef109-2c30-4707-8735-0101f583c431",
   "metadata": {},
   "outputs": [
    {
     "data": {
      "text/html": [
       "<div>\n",
       "<style scoped>\n",
       "    .dataframe tbody tr th:only-of-type {\n",
       "        vertical-align: middle;\n",
       "    }\n",
       "\n",
       "    .dataframe tbody tr th {\n",
       "        vertical-align: top;\n",
       "    }\n",
       "\n",
       "    .dataframe thead th {\n",
       "        text-align: right;\n",
       "    }\n",
       "</style>\n",
       "<table border=\"1\" class=\"dataframe\">\n",
       "  <thead>\n",
       "    <tr style=\"text-align: right;\">\n",
       "      <th></th>\n",
       "      <th>species</th>\n",
       "      <th>species_code</th>\n",
       "      <th>records</th>\n",
       "    </tr>\n",
       "    <tr>\n",
       "      <th>survey type</th>\n",
       "      <th></th>\n",
       "      <th></th>\n",
       "      <th></th>\n",
       "    </tr>\n",
       "  </thead>\n",
       "  <tbody>\n",
       "    <tr>\n",
       "      <th>False</th>\n",
       "      <td>830</td>\n",
       "      <td>830</td>\n",
       "      <td>9589</td>\n",
       "    </tr>\n",
       "    <tr>\n",
       "      <th>True</th>\n",
       "      <td>148</td>\n",
       "      <td>148</td>\n",
       "      <td>8356</td>\n",
       "    </tr>\n",
       "  </tbody>\n",
       "</table>\n",
       "</div>"
      ],
      "text/plain": [
       "             species  species_code  records\n",
       "survey type                                \n",
       "False            830           830     9589\n",
       "True             148           148     8356"
      ]
     },
     "execution_count": 53,
     "metadata": {},
     "output_type": "execute_result"
    }
   ],
   "source": [
    "field_stream_v1_1.groupby(['survey type',]).agg({\n",
    "    'species':pd.Series.nunique,\n",
    "    'species_code':pd.Series.nunique,\n",
    "    'records':sum,\n",
    "})"
   ]
  },
  {
   "cell_type": "code",
   "execution_count": 54,
   "id": "9d204222-2a63-4ce0-9296-969bc17c10b2",
   "metadata": {},
   "outputs": [
    {
     "data": {
      "text/html": [
       "<div>\n",
       "<style scoped>\n",
       "    .dataframe tbody tr th:only-of-type {\n",
       "        vertical-align: middle;\n",
       "    }\n",
       "\n",
       "    .dataframe tbody tr th {\n",
       "        vertical-align: top;\n",
       "    }\n",
       "\n",
       "    .dataframe thead th {\n",
       "        text-align: right;\n",
       "    }\n",
       "</style>\n",
       "<table border=\"1\" class=\"dataframe\">\n",
       "  <thead>\n",
       "    <tr style=\"text-align: right;\">\n",
       "      <th></th>\n",
       "      <th>species</th>\n",
       "      <th>species_code</th>\n",
       "      <th>records</th>\n",
       "    </tr>\n",
       "    <tr>\n",
       "      <th>survey type</th>\n",
       "      <th></th>\n",
       "      <th></th>\n",
       "      <th></th>\n",
       "    </tr>\n",
       "  </thead>\n",
       "  <tbody>\n",
       "    <tr>\n",
       "      <th>False</th>\n",
       "      <td>901</td>\n",
       "      <td>905</td>\n",
       "      <td>10484</td>\n",
       "    </tr>\n",
       "    <tr>\n",
       "      <th>True</th>\n",
       "      <td>148</td>\n",
       "      <td>148</td>\n",
       "      <td>8408</td>\n",
       "    </tr>\n",
       "  </tbody>\n",
       "</table>\n",
       "</div>"
      ],
      "text/plain": [
       "             species  species_code  records\n",
       "survey type                                \n",
       "False            901           905    10484\n",
       "True             148           148     8408"
      ]
     },
     "execution_count": 54,
     "metadata": {},
     "output_type": "execute_result"
    }
   ],
   "source": [
    "field_stream_v1_0.groupby(['survey type',]).agg({\n",
    "    'species':pd.Series.nunique,\n",
    "    'species_code':pd.Series.nunique,\n",
    "    'records':sum,\n",
    "})"
   ]
  },
  {
   "cell_type": "markdown",
   "id": "05aa3b8c-b795-4633-8222-372bb5d48101",
   "metadata": {},
   "source": [
    "# References\n",
    "This represents the existing sources data stream"
   ]
  },
  {
   "cell_type": "raw",
   "id": "197ec77f-2e18-455d-b3f4-a102279adfbc",
   "metadata": {},
   "source": [
    "\n",
    "select count(*) from litrev.surv1;\n",
    "\n",
    "# references for one trait\n",
    "select * from litrev.ref_list where ref_code IN (select distinct unnest(original_sources) from litrev.rect2);\n",
    "\n",
    "select main_source,count(*) from litrev.repr2 group by main_source;\n",
    "\n",
    "\n",
    "\n",
    "select raw_value,count(*) from litrev.disp1 where norm_value is NULL group by raw_value order by count DESC limit 15;"
   ]
  },
  {
   "cell_type": "code",
   "execution_count": 6,
   "id": "a92a08b1-7f52-41ef-8b47-8439b6a80fbf",
   "metadata": {},
   "outputs": [
    {
     "data": {
      "text/plain": [
       "[[309]]"
      ]
     },
     "execution_count": 6,
     "metadata": {},
     "output_type": "execute_result"
    }
   ],
   "source": [
    "qrystr = \"select count(*) from litrev.ref_list;\"\n",
    "dbquery(qrystr,db_v1_0)"
   ]
  },
  {
   "cell_type": "code",
   "execution_count": 7,
   "id": "44df2d8d-2d56-4261-89f5-3ec4954d3efd",
   "metadata": {},
   "outputs": [
    {
     "data": {
      "text/plain": [
       "[[347]]"
      ]
     },
     "execution_count": 7,
     "metadata": {},
     "output_type": "execute_result"
    }
   ],
   "source": [
    "dbquery(qrystr,db_v1_1)"
   ]
  },
  {
   "cell_type": "code",
   "execution_count": 77,
   "id": "2bef08ce-cce5-49d1-8fb1-fc45ac8f7690",
   "metadata": {},
   "outputs": [],
   "source": [
    "qry=\"\"\"\n",
    "    SELECT 'repr2' AS table_name, record_id, main_source, unnest(original_sources), \n",
    "        species, species_code FROM litrev.repr2\n",
    "    UNION SELECT 'germ8' AS table_name, record_id, main_source, unnest(original_sources), \n",
    "        species, species_code FROM litrev.germ8\n",
    "    UNION SELECT 'rect2' AS table_name, record_id, main_source, unnest(original_sources), \n",
    "        species, species_code FROM litrev.rect2\n",
    "    UNION SELECT 'germ1' AS table_name, record_id, main_source, unnest(original_sources), \n",
    "        species, species_code FROM litrev.germ1\n",
    "    UNION SELECT 'grow1' AS table_name, record_id, main_source, unnest(original_sources), \n",
    "        species, species_code FROM litrev.grow1\n",
    "    UNION SELECT 'repr4' AS table_name, record_id, main_source, unnest(original_sources), \n",
    "        species, species_code FROM litrev.repr4\n",
    "    UNION SELECT 'surv5' AS table_name, record_id, main_source, unnest(original_sources), \n",
    "        species, species_code FROM litrev.surv5\n",
    "    UNION SELECT 'surv6' AS table_name, record_id, main_source, unnest(original_sources), \n",
    "        species, species_code FROM litrev.surv6\n",
    "    UNION SELECT 'surv7' AS table_name, record_id, main_source, unnest(original_sources), \n",
    "        species, species_code FROM litrev.surv7\n",
    "    UNION SELECT 'disp1' AS table_name, record_id, main_source, unnest(original_sources), \n",
    "        species, species_code FROM litrev.disp1\n",
    "    UNION SELECT 'repr3' AS table_name, record_id, main_source, unnest(original_sources), \n",
    "        species, species_code FROM litrev.repr3a\n",
    "    UNION SELECT 'repr3a' AS table_name, record_id, main_source, unnest(original_sources), \n",
    "        species, species_code FROM litrev.repr3\n",
    "    UNION SELECT 'surv4' AS table_name, record_id, main_source, unnest(original_sources), \n",
    "        species, species_code FROM litrev.surv4\n",
    "    UNION SELECT 'surv1' AS table_name, record_id, main_source, unnest(original_sources), \n",
    "        species, species_code FROM litrev.surv1\n",
    ";\n",
    "\"\"\"\n",
    "colnames=['traits', 'rid', 'source', 'orig_source', 'species', 'species_code']\n"
   ]
  },
  {
   "cell_type": "code",
   "execution_count": 78,
   "id": "047add5b-3561-4950-a31e-45493759816b",
   "metadata": {},
   "outputs": [],
   "source": [
    "res = dbquery(qry,db_v1_0)\n",
    "lit_traits_v1_0 = pd.DataFrame(res,columns=colnames)\n",
    "res = dbquery(qry,db_v1_1)\n",
    "lit_traits_v1_1 = pd.DataFrame(res,columns=colnames)"
   ]
  },
  {
   "cell_type": "code",
   "execution_count": 79,
   "id": "34217c66-468e-44e5-835a-320fbe4eca97",
   "metadata": {},
   "outputs": [
    {
     "data": {
      "text/plain": [
       "410"
      ]
     },
     "execution_count": 79,
     "metadata": {},
     "output_type": "execute_result"
    }
   ],
   "source": [
    "len(lit_traits_v1_1['orig_source'].unique())"
   ]
  },
  {
   "cell_type": "code",
   "execution_count": 106,
   "id": "a58f6a3a-e31b-4902-87d5-42236f109e33",
   "metadata": {},
   "outputs": [],
   "source": [
    "ss = lit_traits_v1_1['species_code'].isnull()"
   ]
  },
  {
   "cell_type": "code",
   "execution_count": 108,
   "id": "32707b8c-fa61-4d6a-9377-bfcd708c7046",
   "metadata": {},
   "outputs": [
    {
     "data": {
      "text/html": [
       "<div>\n",
       "<style scoped>\n",
       "    .dataframe tbody tr th:only-of-type {\n",
       "        vertical-align: middle;\n",
       "    }\n",
       "\n",
       "    .dataframe tbody tr th {\n",
       "        vertical-align: top;\n",
       "    }\n",
       "\n",
       "    .dataframe thead th {\n",
       "        text-align: right;\n",
       "    }\n",
       "</style>\n",
       "<table border=\"1\" class=\"dataframe\">\n",
       "  <thead>\n",
       "    <tr style=\"text-align: right;\">\n",
       "      <th></th>\n",
       "      <th>rid</th>\n",
       "      <th>species_code</th>\n",
       "      <th>orig_source</th>\n",
       "    </tr>\n",
       "    <tr>\n",
       "      <th>source</th>\n",
       "      <th></th>\n",
       "      <th></th>\n",
       "      <th></th>\n",
       "    </tr>\n",
       "  </thead>\n",
       "  <tbody>\n",
       "    <tr>\n",
       "      <th>NSWFFRDv2.1</th>\n",
       "      <td>10417</td>\n",
       "      <td>2868</td>\n",
       "      <td>208</td>\n",
       "    </tr>\n",
       "    <tr>\n",
       "      <th>austraits-6.0.0</th>\n",
       "      <td>44832</td>\n",
       "      <td>7515</td>\n",
       "      <td>156</td>\n",
       "    </tr>\n",
       "  </tbody>\n",
       "</table>\n",
       "</div>"
      ],
      "text/plain": [
       "                   rid  species_code  orig_source\n",
       "source                                           \n",
       "NSWFFRDv2.1      10417          2868          208\n",
       "austraits-6.0.0  44832          7515          156"
      ]
     },
     "execution_count": 108,
     "metadata": {},
     "output_type": "execute_result"
    }
   ],
   "source": [
    "lit_traits_v1_1.loc[ss == False].groupby(['source']).agg({\n",
    "    'rid': pd.Series.nunique,\n",
    "    'species_code': pd.Series.nunique,\n",
    "    'orig_source':pd.Series.nunique\n",
    "})"
   ]
  },
  {
   "cell_type": "code",
   "execution_count": 110,
   "id": "9a6cc59b-bb53-43e9-881c-cddff6e82746",
   "metadata": {},
   "outputs": [
    {
     "data": {
      "text/html": [
       "<div>\n",
       "<style scoped>\n",
       "    .dataframe tbody tr th:only-of-type {\n",
       "        vertical-align: middle;\n",
       "    }\n",
       "\n",
       "    .dataframe tbody tr th {\n",
       "        vertical-align: top;\n",
       "    }\n",
       "\n",
       "    .dataframe thead th {\n",
       "        text-align: right;\n",
       "    }\n",
       "</style>\n",
       "<table border=\"1\" class=\"dataframe\">\n",
       "  <thead>\n",
       "    <tr style=\"text-align: right;\">\n",
       "      <th></th>\n",
       "      <th>traits</th>\n",
       "      <th>rid</th>\n",
       "      <th>source</th>\n",
       "      <th>orig_source</th>\n",
       "      <th>species</th>\n",
       "      <th>species_code</th>\n",
       "    </tr>\n",
       "  </thead>\n",
       "  <tbody>\n",
       "    <tr>\n",
       "      <th>1</th>\n",
       "      <td>disp1</td>\n",
       "      <td>68162</td>\n",
       "      <td>austraits-6.0.0</td>\n",
       "      <td>Barlow Clifford George McCusker 1981</td>\n",
       "      <td>Diploglottis campbellii</td>\n",
       "      <td>5889</td>\n",
       "    </tr>\n",
       "    <tr>\n",
       "      <th>2</th>\n",
       "      <td>disp1</td>\n",
       "      <td>68163</td>\n",
       "      <td>austraits-6.0.0</td>\n",
       "      <td>Barlow Clifford George McCusker 1981</td>\n",
       "      <td>Diploglottis australis</td>\n",
       "      <td>7432</td>\n",
       "    </tr>\n",
       "    <tr>\n",
       "      <th>8</th>\n",
       "      <td>disp1</td>\n",
       "      <td>68169</td>\n",
       "      <td>austraits-6.0.0</td>\n",
       "      <td>Barlow Clifford George McCusker 1981</td>\n",
       "      <td>Elattostachys nervosa</td>\n",
       "      <td>5914</td>\n",
       "    </tr>\n",
       "    <tr>\n",
       "      <th>9</th>\n",
       "      <td>disp1</td>\n",
       "      <td>68170</td>\n",
       "      <td>austraits-6.0.0</td>\n",
       "      <td>Barlow Clifford George McCusker 1981</td>\n",
       "      <td>Elattostachys xylocarpa</td>\n",
       "      <td>5915</td>\n",
       "    </tr>\n",
       "    <tr>\n",
       "      <th>13</th>\n",
       "      <td>disp1</td>\n",
       "      <td>68174</td>\n",
       "      <td>austraits-6.0.0</td>\n",
       "      <td>{Australian National Botanic Gardens} 2018</td>\n",
       "      <td>Acacia acinacea</td>\n",
       "      <td>3699</td>\n",
       "    </tr>\n",
       "    <tr>\n",
       "      <th>...</th>\n",
       "      <td>...</td>\n",
       "      <td>...</td>\n",
       "      <td>...</td>\n",
       "      <td>...</td>\n",
       "      <td>...</td>\n",
       "      <td>...</td>\n",
       "    </tr>\n",
       "    <tr>\n",
       "      <th>91009</th>\n",
       "      <td>surv7</td>\n",
       "      <td>168</td>\n",
       "      <td>NSWFFRDv2.1</td>\n",
       "      <td>RP Thesium australe</td>\n",
       "      <td>Thesium australe</td>\n",
       "      <td>5871</td>\n",
       "    </tr>\n",
       "    <tr>\n",
       "      <th>91010</th>\n",
       "      <td>surv7</td>\n",
       "      <td>169</td>\n",
       "      <td>NSWFFRDv2.1</td>\n",
       "      <td>RP Nowra heath-myrtle Triplarina nowraensis</td>\n",
       "      <td>Triplarina nowraensis</td>\n",
       "      <td>9618</td>\n",
       "    </tr>\n",
       "    <tr>\n",
       "      <th>91011</th>\n",
       "      <td>surv7</td>\n",
       "      <td>170</td>\n",
       "      <td>NSWFFRDv2.1</td>\n",
       "      <td>Benson McDougall Ecology Sydney Plant Species ...</td>\n",
       "      <td>Tristaniopsis laurina</td>\n",
       "      <td>4297</td>\n",
       "    </tr>\n",
       "    <tr>\n",
       "      <th>91012</th>\n",
       "      <td>surv7</td>\n",
       "      <td>171</td>\n",
       "      <td>NSWFFRDv2.1</td>\n",
       "      <td>RP Velleia perfoliata</td>\n",
       "      <td>Velleia perfoliata</td>\n",
       "      <td>3218</td>\n",
       "    </tr>\n",
       "    <tr>\n",
       "      <th>91013</th>\n",
       "      <td>surv7</td>\n",
       "      <td>173</td>\n",
       "      <td>NSWFFRDv2.1</td>\n",
       "      <td>RP Zieria involucrata</td>\n",
       "      <td>Zieria involucrata</td>\n",
       "      <td>5840</td>\n",
       "    </tr>\n",
       "  </tbody>\n",
       "</table>\n",
       "<p>59193 rows × 6 columns</p>\n",
       "</div>"
      ],
      "text/plain": [
       "      traits    rid           source   \n",
       "1      disp1  68162  austraits-6.0.0  \\\n",
       "2      disp1  68163  austraits-6.0.0   \n",
       "8      disp1  68169  austraits-6.0.0   \n",
       "9      disp1  68170  austraits-6.0.0   \n",
       "13     disp1  68174  austraits-6.0.0   \n",
       "...      ...    ...              ...   \n",
       "91009  surv7    168      NSWFFRDv2.1   \n",
       "91010  surv7    169      NSWFFRDv2.1   \n",
       "91011  surv7    170      NSWFFRDv2.1   \n",
       "91012  surv7    171      NSWFFRDv2.1   \n",
       "91013  surv7    173      NSWFFRDv2.1   \n",
       "\n",
       "                                             orig_source   \n",
       "1                   Barlow Clifford George McCusker 1981  \\\n",
       "2                   Barlow Clifford George McCusker 1981   \n",
       "8                   Barlow Clifford George McCusker 1981   \n",
       "9                   Barlow Clifford George McCusker 1981   \n",
       "13            {Australian National Botanic Gardens} 2018   \n",
       "...                                                  ...   \n",
       "91009                                RP Thesium australe   \n",
       "91010        RP Nowra heath-myrtle Triplarina nowraensis   \n",
       "91011  Benson McDougall Ecology Sydney Plant Species ...   \n",
       "91012                              RP Velleia perfoliata   \n",
       "91013                              RP Zieria involucrata   \n",
       "\n",
       "                       species species_code  \n",
       "1      Diploglottis campbellii         5889  \n",
       "2       Diploglottis australis         7432  \n",
       "8        Elattostachys nervosa         5914  \n",
       "9      Elattostachys xylocarpa         5915  \n",
       "13             Acacia acinacea         3699  \n",
       "...                        ...          ...  \n",
       "91009         Thesium australe         5871  \n",
       "91010    Triplarina nowraensis         9618  \n",
       "91011    Tristaniopsis laurina         4297  \n",
       "91012       Velleia perfoliata         3218  \n",
       "91013       Zieria involucrata         5840  \n",
       "\n",
       "[59193 rows x 6 columns]"
      ]
     },
     "execution_count": 110,
     "metadata": {},
     "output_type": "execute_result"
    }
   ],
   "source": [
    "lit_traits_v1_1.loc[ss == False]"
   ]
  },
  {
   "cell_type": "code",
   "execution_count": null,
   "id": "b334f8b6-eb4a-445a-b783-a1c616afef47",
   "metadata": {},
   "outputs": [],
   "source": []
  }
 ],
 "metadata": {
  "kernelspec": {
   "display_name": "Python 3 (ipykernel)",
   "language": "python",
   "name": "python3"
  },
  "language_info": {
   "codemirror_mode": {
    "name": "ipython",
    "version": 3
   },
   "file_extension": ".py",
   "mimetype": "text/x-python",
   "name": "python",
   "nbconvert_exporter": "python",
   "pygments_lexer": "ipython3",
   "version": "3.11.3"
  }
 },
 "nbformat": 4,
 "nbformat_minor": 5
}
